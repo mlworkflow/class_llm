{
  "cells": [
    {
      "cell_type": "code",
      "execution_count": 1,
      "metadata": {
        "id": "rCui7p4yj3GO"
      },
      "outputs": [],
      "source": [
        " #Install packages"
      ]
    },
    {
      "cell_type": "code",
      "execution_count": 2,
      "metadata": {
        "colab": {
          "base_uri": "https://localhost:8080/"
        },
        "id": "JJ0Vv_3DAeOA",
        "outputId": "1baef9aa-4d8f-49af-d98f-8ae77cb08c35"
      },
      "outputs": [
        {
          "name": "stdout",
          "output_type": "stream",
          "text": [
            "Your runtime has 33.6 gigabytes of available RAM\n",
            "\n",
            "You are using a high-RAM runtime!\n"
          ]
        }
      ],
      "source": [
        "from psutil import virtual_memory\n",
        "ram_gb = virtual_memory().total / 1e9\n",
        "print('Your runtime has {:.1f} gigabytes of available RAM\\n'.format(ram_gb))\n",
        "\n",
        "if ram_gb < 20:\n",
        "  print('Not using a high-RAM runtime')\n",
        "else:\n",
        "  print('You are using a high-RAM runtime!')"
      ]
    },
    {
      "cell_type": "markdown",
      "metadata": {
        "id": "NkD3SpcesF78"
      },
      "source": [
        "#**BERT + TFIDF-Weighting**"
      ]
    },
    {
      "cell_type": "code",
      "execution_count": 3,
      "metadata": {
        "colab": {
          "base_uri": "https://localhost:8080/"
        },
        "id": "H7rJ6a7V7EY9",
        "outputId": "2dfd944d-e91d-4759-c3ca-6ff4e44001e3"
      },
      "outputs": [
        {
          "name": "stderr",
          "output_type": "stream",
          "text": [
            "[nltk_data] Error loading stop_words: Package 'stop_words' not found\n",
            "[nltk_data]     in index\n",
            "[nltk_data] Downloading package punkt to\n",
            "[nltk_data]     C:\\Users\\paul-\\AppData\\Roaming\\nltk_data...\n",
            "[nltk_data]   Package punkt is already up-to-date!\n",
            "[nltk_data] Downloading package wordnet to\n",
            "[nltk_data]     C:\\Users\\paul-\\AppData\\Roaming\\nltk_data...\n",
            "[nltk_data]   Package wordnet is already up-to-date!\n"
          ]
        },
        {
          "data": {
            "text/plain": [
              "True"
            ]
          },
          "execution_count": 3,
          "metadata": {},
          "output_type": "execute_result"
        }
      ],
      "source": [
        "import nltk\n",
        "nltk.download('stop_words')\n",
        "nltk.download('punkt')\n",
        "nltk.download('wordnet')"
      ]
    },
    {
      "cell_type": "code",
      "execution_count": 4,
      "metadata": {
        "id": "FCzz2_FVLkwG"
      },
      "outputs": [
        {
          "name": "stderr",
          "output_type": "stream",
          "text": [
            "c:\\Users\\paul-\\anaconda3\\envs\\py311\\Lib\\site-packages\\tqdm\\auto.py:21: TqdmWarning: IProgress not found. Please update jupyter and ipywidgets. See https://ipywidgets.readthedocs.io/en/stable/user_install.html\n",
            "  from .autonotebook import tqdm as notebook_tqdm\n"
          ]
        },
        {
          "name": "stdout",
          "output_type": "stream",
          "text": [
            "WARNING:tensorflow:From c:\\Users\\paul-\\anaconda3\\envs\\py311\\Lib\\site-packages\\tf_keras\\src\\losses.py:2976: The name tf.losses.sparse_softmax_cross_entropy is deprecated. Please use tf.compat.v1.losses.sparse_softmax_cross_entropy instead.\n",
            "\n"
          ]
        }
      ],
      "source": [
        "from tensorflow.keras.preprocessing.text import Tokenizer\n",
        "from lightgbm import LGBMClassifier\n",
        "from nltk.stem import WordNetLemmatizer\n",
        "from nltk.corpus import stopwords\n",
        "import matplotlib.pyplot as plt\n",
        "\n",
        "import warnings\n",
        "import tensorflow as tf\n",
        "import pandas as pd\n",
        "import seaborn as sns\n",
        "from sklearn.ensemble import RandomForestClassifier\n",
        "import torch.nn as nn\n",
        "import numpy as np\n",
        "import torch\n",
        "from transformers import logging\n",
        "from keras.preprocessing.sequence import pad_sequences\n",
        "from transformers import AutoTokenizer, AutoModelForSequenceClassification, Trainer, TrainingArguments\n",
        "from transformers import logging\n",
        "logging.set_verbosity_error()\n",
        "from sklearn.pipeline import Pipeline\n",
        "from sklearn.feature_extraction.text import CountVectorizer, TfidfTransformer\n",
        "from sklearn.naive_bayes import MultinomialNB\n",
        "from transformers import  AutoModelForSequenceClassification\n",
        "from transformers import AutoTokenizer, Trainer, TrainingArguments\n",
        "from torch.utils.data import  Dataset\n",
        "from sklearn.metrics import precision_recall_fscore_support\n",
        "from sklearn.metrics import accuracy_score, precision_score, recall_score, f1_score\n",
        "\n",
        "import contractions\n",
        "import string\n",
        "import nltk\n",
        "from nltk.stem import WordNetLemmatizer\n",
        "from nltk.corpus import stopwords\n",
        "# Text cleaning\n",
        "import re\n",
        "from sklearn.model_selection import train_test_split\n",
        "\n",
        "\n",
        "from nltk.tokenize import word_tokenize\n",
        "# Transformers library for BERT\n",
        "from sklearn.metrics import classification_report, confusion_matrix\n"
      ]
    },
    {
      "cell_type": "code",
      "execution_count": 5,
      "metadata": {
        "colab": {
          "base_uri": "https://localhost:8080/",
          "height": 35
        },
        "id": "RuuFwEo1lnUC",
        "outputId": "fce58ea3-e7b4-4476-98f0-f43b73324710"
      },
      "outputs": [
        {
          "data": {
            "text/plain": [
              "<Figure size 640x480 with 0 Axes>"
            ]
          },
          "metadata": {},
          "output_type": "display_data"
        }
      ],
      "source": [
        "logging.set_verbosity_error()\n",
        "\n",
        "# Set style for plots\n",
        "sns.set_style(\"whitegrid\")\n",
        "sns.despine()\n",
        "plt.rc(\"figure\", autolayout=True)\n",
        "plt.rc(\"axes\", labelweight=\"bold\", labelsize=\"large\", titleweight=\"bold\", titlepad=10)\n",
        "\n",
        "# Define stop words for text cleaning\n",
        "stop_words = set(stopwords.words('english'))\n",
        "# Initialize lemmatizer for text cleaning\n",
        "lemmatizer = WordNetLemmatizer()\n",
        "\n",
        "warnings.filterwarnings('ignore')"
      ]
    },
    {
      "cell_type": "code",
      "execution_count": 6,
      "metadata": {
        "colab": {
          "base_uri": "https://localhost:8080/",
          "height": 293
        },
        "id": "DzClon-8lndY",
        "outputId": "6b2a0997-ca13-418b-c400-28c7086ec76a"
      },
      "outputs": [
        {
          "data": {
            "application/vnd.microsoft.datawrangler.viewer.v0+json": {
              "columns": [
                {
                  "name": "index",
                  "rawType": "int64",
                  "type": "integer"
                },
                {
                  "name": "title",
                  "rawType": "object",
                  "type": "string"
                },
                {
                  "name": "body",
                  "rawType": "object",
                  "type": "string"
                },
                {
                  "name": "ticket_type",
                  "rawType": "int64",
                  "type": "integer"
                },
                {
                  "name": "category",
                  "rawType": "int64",
                  "type": "integer"
                },
                {
                  "name": "sub_category1",
                  "rawType": "int64",
                  "type": "integer"
                },
                {
                  "name": "sub_category2",
                  "rawType": "int64",
                  "type": "integer"
                },
                {
                  "name": "business_service",
                  "rawType": "int64",
                  "type": "integer"
                },
                {
                  "name": "urgency",
                  "rawType": "int64",
                  "type": "integer"
                },
                {
                  "name": "impact",
                  "rawType": "int64",
                  "type": "integer"
                }
              ],
              "conversionMethod": "pd.DataFrame",
              "ref": "86ced7a7-4704-469f-957c-f62bca0729af",
              "rows": [
                [
                  "0",
                  "add to all seniors",
                  "tuesday december add seniors hello please add seniors he grade thank senior developer",
                  "1",
                  "4",
                  "1",
                  "7",
                  "36",
                  "3",
                  "4"
                ],
                [
                  "1",
                  "belgrade move computers details needed",
                  "wednesday march pm move details needed hi please text thing change text please proper configuration location information mandatory operating instances every computer please kind these information later then computer name production computer omit fill these instance os computer become part needed particular thank",
                  "1",
                  "6",
                  "22",
                  "21",
                  "45",
                  "3",
                  "4"
                ],
                [
                  "2",
                  "cannot add several as pm to their project staff",
                  "care sa ii ca la fusion ne sa parte was investigated by please conclusion attached urgent please raise sr have look well",
                  "0",
                  "1",
                  "36",
                  "0",
                  "67",
                  "1",
                  "3"
                ],
                [
                  "3",
                  "lose access to project portfolio",
                  "lose access portfolio dear please open incident restore access for file portfolio rd or th when have lost access restore please let know root cause such incident thanks senior consultant",
                  "0",
                  "4",
                  "51",
                  "78",
                  "46",
                  "1",
                  "3"
                ],
                [
                  "4",
                  "windows forced upgrade",
                  "re forced upgrade reminder hello currently running important work next lack upgrade possible december november forced upgrade reminder hello everyone upgraded workstation please disregard coming back announcement order inform upgrade mandatory possibility choose upgrade interval kindly asking give action possible estimated upgrade process complete approximately minutes please announcement attached file after proceed upgrade starting forced upgrade means upgrade process automatically workstation stop process assets upgraded date forced upgrade take notified least two times please understand responsibility backup files important note dependency remain version please notify possible workstation having less than free please article more information kb view article kb subscription store files please make files completely synchronized unlinking subscription please kb article more kb view article kb thank kind regards ext",
                  "1",
                  "5",
                  "15",
                  "88",
                  "32",
                  "3",
                  "4"
                ]
              ],
              "shape": {
                "columns": 9,
                "rows": 5
              }
            },
            "text/html": [
              "<div>\n",
              "<style scoped>\n",
              "    .dataframe tbody tr th:only-of-type {\n",
              "        vertical-align: middle;\n",
              "    }\n",
              "\n",
              "    .dataframe tbody tr th {\n",
              "        vertical-align: top;\n",
              "    }\n",
              "\n",
              "    .dataframe thead th {\n",
              "        text-align: right;\n",
              "    }\n",
              "</style>\n",
              "<table border=\"1\" class=\"dataframe\">\n",
              "  <thead>\n",
              "    <tr style=\"text-align: right;\">\n",
              "      <th></th>\n",
              "      <th>title</th>\n",
              "      <th>body</th>\n",
              "      <th>ticket_type</th>\n",
              "      <th>category</th>\n",
              "      <th>sub_category1</th>\n",
              "      <th>sub_category2</th>\n",
              "      <th>business_service</th>\n",
              "      <th>urgency</th>\n",
              "      <th>impact</th>\n",
              "    </tr>\n",
              "  </thead>\n",
              "  <tbody>\n",
              "    <tr>\n",
              "      <th>0</th>\n",
              "      <td>add to all seniors</td>\n",
              "      <td>tuesday december add seniors hello please add ...</td>\n",
              "      <td>1</td>\n",
              "      <td>4</td>\n",
              "      <td>1</td>\n",
              "      <td>7</td>\n",
              "      <td>36</td>\n",
              "      <td>3</td>\n",
              "      <td>4</td>\n",
              "    </tr>\n",
              "    <tr>\n",
              "      <th>1</th>\n",
              "      <td>belgrade move computers details needed</td>\n",
              "      <td>wednesday march pm move details needed hi plea...</td>\n",
              "      <td>1</td>\n",
              "      <td>6</td>\n",
              "      <td>22</td>\n",
              "      <td>21</td>\n",
              "      <td>45</td>\n",
              "      <td>3</td>\n",
              "      <td>4</td>\n",
              "    </tr>\n",
              "    <tr>\n",
              "      <th>2</th>\n",
              "      <td>cannot add several as pm to their project staff</td>\n",
              "      <td>care sa ii ca la fusion ne sa parte was invest...</td>\n",
              "      <td>0</td>\n",
              "      <td>1</td>\n",
              "      <td>36</td>\n",
              "      <td>0</td>\n",
              "      <td>67</td>\n",
              "      <td>1</td>\n",
              "      <td>3</td>\n",
              "    </tr>\n",
              "    <tr>\n",
              "      <th>3</th>\n",
              "      <td>lose access to project portfolio</td>\n",
              "      <td>lose access portfolio dear please open inciden...</td>\n",
              "      <td>0</td>\n",
              "      <td>4</td>\n",
              "      <td>51</td>\n",
              "      <td>78</td>\n",
              "      <td>46</td>\n",
              "      <td>1</td>\n",
              "      <td>3</td>\n",
              "    </tr>\n",
              "    <tr>\n",
              "      <th>4</th>\n",
              "      <td>windows forced upgrade</td>\n",
              "      <td>re forced upgrade reminder hello currently run...</td>\n",
              "      <td>1</td>\n",
              "      <td>5</td>\n",
              "      <td>15</td>\n",
              "      <td>88</td>\n",
              "      <td>32</td>\n",
              "      <td>3</td>\n",
              "      <td>4</td>\n",
              "    </tr>\n",
              "  </tbody>\n",
              "</table>\n",
              "</div>"
            ],
            "text/plain": [
              "                                             title  \\\n",
              "0                               add to all seniors   \n",
              "1           belgrade move computers details needed   \n",
              "2  cannot add several as pm to their project staff   \n",
              "3                 lose access to project portfolio   \n",
              "4                           windows forced upgrade   \n",
              "\n",
              "                                                body  ticket_type  category  \\\n",
              "0  tuesday december add seniors hello please add ...            1         4   \n",
              "1  wednesday march pm move details needed hi plea...            1         6   \n",
              "2  care sa ii ca la fusion ne sa parte was invest...            0         1   \n",
              "3  lose access portfolio dear please open inciden...            0         4   \n",
              "4  re forced upgrade reminder hello currently run...            1         5   \n",
              "\n",
              "   sub_category1  sub_category2  business_service  urgency  impact  \n",
              "0              1              7                36        3       4  \n",
              "1             22             21                45        3       4  \n",
              "2             36              0                67        1       3  \n",
              "3             51             78                46        1       3  \n",
              "4             15             88                32        3       4  "
            ]
          },
          "execution_count": 6,
          "metadata": {},
          "output_type": "execute_result"
        }
      ],
      "source": [
        "\n",
        "\n",
        "# Load and shuffle data\n",
        "df = pd.read_csv('http://prowess.co.ke/all_tickets.csv')\n",
        "df = df.sample(frac=1).reset_index(drop=True)\n",
        "df.head()\n"
      ]
    },
    {
      "cell_type": "code",
      "execution_count": 7,
      "metadata": {
        "colab": {
          "base_uri": "https://localhost:8080/",
          "height": 607
        },
        "id": "FP5Ae4ZFmM_z",
        "outputId": "35d24254-d606-41ec-ec1a-97a7bcd7fcdb"
      },
      "outputs": [
        {
          "data": {
            "image/png": "[encoded data removed]",
            "text/plain": [
              "<Figure size 800x600 with 1 Axes>"
            ]
          },
          "metadata": {},
          "output_type": "display_data"
        }
      ],
      "source": [
        "\n",
        "# Plot ticket counts by impact\n",
        "sns.set_style({'font.family':'serif', 'font.serif':['Computer Modern'], 'font_scale':'1.4'})\n",
        "df['impact'].value_counts().plot(kind='barh', figsize=(8, 6))\n",
        "plt.xlabel(\"Count Of Tickets\", labelpad=14)\n",
        "plt.ylabel(\"Impact\", labelpad=14)\n",
        "plt.title(\"Count of Tickets by Impact\", y=1.02)\n",
        "plt.show()"
      ]
    },
    {
      "cell_type": "code",
      "execution_count": 8,
      "metadata": {
        "colab": {
          "base_uri": "https://localhost:8080/"
        },
        "id": "Cpic5aEHlngh",
        "outputId": "6dbbfdc2-8278-49f4-a1bb-5125e68d1daf"
      },
      "outputs": [
        {
          "name": "stdout",
          "output_type": "stream",
          "text": [
            "<class 'pandas.core.frame.DataFrame'>\n",
            "RangeIndex: 48549 entries, 0 to 48548\n",
            "Data columns (total 9 columns):\n",
            " #   Column            Non-Null Count  Dtype \n",
            "---  ------            --------------  ----- \n",
            " 0   title             47837 non-null  object\n",
            " 1   body              48549 non-null  object\n",
            " 2   ticket_type       48549 non-null  int64 \n",
            " 3   category          48549 non-null  int64 \n",
            " 4   sub_category1     48549 non-null  int64 \n",
            " 5   sub_category2     48549 non-null  int64 \n",
            " 6   business_service  48549 non-null  int64 \n",
            " 7   urgency           48549 non-null  int64 \n",
            " 8   impact            48549 non-null  int64 \n",
            "dtypes: int64(7), object(2)\n",
            "memory usage: 3.3+ MB\n"
          ]
        }
      ],
      "source": [
        "df.info()"
      ]
    },
    {
      "cell_type": "code",
      "execution_count": 9,
      "metadata": {
        "colab": {
          "base_uri": "https://localhost:8080/",
          "height": 272
        },
        "id": "QXeXUUi1lnj3",
        "outputId": "86464008-17a0-468c-e7c4-2243339c98c3"
      },
      "outputs": [
        {
          "data": {
            "text/plain": [
              "impact\n",
              "4    34621\n",
              "3    13184\n",
              "0      471\n",
              "2      228\n",
              "1       45\n",
              "Name: count, dtype: int64"
            ]
          },
          "execution_count": 9,
          "metadata": {},
          "output_type": "execute_result"
        }
      ],
      "source": [
        "df.impact.value_counts()"
      ]
    },
    {
      "cell_type": "markdown",
      "metadata": {
        "id": "0mJxV5v1moNW"
      },
      "source": [
        "   Severity levels targeting for:\n",
        "\n",
        "---\n",
        "\n",
        "\n",
        "    Critical/severe.\n",
        "    Major/high.\n",
        "    Medium.\n",
        "    Minor/low."
      ]
    },
    {
      "cell_type": "code",
      "execution_count": 10,
      "metadata": {
        "colab": {
          "base_uri": "https://localhost:8080/",
          "height": 272
        },
        "id": "Vor7erN6lnqn",
        "outputId": "b646f3df-e48b-4e02-ce1c-fd8a2b21c45a"
      },
      "outputs": [
        {
          "data": {
            "text/plain": [
              "impact\n",
              "4    34621\n",
              "3    13184\n",
              "0      471\n",
              "2      228\n",
              "1       45\n",
              "Name: count, dtype: int64"
            ]
          },
          "execution_count": 10,
          "metadata": {},
          "output_type": "execute_result"
        }
      ],
      "source": [
        "df['impact'].value_counts()"
      ]
    },
    {
      "cell_type": "code",
      "execution_count": 11,
      "metadata": {
        "colab": {
          "base_uri": "https://localhost:8080/",
          "height": 606
        },
        "id": "mjly8T2iGDG3",
        "outputId": "e11b64ca-a37f-4dec-a9ae-7e4cd29f0d8d"
      },
      "outputs": [
        {
          "data": {
            "image/png": "[encoded data removed]",
            "text/plain": [
              "<Figure size 800x600 with 1 Axes>"
            ]
          },
          "metadata": {},
          "output_type": "display_data"
        }
      ],
      "source": [
        "sns.set_style({'font.family':'serif', 'font.serif':['Computer Modern'] ,'font_scale':'1.4'  })\n",
        "df['impact'].value_counts().plot(kind='barh', figsize=(8, 6))\n",
        "plt.xlabel(\"Count Of Tickets\", labelpad=14)\n",
        "plt.ylabel(\"Impact\", labelpad=14)\n",
        "plt.title(\"Count of Tickets by Impact\", y=1.02);"
      ]
    },
    {
      "cell_type": "markdown",
      "metadata": {
        "id": "eT4hdZsJnBsi"
      },
      "source": [
        "Text Cleaning"
      ]
    },
    {
      "cell_type": "code",
      "execution_count": 12,
      "metadata": {
        "id": "ptKi7Jl-ln7A"
      },
      "outputs": [],
      "source": [
        "#Text  Cleaning\n",
        "def strip_all_entities(body):\n",
        "    body = re.sub(r'\\r|\\n', ' ', body.lower())  # Replace newline and carriage return with space, and convert to lowercase\n",
        "    body = re.sub(r\"(?:\\@|https?\\://)\\S+\", \"\", body)  # Remove links\n",
        "    body = re.sub(r'[^\\x00-\\x7f]', '', body)  # Remove non-ASCII characters\n",
        "    banned_list = string.punctuation\n",
        "    table = str.maketrans('', '', banned_list)\n",
        "    body = body.translate(table)\n",
        "    body = ' '.join(word for word in body.split() if word not in stop_words)\n",
        "    return body\n",
        "# Filter special characters such as & and $ present in some words\n",
        "def filter_chars(body):\n",
        "    return ' '.join('' if ('$' in word) or ('&' in word) else word for word in body.split())\n",
        "\n",
        "# Remove multiple spaces\n",
        "def remove_mult_spaces(body):\n",
        "    return re.sub(r\"\\s\\s+\", \" \", body)\n",
        "# Expand contractions\n",
        "def expand_contractions(body):\n",
        "    return contractions.fix(body)\n",
        "# Remove numbers\n",
        "def remove_numbers(body):\n",
        "    return re.sub(r'\\d+', '', body)\n",
        "# Lemmatize words\n",
        "def lemmatize(body):\n",
        "    words = word_tokenize(body)\n",
        "    lemmatized_words = [lemmatizer.lemmatize(word) for word in words]\n",
        "    return ' '.join(lemmatized_words)\n",
        "# Remove short words\n",
        "def remove_short_words(body, min_len=2):\n",
        "    words = body.split()\n",
        "    long_words = [word for word in words if len(word) >= min_len]\n",
        "    return ' '.join(long_words)\n",
        "# Replace elongated words with their base form\n",
        "def replace_elongated_words(body):\n",
        "    regex_pattern = r'\\b(\\w+)((\\w)\\3{2,})(\\w*)\\b'\n",
        "    return re.sub(regex_pattern, r'\\1\\3\\4', body)\n",
        "# Remove repeated punctuation\n",
        "def remove_repeated_punctuation(body):\n",
        "    return re.sub(r'[\\?\\.\\!]+(?=[\\?\\.\\!])', '', body)\n",
        "# Remove extra whitespace\n",
        "def remove_extra_whitespace(body):\n",
        "    return ' '.join(body.split())\n",
        "def remove_url_shorteners(body):\n",
        "    return re.sub(r'(?:http[s]?://)?(?:www\\.)?(?:bit\\.ly|goo\\.gl|t\\.co|tinyurl\\.com|tr\\.im|is\\.gd|cli\\.gs|u\\.nu|url\\.ie|tiny\\.cc|alturl\\.com|ow\\.ly|bit\\.do|adoro\\.to)\\S+', '', body)\n",
        "# Remove short  tickets\n",
        "def remove_short_tickets(ticket, min_words=0):    # We do not need this , real data world is not forgiving\n",
        "    words = ticket.split()\n",
        "    return ticket if len(words) >= min_words else \"\""
      ]
    },
    {
      "cell_type": "code",
      "execution_count": 13,
      "metadata": {
        "id": "_p_i15auln-P"
      },
      "outputs": [],
      "source": [
        "# Function to call all the cleaning functions in the correct order\n",
        "def clean_ticket(ticket):\n",
        "    ticket = expand_contractions(ticket)\n",
        "    ticket = strip_all_entities(ticket)\n",
        "    ticket = filter_chars(ticket)\n",
        "    ticket = remove_mult_spaces(ticket)\n",
        "    ticket = remove_numbers(ticket)\n",
        "    ticket = lemmatize(ticket)\n",
        "    ticket = remove_short_words(ticket)\n",
        "    ticket = replace_elongated_words(ticket)\n",
        "    ticket = remove_repeated_punctuation(ticket)\n",
        "    ticket = remove_extra_whitespace(ticket)\n",
        "    ticket = remove_url_shorteners(ticket)\n",
        "    ticket = remove_short_tickets(ticket)\n",
        "    ticket = ' '.join(ticket.split())  # Remove multiple spaces between words\n",
        "    return ticket"
      ]
    },
    {
      "cell_type": "code",
      "execution_count": 14,
      "metadata": {
        "colab": {
          "base_uri": "https://localhost:8080/"
        },
        "id": "mfDAmW7KdClF",
        "outputId": "6efc2ecc-95ce-4dde-adc6-b592040c5d5e"
      },
      "outputs": [
        {
          "name": "stderr",
          "output_type": "stream",
          "text": [
            "[nltk_data] Downloading package punkt_tab to\n",
            "[nltk_data]     C:\\Users\\paul-\\AppData\\Roaming\\nltk_data...\n",
            "[nltk_data]   Package punkt_tab is already up-to-date!\n"
          ]
        },
        {
          "data": {
            "text/plain": [
              "True"
            ]
          },
          "execution_count": 14,
          "metadata": {},
          "output_type": "execute_result"
        }
      ],
      "source": [
        "nltk.download('punkt_tab')"
      ]
    },
    {
      "cell_type": "code",
      "execution_count": 15,
      "metadata": {
        "id": "vbVR9kUdloBa"
      },
      "outputs": [],
      "source": [
        "df['text_clean'] = [clean_ticket(ticket) for ticket in df['body']]"
      ]
    },
    {
      "cell_type": "code",
      "execution_count": 16,
      "metadata": {
        "id": "zoLl4xf-g4Rh"
      },
      "outputs": [],
      "source": [
        "df['label'] = df['impact'] + df['urgency']"
      ]
    },
    {
      "cell_type": "code",
      "execution_count": 17,
      "metadata": {
        "colab": {
          "base_uri": "https://localhost:8080/",
          "height": 449
        },
        "id": "p2mdpRrlloEy",
        "outputId": "0f7c5c94-bf7a-49bd-c536-a6be5f341b08"
      },
      "outputs": [
        {
          "data": {
            "application/vnd.microsoft.datawrangler.viewer.v0+json": {
              "columns": [
                {
                  "name": "index",
                  "rawType": "int64",
                  "type": "integer"
                },
                {
                  "name": "title",
                  "rawType": "object",
                  "type": "string"
                },
                {
                  "name": "body",
                  "rawType": "object",
                  "type": "string"
                },
                {
                  "name": "ticket_type",
                  "rawType": "int64",
                  "type": "integer"
                },
                {
                  "name": "category",
                  "rawType": "int64",
                  "type": "integer"
                },
                {
                  "name": "sub_category1",
                  "rawType": "int64",
                  "type": "integer"
                },
                {
                  "name": "sub_category2",
                  "rawType": "int64",
                  "type": "integer"
                },
                {
                  "name": "business_service",
                  "rawType": "int64",
                  "type": "integer"
                },
                {
                  "name": "urgency",
                  "rawType": "int64",
                  "type": "integer"
                },
                {
                  "name": "impact",
                  "rawType": "int64",
                  "type": "integer"
                },
                {
                  "name": "text_clean",
                  "rawType": "object",
                  "type": "string"
                },
                {
                  "name": "label",
                  "rawType": "int64",
                  "type": "integer"
                }
              ],
              "conversionMethod": "pd.DataFrame",
              "ref": "9db04c3b-9db8-484a-8b8c-bd6b52b384e5",
              "rows": [
                [
                  "0",
                  "add to all seniors",
                  "tuesday december add seniors hello please add seniors he grade thank senior developer",
                  "1",
                  "4",
                  "1",
                  "7",
                  "36",
                  "3",
                  "4",
                  "tuesday december add senior hello please add senior grade thank senior developer",
                  "7"
                ],
                [
                  "1",
                  "belgrade move computers details needed",
                  "wednesday march pm move details needed hi please text thing change text please proper configuration location information mandatory operating instances every computer please kind these information later then computer name production computer omit fill these instance os computer become part needed particular thank",
                  "1",
                  "6",
                  "22",
                  "21",
                  "45",
                  "3",
                  "4",
                  "wednesday march pm move detail needed hi please text thing change text please proper configuration location information mandatory operating instance every computer please kind information later computer name production computer omit fill instance computer become part needed particular thank",
                  "7"
                ],
                [
                  "2",
                  "cannot add several as pm to their project staff",
                  "care sa ii ca la fusion ne sa parte was investigated by please conclusion attached urgent please raise sr have look well",
                  "0",
                  "1",
                  "36",
                  "0",
                  "67",
                  "1",
                  "3",
                  "care sa ii ca la fusion ne sa parte investigated please conclusion attached urgent please raise sr look well",
                  "4"
                ],
                [
                  "3",
                  "lose access to project portfolio",
                  "lose access portfolio dear please open incident restore access for file portfolio rd or th when have lost access restore please let know root cause such incident thanks senior consultant",
                  "0",
                  "4",
                  "51",
                  "78",
                  "46",
                  "1",
                  "3",
                  "lose access portfolio dear please open incident restore access file portfolio rd th lost access restore please let know root incident thanks senior consultant",
                  "4"
                ],
                [
                  "4",
                  "windows forced upgrade",
                  "re forced upgrade reminder hello currently running important work next lack upgrade possible december november forced upgrade reminder hello everyone upgraded workstation please disregard coming back announcement order inform upgrade mandatory possibility choose upgrade interval kindly asking give action possible estimated upgrade process complete approximately minutes please announcement attached file after proceed upgrade starting forced upgrade means upgrade process automatically workstation stop process assets upgraded date forced upgrade take notified least two times please understand responsibility backup files important note dependency remain version please notify possible workstation having less than free please article more information kb view article kb subscription store files please make files completely synchronized unlinking subscription please kb article more kb view article kb thank kind regards ext",
                  "1",
                  "5",
                  "15",
                  "88",
                  "32",
                  "3",
                  "4",
                  "forced upgrade reminder hello currently running important work next lack upgrade possible december november forced upgrade reminder hello everyone upgraded workstation please disregard coming back announcement order inform upgrade mandatory possibility choose upgrade interval kindly asking give action possible estimated upgrade process complete approximately minute please announcement attached file proceed upgrade starting forced upgrade mean upgrade process automatically workstation stop process asset upgraded date forced upgrade take notified least two time please understand responsibility backup file important note dependency remain version please notify possible workstation less free please article information kb view article kb subscription store file please make file completely synchronized unlinking subscription please kb article kb view article kb thank kind regard ext",
                  "7"
                ]
              ],
              "shape": {
                "columns": 11,
                "rows": 5
              }
            },
            "text/html": [
              "<div>\n",
              "<style scoped>\n",
              "    .dataframe tbody tr th:only-of-type {\n",
              "        vertical-align: middle;\n",
              "    }\n",
              "\n",
              "    .dataframe tbody tr th {\n",
              "        vertical-align: top;\n",
              "    }\n",
              "\n",
              "    .dataframe thead th {\n",
              "        text-align: right;\n",
              "    }\n",
              "</style>\n",
              "<table border=\"1\" class=\"dataframe\">\n",
              "  <thead>\n",
              "    <tr style=\"text-align: right;\">\n",
              "      <th></th>\n",
              "      <th>title</th>\n",
              "      <th>body</th>\n",
              "      <th>ticket_type</th>\n",
              "      <th>category</th>\n",
              "      <th>sub_category1</th>\n",
              "      <th>sub_category2</th>\n",
              "      <th>business_service</th>\n",
              "      <th>urgency</th>\n",
              "      <th>impact</th>\n",
              "      <th>text_clean</th>\n",
              "      <th>label</th>\n",
              "    </tr>\n",
              "  </thead>\n",
              "  <tbody>\n",
              "    <tr>\n",
              "      <th>0</th>\n",
              "      <td>add to all seniors</td>\n",
              "      <td>tuesday december add seniors hello please add ...</td>\n",
              "      <td>1</td>\n",
              "      <td>4</td>\n",
              "      <td>1</td>\n",
              "      <td>7</td>\n",
              "      <td>36</td>\n",
              "      <td>3</td>\n",
              "      <td>4</td>\n",
              "      <td>tuesday december add senior hello please add s...</td>\n",
              "      <td>7</td>\n",
              "    </tr>\n",
              "    <tr>\n",
              "      <th>1</th>\n",
              "      <td>belgrade move computers details needed</td>\n",
              "      <td>wednesday march pm move details needed hi plea...</td>\n",
              "      <td>1</td>\n",
              "      <td>6</td>\n",
              "      <td>22</td>\n",
              "      <td>21</td>\n",
              "      <td>45</td>\n",
              "      <td>3</td>\n",
              "      <td>4</td>\n",
              "      <td>wednesday march pm move detail needed hi pleas...</td>\n",
              "      <td>7</td>\n",
              "    </tr>\n",
              "    <tr>\n",
              "      <th>2</th>\n",
              "      <td>cannot add several as pm to their project staff</td>\n",
              "      <td>care sa ii ca la fusion ne sa parte was invest...</td>\n",
              "      <td>0</td>\n",
              "      <td>1</td>\n",
              "      <td>36</td>\n",
              "      <td>0</td>\n",
              "      <td>67</td>\n",
              "      <td>1</td>\n",
              "      <td>3</td>\n",
              "      <td>care sa ii ca la fusion ne sa parte investigat...</td>\n",
              "      <td>4</td>\n",
              "    </tr>\n",
              "    <tr>\n",
              "      <th>3</th>\n",
              "      <td>lose access to project portfolio</td>\n",
              "      <td>lose access portfolio dear please open inciden...</td>\n",
              "      <td>0</td>\n",
              "      <td>4</td>\n",
              "      <td>51</td>\n",
              "      <td>78</td>\n",
              "      <td>46</td>\n",
              "      <td>1</td>\n",
              "      <td>3</td>\n",
              "      <td>lose access portfolio dear please open inciden...</td>\n",
              "      <td>4</td>\n",
              "    </tr>\n",
              "    <tr>\n",
              "      <th>4</th>\n",
              "      <td>windows forced upgrade</td>\n",
              "      <td>re forced upgrade reminder hello currently run...</td>\n",
              "      <td>1</td>\n",
              "      <td>5</td>\n",
              "      <td>15</td>\n",
              "      <td>88</td>\n",
              "      <td>32</td>\n",
              "      <td>3</td>\n",
              "      <td>4</td>\n",
              "      <td>forced upgrade reminder hello currently runnin...</td>\n",
              "      <td>7</td>\n",
              "    </tr>\n",
              "  </tbody>\n",
              "</table>\n",
              "</div>"
            ],
            "text/plain": [
              "                                             title  \\\n",
              "0                               add to all seniors   \n",
              "1           belgrade move computers details needed   \n",
              "2  cannot add several as pm to their project staff   \n",
              "3                 lose access to project portfolio   \n",
              "4                           windows forced upgrade   \n",
              "\n",
              "                                                body  ticket_type  category  \\\n",
              "0  tuesday december add seniors hello please add ...            1         4   \n",
              "1  wednesday march pm move details needed hi plea...            1         6   \n",
              "2  care sa ii ca la fusion ne sa parte was invest...            0         1   \n",
              "3  lose access portfolio dear please open inciden...            0         4   \n",
              "4  re forced upgrade reminder hello currently run...            1         5   \n",
              "\n",
              "   sub_category1  sub_category2  business_service  urgency  impact  \\\n",
              "0              1              7                36        3       4   \n",
              "1             22             21                45        3       4   \n",
              "2             36              0                67        1       3   \n",
              "3             51             78                46        1       3   \n",
              "4             15             88                32        3       4   \n",
              "\n",
              "                                          text_clean  label  \n",
              "0  tuesday december add senior hello please add s...      7  \n",
              "1  wednesday march pm move detail needed hi pleas...      7  \n",
              "2  care sa ii ca la fusion ne sa parte investigat...      4  \n",
              "3  lose access portfolio dear please open inciden...      4  \n",
              "4  forced upgrade reminder hello currently runnin...      7  "
            ]
          },
          "execution_count": 17,
          "metadata": {},
          "output_type": "execute_result"
        }
      ],
      "source": [
        "df.head()"
      ]
    },
    {
      "cell_type": "code",
      "execution_count": 18,
      "metadata": {
        "id": "ARdC2UxxloLj"
      },
      "outputs": [],
      "source": [
        "#df['labels'] = df['impact'].apply(lambda x: 0 if x == 0  else ( 0 if x == 1 else ( 0 if x == 2 else  ( 1 if x == 3 else  ( 2 if x == 4 else x ) )  )  ))\n",
        "#df['labels'] = df['label'].apply(lambda x: 0 if x == 0  else ( 0 if x == 1 else ( 0 if x == 2 else  ( 0 if x == 3 else  ( 1 if x == 4 else  (2 if x == 4  else (3 if x == 5 else x )) ) )  )  ))\n",
        "df['labels'] = df['label'].apply(lambda x: 0 if x == 0  else ( 0 if x == 1 else ( 0 if x == 2 else  ( 0 if x == 3 else  ( 1 if x == 4 else  (2 if x == 5  else (3 if x == 7 else 3 )) ) )  )  ))\n"
      ]
    },
    {
      "cell_type": "code",
      "execution_count": 19,
      "metadata": {
        "colab": {
          "base_uri": "https://localhost:8080/"
        },
        "id": "SXmBlk0QloPI",
        "outputId": "4dc6d040-4228-4310-ac15-a28511ce0ca2"
      },
      "outputs": [
        {
          "data": {
            "text/plain": [
              "[3, 1, 0, 2]"
            ]
          },
          "execution_count": 19,
          "metadata": {},
          "output_type": "execute_result"
        }
      ],
      "source": [
        "labels = df['labels'].unique().tolist()\n",
        "labels"
      ]
    },
    {
      "cell_type": "code",
      "execution_count": 20,
      "metadata": {
        "colab": {
          "base_uri": "https://localhost:8080/"
        },
        "id": "IHs9H5whloSv",
        "outputId": "b4003870-fec9-42bb-c287-d0bf0c05cf99"
      },
      "outputs": [
        {
          "name": "stdout",
          "output_type": "stream",
          "text": [
            "3\n",
            "1\n",
            "0\n",
            "2\n"
          ]
        }
      ],
      "source": [
        "for key, value in enumerate(labels):\n",
        "  print(value)"
      ]
    },
    {
      "cell_type": "code",
      "execution_count": 21,
      "metadata": {
        "colab": {
          "base_uri": "https://localhost:8080/",
          "height": 241
        },
        "id": "8gMxSWSRloV_",
        "outputId": "b7b88ec6-e48b-462d-8427-9dc14561d9fb"
      },
      "outputs": [
        {
          "data": {
            "text/plain": [
              "labels\n",
              "3    34621\n",
              "1     6552\n",
              "2     5237\n",
              "0     2139\n",
              "Name: count, dtype: int64"
            ]
          },
          "execution_count": 21,
          "metadata": {},
          "output_type": "execute_result"
        }
      ],
      "source": [
        "df.labels.value_counts()"
      ]
    },
    {
      "cell_type": "code",
      "execution_count": 22,
      "metadata": {
        "id": "ZKbWhZTRloZe"
      },
      "outputs": [],
      "source": [
        "NUM_LABELS= len(labels)\n",
        "\n",
        "id2label={id:label for id,label in enumerate(labels)}\n",
        "\n",
        "label2id={label:id for id,label in enumerate(labels)}"
      ]
    },
    {
      "cell_type": "code",
      "execution_count": 23,
      "metadata": {
        "colab": {
          "base_uri": "https://localhost:8080/"
        },
        "id": "nXhZk8M0loc6",
        "outputId": "721181f4-78d3-4fdf-88e5-2df7eccebc59"
      },
      "outputs": [
        {
          "data": {
            "text/plain": [
              "{3: 0, 1: 1, 0: 2, 2: 3}"
            ]
          },
          "execution_count": 23,
          "metadata": {},
          "output_type": "execute_result"
        }
      ],
      "source": [
        "label2id"
      ]
    },
    {
      "cell_type": "code",
      "execution_count": 24,
      "metadata": {
        "colab": {
          "base_uri": "https://localhost:8080/"
        },
        "id": "SkgmTK6VlogQ",
        "outputId": "13e8d956-d03f-4642-f540-5b317d0e411b"
      },
      "outputs": [
        {
          "data": {
            "text/plain": [
              "{0: 3, 1: 1, 2: 0, 3: 2}"
            ]
          },
          "execution_count": 24,
          "metadata": {},
          "output_type": "execute_result"
        }
      ],
      "source": [
        "id2label"
      ]
    },
    {
      "cell_type": "code",
      "execution_count": 25,
      "metadata": {
        "colab": {
          "base_uri": "https://localhost:8080/",
          "height": 606
        },
        "id": "27MiAka1lonC",
        "outputId": "a44c7ce4-604a-4915-87e6-fa6dc4b584ff"
      },
      "outputs": [
        {
          "data": {
            "image/png": "[encoded data removed]",
            "text/plain": [
              "<Figure size 600x600 with 1 Axes>"
            ]
          },
          "metadata": {},
          "output_type": "display_data"
        }
      ],
      "source": [
        "sns.set_style({'font.family':'serif', 'font.serif':['modern serif font'] ,'font_scale':'1.4'  })\n",
        "df['labels'].value_counts().plot(kind='barh', figsize=(6, 6))\n",
        "plt.xlabel(\"Impact\", labelpad=14)\n",
        "plt.ylabel(\"Count of Tickets\", labelpad=14)\n",
        "plt.title(\"Count of Tickets by Impact\", y=1.02);"
      ]
    },
    {
      "cell_type": "code",
      "execution_count": 26,
      "metadata": {
        "colab": {
          "base_uri": "https://localhost:8080/",
          "height": 586
        },
        "id": "AD8eCI6RloqW",
        "outputId": "d8f72916-2d37-442a-b883-6e921ea6d956"
      },
      "outputs": [
        {
          "data": {
            "image/png": "[encoded data removed]",
            "text/plain": [
              "<Figure size 600x600 with 1 Axes>"
            ]
          },
          "metadata": {},
          "output_type": "display_data"
        }
      ],
      "source": [
        "sns.set(font_scale=1.4)\n",
        "df['labels'].value_counts().plot(kind='barh', figsize=(6, 6), rot=0)\n",
        "plt.xlabel(\"labels\", labelpad=14)\n",
        "plt.ylabel(\"Count of Tickets\", labelpad=14)\n",
        "plt.title(\"Count of Tickets by Impact\", y=1.02);\n"
      ]
    },
    {
      "cell_type": "code",
      "execution_count": 27,
      "metadata": {
        "colab": {
          "base_uri": "https://localhost:8080/",
          "height": 576
        },
        "id": "K9zFdjoLlote",
        "outputId": "61aaa74c-dde5-4fbd-b0aa-750f9efac21f"
      },
      "outputs": [
        {
          "data": {
            "text/plain": [
              "<Axes: ylabel='count'>"
            ]
          },
          "execution_count": 27,
          "metadata": {},
          "output_type": "execute_result"
        },
        {
          "data": {
            "image/png": "[encoded data removed]",
            "text/plain": [
              "<Figure size 600x600 with 1 Axes>"
            ]
          },
          "metadata": {},
          "output_type": "display_data"
        }
      ],
      "source": [
        "df.labels.value_counts().plot(kind='pie', figsize=(6,6))"
      ]
    },
    {
      "cell_type": "code",
      "execution_count": null,
      "metadata": {
        "id": "OW9FrDWhlow2"
      },
      "outputs": [],
      "source": []
    },
    {
      "cell_type": "code",
      "execution_count": 28,
      "metadata": {
        "id": "5_ZbwMlClo0k"
      },
      "outputs": [],
      "source": [
        "df = df[['text_clean','labels', 'impact']]"
      ]
    },
    {
      "cell_type": "code",
      "execution_count": 29,
      "metadata": {
        "id": "1EG9qzSdlo7T"
      },
      "outputs": [],
      "source": [
        "X = df['text_clean']\n",
        "y = df['labels']"
      ]
    },
    {
      "cell_type": "code",
      "execution_count": 30,
      "metadata": {
        "id": "Ct9Ry_7Llo_c"
      },
      "outputs": [],
      "source": [
        " X_train, X_test, y_train, y_test = train_test_split(X, y, test_size=0.2, random_state=1 , stratify=y, )\n",
        " X_train, X_val, y_train, y_val   = train_test_split(X_train, y_train, test_size=0.25, random_state=1 , stratify=y_train, ) # 0.25 x 0.8 = 0.2"
      ]
    },
    {
      "cell_type": "code",
      "execution_count": 31,
      "metadata": {
        "colab": {
          "base_uri": "https://localhost:8080/"
        },
        "id": "El2lflghlpGG",
        "outputId": "c61d01b2-7344-415e-f6f1-277b55bb9ac6"
      },
      "outputs": [
        {
          "data": {
            "text/plain": [
              "BertForSequenceClassification(\n",
              "  (bert): BertModel(\n",
              "    (embeddings): BertEmbeddings(\n",
              "      (word_embeddings): Embedding(30522, 768, padding_idx=0)\n",
              "      (position_embeddings): Embedding(512, 768)\n",
              "      (token_type_embeddings): Embedding(2, 768)\n",
              "      (LayerNorm): LayerNorm((768,), eps=1e-12, elementwise_affine=True)\n",
              "      (dropout): Dropout(p=0.1, inplace=False)\n",
              "    )\n",
              "    (encoder): BertEncoder(\n",
              "      (layer): ModuleList(\n",
              "        (0-11): 12 x BertLayer(\n",
              "          (attention): BertAttention(\n",
              "            (self): BertSdpaSelfAttention(\n",
              "              (query): Linear(in_features=768, out_features=768, bias=True)\n",
              "              (key): Linear(in_features=768, out_features=768, bias=True)\n",
              "              (value): Linear(in_features=768, out_features=768, bias=True)\n",
              "              (dropout): Dropout(p=0.1, inplace=False)\n",
              "            )\n",
              "            (output): BertSelfOutput(\n",
              "              (dense): Linear(in_features=768, out_features=768, bias=True)\n",
              "              (LayerNorm): LayerNorm((768,), eps=1e-12, elementwise_affine=True)\n",
              "              (dropout): Dropout(p=0.1, inplace=False)\n",
              "            )\n",
              "          )\n",
              "          (intermediate): BertIntermediate(\n",
              "            (dense): Linear(in_features=768, out_features=3072, bias=True)\n",
              "            (intermediate_act_fn): GELUActivation()\n",
              "          )\n",
              "          (output): BertOutput(\n",
              "            (dense): Linear(in_features=3072, out_features=768, bias=True)\n",
              "            (LayerNorm): LayerNorm((768,), eps=1e-12, elementwise_affine=True)\n",
              "            (dropout): Dropout(p=0.1, inplace=False)\n",
              "          )\n",
              "        )\n",
              "      )\n",
              "    )\n",
              "    (pooler): BertPooler(\n",
              "      (dense): Linear(in_features=768, out_features=768, bias=True)\n",
              "      (activation): Tanh()\n",
              "    )\n",
              "  )\n",
              "  (dropout): Dropout(p=0.1, inplace=False)\n",
              "  (classifier): Linear(in_features=768, out_features=4, bias=True)\n",
              ")"
            ]
          },
          "execution_count": 31,
          "metadata": {},
          "output_type": "execute_result"
        }
      ],
      "source": [
        "model =AutoModelForSequenceClassification.from_pretrained('bert-base-uncased', num_labels=NUM_LABELS, id2label=id2label, label2id=label2id)\n",
        "device = torch.device('cuda' if torch.cuda.is_available() else 'cpu')\n",
        "model = model.to(device)\n",
        "##model.to(device)\n",
        "model.train()"
      ]
    },
    {
      "cell_type": "code",
      "execution_count": 32,
      "metadata": {
        "id": "-UmwFS4IrGnR"
      },
      "outputs": [],
      "source": [
        "train_texts   =   list(X_train)\n",
        "train_labels  =   list(y_train)\n",
        "test_texts    =   list(X_test)\n",
        "test_labels   =   list(y_test)\n",
        "val_texts     =   list(X_val)\n",
        "val_labels    =   list(y_val)"
      ]
    },
    {
      "cell_type": "code",
      "execution_count": null,
      "metadata": {
        "id": "SYT8YiJ9j-vJ"
      },
      "outputs": [],
      "source": []
    },
    {
      "cell_type": "code",
      "execution_count": 33,
      "metadata": {
        "id": "g3-kXKmdz9u6"
      },
      "outputs": [],
      "source": [
        "from pathlib import Path\n",
        "Path('/content/drive/My Drive').mkdir(exist_ok=True, parents=True)"
      ]
    },
    {
      "cell_type": "code",
      "execution_count": 34,
      "metadata": {
        "colab": {
          "base_uri": "https://localhost:8080/"
        },
        "id": "_IjJTI86j_qx",
        "outputId": "7497a356-abb1-454c-a13c-b00f1916992d"
      },
      "outputs": [
        {
          "name": "stdout",
          "output_type": "stream",
          "text": [
            "Model saved to /content/drive/My Drive/model.pth\n",
            "Variables saved to /content/drive/My Drive/model_variables.pth\n"
          ]
        }
      ],
      "source": [
        "import joblib\n",
        "\n",
        "# Your train_test_split code here\n",
        "# Save the datasets to Google Drive\n",
        "joblib.dump(X_train, '/content/drive/My Drive/X_train.pkl')\n",
        "joblib.dump(X_test, '/content/drive/My Drive/X_test.pkl')\n",
        "joblib.dump(y_train, '/content/drive/My Drive/y_train.pkl')\n",
        "joblib.dump(y_test, '/content/drive/My Drive/y_test.pkl')\n",
        "joblib.dump(X_val, '/content/drive/My Drive/X_val.pkl')\n",
        "joblib.dump(y_val, '/content/drive/My Drive/y_val.pkl')\n",
        "\n",
        "\n",
        "\n",
        "# Save the model and variables\n",
        "model_save_path = '/content/drive/My Drive/model.pth'\n",
        "variables_save_path = '/content/drive/My Drive/model_variables.pth'\n",
        "\n",
        "torch.save(model.state_dict(), model_save_path)\n",
        "torch.save({'num_labels': NUM_LABELS, 'id2label': id2label, 'label2id': label2id}, variables_save_path)\n",
        "\n",
        "print(f\"Model saved to {model_save_path}\")\n",
        "print(f\"Variables saved to {variables_save_path}\")\n"
      ]
    },
    {
      "cell_type": "code",
      "execution_count": null,
      "metadata": {
        "id": "RbXEZ4MX5oM0"
      },
      "outputs": [],
      "source": []
    },
    {
      "cell_type": "code",
      "execution_count": 35,
      "metadata": {
        "id": "Idcs9PY0rrAP"
      },
      "outputs": [],
      "source": [
        "tokenizer =  AutoTokenizer.from_pretrained('bert-base-uncased', max_length=1024)"
      ]
    },
    {
      "cell_type": "code",
      "execution_count": 36,
      "metadata": {
        "colab": {
          "base_uri": "https://localhost:8080/"
        },
        "id": "ymU6BxM4rrDx",
        "outputId": "c211bc6f-f079-45cd-d3b5-ab6e9c8aceea"
      },
      "outputs": [
        {
          "name": "stdout",
          "output_type": "stream",
          "text": [
            "Class Weights: [5.67595479 1.85251844 2.31771165 0.35056323]\n"
          ]
        },
        {
          "data": {
            "text/plain": [
              "tensor([5.6760, 1.8525, 2.3177, 0.3506])"
            ]
          },
          "execution_count": 36,
          "metadata": {},
          "output_type": "execute_result"
        }
      ],
      "source": [
        "from sklearn.utils.class_weight import compute_class_weight\n",
        "#compute the class weights\n",
        "class_weights = compute_class_weight(\n",
        "                                        class_weight = \"balanced\",\n",
        "                                        classes = np.unique(train_labels),\n",
        "                                        y = train_labels\n",
        "                                    )\n",
        "class_weights\n",
        "print(\"Class Weights:\",class_weights)\n",
        "weights= torch.tensor(class_weights,dtype=torch.float)\n",
        "weights\n",
        "# push to GPU\n",
        "weights = weights.to(device)\n",
        "weights"
      ]
    },
    {
      "cell_type": "code",
      "execution_count": 37,
      "metadata": {
        "id": "xU6XUu-OrrHN"
      },
      "outputs": [],
      "source": [
        "#class_weights= (1- (y_train.value_counts().sort_index() / len(y_train))).values\n",
        "#class_weights = torch.from_numpy(class_weights).float().to(\"cuda\")"
      ]
    },
    {
      "cell_type": "code",
      "execution_count": 38,
      "metadata": {
        "colab": {
          "base_uri": "https://localhost:8080/"
        },
        "id": "uZFSo4iEw5U1",
        "outputId": "dd98bc79-dfe2-46ca-f324-db33e71334b3"
      },
      "outputs": [
        {
          "name": "stdout",
          "output_type": "stream",
          "text": [
            "Class weights saved to /content/drive/My Drive/class_weights.npy\n"
          ]
        }
      ],
      "source": [
        "# Save class weights to a file in Google Drive\n",
        "weights_path = '/content/drive/My Drive/class_weights.npy'\n",
        "np.save(weights_path, class_weights)\n",
        "print(f\"Class weights saved to {weights_path}\")\n"
      ]
    },
    {
      "cell_type": "code",
      "execution_count": null,
      "metadata": {
        "id": "CoNUQrYCw6GS"
      },
      "outputs": [],
      "source": []
    },
    {
      "cell_type": "code",
      "execution_count": 39,
      "metadata": {
        "id": "CClt5NtXrrNu"
      },
      "outputs": [],
      "source": [
        "train_encodings = tokenizer(train_texts, truncation=True, padding=True)\n",
        "val_encodings  = tokenizer(val_texts, truncation=True, padding=True)\n",
        "test_encodings = tokenizer(test_texts, truncation=True, padding=True)"
      ]
    },
    {
      "cell_type": "code",
      "execution_count": 40,
      "metadata": {
        "id": "FZW0sxSwnAlY"
      },
      "outputs": [],
      "source": [
        "from sklearn.feature_extraction.text import TfidfVectorizer"
      ]
    },
    {
      "cell_type": "code",
      "execution_count": 41,
      "metadata": {
        "id": "x_Qm4siInApU"
      },
      "outputs": [],
      "source": [
        "# Create TF-IDF representations\n",
        "tfidf_vectorizer = TfidfVectorizer()\n",
        "X_train_tfidf = tfidf_vectorizer.fit_transform(X_train)\n",
        "X_val_tfidf = tfidf_vectorizer.transform(X_val)\n",
        "X_test_tfidf = tfidf_vectorizer.transform(X_test)\n",
        "\n",
        "# Combine BERT embeddings with TF-IDF representations\n",
        "train_encodings['tfidf'] = torch.tensor(X_train_tfidf.toarray(), dtype=torch.float32).tolist()\n",
        "val_encodings['tfidf'] = torch.tensor(X_val_tfidf.toarray(), dtype=torch.float32).tolist()\n",
        "test_encodings['tfidf'] = torch.tensor(X_test_tfidf.toarray(), dtype=torch.float32).tolist()\n"
      ]
    },
    {
      "cell_type": "code",
      "execution_count": 49,
      "metadata": {
        "id": "Pi0exOdsnA94"
      },
      "outputs": [],
      "source": [
        "class CustomDataset(Dataset):\n",
        "    def __init__(self, encodings, labels=None, tfidf_weights=None):\n",
        "        self.encodings = encodings\n",
        "        self.labels = labels\n",
        "        self.tfidf_weights = tfidf_weights\n",
        "\n",
        "    def __getitem__(self, idx):\n",
        "        item = {key: torch.tensor(val[idx]) for key, val in self.encodings.items()}\n",
        "        if self.labels is not None:\n",
        "            item['labels'] = torch.tensor(self.labels[idx])\n",
        "        if self.tfidf_weights is not None:\n",
        "            item['tfidf_weights'] = torch.tensor(self.tfidf_weights[idx].toarray()).float()\n",
        "        return item\n",
        "\n",
        "    def __len__(self):\n",
        "        return len(self.encodings['input_ids'])\n",
        "\n",
        "train_dataset = CustomDataset(train_encodings, train_labels, X_train_tfidf)\n",
        "val_dataset = CustomDataset(val_encodings, val_labels, X_val_tfidf)\n",
        "test_dataset = CustomDataset(test_encodings, test_labels, X_test_tfidf)\n",
        "\n",
        "class WeightedLossTrainer(Trainer):\n",
        "    def compute_loss(self, model, inputs, return_outputs=False, **kwargs):\n",
        "        outputs = model(**inputs)\n",
        "        logits = outputs.get(\"logits\")\n",
        "        labels = inputs.get(\"labels\")\n",
        "        loss_fct = torch.nn.CrossEntropyLoss(weight=weights, reduction='none')\n",
        "        loss = loss_fct(logits.view(-1, self.model.config.num_labels), labels.view(-1))\n",
        "        if \"tfidf_weights\" in inputs:\n",
        "            tfidf_weights = inputs.pop(\"tfidf_weights\")\n",
        "            tfidf_weights = tfidf_weights.view(-1, 1).expand(-1, self.model.config.num_labels).contiguous()\n",
        "            loss = loss * tfidf_weights\n",
        "        return (loss.mean(), outputs) if return_outputs else loss.mean()\n",
        "\n",
        "def compute_metrics(pred):\n",
        "    labels = pred.label_ids\n",
        "    preds = pred.predictions.argmax(-1)\n",
        "    precision, recall, f1, _ = precision_recall_fscore_support(labels, preds, average='weighted')\n",
        "    acc = accuracy_score(labels, preds)\n",
        "    return {'accuracy': acc, 'f1-score': f1, 'precision': precision, 'recall': recall}\n",
        "\n",
        "training_args = TrainingArguments(\n",
        "    output_dir='./multi-class-logs',\n",
        "    do_train=True,\n",
        "    do_eval=True,\n",
        "    num_train_epochs=7,\n",
        "    learning_rate=5e-5,\n",
        "    torch_compile=True,\n",
        "    per_device_train_batch_size=8,\n",
        "    per_device_eval_batch_size=16,\n",
        "    warmup_steps=200,\n",
        "    weight_decay=0.01,\n",
        "    logging_strategy='steps',\n",
        "    logging_dir='./multi-class-logs',\n",
        "    logging_steps=500,\n",
        "    eval_strategy=\"steps\",\n",
        "    eval_steps=500,\n",
        "    save_strategy=\"steps\",\n",
        "    load_best_model_at_end=True,\n",
        "    fp16=True,\n",
        "    optim=\"adamw_torch_fused\"\n",
        ")\n",
        "\n",
        "trainer = WeightedLossTrainer(\n",
        "    model=model,\n",
        "    args=training_args,\n",
        "    train_dataset=train_dataset,\n",
        "    eval_dataset=val_dataset,\n",
        "    compute_metrics=compute_metrics\n",
        ")\n",
        "\n",
        "\n"
      ]
    },
    {
      "cell_type": "markdown",
      "metadata": {
        "id": "AaqtIrrIs-uV"
      },
      "source": []
    },
    {
      "cell_type": "code",
      "execution_count": null,
      "metadata": {
        "id": "zOBOQmNynBAe"
      },
      "outputs": [],
      "source": []
    },
    {
      "cell_type": "code",
      "execution_count": null,
      "metadata": {
        "id": "Q59MzH39gNIV"
      },
      "outputs": [],
      "source": []
    },
    {
      "cell_type": "code",
      "execution_count": 50,
      "metadata": {
        "id": "HwBSm1wPgNIV"
      },
      "outputs": [],
      "source": [
        "import os\n",
        "os.environ['CUDA_LAUNCH_BLOCKING'] = '1'"
      ]
    },
    {
      "cell_type": "code",
      "execution_count": 51,
      "metadata": {
        "id": "kTTMzRR3gNIV"
      },
      "outputs": [],
      "source": [
        "import torch._dynamo\n",
        "torch._dynamo.config.suppress_errors = True"
      ]
    },
    {
      "cell_type": "code",
      "execution_count": 52,
      "metadata": {
        "id": "wTgPjFQWgNIW"
      },
      "outputs": [
        {
          "name": "stdout",
          "output_type": "stream",
          "text": [
            "env: TOKENIZERS_PARALLELISM=true\n"
          ]
        }
      ],
      "source": [
        "%env TOKENIZERS_PARALLELISM=true"
      ]
    },
    {
      "cell_type": "code",
      "execution_count": 53,
      "metadata": {
        "id": "b7uoUQWlgNIW"
      },
      "outputs": [
        {
          "name": "stdout",
          "output_type": "stream",
          "text": [
            "env: TOKENIZERS_PARALLELISM=true\n"
          ]
        }
      ],
      "source": [
        "import os\n",
        "os.environ['CUDA_LAUNCH_BLOCKING'] = '1'\n",
        "\n",
        "import torch._dynamo\n",
        "torch._dynamo.config.suppress_errors = True\n",
        "\n",
        "%env TOKENIZERS_PARALLELISM=true\n"
      ]
    },
    {
      "cell_type": "code",
      "execution_count": null,
      "metadata": {
        "id": "1sZzZzGzgNIW"
      },
      "outputs": [],
      "source": []
    },
    {
      "cell_type": "code",
      "execution_count": null,
      "metadata": {
        "id": "e1JKhyv-gNIY"
      },
      "outputs": [],
      "source": []
    },
    {
      "cell_type": "code",
      "execution_count": 54,
      "metadata": {
        "id": "IgdW4GCPrrpB"
      },
      "outputs": [
        {
          "name": "stderr",
          "output_type": "stream",
          "text": [
            "W0424 10:03:10.101000 21172 site-packages\\torch\\_dynamo\\convert_frame.py:1280] WON'T CONVERT forward c:\\Users\\paul-\\anaconda3\\envs\\py311\\Lib\\site-packages\\transformers\\models\\bert\\modeling_bert.py line 1646 \n",
            "W0424 10:03:10.101000 21172 site-packages\\torch\\_dynamo\\convert_frame.py:1280] due to: \n",
            "W0424 10:03:10.101000 21172 site-packages\\torch\\_dynamo\\convert_frame.py:1280] Traceback (most recent call last):\n",
            "W0424 10:03:10.101000 21172 site-packages\\torch\\_dynamo\\convert_frame.py:1280]   File \"c:\\Users\\paul-\\anaconda3\\envs\\py311\\Lib\\site-packages\\torch\\_dynamo\\convert_frame.py\", line 1213, in __call__\n",
            "W0424 10:03:10.101000 21172 site-packages\\torch\\_dynamo\\convert_frame.py:1280]     result = self._inner_convert(\n",
            "W0424 10:03:10.101000 21172 site-packages\\torch\\_dynamo\\convert_frame.py:1280]              ^^^^^^^^^^^^^^^^^^^^\n",
            "W0424 10:03:10.101000 21172 site-packages\\torch\\_dynamo\\convert_frame.py:1280]   File \"c:\\Users\\paul-\\anaconda3\\envs\\py311\\Lib\\site-packages\\torch\\_dynamo\\convert_frame.py\", line 598, in __call__\n",
            "W0424 10:03:10.101000 21172 site-packages\\torch\\_dynamo\\convert_frame.py:1280]     return _compile(\n",
            "W0424 10:03:10.101000 21172 site-packages\\torch\\_dynamo\\convert_frame.py:1280]            ^^^^^^^^^\n",
            "W0424 10:03:10.101000 21172 site-packages\\torch\\_dynamo\\convert_frame.py:1280]   File \"c:\\Users\\paul-\\anaconda3\\envs\\py311\\Lib\\site-packages\\torch\\_dynamo\\convert_frame.py\", line 1059, in _compile\n",
            "W0424 10:03:10.101000 21172 site-packages\\torch\\_dynamo\\convert_frame.py:1280]     guarded_code = compile_inner(code, one_graph, hooks, transform)\n",
            "W0424 10:03:10.101000 21172 site-packages\\torch\\_dynamo\\convert_frame.py:1280]                    ^^^^^^^^^^^^^^^^^^^^^^^^^^^^^^^^^^^^^^^^^^^^^^^^\n",
            "W0424 10:03:10.101000 21172 site-packages\\torch\\_dynamo\\convert_frame.py:1280]   File \"c:\\Users\\paul-\\anaconda3\\envs\\py311\\Lib\\site-packages\\torch\\_utils_internal.py\", line 97, in wrapper_function\n",
            "W0424 10:03:10.101000 21172 site-packages\\torch\\_dynamo\\convert_frame.py:1280]     return function(*args, **kwargs)\n",
            "W0424 10:03:10.101000 21172 site-packages\\torch\\_dynamo\\convert_frame.py:1280]            ^^^^^^^^^^^^^^^^^^^^^^^^^\n",
            "W0424 10:03:10.101000 21172 site-packages\\torch\\_dynamo\\convert_frame.py:1280]   File \"c:\\Users\\paul-\\anaconda3\\envs\\py311\\Lib\\site-packages\\torch\\_dynamo\\convert_frame.py\", line 761, in compile_inner\n",
            "W0424 10:03:10.101000 21172 site-packages\\torch\\_dynamo\\convert_frame.py:1280]     return _compile_inner(code, one_graph, hooks, transform)\n",
            "W0424 10:03:10.101000 21172 site-packages\\torch\\_dynamo\\convert_frame.py:1280]            ^^^^^^^^^^^^^^^^^^^^^^^^^^^^^^^^^^^^^^^^^^^^^^^^^\n",
            "W0424 10:03:10.101000 21172 site-packages\\torch\\_dynamo\\convert_frame.py:1280]   File \"c:\\Users\\paul-\\anaconda3\\envs\\py311\\Lib\\site-packages\\torch\\_dynamo\\convert_frame.py\", line 797, in _compile_inner\n",
            "W0424 10:03:10.101000 21172 site-packages\\torch\\_dynamo\\convert_frame.py:1280]     out_code = transform_code_object(code, transform)\n",
            "W0424 10:03:10.101000 21172 site-packages\\torch\\_dynamo\\convert_frame.py:1280]                ^^^^^^^^^^^^^^^^^^^^^^^^^^^^^^^^^^^^^^\n",
            "W0424 10:03:10.101000 21172 site-packages\\torch\\_dynamo\\convert_frame.py:1280]   File \"c:\\Users\\paul-\\anaconda3\\envs\\py311\\Lib\\site-packages\\torch\\_dynamo\\bytecode_transformation.py\", line 1422, in transform_code_object\n",
            "W0424 10:03:10.101000 21172 site-packages\\torch\\_dynamo\\convert_frame.py:1280]     transformations(instructions, code_options)\n",
            "W0424 10:03:10.101000 21172 site-packages\\torch\\_dynamo\\convert_frame.py:1280]   File \"c:\\Users\\paul-\\anaconda3\\envs\\py311\\Lib\\site-packages\\torch\\_dynamo\\convert_frame.py\", line 257, in _fn\n",
            "W0424 10:03:10.101000 21172 site-packages\\torch\\_dynamo\\convert_frame.py:1280]     return fn(*args, **kwargs)\n",
            "W0424 10:03:10.101000 21172 site-packages\\torch\\_dynamo\\convert_frame.py:1280]            ^^^^^^^^^^^^^^^^^^^\n",
            "W0424 10:03:10.101000 21172 site-packages\\torch\\_dynamo\\convert_frame.py:1280]   File \"c:\\Users\\paul-\\anaconda3\\envs\\py311\\Lib\\site-packages\\torch\\_dynamo\\convert_frame.py\", line 715, in transform\n",
            "W0424 10:03:10.101000 21172 site-packages\\torch\\_dynamo\\convert_frame.py:1280]     tracer.run()\n",
            "W0424 10:03:10.101000 21172 site-packages\\torch\\_dynamo\\convert_frame.py:1280]   File \"c:\\Users\\paul-\\anaconda3\\envs\\py311\\Lib\\site-packages\\torch\\_dynamo\\symbolic_convert.py\", line 3500, in run\n",
            "W0424 10:03:10.101000 21172 site-packages\\torch\\_dynamo\\convert_frame.py:1280]     super().run()\n",
            "W0424 10:03:10.101000 21172 site-packages\\torch\\_dynamo\\convert_frame.py:1280]   File \"c:\\Users\\paul-\\anaconda3\\envs\\py311\\Lib\\site-packages\\torch\\_dynamo\\symbolic_convert.py\", line 1337, in run\n",
            "W0424 10:03:10.101000 21172 site-packages\\torch\\_dynamo\\convert_frame.py:1280]     while self.step():\n",
            "W0424 10:03:10.101000 21172 site-packages\\torch\\_dynamo\\convert_frame.py:1280]           ^^^^^^^^^^^\n",
            "W0424 10:03:10.101000 21172 site-packages\\torch\\_dynamo\\convert_frame.py:1280]   File \"c:\\Users\\paul-\\anaconda3\\envs\\py311\\Lib\\site-packages\\torch\\_dynamo\\symbolic_convert.py\", line 1246, in step\n",
            "W0424 10:03:10.101000 21172 site-packages\\torch\\_dynamo\\convert_frame.py:1280]     self.dispatch_table[inst.opcode](self, inst)\n",
            "W0424 10:03:10.101000 21172 site-packages\\torch\\_dynamo\\convert_frame.py:1280]   File \"c:\\Users\\paul-\\anaconda3\\envs\\py311\\Lib\\site-packages\\torch\\_dynamo\\symbolic_convert.py\", line 3701, in RETURN_VALUE\n",
            "W0424 10:03:10.101000 21172 site-packages\\torch\\_dynamo\\convert_frame.py:1280]     self._return(inst)\n",
            "W0424 10:03:10.101000 21172 site-packages\\torch\\_dynamo\\convert_frame.py:1280]   File \"c:\\Users\\paul-\\anaconda3\\envs\\py311\\Lib\\site-packages\\torch\\_dynamo\\symbolic_convert.py\", line 3686, in _return\n",
            "W0424 10:03:10.101000 21172 site-packages\\torch\\_dynamo\\convert_frame.py:1280]     self.output.compile_subgraph(\n",
            "W0424 10:03:10.101000 21172 site-packages\\torch\\_dynamo\\convert_frame.py:1280]   File \"c:\\Users\\paul-\\anaconda3\\envs\\py311\\Lib\\site-packages\\torch\\_dynamo\\output_graph.py\", line 1179, in compile_subgraph\n",
            "W0424 10:03:10.101000 21172 site-packages\\torch\\_dynamo\\convert_frame.py:1280]     self.compile_and_call_fx_graph(\n",
            "W0424 10:03:10.101000 21172 site-packages\\torch\\_dynamo\\convert_frame.py:1280]   File \"c:\\Users\\paul-\\anaconda3\\envs\\py311\\Lib\\site-packages\\torch\\_dynamo\\output_graph.py\", line 1437, in compile_and_call_fx_graph\n",
            "W0424 10:03:10.101000 21172 site-packages\\torch\\_dynamo\\convert_frame.py:1280]     compiled_fn = self.call_user_compiler(gm)\n",
            "W0424 10:03:10.101000 21172 site-packages\\torch\\_dynamo\\convert_frame.py:1280]                   ^^^^^^^^^^^^^^^^^^^^^^^^^^^\n",
            "W0424 10:03:10.101000 21172 site-packages\\torch\\_dynamo\\convert_frame.py:1280]   File \"c:\\Users\\paul-\\anaconda3\\envs\\py311\\Lib\\site-packages\\torch\\_dynamo\\output_graph.py\", line 1487, in call_user_compiler\n",
            "W0424 10:03:10.101000 21172 site-packages\\torch\\_dynamo\\convert_frame.py:1280]     return self._call_user_compiler(gm)\n",
            "W0424 10:03:10.101000 21172 site-packages\\torch\\_dynamo\\convert_frame.py:1280]            ^^^^^^^^^^^^^^^^^^^^^^^^^^^^\n",
            "W0424 10:03:10.101000 21172 site-packages\\torch\\_dynamo\\convert_frame.py:1280]   File \"c:\\Users\\paul-\\anaconda3\\envs\\py311\\Lib\\site-packages\\torch\\_dynamo\\output_graph.py\", line 1519, in _call_user_compiler\n",
            "W0424 10:03:10.101000 21172 site-packages\\torch\\_dynamo\\convert_frame.py:1280]     compiled_fn = compiler_fn(gm, self.example_inputs())\n",
            "W0424 10:03:10.101000 21172 site-packages\\torch\\_dynamo\\convert_frame.py:1280]                   ^^^^^^^^^^^^^^^^^^^^^^^^^^^^^^^^^^^^^^\n",
            "W0424 10:03:10.101000 21172 site-packages\\torch\\_dynamo\\convert_frame.py:1280]   File \"c:\\Users\\paul-\\anaconda3\\envs\\py311\\Lib\\site-packages\\torch\\_dynamo\\repro\\after_dynamo.py\", line 150, in __call__\n",
            "W0424 10:03:10.101000 21172 site-packages\\torch\\_dynamo\\convert_frame.py:1280]     compiled_gm = compiler_fn(gm, example_inputs)\n",
            "W0424 10:03:10.101000 21172 site-packages\\torch\\_dynamo\\convert_frame.py:1280]                   ^^^^^^^^^^^^^^^^^^^^^^^^^^^^^^^\n",
            "W0424 10:03:10.101000 21172 site-packages\\torch\\_dynamo\\convert_frame.py:1280]   File \"c:\\Users\\paul-\\anaconda3\\envs\\py311\\Lib\\site-packages\\torch\\__init__.py\", line 2347, in __call__\n",
            "W0424 10:03:10.101000 21172 site-packages\\torch\\_dynamo\\convert_frame.py:1280]     return compile_fx(model_, inputs_, config_patches=self.config)\n",
            "W0424 10:03:10.101000 21172 site-packages\\torch\\_dynamo\\convert_frame.py:1280]            ^^^^^^^^^^^^^^^^^^^^^^^^^^^^^^^^^^^^^^^^^^^^^^^^^^^^^^^\n",
            "W0424 10:03:10.101000 21172 site-packages\\torch\\_dynamo\\convert_frame.py:1280]   File \"c:\\Users\\paul-\\anaconda3\\envs\\py311\\Lib\\site-packages\\torch\\_inductor\\compile_fx.py\", line 2101, in compile_fx\n",
            "W0424 10:03:10.101000 21172 site-packages\\torch\\_dynamo\\convert_frame.py:1280]     raise e.remove_dynamo_frames() from None  # see TORCHDYNAMO_VERBOSE=1\n",
            "W0424 10:03:10.101000 21172 site-packages\\torch\\_dynamo\\convert_frame.py:1280]     ^^^^^^^^^^^^^^^^^^^^^^^^^^^^^^^^^^^^^^^^\n",
            "W0424 10:03:10.101000 21172 site-packages\\torch\\_dynamo\\convert_frame.py:1280]   File \"c:\\Users\\paul-\\anaconda3\\envs\\py311\\Lib\\site-packages\\torch\\_inductor\\compile_fx.py\", line 760, in _compile_fx_inner\n",
            "W0424 10:03:10.101000 21172 site-packages\\torch\\_dynamo\\convert_frame.py:1280]     raise InductorError(e, currentframe()).with_traceback(\n",
            "W0424 10:03:10.101000 21172 site-packages\\torch\\_dynamo\\convert_frame.py:1280]   File \"c:\\Users\\paul-\\anaconda3\\envs\\py311\\Lib\\site-packages\\torch\\_inductor\\compile_fx.py\", line 745, in _compile_fx_inner\n",
            "W0424 10:03:10.101000 21172 site-packages\\torch\\_dynamo\\convert_frame.py:1280]     mb_compiled_graph = fx_codegen_and_compile(\n",
            "W0424 10:03:10.101000 21172 site-packages\\torch\\_dynamo\\convert_frame.py:1280]                         ^^^^^^^^^^^^^^^^^^^^^^^\n",
            "W0424 10:03:10.101000 21172 site-packages\\torch\\_dynamo\\convert_frame.py:1280]   File \"c:\\Users\\paul-\\anaconda3\\envs\\py311\\Lib\\site-packages\\torch\\_inductor\\compile_fx.py\", line 1295, in fx_codegen_and_compile\n",
            "W0424 10:03:10.101000 21172 site-packages\\torch\\_dynamo\\convert_frame.py:1280]     return scheme.codegen_and_compile(gm, example_inputs, inputs_to_check, graph_kwargs)\n",
            "W0424 10:03:10.101000 21172 site-packages\\torch\\_dynamo\\convert_frame.py:1280]            ^^^^^^^^^^^^^^^^^^^^^^^^^^^^^^^^^^^^^^^^^^^^^^^^^^^^^^^^^^^^^^^^^^^^^^^^^^^^^\n",
            "W0424 10:03:10.101000 21172 site-packages\\torch\\_dynamo\\convert_frame.py:1280]   File \"c:\\Users\\paul-\\anaconda3\\envs\\py311\\Lib\\site-packages\\torch\\_inductor\\compile_fx.py\", line 1197, in codegen_and_compile\n",
            "W0424 10:03:10.101000 21172 site-packages\\torch\\_dynamo\\convert_frame.py:1280]     compiled_fn = graph.compile_to_module().call\n",
            "W0424 10:03:10.101000 21172 site-packages\\torch\\_dynamo\\convert_frame.py:1280]                   ^^^^^^^^^^^^^^^^^^^^^^^^^\n",
            "W0424 10:03:10.101000 21172 site-packages\\torch\\_dynamo\\convert_frame.py:1280]   File \"c:\\Users\\paul-\\anaconda3\\envs\\py311\\Lib\\site-packages\\torch\\_inductor\\graph.py\", line 2083, in compile_to_module\n",
            "W0424 10:03:10.101000 21172 site-packages\\torch\\_dynamo\\convert_frame.py:1280]     return self._compile_to_module()\n",
            "W0424 10:03:10.101000 21172 site-packages\\torch\\_dynamo\\convert_frame.py:1280]            ^^^^^^^^^^^^^^^^^^^^^^^^^\n",
            "W0424 10:03:10.101000 21172 site-packages\\torch\\_dynamo\\convert_frame.py:1280]   File \"c:\\Users\\paul-\\anaconda3\\envs\\py311\\Lib\\site-packages\\torch\\_inductor\\graph.py\", line 2091, in _compile_to_module\n",
            "W0424 10:03:10.101000 21172 site-packages\\torch\\_dynamo\\convert_frame.py:1280]     self.codegen_with_cpp_wrapper() if self.cpp_wrapper else self.codegen()\n",
            "W0424 10:03:10.101000 21172 site-packages\\torch\\_dynamo\\convert_frame.py:1280]                                                              ^^^^^^^^^^^^^^\n",
            "W0424 10:03:10.101000 21172 site-packages\\torch\\_dynamo\\convert_frame.py:1280]   File \"c:\\Users\\paul-\\anaconda3\\envs\\py311\\Lib\\site-packages\\torch\\_inductor\\graph.py\", line 2002, in codegen\n",
            "W0424 10:03:10.101000 21172 site-packages\\torch\\_dynamo\\convert_frame.py:1280]     self.scheduler.codegen()\n",
            "W0424 10:03:10.101000 21172 site-packages\\torch\\_dynamo\\convert_frame.py:1280]   File \"c:\\Users\\paul-\\anaconda3\\envs\\py311\\Lib\\site-packages\\torch\\_inductor\\scheduler.py\", line 4135, in codegen\n",
            "W0424 10:03:10.101000 21172 site-packages\\torch\\_dynamo\\convert_frame.py:1280]     else self._codegen(self.nodes)\n",
            "W0424 10:03:10.101000 21172 site-packages\\torch\\_dynamo\\convert_frame.py:1280]          ^^^^^^^^^^^^^^^^^^^^^^^^^\n",
            "W0424 10:03:10.101000 21172 site-packages\\torch\\_dynamo\\convert_frame.py:1280]   File \"c:\\Users\\paul-\\anaconda3\\envs\\py311\\Lib\\site-packages\\torch\\_inductor\\scheduler.py\", line 4264, in _codegen\n",
            "W0424 10:03:10.101000 21172 site-packages\\torch\\_dynamo\\convert_frame.py:1280]     self.get_backend(device).codegen_node(node)\n",
            "W0424 10:03:10.101000 21172 site-packages\\torch\\_dynamo\\convert_frame.py:1280]   File \"c:\\Users\\paul-\\anaconda3\\envs\\py311\\Lib\\site-packages\\torch\\_inductor\\codegen\\cpp.py\", line 4986, in codegen_node\n",
            "W0424 10:03:10.101000 21172 site-packages\\torch\\_dynamo\\convert_frame.py:1280]     cpp_kernel_proxy = CppKernelProxy(kernel_group)\n",
            "W0424 10:03:10.101000 21172 site-packages\\torch\\_dynamo\\convert_frame.py:1280]                        ^^^^^^^^^^^^^^^^^^^^^^^^^^^^\n",
            "W0424 10:03:10.101000 21172 site-packages\\torch\\_dynamo\\convert_frame.py:1280]   File \"c:\\Users\\paul-\\anaconda3\\envs\\py311\\Lib\\site-packages\\torch\\_inductor\\codegen\\cpp.py\", line 3734, in __init__\n",
            "W0424 10:03:10.101000 21172 site-packages\\torch\\_dynamo\\convert_frame.py:1280]     self.picked_vec_isa: cpu_vec_isa.VecISA = cpu_vec_isa.pick_vec_isa()\n",
            "W0424 10:03:10.101000 21172 site-packages\\torch\\_dynamo\\convert_frame.py:1280]                                               ^^^^^^^^^^^^^^^^^^^^^^^^^^\n",
            "W0424 10:03:10.101000 21172 site-packages\\torch\\_dynamo\\convert_frame.py:1280]   File \"c:\\Users\\paul-\\anaconda3\\envs\\py311\\Lib\\site-packages\\torch\\_inductor\\cpu_vec_isa.py\", line 418, in pick_vec_isa\n",
            "W0424 10:03:10.101000 21172 site-packages\\torch\\_dynamo\\convert_frame.py:1280]     _valid_vec_isa_list: list[VecISA] = valid_vec_isa_list()\n",
            "W0424 10:03:10.101000 21172 site-packages\\torch\\_dynamo\\convert_frame.py:1280]                                         ^^^^^^^^^^^^^^^^^^^^\n",
            "W0424 10:03:10.101000 21172 site-packages\\torch\\_dynamo\\convert_frame.py:1280]   File \"c:\\Users\\paul-\\anaconda3\\envs\\py311\\Lib\\site-packages\\torch\\_inductor\\cpu_vec_isa.py\", line 405, in valid_vec_isa_list\n",
            "W0424 10:03:10.101000 21172 site-packages\\torch\\_dynamo\\convert_frame.py:1280]     isa_list.extend(\n",
            "W0424 10:03:10.101000 21172 site-packages\\torch\\_dynamo\\convert_frame.py:1280]   File \"c:\\Users\\paul-\\anaconda3\\envs\\py311\\Lib\\site-packages\\torch\\_inductor\\cpu_vec_isa.py\", line 405, in <genexpr>\n",
            "W0424 10:03:10.101000 21172 site-packages\\torch\\_dynamo\\convert_frame.py:1280]     isa_list.extend(\n",
            "W0424 10:03:10.101000 21172 site-packages\\torch\\_dynamo\\convert_frame.py:1280]                    ^\n",
            "W0424 10:03:10.101000 21172 site-packages\\torch\\_dynamo\\convert_frame.py:1280]   File \"c:\\Users\\paul-\\anaconda3\\envs\\py311\\Lib\\site-packages\\torch\\_inductor\\cpu_vec_isa.py\", line 142, in __bool__\n",
            "W0424 10:03:10.101000 21172 site-packages\\torch\\_dynamo\\convert_frame.py:1280]     return self.__bool__impl(config.cpp.vec_isa_ok)\n",
            "W0424 10:03:10.101000 21172 site-packages\\torch\\_dynamo\\convert_frame.py:1280]            ^^^^^^^^^^^^^^^^^^^^^^^^^^^^^^^^^^^^^^^^\n",
            "W0424 10:03:10.101000 21172 site-packages\\torch\\_dynamo\\convert_frame.py:1280]   File \"c:\\Users\\paul-\\anaconda3\\envs\\py311\\Lib\\site-packages\\torch\\_inductor\\cpu_vec_isa.py\", line 152, in __bool__impl\n",
            "W0424 10:03:10.101000 21172 site-packages\\torch\\_dynamo\\convert_frame.py:1280]     return self.check_build(VecISA._avx_code)\n",
            "W0424 10:03:10.101000 21172 site-packages\\torch\\_dynamo\\convert_frame.py:1280]            ^^^^^^^^^^^^^^^^^^^^^^^^^^^^^^^^^^\n",
            "W0424 10:03:10.101000 21172 site-packages\\torch\\_dynamo\\convert_frame.py:1280]   File \"c:\\Users\\paul-\\anaconda3\\envs\\py311\\Lib\\site-packages\\torch\\_inductor\\cpu_vec_isa.py\", line 102, in check_build\n",
            "W0424 10:03:10.101000 21172 site-packages\\torch\\_dynamo\\convert_frame.py:1280]     extra=_get_isa_dry_compile_fingerprint(self._arch_flags),\n",
            "W0424 10:03:10.101000 21172 site-packages\\torch\\_dynamo\\convert_frame.py:1280]           ^^^^^^^^^^^^^^^^^^^^^^^^^^^^^^^^^^^^^^^^^^^^^^^^^^\n",
            "W0424 10:03:10.101000 21172 site-packages\\torch\\_dynamo\\convert_frame.py:1280]   File \"c:\\Users\\paul-\\anaconda3\\envs\\py311\\Lib\\site-packages\\torch\\_inductor\\cpu_vec_isa.py\", line 28, in _get_isa_dry_compile_fingerprint\n",
            "W0424 10:03:10.101000 21172 site-packages\\torch\\_dynamo\\convert_frame.py:1280]     compiler_info = get_compiler_version_info(get_cpp_compiler())\n",
            "W0424 10:03:10.101000 21172 site-packages\\torch\\_dynamo\\convert_frame.py:1280]                                               ^^^^^^^^^^^^^^^^^^\n",
            "W0424 10:03:10.101000 21172 site-packages\\torch\\_dynamo\\convert_frame.py:1280]   File \"c:\\Users\\paul-\\anaconda3\\envs\\py311\\Lib\\site-packages\\torch\\_inductor\\cpp_builder.py\", line 148, in get_cpp_compiler\n",
            "W0424 10:03:10.101000 21172 site-packages\\torch\\_dynamo\\convert_frame.py:1280]     check_compiler_exist_windows(compiler)\n",
            "W0424 10:03:10.101000 21172 site-packages\\torch\\_dynamo\\convert_frame.py:1280]   File \"c:\\Users\\paul-\\anaconda3\\envs\\py311\\Lib\\site-packages\\torch\\_inductor\\cpp_builder.py\", line 139, in check_compiler_exist_windows\n",
            "W0424 10:03:10.101000 21172 site-packages\\torch\\_dynamo\\convert_frame.py:1280]     raise RuntimeError(f\"Compiler: {compiler} is not found.\") from exc\n",
            "W0424 10:03:10.101000 21172 site-packages\\torch\\_dynamo\\convert_frame.py:1280] torch._inductor.exc.InductorError: RuntimeError: Compiler: cl is not found.\n",
            "W0424 10:03:10.101000 21172 site-packages\\torch\\_dynamo\\convert_frame.py:1280] \n",
            "W0424 10:03:10.101000 21172 site-packages\\torch\\_dynamo\\convert_frame.py:1280] Set TORCHDYNAMO_VERBOSE=1 for the internal stack trace (please do this especially if you're reporting a bug to PyTorch). For even more developer context, set TORCH_LOGS=\"+dynamo\"\n",
            "W0424 10:03:10.101000 21172 site-packages\\torch\\_dynamo\\convert_frame.py:1280] \n",
            "W0424 10:03:10.101000 21172 site-packages\\torch\\_dynamo\\convert_frame.py:1280] Traceback (most recent call last):\n",
            "W0424 10:03:10.101000 21172 site-packages\\torch\\_dynamo\\convert_frame.py:1280]   File \"c:\\Users\\paul-\\anaconda3\\envs\\py311\\Lib\\site-packages\\torch\\_dynamo\\convert_frame.py\", line 1213, in __call__\n",
            "W0424 10:03:10.101000 21172 site-packages\\torch\\_dynamo\\convert_frame.py:1280]     result = self._inner_convert(\n",
            "W0424 10:03:10.101000 21172 site-packages\\torch\\_dynamo\\convert_frame.py:1280]              ^^^^^^^^^^^^^^^^^^^^\n",
            "W0424 10:03:10.101000 21172 site-packages\\torch\\_dynamo\\convert_frame.py:1280]   File \"c:\\Users\\paul-\\anaconda3\\envs\\py311\\Lib\\site-packages\\torch\\_dynamo\\convert_frame.py\", line 598, in __call__\n",
            "W0424 10:03:10.101000 21172 site-packages\\torch\\_dynamo\\convert_frame.py:1280]     return _compile(\n",
            "W0424 10:03:10.101000 21172 site-packages\\torch\\_dynamo\\convert_frame.py:1280]            ^^^^^^^^^\n",
            "W0424 10:03:10.101000 21172 site-packages\\torch\\_dynamo\\convert_frame.py:1280]   File \"c:\\Users\\paul-\\anaconda3\\envs\\py311\\Lib\\site-packages\\torch\\_dynamo\\convert_frame.py\", line 1059, in _compile\n",
            "W0424 10:03:10.101000 21172 site-packages\\torch\\_dynamo\\convert_frame.py:1280]     guarded_code = compile_inner(code, one_graph, hooks, transform)\n",
            "W0424 10:03:10.101000 21172 site-packages\\torch\\_dynamo\\convert_frame.py:1280]                    ^^^^^^^^^^^^^^^^^^^^^^^^^^^^^^^^^^^^^^^^^^^^^^^^\n",
            "W0424 10:03:10.101000 21172 site-packages\\torch\\_dynamo\\convert_frame.py:1280]   File \"c:\\Users\\paul-\\anaconda3\\envs\\py311\\Lib\\site-packages\\torch\\_utils_internal.py\", line 97, in wrapper_function\n",
            "W0424 10:03:10.101000 21172 site-packages\\torch\\_dynamo\\convert_frame.py:1280]     return function(*args, **kwargs)\n",
            "W0424 10:03:10.101000 21172 site-packages\\torch\\_dynamo\\convert_frame.py:1280]            ^^^^^^^^^^^^^^^^^^^^^^^^^\n",
            "W0424 10:03:10.101000 21172 site-packages\\torch\\_dynamo\\convert_frame.py:1280]   File \"c:\\Users\\paul-\\anaconda3\\envs\\py311\\Lib\\site-packages\\torch\\_dynamo\\convert_frame.py\", line 761, in compile_inner\n",
            "W0424 10:03:10.101000 21172 site-packages\\torch\\_dynamo\\convert_frame.py:1280]     return _compile_inner(code, one_graph, hooks, transform)\n",
            "W0424 10:03:10.101000 21172 site-packages\\torch\\_dynamo\\convert_frame.py:1280]            ^^^^^^^^^^^^^^^^^^^^^^^^^^^^^^^^^^^^^^^^^^^^^^^^^\n",
            "W0424 10:03:10.101000 21172 site-packages\\torch\\_dynamo\\convert_frame.py:1280]   File \"c:\\Users\\paul-\\anaconda3\\envs\\py311\\Lib\\site-packages\\torch\\_dynamo\\convert_frame.py\", line 797, in _compile_inner\n",
            "W0424 10:03:10.101000 21172 site-packages\\torch\\_dynamo\\convert_frame.py:1280]     out_code = transform_code_object(code, transform)\n",
            "W0424 10:03:10.101000 21172 site-packages\\torch\\_dynamo\\convert_frame.py:1280]                ^^^^^^^^^^^^^^^^^^^^^^^^^^^^^^^^^^^^^^\n",
            "W0424 10:03:10.101000 21172 site-packages\\torch\\_dynamo\\convert_frame.py:1280]   File \"c:\\Users\\paul-\\anaconda3\\envs\\py311\\Lib\\site-packages\\torch\\_dynamo\\bytecode_transformation.py\", line 1422, in transform_code_object\n",
            "W0424 10:03:10.101000 21172 site-packages\\torch\\_dynamo\\convert_frame.py:1280]     transformations(instructions, code_options)\n",
            "W0424 10:03:10.101000 21172 site-packages\\torch\\_dynamo\\convert_frame.py:1280]   File \"c:\\Users\\paul-\\anaconda3\\envs\\py311\\Lib\\site-packages\\torch\\_dynamo\\convert_frame.py\", line 257, in _fn\n",
            "W0424 10:03:10.101000 21172 site-packages\\torch\\_dynamo\\convert_frame.py:1280]     return fn(*args, **kwargs)\n",
            "W0424 10:03:10.101000 21172 site-packages\\torch\\_dynamo\\convert_frame.py:1280]            ^^^^^^^^^^^^^^^^^^^\n",
            "W0424 10:03:10.101000 21172 site-packages\\torch\\_dynamo\\convert_frame.py:1280]   File \"c:\\Users\\paul-\\anaconda3\\envs\\py311\\Lib\\site-packages\\torch\\_dynamo\\convert_frame.py\", line 715, in transform\n",
            "W0424 10:03:10.101000 21172 site-packages\\torch\\_dynamo\\convert_frame.py:1280]     tracer.run()\n",
            "W0424 10:03:10.101000 21172 site-packages\\torch\\_dynamo\\convert_frame.py:1280]   File \"c:\\Users\\paul-\\anaconda3\\envs\\py311\\Lib\\site-packages\\torch\\_dynamo\\symbolic_convert.py\", line 3500, in run\n",
            "W0424 10:03:10.101000 21172 site-packages\\torch\\_dynamo\\convert_frame.py:1280]     super().run()\n",
            "W0424 10:03:10.101000 21172 site-packages\\torch\\_dynamo\\convert_frame.py:1280]   File \"c:\\Users\\paul-\\anaconda3\\envs\\py311\\Lib\\site-packages\\torch\\_dynamo\\symbolic_convert.py\", line 1337, in run\n",
            "W0424 10:03:10.101000 21172 site-packages\\torch\\_dynamo\\convert_frame.py:1280]     while self.step():\n",
            "W0424 10:03:10.101000 21172 site-packages\\torch\\_dynamo\\convert_frame.py:1280]           ^^^^^^^^^^^\n",
            "W0424 10:03:10.101000 21172 site-packages\\torch\\_dynamo\\convert_frame.py:1280]   File \"c:\\Users\\paul-\\anaconda3\\envs\\py311\\Lib\\site-packages\\torch\\_dynamo\\symbolic_convert.py\", line 1246, in step\n",
            "W0424 10:03:10.101000 21172 site-packages\\torch\\_dynamo\\convert_frame.py:1280]     self.dispatch_table[inst.opcode](self, inst)\n",
            "W0424 10:03:10.101000 21172 site-packages\\torch\\_dynamo\\convert_frame.py:1280]   File \"c:\\Users\\paul-\\anaconda3\\envs\\py311\\Lib\\site-packages\\torch\\_dynamo\\symbolic_convert.py\", line 3701, in RETURN_VALUE\n",
            "W0424 10:03:10.101000 21172 site-packages\\torch\\_dynamo\\convert_frame.py:1280]     self._return(inst)\n",
            "W0424 10:03:10.101000 21172 site-packages\\torch\\_dynamo\\convert_frame.py:1280]   File \"c:\\Users\\paul-\\anaconda3\\envs\\py311\\Lib\\site-packages\\torch\\_dynamo\\symbolic_convert.py\", line 3686, in _return\n",
            "W0424 10:03:10.101000 21172 site-packages\\torch\\_dynamo\\convert_frame.py:1280]     self.output.compile_subgraph(\n",
            "W0424 10:03:10.101000 21172 site-packages\\torch\\_dynamo\\convert_frame.py:1280]   File \"c:\\Users\\paul-\\anaconda3\\envs\\py311\\Lib\\site-packages\\torch\\_dynamo\\output_graph.py\", line 1179, in compile_subgraph\n",
            "W0424 10:03:10.101000 21172 site-packages\\torch\\_dynamo\\convert_frame.py:1280]     self.compile_and_call_fx_graph(\n",
            "W0424 10:03:10.101000 21172 site-packages\\torch\\_dynamo\\convert_frame.py:1280]   File \"c:\\Users\\paul-\\anaconda3\\envs\\py311\\Lib\\site-packages\\torch\\_dynamo\\output_graph.py\", line 1437, in compile_and_call_fx_graph\n",
            "W0424 10:03:10.101000 21172 site-packages\\torch\\_dynamo\\convert_frame.py:1280]     compiled_fn = self.call_user_compiler(gm)\n",
            "W0424 10:03:10.101000 21172 site-packages\\torch\\_dynamo\\convert_frame.py:1280]                   ^^^^^^^^^^^^^^^^^^^^^^^^^^^\n",
            "W0424 10:03:10.101000 21172 site-packages\\torch\\_dynamo\\convert_frame.py:1280]   File \"c:\\Users\\paul-\\anaconda3\\envs\\py311\\Lib\\site-packages\\torch\\_dynamo\\output_graph.py\", line 1487, in call_user_compiler\n",
            "W0424 10:03:10.101000 21172 site-packages\\torch\\_dynamo\\convert_frame.py:1280]     return self._call_user_compiler(gm)\n",
            "W0424 10:03:10.101000 21172 site-packages\\torch\\_dynamo\\convert_frame.py:1280]            ^^^^^^^^^^^^^^^^^^^^^^^^^^^^\n",
            "W0424 10:03:10.101000 21172 site-packages\\torch\\_dynamo\\convert_frame.py:1280]   File \"c:\\Users\\paul-\\anaconda3\\envs\\py311\\Lib\\site-packages\\torch\\_dynamo\\output_graph.py\", line 1519, in _call_user_compiler\n",
            "W0424 10:03:10.101000 21172 site-packages\\torch\\_dynamo\\convert_frame.py:1280]     compiled_fn = compiler_fn(gm, self.example_inputs())\n",
            "W0424 10:03:10.101000 21172 site-packages\\torch\\_dynamo\\convert_frame.py:1280]                   ^^^^^^^^^^^^^^^^^^^^^^^^^^^^^^^^^^^^^^\n",
            "W0424 10:03:10.101000 21172 site-packages\\torch\\_dynamo\\convert_frame.py:1280]   File \"c:\\Users\\paul-\\anaconda3\\envs\\py311\\Lib\\site-packages\\torch\\_dynamo\\repro\\after_dynamo.py\", line 150, in __call__\n",
            "W0424 10:03:10.101000 21172 site-packages\\torch\\_dynamo\\convert_frame.py:1280]     compiled_gm = compiler_fn(gm, example_inputs)\n",
            "W0424 10:03:10.101000 21172 site-packages\\torch\\_dynamo\\convert_frame.py:1280]                   ^^^^^^^^^^^^^^^^^^^^^^^^^^^^^^^\n",
            "W0424 10:03:10.101000 21172 site-packages\\torch\\_dynamo\\convert_frame.py:1280]   File \"c:\\Users\\paul-\\anaconda3\\envs\\py311\\Lib\\site-packages\\torch\\__init__.py\", line 2347, in __call__\n",
            "W0424 10:03:10.101000 21172 site-packages\\torch\\_dynamo\\convert_frame.py:1280]     return compile_fx(model_, inputs_, config_patches=self.config)\n",
            "W0424 10:03:10.101000 21172 site-packages\\torch\\_dynamo\\convert_frame.py:1280]            ^^^^^^^^^^^^^^^^^^^^^^^^^^^^^^^^^^^^^^^^^^^^^^^^^^^^^^^\n",
            "W0424 10:03:10.101000 21172 site-packages\\torch\\_dynamo\\convert_frame.py:1280]   File \"c:\\Users\\paul-\\anaconda3\\envs\\py311\\Lib\\site-packages\\torch\\_inductor\\compile_fx.py\", line 2101, in compile_fx\n",
            "W0424 10:03:10.101000 21172 site-packages\\torch\\_dynamo\\convert_frame.py:1280]     raise e.remove_dynamo_frames() from None  # see TORCHDYNAMO_VERBOSE=1\n",
            "W0424 10:03:10.101000 21172 site-packages\\torch\\_dynamo\\convert_frame.py:1280]     ^^^^^^^^^^^^^^^^^^^^^^^^^^^^^^^^^^^^^^^^\n",
            "W0424 10:03:10.101000 21172 site-packages\\torch\\_dynamo\\convert_frame.py:1280]   File \"c:\\Users\\paul-\\anaconda3\\envs\\py311\\Lib\\site-packages\\torch\\_inductor\\compile_fx.py\", line 760, in _compile_fx_inner\n",
            "W0424 10:03:10.101000 21172 site-packages\\torch\\_dynamo\\convert_frame.py:1280]     raise InductorError(e, currentframe()).with_traceback(\n",
            "W0424 10:03:10.101000 21172 site-packages\\torch\\_dynamo\\convert_frame.py:1280]   File \"c:\\Users\\paul-\\anaconda3\\envs\\py311\\Lib\\site-packages\\torch\\_inductor\\compile_fx.py\", line 745, in _compile_fx_inner\n",
            "W0424 10:03:10.101000 21172 site-packages\\torch\\_dynamo\\convert_frame.py:1280]     mb_compiled_graph = fx_codegen_and_compile(\n",
            "W0424 10:03:10.101000 21172 site-packages\\torch\\_dynamo\\convert_frame.py:1280]                         ^^^^^^^^^^^^^^^^^^^^^^^\n",
            "W0424 10:03:10.101000 21172 site-packages\\torch\\_dynamo\\convert_frame.py:1280]   File \"c:\\Users\\paul-\\anaconda3\\envs\\py311\\Lib\\site-packages\\torch\\_inductor\\compile_fx.py\", line 1295, in fx_codegen_and_compile\n",
            "W0424 10:03:10.101000 21172 site-packages\\torch\\_dynamo\\convert_frame.py:1280]     return scheme.codegen_and_compile(gm, example_inputs, inputs_to_check, graph_kwargs)\n",
            "W0424 10:03:10.101000 21172 site-packages\\torch\\_dynamo\\convert_frame.py:1280]            ^^^^^^^^^^^^^^^^^^^^^^^^^^^^^^^^^^^^^^^^^^^^^^^^^^^^^^^^^^^^^^^^^^^^^^^^^^^^^\n",
            "W0424 10:03:10.101000 21172 site-packages\\torch\\_dynamo\\convert_frame.py:1280]   File \"c:\\Users\\paul-\\anaconda3\\envs\\py311\\Lib\\site-packages\\torch\\_inductor\\compile_fx.py\", line 1197, in codegen_and_compile\n",
            "W0424 10:03:10.101000 21172 site-packages\\torch\\_dynamo\\convert_frame.py:1280]     compiled_fn = graph.compile_to_module().call\n",
            "W0424 10:03:10.101000 21172 site-packages\\torch\\_dynamo\\convert_frame.py:1280]                   ^^^^^^^^^^^^^^^^^^^^^^^^^\n",
            "W0424 10:03:10.101000 21172 site-packages\\torch\\_dynamo\\convert_frame.py:1280]   File \"c:\\Users\\paul-\\anaconda3\\envs\\py311\\Lib\\site-packages\\torch\\_inductor\\graph.py\", line 2083, in compile_to_module\n",
            "W0424 10:03:10.101000 21172 site-packages\\torch\\_dynamo\\convert_frame.py:1280]     return self._compile_to_module()\n",
            "W0424 10:03:10.101000 21172 site-packages\\torch\\_dynamo\\convert_frame.py:1280]            ^^^^^^^^^^^^^^^^^^^^^^^^^\n",
            "W0424 10:03:10.101000 21172 site-packages\\torch\\_dynamo\\convert_frame.py:1280]   File \"c:\\Users\\paul-\\anaconda3\\envs\\py311\\Lib\\site-packages\\torch\\_inductor\\graph.py\", line 2091, in _compile_to_module\n",
            "W0424 10:03:10.101000 21172 site-packages\\torch\\_dynamo\\convert_frame.py:1280]     self.codegen_with_cpp_wrapper() if self.cpp_wrapper else self.codegen()\n",
            "W0424 10:03:10.101000 21172 site-packages\\torch\\_dynamo\\convert_frame.py:1280]                                                              ^^^^^^^^^^^^^^\n",
            "W0424 10:03:10.101000 21172 site-packages\\torch\\_dynamo\\convert_frame.py:1280]   File \"c:\\Users\\paul-\\anaconda3\\envs\\py311\\Lib\\site-packages\\torch\\_inductor\\graph.py\", line 2002, in codegen\n",
            "W0424 10:03:10.101000 21172 site-packages\\torch\\_dynamo\\convert_frame.py:1280]     self.scheduler.codegen()\n",
            "W0424 10:03:10.101000 21172 site-packages\\torch\\_dynamo\\convert_frame.py:1280]   File \"c:\\Users\\paul-\\anaconda3\\envs\\py311\\Lib\\site-packages\\torch\\_inductor\\scheduler.py\", line 4135, in codegen\n",
            "W0424 10:03:10.101000 21172 site-packages\\torch\\_dynamo\\convert_frame.py:1280]     else self._codegen(self.nodes)\n",
            "W0424 10:03:10.101000 21172 site-packages\\torch\\_dynamo\\convert_frame.py:1280]          ^^^^^^^^^^^^^^^^^^^^^^^^^\n",
            "W0424 10:03:10.101000 21172 site-packages\\torch\\_dynamo\\convert_frame.py:1280]   File \"c:\\Users\\paul-\\anaconda3\\envs\\py311\\Lib\\site-packages\\torch\\_inductor\\scheduler.py\", line 4264, in _codegen\n",
            "W0424 10:03:10.101000 21172 site-packages\\torch\\_dynamo\\convert_frame.py:1280]     self.get_backend(device).codegen_node(node)\n",
            "W0424 10:03:10.101000 21172 site-packages\\torch\\_dynamo\\convert_frame.py:1280]   File \"c:\\Users\\paul-\\anaconda3\\envs\\py311\\Lib\\site-packages\\torch\\_inductor\\codegen\\cpp.py\", line 4986, in codegen_node\n",
            "W0424 10:03:10.101000 21172 site-packages\\torch\\_dynamo\\convert_frame.py:1280]     cpp_kernel_proxy = CppKernelProxy(kernel_group)\n",
            "W0424 10:03:10.101000 21172 site-packages\\torch\\_dynamo\\convert_frame.py:1280]                        ^^^^^^^^^^^^^^^^^^^^^^^^^^^^\n",
            "W0424 10:03:10.101000 21172 site-packages\\torch\\_dynamo\\convert_frame.py:1280]   File \"c:\\Users\\paul-\\anaconda3\\envs\\py311\\Lib\\site-packages\\torch\\_inductor\\codegen\\cpp.py\", line 3734, in __init__\n",
            "W0424 10:03:10.101000 21172 site-packages\\torch\\_dynamo\\convert_frame.py:1280]     self.picked_vec_isa: cpu_vec_isa.VecISA = cpu_vec_isa.pick_vec_isa()\n",
            "W0424 10:03:10.101000 21172 site-packages\\torch\\_dynamo\\convert_frame.py:1280]                                               ^^^^^^^^^^^^^^^^^^^^^^^^^^\n",
            "W0424 10:03:10.101000 21172 site-packages\\torch\\_dynamo\\convert_frame.py:1280]   File \"c:\\Users\\paul-\\anaconda3\\envs\\py311\\Lib\\site-packages\\torch\\_inductor\\cpu_vec_isa.py\", line 418, in pick_vec_isa\n",
            "W0424 10:03:10.101000 21172 site-packages\\torch\\_dynamo\\convert_frame.py:1280]     _valid_vec_isa_list: list[VecISA] = valid_vec_isa_list()\n",
            "W0424 10:03:10.101000 21172 site-packages\\torch\\_dynamo\\convert_frame.py:1280]                                         ^^^^^^^^^^^^^^^^^^^^\n",
            "W0424 10:03:10.101000 21172 site-packages\\torch\\_dynamo\\convert_frame.py:1280]   File \"c:\\Users\\paul-\\anaconda3\\envs\\py311\\Lib\\site-packages\\torch\\_inductor\\cpu_vec_isa.py\", line 405, in valid_vec_isa_list\n",
            "W0424 10:03:10.101000 21172 site-packages\\torch\\_dynamo\\convert_frame.py:1280]     isa_list.extend(\n",
            "W0424 10:03:10.101000 21172 site-packages\\torch\\_dynamo\\convert_frame.py:1280]   File \"c:\\Users\\paul-\\anaconda3\\envs\\py311\\Lib\\site-packages\\torch\\_inductor\\cpu_vec_isa.py\", line 405, in <genexpr>\n",
            "W0424 10:03:10.101000 21172 site-packages\\torch\\_dynamo\\convert_frame.py:1280]     isa_list.extend(\n",
            "W0424 10:03:10.101000 21172 site-packages\\torch\\_dynamo\\convert_frame.py:1280]                    ^\n",
            "W0424 10:03:10.101000 21172 site-packages\\torch\\_dynamo\\convert_frame.py:1280]   File \"c:\\Users\\paul-\\anaconda3\\envs\\py311\\Lib\\site-packages\\torch\\_inductor\\cpu_vec_isa.py\", line 142, in __bool__\n",
            "W0424 10:03:10.101000 21172 site-packages\\torch\\_dynamo\\convert_frame.py:1280]     return self.__bool__impl(config.cpp.vec_isa_ok)\n",
            "W0424 10:03:10.101000 21172 site-packages\\torch\\_dynamo\\convert_frame.py:1280]            ^^^^^^^^^^^^^^^^^^^^^^^^^^^^^^^^^^^^^^^^\n",
            "W0424 10:03:10.101000 21172 site-packages\\torch\\_dynamo\\convert_frame.py:1280]   File \"c:\\Users\\paul-\\anaconda3\\envs\\py311\\Lib\\site-packages\\torch\\_inductor\\cpu_vec_isa.py\", line 152, in __bool__impl\n",
            "W0424 10:03:10.101000 21172 site-packages\\torch\\_dynamo\\convert_frame.py:1280]     return self.check_build(VecISA._avx_code)\n",
            "W0424 10:03:10.101000 21172 site-packages\\torch\\_dynamo\\convert_frame.py:1280]            ^^^^^^^^^^^^^^^^^^^^^^^^^^^^^^^^^^\n",
            "W0424 10:03:10.101000 21172 site-packages\\torch\\_dynamo\\convert_frame.py:1280]   File \"c:\\Users\\paul-\\anaconda3\\envs\\py311\\Lib\\site-packages\\torch\\_inductor\\cpu_vec_isa.py\", line 102, in check_build\n",
            "W0424 10:03:10.101000 21172 site-packages\\torch\\_dynamo\\convert_frame.py:1280]     extra=_get_isa_dry_compile_fingerprint(self._arch_flags),\n",
            "W0424 10:03:10.101000 21172 site-packages\\torch\\_dynamo\\convert_frame.py:1280]           ^^^^^^^^^^^^^^^^^^^^^^^^^^^^^^^^^^^^^^^^^^^^^^^^^^\n",
            "W0424 10:03:10.101000 21172 site-packages\\torch\\_dynamo\\convert_frame.py:1280]   File \"c:\\Users\\paul-\\anaconda3\\envs\\py311\\Lib\\site-packages\\torch\\_inductor\\cpu_vec_isa.py\", line 28, in _get_isa_dry_compile_fingerprint\n",
            "W0424 10:03:10.101000 21172 site-packages\\torch\\_dynamo\\convert_frame.py:1280]     compiler_info = get_compiler_version_info(get_cpp_compiler())\n",
            "W0424 10:03:10.101000 21172 site-packages\\torch\\_dynamo\\convert_frame.py:1280]                                               ^^^^^^^^^^^^^^^^^^\n",
            "W0424 10:03:10.101000 21172 site-packages\\torch\\_dynamo\\convert_frame.py:1280]   File \"c:\\Users\\paul-\\anaconda3\\envs\\py311\\Lib\\site-packages\\torch\\_inductor\\cpp_builder.py\", line 148, in get_cpp_compiler\n",
            "W0424 10:03:10.101000 21172 site-packages\\torch\\_dynamo\\convert_frame.py:1280]     check_compiler_exist_windows(compiler)\n",
            "W0424 10:03:10.101000 21172 site-packages\\torch\\_dynamo\\convert_frame.py:1280]   File \"c:\\Users\\paul-\\anaconda3\\envs\\py311\\Lib\\site-packages\\torch\\_inductor\\cpp_builder.py\", line 139, in check_compiler_exist_windows\n",
            "W0424 10:03:10.101000 21172 site-packages\\torch\\_dynamo\\convert_frame.py:1280]     raise RuntimeError(f\"Compiler: {compiler} is not found.\") from exc\n",
            "W0424 10:03:10.101000 21172 site-packages\\torch\\_dynamo\\convert_frame.py:1280] torch._inductor.exc.InductorError: RuntimeError: Compiler: cl is not found.\n",
            "W0424 10:03:10.101000 21172 site-packages\\torch\\_dynamo\\convert_frame.py:1280] \n",
            "W0424 10:03:10.101000 21172 site-packages\\torch\\_dynamo\\convert_frame.py:1280] Set TORCHDYNAMO_VERBOSE=1 for the internal stack trace (please do this especially if you're reporting a bug to PyTorch). For even more developer context, set TORCH_LOGS=\"+dynamo\"\n",
            "W0424 10:03:10.101000 21172 site-packages\\torch\\_dynamo\\convert_frame.py:1280] \n",
            "W0424 10:03:22.107000 21172 site-packages\\torch\\_dynamo\\convert_frame.py:1280] WON'T CONVERT forward c:\\Users\\paul-\\anaconda3\\envs\\py311\\Lib\\site-packages\\transformers\\models\\bert\\modeling_bert.py line 1003 \n",
            "W0424 10:03:22.107000 21172 site-packages\\torch\\_dynamo\\convert_frame.py:1280] due to: \n",
            "W0424 10:03:22.107000 21172 site-packages\\torch\\_dynamo\\convert_frame.py:1280] Traceback (most recent call last):\n",
            "W0424 10:03:22.107000 21172 site-packages\\torch\\_dynamo\\convert_frame.py:1280]   File \"c:\\Users\\paul-\\anaconda3\\envs\\py311\\Lib\\site-packages\\torch\\_dynamo\\convert_frame.py\", line 1213, in __call__\n",
            "W0424 10:03:22.107000 21172 site-packages\\torch\\_dynamo\\convert_frame.py:1280]     result = self._inner_convert(\n",
            "W0424 10:03:22.107000 21172 site-packages\\torch\\_dynamo\\convert_frame.py:1280]              ^^^^^^^^^^^^^^^^^^^^\n",
            "W0424 10:03:22.107000 21172 site-packages\\torch\\_dynamo\\convert_frame.py:1280]   File \"c:\\Users\\paul-\\anaconda3\\envs\\py311\\Lib\\site-packages\\torch\\_dynamo\\convert_frame.py\", line 598, in __call__\n",
            "W0424 10:03:22.107000 21172 site-packages\\torch\\_dynamo\\convert_frame.py:1280]     return _compile(\n",
            "W0424 10:03:22.107000 21172 site-packages\\torch\\_dynamo\\convert_frame.py:1280]            ^^^^^^^^^\n",
            "W0424 10:03:22.107000 21172 site-packages\\torch\\_dynamo\\convert_frame.py:1280]   File \"c:\\Users\\paul-\\anaconda3\\envs\\py311\\Lib\\site-packages\\torch\\_dynamo\\convert_frame.py\", line 1059, in _compile\n",
            "W0424 10:03:22.107000 21172 site-packages\\torch\\_dynamo\\convert_frame.py:1280]     guarded_code = compile_inner(code, one_graph, hooks, transform)\n",
            "W0424 10:03:22.107000 21172 site-packages\\torch\\_dynamo\\convert_frame.py:1280]                    ^^^^^^^^^^^^^^^^^^^^^^^^^^^^^^^^^^^^^^^^^^^^^^^^\n",
            "W0424 10:03:22.107000 21172 site-packages\\torch\\_dynamo\\convert_frame.py:1280]   File \"c:\\Users\\paul-\\anaconda3\\envs\\py311\\Lib\\site-packages\\torch\\_utils_internal.py\", line 97, in wrapper_function\n",
            "W0424 10:03:22.107000 21172 site-packages\\torch\\_dynamo\\convert_frame.py:1280]     return function(*args, **kwargs)\n",
            "W0424 10:03:22.107000 21172 site-packages\\torch\\_dynamo\\convert_frame.py:1280]            ^^^^^^^^^^^^^^^^^^^^^^^^^\n",
            "W0424 10:03:22.107000 21172 site-packages\\torch\\_dynamo\\convert_frame.py:1280]   File \"c:\\Users\\paul-\\anaconda3\\envs\\py311\\Lib\\site-packages\\torch\\_dynamo\\convert_frame.py\", line 761, in compile_inner\n",
            "W0424 10:03:22.107000 21172 site-packages\\torch\\_dynamo\\convert_frame.py:1280]     return _compile_inner(code, one_graph, hooks, transform)\n",
            "W0424 10:03:22.107000 21172 site-packages\\torch\\_dynamo\\convert_frame.py:1280]            ^^^^^^^^^^^^^^^^^^^^^^^^^^^^^^^^^^^^^^^^^^^^^^^^^\n",
            "W0424 10:03:22.107000 21172 site-packages\\torch\\_dynamo\\convert_frame.py:1280]   File \"c:\\Users\\paul-\\anaconda3\\envs\\py311\\Lib\\site-packages\\torch\\_dynamo\\convert_frame.py\", line 797, in _compile_inner\n",
            "W0424 10:03:22.107000 21172 site-packages\\torch\\_dynamo\\convert_frame.py:1280]     out_code = transform_code_object(code, transform)\n",
            "W0424 10:03:22.107000 21172 site-packages\\torch\\_dynamo\\convert_frame.py:1280]                ^^^^^^^^^^^^^^^^^^^^^^^^^^^^^^^^^^^^^^\n",
            "W0424 10:03:22.107000 21172 site-packages\\torch\\_dynamo\\convert_frame.py:1280]   File \"c:\\Users\\paul-\\anaconda3\\envs\\py311\\Lib\\site-packages\\torch\\_dynamo\\bytecode_transformation.py\", line 1422, in transform_code_object\n",
            "W0424 10:03:22.107000 21172 site-packages\\torch\\_dynamo\\convert_frame.py:1280]     transformations(instructions, code_options)\n",
            "W0424 10:03:22.107000 21172 site-packages\\torch\\_dynamo\\convert_frame.py:1280]   File \"c:\\Users\\paul-\\anaconda3\\envs\\py311\\Lib\\site-packages\\torch\\_dynamo\\convert_frame.py\", line 257, in _fn\n",
            "W0424 10:03:22.107000 21172 site-packages\\torch\\_dynamo\\convert_frame.py:1280]     return fn(*args, **kwargs)\n",
            "W0424 10:03:22.107000 21172 site-packages\\torch\\_dynamo\\convert_frame.py:1280]            ^^^^^^^^^^^^^^^^^^^\n",
            "W0424 10:03:22.107000 21172 site-packages\\torch\\_dynamo\\convert_frame.py:1280]   File \"c:\\Users\\paul-\\anaconda3\\envs\\py311\\Lib\\site-packages\\torch\\_dynamo\\convert_frame.py\", line 715, in transform\n",
            "W0424 10:03:22.107000 21172 site-packages\\torch\\_dynamo\\convert_frame.py:1280]     tracer.run()\n",
            "W0424 10:03:22.107000 21172 site-packages\\torch\\_dynamo\\convert_frame.py:1280]   File \"c:\\Users\\paul-\\anaconda3\\envs\\py311\\Lib\\site-packages\\torch\\_dynamo\\symbolic_convert.py\", line 3500, in run\n",
            "W0424 10:03:22.107000 21172 site-packages\\torch\\_dynamo\\convert_frame.py:1280]     super().run()\n",
            "W0424 10:03:22.107000 21172 site-packages\\torch\\_dynamo\\convert_frame.py:1280]   File \"c:\\Users\\paul-\\anaconda3\\envs\\py311\\Lib\\site-packages\\torch\\_dynamo\\symbolic_convert.py\", line 1337, in run\n",
            "W0424 10:03:22.107000 21172 site-packages\\torch\\_dynamo\\convert_frame.py:1280]     while self.step():\n",
            "W0424 10:03:22.107000 21172 site-packages\\torch\\_dynamo\\convert_frame.py:1280]           ^^^^^^^^^^^\n",
            "W0424 10:03:22.107000 21172 site-packages\\torch\\_dynamo\\convert_frame.py:1280]   File \"c:\\Users\\paul-\\anaconda3\\envs\\py311\\Lib\\site-packages\\torch\\_dynamo\\symbolic_convert.py\", line 1246, in step\n",
            "W0424 10:03:22.107000 21172 site-packages\\torch\\_dynamo\\convert_frame.py:1280]     self.dispatch_table[inst.opcode](self, inst)\n",
            "W0424 10:03:22.107000 21172 site-packages\\torch\\_dynamo\\convert_frame.py:1280]   File \"c:\\Users\\paul-\\anaconda3\\envs\\py311\\Lib\\site-packages\\torch\\_dynamo\\symbolic_convert.py\", line 3701, in RETURN_VALUE\n",
            "W0424 10:03:22.107000 21172 site-packages\\torch\\_dynamo\\convert_frame.py:1280]     self._return(inst)\n",
            "W0424 10:03:22.107000 21172 site-packages\\torch\\_dynamo\\convert_frame.py:1280]   File \"c:\\Users\\paul-\\anaconda3\\envs\\py311\\Lib\\site-packages\\torch\\_dynamo\\symbolic_convert.py\", line 3686, in _return\n",
            "W0424 10:03:22.107000 21172 site-packages\\torch\\_dynamo\\convert_frame.py:1280]     self.output.compile_subgraph(\n",
            "W0424 10:03:22.107000 21172 site-packages\\torch\\_dynamo\\convert_frame.py:1280]   File \"c:\\Users\\paul-\\anaconda3\\envs\\py311\\Lib\\site-packages\\torch\\_dynamo\\output_graph.py\", line 1179, in compile_subgraph\n",
            "W0424 10:03:22.107000 21172 site-packages\\torch\\_dynamo\\convert_frame.py:1280]     self.compile_and_call_fx_graph(\n",
            "W0424 10:03:22.107000 21172 site-packages\\torch\\_dynamo\\convert_frame.py:1280]   File \"c:\\Users\\paul-\\anaconda3\\envs\\py311\\Lib\\site-packages\\torch\\_dynamo\\output_graph.py\", line 1437, in compile_and_call_fx_graph\n",
            "W0424 10:03:22.107000 21172 site-packages\\torch\\_dynamo\\convert_frame.py:1280]     compiled_fn = self.call_user_compiler(gm)\n",
            "W0424 10:03:22.107000 21172 site-packages\\torch\\_dynamo\\convert_frame.py:1280]                   ^^^^^^^^^^^^^^^^^^^^^^^^^^^\n",
            "W0424 10:03:22.107000 21172 site-packages\\torch\\_dynamo\\convert_frame.py:1280]   File \"c:\\Users\\paul-\\anaconda3\\envs\\py311\\Lib\\site-packages\\torch\\_dynamo\\output_graph.py\", line 1487, in call_user_compiler\n",
            "W0424 10:03:22.107000 21172 site-packages\\torch\\_dynamo\\convert_frame.py:1280]     return self._call_user_compiler(gm)\n",
            "W0424 10:03:22.107000 21172 site-packages\\torch\\_dynamo\\convert_frame.py:1280]            ^^^^^^^^^^^^^^^^^^^^^^^^^^^^\n",
            "W0424 10:03:22.107000 21172 site-packages\\torch\\_dynamo\\convert_frame.py:1280]   File \"c:\\Users\\paul-\\anaconda3\\envs\\py311\\Lib\\site-packages\\torch\\_dynamo\\output_graph.py\", line 1519, in _call_user_compiler\n",
            "W0424 10:03:22.107000 21172 site-packages\\torch\\_dynamo\\convert_frame.py:1280]     compiled_fn = compiler_fn(gm, self.example_inputs())\n",
            "W0424 10:03:22.107000 21172 site-packages\\torch\\_dynamo\\convert_frame.py:1280]                   ^^^^^^^^^^^^^^^^^^^^^^^^^^^^^^^^^^^^^^\n",
            "W0424 10:03:22.107000 21172 site-packages\\torch\\_dynamo\\convert_frame.py:1280]   File \"c:\\Users\\paul-\\anaconda3\\envs\\py311\\Lib\\site-packages\\torch\\_dynamo\\repro\\after_dynamo.py\", line 150, in __call__\n",
            "W0424 10:03:22.107000 21172 site-packages\\torch\\_dynamo\\convert_frame.py:1280]     compiled_gm = compiler_fn(gm, example_inputs)\n",
            "W0424 10:03:22.107000 21172 site-packages\\torch\\_dynamo\\convert_frame.py:1280]                   ^^^^^^^^^^^^^^^^^^^^^^^^^^^^^^^\n",
            "W0424 10:03:22.107000 21172 site-packages\\torch\\_dynamo\\convert_frame.py:1280]   File \"c:\\Users\\paul-\\anaconda3\\envs\\py311\\Lib\\site-packages\\torch\\__init__.py\", line 2347, in __call__\n",
            "W0424 10:03:22.107000 21172 site-packages\\torch\\_dynamo\\convert_frame.py:1280]     return compile_fx(model_, inputs_, config_patches=self.config)\n",
            "W0424 10:03:22.107000 21172 site-packages\\torch\\_dynamo\\convert_frame.py:1280]            ^^^^^^^^^^^^^^^^^^^^^^^^^^^^^^^^^^^^^^^^^^^^^^^^^^^^^^^\n",
            "W0424 10:03:22.107000 21172 site-packages\\torch\\_dynamo\\convert_frame.py:1280]   File \"c:\\Users\\paul-\\anaconda3\\envs\\py311\\Lib\\site-packages\\torch\\_inductor\\compile_fx.py\", line 2101, in compile_fx\n",
            "W0424 10:03:22.107000 21172 site-packages\\torch\\_dynamo\\convert_frame.py:1280]     raise e.remove_dynamo_frames() from None  # see TORCHDYNAMO_VERBOSE=1\n",
            "W0424 10:03:22.107000 21172 site-packages\\torch\\_dynamo\\convert_frame.py:1280]     ^^^^^^^^^^^^^^^^^^^^^^^^^^^^^^^^^^^^^^^^\n",
            "W0424 10:03:22.107000 21172 site-packages\\torch\\_dynamo\\convert_frame.py:1280]   File \"c:\\Users\\paul-\\anaconda3\\envs\\py311\\Lib\\site-packages\\torch\\_inductor\\compile_fx.py\", line 760, in _compile_fx_inner\n",
            "W0424 10:03:22.107000 21172 site-packages\\torch\\_dynamo\\convert_frame.py:1280]     raise InductorError(e, currentframe()).with_traceback(\n",
            "W0424 10:03:22.107000 21172 site-packages\\torch\\_dynamo\\convert_frame.py:1280]   File \"c:\\Users\\paul-\\anaconda3\\envs\\py311\\Lib\\site-packages\\torch\\_inductor\\compile_fx.py\", line 745, in _compile_fx_inner\n",
            "W0424 10:03:22.107000 21172 site-packages\\torch\\_dynamo\\convert_frame.py:1280]     mb_compiled_graph = fx_codegen_and_compile(\n",
            "W0424 10:03:22.107000 21172 site-packages\\torch\\_dynamo\\convert_frame.py:1280]                         ^^^^^^^^^^^^^^^^^^^^^^^\n",
            "W0424 10:03:22.107000 21172 site-packages\\torch\\_dynamo\\convert_frame.py:1280]   File \"c:\\Users\\paul-\\anaconda3\\envs\\py311\\Lib\\site-packages\\torch\\_inductor\\compile_fx.py\", line 1295, in fx_codegen_and_compile\n",
            "W0424 10:03:22.107000 21172 site-packages\\torch\\_dynamo\\convert_frame.py:1280]     return scheme.codegen_and_compile(gm, example_inputs, inputs_to_check, graph_kwargs)\n",
            "W0424 10:03:22.107000 21172 site-packages\\torch\\_dynamo\\convert_frame.py:1280]            ^^^^^^^^^^^^^^^^^^^^^^^^^^^^^^^^^^^^^^^^^^^^^^^^^^^^^^^^^^^^^^^^^^^^^^^^^^^^^\n",
            "W0424 10:03:22.107000 21172 site-packages\\torch\\_dynamo\\convert_frame.py:1280]   File \"c:\\Users\\paul-\\anaconda3\\envs\\py311\\Lib\\site-packages\\torch\\_inductor\\compile_fx.py\", line 1197, in codegen_and_compile\n",
            "W0424 10:03:22.107000 21172 site-packages\\torch\\_dynamo\\convert_frame.py:1280]     compiled_fn = graph.compile_to_module().call\n",
            "W0424 10:03:22.107000 21172 site-packages\\torch\\_dynamo\\convert_frame.py:1280]                   ^^^^^^^^^^^^^^^^^^^^^^^^^\n",
            "W0424 10:03:22.107000 21172 site-packages\\torch\\_dynamo\\convert_frame.py:1280]   File \"c:\\Users\\paul-\\anaconda3\\envs\\py311\\Lib\\site-packages\\torch\\_inductor\\graph.py\", line 2083, in compile_to_module\n",
            "W0424 10:03:22.107000 21172 site-packages\\torch\\_dynamo\\convert_frame.py:1280]     return self._compile_to_module()\n",
            "W0424 10:03:22.107000 21172 site-packages\\torch\\_dynamo\\convert_frame.py:1280]            ^^^^^^^^^^^^^^^^^^^^^^^^^\n",
            "W0424 10:03:22.107000 21172 site-packages\\torch\\_dynamo\\convert_frame.py:1280]   File \"c:\\Users\\paul-\\anaconda3\\envs\\py311\\Lib\\site-packages\\torch\\_inductor\\graph.py\", line 2091, in _compile_to_module\n",
            "W0424 10:03:22.107000 21172 site-packages\\torch\\_dynamo\\convert_frame.py:1280]     self.codegen_with_cpp_wrapper() if self.cpp_wrapper else self.codegen()\n",
            "W0424 10:03:22.107000 21172 site-packages\\torch\\_dynamo\\convert_frame.py:1280]                                                              ^^^^^^^^^^^^^^\n",
            "W0424 10:03:22.107000 21172 site-packages\\torch\\_dynamo\\convert_frame.py:1280]   File \"c:\\Users\\paul-\\anaconda3\\envs\\py311\\Lib\\site-packages\\torch\\_inductor\\graph.py\", line 2002, in codegen\n",
            "W0424 10:03:22.107000 21172 site-packages\\torch\\_dynamo\\convert_frame.py:1280]     self.scheduler.codegen()\n",
            "W0424 10:03:22.107000 21172 site-packages\\torch\\_dynamo\\convert_frame.py:1280]   File \"c:\\Users\\paul-\\anaconda3\\envs\\py311\\Lib\\site-packages\\torch\\_inductor\\scheduler.py\", line 4135, in codegen\n",
            "W0424 10:03:22.107000 21172 site-packages\\torch\\_dynamo\\convert_frame.py:1280]     else self._codegen(self.nodes)\n",
            "W0424 10:03:22.107000 21172 site-packages\\torch\\_dynamo\\convert_frame.py:1280]          ^^^^^^^^^^^^^^^^^^^^^^^^^\n",
            "W0424 10:03:22.107000 21172 site-packages\\torch\\_dynamo\\convert_frame.py:1280]   File \"c:\\Users\\paul-\\anaconda3\\envs\\py311\\Lib\\site-packages\\torch\\_inductor\\scheduler.py\", line 4264, in _codegen\n",
            "W0424 10:03:22.107000 21172 site-packages\\torch\\_dynamo\\convert_frame.py:1280]     self.get_backend(device).codegen_node(node)\n",
            "W0424 10:03:22.107000 21172 site-packages\\torch\\_dynamo\\convert_frame.py:1280]   File \"c:\\Users\\paul-\\anaconda3\\envs\\py311\\Lib\\site-packages\\torch\\_inductor\\codegen\\cpp.py\", line 4986, in codegen_node\n",
            "W0424 10:03:22.107000 21172 site-packages\\torch\\_dynamo\\convert_frame.py:1280]     cpp_kernel_proxy = CppKernelProxy(kernel_group)\n",
            "W0424 10:03:22.107000 21172 site-packages\\torch\\_dynamo\\convert_frame.py:1280]                        ^^^^^^^^^^^^^^^^^^^^^^^^^^^^\n",
            "W0424 10:03:22.107000 21172 site-packages\\torch\\_dynamo\\convert_frame.py:1280]   File \"c:\\Users\\paul-\\anaconda3\\envs\\py311\\Lib\\site-packages\\torch\\_inductor\\codegen\\cpp.py\", line 3734, in __init__\n",
            "W0424 10:03:22.107000 21172 site-packages\\torch\\_dynamo\\convert_frame.py:1280]     self.picked_vec_isa: cpu_vec_isa.VecISA = cpu_vec_isa.pick_vec_isa()\n",
            "W0424 10:03:22.107000 21172 site-packages\\torch\\_dynamo\\convert_frame.py:1280]                                               ^^^^^^^^^^^^^^^^^^^^^^^^^^\n",
            "W0424 10:03:22.107000 21172 site-packages\\torch\\_dynamo\\convert_frame.py:1280]   File \"c:\\Users\\paul-\\anaconda3\\envs\\py311\\Lib\\site-packages\\torch\\_inductor\\cpu_vec_isa.py\", line 418, in pick_vec_isa\n",
            "W0424 10:03:22.107000 21172 site-packages\\torch\\_dynamo\\convert_frame.py:1280]     _valid_vec_isa_list: list[VecISA] = valid_vec_isa_list()\n",
            "W0424 10:03:22.107000 21172 site-packages\\torch\\_dynamo\\convert_frame.py:1280]                                         ^^^^^^^^^^^^^^^^^^^^\n",
            "W0424 10:03:22.107000 21172 site-packages\\torch\\_dynamo\\convert_frame.py:1280]   File \"c:\\Users\\paul-\\anaconda3\\envs\\py311\\Lib\\site-packages\\torch\\_inductor\\cpu_vec_isa.py\", line 405, in valid_vec_isa_list\n",
            "W0424 10:03:22.107000 21172 site-packages\\torch\\_dynamo\\convert_frame.py:1280]     isa_list.extend(\n",
            "W0424 10:03:22.107000 21172 site-packages\\torch\\_dynamo\\convert_frame.py:1280]   File \"c:\\Users\\paul-\\anaconda3\\envs\\py311\\Lib\\site-packages\\torch\\_inductor\\cpu_vec_isa.py\", line 405, in <genexpr>\n",
            "W0424 10:03:22.107000 21172 site-packages\\torch\\_dynamo\\convert_frame.py:1280]     isa_list.extend(\n",
            "W0424 10:03:22.107000 21172 site-packages\\torch\\_dynamo\\convert_frame.py:1280]                    ^\n",
            "W0424 10:03:22.107000 21172 site-packages\\torch\\_dynamo\\convert_frame.py:1280]   File \"c:\\Users\\paul-\\anaconda3\\envs\\py311\\Lib\\site-packages\\torch\\_inductor\\cpu_vec_isa.py\", line 142, in __bool__\n",
            "W0424 10:03:22.107000 21172 site-packages\\torch\\_dynamo\\convert_frame.py:1280]     return self.__bool__impl(config.cpp.vec_isa_ok)\n",
            "W0424 10:03:22.107000 21172 site-packages\\torch\\_dynamo\\convert_frame.py:1280]            ^^^^^^^^^^^^^^^^^^^^^^^^^^^^^^^^^^^^^^^^\n",
            "W0424 10:03:22.107000 21172 site-packages\\torch\\_dynamo\\convert_frame.py:1280]   File \"c:\\Users\\paul-\\anaconda3\\envs\\py311\\Lib\\site-packages\\torch\\_inductor\\cpu_vec_isa.py\", line 152, in __bool__impl\n",
            "W0424 10:03:22.107000 21172 site-packages\\torch\\_dynamo\\convert_frame.py:1280]     return self.check_build(VecISA._avx_code)\n",
            "W0424 10:03:22.107000 21172 site-packages\\torch\\_dynamo\\convert_frame.py:1280]            ^^^^^^^^^^^^^^^^^^^^^^^^^^^^^^^^^^\n",
            "W0424 10:03:22.107000 21172 site-packages\\torch\\_dynamo\\convert_frame.py:1280]   File \"c:\\Users\\paul-\\anaconda3\\envs\\py311\\Lib\\site-packages\\torch\\_inductor\\cpu_vec_isa.py\", line 102, in check_build\n",
            "W0424 10:03:22.107000 21172 site-packages\\torch\\_dynamo\\convert_frame.py:1280]     extra=_get_isa_dry_compile_fingerprint(self._arch_flags),\n",
            "W0424 10:03:22.107000 21172 site-packages\\torch\\_dynamo\\convert_frame.py:1280]           ^^^^^^^^^^^^^^^^^^^^^^^^^^^^^^^^^^^^^^^^^^^^^^^^^^\n",
            "W0424 10:03:22.107000 21172 site-packages\\torch\\_dynamo\\convert_frame.py:1280]   File \"c:\\Users\\paul-\\anaconda3\\envs\\py311\\Lib\\site-packages\\torch\\_inductor\\cpu_vec_isa.py\", line 28, in _get_isa_dry_compile_fingerprint\n",
            "W0424 10:03:22.107000 21172 site-packages\\torch\\_dynamo\\convert_frame.py:1280]     compiler_info = get_compiler_version_info(get_cpp_compiler())\n",
            "W0424 10:03:22.107000 21172 site-packages\\torch\\_dynamo\\convert_frame.py:1280]                                               ^^^^^^^^^^^^^^^^^^\n",
            "W0424 10:03:22.107000 21172 site-packages\\torch\\_dynamo\\convert_frame.py:1280]   File \"c:\\Users\\paul-\\anaconda3\\envs\\py311\\Lib\\site-packages\\torch\\_inductor\\cpp_builder.py\", line 148, in get_cpp_compiler\n",
            "W0424 10:03:22.107000 21172 site-packages\\torch\\_dynamo\\convert_frame.py:1280]     check_compiler_exist_windows(compiler)\n",
            "W0424 10:03:22.107000 21172 site-packages\\torch\\_dynamo\\convert_frame.py:1280]   File \"c:\\Users\\paul-\\anaconda3\\envs\\py311\\Lib\\site-packages\\torch\\_inductor\\cpp_builder.py\", line 139, in check_compiler_exist_windows\n",
            "W0424 10:03:22.107000 21172 site-packages\\torch\\_dynamo\\convert_frame.py:1280]     raise RuntimeError(f\"Compiler: {compiler} is not found.\") from exc\n",
            "W0424 10:03:22.107000 21172 site-packages\\torch\\_dynamo\\convert_frame.py:1280] torch._inductor.exc.InductorError: RuntimeError: Compiler: cl is not found.\n",
            "W0424 10:03:22.107000 21172 site-packages\\torch\\_dynamo\\convert_frame.py:1280] \n",
            "W0424 10:03:22.107000 21172 site-packages\\torch\\_dynamo\\convert_frame.py:1280] Set TORCHDYNAMO_VERBOSE=1 for the internal stack trace (please do this especially if you're reporting a bug to PyTorch). For even more developer context, set TORCH_LOGS=\"+dynamo\"\n",
            "W0424 10:03:22.107000 21172 site-packages\\torch\\_dynamo\\convert_frame.py:1280] \n",
            "W0424 10:03:22.107000 21172 site-packages\\torch\\_dynamo\\convert_frame.py:1280] Traceback (most recent call last):\n",
            "W0424 10:03:22.107000 21172 site-packages\\torch\\_dynamo\\convert_frame.py:1280]   File \"c:\\Users\\paul-\\anaconda3\\envs\\py311\\Lib\\site-packages\\torch\\_dynamo\\convert_frame.py\", line 1213, in __call__\n",
            "W0424 10:03:22.107000 21172 site-packages\\torch\\_dynamo\\convert_frame.py:1280]     result = self._inner_convert(\n",
            "W0424 10:03:22.107000 21172 site-packages\\torch\\_dynamo\\convert_frame.py:1280]              ^^^^^^^^^^^^^^^^^^^^\n",
            "W0424 10:03:22.107000 21172 site-packages\\torch\\_dynamo\\convert_frame.py:1280]   File \"c:\\Users\\paul-\\anaconda3\\envs\\py311\\Lib\\site-packages\\torch\\_dynamo\\convert_frame.py\", line 598, in __call__\n",
            "W0424 10:03:22.107000 21172 site-packages\\torch\\_dynamo\\convert_frame.py:1280]     return _compile(\n",
            "W0424 10:03:22.107000 21172 site-packages\\torch\\_dynamo\\convert_frame.py:1280]            ^^^^^^^^^\n",
            "W0424 10:03:22.107000 21172 site-packages\\torch\\_dynamo\\convert_frame.py:1280]   File \"c:\\Users\\paul-\\anaconda3\\envs\\py311\\Lib\\site-packages\\torch\\_dynamo\\convert_frame.py\", line 1059, in _compile\n",
            "W0424 10:03:22.107000 21172 site-packages\\torch\\_dynamo\\convert_frame.py:1280]     guarded_code = compile_inner(code, one_graph, hooks, transform)\n",
            "W0424 10:03:22.107000 21172 site-packages\\torch\\_dynamo\\convert_frame.py:1280]                    ^^^^^^^^^^^^^^^^^^^^^^^^^^^^^^^^^^^^^^^^^^^^^^^^\n",
            "W0424 10:03:22.107000 21172 site-packages\\torch\\_dynamo\\convert_frame.py:1280]   File \"c:\\Users\\paul-\\anaconda3\\envs\\py311\\Lib\\site-packages\\torch\\_utils_internal.py\", line 97, in wrapper_function\n",
            "W0424 10:03:22.107000 21172 site-packages\\torch\\_dynamo\\convert_frame.py:1280]     return function(*args, **kwargs)\n",
            "W0424 10:03:22.107000 21172 site-packages\\torch\\_dynamo\\convert_frame.py:1280]            ^^^^^^^^^^^^^^^^^^^^^^^^^\n",
            "W0424 10:03:22.107000 21172 site-packages\\torch\\_dynamo\\convert_frame.py:1280]   File \"c:\\Users\\paul-\\anaconda3\\envs\\py311\\Lib\\site-packages\\torch\\_dynamo\\convert_frame.py\", line 761, in compile_inner\n",
            "W0424 10:03:22.107000 21172 site-packages\\torch\\_dynamo\\convert_frame.py:1280]     return _compile_inner(code, one_graph, hooks, transform)\n",
            "W0424 10:03:22.107000 21172 site-packages\\torch\\_dynamo\\convert_frame.py:1280]            ^^^^^^^^^^^^^^^^^^^^^^^^^^^^^^^^^^^^^^^^^^^^^^^^^\n",
            "W0424 10:03:22.107000 21172 site-packages\\torch\\_dynamo\\convert_frame.py:1280]   File \"c:\\Users\\paul-\\anaconda3\\envs\\py311\\Lib\\site-packages\\torch\\_dynamo\\convert_frame.py\", line 797, in _compile_inner\n",
            "W0424 10:03:22.107000 21172 site-packages\\torch\\_dynamo\\convert_frame.py:1280]     out_code = transform_code_object(code, transform)\n",
            "W0424 10:03:22.107000 21172 site-packages\\torch\\_dynamo\\convert_frame.py:1280]                ^^^^^^^^^^^^^^^^^^^^^^^^^^^^^^^^^^^^^^\n",
            "W0424 10:03:22.107000 21172 site-packages\\torch\\_dynamo\\convert_frame.py:1280]   File \"c:\\Users\\paul-\\anaconda3\\envs\\py311\\Lib\\site-packages\\torch\\_dynamo\\bytecode_transformation.py\", line 1422, in transform_code_object\n",
            "W0424 10:03:22.107000 21172 site-packages\\torch\\_dynamo\\convert_frame.py:1280]     transformations(instructions, code_options)\n",
            "W0424 10:03:22.107000 21172 site-packages\\torch\\_dynamo\\convert_frame.py:1280]   File \"c:\\Users\\paul-\\anaconda3\\envs\\py311\\Lib\\site-packages\\torch\\_dynamo\\convert_frame.py\", line 257, in _fn\n",
            "W0424 10:03:22.107000 21172 site-packages\\torch\\_dynamo\\convert_frame.py:1280]     return fn(*args, **kwargs)\n",
            "W0424 10:03:22.107000 21172 site-packages\\torch\\_dynamo\\convert_frame.py:1280]            ^^^^^^^^^^^^^^^^^^^\n",
            "W0424 10:03:22.107000 21172 site-packages\\torch\\_dynamo\\convert_frame.py:1280]   File \"c:\\Users\\paul-\\anaconda3\\envs\\py311\\Lib\\site-packages\\torch\\_dynamo\\convert_frame.py\", line 715, in transform\n",
            "W0424 10:03:22.107000 21172 site-packages\\torch\\_dynamo\\convert_frame.py:1280]     tracer.run()\n",
            "W0424 10:03:22.107000 21172 site-packages\\torch\\_dynamo\\convert_frame.py:1280]   File \"c:\\Users\\paul-\\anaconda3\\envs\\py311\\Lib\\site-packages\\torch\\_dynamo\\symbolic_convert.py\", line 3500, in run\n",
            "W0424 10:03:22.107000 21172 site-packages\\torch\\_dynamo\\convert_frame.py:1280]     super().run()\n",
            "W0424 10:03:22.107000 21172 site-packages\\torch\\_dynamo\\convert_frame.py:1280]   File \"c:\\Users\\paul-\\anaconda3\\envs\\py311\\Lib\\site-packages\\torch\\_dynamo\\symbolic_convert.py\", line 1337, in run\n",
            "W0424 10:03:22.107000 21172 site-packages\\torch\\_dynamo\\convert_frame.py:1280]     while self.step():\n",
            "W0424 10:03:22.107000 21172 site-packages\\torch\\_dynamo\\convert_frame.py:1280]           ^^^^^^^^^^^\n",
            "W0424 10:03:22.107000 21172 site-packages\\torch\\_dynamo\\convert_frame.py:1280]   File \"c:\\Users\\paul-\\anaconda3\\envs\\py311\\Lib\\site-packages\\torch\\_dynamo\\symbolic_convert.py\", line 1246, in step\n",
            "W0424 10:03:22.107000 21172 site-packages\\torch\\_dynamo\\convert_frame.py:1280]     self.dispatch_table[inst.opcode](self, inst)\n",
            "W0424 10:03:22.107000 21172 site-packages\\torch\\_dynamo\\convert_frame.py:1280]   File \"c:\\Users\\paul-\\anaconda3\\envs\\py311\\Lib\\site-packages\\torch\\_dynamo\\symbolic_convert.py\", line 3701, in RETURN_VALUE\n",
            "W0424 10:03:22.107000 21172 site-packages\\torch\\_dynamo\\convert_frame.py:1280]     self._return(inst)\n",
            "W0424 10:03:22.107000 21172 site-packages\\torch\\_dynamo\\convert_frame.py:1280]   File \"c:\\Users\\paul-\\anaconda3\\envs\\py311\\Lib\\site-packages\\torch\\_dynamo\\symbolic_convert.py\", line 3686, in _return\n",
            "W0424 10:03:22.107000 21172 site-packages\\torch\\_dynamo\\convert_frame.py:1280]     self.output.compile_subgraph(\n",
            "W0424 10:03:22.107000 21172 site-packages\\torch\\_dynamo\\convert_frame.py:1280]   File \"c:\\Users\\paul-\\anaconda3\\envs\\py311\\Lib\\site-packages\\torch\\_dynamo\\output_graph.py\", line 1179, in compile_subgraph\n",
            "W0424 10:03:22.107000 21172 site-packages\\torch\\_dynamo\\convert_frame.py:1280]     self.compile_and_call_fx_graph(\n",
            "W0424 10:03:22.107000 21172 site-packages\\torch\\_dynamo\\convert_frame.py:1280]   File \"c:\\Users\\paul-\\anaconda3\\envs\\py311\\Lib\\site-packages\\torch\\_dynamo\\output_graph.py\", line 1437, in compile_and_call_fx_graph\n",
            "W0424 10:03:22.107000 21172 site-packages\\torch\\_dynamo\\convert_frame.py:1280]     compiled_fn = self.call_user_compiler(gm)\n",
            "W0424 10:03:22.107000 21172 site-packages\\torch\\_dynamo\\convert_frame.py:1280]                   ^^^^^^^^^^^^^^^^^^^^^^^^^^^\n",
            "W0424 10:03:22.107000 21172 site-packages\\torch\\_dynamo\\convert_frame.py:1280]   File \"c:\\Users\\paul-\\anaconda3\\envs\\py311\\Lib\\site-packages\\torch\\_dynamo\\output_graph.py\", line 1487, in call_user_compiler\n",
            "W0424 10:03:22.107000 21172 site-packages\\torch\\_dynamo\\convert_frame.py:1280]     return self._call_user_compiler(gm)\n",
            "W0424 10:03:22.107000 21172 site-packages\\torch\\_dynamo\\convert_frame.py:1280]            ^^^^^^^^^^^^^^^^^^^^^^^^^^^^\n",
            "W0424 10:03:22.107000 21172 site-packages\\torch\\_dynamo\\convert_frame.py:1280]   File \"c:\\Users\\paul-\\anaconda3\\envs\\py311\\Lib\\site-packages\\torch\\_dynamo\\output_graph.py\", line 1519, in _call_user_compiler\n",
            "W0424 10:03:22.107000 21172 site-packages\\torch\\_dynamo\\convert_frame.py:1280]     compiled_fn = compiler_fn(gm, self.example_inputs())\n",
            "W0424 10:03:22.107000 21172 site-packages\\torch\\_dynamo\\convert_frame.py:1280]                   ^^^^^^^^^^^^^^^^^^^^^^^^^^^^^^^^^^^^^^\n",
            "W0424 10:03:22.107000 21172 site-packages\\torch\\_dynamo\\convert_frame.py:1280]   File \"c:\\Users\\paul-\\anaconda3\\envs\\py311\\Lib\\site-packages\\torch\\_dynamo\\repro\\after_dynamo.py\", line 150, in __call__\n",
            "W0424 10:03:22.107000 21172 site-packages\\torch\\_dynamo\\convert_frame.py:1280]     compiled_gm = compiler_fn(gm, example_inputs)\n",
            "W0424 10:03:22.107000 21172 site-packages\\torch\\_dynamo\\convert_frame.py:1280]                   ^^^^^^^^^^^^^^^^^^^^^^^^^^^^^^^\n",
            "W0424 10:03:22.107000 21172 site-packages\\torch\\_dynamo\\convert_frame.py:1280]   File \"c:\\Users\\paul-\\anaconda3\\envs\\py311\\Lib\\site-packages\\torch\\__init__.py\", line 2347, in __call__\n",
            "W0424 10:03:22.107000 21172 site-packages\\torch\\_dynamo\\convert_frame.py:1280]     return compile_fx(model_, inputs_, config_patches=self.config)\n",
            "W0424 10:03:22.107000 21172 site-packages\\torch\\_dynamo\\convert_frame.py:1280]            ^^^^^^^^^^^^^^^^^^^^^^^^^^^^^^^^^^^^^^^^^^^^^^^^^^^^^^^\n",
            "W0424 10:03:22.107000 21172 site-packages\\torch\\_dynamo\\convert_frame.py:1280]   File \"c:\\Users\\paul-\\anaconda3\\envs\\py311\\Lib\\site-packages\\torch\\_inductor\\compile_fx.py\", line 2101, in compile_fx\n",
            "W0424 10:03:22.107000 21172 site-packages\\torch\\_dynamo\\convert_frame.py:1280]     raise e.remove_dynamo_frames() from None  # see TORCHDYNAMO_VERBOSE=1\n",
            "W0424 10:03:22.107000 21172 site-packages\\torch\\_dynamo\\convert_frame.py:1280]     ^^^^^^^^^^^^^^^^^^^^^^^^^^^^^^^^^^^^^^^^\n",
            "W0424 10:03:22.107000 21172 site-packages\\torch\\_dynamo\\convert_frame.py:1280]   File \"c:\\Users\\paul-\\anaconda3\\envs\\py311\\Lib\\site-packages\\torch\\_inductor\\compile_fx.py\", line 760, in _compile_fx_inner\n",
            "W0424 10:03:22.107000 21172 site-packages\\torch\\_dynamo\\convert_frame.py:1280]     raise InductorError(e, currentframe()).with_traceback(\n",
            "W0424 10:03:22.107000 21172 site-packages\\torch\\_dynamo\\convert_frame.py:1280]   File \"c:\\Users\\paul-\\anaconda3\\envs\\py311\\Lib\\site-packages\\torch\\_inductor\\compile_fx.py\", line 745, in _compile_fx_inner\n",
            "W0424 10:03:22.107000 21172 site-packages\\torch\\_dynamo\\convert_frame.py:1280]     mb_compiled_graph = fx_codegen_and_compile(\n",
            "W0424 10:03:22.107000 21172 site-packages\\torch\\_dynamo\\convert_frame.py:1280]                         ^^^^^^^^^^^^^^^^^^^^^^^\n",
            "W0424 10:03:22.107000 21172 site-packages\\torch\\_dynamo\\convert_frame.py:1280]   File \"c:\\Users\\paul-\\anaconda3\\envs\\py311\\Lib\\site-packages\\torch\\_inductor\\compile_fx.py\", line 1295, in fx_codegen_and_compile\n",
            "W0424 10:03:22.107000 21172 site-packages\\torch\\_dynamo\\convert_frame.py:1280]     return scheme.codegen_and_compile(gm, example_inputs, inputs_to_check, graph_kwargs)\n",
            "W0424 10:03:22.107000 21172 site-packages\\torch\\_dynamo\\convert_frame.py:1280]            ^^^^^^^^^^^^^^^^^^^^^^^^^^^^^^^^^^^^^^^^^^^^^^^^^^^^^^^^^^^^^^^^^^^^^^^^^^^^^\n",
            "W0424 10:03:22.107000 21172 site-packages\\torch\\_dynamo\\convert_frame.py:1280]   File \"c:\\Users\\paul-\\anaconda3\\envs\\py311\\Lib\\site-packages\\torch\\_inductor\\compile_fx.py\", line 1197, in codegen_and_compile\n",
            "W0424 10:03:22.107000 21172 site-packages\\torch\\_dynamo\\convert_frame.py:1280]     compiled_fn = graph.compile_to_module().call\n",
            "W0424 10:03:22.107000 21172 site-packages\\torch\\_dynamo\\convert_frame.py:1280]                   ^^^^^^^^^^^^^^^^^^^^^^^^^\n",
            "W0424 10:03:22.107000 21172 site-packages\\torch\\_dynamo\\convert_frame.py:1280]   File \"c:\\Users\\paul-\\anaconda3\\envs\\py311\\Lib\\site-packages\\torch\\_inductor\\graph.py\", line 2083, in compile_to_module\n",
            "W0424 10:03:22.107000 21172 site-packages\\torch\\_dynamo\\convert_frame.py:1280]     return self._compile_to_module()\n",
            "W0424 10:03:22.107000 21172 site-packages\\torch\\_dynamo\\convert_frame.py:1280]            ^^^^^^^^^^^^^^^^^^^^^^^^^\n",
            "W0424 10:03:22.107000 21172 site-packages\\torch\\_dynamo\\convert_frame.py:1280]   File \"c:\\Users\\paul-\\anaconda3\\envs\\py311\\Lib\\site-packages\\torch\\_inductor\\graph.py\", line 2091, in _compile_to_module\n",
            "W0424 10:03:22.107000 21172 site-packages\\torch\\_dynamo\\convert_frame.py:1280]     self.codegen_with_cpp_wrapper() if self.cpp_wrapper else self.codegen()\n",
            "W0424 10:03:22.107000 21172 site-packages\\torch\\_dynamo\\convert_frame.py:1280]                                                              ^^^^^^^^^^^^^^\n",
            "W0424 10:03:22.107000 21172 site-packages\\torch\\_dynamo\\convert_frame.py:1280]   File \"c:\\Users\\paul-\\anaconda3\\envs\\py311\\Lib\\site-packages\\torch\\_inductor\\graph.py\", line 2002, in codegen\n",
            "W0424 10:03:22.107000 21172 site-packages\\torch\\_dynamo\\convert_frame.py:1280]     self.scheduler.codegen()\n",
            "W0424 10:03:22.107000 21172 site-packages\\torch\\_dynamo\\convert_frame.py:1280]   File \"c:\\Users\\paul-\\anaconda3\\envs\\py311\\Lib\\site-packages\\torch\\_inductor\\scheduler.py\", line 4135, in codegen\n",
            "W0424 10:03:22.107000 21172 site-packages\\torch\\_dynamo\\convert_frame.py:1280]     else self._codegen(self.nodes)\n",
            "W0424 10:03:22.107000 21172 site-packages\\torch\\_dynamo\\convert_frame.py:1280]          ^^^^^^^^^^^^^^^^^^^^^^^^^\n",
            "W0424 10:03:22.107000 21172 site-packages\\torch\\_dynamo\\convert_frame.py:1280]   File \"c:\\Users\\paul-\\anaconda3\\envs\\py311\\Lib\\site-packages\\torch\\_inductor\\scheduler.py\", line 4264, in _codegen\n",
            "W0424 10:03:22.107000 21172 site-packages\\torch\\_dynamo\\convert_frame.py:1280]     self.get_backend(device).codegen_node(node)\n",
            "W0424 10:03:22.107000 21172 site-packages\\torch\\_dynamo\\convert_frame.py:1280]   File \"c:\\Users\\paul-\\anaconda3\\envs\\py311\\Lib\\site-packages\\torch\\_inductor\\codegen\\cpp.py\", line 4986, in codegen_node\n",
            "W0424 10:03:22.107000 21172 site-packages\\torch\\_dynamo\\convert_frame.py:1280]     cpp_kernel_proxy = CppKernelProxy(kernel_group)\n",
            "W0424 10:03:22.107000 21172 site-packages\\torch\\_dynamo\\convert_frame.py:1280]                        ^^^^^^^^^^^^^^^^^^^^^^^^^^^^\n",
            "W0424 10:03:22.107000 21172 site-packages\\torch\\_dynamo\\convert_frame.py:1280]   File \"c:\\Users\\paul-\\anaconda3\\envs\\py311\\Lib\\site-packages\\torch\\_inductor\\codegen\\cpp.py\", line 3734, in __init__\n",
            "W0424 10:03:22.107000 21172 site-packages\\torch\\_dynamo\\convert_frame.py:1280]     self.picked_vec_isa: cpu_vec_isa.VecISA = cpu_vec_isa.pick_vec_isa()\n",
            "W0424 10:03:22.107000 21172 site-packages\\torch\\_dynamo\\convert_frame.py:1280]                                               ^^^^^^^^^^^^^^^^^^^^^^^^^^\n",
            "W0424 10:03:22.107000 21172 site-packages\\torch\\_dynamo\\convert_frame.py:1280]   File \"c:\\Users\\paul-\\anaconda3\\envs\\py311\\Lib\\site-packages\\torch\\_inductor\\cpu_vec_isa.py\", line 418, in pick_vec_isa\n",
            "W0424 10:03:22.107000 21172 site-packages\\torch\\_dynamo\\convert_frame.py:1280]     _valid_vec_isa_list: list[VecISA] = valid_vec_isa_list()\n",
            "W0424 10:03:22.107000 21172 site-packages\\torch\\_dynamo\\convert_frame.py:1280]                                         ^^^^^^^^^^^^^^^^^^^^\n",
            "W0424 10:03:22.107000 21172 site-packages\\torch\\_dynamo\\convert_frame.py:1280]   File \"c:\\Users\\paul-\\anaconda3\\envs\\py311\\Lib\\site-packages\\torch\\_inductor\\cpu_vec_isa.py\", line 405, in valid_vec_isa_list\n",
            "W0424 10:03:22.107000 21172 site-packages\\torch\\_dynamo\\convert_frame.py:1280]     isa_list.extend(\n",
            "W0424 10:03:22.107000 21172 site-packages\\torch\\_dynamo\\convert_frame.py:1280]   File \"c:\\Users\\paul-\\anaconda3\\envs\\py311\\Lib\\site-packages\\torch\\_inductor\\cpu_vec_isa.py\", line 405, in <genexpr>\n",
            "W0424 10:03:22.107000 21172 site-packages\\torch\\_dynamo\\convert_frame.py:1280]     isa_list.extend(\n",
            "W0424 10:03:22.107000 21172 site-packages\\torch\\_dynamo\\convert_frame.py:1280]                    ^\n",
            "W0424 10:03:22.107000 21172 site-packages\\torch\\_dynamo\\convert_frame.py:1280]   File \"c:\\Users\\paul-\\anaconda3\\envs\\py311\\Lib\\site-packages\\torch\\_inductor\\cpu_vec_isa.py\", line 142, in __bool__\n",
            "W0424 10:03:22.107000 21172 site-packages\\torch\\_dynamo\\convert_frame.py:1280]     return self.__bool__impl(config.cpp.vec_isa_ok)\n",
            "W0424 10:03:22.107000 21172 site-packages\\torch\\_dynamo\\convert_frame.py:1280]            ^^^^^^^^^^^^^^^^^^^^^^^^^^^^^^^^^^^^^^^^\n",
            "W0424 10:03:22.107000 21172 site-packages\\torch\\_dynamo\\convert_frame.py:1280]   File \"c:\\Users\\paul-\\anaconda3\\envs\\py311\\Lib\\site-packages\\torch\\_inductor\\cpu_vec_isa.py\", line 152, in __bool__impl\n",
            "W0424 10:03:22.107000 21172 site-packages\\torch\\_dynamo\\convert_frame.py:1280]     return self.check_build(VecISA._avx_code)\n",
            "W0424 10:03:22.107000 21172 site-packages\\torch\\_dynamo\\convert_frame.py:1280]            ^^^^^^^^^^^^^^^^^^^^^^^^^^^^^^^^^^\n",
            "W0424 10:03:22.107000 21172 site-packages\\torch\\_dynamo\\convert_frame.py:1280]   File \"c:\\Users\\paul-\\anaconda3\\envs\\py311\\Lib\\site-packages\\torch\\_inductor\\cpu_vec_isa.py\", line 102, in check_build\n",
            "W0424 10:03:22.107000 21172 site-packages\\torch\\_dynamo\\convert_frame.py:1280]     extra=_get_isa_dry_compile_fingerprint(self._arch_flags),\n",
            "W0424 10:03:22.107000 21172 site-packages\\torch\\_dynamo\\convert_frame.py:1280]           ^^^^^^^^^^^^^^^^^^^^^^^^^^^^^^^^^^^^^^^^^^^^^^^^^^\n",
            "W0424 10:03:22.107000 21172 site-packages\\torch\\_dynamo\\convert_frame.py:1280]   File \"c:\\Users\\paul-\\anaconda3\\envs\\py311\\Lib\\site-packages\\torch\\_inductor\\cpu_vec_isa.py\", line 28, in _get_isa_dry_compile_fingerprint\n",
            "W0424 10:03:22.107000 21172 site-packages\\torch\\_dynamo\\convert_frame.py:1280]     compiler_info = get_compiler_version_info(get_cpp_compiler())\n",
            "W0424 10:03:22.107000 21172 site-packages\\torch\\_dynamo\\convert_frame.py:1280]                                               ^^^^^^^^^^^^^^^^^^\n",
            "W0424 10:03:22.107000 21172 site-packages\\torch\\_dynamo\\convert_frame.py:1280]   File \"c:\\Users\\paul-\\anaconda3\\envs\\py311\\Lib\\site-packages\\torch\\_inductor\\cpp_builder.py\", line 148, in get_cpp_compiler\n",
            "W0424 10:03:22.107000 21172 site-packages\\torch\\_dynamo\\convert_frame.py:1280]     check_compiler_exist_windows(compiler)\n",
            "W0424 10:03:22.107000 21172 site-packages\\torch\\_dynamo\\convert_frame.py:1280]   File \"c:\\Users\\paul-\\anaconda3\\envs\\py311\\Lib\\site-packages\\torch\\_inductor\\cpp_builder.py\", line 139, in check_compiler_exist_windows\n",
            "W0424 10:03:22.107000 21172 site-packages\\torch\\_dynamo\\convert_frame.py:1280]     raise RuntimeError(f\"Compiler: {compiler} is not found.\") from exc\n",
            "W0424 10:03:22.107000 21172 site-packages\\torch\\_dynamo\\convert_frame.py:1280] torch._inductor.exc.InductorError: RuntimeError: Compiler: cl is not found.\n",
            "W0424 10:03:22.107000 21172 site-packages\\torch\\_dynamo\\convert_frame.py:1280] \n",
            "W0424 10:03:22.107000 21172 site-packages\\torch\\_dynamo\\convert_frame.py:1280] Set TORCHDYNAMO_VERBOSE=1 for the internal stack trace (please do this especially if you're reporting a bug to PyTorch). For even more developer context, set TORCH_LOGS=\"+dynamo\"\n",
            "W0424 10:03:22.107000 21172 site-packages\\torch\\_dynamo\\convert_frame.py:1280] \n",
            "W0424 10:03:22.378000 21172 site-packages\\torch\\_dynamo\\convert_frame.py:1280] WON'T CONVERT forward c:\\Users\\paul-\\anaconda3\\envs\\py311\\Lib\\site-packages\\transformers\\models\\bert\\modeling_bert.py line 181 \n",
            "W0424 10:03:22.378000 21172 site-packages\\torch\\_dynamo\\convert_frame.py:1280] due to: \n",
            "W0424 10:03:22.378000 21172 site-packages\\torch\\_dynamo\\convert_frame.py:1280] Traceback (most recent call last):\n",
            "W0424 10:03:22.378000 21172 site-packages\\torch\\_dynamo\\convert_frame.py:1280]   File \"c:\\Users\\paul-\\anaconda3\\envs\\py311\\Lib\\site-packages\\torch\\_dynamo\\convert_frame.py\", line 1213, in __call__\n",
            "W0424 10:03:22.378000 21172 site-packages\\torch\\_dynamo\\convert_frame.py:1280]     result = self._inner_convert(\n",
            "W0424 10:03:22.378000 21172 site-packages\\torch\\_dynamo\\convert_frame.py:1280]              ^^^^^^^^^^^^^^^^^^^^\n",
            "W0424 10:03:22.378000 21172 site-packages\\torch\\_dynamo\\convert_frame.py:1280]   File \"c:\\Users\\paul-\\anaconda3\\envs\\py311\\Lib\\site-packages\\torch\\_dynamo\\convert_frame.py\", line 598, in __call__\n",
            "W0424 10:03:22.378000 21172 site-packages\\torch\\_dynamo\\convert_frame.py:1280]     return _compile(\n",
            "W0424 10:03:22.378000 21172 site-packages\\torch\\_dynamo\\convert_frame.py:1280]            ^^^^^^^^^\n",
            "W0424 10:03:22.378000 21172 site-packages\\torch\\_dynamo\\convert_frame.py:1280]   File \"c:\\Users\\paul-\\anaconda3\\envs\\py311\\Lib\\site-packages\\torch\\_dynamo\\convert_frame.py\", line 1059, in _compile\n",
            "W0424 10:03:22.378000 21172 site-packages\\torch\\_dynamo\\convert_frame.py:1280]     guarded_code = compile_inner(code, one_graph, hooks, transform)\n",
            "W0424 10:03:22.378000 21172 site-packages\\torch\\_dynamo\\convert_frame.py:1280]                    ^^^^^^^^^^^^^^^^^^^^^^^^^^^^^^^^^^^^^^^^^^^^^^^^\n",
            "W0424 10:03:22.378000 21172 site-packages\\torch\\_dynamo\\convert_frame.py:1280]   File \"c:\\Users\\paul-\\anaconda3\\envs\\py311\\Lib\\site-packages\\torch\\_utils_internal.py\", line 97, in wrapper_function\n",
            "W0424 10:03:22.378000 21172 site-packages\\torch\\_dynamo\\convert_frame.py:1280]     return function(*args, **kwargs)\n",
            "W0424 10:03:22.378000 21172 site-packages\\torch\\_dynamo\\convert_frame.py:1280]            ^^^^^^^^^^^^^^^^^^^^^^^^^\n",
            "W0424 10:03:22.378000 21172 site-packages\\torch\\_dynamo\\convert_frame.py:1280]   File \"c:\\Users\\paul-\\anaconda3\\envs\\py311\\Lib\\site-packages\\torch\\_dynamo\\convert_frame.py\", line 761, in compile_inner\n",
            "W0424 10:03:22.378000 21172 site-packages\\torch\\_dynamo\\convert_frame.py:1280]     return _compile_inner(code, one_graph, hooks, transform)\n",
            "W0424 10:03:22.378000 21172 site-packages\\torch\\_dynamo\\convert_frame.py:1280]            ^^^^^^^^^^^^^^^^^^^^^^^^^^^^^^^^^^^^^^^^^^^^^^^^^\n",
            "W0424 10:03:22.378000 21172 site-packages\\torch\\_dynamo\\convert_frame.py:1280]   File \"c:\\Users\\paul-\\anaconda3\\envs\\py311\\Lib\\site-packages\\torch\\_dynamo\\convert_frame.py\", line 797, in _compile_inner\n",
            "W0424 10:03:22.378000 21172 site-packages\\torch\\_dynamo\\convert_frame.py:1280]     out_code = transform_code_object(code, transform)\n",
            "W0424 10:03:22.378000 21172 site-packages\\torch\\_dynamo\\convert_frame.py:1280]                ^^^^^^^^^^^^^^^^^^^^^^^^^^^^^^^^^^^^^^\n",
            "W0424 10:03:22.378000 21172 site-packages\\torch\\_dynamo\\convert_frame.py:1280]   File \"c:\\Users\\paul-\\anaconda3\\envs\\py311\\Lib\\site-packages\\torch\\_dynamo\\bytecode_transformation.py\", line 1422, in transform_code_object\n",
            "W0424 10:03:22.378000 21172 site-packages\\torch\\_dynamo\\convert_frame.py:1280]     transformations(instructions, code_options)\n",
            "W0424 10:03:22.378000 21172 site-packages\\torch\\_dynamo\\convert_frame.py:1280]   File \"c:\\Users\\paul-\\anaconda3\\envs\\py311\\Lib\\site-packages\\torch\\_dynamo\\convert_frame.py\", line 257, in _fn\n",
            "W0424 10:03:22.378000 21172 site-packages\\torch\\_dynamo\\convert_frame.py:1280]     return fn(*args, **kwargs)\n",
            "W0424 10:03:22.378000 21172 site-packages\\torch\\_dynamo\\convert_frame.py:1280]            ^^^^^^^^^^^^^^^^^^^\n",
            "W0424 10:03:22.378000 21172 site-packages\\torch\\_dynamo\\convert_frame.py:1280]   File \"c:\\Users\\paul-\\anaconda3\\envs\\py311\\Lib\\site-packages\\torch\\_dynamo\\convert_frame.py\", line 715, in transform\n",
            "W0424 10:03:22.378000 21172 site-packages\\torch\\_dynamo\\convert_frame.py:1280]     tracer.run()\n",
            "W0424 10:03:22.378000 21172 site-packages\\torch\\_dynamo\\convert_frame.py:1280]   File \"c:\\Users\\paul-\\anaconda3\\envs\\py311\\Lib\\site-packages\\torch\\_dynamo\\symbolic_convert.py\", line 3500, in run\n",
            "W0424 10:03:22.378000 21172 site-packages\\torch\\_dynamo\\convert_frame.py:1280]     super().run()\n",
            "W0424 10:03:22.378000 21172 site-packages\\torch\\_dynamo\\convert_frame.py:1280]   File \"c:\\Users\\paul-\\anaconda3\\envs\\py311\\Lib\\site-packages\\torch\\_dynamo\\symbolic_convert.py\", line 1337, in run\n",
            "W0424 10:03:22.378000 21172 site-packages\\torch\\_dynamo\\convert_frame.py:1280]     while self.step():\n",
            "W0424 10:03:22.378000 21172 site-packages\\torch\\_dynamo\\convert_frame.py:1280]           ^^^^^^^^^^^\n",
            "W0424 10:03:22.378000 21172 site-packages\\torch\\_dynamo\\convert_frame.py:1280]   File \"c:\\Users\\paul-\\anaconda3\\envs\\py311\\Lib\\site-packages\\torch\\_dynamo\\symbolic_convert.py\", line 1246, in step\n",
            "W0424 10:03:22.378000 21172 site-packages\\torch\\_dynamo\\convert_frame.py:1280]     self.dispatch_table[inst.opcode](self, inst)\n",
            "W0424 10:03:22.378000 21172 site-packages\\torch\\_dynamo\\convert_frame.py:1280]   File \"c:\\Users\\paul-\\anaconda3\\envs\\py311\\Lib\\site-packages\\torch\\_dynamo\\symbolic_convert.py\", line 3701, in RETURN_VALUE\n",
            "W0424 10:03:22.378000 21172 site-packages\\torch\\_dynamo\\convert_frame.py:1280]     self._return(inst)\n",
            "W0424 10:03:22.378000 21172 site-packages\\torch\\_dynamo\\convert_frame.py:1280]   File \"c:\\Users\\paul-\\anaconda3\\envs\\py311\\Lib\\site-packages\\torch\\_dynamo\\symbolic_convert.py\", line 3686, in _return\n",
            "W0424 10:03:22.378000 21172 site-packages\\torch\\_dynamo\\convert_frame.py:1280]     self.output.compile_subgraph(\n",
            "W0424 10:03:22.378000 21172 site-packages\\torch\\_dynamo\\convert_frame.py:1280]   File \"c:\\Users\\paul-\\anaconda3\\envs\\py311\\Lib\\site-packages\\torch\\_dynamo\\output_graph.py\", line 1144, in compile_subgraph\n",
            "W0424 10:03:22.378000 21172 site-packages\\torch\\_dynamo\\convert_frame.py:1280]     self.compile_and_call_fx_graph(\n",
            "W0424 10:03:22.378000 21172 site-packages\\torch\\_dynamo\\convert_frame.py:1280]   File \"c:\\Users\\paul-\\anaconda3\\envs\\py311\\Lib\\site-packages\\torch\\_dynamo\\output_graph.py\", line 1437, in compile_and_call_fx_graph\n",
            "W0424 10:03:22.378000 21172 site-packages\\torch\\_dynamo\\convert_frame.py:1280]     compiled_fn = self.call_user_compiler(gm)\n",
            "W0424 10:03:22.378000 21172 site-packages\\torch\\_dynamo\\convert_frame.py:1280]                   ^^^^^^^^^^^^^^^^^^^^^^^^^^^\n",
            "W0424 10:03:22.378000 21172 site-packages\\torch\\_dynamo\\convert_frame.py:1280]   File \"c:\\Users\\paul-\\anaconda3\\envs\\py311\\Lib\\site-packages\\torch\\_dynamo\\output_graph.py\", line 1487, in call_user_compiler\n",
            "W0424 10:03:22.378000 21172 site-packages\\torch\\_dynamo\\convert_frame.py:1280]     return self._call_user_compiler(gm)\n",
            "W0424 10:03:22.378000 21172 site-packages\\torch\\_dynamo\\convert_frame.py:1280]            ^^^^^^^^^^^^^^^^^^^^^^^^^^^^\n",
            "W0424 10:03:22.378000 21172 site-packages\\torch\\_dynamo\\convert_frame.py:1280]   File \"c:\\Users\\paul-\\anaconda3\\envs\\py311\\Lib\\site-packages\\torch\\_dynamo\\output_graph.py\", line 1519, in _call_user_compiler\n",
            "W0424 10:03:22.378000 21172 site-packages\\torch\\_dynamo\\convert_frame.py:1280]     compiled_fn = compiler_fn(gm, self.example_inputs())\n",
            "W0424 10:03:22.378000 21172 site-packages\\torch\\_dynamo\\convert_frame.py:1280]                   ^^^^^^^^^^^^^^^^^^^^^^^^^^^^^^^^^^^^^^\n",
            "W0424 10:03:22.378000 21172 site-packages\\torch\\_dynamo\\convert_frame.py:1280]   File \"c:\\Users\\paul-\\anaconda3\\envs\\py311\\Lib\\site-packages\\torch\\_dynamo\\repro\\after_dynamo.py\", line 150, in __call__\n",
            "W0424 10:03:22.378000 21172 site-packages\\torch\\_dynamo\\convert_frame.py:1280]     compiled_gm = compiler_fn(gm, example_inputs)\n",
            "W0424 10:03:22.378000 21172 site-packages\\torch\\_dynamo\\convert_frame.py:1280]                   ^^^^^^^^^^^^^^^^^^^^^^^^^^^^^^^\n",
            "W0424 10:03:22.378000 21172 site-packages\\torch\\_dynamo\\convert_frame.py:1280]   File \"c:\\Users\\paul-\\anaconda3\\envs\\py311\\Lib\\site-packages\\torch\\__init__.py\", line 2347, in __call__\n",
            "W0424 10:03:22.378000 21172 site-packages\\torch\\_dynamo\\convert_frame.py:1280]     return compile_fx(model_, inputs_, config_patches=self.config)\n",
            "W0424 10:03:22.378000 21172 site-packages\\torch\\_dynamo\\convert_frame.py:1280]            ^^^^^^^^^^^^^^^^^^^^^^^^^^^^^^^^^^^^^^^^^^^^^^^^^^^^^^^\n",
            "W0424 10:03:22.378000 21172 site-packages\\torch\\_dynamo\\convert_frame.py:1280]   File \"c:\\Users\\paul-\\anaconda3\\envs\\py311\\Lib\\site-packages\\torch\\_inductor\\compile_fx.py\", line 2101, in compile_fx\n",
            "W0424 10:03:22.378000 21172 site-packages\\torch\\_dynamo\\convert_frame.py:1280]     raise e.remove_dynamo_frames() from None  # see TORCHDYNAMO_VERBOSE=1\n",
            "W0424 10:03:22.378000 21172 site-packages\\torch\\_dynamo\\convert_frame.py:1280]     ^^^^^^^^^^^^^^^^^^^^^^^^^^^^^^^^^^^^^^^^\n",
            "W0424 10:03:22.378000 21172 site-packages\\torch\\_dynamo\\convert_frame.py:1280]   File \"c:\\Users\\paul-\\anaconda3\\envs\\py311\\Lib\\site-packages\\torch\\_inductor\\compile_fx.py\", line 760, in _compile_fx_inner\n",
            "W0424 10:03:22.378000 21172 site-packages\\torch\\_dynamo\\convert_frame.py:1280]     raise InductorError(e, currentframe()).with_traceback(\n",
            "W0424 10:03:22.378000 21172 site-packages\\torch\\_dynamo\\convert_frame.py:1280]   File \"c:\\Users\\paul-\\anaconda3\\envs\\py311\\Lib\\site-packages\\torch\\_inductor\\compile_fx.py\", line 745, in _compile_fx_inner\n",
            "W0424 10:03:22.378000 21172 site-packages\\torch\\_dynamo\\convert_frame.py:1280]     mb_compiled_graph = fx_codegen_and_compile(\n",
            "W0424 10:03:22.378000 21172 site-packages\\torch\\_dynamo\\convert_frame.py:1280]                         ^^^^^^^^^^^^^^^^^^^^^^^\n",
            "W0424 10:03:22.378000 21172 site-packages\\torch\\_dynamo\\convert_frame.py:1280]   File \"c:\\Users\\paul-\\anaconda3\\envs\\py311\\Lib\\site-packages\\torch\\_inductor\\compile_fx.py\", line 1295, in fx_codegen_and_compile\n",
            "W0424 10:03:22.378000 21172 site-packages\\torch\\_dynamo\\convert_frame.py:1280]     return scheme.codegen_and_compile(gm, example_inputs, inputs_to_check, graph_kwargs)\n",
            "W0424 10:03:22.378000 21172 site-packages\\torch\\_dynamo\\convert_frame.py:1280]            ^^^^^^^^^^^^^^^^^^^^^^^^^^^^^^^^^^^^^^^^^^^^^^^^^^^^^^^^^^^^^^^^^^^^^^^^^^^^^\n",
            "W0424 10:03:22.378000 21172 site-packages\\torch\\_dynamo\\convert_frame.py:1280]   File \"c:\\Users\\paul-\\anaconda3\\envs\\py311\\Lib\\site-packages\\torch\\_inductor\\compile_fx.py\", line 1197, in codegen_and_compile\n",
            "W0424 10:03:22.378000 21172 site-packages\\torch\\_dynamo\\convert_frame.py:1280]     compiled_fn = graph.compile_to_module().call\n",
            "W0424 10:03:22.378000 21172 site-packages\\torch\\_dynamo\\convert_frame.py:1280]                   ^^^^^^^^^^^^^^^^^^^^^^^^^\n",
            "W0424 10:03:22.378000 21172 site-packages\\torch\\_dynamo\\convert_frame.py:1280]   File \"c:\\Users\\paul-\\anaconda3\\envs\\py311\\Lib\\site-packages\\torch\\_inductor\\graph.py\", line 2083, in compile_to_module\n",
            "W0424 10:03:22.378000 21172 site-packages\\torch\\_dynamo\\convert_frame.py:1280]     return self._compile_to_module()\n",
            "W0424 10:03:22.378000 21172 site-packages\\torch\\_dynamo\\convert_frame.py:1280]            ^^^^^^^^^^^^^^^^^^^^^^^^^\n",
            "W0424 10:03:22.378000 21172 site-packages\\torch\\_dynamo\\convert_frame.py:1280]   File \"c:\\Users\\paul-\\anaconda3\\envs\\py311\\Lib\\site-packages\\torch\\_inductor\\graph.py\", line 2091, in _compile_to_module\n",
            "W0424 10:03:22.378000 21172 site-packages\\torch\\_dynamo\\convert_frame.py:1280]     self.codegen_with_cpp_wrapper() if self.cpp_wrapper else self.codegen()\n",
            "W0424 10:03:22.378000 21172 site-packages\\torch\\_dynamo\\convert_frame.py:1280]                                                              ^^^^^^^^^^^^^^\n",
            "W0424 10:03:22.378000 21172 site-packages\\torch\\_dynamo\\convert_frame.py:1280]   File \"c:\\Users\\paul-\\anaconda3\\envs\\py311\\Lib\\site-packages\\torch\\_inductor\\graph.py\", line 2002, in codegen\n",
            "W0424 10:03:22.378000 21172 site-packages\\torch\\_dynamo\\convert_frame.py:1280]     self.scheduler.codegen()\n",
            "W0424 10:03:22.378000 21172 site-packages\\torch\\_dynamo\\convert_frame.py:1280]   File \"c:\\Users\\paul-\\anaconda3\\envs\\py311\\Lib\\site-packages\\torch\\_inductor\\scheduler.py\", line 4135, in codegen\n",
            "W0424 10:03:22.378000 21172 site-packages\\torch\\_dynamo\\convert_frame.py:1280]     else self._codegen(self.nodes)\n",
            "W0424 10:03:22.378000 21172 site-packages\\torch\\_dynamo\\convert_frame.py:1280]          ^^^^^^^^^^^^^^^^^^^^^^^^^\n",
            "W0424 10:03:22.378000 21172 site-packages\\torch\\_dynamo\\convert_frame.py:1280]   File \"c:\\Users\\paul-\\anaconda3\\envs\\py311\\Lib\\site-packages\\torch\\_inductor\\scheduler.py\", line 4264, in _codegen\n",
            "W0424 10:03:22.378000 21172 site-packages\\torch\\_dynamo\\convert_frame.py:1280]     self.get_backend(device).codegen_node(node)\n",
            "W0424 10:03:22.378000 21172 site-packages\\torch\\_dynamo\\convert_frame.py:1280]   File \"c:\\Users\\paul-\\anaconda3\\envs\\py311\\Lib\\site-packages\\torch\\_inductor\\codegen\\cpp.py\", line 4986, in codegen_node\n",
            "W0424 10:03:22.378000 21172 site-packages\\torch\\_dynamo\\convert_frame.py:1280]     cpp_kernel_proxy = CppKernelProxy(kernel_group)\n",
            "W0424 10:03:22.378000 21172 site-packages\\torch\\_dynamo\\convert_frame.py:1280]                        ^^^^^^^^^^^^^^^^^^^^^^^^^^^^\n",
            "W0424 10:03:22.378000 21172 site-packages\\torch\\_dynamo\\convert_frame.py:1280]   File \"c:\\Users\\paul-\\anaconda3\\envs\\py311\\Lib\\site-packages\\torch\\_inductor\\codegen\\cpp.py\", line 3734, in __init__\n",
            "W0424 10:03:22.378000 21172 site-packages\\torch\\_dynamo\\convert_frame.py:1280]     self.picked_vec_isa: cpu_vec_isa.VecISA = cpu_vec_isa.pick_vec_isa()\n",
            "W0424 10:03:22.378000 21172 site-packages\\torch\\_dynamo\\convert_frame.py:1280]                                               ^^^^^^^^^^^^^^^^^^^^^^^^^^\n",
            "W0424 10:03:22.378000 21172 site-packages\\torch\\_dynamo\\convert_frame.py:1280]   File \"c:\\Users\\paul-\\anaconda3\\envs\\py311\\Lib\\site-packages\\torch\\_inductor\\cpu_vec_isa.py\", line 418, in pick_vec_isa\n",
            "W0424 10:03:22.378000 21172 site-packages\\torch\\_dynamo\\convert_frame.py:1280]     _valid_vec_isa_list: list[VecISA] = valid_vec_isa_list()\n",
            "W0424 10:03:22.378000 21172 site-packages\\torch\\_dynamo\\convert_frame.py:1280]                                         ^^^^^^^^^^^^^^^^^^^^\n",
            "W0424 10:03:22.378000 21172 site-packages\\torch\\_dynamo\\convert_frame.py:1280]   File \"c:\\Users\\paul-\\anaconda3\\envs\\py311\\Lib\\site-packages\\torch\\_inductor\\cpu_vec_isa.py\", line 405, in valid_vec_isa_list\n",
            "W0424 10:03:22.378000 21172 site-packages\\torch\\_dynamo\\convert_frame.py:1280]     isa_list.extend(\n",
            "W0424 10:03:22.378000 21172 site-packages\\torch\\_dynamo\\convert_frame.py:1280]   File \"c:\\Users\\paul-\\anaconda3\\envs\\py311\\Lib\\site-packages\\torch\\_inductor\\cpu_vec_isa.py\", line 405, in <genexpr>\n",
            "W0424 10:03:22.378000 21172 site-packages\\torch\\_dynamo\\convert_frame.py:1280]     isa_list.extend(\n",
            "W0424 10:03:22.378000 21172 site-packages\\torch\\_dynamo\\convert_frame.py:1280]                    ^\n",
            "W0424 10:03:22.378000 21172 site-packages\\torch\\_dynamo\\convert_frame.py:1280]   File \"c:\\Users\\paul-\\anaconda3\\envs\\py311\\Lib\\site-packages\\torch\\_inductor\\cpu_vec_isa.py\", line 142, in __bool__\n",
            "W0424 10:03:22.378000 21172 site-packages\\torch\\_dynamo\\convert_frame.py:1280]     return self.__bool__impl(config.cpp.vec_isa_ok)\n",
            "W0424 10:03:22.378000 21172 site-packages\\torch\\_dynamo\\convert_frame.py:1280]            ^^^^^^^^^^^^^^^^^^^^^^^^^^^^^^^^^^^^^^^^\n",
            "W0424 10:03:22.378000 21172 site-packages\\torch\\_dynamo\\convert_frame.py:1280]   File \"c:\\Users\\paul-\\anaconda3\\envs\\py311\\Lib\\site-packages\\torch\\_inductor\\cpu_vec_isa.py\", line 152, in __bool__impl\n",
            "W0424 10:03:22.378000 21172 site-packages\\torch\\_dynamo\\convert_frame.py:1280]     return self.check_build(VecISA._avx_code)\n",
            "W0424 10:03:22.378000 21172 site-packages\\torch\\_dynamo\\convert_frame.py:1280]            ^^^^^^^^^^^^^^^^^^^^^^^^^^^^^^^^^^\n",
            "W0424 10:03:22.378000 21172 site-packages\\torch\\_dynamo\\convert_frame.py:1280]   File \"c:\\Users\\paul-\\anaconda3\\envs\\py311\\Lib\\site-packages\\torch\\_inductor\\cpu_vec_isa.py\", line 102, in check_build\n",
            "W0424 10:03:22.378000 21172 site-packages\\torch\\_dynamo\\convert_frame.py:1280]     extra=_get_isa_dry_compile_fingerprint(self._arch_flags),\n",
            "W0424 10:03:22.378000 21172 site-packages\\torch\\_dynamo\\convert_frame.py:1280]           ^^^^^^^^^^^^^^^^^^^^^^^^^^^^^^^^^^^^^^^^^^^^^^^^^^\n",
            "W0424 10:03:22.378000 21172 site-packages\\torch\\_dynamo\\convert_frame.py:1280]   File \"c:\\Users\\paul-\\anaconda3\\envs\\py311\\Lib\\site-packages\\torch\\_inductor\\cpu_vec_isa.py\", line 28, in _get_isa_dry_compile_fingerprint\n",
            "W0424 10:03:22.378000 21172 site-packages\\torch\\_dynamo\\convert_frame.py:1280]     compiler_info = get_compiler_version_info(get_cpp_compiler())\n",
            "W0424 10:03:22.378000 21172 site-packages\\torch\\_dynamo\\convert_frame.py:1280]                                               ^^^^^^^^^^^^^^^^^^\n",
            "W0424 10:03:22.378000 21172 site-packages\\torch\\_dynamo\\convert_frame.py:1280]   File \"c:\\Users\\paul-\\anaconda3\\envs\\py311\\Lib\\site-packages\\torch\\_inductor\\cpp_builder.py\", line 148, in get_cpp_compiler\n",
            "W0424 10:03:22.378000 21172 site-packages\\torch\\_dynamo\\convert_frame.py:1280]     check_compiler_exist_windows(compiler)\n",
            "W0424 10:03:22.378000 21172 site-packages\\torch\\_dynamo\\convert_frame.py:1280]   File \"c:\\Users\\paul-\\anaconda3\\envs\\py311\\Lib\\site-packages\\torch\\_inductor\\cpp_builder.py\", line 139, in check_compiler_exist_windows\n",
            "W0424 10:03:22.378000 21172 site-packages\\torch\\_dynamo\\convert_frame.py:1280]     raise RuntimeError(f\"Compiler: {compiler} is not found.\") from exc\n",
            "W0424 10:03:22.378000 21172 site-packages\\torch\\_dynamo\\convert_frame.py:1280] torch._inductor.exc.InductorError: RuntimeError: Compiler: cl is not found.\n",
            "W0424 10:03:22.378000 21172 site-packages\\torch\\_dynamo\\convert_frame.py:1280] \n",
            "W0424 10:03:22.378000 21172 site-packages\\torch\\_dynamo\\convert_frame.py:1280] Set TORCHDYNAMO_VERBOSE=1 for the internal stack trace (please do this especially if you're reporting a bug to PyTorch). For even more developer context, set TORCH_LOGS=\"+dynamo\"\n",
            "W0424 10:03:22.378000 21172 site-packages\\torch\\_dynamo\\convert_frame.py:1280] \n",
            "W0424 10:03:22.378000 21172 site-packages\\torch\\_dynamo\\convert_frame.py:1280] Traceback (most recent call last):\n",
            "W0424 10:03:22.378000 21172 site-packages\\torch\\_dynamo\\convert_frame.py:1280]   File \"c:\\Users\\paul-\\anaconda3\\envs\\py311\\Lib\\site-packages\\torch\\_dynamo\\convert_frame.py\", line 1213, in __call__\n",
            "W0424 10:03:22.378000 21172 site-packages\\torch\\_dynamo\\convert_frame.py:1280]     result = self._inner_convert(\n",
            "W0424 10:03:22.378000 21172 site-packages\\torch\\_dynamo\\convert_frame.py:1280]              ^^^^^^^^^^^^^^^^^^^^\n",
            "W0424 10:03:22.378000 21172 site-packages\\torch\\_dynamo\\convert_frame.py:1280]   File \"c:\\Users\\paul-\\anaconda3\\envs\\py311\\Lib\\site-packages\\torch\\_dynamo\\convert_frame.py\", line 598, in __call__\n",
            "W0424 10:03:22.378000 21172 site-packages\\torch\\_dynamo\\convert_frame.py:1280]     return _compile(\n",
            "W0424 10:03:22.378000 21172 site-packages\\torch\\_dynamo\\convert_frame.py:1280]            ^^^^^^^^^\n",
            "W0424 10:03:22.378000 21172 site-packages\\torch\\_dynamo\\convert_frame.py:1280]   File \"c:\\Users\\paul-\\anaconda3\\envs\\py311\\Lib\\site-packages\\torch\\_dynamo\\convert_frame.py\", line 1059, in _compile\n",
            "W0424 10:03:22.378000 21172 site-packages\\torch\\_dynamo\\convert_frame.py:1280]     guarded_code = compile_inner(code, one_graph, hooks, transform)\n",
            "W0424 10:03:22.378000 21172 site-packages\\torch\\_dynamo\\convert_frame.py:1280]                    ^^^^^^^^^^^^^^^^^^^^^^^^^^^^^^^^^^^^^^^^^^^^^^^^\n",
            "W0424 10:03:22.378000 21172 site-packages\\torch\\_dynamo\\convert_frame.py:1280]   File \"c:\\Users\\paul-\\anaconda3\\envs\\py311\\Lib\\site-packages\\torch\\_utils_internal.py\", line 97, in wrapper_function\n",
            "W0424 10:03:22.378000 21172 site-packages\\torch\\_dynamo\\convert_frame.py:1280]     return function(*args, **kwargs)\n",
            "W0424 10:03:22.378000 21172 site-packages\\torch\\_dynamo\\convert_frame.py:1280]            ^^^^^^^^^^^^^^^^^^^^^^^^^\n",
            "W0424 10:03:22.378000 21172 site-packages\\torch\\_dynamo\\convert_frame.py:1280]   File \"c:\\Users\\paul-\\anaconda3\\envs\\py311\\Lib\\site-packages\\torch\\_dynamo\\convert_frame.py\", line 761, in compile_inner\n",
            "W0424 10:03:22.378000 21172 site-packages\\torch\\_dynamo\\convert_frame.py:1280]     return _compile_inner(code, one_graph, hooks, transform)\n",
            "W0424 10:03:22.378000 21172 site-packages\\torch\\_dynamo\\convert_frame.py:1280]            ^^^^^^^^^^^^^^^^^^^^^^^^^^^^^^^^^^^^^^^^^^^^^^^^^\n",
            "W0424 10:03:22.378000 21172 site-packages\\torch\\_dynamo\\convert_frame.py:1280]   File \"c:\\Users\\paul-\\anaconda3\\envs\\py311\\Lib\\site-packages\\torch\\_dynamo\\convert_frame.py\", line 797, in _compile_inner\n",
            "W0424 10:03:22.378000 21172 site-packages\\torch\\_dynamo\\convert_frame.py:1280]     out_code = transform_code_object(code, transform)\n",
            "W0424 10:03:22.378000 21172 site-packages\\torch\\_dynamo\\convert_frame.py:1280]                ^^^^^^^^^^^^^^^^^^^^^^^^^^^^^^^^^^^^^^\n",
            "W0424 10:03:22.378000 21172 site-packages\\torch\\_dynamo\\convert_frame.py:1280]   File \"c:\\Users\\paul-\\anaconda3\\envs\\py311\\Lib\\site-packages\\torch\\_dynamo\\bytecode_transformation.py\", line 1422, in transform_code_object\n",
            "W0424 10:03:22.378000 21172 site-packages\\torch\\_dynamo\\convert_frame.py:1280]     transformations(instructions, code_options)\n",
            "W0424 10:03:22.378000 21172 site-packages\\torch\\_dynamo\\convert_frame.py:1280]   File \"c:\\Users\\paul-\\anaconda3\\envs\\py311\\Lib\\site-packages\\torch\\_dynamo\\convert_frame.py\", line 257, in _fn\n",
            "W0424 10:03:22.378000 21172 site-packages\\torch\\_dynamo\\convert_frame.py:1280]     return fn(*args, **kwargs)\n",
            "W0424 10:03:22.378000 21172 site-packages\\torch\\_dynamo\\convert_frame.py:1280]            ^^^^^^^^^^^^^^^^^^^\n",
            "W0424 10:03:22.378000 21172 site-packages\\torch\\_dynamo\\convert_frame.py:1280]   File \"c:\\Users\\paul-\\anaconda3\\envs\\py311\\Lib\\site-packages\\torch\\_dynamo\\convert_frame.py\", line 715, in transform\n",
            "W0424 10:03:22.378000 21172 site-packages\\torch\\_dynamo\\convert_frame.py:1280]     tracer.run()\n",
            "W0424 10:03:22.378000 21172 site-packages\\torch\\_dynamo\\convert_frame.py:1280]   File \"c:\\Users\\paul-\\anaconda3\\envs\\py311\\Lib\\site-packages\\torch\\_dynamo\\symbolic_convert.py\", line 3500, in run\n",
            "W0424 10:03:22.378000 21172 site-packages\\torch\\_dynamo\\convert_frame.py:1280]     super().run()\n",
            "W0424 10:03:22.378000 21172 site-packages\\torch\\_dynamo\\convert_frame.py:1280]   File \"c:\\Users\\paul-\\anaconda3\\envs\\py311\\Lib\\site-packages\\torch\\_dynamo\\symbolic_convert.py\", line 1337, in run\n",
            "W0424 10:03:22.378000 21172 site-packages\\torch\\_dynamo\\convert_frame.py:1280]     while self.step():\n",
            "W0424 10:03:22.378000 21172 site-packages\\torch\\_dynamo\\convert_frame.py:1280]           ^^^^^^^^^^^\n",
            "W0424 10:03:22.378000 21172 site-packages\\torch\\_dynamo\\convert_frame.py:1280]   File \"c:\\Users\\paul-\\anaconda3\\envs\\py311\\Lib\\site-packages\\torch\\_dynamo\\symbolic_convert.py\", line 1246, in step\n",
            "W0424 10:03:22.378000 21172 site-packages\\torch\\_dynamo\\convert_frame.py:1280]     self.dispatch_table[inst.opcode](self, inst)\n",
            "W0424 10:03:22.378000 21172 site-packages\\torch\\_dynamo\\convert_frame.py:1280]   File \"c:\\Users\\paul-\\anaconda3\\envs\\py311\\Lib\\site-packages\\torch\\_dynamo\\symbolic_convert.py\", line 3701, in RETURN_VALUE\n",
            "W0424 10:03:22.378000 21172 site-packages\\torch\\_dynamo\\convert_frame.py:1280]     self._return(inst)\n",
            "W0424 10:03:22.378000 21172 site-packages\\torch\\_dynamo\\convert_frame.py:1280]   File \"c:\\Users\\paul-\\anaconda3\\envs\\py311\\Lib\\site-packages\\torch\\_dynamo\\symbolic_convert.py\", line 3686, in _return\n",
            "W0424 10:03:22.378000 21172 site-packages\\torch\\_dynamo\\convert_frame.py:1280]     self.output.compile_subgraph(\n",
            "W0424 10:03:22.378000 21172 site-packages\\torch\\_dynamo\\convert_frame.py:1280]   File \"c:\\Users\\paul-\\anaconda3\\envs\\py311\\Lib\\site-packages\\torch\\_dynamo\\output_graph.py\", line 1144, in compile_subgraph\n",
            "W0424 10:03:22.378000 21172 site-packages\\torch\\_dynamo\\convert_frame.py:1280]     self.compile_and_call_fx_graph(\n",
            "W0424 10:03:22.378000 21172 site-packages\\torch\\_dynamo\\convert_frame.py:1280]   File \"c:\\Users\\paul-\\anaconda3\\envs\\py311\\Lib\\site-packages\\torch\\_dynamo\\output_graph.py\", line 1437, in compile_and_call_fx_graph\n",
            "W0424 10:03:22.378000 21172 site-packages\\torch\\_dynamo\\convert_frame.py:1280]     compiled_fn = self.call_user_compiler(gm)\n",
            "W0424 10:03:22.378000 21172 site-packages\\torch\\_dynamo\\convert_frame.py:1280]                   ^^^^^^^^^^^^^^^^^^^^^^^^^^^\n",
            "W0424 10:03:22.378000 21172 site-packages\\torch\\_dynamo\\convert_frame.py:1280]   File \"c:\\Users\\paul-\\anaconda3\\envs\\py311\\Lib\\site-packages\\torch\\_dynamo\\output_graph.py\", line 1487, in call_user_compiler\n",
            "W0424 10:03:22.378000 21172 site-packages\\torch\\_dynamo\\convert_frame.py:1280]     return self._call_user_compiler(gm)\n",
            "W0424 10:03:22.378000 21172 site-packages\\torch\\_dynamo\\convert_frame.py:1280]            ^^^^^^^^^^^^^^^^^^^^^^^^^^^^\n",
            "W0424 10:03:22.378000 21172 site-packages\\torch\\_dynamo\\convert_frame.py:1280]   File \"c:\\Users\\paul-\\anaconda3\\envs\\py311\\Lib\\site-packages\\torch\\_dynamo\\output_graph.py\", line 1519, in _call_user_compiler\n",
            "W0424 10:03:22.378000 21172 site-packages\\torch\\_dynamo\\convert_frame.py:1280]     compiled_fn = compiler_fn(gm, self.example_inputs())\n",
            "W0424 10:03:22.378000 21172 site-packages\\torch\\_dynamo\\convert_frame.py:1280]                   ^^^^^^^^^^^^^^^^^^^^^^^^^^^^^^^^^^^^^^\n",
            "W0424 10:03:22.378000 21172 site-packages\\torch\\_dynamo\\convert_frame.py:1280]   File \"c:\\Users\\paul-\\anaconda3\\envs\\py311\\Lib\\site-packages\\torch\\_dynamo\\repro\\after_dynamo.py\", line 150, in __call__\n",
            "W0424 10:03:22.378000 21172 site-packages\\torch\\_dynamo\\convert_frame.py:1280]     compiled_gm = compiler_fn(gm, example_inputs)\n",
            "W0424 10:03:22.378000 21172 site-packages\\torch\\_dynamo\\convert_frame.py:1280]                   ^^^^^^^^^^^^^^^^^^^^^^^^^^^^^^^\n",
            "W0424 10:03:22.378000 21172 site-packages\\torch\\_dynamo\\convert_frame.py:1280]   File \"c:\\Users\\paul-\\anaconda3\\envs\\py311\\Lib\\site-packages\\torch\\__init__.py\", line 2347, in __call__\n",
            "W0424 10:03:22.378000 21172 site-packages\\torch\\_dynamo\\convert_frame.py:1280]     return compile_fx(model_, inputs_, config_patches=self.config)\n",
            "W0424 10:03:22.378000 21172 site-packages\\torch\\_dynamo\\convert_frame.py:1280]            ^^^^^^^^^^^^^^^^^^^^^^^^^^^^^^^^^^^^^^^^^^^^^^^^^^^^^^^\n",
            "W0424 10:03:22.378000 21172 site-packages\\torch\\_dynamo\\convert_frame.py:1280]   File \"c:\\Users\\paul-\\anaconda3\\envs\\py311\\Lib\\site-packages\\torch\\_inductor\\compile_fx.py\", line 2101, in compile_fx\n",
            "W0424 10:03:22.378000 21172 site-packages\\torch\\_dynamo\\convert_frame.py:1280]     raise e.remove_dynamo_frames() from None  # see TORCHDYNAMO_VERBOSE=1\n",
            "W0424 10:03:22.378000 21172 site-packages\\torch\\_dynamo\\convert_frame.py:1280]     ^^^^^^^^^^^^^^^^^^^^^^^^^^^^^^^^^^^^^^^^\n",
            "W0424 10:03:22.378000 21172 site-packages\\torch\\_dynamo\\convert_frame.py:1280]   File \"c:\\Users\\paul-\\anaconda3\\envs\\py311\\Lib\\site-packages\\torch\\_inductor\\compile_fx.py\", line 760, in _compile_fx_inner\n",
            "W0424 10:03:22.378000 21172 site-packages\\torch\\_dynamo\\convert_frame.py:1280]     raise InductorError(e, currentframe()).with_traceback(\n",
            "W0424 10:03:22.378000 21172 site-packages\\torch\\_dynamo\\convert_frame.py:1280]   File \"c:\\Users\\paul-\\anaconda3\\envs\\py311\\Lib\\site-packages\\torch\\_inductor\\compile_fx.py\", line 745, in _compile_fx_inner\n",
            "W0424 10:03:22.378000 21172 site-packages\\torch\\_dynamo\\convert_frame.py:1280]     mb_compiled_graph = fx_codegen_and_compile(\n",
            "W0424 10:03:22.378000 21172 site-packages\\torch\\_dynamo\\convert_frame.py:1280]                         ^^^^^^^^^^^^^^^^^^^^^^^\n",
            "W0424 10:03:22.378000 21172 site-packages\\torch\\_dynamo\\convert_frame.py:1280]   File \"c:\\Users\\paul-\\anaconda3\\envs\\py311\\Lib\\site-packages\\torch\\_inductor\\compile_fx.py\", line 1295, in fx_codegen_and_compile\n",
            "W0424 10:03:22.378000 21172 site-packages\\torch\\_dynamo\\convert_frame.py:1280]     return scheme.codegen_and_compile(gm, example_inputs, inputs_to_check, graph_kwargs)\n",
            "W0424 10:03:22.378000 21172 site-packages\\torch\\_dynamo\\convert_frame.py:1280]            ^^^^^^^^^^^^^^^^^^^^^^^^^^^^^^^^^^^^^^^^^^^^^^^^^^^^^^^^^^^^^^^^^^^^^^^^^^^^^\n",
            "W0424 10:03:22.378000 21172 site-packages\\torch\\_dynamo\\convert_frame.py:1280]   File \"c:\\Users\\paul-\\anaconda3\\envs\\py311\\Lib\\site-packages\\torch\\_inductor\\compile_fx.py\", line 1197, in codegen_and_compile\n",
            "W0424 10:03:22.378000 21172 site-packages\\torch\\_dynamo\\convert_frame.py:1280]     compiled_fn = graph.compile_to_module().call\n",
            "W0424 10:03:22.378000 21172 site-packages\\torch\\_dynamo\\convert_frame.py:1280]                   ^^^^^^^^^^^^^^^^^^^^^^^^^\n",
            "W0424 10:03:22.378000 21172 site-packages\\torch\\_dynamo\\convert_frame.py:1280]   File \"c:\\Users\\paul-\\anaconda3\\envs\\py311\\Lib\\site-packages\\torch\\_inductor\\graph.py\", line 2083, in compile_to_module\n",
            "W0424 10:03:22.378000 21172 site-packages\\torch\\_dynamo\\convert_frame.py:1280]     return self._compile_to_module()\n",
            "W0424 10:03:22.378000 21172 site-packages\\torch\\_dynamo\\convert_frame.py:1280]            ^^^^^^^^^^^^^^^^^^^^^^^^^\n",
            "W0424 10:03:22.378000 21172 site-packages\\torch\\_dynamo\\convert_frame.py:1280]   File \"c:\\Users\\paul-\\anaconda3\\envs\\py311\\Lib\\site-packages\\torch\\_inductor\\graph.py\", line 2091, in _compile_to_module\n",
            "W0424 10:03:22.378000 21172 site-packages\\torch\\_dynamo\\convert_frame.py:1280]     self.codegen_with_cpp_wrapper() if self.cpp_wrapper else self.codegen()\n",
            "W0424 10:03:22.378000 21172 site-packages\\torch\\_dynamo\\convert_frame.py:1280]                                                              ^^^^^^^^^^^^^^\n",
            "W0424 10:03:22.378000 21172 site-packages\\torch\\_dynamo\\convert_frame.py:1280]   File \"c:\\Users\\paul-\\anaconda3\\envs\\py311\\Lib\\site-packages\\torch\\_inductor\\graph.py\", line 2002, in codegen\n",
            "W0424 10:03:22.378000 21172 site-packages\\torch\\_dynamo\\convert_frame.py:1280]     self.scheduler.codegen()\n",
            "W0424 10:03:22.378000 21172 site-packages\\torch\\_dynamo\\convert_frame.py:1280]   File \"c:\\Users\\paul-\\anaconda3\\envs\\py311\\Lib\\site-packages\\torch\\_inductor\\scheduler.py\", line 4135, in codegen\n",
            "W0424 10:03:22.378000 21172 site-packages\\torch\\_dynamo\\convert_frame.py:1280]     else self._codegen(self.nodes)\n",
            "W0424 10:03:22.378000 21172 site-packages\\torch\\_dynamo\\convert_frame.py:1280]          ^^^^^^^^^^^^^^^^^^^^^^^^^\n",
            "W0424 10:03:22.378000 21172 site-packages\\torch\\_dynamo\\convert_frame.py:1280]   File \"c:\\Users\\paul-\\anaconda3\\envs\\py311\\Lib\\site-packages\\torch\\_inductor\\scheduler.py\", line 4264, in _codegen\n",
            "W0424 10:03:22.378000 21172 site-packages\\torch\\_dynamo\\convert_frame.py:1280]     self.get_backend(device).codegen_node(node)\n",
            "W0424 10:03:22.378000 21172 site-packages\\torch\\_dynamo\\convert_frame.py:1280]   File \"c:\\Users\\paul-\\anaconda3\\envs\\py311\\Lib\\site-packages\\torch\\_inductor\\codegen\\cpp.py\", line 4986, in codegen_node\n",
            "W0424 10:03:22.378000 21172 site-packages\\torch\\_dynamo\\convert_frame.py:1280]     cpp_kernel_proxy = CppKernelProxy(kernel_group)\n",
            "W0424 10:03:22.378000 21172 site-packages\\torch\\_dynamo\\convert_frame.py:1280]                        ^^^^^^^^^^^^^^^^^^^^^^^^^^^^\n",
            "W0424 10:03:22.378000 21172 site-packages\\torch\\_dynamo\\convert_frame.py:1280]   File \"c:\\Users\\paul-\\anaconda3\\envs\\py311\\Lib\\site-packages\\torch\\_inductor\\codegen\\cpp.py\", line 3734, in __init__\n",
            "W0424 10:03:22.378000 21172 site-packages\\torch\\_dynamo\\convert_frame.py:1280]     self.picked_vec_isa: cpu_vec_isa.VecISA = cpu_vec_isa.pick_vec_isa()\n",
            "W0424 10:03:22.378000 21172 site-packages\\torch\\_dynamo\\convert_frame.py:1280]                                               ^^^^^^^^^^^^^^^^^^^^^^^^^^\n",
            "W0424 10:03:22.378000 21172 site-packages\\torch\\_dynamo\\convert_frame.py:1280]   File \"c:\\Users\\paul-\\anaconda3\\envs\\py311\\Lib\\site-packages\\torch\\_inductor\\cpu_vec_isa.py\", line 418, in pick_vec_isa\n",
            "W0424 10:03:22.378000 21172 site-packages\\torch\\_dynamo\\convert_frame.py:1280]     _valid_vec_isa_list: list[VecISA] = valid_vec_isa_list()\n",
            "W0424 10:03:22.378000 21172 site-packages\\torch\\_dynamo\\convert_frame.py:1280]                                         ^^^^^^^^^^^^^^^^^^^^\n",
            "W0424 10:03:22.378000 21172 site-packages\\torch\\_dynamo\\convert_frame.py:1280]   File \"c:\\Users\\paul-\\anaconda3\\envs\\py311\\Lib\\site-packages\\torch\\_inductor\\cpu_vec_isa.py\", line 405, in valid_vec_isa_list\n",
            "W0424 10:03:22.378000 21172 site-packages\\torch\\_dynamo\\convert_frame.py:1280]     isa_list.extend(\n",
            "W0424 10:03:22.378000 21172 site-packages\\torch\\_dynamo\\convert_frame.py:1280]   File \"c:\\Users\\paul-\\anaconda3\\envs\\py311\\Lib\\site-packages\\torch\\_inductor\\cpu_vec_isa.py\", line 405, in <genexpr>\n",
            "W0424 10:03:22.378000 21172 site-packages\\torch\\_dynamo\\convert_frame.py:1280]     isa_list.extend(\n",
            "W0424 10:03:22.378000 21172 site-packages\\torch\\_dynamo\\convert_frame.py:1280]                    ^\n",
            "W0424 10:03:22.378000 21172 site-packages\\torch\\_dynamo\\convert_frame.py:1280]   File \"c:\\Users\\paul-\\anaconda3\\envs\\py311\\Lib\\site-packages\\torch\\_inductor\\cpu_vec_isa.py\", line 142, in __bool__\n",
            "W0424 10:03:22.378000 21172 site-packages\\torch\\_dynamo\\convert_frame.py:1280]     return self.__bool__impl(config.cpp.vec_isa_ok)\n",
            "W0424 10:03:22.378000 21172 site-packages\\torch\\_dynamo\\convert_frame.py:1280]            ^^^^^^^^^^^^^^^^^^^^^^^^^^^^^^^^^^^^^^^^\n",
            "W0424 10:03:22.378000 21172 site-packages\\torch\\_dynamo\\convert_frame.py:1280]   File \"c:\\Users\\paul-\\anaconda3\\envs\\py311\\Lib\\site-packages\\torch\\_inductor\\cpu_vec_isa.py\", line 152, in __bool__impl\n",
            "W0424 10:03:22.378000 21172 site-packages\\torch\\_dynamo\\convert_frame.py:1280]     return self.check_build(VecISA._avx_code)\n",
            "W0424 10:03:22.378000 21172 site-packages\\torch\\_dynamo\\convert_frame.py:1280]            ^^^^^^^^^^^^^^^^^^^^^^^^^^^^^^^^^^\n",
            "W0424 10:03:22.378000 21172 site-packages\\torch\\_dynamo\\convert_frame.py:1280]   File \"c:\\Users\\paul-\\anaconda3\\envs\\py311\\Lib\\site-packages\\torch\\_inductor\\cpu_vec_isa.py\", line 102, in check_build\n",
            "W0424 10:03:22.378000 21172 site-packages\\torch\\_dynamo\\convert_frame.py:1280]     extra=_get_isa_dry_compile_fingerprint(self._arch_flags),\n",
            "W0424 10:03:22.378000 21172 site-packages\\torch\\_dynamo\\convert_frame.py:1280]           ^^^^^^^^^^^^^^^^^^^^^^^^^^^^^^^^^^^^^^^^^^^^^^^^^^\n",
            "W0424 10:03:22.378000 21172 site-packages\\torch\\_dynamo\\convert_frame.py:1280]   File \"c:\\Users\\paul-\\anaconda3\\envs\\py311\\Lib\\site-packages\\torch\\_inductor\\cpu_vec_isa.py\", line 28, in _get_isa_dry_compile_fingerprint\n",
            "W0424 10:03:22.378000 21172 site-packages\\torch\\_dynamo\\convert_frame.py:1280]     compiler_info = get_compiler_version_info(get_cpp_compiler())\n",
            "W0424 10:03:22.378000 21172 site-packages\\torch\\_dynamo\\convert_frame.py:1280]                                               ^^^^^^^^^^^^^^^^^^\n",
            "W0424 10:03:22.378000 21172 site-packages\\torch\\_dynamo\\convert_frame.py:1280]   File \"c:\\Users\\paul-\\anaconda3\\envs\\py311\\Lib\\site-packages\\torch\\_inductor\\cpp_builder.py\", line 148, in get_cpp_compiler\n",
            "W0424 10:03:22.378000 21172 site-packages\\torch\\_dynamo\\convert_frame.py:1280]     check_compiler_exist_windows(compiler)\n",
            "W0424 10:03:22.378000 21172 site-packages\\torch\\_dynamo\\convert_frame.py:1280]   File \"c:\\Users\\paul-\\anaconda3\\envs\\py311\\Lib\\site-packages\\torch\\_inductor\\cpp_builder.py\", line 139, in check_compiler_exist_windows\n",
            "W0424 10:03:22.378000 21172 site-packages\\torch\\_dynamo\\convert_frame.py:1280]     raise RuntimeError(f\"Compiler: {compiler} is not found.\") from exc\n",
            "W0424 10:03:22.378000 21172 site-packages\\torch\\_dynamo\\convert_frame.py:1280] torch._inductor.exc.InductorError: RuntimeError: Compiler: cl is not found.\n",
            "W0424 10:03:22.378000 21172 site-packages\\torch\\_dynamo\\convert_frame.py:1280] \n",
            "W0424 10:03:22.378000 21172 site-packages\\torch\\_dynamo\\convert_frame.py:1280] Set TORCHDYNAMO_VERBOSE=1 for the internal stack trace (please do this especially if you're reporting a bug to PyTorch). For even more developer context, set TORCH_LOGS=\"+dynamo\"\n",
            "W0424 10:03:22.378000 21172 site-packages\\torch\\_dynamo\\convert_frame.py:1280] \n",
            "W0424 10:03:22.524000 21172 site-packages\\torch\\_dynamo\\convert_frame.py:1280] WON'T CONVERT _prepare_4d_attention_mask_for_sdpa c:\\Users\\paul-\\anaconda3\\envs\\py311\\Lib\\site-packages\\transformers\\modeling_attn_mask_utils.py line 429 \n",
            "W0424 10:03:22.524000 21172 site-packages\\torch\\_dynamo\\convert_frame.py:1280] due to: \n",
            "W0424 10:03:22.524000 21172 site-packages\\torch\\_dynamo\\convert_frame.py:1280] Traceback (most recent call last):\n",
            "W0424 10:03:22.524000 21172 site-packages\\torch\\_dynamo\\convert_frame.py:1280]   File \"c:\\Users\\paul-\\anaconda3\\envs\\py311\\Lib\\site-packages\\torch\\_dynamo\\convert_frame.py\", line 1213, in __call__\n",
            "W0424 10:03:22.524000 21172 site-packages\\torch\\_dynamo\\convert_frame.py:1280]     result = self._inner_convert(\n",
            "W0424 10:03:22.524000 21172 site-packages\\torch\\_dynamo\\convert_frame.py:1280]              ^^^^^^^^^^^^^^^^^^^^\n",
            "W0424 10:03:22.524000 21172 site-packages\\torch\\_dynamo\\convert_frame.py:1280]   File \"c:\\Users\\paul-\\anaconda3\\envs\\py311\\Lib\\site-packages\\torch\\_dynamo\\convert_frame.py\", line 598, in __call__\n",
            "W0424 10:03:22.524000 21172 site-packages\\torch\\_dynamo\\convert_frame.py:1280]     return _compile(\n",
            "W0424 10:03:22.524000 21172 site-packages\\torch\\_dynamo\\convert_frame.py:1280]            ^^^^^^^^^\n",
            "W0424 10:03:22.524000 21172 site-packages\\torch\\_dynamo\\convert_frame.py:1280]   File \"c:\\Users\\paul-\\anaconda3\\envs\\py311\\Lib\\site-packages\\torch\\_dynamo\\convert_frame.py\", line 1059, in _compile\n",
            "W0424 10:03:22.524000 21172 site-packages\\torch\\_dynamo\\convert_frame.py:1280]     guarded_code = compile_inner(code, one_graph, hooks, transform)\n",
            "W0424 10:03:22.524000 21172 site-packages\\torch\\_dynamo\\convert_frame.py:1280]                    ^^^^^^^^^^^^^^^^^^^^^^^^^^^^^^^^^^^^^^^^^^^^^^^^\n",
            "W0424 10:03:22.524000 21172 site-packages\\torch\\_dynamo\\convert_frame.py:1280]   File \"c:\\Users\\paul-\\anaconda3\\envs\\py311\\Lib\\site-packages\\torch\\_utils_internal.py\", line 97, in wrapper_function\n",
            "W0424 10:03:22.524000 21172 site-packages\\torch\\_dynamo\\convert_frame.py:1280]     return function(*args, **kwargs)\n",
            "W0424 10:03:22.524000 21172 site-packages\\torch\\_dynamo\\convert_frame.py:1280]            ^^^^^^^^^^^^^^^^^^^^^^^^^\n",
            "W0424 10:03:22.524000 21172 site-packages\\torch\\_dynamo\\convert_frame.py:1280]   File \"c:\\Users\\paul-\\anaconda3\\envs\\py311\\Lib\\site-packages\\torch\\_dynamo\\convert_frame.py\", line 761, in compile_inner\n",
            "W0424 10:03:22.524000 21172 site-packages\\torch\\_dynamo\\convert_frame.py:1280]     return _compile_inner(code, one_graph, hooks, transform)\n",
            "W0424 10:03:22.524000 21172 site-packages\\torch\\_dynamo\\convert_frame.py:1280]            ^^^^^^^^^^^^^^^^^^^^^^^^^^^^^^^^^^^^^^^^^^^^^^^^^\n",
            "W0424 10:03:22.524000 21172 site-packages\\torch\\_dynamo\\convert_frame.py:1280]   File \"c:\\Users\\paul-\\anaconda3\\envs\\py311\\Lib\\site-packages\\torch\\_dynamo\\convert_frame.py\", line 797, in _compile_inner\n",
            "W0424 10:03:22.524000 21172 site-packages\\torch\\_dynamo\\convert_frame.py:1280]     out_code = transform_code_object(code, transform)\n",
            "W0424 10:03:22.524000 21172 site-packages\\torch\\_dynamo\\convert_frame.py:1280]                ^^^^^^^^^^^^^^^^^^^^^^^^^^^^^^^^^^^^^^\n",
            "W0424 10:03:22.524000 21172 site-packages\\torch\\_dynamo\\convert_frame.py:1280]   File \"c:\\Users\\paul-\\anaconda3\\envs\\py311\\Lib\\site-packages\\torch\\_dynamo\\bytecode_transformation.py\", line 1422, in transform_code_object\n",
            "W0424 10:03:22.524000 21172 site-packages\\torch\\_dynamo\\convert_frame.py:1280]     transformations(instructions, code_options)\n",
            "W0424 10:03:22.524000 21172 site-packages\\torch\\_dynamo\\convert_frame.py:1280]   File \"c:\\Users\\paul-\\anaconda3\\envs\\py311\\Lib\\site-packages\\torch\\_dynamo\\convert_frame.py\", line 257, in _fn\n",
            "W0424 10:03:22.524000 21172 site-packages\\torch\\_dynamo\\convert_frame.py:1280]     return fn(*args, **kwargs)\n",
            "W0424 10:03:22.524000 21172 site-packages\\torch\\_dynamo\\convert_frame.py:1280]            ^^^^^^^^^^^^^^^^^^^\n",
            "W0424 10:03:22.524000 21172 site-packages\\torch\\_dynamo\\convert_frame.py:1280]   File \"c:\\Users\\paul-\\anaconda3\\envs\\py311\\Lib\\site-packages\\torch\\_dynamo\\convert_frame.py\", line 715, in transform\n",
            "W0424 10:03:22.524000 21172 site-packages\\torch\\_dynamo\\convert_frame.py:1280]     tracer.run()\n",
            "W0424 10:03:22.524000 21172 site-packages\\torch\\_dynamo\\convert_frame.py:1280]   File \"c:\\Users\\paul-\\anaconda3\\envs\\py311\\Lib\\site-packages\\torch\\_dynamo\\symbolic_convert.py\", line 3500, in run\n",
            "W0424 10:03:22.524000 21172 site-packages\\torch\\_dynamo\\convert_frame.py:1280]     super().run()\n",
            "W0424 10:03:22.524000 21172 site-packages\\torch\\_dynamo\\convert_frame.py:1280]   File \"c:\\Users\\paul-\\anaconda3\\envs\\py311\\Lib\\site-packages\\torch\\_dynamo\\symbolic_convert.py\", line 1337, in run\n",
            "W0424 10:03:22.524000 21172 site-packages\\torch\\_dynamo\\convert_frame.py:1280]     while self.step():\n",
            "W0424 10:03:22.524000 21172 site-packages\\torch\\_dynamo\\convert_frame.py:1280]           ^^^^^^^^^^^\n",
            "W0424 10:03:22.524000 21172 site-packages\\torch\\_dynamo\\convert_frame.py:1280]   File \"c:\\Users\\paul-\\anaconda3\\envs\\py311\\Lib\\site-packages\\torch\\_dynamo\\symbolic_convert.py\", line 1246, in step\n",
            "W0424 10:03:22.524000 21172 site-packages\\torch\\_dynamo\\convert_frame.py:1280]     self.dispatch_table[inst.opcode](self, inst)\n",
            "W0424 10:03:22.524000 21172 site-packages\\torch\\_dynamo\\convert_frame.py:1280]   File \"c:\\Users\\paul-\\anaconda3\\envs\\py311\\Lib\\site-packages\\torch\\_dynamo\\symbolic_convert.py\", line 3701, in RETURN_VALUE\n",
            "W0424 10:03:22.524000 21172 site-packages\\torch\\_dynamo\\convert_frame.py:1280]     self._return(inst)\n",
            "W0424 10:03:22.524000 21172 site-packages\\torch\\_dynamo\\convert_frame.py:1280]   File \"c:\\Users\\paul-\\anaconda3\\envs\\py311\\Lib\\site-packages\\torch\\_dynamo\\symbolic_convert.py\", line 3686, in _return\n",
            "W0424 10:03:22.524000 21172 site-packages\\torch\\_dynamo\\convert_frame.py:1280]     self.output.compile_subgraph(\n",
            "W0424 10:03:22.524000 21172 site-packages\\torch\\_dynamo\\convert_frame.py:1280]   File \"c:\\Users\\paul-\\anaconda3\\envs\\py311\\Lib\\site-packages\\torch\\_dynamo\\output_graph.py\", line 1144, in compile_subgraph\n",
            "W0424 10:03:22.524000 21172 site-packages\\torch\\_dynamo\\convert_frame.py:1280]     self.compile_and_call_fx_graph(\n",
            "W0424 10:03:22.524000 21172 site-packages\\torch\\_dynamo\\convert_frame.py:1280]   File \"c:\\Users\\paul-\\anaconda3\\envs\\py311\\Lib\\site-packages\\torch\\_dynamo\\output_graph.py\", line 1437, in compile_and_call_fx_graph\n",
            "W0424 10:03:22.524000 21172 site-packages\\torch\\_dynamo\\convert_frame.py:1280]     compiled_fn = self.call_user_compiler(gm)\n",
            "W0424 10:03:22.524000 21172 site-packages\\torch\\_dynamo\\convert_frame.py:1280]                   ^^^^^^^^^^^^^^^^^^^^^^^^^^^\n",
            "W0424 10:03:22.524000 21172 site-packages\\torch\\_dynamo\\convert_frame.py:1280]   File \"c:\\Users\\paul-\\anaconda3\\envs\\py311\\Lib\\site-packages\\torch\\_dynamo\\output_graph.py\", line 1487, in call_user_compiler\n",
            "W0424 10:03:22.524000 21172 site-packages\\torch\\_dynamo\\convert_frame.py:1280]     return self._call_user_compiler(gm)\n",
            "W0424 10:03:22.524000 21172 site-packages\\torch\\_dynamo\\convert_frame.py:1280]            ^^^^^^^^^^^^^^^^^^^^^^^^^^^^\n",
            "W0424 10:03:22.524000 21172 site-packages\\torch\\_dynamo\\convert_frame.py:1280]   File \"c:\\Users\\paul-\\anaconda3\\envs\\py311\\Lib\\site-packages\\torch\\_dynamo\\output_graph.py\", line 1519, in _call_user_compiler\n",
            "W0424 10:03:22.524000 21172 site-packages\\torch\\_dynamo\\convert_frame.py:1280]     compiled_fn = compiler_fn(gm, self.example_inputs())\n",
            "W0424 10:03:22.524000 21172 site-packages\\torch\\_dynamo\\convert_frame.py:1280]                   ^^^^^^^^^^^^^^^^^^^^^^^^^^^^^^^^^^^^^^\n",
            "W0424 10:03:22.524000 21172 site-packages\\torch\\_dynamo\\convert_frame.py:1280]   File \"c:\\Users\\paul-\\anaconda3\\envs\\py311\\Lib\\site-packages\\torch\\_dynamo\\repro\\after_dynamo.py\", line 150, in __call__\n",
            "W0424 10:03:22.524000 21172 site-packages\\torch\\_dynamo\\convert_frame.py:1280]     compiled_gm = compiler_fn(gm, example_inputs)\n",
            "W0424 10:03:22.524000 21172 site-packages\\torch\\_dynamo\\convert_frame.py:1280]                   ^^^^^^^^^^^^^^^^^^^^^^^^^^^^^^^\n",
            "W0424 10:03:22.524000 21172 site-packages\\torch\\_dynamo\\convert_frame.py:1280]   File \"c:\\Users\\paul-\\anaconda3\\envs\\py311\\Lib\\site-packages\\torch\\__init__.py\", line 2347, in __call__\n",
            "W0424 10:03:22.524000 21172 site-packages\\torch\\_dynamo\\convert_frame.py:1280]     return compile_fx(model_, inputs_, config_patches=self.config)\n",
            "W0424 10:03:22.524000 21172 site-packages\\torch\\_dynamo\\convert_frame.py:1280]            ^^^^^^^^^^^^^^^^^^^^^^^^^^^^^^^^^^^^^^^^^^^^^^^^^^^^^^^\n",
            "W0424 10:03:22.524000 21172 site-packages\\torch\\_dynamo\\convert_frame.py:1280]   File \"c:\\Users\\paul-\\anaconda3\\envs\\py311\\Lib\\site-packages\\torch\\_inductor\\compile_fx.py\", line 2101, in compile_fx\n",
            "W0424 10:03:22.524000 21172 site-packages\\torch\\_dynamo\\convert_frame.py:1280]     raise e.remove_dynamo_frames() from None  # see TORCHDYNAMO_VERBOSE=1\n",
            "W0424 10:03:22.524000 21172 site-packages\\torch\\_dynamo\\convert_frame.py:1280]     ^^^^^^^^^^^^^^^^^^^^^^^^^^^^^^^^^^^^^^^^\n",
            "W0424 10:03:22.524000 21172 site-packages\\torch\\_dynamo\\convert_frame.py:1280]   File \"c:\\Users\\paul-\\anaconda3\\envs\\py311\\Lib\\site-packages\\torch\\_inductor\\compile_fx.py\", line 760, in _compile_fx_inner\n",
            "W0424 10:03:22.524000 21172 site-packages\\torch\\_dynamo\\convert_frame.py:1280]     raise InductorError(e, currentframe()).with_traceback(\n",
            "W0424 10:03:22.524000 21172 site-packages\\torch\\_dynamo\\convert_frame.py:1280]   File \"c:\\Users\\paul-\\anaconda3\\envs\\py311\\Lib\\site-packages\\torch\\_inductor\\compile_fx.py\", line 745, in _compile_fx_inner\n",
            "W0424 10:03:22.524000 21172 site-packages\\torch\\_dynamo\\convert_frame.py:1280]     mb_compiled_graph = fx_codegen_and_compile(\n",
            "W0424 10:03:22.524000 21172 site-packages\\torch\\_dynamo\\convert_frame.py:1280]                         ^^^^^^^^^^^^^^^^^^^^^^^\n",
            "W0424 10:03:22.524000 21172 site-packages\\torch\\_dynamo\\convert_frame.py:1280]   File \"c:\\Users\\paul-\\anaconda3\\envs\\py311\\Lib\\site-packages\\torch\\_inductor\\compile_fx.py\", line 1295, in fx_codegen_and_compile\n",
            "W0424 10:03:22.524000 21172 site-packages\\torch\\_dynamo\\convert_frame.py:1280]     return scheme.codegen_and_compile(gm, example_inputs, inputs_to_check, graph_kwargs)\n",
            "W0424 10:03:22.524000 21172 site-packages\\torch\\_dynamo\\convert_frame.py:1280]            ^^^^^^^^^^^^^^^^^^^^^^^^^^^^^^^^^^^^^^^^^^^^^^^^^^^^^^^^^^^^^^^^^^^^^^^^^^^^^\n",
            "W0424 10:03:22.524000 21172 site-packages\\torch\\_dynamo\\convert_frame.py:1280]   File \"c:\\Users\\paul-\\anaconda3\\envs\\py311\\Lib\\site-packages\\torch\\_inductor\\compile_fx.py\", line 1197, in codegen_and_compile\n",
            "W0424 10:03:22.524000 21172 site-packages\\torch\\_dynamo\\convert_frame.py:1280]     compiled_fn = graph.compile_to_module().call\n",
            "W0424 10:03:22.524000 21172 site-packages\\torch\\_dynamo\\convert_frame.py:1280]                   ^^^^^^^^^^^^^^^^^^^^^^^^^\n",
            "W0424 10:03:22.524000 21172 site-packages\\torch\\_dynamo\\convert_frame.py:1280]   File \"c:\\Users\\paul-\\anaconda3\\envs\\py311\\Lib\\site-packages\\torch\\_inductor\\graph.py\", line 2083, in compile_to_module\n",
            "W0424 10:03:22.524000 21172 site-packages\\torch\\_dynamo\\convert_frame.py:1280]     return self._compile_to_module()\n",
            "W0424 10:03:22.524000 21172 site-packages\\torch\\_dynamo\\convert_frame.py:1280]            ^^^^^^^^^^^^^^^^^^^^^^^^^\n",
            "W0424 10:03:22.524000 21172 site-packages\\torch\\_dynamo\\convert_frame.py:1280]   File \"c:\\Users\\paul-\\anaconda3\\envs\\py311\\Lib\\site-packages\\torch\\_inductor\\graph.py\", line 2091, in _compile_to_module\n",
            "W0424 10:03:22.524000 21172 site-packages\\torch\\_dynamo\\convert_frame.py:1280]     self.codegen_with_cpp_wrapper() if self.cpp_wrapper else self.codegen()\n",
            "W0424 10:03:22.524000 21172 site-packages\\torch\\_dynamo\\convert_frame.py:1280]                                                              ^^^^^^^^^^^^^^\n",
            "W0424 10:03:22.524000 21172 site-packages\\torch\\_dynamo\\convert_frame.py:1280]   File \"c:\\Users\\paul-\\anaconda3\\envs\\py311\\Lib\\site-packages\\torch\\_inductor\\graph.py\", line 2002, in codegen\n",
            "W0424 10:03:22.524000 21172 site-packages\\torch\\_dynamo\\convert_frame.py:1280]     self.scheduler.codegen()\n",
            "W0424 10:03:22.524000 21172 site-packages\\torch\\_dynamo\\convert_frame.py:1280]   File \"c:\\Users\\paul-\\anaconda3\\envs\\py311\\Lib\\site-packages\\torch\\_inductor\\scheduler.py\", line 4135, in codegen\n",
            "W0424 10:03:22.524000 21172 site-packages\\torch\\_dynamo\\convert_frame.py:1280]     else self._codegen(self.nodes)\n",
            "W0424 10:03:22.524000 21172 site-packages\\torch\\_dynamo\\convert_frame.py:1280]          ^^^^^^^^^^^^^^^^^^^^^^^^^\n",
            "W0424 10:03:22.524000 21172 site-packages\\torch\\_dynamo\\convert_frame.py:1280]   File \"c:\\Users\\paul-\\anaconda3\\envs\\py311\\Lib\\site-packages\\torch\\_inductor\\scheduler.py\", line 4264, in _codegen\n",
            "W0424 10:03:22.524000 21172 site-packages\\torch\\_dynamo\\convert_frame.py:1280]     self.get_backend(device).codegen_node(node)\n",
            "W0424 10:03:22.524000 21172 site-packages\\torch\\_dynamo\\convert_frame.py:1280]   File \"c:\\Users\\paul-\\anaconda3\\envs\\py311\\Lib\\site-packages\\torch\\_inductor\\codegen\\cpp.py\", line 4986, in codegen_node\n",
            "W0424 10:03:22.524000 21172 site-packages\\torch\\_dynamo\\convert_frame.py:1280]     cpp_kernel_proxy = CppKernelProxy(kernel_group)\n",
            "W0424 10:03:22.524000 21172 site-packages\\torch\\_dynamo\\convert_frame.py:1280]                        ^^^^^^^^^^^^^^^^^^^^^^^^^^^^\n",
            "W0424 10:03:22.524000 21172 site-packages\\torch\\_dynamo\\convert_frame.py:1280]   File \"c:\\Users\\paul-\\anaconda3\\envs\\py311\\Lib\\site-packages\\torch\\_inductor\\codegen\\cpp.py\", line 3734, in __init__\n",
            "W0424 10:03:22.524000 21172 site-packages\\torch\\_dynamo\\convert_frame.py:1280]     self.picked_vec_isa: cpu_vec_isa.VecISA = cpu_vec_isa.pick_vec_isa()\n",
            "W0424 10:03:22.524000 21172 site-packages\\torch\\_dynamo\\convert_frame.py:1280]                                               ^^^^^^^^^^^^^^^^^^^^^^^^^^\n",
            "W0424 10:03:22.524000 21172 site-packages\\torch\\_dynamo\\convert_frame.py:1280]   File \"c:\\Users\\paul-\\anaconda3\\envs\\py311\\Lib\\site-packages\\torch\\_inductor\\cpu_vec_isa.py\", line 418, in pick_vec_isa\n",
            "W0424 10:03:22.524000 21172 site-packages\\torch\\_dynamo\\convert_frame.py:1280]     _valid_vec_isa_list: list[VecISA] = valid_vec_isa_list()\n",
            "W0424 10:03:22.524000 21172 site-packages\\torch\\_dynamo\\convert_frame.py:1280]                                         ^^^^^^^^^^^^^^^^^^^^\n",
            "W0424 10:03:22.524000 21172 site-packages\\torch\\_dynamo\\convert_frame.py:1280]   File \"c:\\Users\\paul-\\anaconda3\\envs\\py311\\Lib\\site-packages\\torch\\_inductor\\cpu_vec_isa.py\", line 405, in valid_vec_isa_list\n",
            "W0424 10:03:22.524000 21172 site-packages\\torch\\_dynamo\\convert_frame.py:1280]     isa_list.extend(\n",
            "W0424 10:03:22.524000 21172 site-packages\\torch\\_dynamo\\convert_frame.py:1280]   File \"c:\\Users\\paul-\\anaconda3\\envs\\py311\\Lib\\site-packages\\torch\\_inductor\\cpu_vec_isa.py\", line 405, in <genexpr>\n",
            "W0424 10:03:22.524000 21172 site-packages\\torch\\_dynamo\\convert_frame.py:1280]     isa_list.extend(\n",
            "W0424 10:03:22.524000 21172 site-packages\\torch\\_dynamo\\convert_frame.py:1280]                    ^\n",
            "W0424 10:03:22.524000 21172 site-packages\\torch\\_dynamo\\convert_frame.py:1280]   File \"c:\\Users\\paul-\\anaconda3\\envs\\py311\\Lib\\site-packages\\torch\\_inductor\\cpu_vec_isa.py\", line 142, in __bool__\n",
            "W0424 10:03:22.524000 21172 site-packages\\torch\\_dynamo\\convert_frame.py:1280]     return self.__bool__impl(config.cpp.vec_isa_ok)\n",
            "W0424 10:03:22.524000 21172 site-packages\\torch\\_dynamo\\convert_frame.py:1280]            ^^^^^^^^^^^^^^^^^^^^^^^^^^^^^^^^^^^^^^^^\n",
            "W0424 10:03:22.524000 21172 site-packages\\torch\\_dynamo\\convert_frame.py:1280]   File \"c:\\Users\\paul-\\anaconda3\\envs\\py311\\Lib\\site-packages\\torch\\_inductor\\cpu_vec_isa.py\", line 152, in __bool__impl\n",
            "W0424 10:03:22.524000 21172 site-packages\\torch\\_dynamo\\convert_frame.py:1280]     return self.check_build(VecISA._avx_code)\n",
            "W0424 10:03:22.524000 21172 site-packages\\torch\\_dynamo\\convert_frame.py:1280]            ^^^^^^^^^^^^^^^^^^^^^^^^^^^^^^^^^^\n",
            "W0424 10:03:22.524000 21172 site-packages\\torch\\_dynamo\\convert_frame.py:1280]   File \"c:\\Users\\paul-\\anaconda3\\envs\\py311\\Lib\\site-packages\\torch\\_inductor\\cpu_vec_isa.py\", line 102, in check_build\n",
            "W0424 10:03:22.524000 21172 site-packages\\torch\\_dynamo\\convert_frame.py:1280]     extra=_get_isa_dry_compile_fingerprint(self._arch_flags),\n",
            "W0424 10:03:22.524000 21172 site-packages\\torch\\_dynamo\\convert_frame.py:1280]           ^^^^^^^^^^^^^^^^^^^^^^^^^^^^^^^^^^^^^^^^^^^^^^^^^^\n",
            "W0424 10:03:22.524000 21172 site-packages\\torch\\_dynamo\\convert_frame.py:1280]   File \"c:\\Users\\paul-\\anaconda3\\envs\\py311\\Lib\\site-packages\\torch\\_inductor\\cpu_vec_isa.py\", line 28, in _get_isa_dry_compile_fingerprint\n",
            "W0424 10:03:22.524000 21172 site-packages\\torch\\_dynamo\\convert_frame.py:1280]     compiler_info = get_compiler_version_info(get_cpp_compiler())\n",
            "W0424 10:03:22.524000 21172 site-packages\\torch\\_dynamo\\convert_frame.py:1280]                                               ^^^^^^^^^^^^^^^^^^\n",
            "W0424 10:03:22.524000 21172 site-packages\\torch\\_dynamo\\convert_frame.py:1280]   File \"c:\\Users\\paul-\\anaconda3\\envs\\py311\\Lib\\site-packages\\torch\\_inductor\\cpp_builder.py\", line 148, in get_cpp_compiler\n",
            "W0424 10:03:22.524000 21172 site-packages\\torch\\_dynamo\\convert_frame.py:1280]     check_compiler_exist_windows(compiler)\n",
            "W0424 10:03:22.524000 21172 site-packages\\torch\\_dynamo\\convert_frame.py:1280]   File \"c:\\Users\\paul-\\anaconda3\\envs\\py311\\Lib\\site-packages\\torch\\_inductor\\cpp_builder.py\", line 139, in check_compiler_exist_windows\n",
            "W0424 10:03:22.524000 21172 site-packages\\torch\\_dynamo\\convert_frame.py:1280]     raise RuntimeError(f\"Compiler: {compiler} is not found.\") from exc\n",
            "W0424 10:03:22.524000 21172 site-packages\\torch\\_dynamo\\convert_frame.py:1280] torch._inductor.exc.InductorError: RuntimeError: Compiler: cl is not found.\n",
            "W0424 10:03:22.524000 21172 site-packages\\torch\\_dynamo\\convert_frame.py:1280] \n",
            "W0424 10:03:22.524000 21172 site-packages\\torch\\_dynamo\\convert_frame.py:1280] Set TORCHDYNAMO_VERBOSE=1 for the internal stack trace (please do this especially if you're reporting a bug to PyTorch). For even more developer context, set TORCH_LOGS=\"+dynamo\"\n",
            "W0424 10:03:22.524000 21172 site-packages\\torch\\_dynamo\\convert_frame.py:1280] \n",
            "W0424 10:03:22.524000 21172 site-packages\\torch\\_dynamo\\convert_frame.py:1280] Traceback (most recent call last):\n",
            "W0424 10:03:22.524000 21172 site-packages\\torch\\_dynamo\\convert_frame.py:1280]   File \"c:\\Users\\paul-\\anaconda3\\envs\\py311\\Lib\\site-packages\\torch\\_dynamo\\convert_frame.py\", line 1213, in __call__\n",
            "W0424 10:03:22.524000 21172 site-packages\\torch\\_dynamo\\convert_frame.py:1280]     result = self._inner_convert(\n",
            "W0424 10:03:22.524000 21172 site-packages\\torch\\_dynamo\\convert_frame.py:1280]              ^^^^^^^^^^^^^^^^^^^^\n",
            "W0424 10:03:22.524000 21172 site-packages\\torch\\_dynamo\\convert_frame.py:1280]   File \"c:\\Users\\paul-\\anaconda3\\envs\\py311\\Lib\\site-packages\\torch\\_dynamo\\convert_frame.py\", line 598, in __call__\n",
            "W0424 10:03:22.524000 21172 site-packages\\torch\\_dynamo\\convert_frame.py:1280]     return _compile(\n",
            "W0424 10:03:22.524000 21172 site-packages\\torch\\_dynamo\\convert_frame.py:1280]            ^^^^^^^^^\n",
            "W0424 10:03:22.524000 21172 site-packages\\torch\\_dynamo\\convert_frame.py:1280]   File \"c:\\Users\\paul-\\anaconda3\\envs\\py311\\Lib\\site-packages\\torch\\_dynamo\\convert_frame.py\", line 1059, in _compile\n",
            "W0424 10:03:22.524000 21172 site-packages\\torch\\_dynamo\\convert_frame.py:1280]     guarded_code = compile_inner(code, one_graph, hooks, transform)\n",
            "W0424 10:03:22.524000 21172 site-packages\\torch\\_dynamo\\convert_frame.py:1280]                    ^^^^^^^^^^^^^^^^^^^^^^^^^^^^^^^^^^^^^^^^^^^^^^^^\n",
            "W0424 10:03:22.524000 21172 site-packages\\torch\\_dynamo\\convert_frame.py:1280]   File \"c:\\Users\\paul-\\anaconda3\\envs\\py311\\Lib\\site-packages\\torch\\_utils_internal.py\", line 97, in wrapper_function\n",
            "W0424 10:03:22.524000 21172 site-packages\\torch\\_dynamo\\convert_frame.py:1280]     return function(*args, **kwargs)\n",
            "W0424 10:03:22.524000 21172 site-packages\\torch\\_dynamo\\convert_frame.py:1280]            ^^^^^^^^^^^^^^^^^^^^^^^^^\n",
            "W0424 10:03:22.524000 21172 site-packages\\torch\\_dynamo\\convert_frame.py:1280]   File \"c:\\Users\\paul-\\anaconda3\\envs\\py311\\Lib\\site-packages\\torch\\_dynamo\\convert_frame.py\", line 761, in compile_inner\n",
            "W0424 10:03:22.524000 21172 site-packages\\torch\\_dynamo\\convert_frame.py:1280]     return _compile_inner(code, one_graph, hooks, transform)\n",
            "W0424 10:03:22.524000 21172 site-packages\\torch\\_dynamo\\convert_frame.py:1280]            ^^^^^^^^^^^^^^^^^^^^^^^^^^^^^^^^^^^^^^^^^^^^^^^^^\n",
            "W0424 10:03:22.524000 21172 site-packages\\torch\\_dynamo\\convert_frame.py:1280]   File \"c:\\Users\\paul-\\anaconda3\\envs\\py311\\Lib\\site-packages\\torch\\_dynamo\\convert_frame.py\", line 797, in _compile_inner\n",
            "W0424 10:03:22.524000 21172 site-packages\\torch\\_dynamo\\convert_frame.py:1280]     out_code = transform_code_object(code, transform)\n",
            "W0424 10:03:22.524000 21172 site-packages\\torch\\_dynamo\\convert_frame.py:1280]                ^^^^^^^^^^^^^^^^^^^^^^^^^^^^^^^^^^^^^^\n",
            "W0424 10:03:22.524000 21172 site-packages\\torch\\_dynamo\\convert_frame.py:1280]   File \"c:\\Users\\paul-\\anaconda3\\envs\\py311\\Lib\\site-packages\\torch\\_dynamo\\bytecode_transformation.py\", line 1422, in transform_code_object\n",
            "W0424 10:03:22.524000 21172 site-packages\\torch\\_dynamo\\convert_frame.py:1280]     transformations(instructions, code_options)\n",
            "W0424 10:03:22.524000 21172 site-packages\\torch\\_dynamo\\convert_frame.py:1280]   File \"c:\\Users\\paul-\\anaconda3\\envs\\py311\\Lib\\site-packages\\torch\\_dynamo\\convert_frame.py\", line 257, in _fn\n",
            "W0424 10:03:22.524000 21172 site-packages\\torch\\_dynamo\\convert_frame.py:1280]     return fn(*args, **kwargs)\n",
            "W0424 10:03:22.524000 21172 site-packages\\torch\\_dynamo\\convert_frame.py:1280]            ^^^^^^^^^^^^^^^^^^^\n",
            "W0424 10:03:22.524000 21172 site-packages\\torch\\_dynamo\\convert_frame.py:1280]   File \"c:\\Users\\paul-\\anaconda3\\envs\\py311\\Lib\\site-packages\\torch\\_dynamo\\convert_frame.py\", line 715, in transform\n",
            "W0424 10:03:22.524000 21172 site-packages\\torch\\_dynamo\\convert_frame.py:1280]     tracer.run()\n",
            "W0424 10:03:22.524000 21172 site-packages\\torch\\_dynamo\\convert_frame.py:1280]   File \"c:\\Users\\paul-\\anaconda3\\envs\\py311\\Lib\\site-packages\\torch\\_dynamo\\symbolic_convert.py\", line 3500, in run\n",
            "W0424 10:03:22.524000 21172 site-packages\\torch\\_dynamo\\convert_frame.py:1280]     super().run()\n",
            "W0424 10:03:22.524000 21172 site-packages\\torch\\_dynamo\\convert_frame.py:1280]   File \"c:\\Users\\paul-\\anaconda3\\envs\\py311\\Lib\\site-packages\\torch\\_dynamo\\symbolic_convert.py\", line 1337, in run\n",
            "W0424 10:03:22.524000 21172 site-packages\\torch\\_dynamo\\convert_frame.py:1280]     while self.step():\n",
            "W0424 10:03:22.524000 21172 site-packages\\torch\\_dynamo\\convert_frame.py:1280]           ^^^^^^^^^^^\n",
            "W0424 10:03:22.524000 21172 site-packages\\torch\\_dynamo\\convert_frame.py:1280]   File \"c:\\Users\\paul-\\anaconda3\\envs\\py311\\Lib\\site-packages\\torch\\_dynamo\\symbolic_convert.py\", line 1246, in step\n",
            "W0424 10:03:22.524000 21172 site-packages\\torch\\_dynamo\\convert_frame.py:1280]     self.dispatch_table[inst.opcode](self, inst)\n",
            "W0424 10:03:22.524000 21172 site-packages\\torch\\_dynamo\\convert_frame.py:1280]   File \"c:\\Users\\paul-\\anaconda3\\envs\\py311\\Lib\\site-packages\\torch\\_dynamo\\symbolic_convert.py\", line 3701, in RETURN_VALUE\n",
            "W0424 10:03:22.524000 21172 site-packages\\torch\\_dynamo\\convert_frame.py:1280]     self._return(inst)\n",
            "W0424 10:03:22.524000 21172 site-packages\\torch\\_dynamo\\convert_frame.py:1280]   File \"c:\\Users\\paul-\\anaconda3\\envs\\py311\\Lib\\site-packages\\torch\\_dynamo\\symbolic_convert.py\", line 3686, in _return\n",
            "W0424 10:03:22.524000 21172 site-packages\\torch\\_dynamo\\convert_frame.py:1280]     self.output.compile_subgraph(\n",
            "W0424 10:03:22.524000 21172 site-packages\\torch\\_dynamo\\convert_frame.py:1280]   File \"c:\\Users\\paul-\\anaconda3\\envs\\py311\\Lib\\site-packages\\torch\\_dynamo\\output_graph.py\", line 1144, in compile_subgraph\n",
            "W0424 10:03:22.524000 21172 site-packages\\torch\\_dynamo\\convert_frame.py:1280]     self.compile_and_call_fx_graph(\n",
            "W0424 10:03:22.524000 21172 site-packages\\torch\\_dynamo\\convert_frame.py:1280]   File \"c:\\Users\\paul-\\anaconda3\\envs\\py311\\Lib\\site-packages\\torch\\_dynamo\\output_graph.py\", line 1437, in compile_and_call_fx_graph\n",
            "W0424 10:03:22.524000 21172 site-packages\\torch\\_dynamo\\convert_frame.py:1280]     compiled_fn = self.call_user_compiler(gm)\n",
            "W0424 10:03:22.524000 21172 site-packages\\torch\\_dynamo\\convert_frame.py:1280]                   ^^^^^^^^^^^^^^^^^^^^^^^^^^^\n",
            "W0424 10:03:22.524000 21172 site-packages\\torch\\_dynamo\\convert_frame.py:1280]   File \"c:\\Users\\paul-\\anaconda3\\envs\\py311\\Lib\\site-packages\\torch\\_dynamo\\output_graph.py\", line 1487, in call_user_compiler\n",
            "W0424 10:03:22.524000 21172 site-packages\\torch\\_dynamo\\convert_frame.py:1280]     return self._call_user_compiler(gm)\n",
            "W0424 10:03:22.524000 21172 site-packages\\torch\\_dynamo\\convert_frame.py:1280]            ^^^^^^^^^^^^^^^^^^^^^^^^^^^^\n",
            "W0424 10:03:22.524000 21172 site-packages\\torch\\_dynamo\\convert_frame.py:1280]   File \"c:\\Users\\paul-\\anaconda3\\envs\\py311\\Lib\\site-packages\\torch\\_dynamo\\output_graph.py\", line 1519, in _call_user_compiler\n",
            "W0424 10:03:22.524000 21172 site-packages\\torch\\_dynamo\\convert_frame.py:1280]     compiled_fn = compiler_fn(gm, self.example_inputs())\n",
            "W0424 10:03:22.524000 21172 site-packages\\torch\\_dynamo\\convert_frame.py:1280]                   ^^^^^^^^^^^^^^^^^^^^^^^^^^^^^^^^^^^^^^\n",
            "W0424 10:03:22.524000 21172 site-packages\\torch\\_dynamo\\convert_frame.py:1280]   File \"c:\\Users\\paul-\\anaconda3\\envs\\py311\\Lib\\site-packages\\torch\\_dynamo\\repro\\after_dynamo.py\", line 150, in __call__\n",
            "W0424 10:03:22.524000 21172 site-packages\\torch\\_dynamo\\convert_frame.py:1280]     compiled_gm = compiler_fn(gm, example_inputs)\n",
            "W0424 10:03:22.524000 21172 site-packages\\torch\\_dynamo\\convert_frame.py:1280]                   ^^^^^^^^^^^^^^^^^^^^^^^^^^^^^^^\n",
            "W0424 10:03:22.524000 21172 site-packages\\torch\\_dynamo\\convert_frame.py:1280]   File \"c:\\Users\\paul-\\anaconda3\\envs\\py311\\Lib\\site-packages\\torch\\__init__.py\", line 2347, in __call__\n",
            "W0424 10:03:22.524000 21172 site-packages\\torch\\_dynamo\\convert_frame.py:1280]     return compile_fx(model_, inputs_, config_patches=self.config)\n",
            "W0424 10:03:22.524000 21172 site-packages\\torch\\_dynamo\\convert_frame.py:1280]            ^^^^^^^^^^^^^^^^^^^^^^^^^^^^^^^^^^^^^^^^^^^^^^^^^^^^^^^\n",
            "W0424 10:03:22.524000 21172 site-packages\\torch\\_dynamo\\convert_frame.py:1280]   File \"c:\\Users\\paul-\\anaconda3\\envs\\py311\\Lib\\site-packages\\torch\\_inductor\\compile_fx.py\", line 2101, in compile_fx\n",
            "W0424 10:03:22.524000 21172 site-packages\\torch\\_dynamo\\convert_frame.py:1280]     raise e.remove_dynamo_frames() from None  # see TORCHDYNAMO_VERBOSE=1\n",
            "W0424 10:03:22.524000 21172 site-packages\\torch\\_dynamo\\convert_frame.py:1280]     ^^^^^^^^^^^^^^^^^^^^^^^^^^^^^^^^^^^^^^^^\n",
            "W0424 10:03:22.524000 21172 site-packages\\torch\\_dynamo\\convert_frame.py:1280]   File \"c:\\Users\\paul-\\anaconda3\\envs\\py311\\Lib\\site-packages\\torch\\_inductor\\compile_fx.py\", line 760, in _compile_fx_inner\n",
            "W0424 10:03:22.524000 21172 site-packages\\torch\\_dynamo\\convert_frame.py:1280]     raise InductorError(e, currentframe()).with_traceback(\n",
            "W0424 10:03:22.524000 21172 site-packages\\torch\\_dynamo\\convert_frame.py:1280]   File \"c:\\Users\\paul-\\anaconda3\\envs\\py311\\Lib\\site-packages\\torch\\_inductor\\compile_fx.py\", line 745, in _compile_fx_inner\n",
            "W0424 10:03:22.524000 21172 site-packages\\torch\\_dynamo\\convert_frame.py:1280]     mb_compiled_graph = fx_codegen_and_compile(\n",
            "W0424 10:03:22.524000 21172 site-packages\\torch\\_dynamo\\convert_frame.py:1280]                         ^^^^^^^^^^^^^^^^^^^^^^^\n",
            "W0424 10:03:22.524000 21172 site-packages\\torch\\_dynamo\\convert_frame.py:1280]   File \"c:\\Users\\paul-\\anaconda3\\envs\\py311\\Lib\\site-packages\\torch\\_inductor\\compile_fx.py\", line 1295, in fx_codegen_and_compile\n",
            "W0424 10:03:22.524000 21172 site-packages\\torch\\_dynamo\\convert_frame.py:1280]     return scheme.codegen_and_compile(gm, example_inputs, inputs_to_check, graph_kwargs)\n",
            "W0424 10:03:22.524000 21172 site-packages\\torch\\_dynamo\\convert_frame.py:1280]            ^^^^^^^^^^^^^^^^^^^^^^^^^^^^^^^^^^^^^^^^^^^^^^^^^^^^^^^^^^^^^^^^^^^^^^^^^^^^^\n",
            "W0424 10:03:22.524000 21172 site-packages\\torch\\_dynamo\\convert_frame.py:1280]   File \"c:\\Users\\paul-\\anaconda3\\envs\\py311\\Lib\\site-packages\\torch\\_inductor\\compile_fx.py\", line 1197, in codegen_and_compile\n",
            "W0424 10:03:22.524000 21172 site-packages\\torch\\_dynamo\\convert_frame.py:1280]     compiled_fn = graph.compile_to_module().call\n",
            "W0424 10:03:22.524000 21172 site-packages\\torch\\_dynamo\\convert_frame.py:1280]                   ^^^^^^^^^^^^^^^^^^^^^^^^^\n",
            "W0424 10:03:22.524000 21172 site-packages\\torch\\_dynamo\\convert_frame.py:1280]   File \"c:\\Users\\paul-\\anaconda3\\envs\\py311\\Lib\\site-packages\\torch\\_inductor\\graph.py\", line 2083, in compile_to_module\n",
            "W0424 10:03:22.524000 21172 site-packages\\torch\\_dynamo\\convert_frame.py:1280]     return self._compile_to_module()\n",
            "W0424 10:03:22.524000 21172 site-packages\\torch\\_dynamo\\convert_frame.py:1280]            ^^^^^^^^^^^^^^^^^^^^^^^^^\n",
            "W0424 10:03:22.524000 21172 site-packages\\torch\\_dynamo\\convert_frame.py:1280]   File \"c:\\Users\\paul-\\anaconda3\\envs\\py311\\Lib\\site-packages\\torch\\_inductor\\graph.py\", line 2091, in _compile_to_module\n",
            "W0424 10:03:22.524000 21172 site-packages\\torch\\_dynamo\\convert_frame.py:1280]     self.codegen_with_cpp_wrapper() if self.cpp_wrapper else self.codegen()\n",
            "W0424 10:03:22.524000 21172 site-packages\\torch\\_dynamo\\convert_frame.py:1280]                                                              ^^^^^^^^^^^^^^\n",
            "W0424 10:03:22.524000 21172 site-packages\\torch\\_dynamo\\convert_frame.py:1280]   File \"c:\\Users\\paul-\\anaconda3\\envs\\py311\\Lib\\site-packages\\torch\\_inductor\\graph.py\", line 2002, in codegen\n",
            "W0424 10:03:22.524000 21172 site-packages\\torch\\_dynamo\\convert_frame.py:1280]     self.scheduler.codegen()\n",
            "W0424 10:03:22.524000 21172 site-packages\\torch\\_dynamo\\convert_frame.py:1280]   File \"c:\\Users\\paul-\\anaconda3\\envs\\py311\\Lib\\site-packages\\torch\\_inductor\\scheduler.py\", line 4135, in codegen\n",
            "W0424 10:03:22.524000 21172 site-packages\\torch\\_dynamo\\convert_frame.py:1280]     else self._codegen(self.nodes)\n",
            "W0424 10:03:22.524000 21172 site-packages\\torch\\_dynamo\\convert_frame.py:1280]          ^^^^^^^^^^^^^^^^^^^^^^^^^\n",
            "W0424 10:03:22.524000 21172 site-packages\\torch\\_dynamo\\convert_frame.py:1280]   File \"c:\\Users\\paul-\\anaconda3\\envs\\py311\\Lib\\site-packages\\torch\\_inductor\\scheduler.py\", line 4264, in _codegen\n",
            "W0424 10:03:22.524000 21172 site-packages\\torch\\_dynamo\\convert_frame.py:1280]     self.get_backend(device).codegen_node(node)\n",
            "W0424 10:03:22.524000 21172 site-packages\\torch\\_dynamo\\convert_frame.py:1280]   File \"c:\\Users\\paul-\\anaconda3\\envs\\py311\\Lib\\site-packages\\torch\\_inductor\\codegen\\cpp.py\", line 4986, in codegen_node\n",
            "W0424 10:03:22.524000 21172 site-packages\\torch\\_dynamo\\convert_frame.py:1280]     cpp_kernel_proxy = CppKernelProxy(kernel_group)\n",
            "W0424 10:03:22.524000 21172 site-packages\\torch\\_dynamo\\convert_frame.py:1280]                        ^^^^^^^^^^^^^^^^^^^^^^^^^^^^\n",
            "W0424 10:03:22.524000 21172 site-packages\\torch\\_dynamo\\convert_frame.py:1280]   File \"c:\\Users\\paul-\\anaconda3\\envs\\py311\\Lib\\site-packages\\torch\\_inductor\\codegen\\cpp.py\", line 3734, in __init__\n",
            "W0424 10:03:22.524000 21172 site-packages\\torch\\_dynamo\\convert_frame.py:1280]     self.picked_vec_isa: cpu_vec_isa.VecISA = cpu_vec_isa.pick_vec_isa()\n",
            "W0424 10:03:22.524000 21172 site-packages\\torch\\_dynamo\\convert_frame.py:1280]                                               ^^^^^^^^^^^^^^^^^^^^^^^^^^\n",
            "W0424 10:03:22.524000 21172 site-packages\\torch\\_dynamo\\convert_frame.py:1280]   File \"c:\\Users\\paul-\\anaconda3\\envs\\py311\\Lib\\site-packages\\torch\\_inductor\\cpu_vec_isa.py\", line 418, in pick_vec_isa\n",
            "W0424 10:03:22.524000 21172 site-packages\\torch\\_dynamo\\convert_frame.py:1280]     _valid_vec_isa_list: list[VecISA] = valid_vec_isa_list()\n",
            "W0424 10:03:22.524000 21172 site-packages\\torch\\_dynamo\\convert_frame.py:1280]                                         ^^^^^^^^^^^^^^^^^^^^\n",
            "W0424 10:03:22.524000 21172 site-packages\\torch\\_dynamo\\convert_frame.py:1280]   File \"c:\\Users\\paul-\\anaconda3\\envs\\py311\\Lib\\site-packages\\torch\\_inductor\\cpu_vec_isa.py\", line 405, in valid_vec_isa_list\n",
            "W0424 10:03:22.524000 21172 site-packages\\torch\\_dynamo\\convert_frame.py:1280]     isa_list.extend(\n",
            "W0424 10:03:22.524000 21172 site-packages\\torch\\_dynamo\\convert_frame.py:1280]   File \"c:\\Users\\paul-\\anaconda3\\envs\\py311\\Lib\\site-packages\\torch\\_inductor\\cpu_vec_isa.py\", line 405, in <genexpr>\n",
            "W0424 10:03:22.524000 21172 site-packages\\torch\\_dynamo\\convert_frame.py:1280]     isa_list.extend(\n",
            "W0424 10:03:22.524000 21172 site-packages\\torch\\_dynamo\\convert_frame.py:1280]                    ^\n",
            "W0424 10:03:22.524000 21172 site-packages\\torch\\_dynamo\\convert_frame.py:1280]   File \"c:\\Users\\paul-\\anaconda3\\envs\\py311\\Lib\\site-packages\\torch\\_inductor\\cpu_vec_isa.py\", line 142, in __bool__\n",
            "W0424 10:03:22.524000 21172 site-packages\\torch\\_dynamo\\convert_frame.py:1280]     return self.__bool__impl(config.cpp.vec_isa_ok)\n",
            "W0424 10:03:22.524000 21172 site-packages\\torch\\_dynamo\\convert_frame.py:1280]            ^^^^^^^^^^^^^^^^^^^^^^^^^^^^^^^^^^^^^^^^\n",
            "W0424 10:03:22.524000 21172 site-packages\\torch\\_dynamo\\convert_frame.py:1280]   File \"c:\\Users\\paul-\\anaconda3\\envs\\py311\\Lib\\site-packages\\torch\\_inductor\\cpu_vec_isa.py\", line 152, in __bool__impl\n",
            "W0424 10:03:22.524000 21172 site-packages\\torch\\_dynamo\\convert_frame.py:1280]     return self.check_build(VecISA._avx_code)\n",
            "W0424 10:03:22.524000 21172 site-packages\\torch\\_dynamo\\convert_frame.py:1280]            ^^^^^^^^^^^^^^^^^^^^^^^^^^^^^^^^^^\n",
            "W0424 10:03:22.524000 21172 site-packages\\torch\\_dynamo\\convert_frame.py:1280]   File \"c:\\Users\\paul-\\anaconda3\\envs\\py311\\Lib\\site-packages\\torch\\_inductor\\cpu_vec_isa.py\", line 102, in check_build\n",
            "W0424 10:03:22.524000 21172 site-packages\\torch\\_dynamo\\convert_frame.py:1280]     extra=_get_isa_dry_compile_fingerprint(self._arch_flags),\n",
            "W0424 10:03:22.524000 21172 site-packages\\torch\\_dynamo\\convert_frame.py:1280]           ^^^^^^^^^^^^^^^^^^^^^^^^^^^^^^^^^^^^^^^^^^^^^^^^^^\n",
            "W0424 10:03:22.524000 21172 site-packages\\torch\\_dynamo\\convert_frame.py:1280]   File \"c:\\Users\\paul-\\anaconda3\\envs\\py311\\Lib\\site-packages\\torch\\_inductor\\cpu_vec_isa.py\", line 28, in _get_isa_dry_compile_fingerprint\n",
            "W0424 10:03:22.524000 21172 site-packages\\torch\\_dynamo\\convert_frame.py:1280]     compiler_info = get_compiler_version_info(get_cpp_compiler())\n",
            "W0424 10:03:22.524000 21172 site-packages\\torch\\_dynamo\\convert_frame.py:1280]                                               ^^^^^^^^^^^^^^^^^^\n",
            "W0424 10:03:22.524000 21172 site-packages\\torch\\_dynamo\\convert_frame.py:1280]   File \"c:\\Users\\paul-\\anaconda3\\envs\\py311\\Lib\\site-packages\\torch\\_inductor\\cpp_builder.py\", line 148, in get_cpp_compiler\n",
            "W0424 10:03:22.524000 21172 site-packages\\torch\\_dynamo\\convert_frame.py:1280]     check_compiler_exist_windows(compiler)\n",
            "W0424 10:03:22.524000 21172 site-packages\\torch\\_dynamo\\convert_frame.py:1280]   File \"c:\\Users\\paul-\\anaconda3\\envs\\py311\\Lib\\site-packages\\torch\\_inductor\\cpp_builder.py\", line 139, in check_compiler_exist_windows\n",
            "W0424 10:03:22.524000 21172 site-packages\\torch\\_dynamo\\convert_frame.py:1280]     raise RuntimeError(f\"Compiler: {compiler} is not found.\") from exc\n",
            "W0424 10:03:22.524000 21172 site-packages\\torch\\_dynamo\\convert_frame.py:1280] torch._inductor.exc.InductorError: RuntimeError: Compiler: cl is not found.\n",
            "W0424 10:03:22.524000 21172 site-packages\\torch\\_dynamo\\convert_frame.py:1280] \n",
            "W0424 10:03:22.524000 21172 site-packages\\torch\\_dynamo\\convert_frame.py:1280] Set TORCHDYNAMO_VERBOSE=1 for the internal stack trace (please do this especially if you're reporting a bug to PyTorch). For even more developer context, set TORCH_LOGS=\"+dynamo\"\n",
            "W0424 10:03:22.524000 21172 site-packages\\torch\\_dynamo\\convert_frame.py:1280] \n",
            "W0424 10:03:22.615000 21172 site-packages\\torch\\_dynamo\\convert_frame.py:1280] WON'T CONVERT _expand_mask c:\\Users\\paul-\\anaconda3\\envs\\py311\\Lib\\site-packages\\transformers\\modeling_attn_mask_utils.py line 180 \n",
            "W0424 10:03:22.615000 21172 site-packages\\torch\\_dynamo\\convert_frame.py:1280] due to: \n",
            "W0424 10:03:22.615000 21172 site-packages\\torch\\_dynamo\\convert_frame.py:1280] Traceback (most recent call last):\n",
            "W0424 10:03:22.615000 21172 site-packages\\torch\\_dynamo\\convert_frame.py:1280]   File \"c:\\Users\\paul-\\anaconda3\\envs\\py311\\Lib\\site-packages\\torch\\_dynamo\\convert_frame.py\", line 1213, in __call__\n",
            "W0424 10:03:22.615000 21172 site-packages\\torch\\_dynamo\\convert_frame.py:1280]     result = self._inner_convert(\n",
            "W0424 10:03:22.615000 21172 site-packages\\torch\\_dynamo\\convert_frame.py:1280]              ^^^^^^^^^^^^^^^^^^^^\n",
            "W0424 10:03:22.615000 21172 site-packages\\torch\\_dynamo\\convert_frame.py:1280]   File \"c:\\Users\\paul-\\anaconda3\\envs\\py311\\Lib\\site-packages\\torch\\_dynamo\\convert_frame.py\", line 598, in __call__\n",
            "W0424 10:03:22.615000 21172 site-packages\\torch\\_dynamo\\convert_frame.py:1280]     return _compile(\n",
            "W0424 10:03:22.615000 21172 site-packages\\torch\\_dynamo\\convert_frame.py:1280]            ^^^^^^^^^\n",
            "W0424 10:03:22.615000 21172 site-packages\\torch\\_dynamo\\convert_frame.py:1280]   File \"c:\\Users\\paul-\\anaconda3\\envs\\py311\\Lib\\site-packages\\torch\\_dynamo\\convert_frame.py\", line 1059, in _compile\n",
            "W0424 10:03:22.615000 21172 site-packages\\torch\\_dynamo\\convert_frame.py:1280]     guarded_code = compile_inner(code, one_graph, hooks, transform)\n",
            "W0424 10:03:22.615000 21172 site-packages\\torch\\_dynamo\\convert_frame.py:1280]                    ^^^^^^^^^^^^^^^^^^^^^^^^^^^^^^^^^^^^^^^^^^^^^^^^\n",
            "W0424 10:03:22.615000 21172 site-packages\\torch\\_dynamo\\convert_frame.py:1280]   File \"c:\\Users\\paul-\\anaconda3\\envs\\py311\\Lib\\site-packages\\torch\\_utils_internal.py\", line 97, in wrapper_function\n",
            "W0424 10:03:22.615000 21172 site-packages\\torch\\_dynamo\\convert_frame.py:1280]     return function(*args, **kwargs)\n",
            "W0424 10:03:22.615000 21172 site-packages\\torch\\_dynamo\\convert_frame.py:1280]            ^^^^^^^^^^^^^^^^^^^^^^^^^\n",
            "W0424 10:03:22.615000 21172 site-packages\\torch\\_dynamo\\convert_frame.py:1280]   File \"c:\\Users\\paul-\\anaconda3\\envs\\py311\\Lib\\site-packages\\torch\\_dynamo\\convert_frame.py\", line 761, in compile_inner\n",
            "W0424 10:03:22.615000 21172 site-packages\\torch\\_dynamo\\convert_frame.py:1280]     return _compile_inner(code, one_graph, hooks, transform)\n",
            "W0424 10:03:22.615000 21172 site-packages\\torch\\_dynamo\\convert_frame.py:1280]            ^^^^^^^^^^^^^^^^^^^^^^^^^^^^^^^^^^^^^^^^^^^^^^^^^\n",
            "W0424 10:03:22.615000 21172 site-packages\\torch\\_dynamo\\convert_frame.py:1280]   File \"c:\\Users\\paul-\\anaconda3\\envs\\py311\\Lib\\site-packages\\torch\\_dynamo\\convert_frame.py\", line 797, in _compile_inner\n",
            "W0424 10:03:22.615000 21172 site-packages\\torch\\_dynamo\\convert_frame.py:1280]     out_code = transform_code_object(code, transform)\n",
            "W0424 10:03:22.615000 21172 site-packages\\torch\\_dynamo\\convert_frame.py:1280]                ^^^^^^^^^^^^^^^^^^^^^^^^^^^^^^^^^^^^^^\n",
            "W0424 10:03:22.615000 21172 site-packages\\torch\\_dynamo\\convert_frame.py:1280]   File \"c:\\Users\\paul-\\anaconda3\\envs\\py311\\Lib\\site-packages\\torch\\_dynamo\\bytecode_transformation.py\", line 1422, in transform_code_object\n",
            "W0424 10:03:22.615000 21172 site-packages\\torch\\_dynamo\\convert_frame.py:1280]     transformations(instructions, code_options)\n",
            "W0424 10:03:22.615000 21172 site-packages\\torch\\_dynamo\\convert_frame.py:1280]   File \"c:\\Users\\paul-\\anaconda3\\envs\\py311\\Lib\\site-packages\\torch\\_dynamo\\convert_frame.py\", line 257, in _fn\n",
            "W0424 10:03:22.615000 21172 site-packages\\torch\\_dynamo\\convert_frame.py:1280]     return fn(*args, **kwargs)\n",
            "W0424 10:03:22.615000 21172 site-packages\\torch\\_dynamo\\convert_frame.py:1280]            ^^^^^^^^^^^^^^^^^^^\n",
            "W0424 10:03:22.615000 21172 site-packages\\torch\\_dynamo\\convert_frame.py:1280]   File \"c:\\Users\\paul-\\anaconda3\\envs\\py311\\Lib\\site-packages\\torch\\_dynamo\\convert_frame.py\", line 715, in transform\n",
            "W0424 10:03:22.615000 21172 site-packages\\torch\\_dynamo\\convert_frame.py:1280]     tracer.run()\n",
            "W0424 10:03:22.615000 21172 site-packages\\torch\\_dynamo\\convert_frame.py:1280]   File \"c:\\Users\\paul-\\anaconda3\\envs\\py311\\Lib\\site-packages\\torch\\_dynamo\\symbolic_convert.py\", line 3500, in run\n",
            "W0424 10:03:22.615000 21172 site-packages\\torch\\_dynamo\\convert_frame.py:1280]     super().run()\n",
            "W0424 10:03:22.615000 21172 site-packages\\torch\\_dynamo\\convert_frame.py:1280]   File \"c:\\Users\\paul-\\anaconda3\\envs\\py311\\Lib\\site-packages\\torch\\_dynamo\\symbolic_convert.py\", line 1337, in run\n",
            "W0424 10:03:22.615000 21172 site-packages\\torch\\_dynamo\\convert_frame.py:1280]     while self.step():\n",
            "W0424 10:03:22.615000 21172 site-packages\\torch\\_dynamo\\convert_frame.py:1280]           ^^^^^^^^^^^\n",
            "W0424 10:03:22.615000 21172 site-packages\\torch\\_dynamo\\convert_frame.py:1280]   File \"c:\\Users\\paul-\\anaconda3\\envs\\py311\\Lib\\site-packages\\torch\\_dynamo\\symbolic_convert.py\", line 1246, in step\n",
            "W0424 10:03:22.615000 21172 site-packages\\torch\\_dynamo\\convert_frame.py:1280]     self.dispatch_table[inst.opcode](self, inst)\n",
            "W0424 10:03:22.615000 21172 site-packages\\torch\\_dynamo\\convert_frame.py:1280]   File \"c:\\Users\\paul-\\anaconda3\\envs\\py311\\Lib\\site-packages\\torch\\_dynamo\\symbolic_convert.py\", line 3701, in RETURN_VALUE\n",
            "W0424 10:03:22.615000 21172 site-packages\\torch\\_dynamo\\convert_frame.py:1280]     self._return(inst)\n",
            "W0424 10:03:22.615000 21172 site-packages\\torch\\_dynamo\\convert_frame.py:1280]   File \"c:\\Users\\paul-\\anaconda3\\envs\\py311\\Lib\\site-packages\\torch\\_dynamo\\symbolic_convert.py\", line 3686, in _return\n",
            "W0424 10:03:22.615000 21172 site-packages\\torch\\_dynamo\\convert_frame.py:1280]     self.output.compile_subgraph(\n",
            "W0424 10:03:22.615000 21172 site-packages\\torch\\_dynamo\\convert_frame.py:1280]   File \"c:\\Users\\paul-\\anaconda3\\envs\\py311\\Lib\\site-packages\\torch\\_dynamo\\output_graph.py\", line 1144, in compile_subgraph\n",
            "W0424 10:03:22.615000 21172 site-packages\\torch\\_dynamo\\convert_frame.py:1280]     self.compile_and_call_fx_graph(\n",
            "W0424 10:03:22.615000 21172 site-packages\\torch\\_dynamo\\convert_frame.py:1280]   File \"c:\\Users\\paul-\\anaconda3\\envs\\py311\\Lib\\site-packages\\torch\\_dynamo\\output_graph.py\", line 1437, in compile_and_call_fx_graph\n",
            "W0424 10:03:22.615000 21172 site-packages\\torch\\_dynamo\\convert_frame.py:1280]     compiled_fn = self.call_user_compiler(gm)\n",
            "W0424 10:03:22.615000 21172 site-packages\\torch\\_dynamo\\convert_frame.py:1280]                   ^^^^^^^^^^^^^^^^^^^^^^^^^^^\n",
            "W0424 10:03:22.615000 21172 site-packages\\torch\\_dynamo\\convert_frame.py:1280]   File \"c:\\Users\\paul-\\anaconda3\\envs\\py311\\Lib\\site-packages\\torch\\_dynamo\\output_graph.py\", line 1487, in call_user_compiler\n",
            "W0424 10:03:22.615000 21172 site-packages\\torch\\_dynamo\\convert_frame.py:1280]     return self._call_user_compiler(gm)\n",
            "W0424 10:03:22.615000 21172 site-packages\\torch\\_dynamo\\convert_frame.py:1280]            ^^^^^^^^^^^^^^^^^^^^^^^^^^^^\n",
            "W0424 10:03:22.615000 21172 site-packages\\torch\\_dynamo\\convert_frame.py:1280]   File \"c:\\Users\\paul-\\anaconda3\\envs\\py311\\Lib\\site-packages\\torch\\_dynamo\\output_graph.py\", line 1519, in _call_user_compiler\n",
            "W0424 10:03:22.615000 21172 site-packages\\torch\\_dynamo\\convert_frame.py:1280]     compiled_fn = compiler_fn(gm, self.example_inputs())\n",
            "W0424 10:03:22.615000 21172 site-packages\\torch\\_dynamo\\convert_frame.py:1280]                   ^^^^^^^^^^^^^^^^^^^^^^^^^^^^^^^^^^^^^^\n",
            "W0424 10:03:22.615000 21172 site-packages\\torch\\_dynamo\\convert_frame.py:1280]   File \"c:\\Users\\paul-\\anaconda3\\envs\\py311\\Lib\\site-packages\\torch\\_dynamo\\repro\\after_dynamo.py\", line 150, in __call__\n",
            "W0424 10:03:22.615000 21172 site-packages\\torch\\_dynamo\\convert_frame.py:1280]     compiled_gm = compiler_fn(gm, example_inputs)\n",
            "W0424 10:03:22.615000 21172 site-packages\\torch\\_dynamo\\convert_frame.py:1280]                   ^^^^^^^^^^^^^^^^^^^^^^^^^^^^^^^\n",
            "W0424 10:03:22.615000 21172 site-packages\\torch\\_dynamo\\convert_frame.py:1280]   File \"c:\\Users\\paul-\\anaconda3\\envs\\py311\\Lib\\site-packages\\torch\\__init__.py\", line 2347, in __call__\n",
            "W0424 10:03:22.615000 21172 site-packages\\torch\\_dynamo\\convert_frame.py:1280]     return compile_fx(model_, inputs_, config_patches=self.config)\n",
            "W0424 10:03:22.615000 21172 site-packages\\torch\\_dynamo\\convert_frame.py:1280]            ^^^^^^^^^^^^^^^^^^^^^^^^^^^^^^^^^^^^^^^^^^^^^^^^^^^^^^^\n",
            "W0424 10:03:22.615000 21172 site-packages\\torch\\_dynamo\\convert_frame.py:1280]   File \"c:\\Users\\paul-\\anaconda3\\envs\\py311\\Lib\\site-packages\\torch\\_inductor\\compile_fx.py\", line 2101, in compile_fx\n",
            "W0424 10:03:22.615000 21172 site-packages\\torch\\_dynamo\\convert_frame.py:1280]     raise e.remove_dynamo_frames() from None  # see TORCHDYNAMO_VERBOSE=1\n",
            "W0424 10:03:22.615000 21172 site-packages\\torch\\_dynamo\\convert_frame.py:1280]     ^^^^^^^^^^^^^^^^^^^^^^^^^^^^^^^^^^^^^^^^\n",
            "W0424 10:03:22.615000 21172 site-packages\\torch\\_dynamo\\convert_frame.py:1280]   File \"c:\\Users\\paul-\\anaconda3\\envs\\py311\\Lib\\site-packages\\torch\\_inductor\\compile_fx.py\", line 760, in _compile_fx_inner\n",
            "W0424 10:03:22.615000 21172 site-packages\\torch\\_dynamo\\convert_frame.py:1280]     raise InductorError(e, currentframe()).with_traceback(\n",
            "W0424 10:03:22.615000 21172 site-packages\\torch\\_dynamo\\convert_frame.py:1280]   File \"c:\\Users\\paul-\\anaconda3\\envs\\py311\\Lib\\site-packages\\torch\\_inductor\\compile_fx.py\", line 745, in _compile_fx_inner\n",
            "W0424 10:03:22.615000 21172 site-packages\\torch\\_dynamo\\convert_frame.py:1280]     mb_compiled_graph = fx_codegen_and_compile(\n",
            "W0424 10:03:22.615000 21172 site-packages\\torch\\_dynamo\\convert_frame.py:1280]                         ^^^^^^^^^^^^^^^^^^^^^^^\n",
            "W0424 10:03:22.615000 21172 site-packages\\torch\\_dynamo\\convert_frame.py:1280]   File \"c:\\Users\\paul-\\anaconda3\\envs\\py311\\Lib\\site-packages\\torch\\_inductor\\compile_fx.py\", line 1295, in fx_codegen_and_compile\n",
            "W0424 10:03:22.615000 21172 site-packages\\torch\\_dynamo\\convert_frame.py:1280]     return scheme.codegen_and_compile(gm, example_inputs, inputs_to_check, graph_kwargs)\n",
            "W0424 10:03:22.615000 21172 site-packages\\torch\\_dynamo\\convert_frame.py:1280]            ^^^^^^^^^^^^^^^^^^^^^^^^^^^^^^^^^^^^^^^^^^^^^^^^^^^^^^^^^^^^^^^^^^^^^^^^^^^^^\n",
            "W0424 10:03:22.615000 21172 site-packages\\torch\\_dynamo\\convert_frame.py:1280]   File \"c:\\Users\\paul-\\anaconda3\\envs\\py311\\Lib\\site-packages\\torch\\_inductor\\compile_fx.py\", line 1197, in codegen_and_compile\n",
            "W0424 10:03:22.615000 21172 site-packages\\torch\\_dynamo\\convert_frame.py:1280]     compiled_fn = graph.compile_to_module().call\n",
            "W0424 10:03:22.615000 21172 site-packages\\torch\\_dynamo\\convert_frame.py:1280]                   ^^^^^^^^^^^^^^^^^^^^^^^^^\n",
            "W0424 10:03:22.615000 21172 site-packages\\torch\\_dynamo\\convert_frame.py:1280]   File \"c:\\Users\\paul-\\anaconda3\\envs\\py311\\Lib\\site-packages\\torch\\_inductor\\graph.py\", line 2083, in compile_to_module\n",
            "W0424 10:03:22.615000 21172 site-packages\\torch\\_dynamo\\convert_frame.py:1280]     return self._compile_to_module()\n",
            "W0424 10:03:22.615000 21172 site-packages\\torch\\_dynamo\\convert_frame.py:1280]            ^^^^^^^^^^^^^^^^^^^^^^^^^\n",
            "W0424 10:03:22.615000 21172 site-packages\\torch\\_dynamo\\convert_frame.py:1280]   File \"c:\\Users\\paul-\\anaconda3\\envs\\py311\\Lib\\site-packages\\torch\\_inductor\\graph.py\", line 2091, in _compile_to_module\n",
            "W0424 10:03:22.615000 21172 site-packages\\torch\\_dynamo\\convert_frame.py:1280]     self.codegen_with_cpp_wrapper() if self.cpp_wrapper else self.codegen()\n",
            "W0424 10:03:22.615000 21172 site-packages\\torch\\_dynamo\\convert_frame.py:1280]                                                              ^^^^^^^^^^^^^^\n",
            "W0424 10:03:22.615000 21172 site-packages\\torch\\_dynamo\\convert_frame.py:1280]   File \"c:\\Users\\paul-\\anaconda3\\envs\\py311\\Lib\\site-packages\\torch\\_inductor\\graph.py\", line 2002, in codegen\n",
            "W0424 10:03:22.615000 21172 site-packages\\torch\\_dynamo\\convert_frame.py:1280]     self.scheduler.codegen()\n",
            "W0424 10:03:22.615000 21172 site-packages\\torch\\_dynamo\\convert_frame.py:1280]   File \"c:\\Users\\paul-\\anaconda3\\envs\\py311\\Lib\\site-packages\\torch\\_inductor\\scheduler.py\", line 4135, in codegen\n",
            "W0424 10:03:22.615000 21172 site-packages\\torch\\_dynamo\\convert_frame.py:1280]     else self._codegen(self.nodes)\n",
            "W0424 10:03:22.615000 21172 site-packages\\torch\\_dynamo\\convert_frame.py:1280]          ^^^^^^^^^^^^^^^^^^^^^^^^^\n",
            "W0424 10:03:22.615000 21172 site-packages\\torch\\_dynamo\\convert_frame.py:1280]   File \"c:\\Users\\paul-\\anaconda3\\envs\\py311\\Lib\\site-packages\\torch\\_inductor\\scheduler.py\", line 4264, in _codegen\n",
            "W0424 10:03:22.615000 21172 site-packages\\torch\\_dynamo\\convert_frame.py:1280]     self.get_backend(device).codegen_node(node)\n",
            "W0424 10:03:22.615000 21172 site-packages\\torch\\_dynamo\\convert_frame.py:1280]   File \"c:\\Users\\paul-\\anaconda3\\envs\\py311\\Lib\\site-packages\\torch\\_inductor\\codegen\\cpp.py\", line 4986, in codegen_node\n",
            "W0424 10:03:22.615000 21172 site-packages\\torch\\_dynamo\\convert_frame.py:1280]     cpp_kernel_proxy = CppKernelProxy(kernel_group)\n",
            "W0424 10:03:22.615000 21172 site-packages\\torch\\_dynamo\\convert_frame.py:1280]                        ^^^^^^^^^^^^^^^^^^^^^^^^^^^^\n",
            "W0424 10:03:22.615000 21172 site-packages\\torch\\_dynamo\\convert_frame.py:1280]   File \"c:\\Users\\paul-\\anaconda3\\envs\\py311\\Lib\\site-packages\\torch\\_inductor\\codegen\\cpp.py\", line 3734, in __init__\n",
            "W0424 10:03:22.615000 21172 site-packages\\torch\\_dynamo\\convert_frame.py:1280]     self.picked_vec_isa: cpu_vec_isa.VecISA = cpu_vec_isa.pick_vec_isa()\n",
            "W0424 10:03:22.615000 21172 site-packages\\torch\\_dynamo\\convert_frame.py:1280]                                               ^^^^^^^^^^^^^^^^^^^^^^^^^^\n",
            "W0424 10:03:22.615000 21172 site-packages\\torch\\_dynamo\\convert_frame.py:1280]   File \"c:\\Users\\paul-\\anaconda3\\envs\\py311\\Lib\\site-packages\\torch\\_inductor\\cpu_vec_isa.py\", line 418, in pick_vec_isa\n",
            "W0424 10:03:22.615000 21172 site-packages\\torch\\_dynamo\\convert_frame.py:1280]     _valid_vec_isa_list: list[VecISA] = valid_vec_isa_list()\n",
            "W0424 10:03:22.615000 21172 site-packages\\torch\\_dynamo\\convert_frame.py:1280]                                         ^^^^^^^^^^^^^^^^^^^^\n",
            "W0424 10:03:22.615000 21172 site-packages\\torch\\_dynamo\\convert_frame.py:1280]   File \"c:\\Users\\paul-\\anaconda3\\envs\\py311\\Lib\\site-packages\\torch\\_inductor\\cpu_vec_isa.py\", line 405, in valid_vec_isa_list\n",
            "W0424 10:03:22.615000 21172 site-packages\\torch\\_dynamo\\convert_frame.py:1280]     isa_list.extend(\n",
            "W0424 10:03:22.615000 21172 site-packages\\torch\\_dynamo\\convert_frame.py:1280]   File \"c:\\Users\\paul-\\anaconda3\\envs\\py311\\Lib\\site-packages\\torch\\_inductor\\cpu_vec_isa.py\", line 405, in <genexpr>\n",
            "W0424 10:03:22.615000 21172 site-packages\\torch\\_dynamo\\convert_frame.py:1280]     isa_list.extend(\n",
            "W0424 10:03:22.615000 21172 site-packages\\torch\\_dynamo\\convert_frame.py:1280]                    ^\n",
            "W0424 10:03:22.615000 21172 site-packages\\torch\\_dynamo\\convert_frame.py:1280]   File \"c:\\Users\\paul-\\anaconda3\\envs\\py311\\Lib\\site-packages\\torch\\_inductor\\cpu_vec_isa.py\", line 142, in __bool__\n",
            "W0424 10:03:22.615000 21172 site-packages\\torch\\_dynamo\\convert_frame.py:1280]     return self.__bool__impl(config.cpp.vec_isa_ok)\n",
            "W0424 10:03:22.615000 21172 site-packages\\torch\\_dynamo\\convert_frame.py:1280]            ^^^^^^^^^^^^^^^^^^^^^^^^^^^^^^^^^^^^^^^^\n",
            "W0424 10:03:22.615000 21172 site-packages\\torch\\_dynamo\\convert_frame.py:1280]   File \"c:\\Users\\paul-\\anaconda3\\envs\\py311\\Lib\\site-packages\\torch\\_inductor\\cpu_vec_isa.py\", line 152, in __bool__impl\n",
            "W0424 10:03:22.615000 21172 site-packages\\torch\\_dynamo\\convert_frame.py:1280]     return self.check_build(VecISA._avx_code)\n",
            "W0424 10:03:22.615000 21172 site-packages\\torch\\_dynamo\\convert_frame.py:1280]            ^^^^^^^^^^^^^^^^^^^^^^^^^^^^^^^^^^\n",
            "W0424 10:03:22.615000 21172 site-packages\\torch\\_dynamo\\convert_frame.py:1280]   File \"c:\\Users\\paul-\\anaconda3\\envs\\py311\\Lib\\site-packages\\torch\\_inductor\\cpu_vec_isa.py\", line 102, in check_build\n",
            "W0424 10:03:22.615000 21172 site-packages\\torch\\_dynamo\\convert_frame.py:1280]     extra=_get_isa_dry_compile_fingerprint(self._arch_flags),\n",
            "W0424 10:03:22.615000 21172 site-packages\\torch\\_dynamo\\convert_frame.py:1280]           ^^^^^^^^^^^^^^^^^^^^^^^^^^^^^^^^^^^^^^^^^^^^^^^^^^\n",
            "W0424 10:03:22.615000 21172 site-packages\\torch\\_dynamo\\convert_frame.py:1280]   File \"c:\\Users\\paul-\\anaconda3\\envs\\py311\\Lib\\site-packages\\torch\\_inductor\\cpu_vec_isa.py\", line 28, in _get_isa_dry_compile_fingerprint\n",
            "W0424 10:03:22.615000 21172 site-packages\\torch\\_dynamo\\convert_frame.py:1280]     compiler_info = get_compiler_version_info(get_cpp_compiler())\n",
            "W0424 10:03:22.615000 21172 site-packages\\torch\\_dynamo\\convert_frame.py:1280]                                               ^^^^^^^^^^^^^^^^^^\n",
            "W0424 10:03:22.615000 21172 site-packages\\torch\\_dynamo\\convert_frame.py:1280]   File \"c:\\Users\\paul-\\anaconda3\\envs\\py311\\Lib\\site-packages\\torch\\_inductor\\cpp_builder.py\", line 148, in get_cpp_compiler\n",
            "W0424 10:03:22.615000 21172 site-packages\\torch\\_dynamo\\convert_frame.py:1280]     check_compiler_exist_windows(compiler)\n",
            "W0424 10:03:22.615000 21172 site-packages\\torch\\_dynamo\\convert_frame.py:1280]   File \"c:\\Users\\paul-\\anaconda3\\envs\\py311\\Lib\\site-packages\\torch\\_inductor\\cpp_builder.py\", line 139, in check_compiler_exist_windows\n",
            "W0424 10:03:22.615000 21172 site-packages\\torch\\_dynamo\\convert_frame.py:1280]     raise RuntimeError(f\"Compiler: {compiler} is not found.\") from exc\n",
            "W0424 10:03:22.615000 21172 site-packages\\torch\\_dynamo\\convert_frame.py:1280] torch._inductor.exc.InductorError: RuntimeError: Compiler: cl is not found.\n",
            "W0424 10:03:22.615000 21172 site-packages\\torch\\_dynamo\\convert_frame.py:1280] \n",
            "W0424 10:03:22.615000 21172 site-packages\\torch\\_dynamo\\convert_frame.py:1280] Set TORCHDYNAMO_VERBOSE=1 for the internal stack trace (please do this especially if you're reporting a bug to PyTorch). For even more developer context, set TORCH_LOGS=\"+dynamo\"\n",
            "W0424 10:03:22.615000 21172 site-packages\\torch\\_dynamo\\convert_frame.py:1280] \n",
            "W0424 10:03:22.615000 21172 site-packages\\torch\\_dynamo\\convert_frame.py:1280] Traceback (most recent call last):\n",
            "W0424 10:03:22.615000 21172 site-packages\\torch\\_dynamo\\convert_frame.py:1280]   File \"c:\\Users\\paul-\\anaconda3\\envs\\py311\\Lib\\site-packages\\torch\\_dynamo\\convert_frame.py\", line 1213, in __call__\n",
            "W0424 10:03:22.615000 21172 site-packages\\torch\\_dynamo\\convert_frame.py:1280]     result = self._inner_convert(\n",
            "W0424 10:03:22.615000 21172 site-packages\\torch\\_dynamo\\convert_frame.py:1280]              ^^^^^^^^^^^^^^^^^^^^\n",
            "W0424 10:03:22.615000 21172 site-packages\\torch\\_dynamo\\convert_frame.py:1280]   File \"c:\\Users\\paul-\\anaconda3\\envs\\py311\\Lib\\site-packages\\torch\\_dynamo\\convert_frame.py\", line 598, in __call__\n",
            "W0424 10:03:22.615000 21172 site-packages\\torch\\_dynamo\\convert_frame.py:1280]     return _compile(\n",
            "W0424 10:03:22.615000 21172 site-packages\\torch\\_dynamo\\convert_frame.py:1280]            ^^^^^^^^^\n",
            "W0424 10:03:22.615000 21172 site-packages\\torch\\_dynamo\\convert_frame.py:1280]   File \"c:\\Users\\paul-\\anaconda3\\envs\\py311\\Lib\\site-packages\\torch\\_dynamo\\convert_frame.py\", line 1059, in _compile\n",
            "W0424 10:03:22.615000 21172 site-packages\\torch\\_dynamo\\convert_frame.py:1280]     guarded_code = compile_inner(code, one_graph, hooks, transform)\n",
            "W0424 10:03:22.615000 21172 site-packages\\torch\\_dynamo\\convert_frame.py:1280]                    ^^^^^^^^^^^^^^^^^^^^^^^^^^^^^^^^^^^^^^^^^^^^^^^^\n",
            "W0424 10:03:22.615000 21172 site-packages\\torch\\_dynamo\\convert_frame.py:1280]   File \"c:\\Users\\paul-\\anaconda3\\envs\\py311\\Lib\\site-packages\\torch\\_utils_internal.py\", line 97, in wrapper_function\n",
            "W0424 10:03:22.615000 21172 site-packages\\torch\\_dynamo\\convert_frame.py:1280]     return function(*args, **kwargs)\n",
            "W0424 10:03:22.615000 21172 site-packages\\torch\\_dynamo\\convert_frame.py:1280]            ^^^^^^^^^^^^^^^^^^^^^^^^^\n",
            "W0424 10:03:22.615000 21172 site-packages\\torch\\_dynamo\\convert_frame.py:1280]   File \"c:\\Users\\paul-\\anaconda3\\envs\\py311\\Lib\\site-packages\\torch\\_dynamo\\convert_frame.py\", line 761, in compile_inner\n",
            "W0424 10:03:22.615000 21172 site-packages\\torch\\_dynamo\\convert_frame.py:1280]     return _compile_inner(code, one_graph, hooks, transform)\n",
            "W0424 10:03:22.615000 21172 site-packages\\torch\\_dynamo\\convert_frame.py:1280]            ^^^^^^^^^^^^^^^^^^^^^^^^^^^^^^^^^^^^^^^^^^^^^^^^^\n",
            "W0424 10:03:22.615000 21172 site-packages\\torch\\_dynamo\\convert_frame.py:1280]   File \"c:\\Users\\paul-\\anaconda3\\envs\\py311\\Lib\\site-packages\\torch\\_dynamo\\convert_frame.py\", line 797, in _compile_inner\n",
            "W0424 10:03:22.615000 21172 site-packages\\torch\\_dynamo\\convert_frame.py:1280]     out_code = transform_code_object(code, transform)\n",
            "W0424 10:03:22.615000 21172 site-packages\\torch\\_dynamo\\convert_frame.py:1280]                ^^^^^^^^^^^^^^^^^^^^^^^^^^^^^^^^^^^^^^\n",
            "W0424 10:03:22.615000 21172 site-packages\\torch\\_dynamo\\convert_frame.py:1280]   File \"c:\\Users\\paul-\\anaconda3\\envs\\py311\\Lib\\site-packages\\torch\\_dynamo\\bytecode_transformation.py\", line 1422, in transform_code_object\n",
            "W0424 10:03:22.615000 21172 site-packages\\torch\\_dynamo\\convert_frame.py:1280]     transformations(instructions, code_options)\n",
            "W0424 10:03:22.615000 21172 site-packages\\torch\\_dynamo\\convert_frame.py:1280]   File \"c:\\Users\\paul-\\anaconda3\\envs\\py311\\Lib\\site-packages\\torch\\_dynamo\\convert_frame.py\", line 257, in _fn\n",
            "W0424 10:03:22.615000 21172 site-packages\\torch\\_dynamo\\convert_frame.py:1280]     return fn(*args, **kwargs)\n",
            "W0424 10:03:22.615000 21172 site-packages\\torch\\_dynamo\\convert_frame.py:1280]            ^^^^^^^^^^^^^^^^^^^\n",
            "W0424 10:03:22.615000 21172 site-packages\\torch\\_dynamo\\convert_frame.py:1280]   File \"c:\\Users\\paul-\\anaconda3\\envs\\py311\\Lib\\site-packages\\torch\\_dynamo\\convert_frame.py\", line 715, in transform\n",
            "W0424 10:03:22.615000 21172 site-packages\\torch\\_dynamo\\convert_frame.py:1280]     tracer.run()\n",
            "W0424 10:03:22.615000 21172 site-packages\\torch\\_dynamo\\convert_frame.py:1280]   File \"c:\\Users\\paul-\\anaconda3\\envs\\py311\\Lib\\site-packages\\torch\\_dynamo\\symbolic_convert.py\", line 3500, in run\n",
            "W0424 10:03:22.615000 21172 site-packages\\torch\\_dynamo\\convert_frame.py:1280]     super().run()\n",
            "W0424 10:03:22.615000 21172 site-packages\\torch\\_dynamo\\convert_frame.py:1280]   File \"c:\\Users\\paul-\\anaconda3\\envs\\py311\\Lib\\site-packages\\torch\\_dynamo\\symbolic_convert.py\", line 1337, in run\n",
            "W0424 10:03:22.615000 21172 site-packages\\torch\\_dynamo\\convert_frame.py:1280]     while self.step():\n",
            "W0424 10:03:22.615000 21172 site-packages\\torch\\_dynamo\\convert_frame.py:1280]           ^^^^^^^^^^^\n",
            "W0424 10:03:22.615000 21172 site-packages\\torch\\_dynamo\\convert_frame.py:1280]   File \"c:\\Users\\paul-\\anaconda3\\envs\\py311\\Lib\\site-packages\\torch\\_dynamo\\symbolic_convert.py\", line 1246, in step\n",
            "W0424 10:03:22.615000 21172 site-packages\\torch\\_dynamo\\convert_frame.py:1280]     self.dispatch_table[inst.opcode](self, inst)\n",
            "W0424 10:03:22.615000 21172 site-packages\\torch\\_dynamo\\convert_frame.py:1280]   File \"c:\\Users\\paul-\\anaconda3\\envs\\py311\\Lib\\site-packages\\torch\\_dynamo\\symbolic_convert.py\", line 3701, in RETURN_VALUE\n",
            "W0424 10:03:22.615000 21172 site-packages\\torch\\_dynamo\\convert_frame.py:1280]     self._return(inst)\n",
            "W0424 10:03:22.615000 21172 site-packages\\torch\\_dynamo\\convert_frame.py:1280]   File \"c:\\Users\\paul-\\anaconda3\\envs\\py311\\Lib\\site-packages\\torch\\_dynamo\\symbolic_convert.py\", line 3686, in _return\n",
            "W0424 10:03:22.615000 21172 site-packages\\torch\\_dynamo\\convert_frame.py:1280]     self.output.compile_subgraph(\n",
            "W0424 10:03:22.615000 21172 site-packages\\torch\\_dynamo\\convert_frame.py:1280]   File \"c:\\Users\\paul-\\anaconda3\\envs\\py311\\Lib\\site-packages\\torch\\_dynamo\\output_graph.py\", line 1144, in compile_subgraph\n",
            "W0424 10:03:22.615000 21172 site-packages\\torch\\_dynamo\\convert_frame.py:1280]     self.compile_and_call_fx_graph(\n",
            "W0424 10:03:22.615000 21172 site-packages\\torch\\_dynamo\\convert_frame.py:1280]   File \"c:\\Users\\paul-\\anaconda3\\envs\\py311\\Lib\\site-packages\\torch\\_dynamo\\output_graph.py\", line 1437, in compile_and_call_fx_graph\n",
            "W0424 10:03:22.615000 21172 site-packages\\torch\\_dynamo\\convert_frame.py:1280]     compiled_fn = self.call_user_compiler(gm)\n",
            "W0424 10:03:22.615000 21172 site-packages\\torch\\_dynamo\\convert_frame.py:1280]                   ^^^^^^^^^^^^^^^^^^^^^^^^^^^\n",
            "W0424 10:03:22.615000 21172 site-packages\\torch\\_dynamo\\convert_frame.py:1280]   File \"c:\\Users\\paul-\\anaconda3\\envs\\py311\\Lib\\site-packages\\torch\\_dynamo\\output_graph.py\", line 1487, in call_user_compiler\n",
            "W0424 10:03:22.615000 21172 site-packages\\torch\\_dynamo\\convert_frame.py:1280]     return self._call_user_compiler(gm)\n",
            "W0424 10:03:22.615000 21172 site-packages\\torch\\_dynamo\\convert_frame.py:1280]            ^^^^^^^^^^^^^^^^^^^^^^^^^^^^\n",
            "W0424 10:03:22.615000 21172 site-packages\\torch\\_dynamo\\convert_frame.py:1280]   File \"c:\\Users\\paul-\\anaconda3\\envs\\py311\\Lib\\site-packages\\torch\\_dynamo\\output_graph.py\", line 1519, in _call_user_compiler\n",
            "W0424 10:03:22.615000 21172 site-packages\\torch\\_dynamo\\convert_frame.py:1280]     compiled_fn = compiler_fn(gm, self.example_inputs())\n",
            "W0424 10:03:22.615000 21172 site-packages\\torch\\_dynamo\\convert_frame.py:1280]                   ^^^^^^^^^^^^^^^^^^^^^^^^^^^^^^^^^^^^^^\n",
            "W0424 10:03:22.615000 21172 site-packages\\torch\\_dynamo\\convert_frame.py:1280]   File \"c:\\Users\\paul-\\anaconda3\\envs\\py311\\Lib\\site-packages\\torch\\_dynamo\\repro\\after_dynamo.py\", line 150, in __call__\n",
            "W0424 10:03:22.615000 21172 site-packages\\torch\\_dynamo\\convert_frame.py:1280]     compiled_gm = compiler_fn(gm, example_inputs)\n",
            "W0424 10:03:22.615000 21172 site-packages\\torch\\_dynamo\\convert_frame.py:1280]                   ^^^^^^^^^^^^^^^^^^^^^^^^^^^^^^^\n",
            "W0424 10:03:22.615000 21172 site-packages\\torch\\_dynamo\\convert_frame.py:1280]   File \"c:\\Users\\paul-\\anaconda3\\envs\\py311\\Lib\\site-packages\\torch\\__init__.py\", line 2347, in __call__\n",
            "W0424 10:03:22.615000 21172 site-packages\\torch\\_dynamo\\convert_frame.py:1280]     return compile_fx(model_, inputs_, config_patches=self.config)\n",
            "W0424 10:03:22.615000 21172 site-packages\\torch\\_dynamo\\convert_frame.py:1280]            ^^^^^^^^^^^^^^^^^^^^^^^^^^^^^^^^^^^^^^^^^^^^^^^^^^^^^^^\n",
            "W0424 10:03:22.615000 21172 site-packages\\torch\\_dynamo\\convert_frame.py:1280]   File \"c:\\Users\\paul-\\anaconda3\\envs\\py311\\Lib\\site-packages\\torch\\_inductor\\compile_fx.py\", line 2101, in compile_fx\n",
            "W0424 10:03:22.615000 21172 site-packages\\torch\\_dynamo\\convert_frame.py:1280]     raise e.remove_dynamo_frames() from None  # see TORCHDYNAMO_VERBOSE=1\n",
            "W0424 10:03:22.615000 21172 site-packages\\torch\\_dynamo\\convert_frame.py:1280]     ^^^^^^^^^^^^^^^^^^^^^^^^^^^^^^^^^^^^^^^^\n",
            "W0424 10:03:22.615000 21172 site-packages\\torch\\_dynamo\\convert_frame.py:1280]   File \"c:\\Users\\paul-\\anaconda3\\envs\\py311\\Lib\\site-packages\\torch\\_inductor\\compile_fx.py\", line 760, in _compile_fx_inner\n",
            "W0424 10:03:22.615000 21172 site-packages\\torch\\_dynamo\\convert_frame.py:1280]     raise InductorError(e, currentframe()).with_traceback(\n",
            "W0424 10:03:22.615000 21172 site-packages\\torch\\_dynamo\\convert_frame.py:1280]   File \"c:\\Users\\paul-\\anaconda3\\envs\\py311\\Lib\\site-packages\\torch\\_inductor\\compile_fx.py\", line 745, in _compile_fx_inner\n",
            "W0424 10:03:22.615000 21172 site-packages\\torch\\_dynamo\\convert_frame.py:1280]     mb_compiled_graph = fx_codegen_and_compile(\n",
            "W0424 10:03:22.615000 21172 site-packages\\torch\\_dynamo\\convert_frame.py:1280]                         ^^^^^^^^^^^^^^^^^^^^^^^\n",
            "W0424 10:03:22.615000 21172 site-packages\\torch\\_dynamo\\convert_frame.py:1280]   File \"c:\\Users\\paul-\\anaconda3\\envs\\py311\\Lib\\site-packages\\torch\\_inductor\\compile_fx.py\", line 1295, in fx_codegen_and_compile\n",
            "W0424 10:03:22.615000 21172 site-packages\\torch\\_dynamo\\convert_frame.py:1280]     return scheme.codegen_and_compile(gm, example_inputs, inputs_to_check, graph_kwargs)\n",
            "W0424 10:03:22.615000 21172 site-packages\\torch\\_dynamo\\convert_frame.py:1280]            ^^^^^^^^^^^^^^^^^^^^^^^^^^^^^^^^^^^^^^^^^^^^^^^^^^^^^^^^^^^^^^^^^^^^^^^^^^^^^\n",
            "W0424 10:03:22.615000 21172 site-packages\\torch\\_dynamo\\convert_frame.py:1280]   File \"c:\\Users\\paul-\\anaconda3\\envs\\py311\\Lib\\site-packages\\torch\\_inductor\\compile_fx.py\", line 1197, in codegen_and_compile\n",
            "W0424 10:03:22.615000 21172 site-packages\\torch\\_dynamo\\convert_frame.py:1280]     compiled_fn = graph.compile_to_module().call\n",
            "W0424 10:03:22.615000 21172 site-packages\\torch\\_dynamo\\convert_frame.py:1280]                   ^^^^^^^^^^^^^^^^^^^^^^^^^\n",
            "W0424 10:03:22.615000 21172 site-packages\\torch\\_dynamo\\convert_frame.py:1280]   File \"c:\\Users\\paul-\\anaconda3\\envs\\py311\\Lib\\site-packages\\torch\\_inductor\\graph.py\", line 2083, in compile_to_module\n",
            "W0424 10:03:22.615000 21172 site-packages\\torch\\_dynamo\\convert_frame.py:1280]     return self._compile_to_module()\n",
            "W0424 10:03:22.615000 21172 site-packages\\torch\\_dynamo\\convert_frame.py:1280]            ^^^^^^^^^^^^^^^^^^^^^^^^^\n",
            "W0424 10:03:22.615000 21172 site-packages\\torch\\_dynamo\\convert_frame.py:1280]   File \"c:\\Users\\paul-\\anaconda3\\envs\\py311\\Lib\\site-packages\\torch\\_inductor\\graph.py\", line 2091, in _compile_to_module\n",
            "W0424 10:03:22.615000 21172 site-packages\\torch\\_dynamo\\convert_frame.py:1280]     self.codegen_with_cpp_wrapper() if self.cpp_wrapper else self.codegen()\n",
            "W0424 10:03:22.615000 21172 site-packages\\torch\\_dynamo\\convert_frame.py:1280]                                                              ^^^^^^^^^^^^^^\n",
            "W0424 10:03:22.615000 21172 site-packages\\torch\\_dynamo\\convert_frame.py:1280]   File \"c:\\Users\\paul-\\anaconda3\\envs\\py311\\Lib\\site-packages\\torch\\_inductor\\graph.py\", line 2002, in codegen\n",
            "W0424 10:03:22.615000 21172 site-packages\\torch\\_dynamo\\convert_frame.py:1280]     self.scheduler.codegen()\n",
            "W0424 10:03:22.615000 21172 site-packages\\torch\\_dynamo\\convert_frame.py:1280]   File \"c:\\Users\\paul-\\anaconda3\\envs\\py311\\Lib\\site-packages\\torch\\_inductor\\scheduler.py\", line 4135, in codegen\n",
            "W0424 10:03:22.615000 21172 site-packages\\torch\\_dynamo\\convert_frame.py:1280]     else self._codegen(self.nodes)\n",
            "W0424 10:03:22.615000 21172 site-packages\\torch\\_dynamo\\convert_frame.py:1280]          ^^^^^^^^^^^^^^^^^^^^^^^^^\n",
            "W0424 10:03:22.615000 21172 site-packages\\torch\\_dynamo\\convert_frame.py:1280]   File \"c:\\Users\\paul-\\anaconda3\\envs\\py311\\Lib\\site-packages\\torch\\_inductor\\scheduler.py\", line 4264, in _codegen\n",
            "W0424 10:03:22.615000 21172 site-packages\\torch\\_dynamo\\convert_frame.py:1280]     self.get_backend(device).codegen_node(node)\n",
            "W0424 10:03:22.615000 21172 site-packages\\torch\\_dynamo\\convert_frame.py:1280]   File \"c:\\Users\\paul-\\anaconda3\\envs\\py311\\Lib\\site-packages\\torch\\_inductor\\codegen\\cpp.py\", line 4986, in codegen_node\n",
            "W0424 10:03:22.615000 21172 site-packages\\torch\\_dynamo\\convert_frame.py:1280]     cpp_kernel_proxy = CppKernelProxy(kernel_group)\n",
            "W0424 10:03:22.615000 21172 site-packages\\torch\\_dynamo\\convert_frame.py:1280]                        ^^^^^^^^^^^^^^^^^^^^^^^^^^^^\n",
            "W0424 10:03:22.615000 21172 site-packages\\torch\\_dynamo\\convert_frame.py:1280]   File \"c:\\Users\\paul-\\anaconda3\\envs\\py311\\Lib\\site-packages\\torch\\_inductor\\codegen\\cpp.py\", line 3734, in __init__\n",
            "W0424 10:03:22.615000 21172 site-packages\\torch\\_dynamo\\convert_frame.py:1280]     self.picked_vec_isa: cpu_vec_isa.VecISA = cpu_vec_isa.pick_vec_isa()\n",
            "W0424 10:03:22.615000 21172 site-packages\\torch\\_dynamo\\convert_frame.py:1280]                                               ^^^^^^^^^^^^^^^^^^^^^^^^^^\n",
            "W0424 10:03:22.615000 21172 site-packages\\torch\\_dynamo\\convert_frame.py:1280]   File \"c:\\Users\\paul-\\anaconda3\\envs\\py311\\Lib\\site-packages\\torch\\_inductor\\cpu_vec_isa.py\", line 418, in pick_vec_isa\n",
            "W0424 10:03:22.615000 21172 site-packages\\torch\\_dynamo\\convert_frame.py:1280]     _valid_vec_isa_list: list[VecISA] = valid_vec_isa_list()\n",
            "W0424 10:03:22.615000 21172 site-packages\\torch\\_dynamo\\convert_frame.py:1280]                                         ^^^^^^^^^^^^^^^^^^^^\n",
            "W0424 10:03:22.615000 21172 site-packages\\torch\\_dynamo\\convert_frame.py:1280]   File \"c:\\Users\\paul-\\anaconda3\\envs\\py311\\Lib\\site-packages\\torch\\_inductor\\cpu_vec_isa.py\", line 405, in valid_vec_isa_list\n",
            "W0424 10:03:22.615000 21172 site-packages\\torch\\_dynamo\\convert_frame.py:1280]     isa_list.extend(\n",
            "W0424 10:03:22.615000 21172 site-packages\\torch\\_dynamo\\convert_frame.py:1280]   File \"c:\\Users\\paul-\\anaconda3\\envs\\py311\\Lib\\site-packages\\torch\\_inductor\\cpu_vec_isa.py\", line 405, in <genexpr>\n",
            "W0424 10:03:22.615000 21172 site-packages\\torch\\_dynamo\\convert_frame.py:1280]     isa_list.extend(\n",
            "W0424 10:03:22.615000 21172 site-packages\\torch\\_dynamo\\convert_frame.py:1280]                    ^\n",
            "W0424 10:03:22.615000 21172 site-packages\\torch\\_dynamo\\convert_frame.py:1280]   File \"c:\\Users\\paul-\\anaconda3\\envs\\py311\\Lib\\site-packages\\torch\\_inductor\\cpu_vec_isa.py\", line 142, in __bool__\n",
            "W0424 10:03:22.615000 21172 site-packages\\torch\\_dynamo\\convert_frame.py:1280]     return self.__bool__impl(config.cpp.vec_isa_ok)\n",
            "W0424 10:03:22.615000 21172 site-packages\\torch\\_dynamo\\convert_frame.py:1280]            ^^^^^^^^^^^^^^^^^^^^^^^^^^^^^^^^^^^^^^^^\n",
            "W0424 10:03:22.615000 21172 site-packages\\torch\\_dynamo\\convert_frame.py:1280]   File \"c:\\Users\\paul-\\anaconda3\\envs\\py311\\Lib\\site-packages\\torch\\_inductor\\cpu_vec_isa.py\", line 152, in __bool__impl\n",
            "W0424 10:03:22.615000 21172 site-packages\\torch\\_dynamo\\convert_frame.py:1280]     return self.check_build(VecISA._avx_code)\n",
            "W0424 10:03:22.615000 21172 site-packages\\torch\\_dynamo\\convert_frame.py:1280]            ^^^^^^^^^^^^^^^^^^^^^^^^^^^^^^^^^^\n",
            "W0424 10:03:22.615000 21172 site-packages\\torch\\_dynamo\\convert_frame.py:1280]   File \"c:\\Users\\paul-\\anaconda3\\envs\\py311\\Lib\\site-packages\\torch\\_inductor\\cpu_vec_isa.py\", line 102, in check_build\n",
            "W0424 10:03:22.615000 21172 site-packages\\torch\\_dynamo\\convert_frame.py:1280]     extra=_get_isa_dry_compile_fingerprint(self._arch_flags),\n",
            "W0424 10:03:22.615000 21172 site-packages\\torch\\_dynamo\\convert_frame.py:1280]           ^^^^^^^^^^^^^^^^^^^^^^^^^^^^^^^^^^^^^^^^^^^^^^^^^^\n",
            "W0424 10:03:22.615000 21172 site-packages\\torch\\_dynamo\\convert_frame.py:1280]   File \"c:\\Users\\paul-\\anaconda3\\envs\\py311\\Lib\\site-packages\\torch\\_inductor\\cpu_vec_isa.py\", line 28, in _get_isa_dry_compile_fingerprint\n",
            "W0424 10:03:22.615000 21172 site-packages\\torch\\_dynamo\\convert_frame.py:1280]     compiler_info = get_compiler_version_info(get_cpp_compiler())\n",
            "W0424 10:03:22.615000 21172 site-packages\\torch\\_dynamo\\convert_frame.py:1280]                                               ^^^^^^^^^^^^^^^^^^\n",
            "W0424 10:03:22.615000 21172 site-packages\\torch\\_dynamo\\convert_frame.py:1280]   File \"c:\\Users\\paul-\\anaconda3\\envs\\py311\\Lib\\site-packages\\torch\\_inductor\\cpp_builder.py\", line 148, in get_cpp_compiler\n",
            "W0424 10:03:22.615000 21172 site-packages\\torch\\_dynamo\\convert_frame.py:1280]     check_compiler_exist_windows(compiler)\n",
            "W0424 10:03:22.615000 21172 site-packages\\torch\\_dynamo\\convert_frame.py:1280]   File \"c:\\Users\\paul-\\anaconda3\\envs\\py311\\Lib\\site-packages\\torch\\_inductor\\cpp_builder.py\", line 139, in check_compiler_exist_windows\n",
            "W0424 10:03:22.615000 21172 site-packages\\torch\\_dynamo\\convert_frame.py:1280]     raise RuntimeError(f\"Compiler: {compiler} is not found.\") from exc\n",
            "W0424 10:03:22.615000 21172 site-packages\\torch\\_dynamo\\convert_frame.py:1280] torch._inductor.exc.InductorError: RuntimeError: Compiler: cl is not found.\n",
            "W0424 10:03:22.615000 21172 site-packages\\torch\\_dynamo\\convert_frame.py:1280] \n",
            "W0424 10:03:22.615000 21172 site-packages\\torch\\_dynamo\\convert_frame.py:1280] Set TORCHDYNAMO_VERBOSE=1 for the internal stack trace (please do this especially if you're reporting a bug to PyTorch). For even more developer context, set TORCH_LOGS=\"+dynamo\"\n",
            "W0424 10:03:22.615000 21172 site-packages\\torch\\_dynamo\\convert_frame.py:1280] \n",
            "W0424 10:03:34.482000 21172 site-packages\\torch\\_dynamo\\convert_frame.py:1280] WON'T CONVERT forward c:\\Users\\paul-\\anaconda3\\envs\\py311\\Lib\\site-packages\\transformers\\models\\bert\\modeling_bert.py line 651 \n",
            "W0424 10:03:34.482000 21172 site-packages\\torch\\_dynamo\\convert_frame.py:1280] due to: \n",
            "W0424 10:03:34.482000 21172 site-packages\\torch\\_dynamo\\convert_frame.py:1280] Traceback (most recent call last):\n",
            "W0424 10:03:34.482000 21172 site-packages\\torch\\_dynamo\\convert_frame.py:1280]   File \"c:\\Users\\paul-\\anaconda3\\envs\\py311\\Lib\\site-packages\\torch\\_dynamo\\convert_frame.py\", line 1213, in __call__\n",
            "W0424 10:03:34.482000 21172 site-packages\\torch\\_dynamo\\convert_frame.py:1280]     result = self._inner_convert(\n",
            "W0424 10:03:34.482000 21172 site-packages\\torch\\_dynamo\\convert_frame.py:1280]              ^^^^^^^^^^^^^^^^^^^^\n",
            "W0424 10:03:34.482000 21172 site-packages\\torch\\_dynamo\\convert_frame.py:1280]   File \"c:\\Users\\paul-\\anaconda3\\envs\\py311\\Lib\\site-packages\\torch\\_dynamo\\convert_frame.py\", line 598, in __call__\n",
            "W0424 10:03:34.482000 21172 site-packages\\torch\\_dynamo\\convert_frame.py:1280]     return _compile(\n",
            "W0424 10:03:34.482000 21172 site-packages\\torch\\_dynamo\\convert_frame.py:1280]            ^^^^^^^^^\n",
            "W0424 10:03:34.482000 21172 site-packages\\torch\\_dynamo\\convert_frame.py:1280]   File \"c:\\Users\\paul-\\anaconda3\\envs\\py311\\Lib\\site-packages\\torch\\_dynamo\\convert_frame.py\", line 1059, in _compile\n",
            "W0424 10:03:34.482000 21172 site-packages\\torch\\_dynamo\\convert_frame.py:1280]     guarded_code = compile_inner(code, one_graph, hooks, transform)\n",
            "W0424 10:03:34.482000 21172 site-packages\\torch\\_dynamo\\convert_frame.py:1280]                    ^^^^^^^^^^^^^^^^^^^^^^^^^^^^^^^^^^^^^^^^^^^^^^^^\n",
            "W0424 10:03:34.482000 21172 site-packages\\torch\\_dynamo\\convert_frame.py:1280]   File \"c:\\Users\\paul-\\anaconda3\\envs\\py311\\Lib\\site-packages\\torch\\_utils_internal.py\", line 97, in wrapper_function\n",
            "W0424 10:03:34.482000 21172 site-packages\\torch\\_dynamo\\convert_frame.py:1280]     return function(*args, **kwargs)\n",
            "W0424 10:03:34.482000 21172 site-packages\\torch\\_dynamo\\convert_frame.py:1280]            ^^^^^^^^^^^^^^^^^^^^^^^^^\n",
            "W0424 10:03:34.482000 21172 site-packages\\torch\\_dynamo\\convert_frame.py:1280]   File \"c:\\Users\\paul-\\anaconda3\\envs\\py311\\Lib\\site-packages\\torch\\_dynamo\\convert_frame.py\", line 761, in compile_inner\n",
            "W0424 10:03:34.482000 21172 site-packages\\torch\\_dynamo\\convert_frame.py:1280]     return _compile_inner(code, one_graph, hooks, transform)\n",
            "W0424 10:03:34.482000 21172 site-packages\\torch\\_dynamo\\convert_frame.py:1280]            ^^^^^^^^^^^^^^^^^^^^^^^^^^^^^^^^^^^^^^^^^^^^^^^^^\n",
            "W0424 10:03:34.482000 21172 site-packages\\torch\\_dynamo\\convert_frame.py:1280]   File \"c:\\Users\\paul-\\anaconda3\\envs\\py311\\Lib\\site-packages\\torch\\_dynamo\\convert_frame.py\", line 797, in _compile_inner\n",
            "W0424 10:03:34.482000 21172 site-packages\\torch\\_dynamo\\convert_frame.py:1280]     out_code = transform_code_object(code, transform)\n",
            "W0424 10:03:34.482000 21172 site-packages\\torch\\_dynamo\\convert_frame.py:1280]                ^^^^^^^^^^^^^^^^^^^^^^^^^^^^^^^^^^^^^^\n",
            "W0424 10:03:34.482000 21172 site-packages\\torch\\_dynamo\\convert_frame.py:1280]   File \"c:\\Users\\paul-\\anaconda3\\envs\\py311\\Lib\\site-packages\\torch\\_dynamo\\bytecode_transformation.py\", line 1422, in transform_code_object\n",
            "W0424 10:03:34.482000 21172 site-packages\\torch\\_dynamo\\convert_frame.py:1280]     transformations(instructions, code_options)\n",
            "W0424 10:03:34.482000 21172 site-packages\\torch\\_dynamo\\convert_frame.py:1280]   File \"c:\\Users\\paul-\\anaconda3\\envs\\py311\\Lib\\site-packages\\torch\\_dynamo\\convert_frame.py\", line 257, in _fn\n",
            "W0424 10:03:34.482000 21172 site-packages\\torch\\_dynamo\\convert_frame.py:1280]     return fn(*args, **kwargs)\n",
            "W0424 10:03:34.482000 21172 site-packages\\torch\\_dynamo\\convert_frame.py:1280]            ^^^^^^^^^^^^^^^^^^^\n",
            "W0424 10:03:34.482000 21172 site-packages\\torch\\_dynamo\\convert_frame.py:1280]   File \"c:\\Users\\paul-\\anaconda3\\envs\\py311\\Lib\\site-packages\\torch\\_dynamo\\convert_frame.py\", line 715, in transform\n",
            "W0424 10:03:34.482000 21172 site-packages\\torch\\_dynamo\\convert_frame.py:1280]     tracer.run()\n",
            "W0424 10:03:34.482000 21172 site-packages\\torch\\_dynamo\\convert_frame.py:1280]   File \"c:\\Users\\paul-\\anaconda3\\envs\\py311\\Lib\\site-packages\\torch\\_dynamo\\symbolic_convert.py\", line 3500, in run\n",
            "W0424 10:03:34.482000 21172 site-packages\\torch\\_dynamo\\convert_frame.py:1280]     super().run()\n",
            "W0424 10:03:34.482000 21172 site-packages\\torch\\_dynamo\\convert_frame.py:1280]   File \"c:\\Users\\paul-\\anaconda3\\envs\\py311\\Lib\\site-packages\\torch\\_dynamo\\symbolic_convert.py\", line 1337, in run\n",
            "W0424 10:03:34.482000 21172 site-packages\\torch\\_dynamo\\convert_frame.py:1280]     while self.step():\n",
            "W0424 10:03:34.482000 21172 site-packages\\torch\\_dynamo\\convert_frame.py:1280]           ^^^^^^^^^^^\n",
            "W0424 10:03:34.482000 21172 site-packages\\torch\\_dynamo\\convert_frame.py:1280]   File \"c:\\Users\\paul-\\anaconda3\\envs\\py311\\Lib\\site-packages\\torch\\_dynamo\\symbolic_convert.py\", line 1246, in step\n",
            "W0424 10:03:34.482000 21172 site-packages\\torch\\_dynamo\\convert_frame.py:1280]     self.dispatch_table[inst.opcode](self, inst)\n",
            "W0424 10:03:34.482000 21172 site-packages\\torch\\_dynamo\\convert_frame.py:1280]   File \"c:\\Users\\paul-\\anaconda3\\envs\\py311\\Lib\\site-packages\\torch\\_dynamo\\symbolic_convert.py\", line 3701, in RETURN_VALUE\n",
            "W0424 10:03:34.482000 21172 site-packages\\torch\\_dynamo\\convert_frame.py:1280]     self._return(inst)\n",
            "W0424 10:03:34.482000 21172 site-packages\\torch\\_dynamo\\convert_frame.py:1280]   File \"c:\\Users\\paul-\\anaconda3\\envs\\py311\\Lib\\site-packages\\torch\\_dynamo\\symbolic_convert.py\", line 3686, in _return\n",
            "W0424 10:03:34.482000 21172 site-packages\\torch\\_dynamo\\convert_frame.py:1280]     self.output.compile_subgraph(\n",
            "W0424 10:03:34.482000 21172 site-packages\\torch\\_dynamo\\convert_frame.py:1280]   File \"c:\\Users\\paul-\\anaconda3\\envs\\py311\\Lib\\site-packages\\torch\\_dynamo\\output_graph.py\", line 1179, in compile_subgraph\n",
            "W0424 10:03:34.482000 21172 site-packages\\torch\\_dynamo\\convert_frame.py:1280]     self.compile_and_call_fx_graph(\n",
            "W0424 10:03:34.482000 21172 site-packages\\torch\\_dynamo\\convert_frame.py:1280]   File \"c:\\Users\\paul-\\anaconda3\\envs\\py311\\Lib\\site-packages\\torch\\_dynamo\\output_graph.py\", line 1437, in compile_and_call_fx_graph\n",
            "W0424 10:03:34.482000 21172 site-packages\\torch\\_dynamo\\convert_frame.py:1280]     compiled_fn = self.call_user_compiler(gm)\n",
            "W0424 10:03:34.482000 21172 site-packages\\torch\\_dynamo\\convert_frame.py:1280]                   ^^^^^^^^^^^^^^^^^^^^^^^^^^^\n",
            "W0424 10:03:34.482000 21172 site-packages\\torch\\_dynamo\\convert_frame.py:1280]   File \"c:\\Users\\paul-\\anaconda3\\envs\\py311\\Lib\\site-packages\\torch\\_dynamo\\output_graph.py\", line 1487, in call_user_compiler\n",
            "W0424 10:03:34.482000 21172 site-packages\\torch\\_dynamo\\convert_frame.py:1280]     return self._call_user_compiler(gm)\n",
            "W0424 10:03:34.482000 21172 site-packages\\torch\\_dynamo\\convert_frame.py:1280]            ^^^^^^^^^^^^^^^^^^^^^^^^^^^^\n",
            "W0424 10:03:34.482000 21172 site-packages\\torch\\_dynamo\\convert_frame.py:1280]   File \"c:\\Users\\paul-\\anaconda3\\envs\\py311\\Lib\\site-packages\\torch\\_dynamo\\output_graph.py\", line 1519, in _call_user_compiler\n",
            "W0424 10:03:34.482000 21172 site-packages\\torch\\_dynamo\\convert_frame.py:1280]     compiled_fn = compiler_fn(gm, self.example_inputs())\n",
            "W0424 10:03:34.482000 21172 site-packages\\torch\\_dynamo\\convert_frame.py:1280]                   ^^^^^^^^^^^^^^^^^^^^^^^^^^^^^^^^^^^^^^\n",
            "W0424 10:03:34.482000 21172 site-packages\\torch\\_dynamo\\convert_frame.py:1280]   File \"c:\\Users\\paul-\\anaconda3\\envs\\py311\\Lib\\site-packages\\torch\\_dynamo\\repro\\after_dynamo.py\", line 150, in __call__\n",
            "W0424 10:03:34.482000 21172 site-packages\\torch\\_dynamo\\convert_frame.py:1280]     compiled_gm = compiler_fn(gm, example_inputs)\n",
            "W0424 10:03:34.482000 21172 site-packages\\torch\\_dynamo\\convert_frame.py:1280]                   ^^^^^^^^^^^^^^^^^^^^^^^^^^^^^^^\n",
            "W0424 10:03:34.482000 21172 site-packages\\torch\\_dynamo\\convert_frame.py:1280]   File \"c:\\Users\\paul-\\anaconda3\\envs\\py311\\Lib\\site-packages\\torch\\__init__.py\", line 2347, in __call__\n",
            "W0424 10:03:34.482000 21172 site-packages\\torch\\_dynamo\\convert_frame.py:1280]     return compile_fx(model_, inputs_, config_patches=self.config)\n",
            "W0424 10:03:34.482000 21172 site-packages\\torch\\_dynamo\\convert_frame.py:1280]            ^^^^^^^^^^^^^^^^^^^^^^^^^^^^^^^^^^^^^^^^^^^^^^^^^^^^^^^\n",
            "W0424 10:03:34.482000 21172 site-packages\\torch\\_dynamo\\convert_frame.py:1280]   File \"c:\\Users\\paul-\\anaconda3\\envs\\py311\\Lib\\site-packages\\torch\\_inductor\\compile_fx.py\", line 2101, in compile_fx\n",
            "W0424 10:03:34.482000 21172 site-packages\\torch\\_dynamo\\convert_frame.py:1280]     raise e.remove_dynamo_frames() from None  # see TORCHDYNAMO_VERBOSE=1\n",
            "W0424 10:03:34.482000 21172 site-packages\\torch\\_dynamo\\convert_frame.py:1280]     ^^^^^^^^^^^^^^^^^^^^^^^^^^^^^^^^^^^^^^^^\n",
            "W0424 10:03:34.482000 21172 site-packages\\torch\\_dynamo\\convert_frame.py:1280]   File \"c:\\Users\\paul-\\anaconda3\\envs\\py311\\Lib\\site-packages\\torch\\_inductor\\compile_fx.py\", line 760, in _compile_fx_inner\n",
            "W0424 10:03:34.482000 21172 site-packages\\torch\\_dynamo\\convert_frame.py:1280]     raise InductorError(e, currentframe()).with_traceback(\n",
            "W0424 10:03:34.482000 21172 site-packages\\torch\\_dynamo\\convert_frame.py:1280]   File \"c:\\Users\\paul-\\anaconda3\\envs\\py311\\Lib\\site-packages\\torch\\_inductor\\compile_fx.py\", line 745, in _compile_fx_inner\n",
            "W0424 10:03:34.482000 21172 site-packages\\torch\\_dynamo\\convert_frame.py:1280]     mb_compiled_graph = fx_codegen_and_compile(\n",
            "W0424 10:03:34.482000 21172 site-packages\\torch\\_dynamo\\convert_frame.py:1280]                         ^^^^^^^^^^^^^^^^^^^^^^^\n",
            "W0424 10:03:34.482000 21172 site-packages\\torch\\_dynamo\\convert_frame.py:1280]   File \"c:\\Users\\paul-\\anaconda3\\envs\\py311\\Lib\\site-packages\\torch\\_inductor\\compile_fx.py\", line 1295, in fx_codegen_and_compile\n",
            "W0424 10:03:34.482000 21172 site-packages\\torch\\_dynamo\\convert_frame.py:1280]     return scheme.codegen_and_compile(gm, example_inputs, inputs_to_check, graph_kwargs)\n",
            "W0424 10:03:34.482000 21172 site-packages\\torch\\_dynamo\\convert_frame.py:1280]            ^^^^^^^^^^^^^^^^^^^^^^^^^^^^^^^^^^^^^^^^^^^^^^^^^^^^^^^^^^^^^^^^^^^^^^^^^^^^^\n",
            "W0424 10:03:34.482000 21172 site-packages\\torch\\_dynamo\\convert_frame.py:1280]   File \"c:\\Users\\paul-\\anaconda3\\envs\\py311\\Lib\\site-packages\\torch\\_inductor\\compile_fx.py\", line 1197, in codegen_and_compile\n",
            "W0424 10:03:34.482000 21172 site-packages\\torch\\_dynamo\\convert_frame.py:1280]     compiled_fn = graph.compile_to_module().call\n",
            "W0424 10:03:34.482000 21172 site-packages\\torch\\_dynamo\\convert_frame.py:1280]                   ^^^^^^^^^^^^^^^^^^^^^^^^^\n",
            "W0424 10:03:34.482000 21172 site-packages\\torch\\_dynamo\\convert_frame.py:1280]   File \"c:\\Users\\paul-\\anaconda3\\envs\\py311\\Lib\\site-packages\\torch\\_inductor\\graph.py\", line 2083, in compile_to_module\n",
            "W0424 10:03:34.482000 21172 site-packages\\torch\\_dynamo\\convert_frame.py:1280]     return self._compile_to_module()\n",
            "W0424 10:03:34.482000 21172 site-packages\\torch\\_dynamo\\convert_frame.py:1280]            ^^^^^^^^^^^^^^^^^^^^^^^^^\n",
            "W0424 10:03:34.482000 21172 site-packages\\torch\\_dynamo\\convert_frame.py:1280]   File \"c:\\Users\\paul-\\anaconda3\\envs\\py311\\Lib\\site-packages\\torch\\_inductor\\graph.py\", line 2091, in _compile_to_module\n",
            "W0424 10:03:34.482000 21172 site-packages\\torch\\_dynamo\\convert_frame.py:1280]     self.codegen_with_cpp_wrapper() if self.cpp_wrapper else self.codegen()\n",
            "W0424 10:03:34.482000 21172 site-packages\\torch\\_dynamo\\convert_frame.py:1280]                                                              ^^^^^^^^^^^^^^\n",
            "W0424 10:03:34.482000 21172 site-packages\\torch\\_dynamo\\convert_frame.py:1280]   File \"c:\\Users\\paul-\\anaconda3\\envs\\py311\\Lib\\site-packages\\torch\\_inductor\\graph.py\", line 2002, in codegen\n",
            "W0424 10:03:34.482000 21172 site-packages\\torch\\_dynamo\\convert_frame.py:1280]     self.scheduler.codegen()\n",
            "W0424 10:03:34.482000 21172 site-packages\\torch\\_dynamo\\convert_frame.py:1280]   File \"c:\\Users\\paul-\\anaconda3\\envs\\py311\\Lib\\site-packages\\torch\\_inductor\\scheduler.py\", line 4135, in codegen\n",
            "W0424 10:03:34.482000 21172 site-packages\\torch\\_dynamo\\convert_frame.py:1280]     else self._codegen(self.nodes)\n",
            "W0424 10:03:34.482000 21172 site-packages\\torch\\_dynamo\\convert_frame.py:1280]          ^^^^^^^^^^^^^^^^^^^^^^^^^\n",
            "W0424 10:03:34.482000 21172 site-packages\\torch\\_dynamo\\convert_frame.py:1280]   File \"c:\\Users\\paul-\\anaconda3\\envs\\py311\\Lib\\site-packages\\torch\\_inductor\\scheduler.py\", line 4264, in _codegen\n",
            "W0424 10:03:34.482000 21172 site-packages\\torch\\_dynamo\\convert_frame.py:1280]     self.get_backend(device).codegen_node(node)\n",
            "W0424 10:03:34.482000 21172 site-packages\\torch\\_dynamo\\convert_frame.py:1280]   File \"c:\\Users\\paul-\\anaconda3\\envs\\py311\\Lib\\site-packages\\torch\\_inductor\\codegen\\cpp.py\", line 4986, in codegen_node\n",
            "W0424 10:03:34.482000 21172 site-packages\\torch\\_dynamo\\convert_frame.py:1280]     cpp_kernel_proxy = CppKernelProxy(kernel_group)\n",
            "W0424 10:03:34.482000 21172 site-packages\\torch\\_dynamo\\convert_frame.py:1280]                        ^^^^^^^^^^^^^^^^^^^^^^^^^^^^\n",
            "W0424 10:03:34.482000 21172 site-packages\\torch\\_dynamo\\convert_frame.py:1280]   File \"c:\\Users\\paul-\\anaconda3\\envs\\py311\\Lib\\site-packages\\torch\\_inductor\\codegen\\cpp.py\", line 3734, in __init__\n",
            "W0424 10:03:34.482000 21172 site-packages\\torch\\_dynamo\\convert_frame.py:1280]     self.picked_vec_isa: cpu_vec_isa.VecISA = cpu_vec_isa.pick_vec_isa()\n",
            "W0424 10:03:34.482000 21172 site-packages\\torch\\_dynamo\\convert_frame.py:1280]                                               ^^^^^^^^^^^^^^^^^^^^^^^^^^\n",
            "W0424 10:03:34.482000 21172 site-packages\\torch\\_dynamo\\convert_frame.py:1280]   File \"c:\\Users\\paul-\\anaconda3\\envs\\py311\\Lib\\site-packages\\torch\\_inductor\\cpu_vec_isa.py\", line 418, in pick_vec_isa\n",
            "W0424 10:03:34.482000 21172 site-packages\\torch\\_dynamo\\convert_frame.py:1280]     _valid_vec_isa_list: list[VecISA] = valid_vec_isa_list()\n",
            "W0424 10:03:34.482000 21172 site-packages\\torch\\_dynamo\\convert_frame.py:1280]                                         ^^^^^^^^^^^^^^^^^^^^\n",
            "W0424 10:03:34.482000 21172 site-packages\\torch\\_dynamo\\convert_frame.py:1280]   File \"c:\\Users\\paul-\\anaconda3\\envs\\py311\\Lib\\site-packages\\torch\\_inductor\\cpu_vec_isa.py\", line 405, in valid_vec_isa_list\n",
            "W0424 10:03:34.482000 21172 site-packages\\torch\\_dynamo\\convert_frame.py:1280]     isa_list.extend(\n",
            "W0424 10:03:34.482000 21172 site-packages\\torch\\_dynamo\\convert_frame.py:1280]   File \"c:\\Users\\paul-\\anaconda3\\envs\\py311\\Lib\\site-packages\\torch\\_inductor\\cpu_vec_isa.py\", line 405, in <genexpr>\n",
            "W0424 10:03:34.482000 21172 site-packages\\torch\\_dynamo\\convert_frame.py:1280]     isa_list.extend(\n",
            "W0424 10:03:34.482000 21172 site-packages\\torch\\_dynamo\\convert_frame.py:1280]                    ^\n",
            "W0424 10:03:34.482000 21172 site-packages\\torch\\_dynamo\\convert_frame.py:1280]   File \"c:\\Users\\paul-\\anaconda3\\envs\\py311\\Lib\\site-packages\\torch\\_inductor\\cpu_vec_isa.py\", line 142, in __bool__\n",
            "W0424 10:03:34.482000 21172 site-packages\\torch\\_dynamo\\convert_frame.py:1280]     return self.__bool__impl(config.cpp.vec_isa_ok)\n",
            "W0424 10:03:34.482000 21172 site-packages\\torch\\_dynamo\\convert_frame.py:1280]            ^^^^^^^^^^^^^^^^^^^^^^^^^^^^^^^^^^^^^^^^\n",
            "W0424 10:03:34.482000 21172 site-packages\\torch\\_dynamo\\convert_frame.py:1280]   File \"c:\\Users\\paul-\\anaconda3\\envs\\py311\\Lib\\site-packages\\torch\\_inductor\\cpu_vec_isa.py\", line 152, in __bool__impl\n",
            "W0424 10:03:34.482000 21172 site-packages\\torch\\_dynamo\\convert_frame.py:1280]     return self.check_build(VecISA._avx_code)\n",
            "W0424 10:03:34.482000 21172 site-packages\\torch\\_dynamo\\convert_frame.py:1280]            ^^^^^^^^^^^^^^^^^^^^^^^^^^^^^^^^^^\n",
            "W0424 10:03:34.482000 21172 site-packages\\torch\\_dynamo\\convert_frame.py:1280]   File \"c:\\Users\\paul-\\anaconda3\\envs\\py311\\Lib\\site-packages\\torch\\_inductor\\cpu_vec_isa.py\", line 102, in check_build\n",
            "W0424 10:03:34.482000 21172 site-packages\\torch\\_dynamo\\convert_frame.py:1280]     extra=_get_isa_dry_compile_fingerprint(self._arch_flags),\n",
            "W0424 10:03:34.482000 21172 site-packages\\torch\\_dynamo\\convert_frame.py:1280]           ^^^^^^^^^^^^^^^^^^^^^^^^^^^^^^^^^^^^^^^^^^^^^^^^^^\n",
            "W0424 10:03:34.482000 21172 site-packages\\torch\\_dynamo\\convert_frame.py:1280]   File \"c:\\Users\\paul-\\anaconda3\\envs\\py311\\Lib\\site-packages\\torch\\_inductor\\cpu_vec_isa.py\", line 28, in _get_isa_dry_compile_fingerprint\n",
            "W0424 10:03:34.482000 21172 site-packages\\torch\\_dynamo\\convert_frame.py:1280]     compiler_info = get_compiler_version_info(get_cpp_compiler())\n",
            "W0424 10:03:34.482000 21172 site-packages\\torch\\_dynamo\\convert_frame.py:1280]                                               ^^^^^^^^^^^^^^^^^^\n",
            "W0424 10:03:34.482000 21172 site-packages\\torch\\_dynamo\\convert_frame.py:1280]   File \"c:\\Users\\paul-\\anaconda3\\envs\\py311\\Lib\\site-packages\\torch\\_inductor\\cpp_builder.py\", line 148, in get_cpp_compiler\n",
            "W0424 10:03:34.482000 21172 site-packages\\torch\\_dynamo\\convert_frame.py:1280]     check_compiler_exist_windows(compiler)\n",
            "W0424 10:03:34.482000 21172 site-packages\\torch\\_dynamo\\convert_frame.py:1280]   File \"c:\\Users\\paul-\\anaconda3\\envs\\py311\\Lib\\site-packages\\torch\\_inductor\\cpp_builder.py\", line 139, in check_compiler_exist_windows\n",
            "W0424 10:03:34.482000 21172 site-packages\\torch\\_dynamo\\convert_frame.py:1280]     raise RuntimeError(f\"Compiler: {compiler} is not found.\") from exc\n",
            "W0424 10:03:34.482000 21172 site-packages\\torch\\_dynamo\\convert_frame.py:1280] torch._inductor.exc.InductorError: RuntimeError: Compiler: cl is not found.\n",
            "W0424 10:03:34.482000 21172 site-packages\\torch\\_dynamo\\convert_frame.py:1280] \n",
            "W0424 10:03:34.482000 21172 site-packages\\torch\\_dynamo\\convert_frame.py:1280] Set TORCHDYNAMO_VERBOSE=1 for the internal stack trace (please do this especially if you're reporting a bug to PyTorch). For even more developer context, set TORCH_LOGS=\"+dynamo\"\n",
            "W0424 10:03:34.482000 21172 site-packages\\torch\\_dynamo\\convert_frame.py:1280] \n",
            "W0424 10:03:34.482000 21172 site-packages\\torch\\_dynamo\\convert_frame.py:1280] Traceback (most recent call last):\n",
            "W0424 10:03:34.482000 21172 site-packages\\torch\\_dynamo\\convert_frame.py:1280]   File \"c:\\Users\\paul-\\anaconda3\\envs\\py311\\Lib\\site-packages\\torch\\_dynamo\\convert_frame.py\", line 1213, in __call__\n",
            "W0424 10:03:34.482000 21172 site-packages\\torch\\_dynamo\\convert_frame.py:1280]     result = self._inner_convert(\n",
            "W0424 10:03:34.482000 21172 site-packages\\torch\\_dynamo\\convert_frame.py:1280]              ^^^^^^^^^^^^^^^^^^^^\n",
            "W0424 10:03:34.482000 21172 site-packages\\torch\\_dynamo\\convert_frame.py:1280]   File \"c:\\Users\\paul-\\anaconda3\\envs\\py311\\Lib\\site-packages\\torch\\_dynamo\\convert_frame.py\", line 598, in __call__\n",
            "W0424 10:03:34.482000 21172 site-packages\\torch\\_dynamo\\convert_frame.py:1280]     return _compile(\n",
            "W0424 10:03:34.482000 21172 site-packages\\torch\\_dynamo\\convert_frame.py:1280]            ^^^^^^^^^\n",
            "W0424 10:03:34.482000 21172 site-packages\\torch\\_dynamo\\convert_frame.py:1280]   File \"c:\\Users\\paul-\\anaconda3\\envs\\py311\\Lib\\site-packages\\torch\\_dynamo\\convert_frame.py\", line 1059, in _compile\n",
            "W0424 10:03:34.482000 21172 site-packages\\torch\\_dynamo\\convert_frame.py:1280]     guarded_code = compile_inner(code, one_graph, hooks, transform)\n",
            "W0424 10:03:34.482000 21172 site-packages\\torch\\_dynamo\\convert_frame.py:1280]                    ^^^^^^^^^^^^^^^^^^^^^^^^^^^^^^^^^^^^^^^^^^^^^^^^\n",
            "W0424 10:03:34.482000 21172 site-packages\\torch\\_dynamo\\convert_frame.py:1280]   File \"c:\\Users\\paul-\\anaconda3\\envs\\py311\\Lib\\site-packages\\torch\\_utils_internal.py\", line 97, in wrapper_function\n",
            "W0424 10:03:34.482000 21172 site-packages\\torch\\_dynamo\\convert_frame.py:1280]     return function(*args, **kwargs)\n",
            "W0424 10:03:34.482000 21172 site-packages\\torch\\_dynamo\\convert_frame.py:1280]            ^^^^^^^^^^^^^^^^^^^^^^^^^\n",
            "W0424 10:03:34.482000 21172 site-packages\\torch\\_dynamo\\convert_frame.py:1280]   File \"c:\\Users\\paul-\\anaconda3\\envs\\py311\\Lib\\site-packages\\torch\\_dynamo\\convert_frame.py\", line 761, in compile_inner\n",
            "W0424 10:03:34.482000 21172 site-packages\\torch\\_dynamo\\convert_frame.py:1280]     return _compile_inner(code, one_graph, hooks, transform)\n",
            "W0424 10:03:34.482000 21172 site-packages\\torch\\_dynamo\\convert_frame.py:1280]            ^^^^^^^^^^^^^^^^^^^^^^^^^^^^^^^^^^^^^^^^^^^^^^^^^\n",
            "W0424 10:03:34.482000 21172 site-packages\\torch\\_dynamo\\convert_frame.py:1280]   File \"c:\\Users\\paul-\\anaconda3\\envs\\py311\\Lib\\site-packages\\torch\\_dynamo\\convert_frame.py\", line 797, in _compile_inner\n",
            "W0424 10:03:34.482000 21172 site-packages\\torch\\_dynamo\\convert_frame.py:1280]     out_code = transform_code_object(code, transform)\n",
            "W0424 10:03:34.482000 21172 site-packages\\torch\\_dynamo\\convert_frame.py:1280]                ^^^^^^^^^^^^^^^^^^^^^^^^^^^^^^^^^^^^^^\n",
            "W0424 10:03:34.482000 21172 site-packages\\torch\\_dynamo\\convert_frame.py:1280]   File \"c:\\Users\\paul-\\anaconda3\\envs\\py311\\Lib\\site-packages\\torch\\_dynamo\\bytecode_transformation.py\", line 1422, in transform_code_object\n",
            "W0424 10:03:34.482000 21172 site-packages\\torch\\_dynamo\\convert_frame.py:1280]     transformations(instructions, code_options)\n",
            "W0424 10:03:34.482000 21172 site-packages\\torch\\_dynamo\\convert_frame.py:1280]   File \"c:\\Users\\paul-\\anaconda3\\envs\\py311\\Lib\\site-packages\\torch\\_dynamo\\convert_frame.py\", line 257, in _fn\n",
            "W0424 10:03:34.482000 21172 site-packages\\torch\\_dynamo\\convert_frame.py:1280]     return fn(*args, **kwargs)\n",
            "W0424 10:03:34.482000 21172 site-packages\\torch\\_dynamo\\convert_frame.py:1280]            ^^^^^^^^^^^^^^^^^^^\n",
            "W0424 10:03:34.482000 21172 site-packages\\torch\\_dynamo\\convert_frame.py:1280]   File \"c:\\Users\\paul-\\anaconda3\\envs\\py311\\Lib\\site-packages\\torch\\_dynamo\\convert_frame.py\", line 715, in transform\n",
            "W0424 10:03:34.482000 21172 site-packages\\torch\\_dynamo\\convert_frame.py:1280]     tracer.run()\n",
            "W0424 10:03:34.482000 21172 site-packages\\torch\\_dynamo\\convert_frame.py:1280]   File \"c:\\Users\\paul-\\anaconda3\\envs\\py311\\Lib\\site-packages\\torch\\_dynamo\\symbolic_convert.py\", line 3500, in run\n",
            "W0424 10:03:34.482000 21172 site-packages\\torch\\_dynamo\\convert_frame.py:1280]     super().run()\n",
            "W0424 10:03:34.482000 21172 site-packages\\torch\\_dynamo\\convert_frame.py:1280]   File \"c:\\Users\\paul-\\anaconda3\\envs\\py311\\Lib\\site-packages\\torch\\_dynamo\\symbolic_convert.py\", line 1337, in run\n",
            "W0424 10:03:34.482000 21172 site-packages\\torch\\_dynamo\\convert_frame.py:1280]     while self.step():\n",
            "W0424 10:03:34.482000 21172 site-packages\\torch\\_dynamo\\convert_frame.py:1280]           ^^^^^^^^^^^\n",
            "W0424 10:03:34.482000 21172 site-packages\\torch\\_dynamo\\convert_frame.py:1280]   File \"c:\\Users\\paul-\\anaconda3\\envs\\py311\\Lib\\site-packages\\torch\\_dynamo\\symbolic_convert.py\", line 1246, in step\n",
            "W0424 10:03:34.482000 21172 site-packages\\torch\\_dynamo\\convert_frame.py:1280]     self.dispatch_table[inst.opcode](self, inst)\n",
            "W0424 10:03:34.482000 21172 site-packages\\torch\\_dynamo\\convert_frame.py:1280]   File \"c:\\Users\\paul-\\anaconda3\\envs\\py311\\Lib\\site-packages\\torch\\_dynamo\\symbolic_convert.py\", line 3701, in RETURN_VALUE\n",
            "W0424 10:03:34.482000 21172 site-packages\\torch\\_dynamo\\convert_frame.py:1280]     self._return(inst)\n",
            "W0424 10:03:34.482000 21172 site-packages\\torch\\_dynamo\\convert_frame.py:1280]   File \"c:\\Users\\paul-\\anaconda3\\envs\\py311\\Lib\\site-packages\\torch\\_dynamo\\symbolic_convert.py\", line 3686, in _return\n",
            "W0424 10:03:34.482000 21172 site-packages\\torch\\_dynamo\\convert_frame.py:1280]     self.output.compile_subgraph(\n",
            "W0424 10:03:34.482000 21172 site-packages\\torch\\_dynamo\\convert_frame.py:1280]   File \"c:\\Users\\paul-\\anaconda3\\envs\\py311\\Lib\\site-packages\\torch\\_dynamo\\output_graph.py\", line 1179, in compile_subgraph\n",
            "W0424 10:03:34.482000 21172 site-packages\\torch\\_dynamo\\convert_frame.py:1280]     self.compile_and_call_fx_graph(\n",
            "W0424 10:03:34.482000 21172 site-packages\\torch\\_dynamo\\convert_frame.py:1280]   File \"c:\\Users\\paul-\\anaconda3\\envs\\py311\\Lib\\site-packages\\torch\\_dynamo\\output_graph.py\", line 1437, in compile_and_call_fx_graph\n",
            "W0424 10:03:34.482000 21172 site-packages\\torch\\_dynamo\\convert_frame.py:1280]     compiled_fn = self.call_user_compiler(gm)\n",
            "W0424 10:03:34.482000 21172 site-packages\\torch\\_dynamo\\convert_frame.py:1280]                   ^^^^^^^^^^^^^^^^^^^^^^^^^^^\n",
            "W0424 10:03:34.482000 21172 site-packages\\torch\\_dynamo\\convert_frame.py:1280]   File \"c:\\Users\\paul-\\anaconda3\\envs\\py311\\Lib\\site-packages\\torch\\_dynamo\\output_graph.py\", line 1487, in call_user_compiler\n",
            "W0424 10:03:34.482000 21172 site-packages\\torch\\_dynamo\\convert_frame.py:1280]     return self._call_user_compiler(gm)\n",
            "W0424 10:03:34.482000 21172 site-packages\\torch\\_dynamo\\convert_frame.py:1280]            ^^^^^^^^^^^^^^^^^^^^^^^^^^^^\n",
            "W0424 10:03:34.482000 21172 site-packages\\torch\\_dynamo\\convert_frame.py:1280]   File \"c:\\Users\\paul-\\anaconda3\\envs\\py311\\Lib\\site-packages\\torch\\_dynamo\\output_graph.py\", line 1519, in _call_user_compiler\n",
            "W0424 10:03:34.482000 21172 site-packages\\torch\\_dynamo\\convert_frame.py:1280]     compiled_fn = compiler_fn(gm, self.example_inputs())\n",
            "W0424 10:03:34.482000 21172 site-packages\\torch\\_dynamo\\convert_frame.py:1280]                   ^^^^^^^^^^^^^^^^^^^^^^^^^^^^^^^^^^^^^^\n",
            "W0424 10:03:34.482000 21172 site-packages\\torch\\_dynamo\\convert_frame.py:1280]   File \"c:\\Users\\paul-\\anaconda3\\envs\\py311\\Lib\\site-packages\\torch\\_dynamo\\repro\\after_dynamo.py\", line 150, in __call__\n",
            "W0424 10:03:34.482000 21172 site-packages\\torch\\_dynamo\\convert_frame.py:1280]     compiled_gm = compiler_fn(gm, example_inputs)\n",
            "W0424 10:03:34.482000 21172 site-packages\\torch\\_dynamo\\convert_frame.py:1280]                   ^^^^^^^^^^^^^^^^^^^^^^^^^^^^^^^\n",
            "W0424 10:03:34.482000 21172 site-packages\\torch\\_dynamo\\convert_frame.py:1280]   File \"c:\\Users\\paul-\\anaconda3\\envs\\py311\\Lib\\site-packages\\torch\\__init__.py\", line 2347, in __call__\n",
            "W0424 10:03:34.482000 21172 site-packages\\torch\\_dynamo\\convert_frame.py:1280]     return compile_fx(model_, inputs_, config_patches=self.config)\n",
            "W0424 10:03:34.482000 21172 site-packages\\torch\\_dynamo\\convert_frame.py:1280]            ^^^^^^^^^^^^^^^^^^^^^^^^^^^^^^^^^^^^^^^^^^^^^^^^^^^^^^^\n",
            "W0424 10:03:34.482000 21172 site-packages\\torch\\_dynamo\\convert_frame.py:1280]   File \"c:\\Users\\paul-\\anaconda3\\envs\\py311\\Lib\\site-packages\\torch\\_inductor\\compile_fx.py\", line 2101, in compile_fx\n",
            "W0424 10:03:34.482000 21172 site-packages\\torch\\_dynamo\\convert_frame.py:1280]     raise e.remove_dynamo_frames() from None  # see TORCHDYNAMO_VERBOSE=1\n",
            "W0424 10:03:34.482000 21172 site-packages\\torch\\_dynamo\\convert_frame.py:1280]     ^^^^^^^^^^^^^^^^^^^^^^^^^^^^^^^^^^^^^^^^\n",
            "W0424 10:03:34.482000 21172 site-packages\\torch\\_dynamo\\convert_frame.py:1280]   File \"c:\\Users\\paul-\\anaconda3\\envs\\py311\\Lib\\site-packages\\torch\\_inductor\\compile_fx.py\", line 760, in _compile_fx_inner\n",
            "W0424 10:03:34.482000 21172 site-packages\\torch\\_dynamo\\convert_frame.py:1280]     raise InductorError(e, currentframe()).with_traceback(\n",
            "W0424 10:03:34.482000 21172 site-packages\\torch\\_dynamo\\convert_frame.py:1280]   File \"c:\\Users\\paul-\\anaconda3\\envs\\py311\\Lib\\site-packages\\torch\\_inductor\\compile_fx.py\", line 745, in _compile_fx_inner\n",
            "W0424 10:03:34.482000 21172 site-packages\\torch\\_dynamo\\convert_frame.py:1280]     mb_compiled_graph = fx_codegen_and_compile(\n",
            "W0424 10:03:34.482000 21172 site-packages\\torch\\_dynamo\\convert_frame.py:1280]                         ^^^^^^^^^^^^^^^^^^^^^^^\n",
            "W0424 10:03:34.482000 21172 site-packages\\torch\\_dynamo\\convert_frame.py:1280]   File \"c:\\Users\\paul-\\anaconda3\\envs\\py311\\Lib\\site-packages\\torch\\_inductor\\compile_fx.py\", line 1295, in fx_codegen_and_compile\n",
            "W0424 10:03:34.482000 21172 site-packages\\torch\\_dynamo\\convert_frame.py:1280]     return scheme.codegen_and_compile(gm, example_inputs, inputs_to_check, graph_kwargs)\n",
            "W0424 10:03:34.482000 21172 site-packages\\torch\\_dynamo\\convert_frame.py:1280]            ^^^^^^^^^^^^^^^^^^^^^^^^^^^^^^^^^^^^^^^^^^^^^^^^^^^^^^^^^^^^^^^^^^^^^^^^^^^^^\n",
            "W0424 10:03:34.482000 21172 site-packages\\torch\\_dynamo\\convert_frame.py:1280]   File \"c:\\Users\\paul-\\anaconda3\\envs\\py311\\Lib\\site-packages\\torch\\_inductor\\compile_fx.py\", line 1197, in codegen_and_compile\n",
            "W0424 10:03:34.482000 21172 site-packages\\torch\\_dynamo\\convert_frame.py:1280]     compiled_fn = graph.compile_to_module().call\n",
            "W0424 10:03:34.482000 21172 site-packages\\torch\\_dynamo\\convert_frame.py:1280]                   ^^^^^^^^^^^^^^^^^^^^^^^^^\n",
            "W0424 10:03:34.482000 21172 site-packages\\torch\\_dynamo\\convert_frame.py:1280]   File \"c:\\Users\\paul-\\anaconda3\\envs\\py311\\Lib\\site-packages\\torch\\_inductor\\graph.py\", line 2083, in compile_to_module\n",
            "W0424 10:03:34.482000 21172 site-packages\\torch\\_dynamo\\convert_frame.py:1280]     return self._compile_to_module()\n",
            "W0424 10:03:34.482000 21172 site-packages\\torch\\_dynamo\\convert_frame.py:1280]            ^^^^^^^^^^^^^^^^^^^^^^^^^\n",
            "W0424 10:03:34.482000 21172 site-packages\\torch\\_dynamo\\convert_frame.py:1280]   File \"c:\\Users\\paul-\\anaconda3\\envs\\py311\\Lib\\site-packages\\torch\\_inductor\\graph.py\", line 2091, in _compile_to_module\n",
            "W0424 10:03:34.482000 21172 site-packages\\torch\\_dynamo\\convert_frame.py:1280]     self.codegen_with_cpp_wrapper() if self.cpp_wrapper else self.codegen()\n",
            "W0424 10:03:34.482000 21172 site-packages\\torch\\_dynamo\\convert_frame.py:1280]                                                              ^^^^^^^^^^^^^^\n",
            "W0424 10:03:34.482000 21172 site-packages\\torch\\_dynamo\\convert_frame.py:1280]   File \"c:\\Users\\paul-\\anaconda3\\envs\\py311\\Lib\\site-packages\\torch\\_inductor\\graph.py\", line 2002, in codegen\n",
            "W0424 10:03:34.482000 21172 site-packages\\torch\\_dynamo\\convert_frame.py:1280]     self.scheduler.codegen()\n",
            "W0424 10:03:34.482000 21172 site-packages\\torch\\_dynamo\\convert_frame.py:1280]   File \"c:\\Users\\paul-\\anaconda3\\envs\\py311\\Lib\\site-packages\\torch\\_inductor\\scheduler.py\", line 4135, in codegen\n",
            "W0424 10:03:34.482000 21172 site-packages\\torch\\_dynamo\\convert_frame.py:1280]     else self._codegen(self.nodes)\n",
            "W0424 10:03:34.482000 21172 site-packages\\torch\\_dynamo\\convert_frame.py:1280]          ^^^^^^^^^^^^^^^^^^^^^^^^^\n",
            "W0424 10:03:34.482000 21172 site-packages\\torch\\_dynamo\\convert_frame.py:1280]   File \"c:\\Users\\paul-\\anaconda3\\envs\\py311\\Lib\\site-packages\\torch\\_inductor\\scheduler.py\", line 4264, in _codegen\n",
            "W0424 10:03:34.482000 21172 site-packages\\torch\\_dynamo\\convert_frame.py:1280]     self.get_backend(device).codegen_node(node)\n",
            "W0424 10:03:34.482000 21172 site-packages\\torch\\_dynamo\\convert_frame.py:1280]   File \"c:\\Users\\paul-\\anaconda3\\envs\\py311\\Lib\\site-packages\\torch\\_inductor\\codegen\\cpp.py\", line 4986, in codegen_node\n",
            "W0424 10:03:34.482000 21172 site-packages\\torch\\_dynamo\\convert_frame.py:1280]     cpp_kernel_proxy = CppKernelProxy(kernel_group)\n",
            "W0424 10:03:34.482000 21172 site-packages\\torch\\_dynamo\\convert_frame.py:1280]                        ^^^^^^^^^^^^^^^^^^^^^^^^^^^^\n",
            "W0424 10:03:34.482000 21172 site-packages\\torch\\_dynamo\\convert_frame.py:1280]   File \"c:\\Users\\paul-\\anaconda3\\envs\\py311\\Lib\\site-packages\\torch\\_inductor\\codegen\\cpp.py\", line 3734, in __init__\n",
            "W0424 10:03:34.482000 21172 site-packages\\torch\\_dynamo\\convert_frame.py:1280]     self.picked_vec_isa: cpu_vec_isa.VecISA = cpu_vec_isa.pick_vec_isa()\n",
            "W0424 10:03:34.482000 21172 site-packages\\torch\\_dynamo\\convert_frame.py:1280]                                               ^^^^^^^^^^^^^^^^^^^^^^^^^^\n",
            "W0424 10:03:34.482000 21172 site-packages\\torch\\_dynamo\\convert_frame.py:1280]   File \"c:\\Users\\paul-\\anaconda3\\envs\\py311\\Lib\\site-packages\\torch\\_inductor\\cpu_vec_isa.py\", line 418, in pick_vec_isa\n",
            "W0424 10:03:34.482000 21172 site-packages\\torch\\_dynamo\\convert_frame.py:1280]     _valid_vec_isa_list: list[VecISA] = valid_vec_isa_list()\n",
            "W0424 10:03:34.482000 21172 site-packages\\torch\\_dynamo\\convert_frame.py:1280]                                         ^^^^^^^^^^^^^^^^^^^^\n",
            "W0424 10:03:34.482000 21172 site-packages\\torch\\_dynamo\\convert_frame.py:1280]   File \"c:\\Users\\paul-\\anaconda3\\envs\\py311\\Lib\\site-packages\\torch\\_inductor\\cpu_vec_isa.py\", line 405, in valid_vec_isa_list\n",
            "W0424 10:03:34.482000 21172 site-packages\\torch\\_dynamo\\convert_frame.py:1280]     isa_list.extend(\n",
            "W0424 10:03:34.482000 21172 site-packages\\torch\\_dynamo\\convert_frame.py:1280]   File \"c:\\Users\\paul-\\anaconda3\\envs\\py311\\Lib\\site-packages\\torch\\_inductor\\cpu_vec_isa.py\", line 405, in <genexpr>\n",
            "W0424 10:03:34.482000 21172 site-packages\\torch\\_dynamo\\convert_frame.py:1280]     isa_list.extend(\n",
            "W0424 10:03:34.482000 21172 site-packages\\torch\\_dynamo\\convert_frame.py:1280]                    ^\n",
            "W0424 10:03:34.482000 21172 site-packages\\torch\\_dynamo\\convert_frame.py:1280]   File \"c:\\Users\\paul-\\anaconda3\\envs\\py311\\Lib\\site-packages\\torch\\_inductor\\cpu_vec_isa.py\", line 142, in __bool__\n",
            "W0424 10:03:34.482000 21172 site-packages\\torch\\_dynamo\\convert_frame.py:1280]     return self.__bool__impl(config.cpp.vec_isa_ok)\n",
            "W0424 10:03:34.482000 21172 site-packages\\torch\\_dynamo\\convert_frame.py:1280]            ^^^^^^^^^^^^^^^^^^^^^^^^^^^^^^^^^^^^^^^^\n",
            "W0424 10:03:34.482000 21172 site-packages\\torch\\_dynamo\\convert_frame.py:1280]   File \"c:\\Users\\paul-\\anaconda3\\envs\\py311\\Lib\\site-packages\\torch\\_inductor\\cpu_vec_isa.py\", line 152, in __bool__impl\n",
            "W0424 10:03:34.482000 21172 site-packages\\torch\\_dynamo\\convert_frame.py:1280]     return self.check_build(VecISA._avx_code)\n",
            "W0424 10:03:34.482000 21172 site-packages\\torch\\_dynamo\\convert_frame.py:1280]            ^^^^^^^^^^^^^^^^^^^^^^^^^^^^^^^^^^\n",
            "W0424 10:03:34.482000 21172 site-packages\\torch\\_dynamo\\convert_frame.py:1280]   File \"c:\\Users\\paul-\\anaconda3\\envs\\py311\\Lib\\site-packages\\torch\\_inductor\\cpu_vec_isa.py\", line 102, in check_build\n",
            "W0424 10:03:34.482000 21172 site-packages\\torch\\_dynamo\\convert_frame.py:1280]     extra=_get_isa_dry_compile_fingerprint(self._arch_flags),\n",
            "W0424 10:03:34.482000 21172 site-packages\\torch\\_dynamo\\convert_frame.py:1280]           ^^^^^^^^^^^^^^^^^^^^^^^^^^^^^^^^^^^^^^^^^^^^^^^^^^\n",
            "W0424 10:03:34.482000 21172 site-packages\\torch\\_dynamo\\convert_frame.py:1280]   File \"c:\\Users\\paul-\\anaconda3\\envs\\py311\\Lib\\site-packages\\torch\\_inductor\\cpu_vec_isa.py\", line 28, in _get_isa_dry_compile_fingerprint\n",
            "W0424 10:03:34.482000 21172 site-packages\\torch\\_dynamo\\convert_frame.py:1280]     compiler_info = get_compiler_version_info(get_cpp_compiler())\n",
            "W0424 10:03:34.482000 21172 site-packages\\torch\\_dynamo\\convert_frame.py:1280]                                               ^^^^^^^^^^^^^^^^^^\n",
            "W0424 10:03:34.482000 21172 site-packages\\torch\\_dynamo\\convert_frame.py:1280]   File \"c:\\Users\\paul-\\anaconda3\\envs\\py311\\Lib\\site-packages\\torch\\_inductor\\cpp_builder.py\", line 148, in get_cpp_compiler\n",
            "W0424 10:03:34.482000 21172 site-packages\\torch\\_dynamo\\convert_frame.py:1280]     check_compiler_exist_windows(compiler)\n",
            "W0424 10:03:34.482000 21172 site-packages\\torch\\_dynamo\\convert_frame.py:1280]   File \"c:\\Users\\paul-\\anaconda3\\envs\\py311\\Lib\\site-packages\\torch\\_inductor\\cpp_builder.py\", line 139, in check_compiler_exist_windows\n",
            "W0424 10:03:34.482000 21172 site-packages\\torch\\_dynamo\\convert_frame.py:1280]     raise RuntimeError(f\"Compiler: {compiler} is not found.\") from exc\n",
            "W0424 10:03:34.482000 21172 site-packages\\torch\\_dynamo\\convert_frame.py:1280] torch._inductor.exc.InductorError: RuntimeError: Compiler: cl is not found.\n",
            "W0424 10:03:34.482000 21172 site-packages\\torch\\_dynamo\\convert_frame.py:1280] \n",
            "W0424 10:03:34.482000 21172 site-packages\\torch\\_dynamo\\convert_frame.py:1280] Set TORCHDYNAMO_VERBOSE=1 for the internal stack trace (please do this especially if you're reporting a bug to PyTorch). For even more developer context, set TORCH_LOGS=\"+dynamo\"\n",
            "W0424 10:03:34.482000 21172 site-packages\\torch\\_dynamo\\convert_frame.py:1280] \n",
            "W0424 10:03:35.393000 21172 site-packages\\torch\\_dynamo\\convert_frame.py:1280] WON'T CONVERT forward c:\\Users\\paul-\\anaconda3\\envs\\py311\\Lib\\site-packages\\transformers\\models\\bert\\modeling_bert.py line 573 \n",
            "W0424 10:03:35.393000 21172 site-packages\\torch\\_dynamo\\convert_frame.py:1280] due to: \n",
            "W0424 10:03:35.393000 21172 site-packages\\torch\\_dynamo\\convert_frame.py:1280] Traceback (most recent call last):\n",
            "W0424 10:03:35.393000 21172 site-packages\\torch\\_dynamo\\convert_frame.py:1280]   File \"c:\\Users\\paul-\\anaconda3\\envs\\py311\\Lib\\site-packages\\torch\\_dynamo\\convert_frame.py\", line 1213, in __call__\n",
            "W0424 10:03:35.393000 21172 site-packages\\torch\\_dynamo\\convert_frame.py:1280]     result = self._inner_convert(\n",
            "W0424 10:03:35.393000 21172 site-packages\\torch\\_dynamo\\convert_frame.py:1280]              ^^^^^^^^^^^^^^^^^^^^\n",
            "W0424 10:03:35.393000 21172 site-packages\\torch\\_dynamo\\convert_frame.py:1280]   File \"c:\\Users\\paul-\\anaconda3\\envs\\py311\\Lib\\site-packages\\torch\\_dynamo\\convert_frame.py\", line 598, in __call__\n",
            "W0424 10:03:35.393000 21172 site-packages\\torch\\_dynamo\\convert_frame.py:1280]     return _compile(\n",
            "W0424 10:03:35.393000 21172 site-packages\\torch\\_dynamo\\convert_frame.py:1280]            ^^^^^^^^^\n",
            "W0424 10:03:35.393000 21172 site-packages\\torch\\_dynamo\\convert_frame.py:1280]   File \"c:\\Users\\paul-\\anaconda3\\envs\\py311\\Lib\\site-packages\\torch\\_dynamo\\convert_frame.py\", line 1059, in _compile\n",
            "W0424 10:03:35.393000 21172 site-packages\\torch\\_dynamo\\convert_frame.py:1280]     guarded_code = compile_inner(code, one_graph, hooks, transform)\n",
            "W0424 10:03:35.393000 21172 site-packages\\torch\\_dynamo\\convert_frame.py:1280]                    ^^^^^^^^^^^^^^^^^^^^^^^^^^^^^^^^^^^^^^^^^^^^^^^^\n",
            "W0424 10:03:35.393000 21172 site-packages\\torch\\_dynamo\\convert_frame.py:1280]   File \"c:\\Users\\paul-\\anaconda3\\envs\\py311\\Lib\\site-packages\\torch\\_utils_internal.py\", line 97, in wrapper_function\n",
            "W0424 10:03:35.393000 21172 site-packages\\torch\\_dynamo\\convert_frame.py:1280]     return function(*args, **kwargs)\n",
            "W0424 10:03:35.393000 21172 site-packages\\torch\\_dynamo\\convert_frame.py:1280]            ^^^^^^^^^^^^^^^^^^^^^^^^^\n",
            "W0424 10:03:35.393000 21172 site-packages\\torch\\_dynamo\\convert_frame.py:1280]   File \"c:\\Users\\paul-\\anaconda3\\envs\\py311\\Lib\\site-packages\\torch\\_dynamo\\convert_frame.py\", line 761, in compile_inner\n",
            "W0424 10:03:35.393000 21172 site-packages\\torch\\_dynamo\\convert_frame.py:1280]     return _compile_inner(code, one_graph, hooks, transform)\n",
            "W0424 10:03:35.393000 21172 site-packages\\torch\\_dynamo\\convert_frame.py:1280]            ^^^^^^^^^^^^^^^^^^^^^^^^^^^^^^^^^^^^^^^^^^^^^^^^^\n",
            "W0424 10:03:35.393000 21172 site-packages\\torch\\_dynamo\\convert_frame.py:1280]   File \"c:\\Users\\paul-\\anaconda3\\envs\\py311\\Lib\\site-packages\\torch\\_dynamo\\convert_frame.py\", line 797, in _compile_inner\n",
            "W0424 10:03:35.393000 21172 site-packages\\torch\\_dynamo\\convert_frame.py:1280]     out_code = transform_code_object(code, transform)\n",
            "W0424 10:03:35.393000 21172 site-packages\\torch\\_dynamo\\convert_frame.py:1280]                ^^^^^^^^^^^^^^^^^^^^^^^^^^^^^^^^^^^^^^\n",
            "W0424 10:03:35.393000 21172 site-packages\\torch\\_dynamo\\convert_frame.py:1280]   File \"c:\\Users\\paul-\\anaconda3\\envs\\py311\\Lib\\site-packages\\torch\\_dynamo\\bytecode_transformation.py\", line 1422, in transform_code_object\n",
            "W0424 10:03:35.393000 21172 site-packages\\torch\\_dynamo\\convert_frame.py:1280]     transformations(instructions, code_options)\n",
            "W0424 10:03:35.393000 21172 site-packages\\torch\\_dynamo\\convert_frame.py:1280]   File \"c:\\Users\\paul-\\anaconda3\\envs\\py311\\Lib\\site-packages\\torch\\_dynamo\\convert_frame.py\", line 257, in _fn\n",
            "W0424 10:03:35.393000 21172 site-packages\\torch\\_dynamo\\convert_frame.py:1280]     return fn(*args, **kwargs)\n",
            "W0424 10:03:35.393000 21172 site-packages\\torch\\_dynamo\\convert_frame.py:1280]            ^^^^^^^^^^^^^^^^^^^\n",
            "W0424 10:03:35.393000 21172 site-packages\\torch\\_dynamo\\convert_frame.py:1280]   File \"c:\\Users\\paul-\\anaconda3\\envs\\py311\\Lib\\site-packages\\torch\\_dynamo\\convert_frame.py\", line 715, in transform\n",
            "W0424 10:03:35.393000 21172 site-packages\\torch\\_dynamo\\convert_frame.py:1280]     tracer.run()\n",
            "W0424 10:03:35.393000 21172 site-packages\\torch\\_dynamo\\convert_frame.py:1280]   File \"c:\\Users\\paul-\\anaconda3\\envs\\py311\\Lib\\site-packages\\torch\\_dynamo\\symbolic_convert.py\", line 3500, in run\n",
            "W0424 10:03:35.393000 21172 site-packages\\torch\\_dynamo\\convert_frame.py:1280]     super().run()\n",
            "W0424 10:03:35.393000 21172 site-packages\\torch\\_dynamo\\convert_frame.py:1280]   File \"c:\\Users\\paul-\\anaconda3\\envs\\py311\\Lib\\site-packages\\torch\\_dynamo\\symbolic_convert.py\", line 1337, in run\n",
            "W0424 10:03:35.393000 21172 site-packages\\torch\\_dynamo\\convert_frame.py:1280]     while self.step():\n",
            "W0424 10:03:35.393000 21172 site-packages\\torch\\_dynamo\\convert_frame.py:1280]           ^^^^^^^^^^^\n",
            "W0424 10:03:35.393000 21172 site-packages\\torch\\_dynamo\\convert_frame.py:1280]   File \"c:\\Users\\paul-\\anaconda3\\envs\\py311\\Lib\\site-packages\\torch\\_dynamo\\symbolic_convert.py\", line 1246, in step\n",
            "W0424 10:03:35.393000 21172 site-packages\\torch\\_dynamo\\convert_frame.py:1280]     self.dispatch_table[inst.opcode](self, inst)\n",
            "W0424 10:03:35.393000 21172 site-packages\\torch\\_dynamo\\convert_frame.py:1280]   File \"c:\\Users\\paul-\\anaconda3\\envs\\py311\\Lib\\site-packages\\torch\\_dynamo\\symbolic_convert.py\", line 3701, in RETURN_VALUE\n",
            "W0424 10:03:35.393000 21172 site-packages\\torch\\_dynamo\\convert_frame.py:1280]     self._return(inst)\n",
            "W0424 10:03:35.393000 21172 site-packages\\torch\\_dynamo\\convert_frame.py:1280]   File \"c:\\Users\\paul-\\anaconda3\\envs\\py311\\Lib\\site-packages\\torch\\_dynamo\\symbolic_convert.py\", line 3686, in _return\n",
            "W0424 10:03:35.393000 21172 site-packages\\torch\\_dynamo\\convert_frame.py:1280]     self.output.compile_subgraph(\n",
            "W0424 10:03:35.393000 21172 site-packages\\torch\\_dynamo\\convert_frame.py:1280]   File \"c:\\Users\\paul-\\anaconda3\\envs\\py311\\Lib\\site-packages\\torch\\_dynamo\\output_graph.py\", line 1179, in compile_subgraph\n",
            "W0424 10:03:35.393000 21172 site-packages\\torch\\_dynamo\\convert_frame.py:1280]     self.compile_and_call_fx_graph(\n",
            "W0424 10:03:35.393000 21172 site-packages\\torch\\_dynamo\\convert_frame.py:1280]   File \"c:\\Users\\paul-\\anaconda3\\envs\\py311\\Lib\\site-packages\\torch\\_dynamo\\output_graph.py\", line 1437, in compile_and_call_fx_graph\n",
            "W0424 10:03:35.393000 21172 site-packages\\torch\\_dynamo\\convert_frame.py:1280]     compiled_fn = self.call_user_compiler(gm)\n",
            "W0424 10:03:35.393000 21172 site-packages\\torch\\_dynamo\\convert_frame.py:1280]                   ^^^^^^^^^^^^^^^^^^^^^^^^^^^\n",
            "W0424 10:03:35.393000 21172 site-packages\\torch\\_dynamo\\convert_frame.py:1280]   File \"c:\\Users\\paul-\\anaconda3\\envs\\py311\\Lib\\site-packages\\torch\\_dynamo\\output_graph.py\", line 1487, in call_user_compiler\n",
            "W0424 10:03:35.393000 21172 site-packages\\torch\\_dynamo\\convert_frame.py:1280]     return self._call_user_compiler(gm)\n",
            "W0424 10:03:35.393000 21172 site-packages\\torch\\_dynamo\\convert_frame.py:1280]            ^^^^^^^^^^^^^^^^^^^^^^^^^^^^\n",
            "W0424 10:03:35.393000 21172 site-packages\\torch\\_dynamo\\convert_frame.py:1280]   File \"c:\\Users\\paul-\\anaconda3\\envs\\py311\\Lib\\site-packages\\torch\\_dynamo\\output_graph.py\", line 1519, in _call_user_compiler\n",
            "W0424 10:03:35.393000 21172 site-packages\\torch\\_dynamo\\convert_frame.py:1280]     compiled_fn = compiler_fn(gm, self.example_inputs())\n",
            "W0424 10:03:35.393000 21172 site-packages\\torch\\_dynamo\\convert_frame.py:1280]                   ^^^^^^^^^^^^^^^^^^^^^^^^^^^^^^^^^^^^^^\n",
            "W0424 10:03:35.393000 21172 site-packages\\torch\\_dynamo\\convert_frame.py:1280]   File \"c:\\Users\\paul-\\anaconda3\\envs\\py311\\Lib\\site-packages\\torch\\_dynamo\\repro\\after_dynamo.py\", line 150, in __call__\n",
            "W0424 10:03:35.393000 21172 site-packages\\torch\\_dynamo\\convert_frame.py:1280]     compiled_gm = compiler_fn(gm, example_inputs)\n",
            "W0424 10:03:35.393000 21172 site-packages\\torch\\_dynamo\\convert_frame.py:1280]                   ^^^^^^^^^^^^^^^^^^^^^^^^^^^^^^^\n",
            "W0424 10:03:35.393000 21172 site-packages\\torch\\_dynamo\\convert_frame.py:1280]   File \"c:\\Users\\paul-\\anaconda3\\envs\\py311\\Lib\\site-packages\\torch\\__init__.py\", line 2347, in __call__\n",
            "W0424 10:03:35.393000 21172 site-packages\\torch\\_dynamo\\convert_frame.py:1280]     return compile_fx(model_, inputs_, config_patches=self.config)\n",
            "W0424 10:03:35.393000 21172 site-packages\\torch\\_dynamo\\convert_frame.py:1280]            ^^^^^^^^^^^^^^^^^^^^^^^^^^^^^^^^^^^^^^^^^^^^^^^^^^^^^^^\n",
            "W0424 10:03:35.393000 21172 site-packages\\torch\\_dynamo\\convert_frame.py:1280]   File \"c:\\Users\\paul-\\anaconda3\\envs\\py311\\Lib\\site-packages\\torch\\_inductor\\compile_fx.py\", line 2101, in compile_fx\n",
            "W0424 10:03:35.393000 21172 site-packages\\torch\\_dynamo\\convert_frame.py:1280]     raise e.remove_dynamo_frames() from None  # see TORCHDYNAMO_VERBOSE=1\n",
            "W0424 10:03:35.393000 21172 site-packages\\torch\\_dynamo\\convert_frame.py:1280]     ^^^^^^^^^^^^^^^^^^^^^^^^^^^^^^^^^^^^^^^^\n",
            "W0424 10:03:35.393000 21172 site-packages\\torch\\_dynamo\\convert_frame.py:1280]   File \"c:\\Users\\paul-\\anaconda3\\envs\\py311\\Lib\\site-packages\\torch\\_inductor\\compile_fx.py\", line 760, in _compile_fx_inner\n",
            "W0424 10:03:35.393000 21172 site-packages\\torch\\_dynamo\\convert_frame.py:1280]     raise InductorError(e, currentframe()).with_traceback(\n",
            "W0424 10:03:35.393000 21172 site-packages\\torch\\_dynamo\\convert_frame.py:1280]   File \"c:\\Users\\paul-\\anaconda3\\envs\\py311\\Lib\\site-packages\\torch\\_inductor\\compile_fx.py\", line 745, in _compile_fx_inner\n",
            "W0424 10:03:35.393000 21172 site-packages\\torch\\_dynamo\\convert_frame.py:1280]     mb_compiled_graph = fx_codegen_and_compile(\n",
            "W0424 10:03:35.393000 21172 site-packages\\torch\\_dynamo\\convert_frame.py:1280]                         ^^^^^^^^^^^^^^^^^^^^^^^\n",
            "W0424 10:03:35.393000 21172 site-packages\\torch\\_dynamo\\convert_frame.py:1280]   File \"c:\\Users\\paul-\\anaconda3\\envs\\py311\\Lib\\site-packages\\torch\\_inductor\\compile_fx.py\", line 1295, in fx_codegen_and_compile\n",
            "W0424 10:03:35.393000 21172 site-packages\\torch\\_dynamo\\convert_frame.py:1280]     return scheme.codegen_and_compile(gm, example_inputs, inputs_to_check, graph_kwargs)\n",
            "W0424 10:03:35.393000 21172 site-packages\\torch\\_dynamo\\convert_frame.py:1280]            ^^^^^^^^^^^^^^^^^^^^^^^^^^^^^^^^^^^^^^^^^^^^^^^^^^^^^^^^^^^^^^^^^^^^^^^^^^^^^\n",
            "W0424 10:03:35.393000 21172 site-packages\\torch\\_dynamo\\convert_frame.py:1280]   File \"c:\\Users\\paul-\\anaconda3\\envs\\py311\\Lib\\site-packages\\torch\\_inductor\\compile_fx.py\", line 1197, in codegen_and_compile\n",
            "W0424 10:03:35.393000 21172 site-packages\\torch\\_dynamo\\convert_frame.py:1280]     compiled_fn = graph.compile_to_module().call\n",
            "W0424 10:03:35.393000 21172 site-packages\\torch\\_dynamo\\convert_frame.py:1280]                   ^^^^^^^^^^^^^^^^^^^^^^^^^\n",
            "W0424 10:03:35.393000 21172 site-packages\\torch\\_dynamo\\convert_frame.py:1280]   File \"c:\\Users\\paul-\\anaconda3\\envs\\py311\\Lib\\site-packages\\torch\\_inductor\\graph.py\", line 2083, in compile_to_module\n",
            "W0424 10:03:35.393000 21172 site-packages\\torch\\_dynamo\\convert_frame.py:1280]     return self._compile_to_module()\n",
            "W0424 10:03:35.393000 21172 site-packages\\torch\\_dynamo\\convert_frame.py:1280]            ^^^^^^^^^^^^^^^^^^^^^^^^^\n",
            "W0424 10:03:35.393000 21172 site-packages\\torch\\_dynamo\\convert_frame.py:1280]   File \"c:\\Users\\paul-\\anaconda3\\envs\\py311\\Lib\\site-packages\\torch\\_inductor\\graph.py\", line 2091, in _compile_to_module\n",
            "W0424 10:03:35.393000 21172 site-packages\\torch\\_dynamo\\convert_frame.py:1280]     self.codegen_with_cpp_wrapper() if self.cpp_wrapper else self.codegen()\n",
            "W0424 10:03:35.393000 21172 site-packages\\torch\\_dynamo\\convert_frame.py:1280]                                                              ^^^^^^^^^^^^^^\n",
            "W0424 10:03:35.393000 21172 site-packages\\torch\\_dynamo\\convert_frame.py:1280]   File \"c:\\Users\\paul-\\anaconda3\\envs\\py311\\Lib\\site-packages\\torch\\_inductor\\graph.py\", line 2002, in codegen\n",
            "W0424 10:03:35.393000 21172 site-packages\\torch\\_dynamo\\convert_frame.py:1280]     self.scheduler.codegen()\n",
            "W0424 10:03:35.393000 21172 site-packages\\torch\\_dynamo\\convert_frame.py:1280]   File \"c:\\Users\\paul-\\anaconda3\\envs\\py311\\Lib\\site-packages\\torch\\_inductor\\scheduler.py\", line 4135, in codegen\n",
            "W0424 10:03:35.393000 21172 site-packages\\torch\\_dynamo\\convert_frame.py:1280]     else self._codegen(self.nodes)\n",
            "W0424 10:03:35.393000 21172 site-packages\\torch\\_dynamo\\convert_frame.py:1280]          ^^^^^^^^^^^^^^^^^^^^^^^^^\n",
            "W0424 10:03:35.393000 21172 site-packages\\torch\\_dynamo\\convert_frame.py:1280]   File \"c:\\Users\\paul-\\anaconda3\\envs\\py311\\Lib\\site-packages\\torch\\_inductor\\scheduler.py\", line 4264, in _codegen\n",
            "W0424 10:03:35.393000 21172 site-packages\\torch\\_dynamo\\convert_frame.py:1280]     self.get_backend(device).codegen_node(node)\n",
            "W0424 10:03:35.393000 21172 site-packages\\torch\\_dynamo\\convert_frame.py:1280]   File \"c:\\Users\\paul-\\anaconda3\\envs\\py311\\Lib\\site-packages\\torch\\_inductor\\codegen\\cpp.py\", line 4986, in codegen_node\n",
            "W0424 10:03:35.393000 21172 site-packages\\torch\\_dynamo\\convert_frame.py:1280]     cpp_kernel_proxy = CppKernelProxy(kernel_group)\n",
            "W0424 10:03:35.393000 21172 site-packages\\torch\\_dynamo\\convert_frame.py:1280]                        ^^^^^^^^^^^^^^^^^^^^^^^^^^^^\n",
            "W0424 10:03:35.393000 21172 site-packages\\torch\\_dynamo\\convert_frame.py:1280]   File \"c:\\Users\\paul-\\anaconda3\\envs\\py311\\Lib\\site-packages\\torch\\_inductor\\codegen\\cpp.py\", line 3734, in __init__\n",
            "W0424 10:03:35.393000 21172 site-packages\\torch\\_dynamo\\convert_frame.py:1280]     self.picked_vec_isa: cpu_vec_isa.VecISA = cpu_vec_isa.pick_vec_isa()\n",
            "W0424 10:03:35.393000 21172 site-packages\\torch\\_dynamo\\convert_frame.py:1280]                                               ^^^^^^^^^^^^^^^^^^^^^^^^^^\n",
            "W0424 10:03:35.393000 21172 site-packages\\torch\\_dynamo\\convert_frame.py:1280]   File \"c:\\Users\\paul-\\anaconda3\\envs\\py311\\Lib\\site-packages\\torch\\_inductor\\cpu_vec_isa.py\", line 418, in pick_vec_isa\n",
            "W0424 10:03:35.393000 21172 site-packages\\torch\\_dynamo\\convert_frame.py:1280]     _valid_vec_isa_list: list[VecISA] = valid_vec_isa_list()\n",
            "W0424 10:03:35.393000 21172 site-packages\\torch\\_dynamo\\convert_frame.py:1280]                                         ^^^^^^^^^^^^^^^^^^^^\n",
            "W0424 10:03:35.393000 21172 site-packages\\torch\\_dynamo\\convert_frame.py:1280]   File \"c:\\Users\\paul-\\anaconda3\\envs\\py311\\Lib\\site-packages\\torch\\_inductor\\cpu_vec_isa.py\", line 405, in valid_vec_isa_list\n",
            "W0424 10:03:35.393000 21172 site-packages\\torch\\_dynamo\\convert_frame.py:1280]     isa_list.extend(\n",
            "W0424 10:03:35.393000 21172 site-packages\\torch\\_dynamo\\convert_frame.py:1280]   File \"c:\\Users\\paul-\\anaconda3\\envs\\py311\\Lib\\site-packages\\torch\\_inductor\\cpu_vec_isa.py\", line 405, in <genexpr>\n",
            "W0424 10:03:35.393000 21172 site-packages\\torch\\_dynamo\\convert_frame.py:1280]     isa_list.extend(\n",
            "W0424 10:03:35.393000 21172 site-packages\\torch\\_dynamo\\convert_frame.py:1280]                    ^\n",
            "W0424 10:03:35.393000 21172 site-packages\\torch\\_dynamo\\convert_frame.py:1280]   File \"c:\\Users\\paul-\\anaconda3\\envs\\py311\\Lib\\site-packages\\torch\\_inductor\\cpu_vec_isa.py\", line 142, in __bool__\n",
            "W0424 10:03:35.393000 21172 site-packages\\torch\\_dynamo\\convert_frame.py:1280]     return self.__bool__impl(config.cpp.vec_isa_ok)\n",
            "W0424 10:03:35.393000 21172 site-packages\\torch\\_dynamo\\convert_frame.py:1280]            ^^^^^^^^^^^^^^^^^^^^^^^^^^^^^^^^^^^^^^^^\n",
            "W0424 10:03:35.393000 21172 site-packages\\torch\\_dynamo\\convert_frame.py:1280]   File \"c:\\Users\\paul-\\anaconda3\\envs\\py311\\Lib\\site-packages\\torch\\_inductor\\cpu_vec_isa.py\", line 152, in __bool__impl\n",
            "W0424 10:03:35.393000 21172 site-packages\\torch\\_dynamo\\convert_frame.py:1280]     return self.check_build(VecISA._avx_code)\n",
            "W0424 10:03:35.393000 21172 site-packages\\torch\\_dynamo\\convert_frame.py:1280]            ^^^^^^^^^^^^^^^^^^^^^^^^^^^^^^^^^^\n",
            "W0424 10:03:35.393000 21172 site-packages\\torch\\_dynamo\\convert_frame.py:1280]   File \"c:\\Users\\paul-\\anaconda3\\envs\\py311\\Lib\\site-packages\\torch\\_inductor\\cpu_vec_isa.py\", line 102, in check_build\n",
            "W0424 10:03:35.393000 21172 site-packages\\torch\\_dynamo\\convert_frame.py:1280]     extra=_get_isa_dry_compile_fingerprint(self._arch_flags),\n",
            "W0424 10:03:35.393000 21172 site-packages\\torch\\_dynamo\\convert_frame.py:1280]           ^^^^^^^^^^^^^^^^^^^^^^^^^^^^^^^^^^^^^^^^^^^^^^^^^^\n",
            "W0424 10:03:35.393000 21172 site-packages\\torch\\_dynamo\\convert_frame.py:1280]   File \"c:\\Users\\paul-\\anaconda3\\envs\\py311\\Lib\\site-packages\\torch\\_inductor\\cpu_vec_isa.py\", line 28, in _get_isa_dry_compile_fingerprint\n",
            "W0424 10:03:35.393000 21172 site-packages\\torch\\_dynamo\\convert_frame.py:1280]     compiler_info = get_compiler_version_info(get_cpp_compiler())\n",
            "W0424 10:03:35.393000 21172 site-packages\\torch\\_dynamo\\convert_frame.py:1280]                                               ^^^^^^^^^^^^^^^^^^\n",
            "W0424 10:03:35.393000 21172 site-packages\\torch\\_dynamo\\convert_frame.py:1280]   File \"c:\\Users\\paul-\\anaconda3\\envs\\py311\\Lib\\site-packages\\torch\\_inductor\\cpp_builder.py\", line 148, in get_cpp_compiler\n",
            "W0424 10:03:35.393000 21172 site-packages\\torch\\_dynamo\\convert_frame.py:1280]     check_compiler_exist_windows(compiler)\n",
            "W0424 10:03:35.393000 21172 site-packages\\torch\\_dynamo\\convert_frame.py:1280]   File \"c:\\Users\\paul-\\anaconda3\\envs\\py311\\Lib\\site-packages\\torch\\_inductor\\cpp_builder.py\", line 139, in check_compiler_exist_windows\n",
            "W0424 10:03:35.393000 21172 site-packages\\torch\\_dynamo\\convert_frame.py:1280]     raise RuntimeError(f\"Compiler: {compiler} is not found.\") from exc\n",
            "W0424 10:03:35.393000 21172 site-packages\\torch\\_dynamo\\convert_frame.py:1280] torch._inductor.exc.InductorError: RuntimeError: Compiler: cl is not found.\n",
            "W0424 10:03:35.393000 21172 site-packages\\torch\\_dynamo\\convert_frame.py:1280] \n",
            "W0424 10:03:35.393000 21172 site-packages\\torch\\_dynamo\\convert_frame.py:1280] Set TORCHDYNAMO_VERBOSE=1 for the internal stack trace (please do this especially if you're reporting a bug to PyTorch). For even more developer context, set TORCH_LOGS=\"+dynamo\"\n",
            "W0424 10:03:35.393000 21172 site-packages\\torch\\_dynamo\\convert_frame.py:1280] \n",
            "W0424 10:03:35.393000 21172 site-packages\\torch\\_dynamo\\convert_frame.py:1280] Traceback (most recent call last):\n",
            "W0424 10:03:35.393000 21172 site-packages\\torch\\_dynamo\\convert_frame.py:1280]   File \"c:\\Users\\paul-\\anaconda3\\envs\\py311\\Lib\\site-packages\\torch\\_dynamo\\convert_frame.py\", line 1213, in __call__\n",
            "W0424 10:03:35.393000 21172 site-packages\\torch\\_dynamo\\convert_frame.py:1280]     result = self._inner_convert(\n",
            "W0424 10:03:35.393000 21172 site-packages\\torch\\_dynamo\\convert_frame.py:1280]              ^^^^^^^^^^^^^^^^^^^^\n",
            "W0424 10:03:35.393000 21172 site-packages\\torch\\_dynamo\\convert_frame.py:1280]   File \"c:\\Users\\paul-\\anaconda3\\envs\\py311\\Lib\\site-packages\\torch\\_dynamo\\convert_frame.py\", line 598, in __call__\n",
            "W0424 10:03:35.393000 21172 site-packages\\torch\\_dynamo\\convert_frame.py:1280]     return _compile(\n",
            "W0424 10:03:35.393000 21172 site-packages\\torch\\_dynamo\\convert_frame.py:1280]            ^^^^^^^^^\n",
            "W0424 10:03:35.393000 21172 site-packages\\torch\\_dynamo\\convert_frame.py:1280]   File \"c:\\Users\\paul-\\anaconda3\\envs\\py311\\Lib\\site-packages\\torch\\_dynamo\\convert_frame.py\", line 1059, in _compile\n",
            "W0424 10:03:35.393000 21172 site-packages\\torch\\_dynamo\\convert_frame.py:1280]     guarded_code = compile_inner(code, one_graph, hooks, transform)\n",
            "W0424 10:03:35.393000 21172 site-packages\\torch\\_dynamo\\convert_frame.py:1280]                    ^^^^^^^^^^^^^^^^^^^^^^^^^^^^^^^^^^^^^^^^^^^^^^^^\n",
            "W0424 10:03:35.393000 21172 site-packages\\torch\\_dynamo\\convert_frame.py:1280]   File \"c:\\Users\\paul-\\anaconda3\\envs\\py311\\Lib\\site-packages\\torch\\_utils_internal.py\", line 97, in wrapper_function\n",
            "W0424 10:03:35.393000 21172 site-packages\\torch\\_dynamo\\convert_frame.py:1280]     return function(*args, **kwargs)\n",
            "W0424 10:03:35.393000 21172 site-packages\\torch\\_dynamo\\convert_frame.py:1280]            ^^^^^^^^^^^^^^^^^^^^^^^^^\n",
            "W0424 10:03:35.393000 21172 site-packages\\torch\\_dynamo\\convert_frame.py:1280]   File \"c:\\Users\\paul-\\anaconda3\\envs\\py311\\Lib\\site-packages\\torch\\_dynamo\\convert_frame.py\", line 761, in compile_inner\n",
            "W0424 10:03:35.393000 21172 site-packages\\torch\\_dynamo\\convert_frame.py:1280]     return _compile_inner(code, one_graph, hooks, transform)\n",
            "W0424 10:03:35.393000 21172 site-packages\\torch\\_dynamo\\convert_frame.py:1280]            ^^^^^^^^^^^^^^^^^^^^^^^^^^^^^^^^^^^^^^^^^^^^^^^^^\n",
            "W0424 10:03:35.393000 21172 site-packages\\torch\\_dynamo\\convert_frame.py:1280]   File \"c:\\Users\\paul-\\anaconda3\\envs\\py311\\Lib\\site-packages\\torch\\_dynamo\\convert_frame.py\", line 797, in _compile_inner\n",
            "W0424 10:03:35.393000 21172 site-packages\\torch\\_dynamo\\convert_frame.py:1280]     out_code = transform_code_object(code, transform)\n",
            "W0424 10:03:35.393000 21172 site-packages\\torch\\_dynamo\\convert_frame.py:1280]                ^^^^^^^^^^^^^^^^^^^^^^^^^^^^^^^^^^^^^^\n",
            "W0424 10:03:35.393000 21172 site-packages\\torch\\_dynamo\\convert_frame.py:1280]   File \"c:\\Users\\paul-\\anaconda3\\envs\\py311\\Lib\\site-packages\\torch\\_dynamo\\bytecode_transformation.py\", line 1422, in transform_code_object\n",
            "W0424 10:03:35.393000 21172 site-packages\\torch\\_dynamo\\convert_frame.py:1280]     transformations(instructions, code_options)\n",
            "W0424 10:03:35.393000 21172 site-packages\\torch\\_dynamo\\convert_frame.py:1280]   File \"c:\\Users\\paul-\\anaconda3\\envs\\py311\\Lib\\site-packages\\torch\\_dynamo\\convert_frame.py\", line 257, in _fn\n",
            "W0424 10:03:35.393000 21172 site-packages\\torch\\_dynamo\\convert_frame.py:1280]     return fn(*args, **kwargs)\n",
            "W0424 10:03:35.393000 21172 site-packages\\torch\\_dynamo\\convert_frame.py:1280]            ^^^^^^^^^^^^^^^^^^^\n",
            "W0424 10:03:35.393000 21172 site-packages\\torch\\_dynamo\\convert_frame.py:1280]   File \"c:\\Users\\paul-\\anaconda3\\envs\\py311\\Lib\\site-packages\\torch\\_dynamo\\convert_frame.py\", line 715, in transform\n",
            "W0424 10:03:35.393000 21172 site-packages\\torch\\_dynamo\\convert_frame.py:1280]     tracer.run()\n",
            "W0424 10:03:35.393000 21172 site-packages\\torch\\_dynamo\\convert_frame.py:1280]   File \"c:\\Users\\paul-\\anaconda3\\envs\\py311\\Lib\\site-packages\\torch\\_dynamo\\symbolic_convert.py\", line 3500, in run\n",
            "W0424 10:03:35.393000 21172 site-packages\\torch\\_dynamo\\convert_frame.py:1280]     super().run()\n",
            "W0424 10:03:35.393000 21172 site-packages\\torch\\_dynamo\\convert_frame.py:1280]   File \"c:\\Users\\paul-\\anaconda3\\envs\\py311\\Lib\\site-packages\\torch\\_dynamo\\symbolic_convert.py\", line 1337, in run\n",
            "W0424 10:03:35.393000 21172 site-packages\\torch\\_dynamo\\convert_frame.py:1280]     while self.step():\n",
            "W0424 10:03:35.393000 21172 site-packages\\torch\\_dynamo\\convert_frame.py:1280]           ^^^^^^^^^^^\n",
            "W0424 10:03:35.393000 21172 site-packages\\torch\\_dynamo\\convert_frame.py:1280]   File \"c:\\Users\\paul-\\anaconda3\\envs\\py311\\Lib\\site-packages\\torch\\_dynamo\\symbolic_convert.py\", line 1246, in step\n",
            "W0424 10:03:35.393000 21172 site-packages\\torch\\_dynamo\\convert_frame.py:1280]     self.dispatch_table[inst.opcode](self, inst)\n",
            "W0424 10:03:35.393000 21172 site-packages\\torch\\_dynamo\\convert_frame.py:1280]   File \"c:\\Users\\paul-\\anaconda3\\envs\\py311\\Lib\\site-packages\\torch\\_dynamo\\symbolic_convert.py\", line 3701, in RETURN_VALUE\n",
            "W0424 10:03:35.393000 21172 site-packages\\torch\\_dynamo\\convert_frame.py:1280]     self._return(inst)\n",
            "W0424 10:03:35.393000 21172 site-packages\\torch\\_dynamo\\convert_frame.py:1280]   File \"c:\\Users\\paul-\\anaconda3\\envs\\py311\\Lib\\site-packages\\torch\\_dynamo\\symbolic_convert.py\", line 3686, in _return\n",
            "W0424 10:03:35.393000 21172 site-packages\\torch\\_dynamo\\convert_frame.py:1280]     self.output.compile_subgraph(\n",
            "W0424 10:03:35.393000 21172 site-packages\\torch\\_dynamo\\convert_frame.py:1280]   File \"c:\\Users\\paul-\\anaconda3\\envs\\py311\\Lib\\site-packages\\torch\\_dynamo\\output_graph.py\", line 1179, in compile_subgraph\n",
            "W0424 10:03:35.393000 21172 site-packages\\torch\\_dynamo\\convert_frame.py:1280]     self.compile_and_call_fx_graph(\n",
            "W0424 10:03:35.393000 21172 site-packages\\torch\\_dynamo\\convert_frame.py:1280]   File \"c:\\Users\\paul-\\anaconda3\\envs\\py311\\Lib\\site-packages\\torch\\_dynamo\\output_graph.py\", line 1437, in compile_and_call_fx_graph\n",
            "W0424 10:03:35.393000 21172 site-packages\\torch\\_dynamo\\convert_frame.py:1280]     compiled_fn = self.call_user_compiler(gm)\n",
            "W0424 10:03:35.393000 21172 site-packages\\torch\\_dynamo\\convert_frame.py:1280]                   ^^^^^^^^^^^^^^^^^^^^^^^^^^^\n",
            "W0424 10:03:35.393000 21172 site-packages\\torch\\_dynamo\\convert_frame.py:1280]   File \"c:\\Users\\paul-\\anaconda3\\envs\\py311\\Lib\\site-packages\\torch\\_dynamo\\output_graph.py\", line 1487, in call_user_compiler\n",
            "W0424 10:03:35.393000 21172 site-packages\\torch\\_dynamo\\convert_frame.py:1280]     return self._call_user_compiler(gm)\n",
            "W0424 10:03:35.393000 21172 site-packages\\torch\\_dynamo\\convert_frame.py:1280]            ^^^^^^^^^^^^^^^^^^^^^^^^^^^^\n",
            "W0424 10:03:35.393000 21172 site-packages\\torch\\_dynamo\\convert_frame.py:1280]   File \"c:\\Users\\paul-\\anaconda3\\envs\\py311\\Lib\\site-packages\\torch\\_dynamo\\output_graph.py\", line 1519, in _call_user_compiler\n",
            "W0424 10:03:35.393000 21172 site-packages\\torch\\_dynamo\\convert_frame.py:1280]     compiled_fn = compiler_fn(gm, self.example_inputs())\n",
            "W0424 10:03:35.393000 21172 site-packages\\torch\\_dynamo\\convert_frame.py:1280]                   ^^^^^^^^^^^^^^^^^^^^^^^^^^^^^^^^^^^^^^\n",
            "W0424 10:03:35.393000 21172 site-packages\\torch\\_dynamo\\convert_frame.py:1280]   File \"c:\\Users\\paul-\\anaconda3\\envs\\py311\\Lib\\site-packages\\torch\\_dynamo\\repro\\after_dynamo.py\", line 150, in __call__\n",
            "W0424 10:03:35.393000 21172 site-packages\\torch\\_dynamo\\convert_frame.py:1280]     compiled_gm = compiler_fn(gm, example_inputs)\n",
            "W0424 10:03:35.393000 21172 site-packages\\torch\\_dynamo\\convert_frame.py:1280]                   ^^^^^^^^^^^^^^^^^^^^^^^^^^^^^^^\n",
            "W0424 10:03:35.393000 21172 site-packages\\torch\\_dynamo\\convert_frame.py:1280]   File \"c:\\Users\\paul-\\anaconda3\\envs\\py311\\Lib\\site-packages\\torch\\__init__.py\", line 2347, in __call__\n",
            "W0424 10:03:35.393000 21172 site-packages\\torch\\_dynamo\\convert_frame.py:1280]     return compile_fx(model_, inputs_, config_patches=self.config)\n",
            "W0424 10:03:35.393000 21172 site-packages\\torch\\_dynamo\\convert_frame.py:1280]            ^^^^^^^^^^^^^^^^^^^^^^^^^^^^^^^^^^^^^^^^^^^^^^^^^^^^^^^\n",
            "W0424 10:03:35.393000 21172 site-packages\\torch\\_dynamo\\convert_frame.py:1280]   File \"c:\\Users\\paul-\\anaconda3\\envs\\py311\\Lib\\site-packages\\torch\\_inductor\\compile_fx.py\", line 2101, in compile_fx\n",
            "W0424 10:03:35.393000 21172 site-packages\\torch\\_dynamo\\convert_frame.py:1280]     raise e.remove_dynamo_frames() from None  # see TORCHDYNAMO_VERBOSE=1\n",
            "W0424 10:03:35.393000 21172 site-packages\\torch\\_dynamo\\convert_frame.py:1280]     ^^^^^^^^^^^^^^^^^^^^^^^^^^^^^^^^^^^^^^^^\n",
            "W0424 10:03:35.393000 21172 site-packages\\torch\\_dynamo\\convert_frame.py:1280]   File \"c:\\Users\\paul-\\anaconda3\\envs\\py311\\Lib\\site-packages\\torch\\_inductor\\compile_fx.py\", line 760, in _compile_fx_inner\n",
            "W0424 10:03:35.393000 21172 site-packages\\torch\\_dynamo\\convert_frame.py:1280]     raise InductorError(e, currentframe()).with_traceback(\n",
            "W0424 10:03:35.393000 21172 site-packages\\torch\\_dynamo\\convert_frame.py:1280]   File \"c:\\Users\\paul-\\anaconda3\\envs\\py311\\Lib\\site-packages\\torch\\_inductor\\compile_fx.py\", line 745, in _compile_fx_inner\n",
            "W0424 10:03:35.393000 21172 site-packages\\torch\\_dynamo\\convert_frame.py:1280]     mb_compiled_graph = fx_codegen_and_compile(\n",
            "W0424 10:03:35.393000 21172 site-packages\\torch\\_dynamo\\convert_frame.py:1280]                         ^^^^^^^^^^^^^^^^^^^^^^^\n",
            "W0424 10:03:35.393000 21172 site-packages\\torch\\_dynamo\\convert_frame.py:1280]   File \"c:\\Users\\paul-\\anaconda3\\envs\\py311\\Lib\\site-packages\\torch\\_inductor\\compile_fx.py\", line 1295, in fx_codegen_and_compile\n",
            "W0424 10:03:35.393000 21172 site-packages\\torch\\_dynamo\\convert_frame.py:1280]     return scheme.codegen_and_compile(gm, example_inputs, inputs_to_check, graph_kwargs)\n",
            "W0424 10:03:35.393000 21172 site-packages\\torch\\_dynamo\\convert_frame.py:1280]            ^^^^^^^^^^^^^^^^^^^^^^^^^^^^^^^^^^^^^^^^^^^^^^^^^^^^^^^^^^^^^^^^^^^^^^^^^^^^^\n",
            "W0424 10:03:35.393000 21172 site-packages\\torch\\_dynamo\\convert_frame.py:1280]   File \"c:\\Users\\paul-\\anaconda3\\envs\\py311\\Lib\\site-packages\\torch\\_inductor\\compile_fx.py\", line 1197, in codegen_and_compile\n",
            "W0424 10:03:35.393000 21172 site-packages\\torch\\_dynamo\\convert_frame.py:1280]     compiled_fn = graph.compile_to_module().call\n",
            "W0424 10:03:35.393000 21172 site-packages\\torch\\_dynamo\\convert_frame.py:1280]                   ^^^^^^^^^^^^^^^^^^^^^^^^^\n",
            "W0424 10:03:35.393000 21172 site-packages\\torch\\_dynamo\\convert_frame.py:1280]   File \"c:\\Users\\paul-\\anaconda3\\envs\\py311\\Lib\\site-packages\\torch\\_inductor\\graph.py\", line 2083, in compile_to_module\n",
            "W0424 10:03:35.393000 21172 site-packages\\torch\\_dynamo\\convert_frame.py:1280]     return self._compile_to_module()\n",
            "W0424 10:03:35.393000 21172 site-packages\\torch\\_dynamo\\convert_frame.py:1280]            ^^^^^^^^^^^^^^^^^^^^^^^^^\n",
            "W0424 10:03:35.393000 21172 site-packages\\torch\\_dynamo\\convert_frame.py:1280]   File \"c:\\Users\\paul-\\anaconda3\\envs\\py311\\Lib\\site-packages\\torch\\_inductor\\graph.py\", line 2091, in _compile_to_module\n",
            "W0424 10:03:35.393000 21172 site-packages\\torch\\_dynamo\\convert_frame.py:1280]     self.codegen_with_cpp_wrapper() if self.cpp_wrapper else self.codegen()\n",
            "W0424 10:03:35.393000 21172 site-packages\\torch\\_dynamo\\convert_frame.py:1280]                                                              ^^^^^^^^^^^^^^\n",
            "W0424 10:03:35.393000 21172 site-packages\\torch\\_dynamo\\convert_frame.py:1280]   File \"c:\\Users\\paul-\\anaconda3\\envs\\py311\\Lib\\site-packages\\torch\\_inductor\\graph.py\", line 2002, in codegen\n",
            "W0424 10:03:35.393000 21172 site-packages\\torch\\_dynamo\\convert_frame.py:1280]     self.scheduler.codegen()\n",
            "W0424 10:03:35.393000 21172 site-packages\\torch\\_dynamo\\convert_frame.py:1280]   File \"c:\\Users\\paul-\\anaconda3\\envs\\py311\\Lib\\site-packages\\torch\\_inductor\\scheduler.py\", line 4135, in codegen\n",
            "W0424 10:03:35.393000 21172 site-packages\\torch\\_dynamo\\convert_frame.py:1280]     else self._codegen(self.nodes)\n",
            "W0424 10:03:35.393000 21172 site-packages\\torch\\_dynamo\\convert_frame.py:1280]          ^^^^^^^^^^^^^^^^^^^^^^^^^\n",
            "W0424 10:03:35.393000 21172 site-packages\\torch\\_dynamo\\convert_frame.py:1280]   File \"c:\\Users\\paul-\\anaconda3\\envs\\py311\\Lib\\site-packages\\torch\\_inductor\\scheduler.py\", line 4264, in _codegen\n",
            "W0424 10:03:35.393000 21172 site-packages\\torch\\_dynamo\\convert_frame.py:1280]     self.get_backend(device).codegen_node(node)\n",
            "W0424 10:03:35.393000 21172 site-packages\\torch\\_dynamo\\convert_frame.py:1280]   File \"c:\\Users\\paul-\\anaconda3\\envs\\py311\\Lib\\site-packages\\torch\\_inductor\\codegen\\cpp.py\", line 4986, in codegen_node\n",
            "W0424 10:03:35.393000 21172 site-packages\\torch\\_dynamo\\convert_frame.py:1280]     cpp_kernel_proxy = CppKernelProxy(kernel_group)\n",
            "W0424 10:03:35.393000 21172 site-packages\\torch\\_dynamo\\convert_frame.py:1280]                        ^^^^^^^^^^^^^^^^^^^^^^^^^^^^\n",
            "W0424 10:03:35.393000 21172 site-packages\\torch\\_dynamo\\convert_frame.py:1280]   File \"c:\\Users\\paul-\\anaconda3\\envs\\py311\\Lib\\site-packages\\torch\\_inductor\\codegen\\cpp.py\", line 3734, in __init__\n",
            "W0424 10:03:35.393000 21172 site-packages\\torch\\_dynamo\\convert_frame.py:1280]     self.picked_vec_isa: cpu_vec_isa.VecISA = cpu_vec_isa.pick_vec_isa()\n",
            "W0424 10:03:35.393000 21172 site-packages\\torch\\_dynamo\\convert_frame.py:1280]                                               ^^^^^^^^^^^^^^^^^^^^^^^^^^\n",
            "W0424 10:03:35.393000 21172 site-packages\\torch\\_dynamo\\convert_frame.py:1280]   File \"c:\\Users\\paul-\\anaconda3\\envs\\py311\\Lib\\site-packages\\torch\\_inductor\\cpu_vec_isa.py\", line 418, in pick_vec_isa\n",
            "W0424 10:03:35.393000 21172 site-packages\\torch\\_dynamo\\convert_frame.py:1280]     _valid_vec_isa_list: list[VecISA] = valid_vec_isa_list()\n",
            "W0424 10:03:35.393000 21172 site-packages\\torch\\_dynamo\\convert_frame.py:1280]                                         ^^^^^^^^^^^^^^^^^^^^\n",
            "W0424 10:03:35.393000 21172 site-packages\\torch\\_dynamo\\convert_frame.py:1280]   File \"c:\\Users\\paul-\\anaconda3\\envs\\py311\\Lib\\site-packages\\torch\\_inductor\\cpu_vec_isa.py\", line 405, in valid_vec_isa_list\n",
            "W0424 10:03:35.393000 21172 site-packages\\torch\\_dynamo\\convert_frame.py:1280]     isa_list.extend(\n",
            "W0424 10:03:35.393000 21172 site-packages\\torch\\_dynamo\\convert_frame.py:1280]   File \"c:\\Users\\paul-\\anaconda3\\envs\\py311\\Lib\\site-packages\\torch\\_inductor\\cpu_vec_isa.py\", line 405, in <genexpr>\n",
            "W0424 10:03:35.393000 21172 site-packages\\torch\\_dynamo\\convert_frame.py:1280]     isa_list.extend(\n",
            "W0424 10:03:35.393000 21172 site-packages\\torch\\_dynamo\\convert_frame.py:1280]                    ^\n",
            "W0424 10:03:35.393000 21172 site-packages\\torch\\_dynamo\\convert_frame.py:1280]   File \"c:\\Users\\paul-\\anaconda3\\envs\\py311\\Lib\\site-packages\\torch\\_inductor\\cpu_vec_isa.py\", line 142, in __bool__\n",
            "W0424 10:03:35.393000 21172 site-packages\\torch\\_dynamo\\convert_frame.py:1280]     return self.__bool__impl(config.cpp.vec_isa_ok)\n",
            "W0424 10:03:35.393000 21172 site-packages\\torch\\_dynamo\\convert_frame.py:1280]            ^^^^^^^^^^^^^^^^^^^^^^^^^^^^^^^^^^^^^^^^\n",
            "W0424 10:03:35.393000 21172 site-packages\\torch\\_dynamo\\convert_frame.py:1280]   File \"c:\\Users\\paul-\\anaconda3\\envs\\py311\\Lib\\site-packages\\torch\\_inductor\\cpu_vec_isa.py\", line 152, in __bool__impl\n",
            "W0424 10:03:35.393000 21172 site-packages\\torch\\_dynamo\\convert_frame.py:1280]     return self.check_build(VecISA._avx_code)\n",
            "W0424 10:03:35.393000 21172 site-packages\\torch\\_dynamo\\convert_frame.py:1280]            ^^^^^^^^^^^^^^^^^^^^^^^^^^^^^^^^^^\n",
            "W0424 10:03:35.393000 21172 site-packages\\torch\\_dynamo\\convert_frame.py:1280]   File \"c:\\Users\\paul-\\anaconda3\\envs\\py311\\Lib\\site-packages\\torch\\_inductor\\cpu_vec_isa.py\", line 102, in check_build\n",
            "W0424 10:03:35.393000 21172 site-packages\\torch\\_dynamo\\convert_frame.py:1280]     extra=_get_isa_dry_compile_fingerprint(self._arch_flags),\n",
            "W0424 10:03:35.393000 21172 site-packages\\torch\\_dynamo\\convert_frame.py:1280]           ^^^^^^^^^^^^^^^^^^^^^^^^^^^^^^^^^^^^^^^^^^^^^^^^^^\n",
            "W0424 10:03:35.393000 21172 site-packages\\torch\\_dynamo\\convert_frame.py:1280]   File \"c:\\Users\\paul-\\anaconda3\\envs\\py311\\Lib\\site-packages\\torch\\_inductor\\cpu_vec_isa.py\", line 28, in _get_isa_dry_compile_fingerprint\n",
            "W0424 10:03:35.393000 21172 site-packages\\torch\\_dynamo\\convert_frame.py:1280]     compiler_info = get_compiler_version_info(get_cpp_compiler())\n",
            "W0424 10:03:35.393000 21172 site-packages\\torch\\_dynamo\\convert_frame.py:1280]                                               ^^^^^^^^^^^^^^^^^^\n",
            "W0424 10:03:35.393000 21172 site-packages\\torch\\_dynamo\\convert_frame.py:1280]   File \"c:\\Users\\paul-\\anaconda3\\envs\\py311\\Lib\\site-packages\\torch\\_inductor\\cpp_builder.py\", line 148, in get_cpp_compiler\n",
            "W0424 10:03:35.393000 21172 site-packages\\torch\\_dynamo\\convert_frame.py:1280]     check_compiler_exist_windows(compiler)\n",
            "W0424 10:03:35.393000 21172 site-packages\\torch\\_dynamo\\convert_frame.py:1280]   File \"c:\\Users\\paul-\\anaconda3\\envs\\py311\\Lib\\site-packages\\torch\\_inductor\\cpp_builder.py\", line 139, in check_compiler_exist_windows\n",
            "W0424 10:03:35.393000 21172 site-packages\\torch\\_dynamo\\convert_frame.py:1280]     raise RuntimeError(f\"Compiler: {compiler} is not found.\") from exc\n",
            "W0424 10:03:35.393000 21172 site-packages\\torch\\_dynamo\\convert_frame.py:1280] torch._inductor.exc.InductorError: RuntimeError: Compiler: cl is not found.\n",
            "W0424 10:03:35.393000 21172 site-packages\\torch\\_dynamo\\convert_frame.py:1280] \n",
            "W0424 10:03:35.393000 21172 site-packages\\torch\\_dynamo\\convert_frame.py:1280] Set TORCHDYNAMO_VERBOSE=1 for the internal stack trace (please do this especially if you're reporting a bug to PyTorch). For even more developer context, set TORCH_LOGS=\"+dynamo\"\n",
            "W0424 10:03:35.393000 21172 site-packages\\torch\\_dynamo\\convert_frame.py:1280] \n",
            "W0424 10:03:35.989000 21172 site-packages\\torch\\_dynamo\\convert_frame.py:1280] WON'T CONVERT forward c:\\Users\\paul-\\anaconda3\\envs\\py311\\Lib\\site-packages\\transformers\\models\\bert\\modeling_bert.py line 505 \n",
            "W0424 10:03:35.989000 21172 site-packages\\torch\\_dynamo\\convert_frame.py:1280] due to: \n",
            "W0424 10:03:35.989000 21172 site-packages\\torch\\_dynamo\\convert_frame.py:1280] Traceback (most recent call last):\n",
            "W0424 10:03:35.989000 21172 site-packages\\torch\\_dynamo\\convert_frame.py:1280]   File \"c:\\Users\\paul-\\anaconda3\\envs\\py311\\Lib\\site-packages\\torch\\_dynamo\\convert_frame.py\", line 1213, in __call__\n",
            "W0424 10:03:35.989000 21172 site-packages\\torch\\_dynamo\\convert_frame.py:1280]     result = self._inner_convert(\n",
            "W0424 10:03:35.989000 21172 site-packages\\torch\\_dynamo\\convert_frame.py:1280]              ^^^^^^^^^^^^^^^^^^^^\n",
            "W0424 10:03:35.989000 21172 site-packages\\torch\\_dynamo\\convert_frame.py:1280]   File \"c:\\Users\\paul-\\anaconda3\\envs\\py311\\Lib\\site-packages\\torch\\_dynamo\\convert_frame.py\", line 598, in __call__\n",
            "W0424 10:03:35.989000 21172 site-packages\\torch\\_dynamo\\convert_frame.py:1280]     return _compile(\n",
            "W0424 10:03:35.989000 21172 site-packages\\torch\\_dynamo\\convert_frame.py:1280]            ^^^^^^^^^\n",
            "W0424 10:03:35.989000 21172 site-packages\\torch\\_dynamo\\convert_frame.py:1280]   File \"c:\\Users\\paul-\\anaconda3\\envs\\py311\\Lib\\site-packages\\torch\\_dynamo\\convert_frame.py\", line 1059, in _compile\n",
            "W0424 10:03:35.989000 21172 site-packages\\torch\\_dynamo\\convert_frame.py:1280]     guarded_code = compile_inner(code, one_graph, hooks, transform)\n",
            "W0424 10:03:35.989000 21172 site-packages\\torch\\_dynamo\\convert_frame.py:1280]                    ^^^^^^^^^^^^^^^^^^^^^^^^^^^^^^^^^^^^^^^^^^^^^^^^\n",
            "W0424 10:03:35.989000 21172 site-packages\\torch\\_dynamo\\convert_frame.py:1280]   File \"c:\\Users\\paul-\\anaconda3\\envs\\py311\\Lib\\site-packages\\torch\\_utils_internal.py\", line 97, in wrapper_function\n",
            "W0424 10:03:35.989000 21172 site-packages\\torch\\_dynamo\\convert_frame.py:1280]     return function(*args, **kwargs)\n",
            "W0424 10:03:35.989000 21172 site-packages\\torch\\_dynamo\\convert_frame.py:1280]            ^^^^^^^^^^^^^^^^^^^^^^^^^\n",
            "W0424 10:03:35.989000 21172 site-packages\\torch\\_dynamo\\convert_frame.py:1280]   File \"c:\\Users\\paul-\\anaconda3\\envs\\py311\\Lib\\site-packages\\torch\\_dynamo\\convert_frame.py\", line 761, in compile_inner\n",
            "W0424 10:03:35.989000 21172 site-packages\\torch\\_dynamo\\convert_frame.py:1280]     return _compile_inner(code, one_graph, hooks, transform)\n",
            "W0424 10:03:35.989000 21172 site-packages\\torch\\_dynamo\\convert_frame.py:1280]            ^^^^^^^^^^^^^^^^^^^^^^^^^^^^^^^^^^^^^^^^^^^^^^^^^\n",
            "W0424 10:03:35.989000 21172 site-packages\\torch\\_dynamo\\convert_frame.py:1280]   File \"c:\\Users\\paul-\\anaconda3\\envs\\py311\\Lib\\site-packages\\torch\\_dynamo\\convert_frame.py\", line 797, in _compile_inner\n",
            "W0424 10:03:35.989000 21172 site-packages\\torch\\_dynamo\\convert_frame.py:1280]     out_code = transform_code_object(code, transform)\n",
            "W0424 10:03:35.989000 21172 site-packages\\torch\\_dynamo\\convert_frame.py:1280]                ^^^^^^^^^^^^^^^^^^^^^^^^^^^^^^^^^^^^^^\n",
            "W0424 10:03:35.989000 21172 site-packages\\torch\\_dynamo\\convert_frame.py:1280]   File \"c:\\Users\\paul-\\anaconda3\\envs\\py311\\Lib\\site-packages\\torch\\_dynamo\\bytecode_transformation.py\", line 1422, in transform_code_object\n",
            "W0424 10:03:35.989000 21172 site-packages\\torch\\_dynamo\\convert_frame.py:1280]     transformations(instructions, code_options)\n",
            "W0424 10:03:35.989000 21172 site-packages\\torch\\_dynamo\\convert_frame.py:1280]   File \"c:\\Users\\paul-\\anaconda3\\envs\\py311\\Lib\\site-packages\\torch\\_dynamo\\convert_frame.py\", line 257, in _fn\n",
            "W0424 10:03:35.989000 21172 site-packages\\torch\\_dynamo\\convert_frame.py:1280]     return fn(*args, **kwargs)\n",
            "W0424 10:03:35.989000 21172 site-packages\\torch\\_dynamo\\convert_frame.py:1280]            ^^^^^^^^^^^^^^^^^^^\n",
            "W0424 10:03:35.989000 21172 site-packages\\torch\\_dynamo\\convert_frame.py:1280]   File \"c:\\Users\\paul-\\anaconda3\\envs\\py311\\Lib\\site-packages\\torch\\_dynamo\\convert_frame.py\", line 715, in transform\n",
            "W0424 10:03:35.989000 21172 site-packages\\torch\\_dynamo\\convert_frame.py:1280]     tracer.run()\n",
            "W0424 10:03:35.989000 21172 site-packages\\torch\\_dynamo\\convert_frame.py:1280]   File \"c:\\Users\\paul-\\anaconda3\\envs\\py311\\Lib\\site-packages\\torch\\_dynamo\\symbolic_convert.py\", line 3500, in run\n",
            "W0424 10:03:35.989000 21172 site-packages\\torch\\_dynamo\\convert_frame.py:1280]     super().run()\n",
            "W0424 10:03:35.989000 21172 site-packages\\torch\\_dynamo\\convert_frame.py:1280]   File \"c:\\Users\\paul-\\anaconda3\\envs\\py311\\Lib\\site-packages\\torch\\_dynamo\\symbolic_convert.py\", line 1337, in run\n",
            "W0424 10:03:35.989000 21172 site-packages\\torch\\_dynamo\\convert_frame.py:1280]     while self.step():\n",
            "W0424 10:03:35.989000 21172 site-packages\\torch\\_dynamo\\convert_frame.py:1280]           ^^^^^^^^^^^\n",
            "W0424 10:03:35.989000 21172 site-packages\\torch\\_dynamo\\convert_frame.py:1280]   File \"c:\\Users\\paul-\\anaconda3\\envs\\py311\\Lib\\site-packages\\torch\\_dynamo\\symbolic_convert.py\", line 1246, in step\n",
            "W0424 10:03:35.989000 21172 site-packages\\torch\\_dynamo\\convert_frame.py:1280]     self.dispatch_table[inst.opcode](self, inst)\n",
            "W0424 10:03:35.989000 21172 site-packages\\torch\\_dynamo\\convert_frame.py:1280]   File \"c:\\Users\\paul-\\anaconda3\\envs\\py311\\Lib\\site-packages\\torch\\_dynamo\\symbolic_convert.py\", line 3701, in RETURN_VALUE\n",
            "W0424 10:03:35.989000 21172 site-packages\\torch\\_dynamo\\convert_frame.py:1280]     self._return(inst)\n",
            "W0424 10:03:35.989000 21172 site-packages\\torch\\_dynamo\\convert_frame.py:1280]   File \"c:\\Users\\paul-\\anaconda3\\envs\\py311\\Lib\\site-packages\\torch\\_dynamo\\symbolic_convert.py\", line 3686, in _return\n",
            "W0424 10:03:35.989000 21172 site-packages\\torch\\_dynamo\\convert_frame.py:1280]     self.output.compile_subgraph(\n",
            "W0424 10:03:35.989000 21172 site-packages\\torch\\_dynamo\\convert_frame.py:1280]   File \"c:\\Users\\paul-\\anaconda3\\envs\\py311\\Lib\\site-packages\\torch\\_dynamo\\output_graph.py\", line 1179, in compile_subgraph\n",
            "W0424 10:03:35.989000 21172 site-packages\\torch\\_dynamo\\convert_frame.py:1280]     self.compile_and_call_fx_graph(\n",
            "W0424 10:03:35.989000 21172 site-packages\\torch\\_dynamo\\convert_frame.py:1280]   File \"c:\\Users\\paul-\\anaconda3\\envs\\py311\\Lib\\site-packages\\torch\\_dynamo\\output_graph.py\", line 1437, in compile_and_call_fx_graph\n",
            "W0424 10:03:35.989000 21172 site-packages\\torch\\_dynamo\\convert_frame.py:1280]     compiled_fn = self.call_user_compiler(gm)\n",
            "W0424 10:03:35.989000 21172 site-packages\\torch\\_dynamo\\convert_frame.py:1280]                   ^^^^^^^^^^^^^^^^^^^^^^^^^^^\n",
            "W0424 10:03:35.989000 21172 site-packages\\torch\\_dynamo\\convert_frame.py:1280]   File \"c:\\Users\\paul-\\anaconda3\\envs\\py311\\Lib\\site-packages\\torch\\_dynamo\\output_graph.py\", line 1487, in call_user_compiler\n",
            "W0424 10:03:35.989000 21172 site-packages\\torch\\_dynamo\\convert_frame.py:1280]     return self._call_user_compiler(gm)\n",
            "W0424 10:03:35.989000 21172 site-packages\\torch\\_dynamo\\convert_frame.py:1280]            ^^^^^^^^^^^^^^^^^^^^^^^^^^^^\n",
            "W0424 10:03:35.989000 21172 site-packages\\torch\\_dynamo\\convert_frame.py:1280]   File \"c:\\Users\\paul-\\anaconda3\\envs\\py311\\Lib\\site-packages\\torch\\_dynamo\\output_graph.py\", line 1519, in _call_user_compiler\n",
            "W0424 10:03:35.989000 21172 site-packages\\torch\\_dynamo\\convert_frame.py:1280]     compiled_fn = compiler_fn(gm, self.example_inputs())\n",
            "W0424 10:03:35.989000 21172 site-packages\\torch\\_dynamo\\convert_frame.py:1280]                   ^^^^^^^^^^^^^^^^^^^^^^^^^^^^^^^^^^^^^^\n",
            "W0424 10:03:35.989000 21172 site-packages\\torch\\_dynamo\\convert_frame.py:1280]   File \"c:\\Users\\paul-\\anaconda3\\envs\\py311\\Lib\\site-packages\\torch\\_dynamo\\repro\\after_dynamo.py\", line 150, in __call__\n",
            "W0424 10:03:35.989000 21172 site-packages\\torch\\_dynamo\\convert_frame.py:1280]     compiled_gm = compiler_fn(gm, example_inputs)\n",
            "W0424 10:03:35.989000 21172 site-packages\\torch\\_dynamo\\convert_frame.py:1280]                   ^^^^^^^^^^^^^^^^^^^^^^^^^^^^^^^\n",
            "W0424 10:03:35.989000 21172 site-packages\\torch\\_dynamo\\convert_frame.py:1280]   File \"c:\\Users\\paul-\\anaconda3\\envs\\py311\\Lib\\site-packages\\torch\\__init__.py\", line 2347, in __call__\n",
            "W0424 10:03:35.989000 21172 site-packages\\torch\\_dynamo\\convert_frame.py:1280]     return compile_fx(model_, inputs_, config_patches=self.config)\n",
            "W0424 10:03:35.989000 21172 site-packages\\torch\\_dynamo\\convert_frame.py:1280]            ^^^^^^^^^^^^^^^^^^^^^^^^^^^^^^^^^^^^^^^^^^^^^^^^^^^^^^^\n",
            "W0424 10:03:35.989000 21172 site-packages\\torch\\_dynamo\\convert_frame.py:1280]   File \"c:\\Users\\paul-\\anaconda3\\envs\\py311\\Lib\\site-packages\\torch\\_inductor\\compile_fx.py\", line 2101, in compile_fx\n",
            "W0424 10:03:35.989000 21172 site-packages\\torch\\_dynamo\\convert_frame.py:1280]     raise e.remove_dynamo_frames() from None  # see TORCHDYNAMO_VERBOSE=1\n",
            "W0424 10:03:35.989000 21172 site-packages\\torch\\_dynamo\\convert_frame.py:1280]     ^^^^^^^^^^^^^^^^^^^^^^^^^^^^^^^^^^^^^^^^\n",
            "W0424 10:03:35.989000 21172 site-packages\\torch\\_dynamo\\convert_frame.py:1280]   File \"c:\\Users\\paul-\\anaconda3\\envs\\py311\\Lib\\site-packages\\torch\\_inductor\\compile_fx.py\", line 760, in _compile_fx_inner\n",
            "W0424 10:03:35.989000 21172 site-packages\\torch\\_dynamo\\convert_frame.py:1280]     raise InductorError(e, currentframe()).with_traceback(\n",
            "W0424 10:03:35.989000 21172 site-packages\\torch\\_dynamo\\convert_frame.py:1280]   File \"c:\\Users\\paul-\\anaconda3\\envs\\py311\\Lib\\site-packages\\torch\\_inductor\\compile_fx.py\", line 745, in _compile_fx_inner\n",
            "W0424 10:03:35.989000 21172 site-packages\\torch\\_dynamo\\convert_frame.py:1280]     mb_compiled_graph = fx_codegen_and_compile(\n",
            "W0424 10:03:35.989000 21172 site-packages\\torch\\_dynamo\\convert_frame.py:1280]                         ^^^^^^^^^^^^^^^^^^^^^^^\n",
            "W0424 10:03:35.989000 21172 site-packages\\torch\\_dynamo\\convert_frame.py:1280]   File \"c:\\Users\\paul-\\anaconda3\\envs\\py311\\Lib\\site-packages\\torch\\_inductor\\compile_fx.py\", line 1295, in fx_codegen_and_compile\n",
            "W0424 10:03:35.989000 21172 site-packages\\torch\\_dynamo\\convert_frame.py:1280]     return scheme.codegen_and_compile(gm, example_inputs, inputs_to_check, graph_kwargs)\n",
            "W0424 10:03:35.989000 21172 site-packages\\torch\\_dynamo\\convert_frame.py:1280]            ^^^^^^^^^^^^^^^^^^^^^^^^^^^^^^^^^^^^^^^^^^^^^^^^^^^^^^^^^^^^^^^^^^^^^^^^^^^^^\n",
            "W0424 10:03:35.989000 21172 site-packages\\torch\\_dynamo\\convert_frame.py:1280]   File \"c:\\Users\\paul-\\anaconda3\\envs\\py311\\Lib\\site-packages\\torch\\_inductor\\compile_fx.py\", line 1197, in codegen_and_compile\n",
            "W0424 10:03:35.989000 21172 site-packages\\torch\\_dynamo\\convert_frame.py:1280]     compiled_fn = graph.compile_to_module().call\n",
            "W0424 10:03:35.989000 21172 site-packages\\torch\\_dynamo\\convert_frame.py:1280]                   ^^^^^^^^^^^^^^^^^^^^^^^^^\n",
            "W0424 10:03:35.989000 21172 site-packages\\torch\\_dynamo\\convert_frame.py:1280]   File \"c:\\Users\\paul-\\anaconda3\\envs\\py311\\Lib\\site-packages\\torch\\_inductor\\graph.py\", line 2083, in compile_to_module\n",
            "W0424 10:03:35.989000 21172 site-packages\\torch\\_dynamo\\convert_frame.py:1280]     return self._compile_to_module()\n",
            "W0424 10:03:35.989000 21172 site-packages\\torch\\_dynamo\\convert_frame.py:1280]            ^^^^^^^^^^^^^^^^^^^^^^^^^\n",
            "W0424 10:03:35.989000 21172 site-packages\\torch\\_dynamo\\convert_frame.py:1280]   File \"c:\\Users\\paul-\\anaconda3\\envs\\py311\\Lib\\site-packages\\torch\\_inductor\\graph.py\", line 2091, in _compile_to_module\n",
            "W0424 10:03:35.989000 21172 site-packages\\torch\\_dynamo\\convert_frame.py:1280]     self.codegen_with_cpp_wrapper() if self.cpp_wrapper else self.codegen()\n",
            "W0424 10:03:35.989000 21172 site-packages\\torch\\_dynamo\\convert_frame.py:1280]                                                              ^^^^^^^^^^^^^^\n",
            "W0424 10:03:35.989000 21172 site-packages\\torch\\_dynamo\\convert_frame.py:1280]   File \"c:\\Users\\paul-\\anaconda3\\envs\\py311\\Lib\\site-packages\\torch\\_inductor\\graph.py\", line 2002, in codegen\n",
            "W0424 10:03:35.989000 21172 site-packages\\torch\\_dynamo\\convert_frame.py:1280]     self.scheduler.codegen()\n",
            "W0424 10:03:35.989000 21172 site-packages\\torch\\_dynamo\\convert_frame.py:1280]   File \"c:\\Users\\paul-\\anaconda3\\envs\\py311\\Lib\\site-packages\\torch\\_inductor\\scheduler.py\", line 4135, in codegen\n",
            "W0424 10:03:35.989000 21172 site-packages\\torch\\_dynamo\\convert_frame.py:1280]     else self._codegen(self.nodes)\n",
            "W0424 10:03:35.989000 21172 site-packages\\torch\\_dynamo\\convert_frame.py:1280]          ^^^^^^^^^^^^^^^^^^^^^^^^^\n",
            "W0424 10:03:35.989000 21172 site-packages\\torch\\_dynamo\\convert_frame.py:1280]   File \"c:\\Users\\paul-\\anaconda3\\envs\\py311\\Lib\\site-packages\\torch\\_inductor\\scheduler.py\", line 4264, in _codegen\n",
            "W0424 10:03:35.989000 21172 site-packages\\torch\\_dynamo\\convert_frame.py:1280]     self.get_backend(device).codegen_node(node)\n",
            "W0424 10:03:35.989000 21172 site-packages\\torch\\_dynamo\\convert_frame.py:1280]   File \"c:\\Users\\paul-\\anaconda3\\envs\\py311\\Lib\\site-packages\\torch\\_inductor\\codegen\\cpp.py\", line 4986, in codegen_node\n",
            "W0424 10:03:35.989000 21172 site-packages\\torch\\_dynamo\\convert_frame.py:1280]     cpp_kernel_proxy = CppKernelProxy(kernel_group)\n",
            "W0424 10:03:35.989000 21172 site-packages\\torch\\_dynamo\\convert_frame.py:1280]                        ^^^^^^^^^^^^^^^^^^^^^^^^^^^^\n",
            "W0424 10:03:35.989000 21172 site-packages\\torch\\_dynamo\\convert_frame.py:1280]   File \"c:\\Users\\paul-\\anaconda3\\envs\\py311\\Lib\\site-packages\\torch\\_inductor\\codegen\\cpp.py\", line 3734, in __init__\n",
            "W0424 10:03:35.989000 21172 site-packages\\torch\\_dynamo\\convert_frame.py:1280]     self.picked_vec_isa: cpu_vec_isa.VecISA = cpu_vec_isa.pick_vec_isa()\n",
            "W0424 10:03:35.989000 21172 site-packages\\torch\\_dynamo\\convert_frame.py:1280]                                               ^^^^^^^^^^^^^^^^^^^^^^^^^^\n",
            "W0424 10:03:35.989000 21172 site-packages\\torch\\_dynamo\\convert_frame.py:1280]   File \"c:\\Users\\paul-\\anaconda3\\envs\\py311\\Lib\\site-packages\\torch\\_inductor\\cpu_vec_isa.py\", line 418, in pick_vec_isa\n",
            "W0424 10:03:35.989000 21172 site-packages\\torch\\_dynamo\\convert_frame.py:1280]     _valid_vec_isa_list: list[VecISA] = valid_vec_isa_list()\n",
            "W0424 10:03:35.989000 21172 site-packages\\torch\\_dynamo\\convert_frame.py:1280]                                         ^^^^^^^^^^^^^^^^^^^^\n",
            "W0424 10:03:35.989000 21172 site-packages\\torch\\_dynamo\\convert_frame.py:1280]   File \"c:\\Users\\paul-\\anaconda3\\envs\\py311\\Lib\\site-packages\\torch\\_inductor\\cpu_vec_isa.py\", line 405, in valid_vec_isa_list\n",
            "W0424 10:03:35.989000 21172 site-packages\\torch\\_dynamo\\convert_frame.py:1280]     isa_list.extend(\n",
            "W0424 10:03:35.989000 21172 site-packages\\torch\\_dynamo\\convert_frame.py:1280]   File \"c:\\Users\\paul-\\anaconda3\\envs\\py311\\Lib\\site-packages\\torch\\_inductor\\cpu_vec_isa.py\", line 405, in <genexpr>\n",
            "W0424 10:03:35.989000 21172 site-packages\\torch\\_dynamo\\convert_frame.py:1280]     isa_list.extend(\n",
            "W0424 10:03:35.989000 21172 site-packages\\torch\\_dynamo\\convert_frame.py:1280]                    ^\n",
            "W0424 10:03:35.989000 21172 site-packages\\torch\\_dynamo\\convert_frame.py:1280]   File \"c:\\Users\\paul-\\anaconda3\\envs\\py311\\Lib\\site-packages\\torch\\_inductor\\cpu_vec_isa.py\", line 142, in __bool__\n",
            "W0424 10:03:35.989000 21172 site-packages\\torch\\_dynamo\\convert_frame.py:1280]     return self.__bool__impl(config.cpp.vec_isa_ok)\n",
            "W0424 10:03:35.989000 21172 site-packages\\torch\\_dynamo\\convert_frame.py:1280]            ^^^^^^^^^^^^^^^^^^^^^^^^^^^^^^^^^^^^^^^^\n",
            "W0424 10:03:35.989000 21172 site-packages\\torch\\_dynamo\\convert_frame.py:1280]   File \"c:\\Users\\paul-\\anaconda3\\envs\\py311\\Lib\\site-packages\\torch\\_inductor\\cpu_vec_isa.py\", line 152, in __bool__impl\n",
            "W0424 10:03:35.989000 21172 site-packages\\torch\\_dynamo\\convert_frame.py:1280]     return self.check_build(VecISA._avx_code)\n",
            "W0424 10:03:35.989000 21172 site-packages\\torch\\_dynamo\\convert_frame.py:1280]            ^^^^^^^^^^^^^^^^^^^^^^^^^^^^^^^^^^\n",
            "W0424 10:03:35.989000 21172 site-packages\\torch\\_dynamo\\convert_frame.py:1280]   File \"c:\\Users\\paul-\\anaconda3\\envs\\py311\\Lib\\site-packages\\torch\\_inductor\\cpu_vec_isa.py\", line 102, in check_build\n",
            "W0424 10:03:35.989000 21172 site-packages\\torch\\_dynamo\\convert_frame.py:1280]     extra=_get_isa_dry_compile_fingerprint(self._arch_flags),\n",
            "W0424 10:03:35.989000 21172 site-packages\\torch\\_dynamo\\convert_frame.py:1280]           ^^^^^^^^^^^^^^^^^^^^^^^^^^^^^^^^^^^^^^^^^^^^^^^^^^\n",
            "W0424 10:03:35.989000 21172 site-packages\\torch\\_dynamo\\convert_frame.py:1280]   File \"c:\\Users\\paul-\\anaconda3\\envs\\py311\\Lib\\site-packages\\torch\\_inductor\\cpu_vec_isa.py\", line 28, in _get_isa_dry_compile_fingerprint\n",
            "W0424 10:03:35.989000 21172 site-packages\\torch\\_dynamo\\convert_frame.py:1280]     compiler_info = get_compiler_version_info(get_cpp_compiler())\n",
            "W0424 10:03:35.989000 21172 site-packages\\torch\\_dynamo\\convert_frame.py:1280]                                               ^^^^^^^^^^^^^^^^^^\n",
            "W0424 10:03:35.989000 21172 site-packages\\torch\\_dynamo\\convert_frame.py:1280]   File \"c:\\Users\\paul-\\anaconda3\\envs\\py311\\Lib\\site-packages\\torch\\_inductor\\cpp_builder.py\", line 148, in get_cpp_compiler\n",
            "W0424 10:03:35.989000 21172 site-packages\\torch\\_dynamo\\convert_frame.py:1280]     check_compiler_exist_windows(compiler)\n",
            "W0424 10:03:35.989000 21172 site-packages\\torch\\_dynamo\\convert_frame.py:1280]   File \"c:\\Users\\paul-\\anaconda3\\envs\\py311\\Lib\\site-packages\\torch\\_inductor\\cpp_builder.py\", line 139, in check_compiler_exist_windows\n",
            "W0424 10:03:35.989000 21172 site-packages\\torch\\_dynamo\\convert_frame.py:1280]     raise RuntimeError(f\"Compiler: {compiler} is not found.\") from exc\n",
            "W0424 10:03:35.989000 21172 site-packages\\torch\\_dynamo\\convert_frame.py:1280] torch._inductor.exc.InductorError: RuntimeError: Compiler: cl is not found.\n",
            "W0424 10:03:35.989000 21172 site-packages\\torch\\_dynamo\\convert_frame.py:1280] \n",
            "W0424 10:03:35.989000 21172 site-packages\\torch\\_dynamo\\convert_frame.py:1280] Set TORCHDYNAMO_VERBOSE=1 for the internal stack trace (please do this especially if you're reporting a bug to PyTorch). For even more developer context, set TORCH_LOGS=\"+dynamo\"\n",
            "W0424 10:03:35.989000 21172 site-packages\\torch\\_dynamo\\convert_frame.py:1280] \n",
            "W0424 10:03:35.989000 21172 site-packages\\torch\\_dynamo\\convert_frame.py:1280] Traceback (most recent call last):\n",
            "W0424 10:03:35.989000 21172 site-packages\\torch\\_dynamo\\convert_frame.py:1280]   File \"c:\\Users\\paul-\\anaconda3\\envs\\py311\\Lib\\site-packages\\torch\\_dynamo\\convert_frame.py\", line 1213, in __call__\n",
            "W0424 10:03:35.989000 21172 site-packages\\torch\\_dynamo\\convert_frame.py:1280]     result = self._inner_convert(\n",
            "W0424 10:03:35.989000 21172 site-packages\\torch\\_dynamo\\convert_frame.py:1280]              ^^^^^^^^^^^^^^^^^^^^\n",
            "W0424 10:03:35.989000 21172 site-packages\\torch\\_dynamo\\convert_frame.py:1280]   File \"c:\\Users\\paul-\\anaconda3\\envs\\py311\\Lib\\site-packages\\torch\\_dynamo\\convert_frame.py\", line 598, in __call__\n",
            "W0424 10:03:35.989000 21172 site-packages\\torch\\_dynamo\\convert_frame.py:1280]     return _compile(\n",
            "W0424 10:03:35.989000 21172 site-packages\\torch\\_dynamo\\convert_frame.py:1280]            ^^^^^^^^^\n",
            "W0424 10:03:35.989000 21172 site-packages\\torch\\_dynamo\\convert_frame.py:1280]   File \"c:\\Users\\paul-\\anaconda3\\envs\\py311\\Lib\\site-packages\\torch\\_dynamo\\convert_frame.py\", line 1059, in _compile\n",
            "W0424 10:03:35.989000 21172 site-packages\\torch\\_dynamo\\convert_frame.py:1280]     guarded_code = compile_inner(code, one_graph, hooks, transform)\n",
            "W0424 10:03:35.989000 21172 site-packages\\torch\\_dynamo\\convert_frame.py:1280]                    ^^^^^^^^^^^^^^^^^^^^^^^^^^^^^^^^^^^^^^^^^^^^^^^^\n",
            "W0424 10:03:35.989000 21172 site-packages\\torch\\_dynamo\\convert_frame.py:1280]   File \"c:\\Users\\paul-\\anaconda3\\envs\\py311\\Lib\\site-packages\\torch\\_utils_internal.py\", line 97, in wrapper_function\n",
            "W0424 10:03:35.989000 21172 site-packages\\torch\\_dynamo\\convert_frame.py:1280]     return function(*args, **kwargs)\n",
            "W0424 10:03:35.989000 21172 site-packages\\torch\\_dynamo\\convert_frame.py:1280]            ^^^^^^^^^^^^^^^^^^^^^^^^^\n",
            "W0424 10:03:35.989000 21172 site-packages\\torch\\_dynamo\\convert_frame.py:1280]   File \"c:\\Users\\paul-\\anaconda3\\envs\\py311\\Lib\\site-packages\\torch\\_dynamo\\convert_frame.py\", line 761, in compile_inner\n",
            "W0424 10:03:35.989000 21172 site-packages\\torch\\_dynamo\\convert_frame.py:1280]     return _compile_inner(code, one_graph, hooks, transform)\n",
            "W0424 10:03:35.989000 21172 site-packages\\torch\\_dynamo\\convert_frame.py:1280]            ^^^^^^^^^^^^^^^^^^^^^^^^^^^^^^^^^^^^^^^^^^^^^^^^^\n",
            "W0424 10:03:35.989000 21172 site-packages\\torch\\_dynamo\\convert_frame.py:1280]   File \"c:\\Users\\paul-\\anaconda3\\envs\\py311\\Lib\\site-packages\\torch\\_dynamo\\convert_frame.py\", line 797, in _compile_inner\n",
            "W0424 10:03:35.989000 21172 site-packages\\torch\\_dynamo\\convert_frame.py:1280]     out_code = transform_code_object(code, transform)\n",
            "W0424 10:03:35.989000 21172 site-packages\\torch\\_dynamo\\convert_frame.py:1280]                ^^^^^^^^^^^^^^^^^^^^^^^^^^^^^^^^^^^^^^\n",
            "W0424 10:03:35.989000 21172 site-packages\\torch\\_dynamo\\convert_frame.py:1280]   File \"c:\\Users\\paul-\\anaconda3\\envs\\py311\\Lib\\site-packages\\torch\\_dynamo\\bytecode_transformation.py\", line 1422, in transform_code_object\n",
            "W0424 10:03:35.989000 21172 site-packages\\torch\\_dynamo\\convert_frame.py:1280]     transformations(instructions, code_options)\n",
            "W0424 10:03:35.989000 21172 site-packages\\torch\\_dynamo\\convert_frame.py:1280]   File \"c:\\Users\\paul-\\anaconda3\\envs\\py311\\Lib\\site-packages\\torch\\_dynamo\\convert_frame.py\", line 257, in _fn\n",
            "W0424 10:03:35.989000 21172 site-packages\\torch\\_dynamo\\convert_frame.py:1280]     return fn(*args, **kwargs)\n",
            "W0424 10:03:35.989000 21172 site-packages\\torch\\_dynamo\\convert_frame.py:1280]            ^^^^^^^^^^^^^^^^^^^\n",
            "W0424 10:03:35.989000 21172 site-packages\\torch\\_dynamo\\convert_frame.py:1280]   File \"c:\\Users\\paul-\\anaconda3\\envs\\py311\\Lib\\site-packages\\torch\\_dynamo\\convert_frame.py\", line 715, in transform\n",
            "W0424 10:03:35.989000 21172 site-packages\\torch\\_dynamo\\convert_frame.py:1280]     tracer.run()\n",
            "W0424 10:03:35.989000 21172 site-packages\\torch\\_dynamo\\convert_frame.py:1280]   File \"c:\\Users\\paul-\\anaconda3\\envs\\py311\\Lib\\site-packages\\torch\\_dynamo\\symbolic_convert.py\", line 3500, in run\n",
            "W0424 10:03:35.989000 21172 site-packages\\torch\\_dynamo\\convert_frame.py:1280]     super().run()\n",
            "W0424 10:03:35.989000 21172 site-packages\\torch\\_dynamo\\convert_frame.py:1280]   File \"c:\\Users\\paul-\\anaconda3\\envs\\py311\\Lib\\site-packages\\torch\\_dynamo\\symbolic_convert.py\", line 1337, in run\n",
            "W0424 10:03:35.989000 21172 site-packages\\torch\\_dynamo\\convert_frame.py:1280]     while self.step():\n",
            "W0424 10:03:35.989000 21172 site-packages\\torch\\_dynamo\\convert_frame.py:1280]           ^^^^^^^^^^^\n",
            "W0424 10:03:35.989000 21172 site-packages\\torch\\_dynamo\\convert_frame.py:1280]   File \"c:\\Users\\paul-\\anaconda3\\envs\\py311\\Lib\\site-packages\\torch\\_dynamo\\symbolic_convert.py\", line 1246, in step\n",
            "W0424 10:03:35.989000 21172 site-packages\\torch\\_dynamo\\convert_frame.py:1280]     self.dispatch_table[inst.opcode](self, inst)\n",
            "W0424 10:03:35.989000 21172 site-packages\\torch\\_dynamo\\convert_frame.py:1280]   File \"c:\\Users\\paul-\\anaconda3\\envs\\py311\\Lib\\site-packages\\torch\\_dynamo\\symbolic_convert.py\", line 3701, in RETURN_VALUE\n",
            "W0424 10:03:35.989000 21172 site-packages\\torch\\_dynamo\\convert_frame.py:1280]     self._return(inst)\n",
            "W0424 10:03:35.989000 21172 site-packages\\torch\\_dynamo\\convert_frame.py:1280]   File \"c:\\Users\\paul-\\anaconda3\\envs\\py311\\Lib\\site-packages\\torch\\_dynamo\\symbolic_convert.py\", line 3686, in _return\n",
            "W0424 10:03:35.989000 21172 site-packages\\torch\\_dynamo\\convert_frame.py:1280]     self.output.compile_subgraph(\n",
            "W0424 10:03:35.989000 21172 site-packages\\torch\\_dynamo\\convert_frame.py:1280]   File \"c:\\Users\\paul-\\anaconda3\\envs\\py311\\Lib\\site-packages\\torch\\_dynamo\\output_graph.py\", line 1179, in compile_subgraph\n",
            "W0424 10:03:35.989000 21172 site-packages\\torch\\_dynamo\\convert_frame.py:1280]     self.compile_and_call_fx_graph(\n",
            "W0424 10:03:35.989000 21172 site-packages\\torch\\_dynamo\\convert_frame.py:1280]   File \"c:\\Users\\paul-\\anaconda3\\envs\\py311\\Lib\\site-packages\\torch\\_dynamo\\output_graph.py\", line 1437, in compile_and_call_fx_graph\n",
            "W0424 10:03:35.989000 21172 site-packages\\torch\\_dynamo\\convert_frame.py:1280]     compiled_fn = self.call_user_compiler(gm)\n",
            "W0424 10:03:35.989000 21172 site-packages\\torch\\_dynamo\\convert_frame.py:1280]                   ^^^^^^^^^^^^^^^^^^^^^^^^^^^\n",
            "W0424 10:03:35.989000 21172 site-packages\\torch\\_dynamo\\convert_frame.py:1280]   File \"c:\\Users\\paul-\\anaconda3\\envs\\py311\\Lib\\site-packages\\torch\\_dynamo\\output_graph.py\", line 1487, in call_user_compiler\n",
            "W0424 10:03:35.989000 21172 site-packages\\torch\\_dynamo\\convert_frame.py:1280]     return self._call_user_compiler(gm)\n",
            "W0424 10:03:35.989000 21172 site-packages\\torch\\_dynamo\\convert_frame.py:1280]            ^^^^^^^^^^^^^^^^^^^^^^^^^^^^\n",
            "W0424 10:03:35.989000 21172 site-packages\\torch\\_dynamo\\convert_frame.py:1280]   File \"c:\\Users\\paul-\\anaconda3\\envs\\py311\\Lib\\site-packages\\torch\\_dynamo\\output_graph.py\", line 1519, in _call_user_compiler\n",
            "W0424 10:03:35.989000 21172 site-packages\\torch\\_dynamo\\convert_frame.py:1280]     compiled_fn = compiler_fn(gm, self.example_inputs())\n",
            "W0424 10:03:35.989000 21172 site-packages\\torch\\_dynamo\\convert_frame.py:1280]                   ^^^^^^^^^^^^^^^^^^^^^^^^^^^^^^^^^^^^^^\n",
            "W0424 10:03:35.989000 21172 site-packages\\torch\\_dynamo\\convert_frame.py:1280]   File \"c:\\Users\\paul-\\anaconda3\\envs\\py311\\Lib\\site-packages\\torch\\_dynamo\\repro\\after_dynamo.py\", line 150, in __call__\n",
            "W0424 10:03:35.989000 21172 site-packages\\torch\\_dynamo\\convert_frame.py:1280]     compiled_gm = compiler_fn(gm, example_inputs)\n",
            "W0424 10:03:35.989000 21172 site-packages\\torch\\_dynamo\\convert_frame.py:1280]                   ^^^^^^^^^^^^^^^^^^^^^^^^^^^^^^^\n",
            "W0424 10:03:35.989000 21172 site-packages\\torch\\_dynamo\\convert_frame.py:1280]   File \"c:\\Users\\paul-\\anaconda3\\envs\\py311\\Lib\\site-packages\\torch\\__init__.py\", line 2347, in __call__\n",
            "W0424 10:03:35.989000 21172 site-packages\\torch\\_dynamo\\convert_frame.py:1280]     return compile_fx(model_, inputs_, config_patches=self.config)\n",
            "W0424 10:03:35.989000 21172 site-packages\\torch\\_dynamo\\convert_frame.py:1280]            ^^^^^^^^^^^^^^^^^^^^^^^^^^^^^^^^^^^^^^^^^^^^^^^^^^^^^^^\n",
            "W0424 10:03:35.989000 21172 site-packages\\torch\\_dynamo\\convert_frame.py:1280]   File \"c:\\Users\\paul-\\anaconda3\\envs\\py311\\Lib\\site-packages\\torch\\_inductor\\compile_fx.py\", line 2101, in compile_fx\n",
            "W0424 10:03:35.989000 21172 site-packages\\torch\\_dynamo\\convert_frame.py:1280]     raise e.remove_dynamo_frames() from None  # see TORCHDYNAMO_VERBOSE=1\n",
            "W0424 10:03:35.989000 21172 site-packages\\torch\\_dynamo\\convert_frame.py:1280]     ^^^^^^^^^^^^^^^^^^^^^^^^^^^^^^^^^^^^^^^^\n",
            "W0424 10:03:35.989000 21172 site-packages\\torch\\_dynamo\\convert_frame.py:1280]   File \"c:\\Users\\paul-\\anaconda3\\envs\\py311\\Lib\\site-packages\\torch\\_inductor\\compile_fx.py\", line 760, in _compile_fx_inner\n",
            "W0424 10:03:35.989000 21172 site-packages\\torch\\_dynamo\\convert_frame.py:1280]     raise InductorError(e, currentframe()).with_traceback(\n",
            "W0424 10:03:35.989000 21172 site-packages\\torch\\_dynamo\\convert_frame.py:1280]   File \"c:\\Users\\paul-\\anaconda3\\envs\\py311\\Lib\\site-packages\\torch\\_inductor\\compile_fx.py\", line 745, in _compile_fx_inner\n",
            "W0424 10:03:35.989000 21172 site-packages\\torch\\_dynamo\\convert_frame.py:1280]     mb_compiled_graph = fx_codegen_and_compile(\n",
            "W0424 10:03:35.989000 21172 site-packages\\torch\\_dynamo\\convert_frame.py:1280]                         ^^^^^^^^^^^^^^^^^^^^^^^\n",
            "W0424 10:03:35.989000 21172 site-packages\\torch\\_dynamo\\convert_frame.py:1280]   File \"c:\\Users\\paul-\\anaconda3\\envs\\py311\\Lib\\site-packages\\torch\\_inductor\\compile_fx.py\", line 1295, in fx_codegen_and_compile\n",
            "W0424 10:03:35.989000 21172 site-packages\\torch\\_dynamo\\convert_frame.py:1280]     return scheme.codegen_and_compile(gm, example_inputs, inputs_to_check, graph_kwargs)\n",
            "W0424 10:03:35.989000 21172 site-packages\\torch\\_dynamo\\convert_frame.py:1280]            ^^^^^^^^^^^^^^^^^^^^^^^^^^^^^^^^^^^^^^^^^^^^^^^^^^^^^^^^^^^^^^^^^^^^^^^^^^^^^\n",
            "W0424 10:03:35.989000 21172 site-packages\\torch\\_dynamo\\convert_frame.py:1280]   File \"c:\\Users\\paul-\\anaconda3\\envs\\py311\\Lib\\site-packages\\torch\\_inductor\\compile_fx.py\", line 1197, in codegen_and_compile\n",
            "W0424 10:03:35.989000 21172 site-packages\\torch\\_dynamo\\convert_frame.py:1280]     compiled_fn = graph.compile_to_module().call\n",
            "W0424 10:03:35.989000 21172 site-packages\\torch\\_dynamo\\convert_frame.py:1280]                   ^^^^^^^^^^^^^^^^^^^^^^^^^\n",
            "W0424 10:03:35.989000 21172 site-packages\\torch\\_dynamo\\convert_frame.py:1280]   File \"c:\\Users\\paul-\\anaconda3\\envs\\py311\\Lib\\site-packages\\torch\\_inductor\\graph.py\", line 2083, in compile_to_module\n",
            "W0424 10:03:35.989000 21172 site-packages\\torch\\_dynamo\\convert_frame.py:1280]     return self._compile_to_module()\n",
            "W0424 10:03:35.989000 21172 site-packages\\torch\\_dynamo\\convert_frame.py:1280]            ^^^^^^^^^^^^^^^^^^^^^^^^^\n",
            "W0424 10:03:35.989000 21172 site-packages\\torch\\_dynamo\\convert_frame.py:1280]   File \"c:\\Users\\paul-\\anaconda3\\envs\\py311\\Lib\\site-packages\\torch\\_inductor\\graph.py\", line 2091, in _compile_to_module\n",
            "W0424 10:03:35.989000 21172 site-packages\\torch\\_dynamo\\convert_frame.py:1280]     self.codegen_with_cpp_wrapper() if self.cpp_wrapper else self.codegen()\n",
            "W0424 10:03:35.989000 21172 site-packages\\torch\\_dynamo\\convert_frame.py:1280]                                                              ^^^^^^^^^^^^^^\n",
            "W0424 10:03:35.989000 21172 site-packages\\torch\\_dynamo\\convert_frame.py:1280]   File \"c:\\Users\\paul-\\anaconda3\\envs\\py311\\Lib\\site-packages\\torch\\_inductor\\graph.py\", line 2002, in codegen\n",
            "W0424 10:03:35.989000 21172 site-packages\\torch\\_dynamo\\convert_frame.py:1280]     self.scheduler.codegen()\n",
            "W0424 10:03:35.989000 21172 site-packages\\torch\\_dynamo\\convert_frame.py:1280]   File \"c:\\Users\\paul-\\anaconda3\\envs\\py311\\Lib\\site-packages\\torch\\_inductor\\scheduler.py\", line 4135, in codegen\n",
            "W0424 10:03:35.989000 21172 site-packages\\torch\\_dynamo\\convert_frame.py:1280]     else self._codegen(self.nodes)\n",
            "W0424 10:03:35.989000 21172 site-packages\\torch\\_dynamo\\convert_frame.py:1280]          ^^^^^^^^^^^^^^^^^^^^^^^^^\n",
            "W0424 10:03:35.989000 21172 site-packages\\torch\\_dynamo\\convert_frame.py:1280]   File \"c:\\Users\\paul-\\anaconda3\\envs\\py311\\Lib\\site-packages\\torch\\_inductor\\scheduler.py\", line 4264, in _codegen\n",
            "W0424 10:03:35.989000 21172 site-packages\\torch\\_dynamo\\convert_frame.py:1280]     self.get_backend(device).codegen_node(node)\n",
            "W0424 10:03:35.989000 21172 site-packages\\torch\\_dynamo\\convert_frame.py:1280]   File \"c:\\Users\\paul-\\anaconda3\\envs\\py311\\Lib\\site-packages\\torch\\_inductor\\codegen\\cpp.py\", line 4986, in codegen_node\n",
            "W0424 10:03:35.989000 21172 site-packages\\torch\\_dynamo\\convert_frame.py:1280]     cpp_kernel_proxy = CppKernelProxy(kernel_group)\n",
            "W0424 10:03:35.989000 21172 site-packages\\torch\\_dynamo\\convert_frame.py:1280]                        ^^^^^^^^^^^^^^^^^^^^^^^^^^^^\n",
            "W0424 10:03:35.989000 21172 site-packages\\torch\\_dynamo\\convert_frame.py:1280]   File \"c:\\Users\\paul-\\anaconda3\\envs\\py311\\Lib\\site-packages\\torch\\_inductor\\codegen\\cpp.py\", line 3734, in __init__\n",
            "W0424 10:03:35.989000 21172 site-packages\\torch\\_dynamo\\convert_frame.py:1280]     self.picked_vec_isa: cpu_vec_isa.VecISA = cpu_vec_isa.pick_vec_isa()\n",
            "W0424 10:03:35.989000 21172 site-packages\\torch\\_dynamo\\convert_frame.py:1280]                                               ^^^^^^^^^^^^^^^^^^^^^^^^^^\n",
            "W0424 10:03:35.989000 21172 site-packages\\torch\\_dynamo\\convert_frame.py:1280]   File \"c:\\Users\\paul-\\anaconda3\\envs\\py311\\Lib\\site-packages\\torch\\_inductor\\cpu_vec_isa.py\", line 418, in pick_vec_isa\n",
            "W0424 10:03:35.989000 21172 site-packages\\torch\\_dynamo\\convert_frame.py:1280]     _valid_vec_isa_list: list[VecISA] = valid_vec_isa_list()\n",
            "W0424 10:03:35.989000 21172 site-packages\\torch\\_dynamo\\convert_frame.py:1280]                                         ^^^^^^^^^^^^^^^^^^^^\n",
            "W0424 10:03:35.989000 21172 site-packages\\torch\\_dynamo\\convert_frame.py:1280]   File \"c:\\Users\\paul-\\anaconda3\\envs\\py311\\Lib\\site-packages\\torch\\_inductor\\cpu_vec_isa.py\", line 405, in valid_vec_isa_list\n",
            "W0424 10:03:35.989000 21172 site-packages\\torch\\_dynamo\\convert_frame.py:1280]     isa_list.extend(\n",
            "W0424 10:03:35.989000 21172 site-packages\\torch\\_dynamo\\convert_frame.py:1280]   File \"c:\\Users\\paul-\\anaconda3\\envs\\py311\\Lib\\site-packages\\torch\\_inductor\\cpu_vec_isa.py\", line 405, in <genexpr>\n",
            "W0424 10:03:35.989000 21172 site-packages\\torch\\_dynamo\\convert_frame.py:1280]     isa_list.extend(\n",
            "W0424 10:03:35.989000 21172 site-packages\\torch\\_dynamo\\convert_frame.py:1280]                    ^\n",
            "W0424 10:03:35.989000 21172 site-packages\\torch\\_dynamo\\convert_frame.py:1280]   File \"c:\\Users\\paul-\\anaconda3\\envs\\py311\\Lib\\site-packages\\torch\\_inductor\\cpu_vec_isa.py\", line 142, in __bool__\n",
            "W0424 10:03:35.989000 21172 site-packages\\torch\\_dynamo\\convert_frame.py:1280]     return self.__bool__impl(config.cpp.vec_isa_ok)\n",
            "W0424 10:03:35.989000 21172 site-packages\\torch\\_dynamo\\convert_frame.py:1280]            ^^^^^^^^^^^^^^^^^^^^^^^^^^^^^^^^^^^^^^^^\n",
            "W0424 10:03:35.989000 21172 site-packages\\torch\\_dynamo\\convert_frame.py:1280]   File \"c:\\Users\\paul-\\anaconda3\\envs\\py311\\Lib\\site-packages\\torch\\_inductor\\cpu_vec_isa.py\", line 152, in __bool__impl\n",
            "W0424 10:03:35.989000 21172 site-packages\\torch\\_dynamo\\convert_frame.py:1280]     return self.check_build(VecISA._avx_code)\n",
            "W0424 10:03:35.989000 21172 site-packages\\torch\\_dynamo\\convert_frame.py:1280]            ^^^^^^^^^^^^^^^^^^^^^^^^^^^^^^^^^^\n",
            "W0424 10:03:35.989000 21172 site-packages\\torch\\_dynamo\\convert_frame.py:1280]   File \"c:\\Users\\paul-\\anaconda3\\envs\\py311\\Lib\\site-packages\\torch\\_inductor\\cpu_vec_isa.py\", line 102, in check_build\n",
            "W0424 10:03:35.989000 21172 site-packages\\torch\\_dynamo\\convert_frame.py:1280]     extra=_get_isa_dry_compile_fingerprint(self._arch_flags),\n",
            "W0424 10:03:35.989000 21172 site-packages\\torch\\_dynamo\\convert_frame.py:1280]           ^^^^^^^^^^^^^^^^^^^^^^^^^^^^^^^^^^^^^^^^^^^^^^^^^^\n",
            "W0424 10:03:35.989000 21172 site-packages\\torch\\_dynamo\\convert_frame.py:1280]   File \"c:\\Users\\paul-\\anaconda3\\envs\\py311\\Lib\\site-packages\\torch\\_inductor\\cpu_vec_isa.py\", line 28, in _get_isa_dry_compile_fingerprint\n",
            "W0424 10:03:35.989000 21172 site-packages\\torch\\_dynamo\\convert_frame.py:1280]     compiler_info = get_compiler_version_info(get_cpp_compiler())\n",
            "W0424 10:03:35.989000 21172 site-packages\\torch\\_dynamo\\convert_frame.py:1280]                                               ^^^^^^^^^^^^^^^^^^\n",
            "W0424 10:03:35.989000 21172 site-packages\\torch\\_dynamo\\convert_frame.py:1280]   File \"c:\\Users\\paul-\\anaconda3\\envs\\py311\\Lib\\site-packages\\torch\\_inductor\\cpp_builder.py\", line 148, in get_cpp_compiler\n",
            "W0424 10:03:35.989000 21172 site-packages\\torch\\_dynamo\\convert_frame.py:1280]     check_compiler_exist_windows(compiler)\n",
            "W0424 10:03:35.989000 21172 site-packages\\torch\\_dynamo\\convert_frame.py:1280]   File \"c:\\Users\\paul-\\anaconda3\\envs\\py311\\Lib\\site-packages\\torch\\_inductor\\cpp_builder.py\", line 139, in check_compiler_exist_windows\n",
            "W0424 10:03:35.989000 21172 site-packages\\torch\\_dynamo\\convert_frame.py:1280]     raise RuntimeError(f\"Compiler: {compiler} is not found.\") from exc\n",
            "W0424 10:03:35.989000 21172 site-packages\\torch\\_dynamo\\convert_frame.py:1280] torch._inductor.exc.InductorError: RuntimeError: Compiler: cl is not found.\n",
            "W0424 10:03:35.989000 21172 site-packages\\torch\\_dynamo\\convert_frame.py:1280] \n",
            "W0424 10:03:35.989000 21172 site-packages\\torch\\_dynamo\\convert_frame.py:1280] Set TORCHDYNAMO_VERBOSE=1 for the internal stack trace (please do this especially if you're reporting a bug to PyTorch). For even more developer context, set TORCH_LOGS=\"+dynamo\"\n",
            "W0424 10:03:35.989000 21172 site-packages\\torch\\_dynamo\\convert_frame.py:1280] \n",
            "W0424 10:03:36.387000 21172 site-packages\\torch\\_dynamo\\convert_frame.py:1280] WON'T CONVERT forward c:\\Users\\paul-\\anaconda3\\envs\\py311\\Lib\\site-packages\\transformers\\models\\bert\\modeling_bert.py line 364 \n",
            "W0424 10:03:36.387000 21172 site-packages\\torch\\_dynamo\\convert_frame.py:1280] due to: \n",
            "W0424 10:03:36.387000 21172 site-packages\\torch\\_dynamo\\convert_frame.py:1280] Traceback (most recent call last):\n",
            "W0424 10:03:36.387000 21172 site-packages\\torch\\_dynamo\\convert_frame.py:1280]   File \"c:\\Users\\paul-\\anaconda3\\envs\\py311\\Lib\\site-packages\\torch\\_dynamo\\convert_frame.py\", line 1213, in __call__\n",
            "W0424 10:03:36.387000 21172 site-packages\\torch\\_dynamo\\convert_frame.py:1280]     result = self._inner_convert(\n",
            "W0424 10:03:36.387000 21172 site-packages\\torch\\_dynamo\\convert_frame.py:1280]              ^^^^^^^^^^^^^^^^^^^^\n",
            "W0424 10:03:36.387000 21172 site-packages\\torch\\_dynamo\\convert_frame.py:1280]   File \"c:\\Users\\paul-\\anaconda3\\envs\\py311\\Lib\\site-packages\\torch\\_dynamo\\convert_frame.py\", line 598, in __call__\n",
            "W0424 10:03:36.387000 21172 site-packages\\torch\\_dynamo\\convert_frame.py:1280]     return _compile(\n",
            "W0424 10:03:36.387000 21172 site-packages\\torch\\_dynamo\\convert_frame.py:1280]            ^^^^^^^^^\n",
            "W0424 10:03:36.387000 21172 site-packages\\torch\\_dynamo\\convert_frame.py:1280]   File \"c:\\Users\\paul-\\anaconda3\\envs\\py311\\Lib\\site-packages\\torch\\_dynamo\\convert_frame.py\", line 1059, in _compile\n",
            "W0424 10:03:36.387000 21172 site-packages\\torch\\_dynamo\\convert_frame.py:1280]     guarded_code = compile_inner(code, one_graph, hooks, transform)\n",
            "W0424 10:03:36.387000 21172 site-packages\\torch\\_dynamo\\convert_frame.py:1280]                    ^^^^^^^^^^^^^^^^^^^^^^^^^^^^^^^^^^^^^^^^^^^^^^^^\n",
            "W0424 10:03:36.387000 21172 site-packages\\torch\\_dynamo\\convert_frame.py:1280]   File \"c:\\Users\\paul-\\anaconda3\\envs\\py311\\Lib\\site-packages\\torch\\_utils_internal.py\", line 97, in wrapper_function\n",
            "W0424 10:03:36.387000 21172 site-packages\\torch\\_dynamo\\convert_frame.py:1280]     return function(*args, **kwargs)\n",
            "W0424 10:03:36.387000 21172 site-packages\\torch\\_dynamo\\convert_frame.py:1280]            ^^^^^^^^^^^^^^^^^^^^^^^^^\n",
            "W0424 10:03:36.387000 21172 site-packages\\torch\\_dynamo\\convert_frame.py:1280]   File \"c:\\Users\\paul-\\anaconda3\\envs\\py311\\Lib\\site-packages\\torch\\_dynamo\\convert_frame.py\", line 761, in compile_inner\n",
            "W0424 10:03:36.387000 21172 site-packages\\torch\\_dynamo\\convert_frame.py:1280]     return _compile_inner(code, one_graph, hooks, transform)\n",
            "W0424 10:03:36.387000 21172 site-packages\\torch\\_dynamo\\convert_frame.py:1280]            ^^^^^^^^^^^^^^^^^^^^^^^^^^^^^^^^^^^^^^^^^^^^^^^^^\n",
            "W0424 10:03:36.387000 21172 site-packages\\torch\\_dynamo\\convert_frame.py:1280]   File \"c:\\Users\\paul-\\anaconda3\\envs\\py311\\Lib\\site-packages\\torch\\_dynamo\\convert_frame.py\", line 797, in _compile_inner\n",
            "W0424 10:03:36.387000 21172 site-packages\\torch\\_dynamo\\convert_frame.py:1280]     out_code = transform_code_object(code, transform)\n",
            "W0424 10:03:36.387000 21172 site-packages\\torch\\_dynamo\\convert_frame.py:1280]                ^^^^^^^^^^^^^^^^^^^^^^^^^^^^^^^^^^^^^^\n",
            "W0424 10:03:36.387000 21172 site-packages\\torch\\_dynamo\\convert_frame.py:1280]   File \"c:\\Users\\paul-\\anaconda3\\envs\\py311\\Lib\\site-packages\\torch\\_dynamo\\bytecode_transformation.py\", line 1422, in transform_code_object\n",
            "W0424 10:03:36.387000 21172 site-packages\\torch\\_dynamo\\convert_frame.py:1280]     transformations(instructions, code_options)\n",
            "W0424 10:03:36.387000 21172 site-packages\\torch\\_dynamo\\convert_frame.py:1280]   File \"c:\\Users\\paul-\\anaconda3\\envs\\py311\\Lib\\site-packages\\torch\\_dynamo\\convert_frame.py\", line 257, in _fn\n",
            "W0424 10:03:36.387000 21172 site-packages\\torch\\_dynamo\\convert_frame.py:1280]     return fn(*args, **kwargs)\n",
            "W0424 10:03:36.387000 21172 site-packages\\torch\\_dynamo\\convert_frame.py:1280]            ^^^^^^^^^^^^^^^^^^^\n",
            "W0424 10:03:36.387000 21172 site-packages\\torch\\_dynamo\\convert_frame.py:1280]   File \"c:\\Users\\paul-\\anaconda3\\envs\\py311\\Lib\\site-packages\\torch\\_dynamo\\convert_frame.py\", line 715, in transform\n",
            "W0424 10:03:36.387000 21172 site-packages\\torch\\_dynamo\\convert_frame.py:1280]     tracer.run()\n",
            "W0424 10:03:36.387000 21172 site-packages\\torch\\_dynamo\\convert_frame.py:1280]   File \"c:\\Users\\paul-\\anaconda3\\envs\\py311\\Lib\\site-packages\\torch\\_dynamo\\symbolic_convert.py\", line 3500, in run\n",
            "W0424 10:03:36.387000 21172 site-packages\\torch\\_dynamo\\convert_frame.py:1280]     super().run()\n",
            "W0424 10:03:36.387000 21172 site-packages\\torch\\_dynamo\\convert_frame.py:1280]   File \"c:\\Users\\paul-\\anaconda3\\envs\\py311\\Lib\\site-packages\\torch\\_dynamo\\symbolic_convert.py\", line 1337, in run\n",
            "W0424 10:03:36.387000 21172 site-packages\\torch\\_dynamo\\convert_frame.py:1280]     while self.step():\n",
            "W0424 10:03:36.387000 21172 site-packages\\torch\\_dynamo\\convert_frame.py:1280]           ^^^^^^^^^^^\n",
            "W0424 10:03:36.387000 21172 site-packages\\torch\\_dynamo\\convert_frame.py:1280]   File \"c:\\Users\\paul-\\anaconda3\\envs\\py311\\Lib\\site-packages\\torch\\_dynamo\\symbolic_convert.py\", line 1246, in step\n",
            "W0424 10:03:36.387000 21172 site-packages\\torch\\_dynamo\\convert_frame.py:1280]     self.dispatch_table[inst.opcode](self, inst)\n",
            "W0424 10:03:36.387000 21172 site-packages\\torch\\_dynamo\\convert_frame.py:1280]   File \"c:\\Users\\paul-\\anaconda3\\envs\\py311\\Lib\\site-packages\\torch\\_dynamo\\symbolic_convert.py\", line 3701, in RETURN_VALUE\n",
            "W0424 10:03:36.387000 21172 site-packages\\torch\\_dynamo\\convert_frame.py:1280]     self._return(inst)\n",
            "W0424 10:03:36.387000 21172 site-packages\\torch\\_dynamo\\convert_frame.py:1280]   File \"c:\\Users\\paul-\\anaconda3\\envs\\py311\\Lib\\site-packages\\torch\\_dynamo\\symbolic_convert.py\", line 3686, in _return\n",
            "W0424 10:03:36.387000 21172 site-packages\\torch\\_dynamo\\convert_frame.py:1280]     self.output.compile_subgraph(\n",
            "W0424 10:03:36.387000 21172 site-packages\\torch\\_dynamo\\convert_frame.py:1280]   File \"c:\\Users\\paul-\\anaconda3\\envs\\py311\\Lib\\site-packages\\torch\\_dynamo\\output_graph.py\", line 1179, in compile_subgraph\n",
            "W0424 10:03:36.387000 21172 site-packages\\torch\\_dynamo\\convert_frame.py:1280]     self.compile_and_call_fx_graph(\n",
            "W0424 10:03:36.387000 21172 site-packages\\torch\\_dynamo\\convert_frame.py:1280]   File \"c:\\Users\\paul-\\anaconda3\\envs\\py311\\Lib\\site-packages\\torch\\_dynamo\\output_graph.py\", line 1437, in compile_and_call_fx_graph\n",
            "W0424 10:03:36.387000 21172 site-packages\\torch\\_dynamo\\convert_frame.py:1280]     compiled_fn = self.call_user_compiler(gm)\n",
            "W0424 10:03:36.387000 21172 site-packages\\torch\\_dynamo\\convert_frame.py:1280]                   ^^^^^^^^^^^^^^^^^^^^^^^^^^^\n",
            "W0424 10:03:36.387000 21172 site-packages\\torch\\_dynamo\\convert_frame.py:1280]   File \"c:\\Users\\paul-\\anaconda3\\envs\\py311\\Lib\\site-packages\\torch\\_dynamo\\output_graph.py\", line 1487, in call_user_compiler\n",
            "W0424 10:03:36.387000 21172 site-packages\\torch\\_dynamo\\convert_frame.py:1280]     return self._call_user_compiler(gm)\n",
            "W0424 10:03:36.387000 21172 site-packages\\torch\\_dynamo\\convert_frame.py:1280]            ^^^^^^^^^^^^^^^^^^^^^^^^^^^^\n",
            "W0424 10:03:36.387000 21172 site-packages\\torch\\_dynamo\\convert_frame.py:1280]   File \"c:\\Users\\paul-\\anaconda3\\envs\\py311\\Lib\\site-packages\\torch\\_dynamo\\output_graph.py\", line 1519, in _call_user_compiler\n",
            "W0424 10:03:36.387000 21172 site-packages\\torch\\_dynamo\\convert_frame.py:1280]     compiled_fn = compiler_fn(gm, self.example_inputs())\n",
            "W0424 10:03:36.387000 21172 site-packages\\torch\\_dynamo\\convert_frame.py:1280]                   ^^^^^^^^^^^^^^^^^^^^^^^^^^^^^^^^^^^^^^\n",
            "W0424 10:03:36.387000 21172 site-packages\\torch\\_dynamo\\convert_frame.py:1280]   File \"c:\\Users\\paul-\\anaconda3\\envs\\py311\\Lib\\site-packages\\torch\\_dynamo\\repro\\after_dynamo.py\", line 150, in __call__\n",
            "W0424 10:03:36.387000 21172 site-packages\\torch\\_dynamo\\convert_frame.py:1280]     compiled_gm = compiler_fn(gm, example_inputs)\n",
            "W0424 10:03:36.387000 21172 site-packages\\torch\\_dynamo\\convert_frame.py:1280]                   ^^^^^^^^^^^^^^^^^^^^^^^^^^^^^^^\n",
            "W0424 10:03:36.387000 21172 site-packages\\torch\\_dynamo\\convert_frame.py:1280]   File \"c:\\Users\\paul-\\anaconda3\\envs\\py311\\Lib\\site-packages\\torch\\__init__.py\", line 2347, in __call__\n",
            "W0424 10:03:36.387000 21172 site-packages\\torch\\_dynamo\\convert_frame.py:1280]     return compile_fx(model_, inputs_, config_patches=self.config)\n",
            "W0424 10:03:36.387000 21172 site-packages\\torch\\_dynamo\\convert_frame.py:1280]            ^^^^^^^^^^^^^^^^^^^^^^^^^^^^^^^^^^^^^^^^^^^^^^^^^^^^^^^\n",
            "W0424 10:03:36.387000 21172 site-packages\\torch\\_dynamo\\convert_frame.py:1280]   File \"c:\\Users\\paul-\\anaconda3\\envs\\py311\\Lib\\site-packages\\torch\\_inductor\\compile_fx.py\", line 2101, in compile_fx\n",
            "W0424 10:03:36.387000 21172 site-packages\\torch\\_dynamo\\convert_frame.py:1280]     raise e.remove_dynamo_frames() from None  # see TORCHDYNAMO_VERBOSE=1\n",
            "W0424 10:03:36.387000 21172 site-packages\\torch\\_dynamo\\convert_frame.py:1280]     ^^^^^^^^^^^^^^^^^^^^^^^^^^^^^^^^^^^^^^^^\n",
            "W0424 10:03:36.387000 21172 site-packages\\torch\\_dynamo\\convert_frame.py:1280]   File \"c:\\Users\\paul-\\anaconda3\\envs\\py311\\Lib\\site-packages\\torch\\_inductor\\compile_fx.py\", line 760, in _compile_fx_inner\n",
            "W0424 10:03:36.387000 21172 site-packages\\torch\\_dynamo\\convert_frame.py:1280]     raise InductorError(e, currentframe()).with_traceback(\n",
            "W0424 10:03:36.387000 21172 site-packages\\torch\\_dynamo\\convert_frame.py:1280]   File \"c:\\Users\\paul-\\anaconda3\\envs\\py311\\Lib\\site-packages\\torch\\_inductor\\compile_fx.py\", line 745, in _compile_fx_inner\n",
            "W0424 10:03:36.387000 21172 site-packages\\torch\\_dynamo\\convert_frame.py:1280]     mb_compiled_graph = fx_codegen_and_compile(\n",
            "W0424 10:03:36.387000 21172 site-packages\\torch\\_dynamo\\convert_frame.py:1280]                         ^^^^^^^^^^^^^^^^^^^^^^^\n",
            "W0424 10:03:36.387000 21172 site-packages\\torch\\_dynamo\\convert_frame.py:1280]   File \"c:\\Users\\paul-\\anaconda3\\envs\\py311\\Lib\\site-packages\\torch\\_inductor\\compile_fx.py\", line 1295, in fx_codegen_and_compile\n",
            "W0424 10:03:36.387000 21172 site-packages\\torch\\_dynamo\\convert_frame.py:1280]     return scheme.codegen_and_compile(gm, example_inputs, inputs_to_check, graph_kwargs)\n",
            "W0424 10:03:36.387000 21172 site-packages\\torch\\_dynamo\\convert_frame.py:1280]            ^^^^^^^^^^^^^^^^^^^^^^^^^^^^^^^^^^^^^^^^^^^^^^^^^^^^^^^^^^^^^^^^^^^^^^^^^^^^^\n",
            "W0424 10:03:36.387000 21172 site-packages\\torch\\_dynamo\\convert_frame.py:1280]   File \"c:\\Users\\paul-\\anaconda3\\envs\\py311\\Lib\\site-packages\\torch\\_inductor\\compile_fx.py\", line 1197, in codegen_and_compile\n",
            "W0424 10:03:36.387000 21172 site-packages\\torch\\_dynamo\\convert_frame.py:1280]     compiled_fn = graph.compile_to_module().call\n",
            "W0424 10:03:36.387000 21172 site-packages\\torch\\_dynamo\\convert_frame.py:1280]                   ^^^^^^^^^^^^^^^^^^^^^^^^^\n",
            "W0424 10:03:36.387000 21172 site-packages\\torch\\_dynamo\\convert_frame.py:1280]   File \"c:\\Users\\paul-\\anaconda3\\envs\\py311\\Lib\\site-packages\\torch\\_inductor\\graph.py\", line 2083, in compile_to_module\n",
            "W0424 10:03:36.387000 21172 site-packages\\torch\\_dynamo\\convert_frame.py:1280]     return self._compile_to_module()\n",
            "W0424 10:03:36.387000 21172 site-packages\\torch\\_dynamo\\convert_frame.py:1280]            ^^^^^^^^^^^^^^^^^^^^^^^^^\n",
            "W0424 10:03:36.387000 21172 site-packages\\torch\\_dynamo\\convert_frame.py:1280]   File \"c:\\Users\\paul-\\anaconda3\\envs\\py311\\Lib\\site-packages\\torch\\_inductor\\graph.py\", line 2091, in _compile_to_module\n",
            "W0424 10:03:36.387000 21172 site-packages\\torch\\_dynamo\\convert_frame.py:1280]     self.codegen_with_cpp_wrapper() if self.cpp_wrapper else self.codegen()\n",
            "W0424 10:03:36.387000 21172 site-packages\\torch\\_dynamo\\convert_frame.py:1280]                                                              ^^^^^^^^^^^^^^\n",
            "W0424 10:03:36.387000 21172 site-packages\\torch\\_dynamo\\convert_frame.py:1280]   File \"c:\\Users\\paul-\\anaconda3\\envs\\py311\\Lib\\site-packages\\torch\\_inductor\\graph.py\", line 2002, in codegen\n",
            "W0424 10:03:36.387000 21172 site-packages\\torch\\_dynamo\\convert_frame.py:1280]     self.scheduler.codegen()\n",
            "W0424 10:03:36.387000 21172 site-packages\\torch\\_dynamo\\convert_frame.py:1280]   File \"c:\\Users\\paul-\\anaconda3\\envs\\py311\\Lib\\site-packages\\torch\\_inductor\\scheduler.py\", line 4135, in codegen\n",
            "W0424 10:03:36.387000 21172 site-packages\\torch\\_dynamo\\convert_frame.py:1280]     else self._codegen(self.nodes)\n",
            "W0424 10:03:36.387000 21172 site-packages\\torch\\_dynamo\\convert_frame.py:1280]          ^^^^^^^^^^^^^^^^^^^^^^^^^\n",
            "W0424 10:03:36.387000 21172 site-packages\\torch\\_dynamo\\convert_frame.py:1280]   File \"c:\\Users\\paul-\\anaconda3\\envs\\py311\\Lib\\site-packages\\torch\\_inductor\\scheduler.py\", line 4264, in _codegen\n",
            "W0424 10:03:36.387000 21172 site-packages\\torch\\_dynamo\\convert_frame.py:1280]     self.get_backend(device).codegen_node(node)\n",
            "W0424 10:03:36.387000 21172 site-packages\\torch\\_dynamo\\convert_frame.py:1280]   File \"c:\\Users\\paul-\\anaconda3\\envs\\py311\\Lib\\site-packages\\torch\\_inductor\\codegen\\cpp.py\", line 4986, in codegen_node\n",
            "W0424 10:03:36.387000 21172 site-packages\\torch\\_dynamo\\convert_frame.py:1280]     cpp_kernel_proxy = CppKernelProxy(kernel_group)\n",
            "W0424 10:03:36.387000 21172 site-packages\\torch\\_dynamo\\convert_frame.py:1280]                        ^^^^^^^^^^^^^^^^^^^^^^^^^^^^\n",
            "W0424 10:03:36.387000 21172 site-packages\\torch\\_dynamo\\convert_frame.py:1280]   File \"c:\\Users\\paul-\\anaconda3\\envs\\py311\\Lib\\site-packages\\torch\\_inductor\\codegen\\cpp.py\", line 3734, in __init__\n",
            "W0424 10:03:36.387000 21172 site-packages\\torch\\_dynamo\\convert_frame.py:1280]     self.picked_vec_isa: cpu_vec_isa.VecISA = cpu_vec_isa.pick_vec_isa()\n",
            "W0424 10:03:36.387000 21172 site-packages\\torch\\_dynamo\\convert_frame.py:1280]                                               ^^^^^^^^^^^^^^^^^^^^^^^^^^\n",
            "W0424 10:03:36.387000 21172 site-packages\\torch\\_dynamo\\convert_frame.py:1280]   File \"c:\\Users\\paul-\\anaconda3\\envs\\py311\\Lib\\site-packages\\torch\\_inductor\\cpu_vec_isa.py\", line 418, in pick_vec_isa\n",
            "W0424 10:03:36.387000 21172 site-packages\\torch\\_dynamo\\convert_frame.py:1280]     _valid_vec_isa_list: list[VecISA] = valid_vec_isa_list()\n",
            "W0424 10:03:36.387000 21172 site-packages\\torch\\_dynamo\\convert_frame.py:1280]                                         ^^^^^^^^^^^^^^^^^^^^\n",
            "W0424 10:03:36.387000 21172 site-packages\\torch\\_dynamo\\convert_frame.py:1280]   File \"c:\\Users\\paul-\\anaconda3\\envs\\py311\\Lib\\site-packages\\torch\\_inductor\\cpu_vec_isa.py\", line 405, in valid_vec_isa_list\n",
            "W0424 10:03:36.387000 21172 site-packages\\torch\\_dynamo\\convert_frame.py:1280]     isa_list.extend(\n",
            "W0424 10:03:36.387000 21172 site-packages\\torch\\_dynamo\\convert_frame.py:1280]   File \"c:\\Users\\paul-\\anaconda3\\envs\\py311\\Lib\\site-packages\\torch\\_inductor\\cpu_vec_isa.py\", line 405, in <genexpr>\n",
            "W0424 10:03:36.387000 21172 site-packages\\torch\\_dynamo\\convert_frame.py:1280]     isa_list.extend(\n",
            "W0424 10:03:36.387000 21172 site-packages\\torch\\_dynamo\\convert_frame.py:1280]                    ^\n",
            "W0424 10:03:36.387000 21172 site-packages\\torch\\_dynamo\\convert_frame.py:1280]   File \"c:\\Users\\paul-\\anaconda3\\envs\\py311\\Lib\\site-packages\\torch\\_inductor\\cpu_vec_isa.py\", line 142, in __bool__\n",
            "W0424 10:03:36.387000 21172 site-packages\\torch\\_dynamo\\convert_frame.py:1280]     return self.__bool__impl(config.cpp.vec_isa_ok)\n",
            "W0424 10:03:36.387000 21172 site-packages\\torch\\_dynamo\\convert_frame.py:1280]            ^^^^^^^^^^^^^^^^^^^^^^^^^^^^^^^^^^^^^^^^\n",
            "W0424 10:03:36.387000 21172 site-packages\\torch\\_dynamo\\convert_frame.py:1280]   File \"c:\\Users\\paul-\\anaconda3\\envs\\py311\\Lib\\site-packages\\torch\\_inductor\\cpu_vec_isa.py\", line 152, in __bool__impl\n",
            "W0424 10:03:36.387000 21172 site-packages\\torch\\_dynamo\\convert_frame.py:1280]     return self.check_build(VecISA._avx_code)\n",
            "W0424 10:03:36.387000 21172 site-packages\\torch\\_dynamo\\convert_frame.py:1280]            ^^^^^^^^^^^^^^^^^^^^^^^^^^^^^^^^^^\n",
            "W0424 10:03:36.387000 21172 site-packages\\torch\\_dynamo\\convert_frame.py:1280]   File \"c:\\Users\\paul-\\anaconda3\\envs\\py311\\Lib\\site-packages\\torch\\_inductor\\cpu_vec_isa.py\", line 102, in check_build\n",
            "W0424 10:03:36.387000 21172 site-packages\\torch\\_dynamo\\convert_frame.py:1280]     extra=_get_isa_dry_compile_fingerprint(self._arch_flags),\n",
            "W0424 10:03:36.387000 21172 site-packages\\torch\\_dynamo\\convert_frame.py:1280]           ^^^^^^^^^^^^^^^^^^^^^^^^^^^^^^^^^^^^^^^^^^^^^^^^^^\n",
            "W0424 10:03:36.387000 21172 site-packages\\torch\\_dynamo\\convert_frame.py:1280]   File \"c:\\Users\\paul-\\anaconda3\\envs\\py311\\Lib\\site-packages\\torch\\_inductor\\cpu_vec_isa.py\", line 28, in _get_isa_dry_compile_fingerprint\n",
            "W0424 10:03:36.387000 21172 site-packages\\torch\\_dynamo\\convert_frame.py:1280]     compiler_info = get_compiler_version_info(get_cpp_compiler())\n",
            "W0424 10:03:36.387000 21172 site-packages\\torch\\_dynamo\\convert_frame.py:1280]                                               ^^^^^^^^^^^^^^^^^^\n",
            "W0424 10:03:36.387000 21172 site-packages\\torch\\_dynamo\\convert_frame.py:1280]   File \"c:\\Users\\paul-\\anaconda3\\envs\\py311\\Lib\\site-packages\\torch\\_inductor\\cpp_builder.py\", line 148, in get_cpp_compiler\n",
            "W0424 10:03:36.387000 21172 site-packages\\torch\\_dynamo\\convert_frame.py:1280]     check_compiler_exist_windows(compiler)\n",
            "W0424 10:03:36.387000 21172 site-packages\\torch\\_dynamo\\convert_frame.py:1280]   File \"c:\\Users\\paul-\\anaconda3\\envs\\py311\\Lib\\site-packages\\torch\\_inductor\\cpp_builder.py\", line 139, in check_compiler_exist_windows\n",
            "W0424 10:03:36.387000 21172 site-packages\\torch\\_dynamo\\convert_frame.py:1280]     raise RuntimeError(f\"Compiler: {compiler} is not found.\") from exc\n",
            "W0424 10:03:36.387000 21172 site-packages\\torch\\_dynamo\\convert_frame.py:1280] torch._inductor.exc.InductorError: RuntimeError: Compiler: cl is not found.\n",
            "W0424 10:03:36.387000 21172 site-packages\\torch\\_dynamo\\convert_frame.py:1280] \n",
            "W0424 10:03:36.387000 21172 site-packages\\torch\\_dynamo\\convert_frame.py:1280] Set TORCHDYNAMO_VERBOSE=1 for the internal stack trace (please do this especially if you're reporting a bug to PyTorch). For even more developer context, set TORCH_LOGS=\"+dynamo\"\n",
            "W0424 10:03:36.387000 21172 site-packages\\torch\\_dynamo\\convert_frame.py:1280] \n",
            "W0424 10:03:36.387000 21172 site-packages\\torch\\_dynamo\\convert_frame.py:1280] Traceback (most recent call last):\n",
            "W0424 10:03:36.387000 21172 site-packages\\torch\\_dynamo\\convert_frame.py:1280]   File \"c:\\Users\\paul-\\anaconda3\\envs\\py311\\Lib\\site-packages\\torch\\_dynamo\\convert_frame.py\", line 1213, in __call__\n",
            "W0424 10:03:36.387000 21172 site-packages\\torch\\_dynamo\\convert_frame.py:1280]     result = self._inner_convert(\n",
            "W0424 10:03:36.387000 21172 site-packages\\torch\\_dynamo\\convert_frame.py:1280]              ^^^^^^^^^^^^^^^^^^^^\n",
            "W0424 10:03:36.387000 21172 site-packages\\torch\\_dynamo\\convert_frame.py:1280]   File \"c:\\Users\\paul-\\anaconda3\\envs\\py311\\Lib\\site-packages\\torch\\_dynamo\\convert_frame.py\", line 598, in __call__\n",
            "W0424 10:03:36.387000 21172 site-packages\\torch\\_dynamo\\convert_frame.py:1280]     return _compile(\n",
            "W0424 10:03:36.387000 21172 site-packages\\torch\\_dynamo\\convert_frame.py:1280]            ^^^^^^^^^\n",
            "W0424 10:03:36.387000 21172 site-packages\\torch\\_dynamo\\convert_frame.py:1280]   File \"c:\\Users\\paul-\\anaconda3\\envs\\py311\\Lib\\site-packages\\torch\\_dynamo\\convert_frame.py\", line 1059, in _compile\n",
            "W0424 10:03:36.387000 21172 site-packages\\torch\\_dynamo\\convert_frame.py:1280]     guarded_code = compile_inner(code, one_graph, hooks, transform)\n",
            "W0424 10:03:36.387000 21172 site-packages\\torch\\_dynamo\\convert_frame.py:1280]                    ^^^^^^^^^^^^^^^^^^^^^^^^^^^^^^^^^^^^^^^^^^^^^^^^\n",
            "W0424 10:03:36.387000 21172 site-packages\\torch\\_dynamo\\convert_frame.py:1280]   File \"c:\\Users\\paul-\\anaconda3\\envs\\py311\\Lib\\site-packages\\torch\\_utils_internal.py\", line 97, in wrapper_function\n",
            "W0424 10:03:36.387000 21172 site-packages\\torch\\_dynamo\\convert_frame.py:1280]     return function(*args, **kwargs)\n",
            "W0424 10:03:36.387000 21172 site-packages\\torch\\_dynamo\\convert_frame.py:1280]            ^^^^^^^^^^^^^^^^^^^^^^^^^\n",
            "W0424 10:03:36.387000 21172 site-packages\\torch\\_dynamo\\convert_frame.py:1280]   File \"c:\\Users\\paul-\\anaconda3\\envs\\py311\\Lib\\site-packages\\torch\\_dynamo\\convert_frame.py\", line 761, in compile_inner\n",
            "W0424 10:03:36.387000 21172 site-packages\\torch\\_dynamo\\convert_frame.py:1280]     return _compile_inner(code, one_graph, hooks, transform)\n",
            "W0424 10:03:36.387000 21172 site-packages\\torch\\_dynamo\\convert_frame.py:1280]            ^^^^^^^^^^^^^^^^^^^^^^^^^^^^^^^^^^^^^^^^^^^^^^^^^\n",
            "W0424 10:03:36.387000 21172 site-packages\\torch\\_dynamo\\convert_frame.py:1280]   File \"c:\\Users\\paul-\\anaconda3\\envs\\py311\\Lib\\site-packages\\torch\\_dynamo\\convert_frame.py\", line 797, in _compile_inner\n",
            "W0424 10:03:36.387000 21172 site-packages\\torch\\_dynamo\\convert_frame.py:1280]     out_code = transform_code_object(code, transform)\n",
            "W0424 10:03:36.387000 21172 site-packages\\torch\\_dynamo\\convert_frame.py:1280]                ^^^^^^^^^^^^^^^^^^^^^^^^^^^^^^^^^^^^^^\n",
            "W0424 10:03:36.387000 21172 site-packages\\torch\\_dynamo\\convert_frame.py:1280]   File \"c:\\Users\\paul-\\anaconda3\\envs\\py311\\Lib\\site-packages\\torch\\_dynamo\\bytecode_transformation.py\", line 1422, in transform_code_object\n",
            "W0424 10:03:36.387000 21172 site-packages\\torch\\_dynamo\\convert_frame.py:1280]     transformations(instructions, code_options)\n",
            "W0424 10:03:36.387000 21172 site-packages\\torch\\_dynamo\\convert_frame.py:1280]   File \"c:\\Users\\paul-\\anaconda3\\envs\\py311\\Lib\\site-packages\\torch\\_dynamo\\convert_frame.py\", line 257, in _fn\n",
            "W0424 10:03:36.387000 21172 site-packages\\torch\\_dynamo\\convert_frame.py:1280]     return fn(*args, **kwargs)\n",
            "W0424 10:03:36.387000 21172 site-packages\\torch\\_dynamo\\convert_frame.py:1280]            ^^^^^^^^^^^^^^^^^^^\n",
            "W0424 10:03:36.387000 21172 site-packages\\torch\\_dynamo\\convert_frame.py:1280]   File \"c:\\Users\\paul-\\anaconda3\\envs\\py311\\Lib\\site-packages\\torch\\_dynamo\\convert_frame.py\", line 715, in transform\n",
            "W0424 10:03:36.387000 21172 site-packages\\torch\\_dynamo\\convert_frame.py:1280]     tracer.run()\n",
            "W0424 10:03:36.387000 21172 site-packages\\torch\\_dynamo\\convert_frame.py:1280]   File \"c:\\Users\\paul-\\anaconda3\\envs\\py311\\Lib\\site-packages\\torch\\_dynamo\\symbolic_convert.py\", line 3500, in run\n",
            "W0424 10:03:36.387000 21172 site-packages\\torch\\_dynamo\\convert_frame.py:1280]     super().run()\n",
            "W0424 10:03:36.387000 21172 site-packages\\torch\\_dynamo\\convert_frame.py:1280]   File \"c:\\Users\\paul-\\anaconda3\\envs\\py311\\Lib\\site-packages\\torch\\_dynamo\\symbolic_convert.py\", line 1337, in run\n",
            "W0424 10:03:36.387000 21172 site-packages\\torch\\_dynamo\\convert_frame.py:1280]     while self.step():\n",
            "W0424 10:03:36.387000 21172 site-packages\\torch\\_dynamo\\convert_frame.py:1280]           ^^^^^^^^^^^\n",
            "W0424 10:03:36.387000 21172 site-packages\\torch\\_dynamo\\convert_frame.py:1280]   File \"c:\\Users\\paul-\\anaconda3\\envs\\py311\\Lib\\site-packages\\torch\\_dynamo\\symbolic_convert.py\", line 1246, in step\n",
            "W0424 10:03:36.387000 21172 site-packages\\torch\\_dynamo\\convert_frame.py:1280]     self.dispatch_table[inst.opcode](self, inst)\n",
            "W0424 10:03:36.387000 21172 site-packages\\torch\\_dynamo\\convert_frame.py:1280]   File \"c:\\Users\\paul-\\anaconda3\\envs\\py311\\Lib\\site-packages\\torch\\_dynamo\\symbolic_convert.py\", line 3701, in RETURN_VALUE\n",
            "W0424 10:03:36.387000 21172 site-packages\\torch\\_dynamo\\convert_frame.py:1280]     self._return(inst)\n",
            "W0424 10:03:36.387000 21172 site-packages\\torch\\_dynamo\\convert_frame.py:1280]   File \"c:\\Users\\paul-\\anaconda3\\envs\\py311\\Lib\\site-packages\\torch\\_dynamo\\symbolic_convert.py\", line 3686, in _return\n",
            "W0424 10:03:36.387000 21172 site-packages\\torch\\_dynamo\\convert_frame.py:1280]     self.output.compile_subgraph(\n",
            "W0424 10:03:36.387000 21172 site-packages\\torch\\_dynamo\\convert_frame.py:1280]   File \"c:\\Users\\paul-\\anaconda3\\envs\\py311\\Lib\\site-packages\\torch\\_dynamo\\output_graph.py\", line 1179, in compile_subgraph\n",
            "W0424 10:03:36.387000 21172 site-packages\\torch\\_dynamo\\convert_frame.py:1280]     self.compile_and_call_fx_graph(\n",
            "W0424 10:03:36.387000 21172 site-packages\\torch\\_dynamo\\convert_frame.py:1280]   File \"c:\\Users\\paul-\\anaconda3\\envs\\py311\\Lib\\site-packages\\torch\\_dynamo\\output_graph.py\", line 1437, in compile_and_call_fx_graph\n",
            "W0424 10:03:36.387000 21172 site-packages\\torch\\_dynamo\\convert_frame.py:1280]     compiled_fn = self.call_user_compiler(gm)\n",
            "W0424 10:03:36.387000 21172 site-packages\\torch\\_dynamo\\convert_frame.py:1280]                   ^^^^^^^^^^^^^^^^^^^^^^^^^^^\n",
            "W0424 10:03:36.387000 21172 site-packages\\torch\\_dynamo\\convert_frame.py:1280]   File \"c:\\Users\\paul-\\anaconda3\\envs\\py311\\Lib\\site-packages\\torch\\_dynamo\\output_graph.py\", line 1487, in call_user_compiler\n",
            "W0424 10:03:36.387000 21172 site-packages\\torch\\_dynamo\\convert_frame.py:1280]     return self._call_user_compiler(gm)\n",
            "W0424 10:03:36.387000 21172 site-packages\\torch\\_dynamo\\convert_frame.py:1280]            ^^^^^^^^^^^^^^^^^^^^^^^^^^^^\n",
            "W0424 10:03:36.387000 21172 site-packages\\torch\\_dynamo\\convert_frame.py:1280]   File \"c:\\Users\\paul-\\anaconda3\\envs\\py311\\Lib\\site-packages\\torch\\_dynamo\\output_graph.py\", line 1519, in _call_user_compiler\n",
            "W0424 10:03:36.387000 21172 site-packages\\torch\\_dynamo\\convert_frame.py:1280]     compiled_fn = compiler_fn(gm, self.example_inputs())\n",
            "W0424 10:03:36.387000 21172 site-packages\\torch\\_dynamo\\convert_frame.py:1280]                   ^^^^^^^^^^^^^^^^^^^^^^^^^^^^^^^^^^^^^^\n",
            "W0424 10:03:36.387000 21172 site-packages\\torch\\_dynamo\\convert_frame.py:1280]   File \"c:\\Users\\paul-\\anaconda3\\envs\\py311\\Lib\\site-packages\\torch\\_dynamo\\repro\\after_dynamo.py\", line 150, in __call__\n",
            "W0424 10:03:36.387000 21172 site-packages\\torch\\_dynamo\\convert_frame.py:1280]     compiled_gm = compiler_fn(gm, example_inputs)\n",
            "W0424 10:03:36.387000 21172 site-packages\\torch\\_dynamo\\convert_frame.py:1280]                   ^^^^^^^^^^^^^^^^^^^^^^^^^^^^^^^\n",
            "W0424 10:03:36.387000 21172 site-packages\\torch\\_dynamo\\convert_frame.py:1280]   File \"c:\\Users\\paul-\\anaconda3\\envs\\py311\\Lib\\site-packages\\torch\\__init__.py\", line 2347, in __call__\n",
            "W0424 10:03:36.387000 21172 site-packages\\torch\\_dynamo\\convert_frame.py:1280]     return compile_fx(model_, inputs_, config_patches=self.config)\n",
            "W0424 10:03:36.387000 21172 site-packages\\torch\\_dynamo\\convert_frame.py:1280]            ^^^^^^^^^^^^^^^^^^^^^^^^^^^^^^^^^^^^^^^^^^^^^^^^^^^^^^^\n",
            "W0424 10:03:36.387000 21172 site-packages\\torch\\_dynamo\\convert_frame.py:1280]   File \"c:\\Users\\paul-\\anaconda3\\envs\\py311\\Lib\\site-packages\\torch\\_inductor\\compile_fx.py\", line 2101, in compile_fx\n",
            "W0424 10:03:36.387000 21172 site-packages\\torch\\_dynamo\\convert_frame.py:1280]     raise e.remove_dynamo_frames() from None  # see TORCHDYNAMO_VERBOSE=1\n",
            "W0424 10:03:36.387000 21172 site-packages\\torch\\_dynamo\\convert_frame.py:1280]     ^^^^^^^^^^^^^^^^^^^^^^^^^^^^^^^^^^^^^^^^\n",
            "W0424 10:03:36.387000 21172 site-packages\\torch\\_dynamo\\convert_frame.py:1280]   File \"c:\\Users\\paul-\\anaconda3\\envs\\py311\\Lib\\site-packages\\torch\\_inductor\\compile_fx.py\", line 760, in _compile_fx_inner\n",
            "W0424 10:03:36.387000 21172 site-packages\\torch\\_dynamo\\convert_frame.py:1280]     raise InductorError(e, currentframe()).with_traceback(\n",
            "W0424 10:03:36.387000 21172 site-packages\\torch\\_dynamo\\convert_frame.py:1280]   File \"c:\\Users\\paul-\\anaconda3\\envs\\py311\\Lib\\site-packages\\torch\\_inductor\\compile_fx.py\", line 745, in _compile_fx_inner\n",
            "W0424 10:03:36.387000 21172 site-packages\\torch\\_dynamo\\convert_frame.py:1280]     mb_compiled_graph = fx_codegen_and_compile(\n",
            "W0424 10:03:36.387000 21172 site-packages\\torch\\_dynamo\\convert_frame.py:1280]                         ^^^^^^^^^^^^^^^^^^^^^^^\n",
            "W0424 10:03:36.387000 21172 site-packages\\torch\\_dynamo\\convert_frame.py:1280]   File \"c:\\Users\\paul-\\anaconda3\\envs\\py311\\Lib\\site-packages\\torch\\_inductor\\compile_fx.py\", line 1295, in fx_codegen_and_compile\n",
            "W0424 10:03:36.387000 21172 site-packages\\torch\\_dynamo\\convert_frame.py:1280]     return scheme.codegen_and_compile(gm, example_inputs, inputs_to_check, graph_kwargs)\n",
            "W0424 10:03:36.387000 21172 site-packages\\torch\\_dynamo\\convert_frame.py:1280]            ^^^^^^^^^^^^^^^^^^^^^^^^^^^^^^^^^^^^^^^^^^^^^^^^^^^^^^^^^^^^^^^^^^^^^^^^^^^^^\n",
            "W0424 10:03:36.387000 21172 site-packages\\torch\\_dynamo\\convert_frame.py:1280]   File \"c:\\Users\\paul-\\anaconda3\\envs\\py311\\Lib\\site-packages\\torch\\_inductor\\compile_fx.py\", line 1197, in codegen_and_compile\n",
            "W0424 10:03:36.387000 21172 site-packages\\torch\\_dynamo\\convert_frame.py:1280]     compiled_fn = graph.compile_to_module().call\n",
            "W0424 10:03:36.387000 21172 site-packages\\torch\\_dynamo\\convert_frame.py:1280]                   ^^^^^^^^^^^^^^^^^^^^^^^^^\n",
            "W0424 10:03:36.387000 21172 site-packages\\torch\\_dynamo\\convert_frame.py:1280]   File \"c:\\Users\\paul-\\anaconda3\\envs\\py311\\Lib\\site-packages\\torch\\_inductor\\graph.py\", line 2083, in compile_to_module\n",
            "W0424 10:03:36.387000 21172 site-packages\\torch\\_dynamo\\convert_frame.py:1280]     return self._compile_to_module()\n",
            "W0424 10:03:36.387000 21172 site-packages\\torch\\_dynamo\\convert_frame.py:1280]            ^^^^^^^^^^^^^^^^^^^^^^^^^\n",
            "W0424 10:03:36.387000 21172 site-packages\\torch\\_dynamo\\convert_frame.py:1280]   File \"c:\\Users\\paul-\\anaconda3\\envs\\py311\\Lib\\site-packages\\torch\\_inductor\\graph.py\", line 2091, in _compile_to_module\n",
            "W0424 10:03:36.387000 21172 site-packages\\torch\\_dynamo\\convert_frame.py:1280]     self.codegen_with_cpp_wrapper() if self.cpp_wrapper else self.codegen()\n",
            "W0424 10:03:36.387000 21172 site-packages\\torch\\_dynamo\\convert_frame.py:1280]                                                              ^^^^^^^^^^^^^^\n",
            "W0424 10:03:36.387000 21172 site-packages\\torch\\_dynamo\\convert_frame.py:1280]   File \"c:\\Users\\paul-\\anaconda3\\envs\\py311\\Lib\\site-packages\\torch\\_inductor\\graph.py\", line 2002, in codegen\n",
            "W0424 10:03:36.387000 21172 site-packages\\torch\\_dynamo\\convert_frame.py:1280]     self.scheduler.codegen()\n",
            "W0424 10:03:36.387000 21172 site-packages\\torch\\_dynamo\\convert_frame.py:1280]   File \"c:\\Users\\paul-\\anaconda3\\envs\\py311\\Lib\\site-packages\\torch\\_inductor\\scheduler.py\", line 4135, in codegen\n",
            "W0424 10:03:36.387000 21172 site-packages\\torch\\_dynamo\\convert_frame.py:1280]     else self._codegen(self.nodes)\n",
            "W0424 10:03:36.387000 21172 site-packages\\torch\\_dynamo\\convert_frame.py:1280]          ^^^^^^^^^^^^^^^^^^^^^^^^^\n",
            "W0424 10:03:36.387000 21172 site-packages\\torch\\_dynamo\\convert_frame.py:1280]   File \"c:\\Users\\paul-\\anaconda3\\envs\\py311\\Lib\\site-packages\\torch\\_inductor\\scheduler.py\", line 4264, in _codegen\n",
            "W0424 10:03:36.387000 21172 site-packages\\torch\\_dynamo\\convert_frame.py:1280]     self.get_backend(device).codegen_node(node)\n",
            "W0424 10:03:36.387000 21172 site-packages\\torch\\_dynamo\\convert_frame.py:1280]   File \"c:\\Users\\paul-\\anaconda3\\envs\\py311\\Lib\\site-packages\\torch\\_inductor\\codegen\\cpp.py\", line 4986, in codegen_node\n",
            "W0424 10:03:36.387000 21172 site-packages\\torch\\_dynamo\\convert_frame.py:1280]     cpp_kernel_proxy = CppKernelProxy(kernel_group)\n",
            "W0424 10:03:36.387000 21172 site-packages\\torch\\_dynamo\\convert_frame.py:1280]                        ^^^^^^^^^^^^^^^^^^^^^^^^^^^^\n",
            "W0424 10:03:36.387000 21172 site-packages\\torch\\_dynamo\\convert_frame.py:1280]   File \"c:\\Users\\paul-\\anaconda3\\envs\\py311\\Lib\\site-packages\\torch\\_inductor\\codegen\\cpp.py\", line 3734, in __init__\n",
            "W0424 10:03:36.387000 21172 site-packages\\torch\\_dynamo\\convert_frame.py:1280]     self.picked_vec_isa: cpu_vec_isa.VecISA = cpu_vec_isa.pick_vec_isa()\n",
            "W0424 10:03:36.387000 21172 site-packages\\torch\\_dynamo\\convert_frame.py:1280]                                               ^^^^^^^^^^^^^^^^^^^^^^^^^^\n",
            "W0424 10:03:36.387000 21172 site-packages\\torch\\_dynamo\\convert_frame.py:1280]   File \"c:\\Users\\paul-\\anaconda3\\envs\\py311\\Lib\\site-packages\\torch\\_inductor\\cpu_vec_isa.py\", line 418, in pick_vec_isa\n",
            "W0424 10:03:36.387000 21172 site-packages\\torch\\_dynamo\\convert_frame.py:1280]     _valid_vec_isa_list: list[VecISA] = valid_vec_isa_list()\n",
            "W0424 10:03:36.387000 21172 site-packages\\torch\\_dynamo\\convert_frame.py:1280]                                         ^^^^^^^^^^^^^^^^^^^^\n",
            "W0424 10:03:36.387000 21172 site-packages\\torch\\_dynamo\\convert_frame.py:1280]   File \"c:\\Users\\paul-\\anaconda3\\envs\\py311\\Lib\\site-packages\\torch\\_inductor\\cpu_vec_isa.py\", line 405, in valid_vec_isa_list\n",
            "W0424 10:03:36.387000 21172 site-packages\\torch\\_dynamo\\convert_frame.py:1280]     isa_list.extend(\n",
            "W0424 10:03:36.387000 21172 site-packages\\torch\\_dynamo\\convert_frame.py:1280]   File \"c:\\Users\\paul-\\anaconda3\\envs\\py311\\Lib\\site-packages\\torch\\_inductor\\cpu_vec_isa.py\", line 405, in <genexpr>\n",
            "W0424 10:03:36.387000 21172 site-packages\\torch\\_dynamo\\convert_frame.py:1280]     isa_list.extend(\n",
            "W0424 10:03:36.387000 21172 site-packages\\torch\\_dynamo\\convert_frame.py:1280]                    ^\n",
            "W0424 10:03:36.387000 21172 site-packages\\torch\\_dynamo\\convert_frame.py:1280]   File \"c:\\Users\\paul-\\anaconda3\\envs\\py311\\Lib\\site-packages\\torch\\_inductor\\cpu_vec_isa.py\", line 142, in __bool__\n",
            "W0424 10:03:36.387000 21172 site-packages\\torch\\_dynamo\\convert_frame.py:1280]     return self.__bool__impl(config.cpp.vec_isa_ok)\n",
            "W0424 10:03:36.387000 21172 site-packages\\torch\\_dynamo\\convert_frame.py:1280]            ^^^^^^^^^^^^^^^^^^^^^^^^^^^^^^^^^^^^^^^^\n",
            "W0424 10:03:36.387000 21172 site-packages\\torch\\_dynamo\\convert_frame.py:1280]   File \"c:\\Users\\paul-\\anaconda3\\envs\\py311\\Lib\\site-packages\\torch\\_inductor\\cpu_vec_isa.py\", line 152, in __bool__impl\n",
            "W0424 10:03:36.387000 21172 site-packages\\torch\\_dynamo\\convert_frame.py:1280]     return self.check_build(VecISA._avx_code)\n",
            "W0424 10:03:36.387000 21172 site-packages\\torch\\_dynamo\\convert_frame.py:1280]            ^^^^^^^^^^^^^^^^^^^^^^^^^^^^^^^^^^\n",
            "W0424 10:03:36.387000 21172 site-packages\\torch\\_dynamo\\convert_frame.py:1280]   File \"c:\\Users\\paul-\\anaconda3\\envs\\py311\\Lib\\site-packages\\torch\\_inductor\\cpu_vec_isa.py\", line 102, in check_build\n",
            "W0424 10:03:36.387000 21172 site-packages\\torch\\_dynamo\\convert_frame.py:1280]     extra=_get_isa_dry_compile_fingerprint(self._arch_flags),\n",
            "W0424 10:03:36.387000 21172 site-packages\\torch\\_dynamo\\convert_frame.py:1280]           ^^^^^^^^^^^^^^^^^^^^^^^^^^^^^^^^^^^^^^^^^^^^^^^^^^\n",
            "W0424 10:03:36.387000 21172 site-packages\\torch\\_dynamo\\convert_frame.py:1280]   File \"c:\\Users\\paul-\\anaconda3\\envs\\py311\\Lib\\site-packages\\torch\\_inductor\\cpu_vec_isa.py\", line 28, in _get_isa_dry_compile_fingerprint\n",
            "W0424 10:03:36.387000 21172 site-packages\\torch\\_dynamo\\convert_frame.py:1280]     compiler_info = get_compiler_version_info(get_cpp_compiler())\n",
            "W0424 10:03:36.387000 21172 site-packages\\torch\\_dynamo\\convert_frame.py:1280]                                               ^^^^^^^^^^^^^^^^^^\n",
            "W0424 10:03:36.387000 21172 site-packages\\torch\\_dynamo\\convert_frame.py:1280]   File \"c:\\Users\\paul-\\anaconda3\\envs\\py311\\Lib\\site-packages\\torch\\_inductor\\cpp_builder.py\", line 148, in get_cpp_compiler\n",
            "W0424 10:03:36.387000 21172 site-packages\\torch\\_dynamo\\convert_frame.py:1280]     check_compiler_exist_windows(compiler)\n",
            "W0424 10:03:36.387000 21172 site-packages\\torch\\_dynamo\\convert_frame.py:1280]   File \"c:\\Users\\paul-\\anaconda3\\envs\\py311\\Lib\\site-packages\\torch\\_inductor\\cpp_builder.py\", line 139, in check_compiler_exist_windows\n",
            "W0424 10:03:36.387000 21172 site-packages\\torch\\_dynamo\\convert_frame.py:1280]     raise RuntimeError(f\"Compiler: {compiler} is not found.\") from exc\n",
            "W0424 10:03:36.387000 21172 site-packages\\torch\\_dynamo\\convert_frame.py:1280] torch._inductor.exc.InductorError: RuntimeError: Compiler: cl is not found.\n",
            "W0424 10:03:36.387000 21172 site-packages\\torch\\_dynamo\\convert_frame.py:1280] \n",
            "W0424 10:03:36.387000 21172 site-packages\\torch\\_dynamo\\convert_frame.py:1280] Set TORCHDYNAMO_VERBOSE=1 for the internal stack trace (please do this especially if you're reporting a bug to PyTorch). For even more developer context, set TORCH_LOGS=\"+dynamo\"\n",
            "W0424 10:03:36.387000 21172 site-packages\\torch\\_dynamo\\convert_frame.py:1280] \n",
            "W0424 10:03:40.057000 21172 site-packages\\torch\\_dynamo\\convert_frame.py:1280] WON'T CONVERT forward c:\\Users\\paul-\\anaconda3\\envs\\py311\\Lib\\site-packages\\transformers\\models\\bert\\modeling_bert.py line 465 \n",
            "W0424 10:03:40.057000 21172 site-packages\\torch\\_dynamo\\convert_frame.py:1280] due to: \n",
            "W0424 10:03:40.057000 21172 site-packages\\torch\\_dynamo\\convert_frame.py:1280] Traceback (most recent call last):\n",
            "W0424 10:03:40.057000 21172 site-packages\\torch\\_dynamo\\convert_frame.py:1280]   File \"c:\\Users\\paul-\\anaconda3\\envs\\py311\\Lib\\site-packages\\torch\\_dynamo\\convert_frame.py\", line 1213, in __call__\n",
            "W0424 10:03:40.057000 21172 site-packages\\torch\\_dynamo\\convert_frame.py:1280]     result = self._inner_convert(\n",
            "W0424 10:03:40.057000 21172 site-packages\\torch\\_dynamo\\convert_frame.py:1280]              ^^^^^^^^^^^^^^^^^^^^\n",
            "W0424 10:03:40.057000 21172 site-packages\\torch\\_dynamo\\convert_frame.py:1280]   File \"c:\\Users\\paul-\\anaconda3\\envs\\py311\\Lib\\site-packages\\torch\\_dynamo\\convert_frame.py\", line 598, in __call__\n",
            "W0424 10:03:40.057000 21172 site-packages\\torch\\_dynamo\\convert_frame.py:1280]     return _compile(\n",
            "W0424 10:03:40.057000 21172 site-packages\\torch\\_dynamo\\convert_frame.py:1280]            ^^^^^^^^^\n",
            "W0424 10:03:40.057000 21172 site-packages\\torch\\_dynamo\\convert_frame.py:1280]   File \"c:\\Users\\paul-\\anaconda3\\envs\\py311\\Lib\\site-packages\\torch\\_dynamo\\convert_frame.py\", line 1059, in _compile\n",
            "W0424 10:03:40.057000 21172 site-packages\\torch\\_dynamo\\convert_frame.py:1280]     guarded_code = compile_inner(code, one_graph, hooks, transform)\n",
            "W0424 10:03:40.057000 21172 site-packages\\torch\\_dynamo\\convert_frame.py:1280]                    ^^^^^^^^^^^^^^^^^^^^^^^^^^^^^^^^^^^^^^^^^^^^^^^^\n",
            "W0424 10:03:40.057000 21172 site-packages\\torch\\_dynamo\\convert_frame.py:1280]   File \"c:\\Users\\paul-\\anaconda3\\envs\\py311\\Lib\\site-packages\\torch\\_utils_internal.py\", line 97, in wrapper_function\n",
            "W0424 10:03:40.057000 21172 site-packages\\torch\\_dynamo\\convert_frame.py:1280]     return function(*args, **kwargs)\n",
            "W0424 10:03:40.057000 21172 site-packages\\torch\\_dynamo\\convert_frame.py:1280]            ^^^^^^^^^^^^^^^^^^^^^^^^^\n",
            "W0424 10:03:40.057000 21172 site-packages\\torch\\_dynamo\\convert_frame.py:1280]   File \"c:\\Users\\paul-\\anaconda3\\envs\\py311\\Lib\\site-packages\\torch\\_dynamo\\convert_frame.py\", line 761, in compile_inner\n",
            "W0424 10:03:40.057000 21172 site-packages\\torch\\_dynamo\\convert_frame.py:1280]     return _compile_inner(code, one_graph, hooks, transform)\n",
            "W0424 10:03:40.057000 21172 site-packages\\torch\\_dynamo\\convert_frame.py:1280]            ^^^^^^^^^^^^^^^^^^^^^^^^^^^^^^^^^^^^^^^^^^^^^^^^^\n",
            "W0424 10:03:40.057000 21172 site-packages\\torch\\_dynamo\\convert_frame.py:1280]   File \"c:\\Users\\paul-\\anaconda3\\envs\\py311\\Lib\\site-packages\\torch\\_dynamo\\convert_frame.py\", line 797, in _compile_inner\n",
            "W0424 10:03:40.057000 21172 site-packages\\torch\\_dynamo\\convert_frame.py:1280]     out_code = transform_code_object(code, transform)\n",
            "W0424 10:03:40.057000 21172 site-packages\\torch\\_dynamo\\convert_frame.py:1280]                ^^^^^^^^^^^^^^^^^^^^^^^^^^^^^^^^^^^^^^\n",
            "W0424 10:03:40.057000 21172 site-packages\\torch\\_dynamo\\convert_frame.py:1280]   File \"c:\\Users\\paul-\\anaconda3\\envs\\py311\\Lib\\site-packages\\torch\\_dynamo\\bytecode_transformation.py\", line 1422, in transform_code_object\n",
            "W0424 10:03:40.057000 21172 site-packages\\torch\\_dynamo\\convert_frame.py:1280]     transformations(instructions, code_options)\n",
            "W0424 10:03:40.057000 21172 site-packages\\torch\\_dynamo\\convert_frame.py:1280]   File \"c:\\Users\\paul-\\anaconda3\\envs\\py311\\Lib\\site-packages\\torch\\_dynamo\\convert_frame.py\", line 257, in _fn\n",
            "W0424 10:03:40.057000 21172 site-packages\\torch\\_dynamo\\convert_frame.py:1280]     return fn(*args, **kwargs)\n",
            "W0424 10:03:40.057000 21172 site-packages\\torch\\_dynamo\\convert_frame.py:1280]            ^^^^^^^^^^^^^^^^^^^\n",
            "W0424 10:03:40.057000 21172 site-packages\\torch\\_dynamo\\convert_frame.py:1280]   File \"c:\\Users\\paul-\\anaconda3\\envs\\py311\\Lib\\site-packages\\torch\\_dynamo\\convert_frame.py\", line 715, in transform\n",
            "W0424 10:03:40.057000 21172 site-packages\\torch\\_dynamo\\convert_frame.py:1280]     tracer.run()\n",
            "W0424 10:03:40.057000 21172 site-packages\\torch\\_dynamo\\convert_frame.py:1280]   File \"c:\\Users\\paul-\\anaconda3\\envs\\py311\\Lib\\site-packages\\torch\\_dynamo\\symbolic_convert.py\", line 3500, in run\n",
            "W0424 10:03:40.057000 21172 site-packages\\torch\\_dynamo\\convert_frame.py:1280]     super().run()\n",
            "W0424 10:03:40.057000 21172 site-packages\\torch\\_dynamo\\convert_frame.py:1280]   File \"c:\\Users\\paul-\\anaconda3\\envs\\py311\\Lib\\site-packages\\torch\\_dynamo\\symbolic_convert.py\", line 1337, in run\n",
            "W0424 10:03:40.057000 21172 site-packages\\torch\\_dynamo\\convert_frame.py:1280]     while self.step():\n",
            "W0424 10:03:40.057000 21172 site-packages\\torch\\_dynamo\\convert_frame.py:1280]           ^^^^^^^^^^^\n",
            "W0424 10:03:40.057000 21172 site-packages\\torch\\_dynamo\\convert_frame.py:1280]   File \"c:\\Users\\paul-\\anaconda3\\envs\\py311\\Lib\\site-packages\\torch\\_dynamo\\symbolic_convert.py\", line 1246, in step\n",
            "W0424 10:03:40.057000 21172 site-packages\\torch\\_dynamo\\convert_frame.py:1280]     self.dispatch_table[inst.opcode](self, inst)\n",
            "W0424 10:03:40.057000 21172 site-packages\\torch\\_dynamo\\convert_frame.py:1280]   File \"c:\\Users\\paul-\\anaconda3\\envs\\py311\\Lib\\site-packages\\torch\\_dynamo\\symbolic_convert.py\", line 3701, in RETURN_VALUE\n",
            "W0424 10:03:40.057000 21172 site-packages\\torch\\_dynamo\\convert_frame.py:1280]     self._return(inst)\n",
            "W0424 10:03:40.057000 21172 site-packages\\torch\\_dynamo\\convert_frame.py:1280]   File \"c:\\Users\\paul-\\anaconda3\\envs\\py311\\Lib\\site-packages\\torch\\_dynamo\\symbolic_convert.py\", line 3686, in _return\n",
            "W0424 10:03:40.057000 21172 site-packages\\torch\\_dynamo\\convert_frame.py:1280]     self.output.compile_subgraph(\n",
            "W0424 10:03:40.057000 21172 site-packages\\torch\\_dynamo\\convert_frame.py:1280]   File \"c:\\Users\\paul-\\anaconda3\\envs\\py311\\Lib\\site-packages\\torch\\_dynamo\\output_graph.py\", line 1144, in compile_subgraph\n",
            "W0424 10:03:40.057000 21172 site-packages\\torch\\_dynamo\\convert_frame.py:1280]     self.compile_and_call_fx_graph(\n",
            "W0424 10:03:40.057000 21172 site-packages\\torch\\_dynamo\\convert_frame.py:1280]   File \"c:\\Users\\paul-\\anaconda3\\envs\\py311\\Lib\\site-packages\\torch\\_dynamo\\output_graph.py\", line 1437, in compile_and_call_fx_graph\n",
            "W0424 10:03:40.057000 21172 site-packages\\torch\\_dynamo\\convert_frame.py:1280]     compiled_fn = self.call_user_compiler(gm)\n",
            "W0424 10:03:40.057000 21172 site-packages\\torch\\_dynamo\\convert_frame.py:1280]                   ^^^^^^^^^^^^^^^^^^^^^^^^^^^\n",
            "W0424 10:03:40.057000 21172 site-packages\\torch\\_dynamo\\convert_frame.py:1280]   File \"c:\\Users\\paul-\\anaconda3\\envs\\py311\\Lib\\site-packages\\torch\\_dynamo\\output_graph.py\", line 1487, in call_user_compiler\n",
            "W0424 10:03:40.057000 21172 site-packages\\torch\\_dynamo\\convert_frame.py:1280]     return self._call_user_compiler(gm)\n",
            "W0424 10:03:40.057000 21172 site-packages\\torch\\_dynamo\\convert_frame.py:1280]            ^^^^^^^^^^^^^^^^^^^^^^^^^^^^\n",
            "W0424 10:03:40.057000 21172 site-packages\\torch\\_dynamo\\convert_frame.py:1280]   File \"c:\\Users\\paul-\\anaconda3\\envs\\py311\\Lib\\site-packages\\torch\\_dynamo\\output_graph.py\", line 1519, in _call_user_compiler\n",
            "W0424 10:03:40.057000 21172 site-packages\\torch\\_dynamo\\convert_frame.py:1280]     compiled_fn = compiler_fn(gm, self.example_inputs())\n",
            "W0424 10:03:40.057000 21172 site-packages\\torch\\_dynamo\\convert_frame.py:1280]                   ^^^^^^^^^^^^^^^^^^^^^^^^^^^^^^^^^^^^^^\n",
            "W0424 10:03:40.057000 21172 site-packages\\torch\\_dynamo\\convert_frame.py:1280]   File \"c:\\Users\\paul-\\anaconda3\\envs\\py311\\Lib\\site-packages\\torch\\_dynamo\\repro\\after_dynamo.py\", line 150, in __call__\n",
            "W0424 10:03:40.057000 21172 site-packages\\torch\\_dynamo\\convert_frame.py:1280]     compiled_gm = compiler_fn(gm, example_inputs)\n",
            "W0424 10:03:40.057000 21172 site-packages\\torch\\_dynamo\\convert_frame.py:1280]                   ^^^^^^^^^^^^^^^^^^^^^^^^^^^^^^^\n",
            "W0424 10:03:40.057000 21172 site-packages\\torch\\_dynamo\\convert_frame.py:1280]   File \"c:\\Users\\paul-\\anaconda3\\envs\\py311\\Lib\\site-packages\\torch\\__init__.py\", line 2347, in __call__\n",
            "W0424 10:03:40.057000 21172 site-packages\\torch\\_dynamo\\convert_frame.py:1280]     return compile_fx(model_, inputs_, config_patches=self.config)\n",
            "W0424 10:03:40.057000 21172 site-packages\\torch\\_dynamo\\convert_frame.py:1280]            ^^^^^^^^^^^^^^^^^^^^^^^^^^^^^^^^^^^^^^^^^^^^^^^^^^^^^^^\n",
            "W0424 10:03:40.057000 21172 site-packages\\torch\\_dynamo\\convert_frame.py:1280]   File \"c:\\Users\\paul-\\anaconda3\\envs\\py311\\Lib\\site-packages\\torch\\_inductor\\compile_fx.py\", line 2101, in compile_fx\n",
            "W0424 10:03:40.057000 21172 site-packages\\torch\\_dynamo\\convert_frame.py:1280]     raise e.remove_dynamo_frames() from None  # see TORCHDYNAMO_VERBOSE=1\n",
            "W0424 10:03:40.057000 21172 site-packages\\torch\\_dynamo\\convert_frame.py:1280]     ^^^^^^^^^^^^^^^^^^^^^^^^^^^^^^^^^^^^^^^^\n",
            "W0424 10:03:40.057000 21172 site-packages\\torch\\_dynamo\\convert_frame.py:1280]   File \"c:\\Users\\paul-\\anaconda3\\envs\\py311\\Lib\\site-packages\\torch\\_inductor\\compile_fx.py\", line 760, in _compile_fx_inner\n",
            "W0424 10:03:40.057000 21172 site-packages\\torch\\_dynamo\\convert_frame.py:1280]     raise InductorError(e, currentframe()).with_traceback(\n",
            "W0424 10:03:40.057000 21172 site-packages\\torch\\_dynamo\\convert_frame.py:1280]   File \"c:\\Users\\paul-\\anaconda3\\envs\\py311\\Lib\\site-packages\\torch\\_inductor\\compile_fx.py\", line 745, in _compile_fx_inner\n",
            "W0424 10:03:40.057000 21172 site-packages\\torch\\_dynamo\\convert_frame.py:1280]     mb_compiled_graph = fx_codegen_and_compile(\n",
            "W0424 10:03:40.057000 21172 site-packages\\torch\\_dynamo\\convert_frame.py:1280]                         ^^^^^^^^^^^^^^^^^^^^^^^\n",
            "W0424 10:03:40.057000 21172 site-packages\\torch\\_dynamo\\convert_frame.py:1280]   File \"c:\\Users\\paul-\\anaconda3\\envs\\py311\\Lib\\site-packages\\torch\\_inductor\\compile_fx.py\", line 1295, in fx_codegen_and_compile\n",
            "W0424 10:03:40.057000 21172 site-packages\\torch\\_dynamo\\convert_frame.py:1280]     return scheme.codegen_and_compile(gm, example_inputs, inputs_to_check, graph_kwargs)\n",
            "W0424 10:03:40.057000 21172 site-packages\\torch\\_dynamo\\convert_frame.py:1280]            ^^^^^^^^^^^^^^^^^^^^^^^^^^^^^^^^^^^^^^^^^^^^^^^^^^^^^^^^^^^^^^^^^^^^^^^^^^^^^\n",
            "W0424 10:03:40.057000 21172 site-packages\\torch\\_dynamo\\convert_frame.py:1280]   File \"c:\\Users\\paul-\\anaconda3\\envs\\py311\\Lib\\site-packages\\torch\\_inductor\\compile_fx.py\", line 1197, in codegen_and_compile\n",
            "W0424 10:03:40.057000 21172 site-packages\\torch\\_dynamo\\convert_frame.py:1280]     compiled_fn = graph.compile_to_module().call\n",
            "W0424 10:03:40.057000 21172 site-packages\\torch\\_dynamo\\convert_frame.py:1280]                   ^^^^^^^^^^^^^^^^^^^^^^^^^\n",
            "W0424 10:03:40.057000 21172 site-packages\\torch\\_dynamo\\convert_frame.py:1280]   File \"c:\\Users\\paul-\\anaconda3\\envs\\py311\\Lib\\site-packages\\torch\\_inductor\\graph.py\", line 2083, in compile_to_module\n",
            "W0424 10:03:40.057000 21172 site-packages\\torch\\_dynamo\\convert_frame.py:1280]     return self._compile_to_module()\n",
            "W0424 10:03:40.057000 21172 site-packages\\torch\\_dynamo\\convert_frame.py:1280]            ^^^^^^^^^^^^^^^^^^^^^^^^^\n",
            "W0424 10:03:40.057000 21172 site-packages\\torch\\_dynamo\\convert_frame.py:1280]   File \"c:\\Users\\paul-\\anaconda3\\envs\\py311\\Lib\\site-packages\\torch\\_inductor\\graph.py\", line 2091, in _compile_to_module\n",
            "W0424 10:03:40.057000 21172 site-packages\\torch\\_dynamo\\convert_frame.py:1280]     self.codegen_with_cpp_wrapper() if self.cpp_wrapper else self.codegen()\n",
            "W0424 10:03:40.057000 21172 site-packages\\torch\\_dynamo\\convert_frame.py:1280]                                                              ^^^^^^^^^^^^^^\n",
            "W0424 10:03:40.057000 21172 site-packages\\torch\\_dynamo\\convert_frame.py:1280]   File \"c:\\Users\\paul-\\anaconda3\\envs\\py311\\Lib\\site-packages\\torch\\_inductor\\graph.py\", line 2002, in codegen\n",
            "W0424 10:03:40.057000 21172 site-packages\\torch\\_dynamo\\convert_frame.py:1280]     self.scheduler.codegen()\n",
            "W0424 10:03:40.057000 21172 site-packages\\torch\\_dynamo\\convert_frame.py:1280]   File \"c:\\Users\\paul-\\anaconda3\\envs\\py311\\Lib\\site-packages\\torch\\_inductor\\scheduler.py\", line 4135, in codegen\n",
            "W0424 10:03:40.057000 21172 site-packages\\torch\\_dynamo\\convert_frame.py:1280]     else self._codegen(self.nodes)\n",
            "W0424 10:03:40.057000 21172 site-packages\\torch\\_dynamo\\convert_frame.py:1280]          ^^^^^^^^^^^^^^^^^^^^^^^^^\n",
            "W0424 10:03:40.057000 21172 site-packages\\torch\\_dynamo\\convert_frame.py:1280]   File \"c:\\Users\\paul-\\anaconda3\\envs\\py311\\Lib\\site-packages\\torch\\_inductor\\scheduler.py\", line 4264, in _codegen\n",
            "W0424 10:03:40.057000 21172 site-packages\\torch\\_dynamo\\convert_frame.py:1280]     self.get_backend(device).codegen_node(node)\n",
            "W0424 10:03:40.057000 21172 site-packages\\torch\\_dynamo\\convert_frame.py:1280]   File \"c:\\Users\\paul-\\anaconda3\\envs\\py311\\Lib\\site-packages\\torch\\_inductor\\codegen\\cpp.py\", line 4986, in codegen_node\n",
            "W0424 10:03:40.057000 21172 site-packages\\torch\\_dynamo\\convert_frame.py:1280]     cpp_kernel_proxy = CppKernelProxy(kernel_group)\n",
            "W0424 10:03:40.057000 21172 site-packages\\torch\\_dynamo\\convert_frame.py:1280]                        ^^^^^^^^^^^^^^^^^^^^^^^^^^^^\n",
            "W0424 10:03:40.057000 21172 site-packages\\torch\\_dynamo\\convert_frame.py:1280]   File \"c:\\Users\\paul-\\anaconda3\\envs\\py311\\Lib\\site-packages\\torch\\_inductor\\codegen\\cpp.py\", line 3734, in __init__\n",
            "W0424 10:03:40.057000 21172 site-packages\\torch\\_dynamo\\convert_frame.py:1280]     self.picked_vec_isa: cpu_vec_isa.VecISA = cpu_vec_isa.pick_vec_isa()\n",
            "W0424 10:03:40.057000 21172 site-packages\\torch\\_dynamo\\convert_frame.py:1280]                                               ^^^^^^^^^^^^^^^^^^^^^^^^^^\n",
            "W0424 10:03:40.057000 21172 site-packages\\torch\\_dynamo\\convert_frame.py:1280]   File \"c:\\Users\\paul-\\anaconda3\\envs\\py311\\Lib\\site-packages\\torch\\_inductor\\cpu_vec_isa.py\", line 418, in pick_vec_isa\n",
            "W0424 10:03:40.057000 21172 site-packages\\torch\\_dynamo\\convert_frame.py:1280]     _valid_vec_isa_list: list[VecISA] = valid_vec_isa_list()\n",
            "W0424 10:03:40.057000 21172 site-packages\\torch\\_dynamo\\convert_frame.py:1280]                                         ^^^^^^^^^^^^^^^^^^^^\n",
            "W0424 10:03:40.057000 21172 site-packages\\torch\\_dynamo\\convert_frame.py:1280]   File \"c:\\Users\\paul-\\anaconda3\\envs\\py311\\Lib\\site-packages\\torch\\_inductor\\cpu_vec_isa.py\", line 405, in valid_vec_isa_list\n",
            "W0424 10:03:40.057000 21172 site-packages\\torch\\_dynamo\\convert_frame.py:1280]     isa_list.extend(\n",
            "W0424 10:03:40.057000 21172 site-packages\\torch\\_dynamo\\convert_frame.py:1280]   File \"c:\\Users\\paul-\\anaconda3\\envs\\py311\\Lib\\site-packages\\torch\\_inductor\\cpu_vec_isa.py\", line 405, in <genexpr>\n",
            "W0424 10:03:40.057000 21172 site-packages\\torch\\_dynamo\\convert_frame.py:1280]     isa_list.extend(\n",
            "W0424 10:03:40.057000 21172 site-packages\\torch\\_dynamo\\convert_frame.py:1280]                    ^\n",
            "W0424 10:03:40.057000 21172 site-packages\\torch\\_dynamo\\convert_frame.py:1280]   File \"c:\\Users\\paul-\\anaconda3\\envs\\py311\\Lib\\site-packages\\torch\\_inductor\\cpu_vec_isa.py\", line 142, in __bool__\n",
            "W0424 10:03:40.057000 21172 site-packages\\torch\\_dynamo\\convert_frame.py:1280]     return self.__bool__impl(config.cpp.vec_isa_ok)\n",
            "W0424 10:03:40.057000 21172 site-packages\\torch\\_dynamo\\convert_frame.py:1280]            ^^^^^^^^^^^^^^^^^^^^^^^^^^^^^^^^^^^^^^^^\n",
            "W0424 10:03:40.057000 21172 site-packages\\torch\\_dynamo\\convert_frame.py:1280]   File \"c:\\Users\\paul-\\anaconda3\\envs\\py311\\Lib\\site-packages\\torch\\_inductor\\cpu_vec_isa.py\", line 152, in __bool__impl\n",
            "W0424 10:03:40.057000 21172 site-packages\\torch\\_dynamo\\convert_frame.py:1280]     return self.check_build(VecISA._avx_code)\n",
            "W0424 10:03:40.057000 21172 site-packages\\torch\\_dynamo\\convert_frame.py:1280]            ^^^^^^^^^^^^^^^^^^^^^^^^^^^^^^^^^^\n",
            "W0424 10:03:40.057000 21172 site-packages\\torch\\_dynamo\\convert_frame.py:1280]   File \"c:\\Users\\paul-\\anaconda3\\envs\\py311\\Lib\\site-packages\\torch\\_inductor\\cpu_vec_isa.py\", line 102, in check_build\n",
            "W0424 10:03:40.057000 21172 site-packages\\torch\\_dynamo\\convert_frame.py:1280]     extra=_get_isa_dry_compile_fingerprint(self._arch_flags),\n",
            "W0424 10:03:40.057000 21172 site-packages\\torch\\_dynamo\\convert_frame.py:1280]           ^^^^^^^^^^^^^^^^^^^^^^^^^^^^^^^^^^^^^^^^^^^^^^^^^^\n",
            "W0424 10:03:40.057000 21172 site-packages\\torch\\_dynamo\\convert_frame.py:1280]   File \"c:\\Users\\paul-\\anaconda3\\envs\\py311\\Lib\\site-packages\\torch\\_inductor\\cpu_vec_isa.py\", line 28, in _get_isa_dry_compile_fingerprint\n",
            "W0424 10:03:40.057000 21172 site-packages\\torch\\_dynamo\\convert_frame.py:1280]     compiler_info = get_compiler_version_info(get_cpp_compiler())\n",
            "W0424 10:03:40.057000 21172 site-packages\\torch\\_dynamo\\convert_frame.py:1280]                                               ^^^^^^^^^^^^^^^^^^\n",
            "W0424 10:03:40.057000 21172 site-packages\\torch\\_dynamo\\convert_frame.py:1280]   File \"c:\\Users\\paul-\\anaconda3\\envs\\py311\\Lib\\site-packages\\torch\\_inductor\\cpp_builder.py\", line 148, in get_cpp_compiler\n",
            "W0424 10:03:40.057000 21172 site-packages\\torch\\_dynamo\\convert_frame.py:1280]     check_compiler_exist_windows(compiler)\n",
            "W0424 10:03:40.057000 21172 site-packages\\torch\\_dynamo\\convert_frame.py:1280]   File \"c:\\Users\\paul-\\anaconda3\\envs\\py311\\Lib\\site-packages\\torch\\_inductor\\cpp_builder.py\", line 139, in check_compiler_exist_windows\n",
            "W0424 10:03:40.057000 21172 site-packages\\torch\\_dynamo\\convert_frame.py:1280]     raise RuntimeError(f\"Compiler: {compiler} is not found.\") from exc\n",
            "W0424 10:03:40.057000 21172 site-packages\\torch\\_dynamo\\convert_frame.py:1280] torch._inductor.exc.InductorError: RuntimeError: Compiler: cl is not found.\n",
            "W0424 10:03:40.057000 21172 site-packages\\torch\\_dynamo\\convert_frame.py:1280] \n",
            "W0424 10:03:40.057000 21172 site-packages\\torch\\_dynamo\\convert_frame.py:1280] Set TORCHDYNAMO_VERBOSE=1 for the internal stack trace (please do this especially if you're reporting a bug to PyTorch). For even more developer context, set TORCH_LOGS=\"+dynamo\"\n",
            "W0424 10:03:40.057000 21172 site-packages\\torch\\_dynamo\\convert_frame.py:1280] \n",
            "W0424 10:03:40.057000 21172 site-packages\\torch\\_dynamo\\convert_frame.py:1280] Traceback (most recent call last):\n",
            "W0424 10:03:40.057000 21172 site-packages\\torch\\_dynamo\\convert_frame.py:1280]   File \"c:\\Users\\paul-\\anaconda3\\envs\\py311\\Lib\\site-packages\\torch\\_dynamo\\convert_frame.py\", line 1213, in __call__\n",
            "W0424 10:03:40.057000 21172 site-packages\\torch\\_dynamo\\convert_frame.py:1280]     result = self._inner_convert(\n",
            "W0424 10:03:40.057000 21172 site-packages\\torch\\_dynamo\\convert_frame.py:1280]              ^^^^^^^^^^^^^^^^^^^^\n",
            "W0424 10:03:40.057000 21172 site-packages\\torch\\_dynamo\\convert_frame.py:1280]   File \"c:\\Users\\paul-\\anaconda3\\envs\\py311\\Lib\\site-packages\\torch\\_dynamo\\convert_frame.py\", line 598, in __call__\n",
            "W0424 10:03:40.057000 21172 site-packages\\torch\\_dynamo\\convert_frame.py:1280]     return _compile(\n",
            "W0424 10:03:40.057000 21172 site-packages\\torch\\_dynamo\\convert_frame.py:1280]            ^^^^^^^^^\n",
            "W0424 10:03:40.057000 21172 site-packages\\torch\\_dynamo\\convert_frame.py:1280]   File \"c:\\Users\\paul-\\anaconda3\\envs\\py311\\Lib\\site-packages\\torch\\_dynamo\\convert_frame.py\", line 1059, in _compile\n",
            "W0424 10:03:40.057000 21172 site-packages\\torch\\_dynamo\\convert_frame.py:1280]     guarded_code = compile_inner(code, one_graph, hooks, transform)\n",
            "W0424 10:03:40.057000 21172 site-packages\\torch\\_dynamo\\convert_frame.py:1280]                    ^^^^^^^^^^^^^^^^^^^^^^^^^^^^^^^^^^^^^^^^^^^^^^^^\n",
            "W0424 10:03:40.057000 21172 site-packages\\torch\\_dynamo\\convert_frame.py:1280]   File \"c:\\Users\\paul-\\anaconda3\\envs\\py311\\Lib\\site-packages\\torch\\_utils_internal.py\", line 97, in wrapper_function\n",
            "W0424 10:03:40.057000 21172 site-packages\\torch\\_dynamo\\convert_frame.py:1280]     return function(*args, **kwargs)\n",
            "W0424 10:03:40.057000 21172 site-packages\\torch\\_dynamo\\convert_frame.py:1280]            ^^^^^^^^^^^^^^^^^^^^^^^^^\n",
            "W0424 10:03:40.057000 21172 site-packages\\torch\\_dynamo\\convert_frame.py:1280]   File \"c:\\Users\\paul-\\anaconda3\\envs\\py311\\Lib\\site-packages\\torch\\_dynamo\\convert_frame.py\", line 761, in compile_inner\n",
            "W0424 10:03:40.057000 21172 site-packages\\torch\\_dynamo\\convert_frame.py:1280]     return _compile_inner(code, one_graph, hooks, transform)\n",
            "W0424 10:03:40.057000 21172 site-packages\\torch\\_dynamo\\convert_frame.py:1280]            ^^^^^^^^^^^^^^^^^^^^^^^^^^^^^^^^^^^^^^^^^^^^^^^^^\n",
            "W0424 10:03:40.057000 21172 site-packages\\torch\\_dynamo\\convert_frame.py:1280]   File \"c:\\Users\\paul-\\anaconda3\\envs\\py311\\Lib\\site-packages\\torch\\_dynamo\\convert_frame.py\", line 797, in _compile_inner\n",
            "W0424 10:03:40.057000 21172 site-packages\\torch\\_dynamo\\convert_frame.py:1280]     out_code = transform_code_object(code, transform)\n",
            "W0424 10:03:40.057000 21172 site-packages\\torch\\_dynamo\\convert_frame.py:1280]                ^^^^^^^^^^^^^^^^^^^^^^^^^^^^^^^^^^^^^^\n",
            "W0424 10:03:40.057000 21172 site-packages\\torch\\_dynamo\\convert_frame.py:1280]   File \"c:\\Users\\paul-\\anaconda3\\envs\\py311\\Lib\\site-packages\\torch\\_dynamo\\bytecode_transformation.py\", line 1422, in transform_code_object\n",
            "W0424 10:03:40.057000 21172 site-packages\\torch\\_dynamo\\convert_frame.py:1280]     transformations(instructions, code_options)\n",
            "W0424 10:03:40.057000 21172 site-packages\\torch\\_dynamo\\convert_frame.py:1280]   File \"c:\\Users\\paul-\\anaconda3\\envs\\py311\\Lib\\site-packages\\torch\\_dynamo\\convert_frame.py\", line 257, in _fn\n",
            "W0424 10:03:40.057000 21172 site-packages\\torch\\_dynamo\\convert_frame.py:1280]     return fn(*args, **kwargs)\n",
            "W0424 10:03:40.057000 21172 site-packages\\torch\\_dynamo\\convert_frame.py:1280]            ^^^^^^^^^^^^^^^^^^^\n",
            "W0424 10:03:40.057000 21172 site-packages\\torch\\_dynamo\\convert_frame.py:1280]   File \"c:\\Users\\paul-\\anaconda3\\envs\\py311\\Lib\\site-packages\\torch\\_dynamo\\convert_frame.py\", line 715, in transform\n",
            "W0424 10:03:40.057000 21172 site-packages\\torch\\_dynamo\\convert_frame.py:1280]     tracer.run()\n",
            "W0424 10:03:40.057000 21172 site-packages\\torch\\_dynamo\\convert_frame.py:1280]   File \"c:\\Users\\paul-\\anaconda3\\envs\\py311\\Lib\\site-packages\\torch\\_dynamo\\symbolic_convert.py\", line 3500, in run\n",
            "W0424 10:03:40.057000 21172 site-packages\\torch\\_dynamo\\convert_frame.py:1280]     super().run()\n",
            "W0424 10:03:40.057000 21172 site-packages\\torch\\_dynamo\\convert_frame.py:1280]   File \"c:\\Users\\paul-\\anaconda3\\envs\\py311\\Lib\\site-packages\\torch\\_dynamo\\symbolic_convert.py\", line 1337, in run\n",
            "W0424 10:03:40.057000 21172 site-packages\\torch\\_dynamo\\convert_frame.py:1280]     while self.step():\n",
            "W0424 10:03:40.057000 21172 site-packages\\torch\\_dynamo\\convert_frame.py:1280]           ^^^^^^^^^^^\n",
            "W0424 10:03:40.057000 21172 site-packages\\torch\\_dynamo\\convert_frame.py:1280]   File \"c:\\Users\\paul-\\anaconda3\\envs\\py311\\Lib\\site-packages\\torch\\_dynamo\\symbolic_convert.py\", line 1246, in step\n",
            "W0424 10:03:40.057000 21172 site-packages\\torch\\_dynamo\\convert_frame.py:1280]     self.dispatch_table[inst.opcode](self, inst)\n",
            "W0424 10:03:40.057000 21172 site-packages\\torch\\_dynamo\\convert_frame.py:1280]   File \"c:\\Users\\paul-\\anaconda3\\envs\\py311\\Lib\\site-packages\\torch\\_dynamo\\symbolic_convert.py\", line 3701, in RETURN_VALUE\n",
            "W0424 10:03:40.057000 21172 site-packages\\torch\\_dynamo\\convert_frame.py:1280]     self._return(inst)\n",
            "W0424 10:03:40.057000 21172 site-packages\\torch\\_dynamo\\convert_frame.py:1280]   File \"c:\\Users\\paul-\\anaconda3\\envs\\py311\\Lib\\site-packages\\torch\\_dynamo\\symbolic_convert.py\", line 3686, in _return\n",
            "W0424 10:03:40.057000 21172 site-packages\\torch\\_dynamo\\convert_frame.py:1280]     self.output.compile_subgraph(\n",
            "W0424 10:03:40.057000 21172 site-packages\\torch\\_dynamo\\convert_frame.py:1280]   File \"c:\\Users\\paul-\\anaconda3\\envs\\py311\\Lib\\site-packages\\torch\\_dynamo\\output_graph.py\", line 1144, in compile_subgraph\n",
            "W0424 10:03:40.057000 21172 site-packages\\torch\\_dynamo\\convert_frame.py:1280]     self.compile_and_call_fx_graph(\n",
            "W0424 10:03:40.057000 21172 site-packages\\torch\\_dynamo\\convert_frame.py:1280]   File \"c:\\Users\\paul-\\anaconda3\\envs\\py311\\Lib\\site-packages\\torch\\_dynamo\\output_graph.py\", line 1437, in compile_and_call_fx_graph\n",
            "W0424 10:03:40.057000 21172 site-packages\\torch\\_dynamo\\convert_frame.py:1280]     compiled_fn = self.call_user_compiler(gm)\n",
            "W0424 10:03:40.057000 21172 site-packages\\torch\\_dynamo\\convert_frame.py:1280]                   ^^^^^^^^^^^^^^^^^^^^^^^^^^^\n",
            "W0424 10:03:40.057000 21172 site-packages\\torch\\_dynamo\\convert_frame.py:1280]   File \"c:\\Users\\paul-\\anaconda3\\envs\\py311\\Lib\\site-packages\\torch\\_dynamo\\output_graph.py\", line 1487, in call_user_compiler\n",
            "W0424 10:03:40.057000 21172 site-packages\\torch\\_dynamo\\convert_frame.py:1280]     return self._call_user_compiler(gm)\n",
            "W0424 10:03:40.057000 21172 site-packages\\torch\\_dynamo\\convert_frame.py:1280]            ^^^^^^^^^^^^^^^^^^^^^^^^^^^^\n",
            "W0424 10:03:40.057000 21172 site-packages\\torch\\_dynamo\\convert_frame.py:1280]   File \"c:\\Users\\paul-\\anaconda3\\envs\\py311\\Lib\\site-packages\\torch\\_dynamo\\output_graph.py\", line 1519, in _call_user_compiler\n",
            "W0424 10:03:40.057000 21172 site-packages\\torch\\_dynamo\\convert_frame.py:1280]     compiled_fn = compiler_fn(gm, self.example_inputs())\n",
            "W0424 10:03:40.057000 21172 site-packages\\torch\\_dynamo\\convert_frame.py:1280]                   ^^^^^^^^^^^^^^^^^^^^^^^^^^^^^^^^^^^^^^\n",
            "W0424 10:03:40.057000 21172 site-packages\\torch\\_dynamo\\convert_frame.py:1280]   File \"c:\\Users\\paul-\\anaconda3\\envs\\py311\\Lib\\site-packages\\torch\\_dynamo\\repro\\after_dynamo.py\", line 150, in __call__\n",
            "W0424 10:03:40.057000 21172 site-packages\\torch\\_dynamo\\convert_frame.py:1280]     compiled_gm = compiler_fn(gm, example_inputs)\n",
            "W0424 10:03:40.057000 21172 site-packages\\torch\\_dynamo\\convert_frame.py:1280]                   ^^^^^^^^^^^^^^^^^^^^^^^^^^^^^^^\n",
            "W0424 10:03:40.057000 21172 site-packages\\torch\\_dynamo\\convert_frame.py:1280]   File \"c:\\Users\\paul-\\anaconda3\\envs\\py311\\Lib\\site-packages\\torch\\__init__.py\", line 2347, in __call__\n",
            "W0424 10:03:40.057000 21172 site-packages\\torch\\_dynamo\\convert_frame.py:1280]     return compile_fx(model_, inputs_, config_patches=self.config)\n",
            "W0424 10:03:40.057000 21172 site-packages\\torch\\_dynamo\\convert_frame.py:1280]            ^^^^^^^^^^^^^^^^^^^^^^^^^^^^^^^^^^^^^^^^^^^^^^^^^^^^^^^\n",
            "W0424 10:03:40.057000 21172 site-packages\\torch\\_dynamo\\convert_frame.py:1280]   File \"c:\\Users\\paul-\\anaconda3\\envs\\py311\\Lib\\site-packages\\torch\\_inductor\\compile_fx.py\", line 2101, in compile_fx\n",
            "W0424 10:03:40.057000 21172 site-packages\\torch\\_dynamo\\convert_frame.py:1280]     raise e.remove_dynamo_frames() from None  # see TORCHDYNAMO_VERBOSE=1\n",
            "W0424 10:03:40.057000 21172 site-packages\\torch\\_dynamo\\convert_frame.py:1280]     ^^^^^^^^^^^^^^^^^^^^^^^^^^^^^^^^^^^^^^^^\n",
            "W0424 10:03:40.057000 21172 site-packages\\torch\\_dynamo\\convert_frame.py:1280]   File \"c:\\Users\\paul-\\anaconda3\\envs\\py311\\Lib\\site-packages\\torch\\_inductor\\compile_fx.py\", line 760, in _compile_fx_inner\n",
            "W0424 10:03:40.057000 21172 site-packages\\torch\\_dynamo\\convert_frame.py:1280]     raise InductorError(e, currentframe()).with_traceback(\n",
            "W0424 10:03:40.057000 21172 site-packages\\torch\\_dynamo\\convert_frame.py:1280]   File \"c:\\Users\\paul-\\anaconda3\\envs\\py311\\Lib\\site-packages\\torch\\_inductor\\compile_fx.py\", line 745, in _compile_fx_inner\n",
            "W0424 10:03:40.057000 21172 site-packages\\torch\\_dynamo\\convert_frame.py:1280]     mb_compiled_graph = fx_codegen_and_compile(\n",
            "W0424 10:03:40.057000 21172 site-packages\\torch\\_dynamo\\convert_frame.py:1280]                         ^^^^^^^^^^^^^^^^^^^^^^^\n",
            "W0424 10:03:40.057000 21172 site-packages\\torch\\_dynamo\\convert_frame.py:1280]   File \"c:\\Users\\paul-\\anaconda3\\envs\\py311\\Lib\\site-packages\\torch\\_inductor\\compile_fx.py\", line 1295, in fx_codegen_and_compile\n",
            "W0424 10:03:40.057000 21172 site-packages\\torch\\_dynamo\\convert_frame.py:1280]     return scheme.codegen_and_compile(gm, example_inputs, inputs_to_check, graph_kwargs)\n",
            "W0424 10:03:40.057000 21172 site-packages\\torch\\_dynamo\\convert_frame.py:1280]            ^^^^^^^^^^^^^^^^^^^^^^^^^^^^^^^^^^^^^^^^^^^^^^^^^^^^^^^^^^^^^^^^^^^^^^^^^^^^^\n",
            "W0424 10:03:40.057000 21172 site-packages\\torch\\_dynamo\\convert_frame.py:1280]   File \"c:\\Users\\paul-\\anaconda3\\envs\\py311\\Lib\\site-packages\\torch\\_inductor\\compile_fx.py\", line 1197, in codegen_and_compile\n",
            "W0424 10:03:40.057000 21172 site-packages\\torch\\_dynamo\\convert_frame.py:1280]     compiled_fn = graph.compile_to_module().call\n",
            "W0424 10:03:40.057000 21172 site-packages\\torch\\_dynamo\\convert_frame.py:1280]                   ^^^^^^^^^^^^^^^^^^^^^^^^^\n",
            "W0424 10:03:40.057000 21172 site-packages\\torch\\_dynamo\\convert_frame.py:1280]   File \"c:\\Users\\paul-\\anaconda3\\envs\\py311\\Lib\\site-packages\\torch\\_inductor\\graph.py\", line 2083, in compile_to_module\n",
            "W0424 10:03:40.057000 21172 site-packages\\torch\\_dynamo\\convert_frame.py:1280]     return self._compile_to_module()\n",
            "W0424 10:03:40.057000 21172 site-packages\\torch\\_dynamo\\convert_frame.py:1280]            ^^^^^^^^^^^^^^^^^^^^^^^^^\n",
            "W0424 10:03:40.057000 21172 site-packages\\torch\\_dynamo\\convert_frame.py:1280]   File \"c:\\Users\\paul-\\anaconda3\\envs\\py311\\Lib\\site-packages\\torch\\_inductor\\graph.py\", line 2091, in _compile_to_module\n",
            "W0424 10:03:40.057000 21172 site-packages\\torch\\_dynamo\\convert_frame.py:1280]     self.codegen_with_cpp_wrapper() if self.cpp_wrapper else self.codegen()\n",
            "W0424 10:03:40.057000 21172 site-packages\\torch\\_dynamo\\convert_frame.py:1280]                                                              ^^^^^^^^^^^^^^\n",
            "W0424 10:03:40.057000 21172 site-packages\\torch\\_dynamo\\convert_frame.py:1280]   File \"c:\\Users\\paul-\\anaconda3\\envs\\py311\\Lib\\site-packages\\torch\\_inductor\\graph.py\", line 2002, in codegen\n",
            "W0424 10:03:40.057000 21172 site-packages\\torch\\_dynamo\\convert_frame.py:1280]     self.scheduler.codegen()\n",
            "W0424 10:03:40.057000 21172 site-packages\\torch\\_dynamo\\convert_frame.py:1280]   File \"c:\\Users\\paul-\\anaconda3\\envs\\py311\\Lib\\site-packages\\torch\\_inductor\\scheduler.py\", line 4135, in codegen\n",
            "W0424 10:03:40.057000 21172 site-packages\\torch\\_dynamo\\convert_frame.py:1280]     else self._codegen(self.nodes)\n",
            "W0424 10:03:40.057000 21172 site-packages\\torch\\_dynamo\\convert_frame.py:1280]          ^^^^^^^^^^^^^^^^^^^^^^^^^\n",
            "W0424 10:03:40.057000 21172 site-packages\\torch\\_dynamo\\convert_frame.py:1280]   File \"c:\\Users\\paul-\\anaconda3\\envs\\py311\\Lib\\site-packages\\torch\\_inductor\\scheduler.py\", line 4264, in _codegen\n",
            "W0424 10:03:40.057000 21172 site-packages\\torch\\_dynamo\\convert_frame.py:1280]     self.get_backend(device).codegen_node(node)\n",
            "W0424 10:03:40.057000 21172 site-packages\\torch\\_dynamo\\convert_frame.py:1280]   File \"c:\\Users\\paul-\\anaconda3\\envs\\py311\\Lib\\site-packages\\torch\\_inductor\\codegen\\cpp.py\", line 4986, in codegen_node\n",
            "W0424 10:03:40.057000 21172 site-packages\\torch\\_dynamo\\convert_frame.py:1280]     cpp_kernel_proxy = CppKernelProxy(kernel_group)\n",
            "W0424 10:03:40.057000 21172 site-packages\\torch\\_dynamo\\convert_frame.py:1280]                        ^^^^^^^^^^^^^^^^^^^^^^^^^^^^\n",
            "W0424 10:03:40.057000 21172 site-packages\\torch\\_dynamo\\convert_frame.py:1280]   File \"c:\\Users\\paul-\\anaconda3\\envs\\py311\\Lib\\site-packages\\torch\\_inductor\\codegen\\cpp.py\", line 3734, in __init__\n",
            "W0424 10:03:40.057000 21172 site-packages\\torch\\_dynamo\\convert_frame.py:1280]     self.picked_vec_isa: cpu_vec_isa.VecISA = cpu_vec_isa.pick_vec_isa()\n",
            "W0424 10:03:40.057000 21172 site-packages\\torch\\_dynamo\\convert_frame.py:1280]                                               ^^^^^^^^^^^^^^^^^^^^^^^^^^\n",
            "W0424 10:03:40.057000 21172 site-packages\\torch\\_dynamo\\convert_frame.py:1280]   File \"c:\\Users\\paul-\\anaconda3\\envs\\py311\\Lib\\site-packages\\torch\\_inductor\\cpu_vec_isa.py\", line 418, in pick_vec_isa\n",
            "W0424 10:03:40.057000 21172 site-packages\\torch\\_dynamo\\convert_frame.py:1280]     _valid_vec_isa_list: list[VecISA] = valid_vec_isa_list()\n",
            "W0424 10:03:40.057000 21172 site-packages\\torch\\_dynamo\\convert_frame.py:1280]                                         ^^^^^^^^^^^^^^^^^^^^\n",
            "W0424 10:03:40.057000 21172 site-packages\\torch\\_dynamo\\convert_frame.py:1280]   File \"c:\\Users\\paul-\\anaconda3\\envs\\py311\\Lib\\site-packages\\torch\\_inductor\\cpu_vec_isa.py\", line 405, in valid_vec_isa_list\n",
            "W0424 10:03:40.057000 21172 site-packages\\torch\\_dynamo\\convert_frame.py:1280]     isa_list.extend(\n",
            "W0424 10:03:40.057000 21172 site-packages\\torch\\_dynamo\\convert_frame.py:1280]   File \"c:\\Users\\paul-\\anaconda3\\envs\\py311\\Lib\\site-packages\\torch\\_inductor\\cpu_vec_isa.py\", line 405, in <genexpr>\n",
            "W0424 10:03:40.057000 21172 site-packages\\torch\\_dynamo\\convert_frame.py:1280]     isa_list.extend(\n",
            "W0424 10:03:40.057000 21172 site-packages\\torch\\_dynamo\\convert_frame.py:1280]                    ^\n",
            "W0424 10:03:40.057000 21172 site-packages\\torch\\_dynamo\\convert_frame.py:1280]   File \"c:\\Users\\paul-\\anaconda3\\envs\\py311\\Lib\\site-packages\\torch\\_inductor\\cpu_vec_isa.py\", line 142, in __bool__\n",
            "W0424 10:03:40.057000 21172 site-packages\\torch\\_dynamo\\convert_frame.py:1280]     return self.__bool__impl(config.cpp.vec_isa_ok)\n",
            "W0424 10:03:40.057000 21172 site-packages\\torch\\_dynamo\\convert_frame.py:1280]            ^^^^^^^^^^^^^^^^^^^^^^^^^^^^^^^^^^^^^^^^\n",
            "W0424 10:03:40.057000 21172 site-packages\\torch\\_dynamo\\convert_frame.py:1280]   File \"c:\\Users\\paul-\\anaconda3\\envs\\py311\\Lib\\site-packages\\torch\\_inductor\\cpu_vec_isa.py\", line 152, in __bool__impl\n",
            "W0424 10:03:40.057000 21172 site-packages\\torch\\_dynamo\\convert_frame.py:1280]     return self.check_build(VecISA._avx_code)\n",
            "W0424 10:03:40.057000 21172 site-packages\\torch\\_dynamo\\convert_frame.py:1280]            ^^^^^^^^^^^^^^^^^^^^^^^^^^^^^^^^^^\n",
            "W0424 10:03:40.057000 21172 site-packages\\torch\\_dynamo\\convert_frame.py:1280]   File \"c:\\Users\\paul-\\anaconda3\\envs\\py311\\Lib\\site-packages\\torch\\_inductor\\cpu_vec_isa.py\", line 102, in check_build\n",
            "W0424 10:03:40.057000 21172 site-packages\\torch\\_dynamo\\convert_frame.py:1280]     extra=_get_isa_dry_compile_fingerprint(self._arch_flags),\n",
            "W0424 10:03:40.057000 21172 site-packages\\torch\\_dynamo\\convert_frame.py:1280]           ^^^^^^^^^^^^^^^^^^^^^^^^^^^^^^^^^^^^^^^^^^^^^^^^^^\n",
            "W0424 10:03:40.057000 21172 site-packages\\torch\\_dynamo\\convert_frame.py:1280]   File \"c:\\Users\\paul-\\anaconda3\\envs\\py311\\Lib\\site-packages\\torch\\_inductor\\cpu_vec_isa.py\", line 28, in _get_isa_dry_compile_fingerprint\n",
            "W0424 10:03:40.057000 21172 site-packages\\torch\\_dynamo\\convert_frame.py:1280]     compiler_info = get_compiler_version_info(get_cpp_compiler())\n",
            "W0424 10:03:40.057000 21172 site-packages\\torch\\_dynamo\\convert_frame.py:1280]                                               ^^^^^^^^^^^^^^^^^^\n",
            "W0424 10:03:40.057000 21172 site-packages\\torch\\_dynamo\\convert_frame.py:1280]   File \"c:\\Users\\paul-\\anaconda3\\envs\\py311\\Lib\\site-packages\\torch\\_inductor\\cpp_builder.py\", line 148, in get_cpp_compiler\n",
            "W0424 10:03:40.057000 21172 site-packages\\torch\\_dynamo\\convert_frame.py:1280]     check_compiler_exist_windows(compiler)\n",
            "W0424 10:03:40.057000 21172 site-packages\\torch\\_dynamo\\convert_frame.py:1280]   File \"c:\\Users\\paul-\\anaconda3\\envs\\py311\\Lib\\site-packages\\torch\\_inductor\\cpp_builder.py\", line 139, in check_compiler_exist_windows\n",
            "W0424 10:03:40.057000 21172 site-packages\\torch\\_dynamo\\convert_frame.py:1280]     raise RuntimeError(f\"Compiler: {compiler} is not found.\") from exc\n",
            "W0424 10:03:40.057000 21172 site-packages\\torch\\_dynamo\\convert_frame.py:1280] torch._inductor.exc.InductorError: RuntimeError: Compiler: cl is not found.\n",
            "W0424 10:03:40.057000 21172 site-packages\\torch\\_dynamo\\convert_frame.py:1280] \n",
            "W0424 10:03:40.057000 21172 site-packages\\torch\\_dynamo\\convert_frame.py:1280] Set TORCHDYNAMO_VERBOSE=1 for the internal stack trace (please do this especially if you're reporting a bug to PyTorch). For even more developer context, set TORCH_LOGS=\"+dynamo\"\n",
            "W0424 10:03:40.057000 21172 site-packages\\torch\\_dynamo\\convert_frame.py:1280] \n",
            "W0424 10:03:40.398000 21172 site-packages\\torch\\_dynamo\\convert_frame.py:1280] WON'T CONVERT apply_chunking_to_forward c:\\Users\\paul-\\anaconda3\\envs\\py311\\Lib\\site-packages\\transformers\\pytorch_utils.py line 178 \n",
            "W0424 10:03:40.398000 21172 site-packages\\torch\\_dynamo\\convert_frame.py:1280] due to: \n",
            "W0424 10:03:40.398000 21172 site-packages\\torch\\_dynamo\\convert_frame.py:1280] Traceback (most recent call last):\n",
            "W0424 10:03:40.398000 21172 site-packages\\torch\\_dynamo\\convert_frame.py:1280]   File \"c:\\Users\\paul-\\anaconda3\\envs\\py311\\Lib\\site-packages\\torch\\_dynamo\\convert_frame.py\", line 1213, in __call__\n",
            "W0424 10:03:40.398000 21172 site-packages\\torch\\_dynamo\\convert_frame.py:1280]     result = self._inner_convert(\n",
            "W0424 10:03:40.398000 21172 site-packages\\torch\\_dynamo\\convert_frame.py:1280]              ^^^^^^^^^^^^^^^^^^^^\n",
            "W0424 10:03:40.398000 21172 site-packages\\torch\\_dynamo\\convert_frame.py:1280]   File \"c:\\Users\\paul-\\anaconda3\\envs\\py311\\Lib\\site-packages\\torch\\_dynamo\\convert_frame.py\", line 598, in __call__\n",
            "W0424 10:03:40.398000 21172 site-packages\\torch\\_dynamo\\convert_frame.py:1280]     return _compile(\n",
            "W0424 10:03:40.398000 21172 site-packages\\torch\\_dynamo\\convert_frame.py:1280]            ^^^^^^^^^\n",
            "W0424 10:03:40.398000 21172 site-packages\\torch\\_dynamo\\convert_frame.py:1280]   File \"c:\\Users\\paul-\\anaconda3\\envs\\py311\\Lib\\site-packages\\torch\\_dynamo\\convert_frame.py\", line 1059, in _compile\n",
            "W0424 10:03:40.398000 21172 site-packages\\torch\\_dynamo\\convert_frame.py:1280]     guarded_code = compile_inner(code, one_graph, hooks, transform)\n",
            "W0424 10:03:40.398000 21172 site-packages\\torch\\_dynamo\\convert_frame.py:1280]                    ^^^^^^^^^^^^^^^^^^^^^^^^^^^^^^^^^^^^^^^^^^^^^^^^\n",
            "W0424 10:03:40.398000 21172 site-packages\\torch\\_dynamo\\convert_frame.py:1280]   File \"c:\\Users\\paul-\\anaconda3\\envs\\py311\\Lib\\site-packages\\torch\\_utils_internal.py\", line 97, in wrapper_function\n",
            "W0424 10:03:40.398000 21172 site-packages\\torch\\_dynamo\\convert_frame.py:1280]     return function(*args, **kwargs)\n",
            "W0424 10:03:40.398000 21172 site-packages\\torch\\_dynamo\\convert_frame.py:1280]            ^^^^^^^^^^^^^^^^^^^^^^^^^\n",
            "W0424 10:03:40.398000 21172 site-packages\\torch\\_dynamo\\convert_frame.py:1280]   File \"c:\\Users\\paul-\\anaconda3\\envs\\py311\\Lib\\site-packages\\torch\\_dynamo\\convert_frame.py\", line 761, in compile_inner\n",
            "W0424 10:03:40.398000 21172 site-packages\\torch\\_dynamo\\convert_frame.py:1280]     return _compile_inner(code, one_graph, hooks, transform)\n",
            "W0424 10:03:40.398000 21172 site-packages\\torch\\_dynamo\\convert_frame.py:1280]            ^^^^^^^^^^^^^^^^^^^^^^^^^^^^^^^^^^^^^^^^^^^^^^^^^\n",
            "W0424 10:03:40.398000 21172 site-packages\\torch\\_dynamo\\convert_frame.py:1280]   File \"c:\\Users\\paul-\\anaconda3\\envs\\py311\\Lib\\site-packages\\torch\\_dynamo\\convert_frame.py\", line 797, in _compile_inner\n",
            "W0424 10:03:40.398000 21172 site-packages\\torch\\_dynamo\\convert_frame.py:1280]     out_code = transform_code_object(code, transform)\n",
            "W0424 10:03:40.398000 21172 site-packages\\torch\\_dynamo\\convert_frame.py:1280]                ^^^^^^^^^^^^^^^^^^^^^^^^^^^^^^^^^^^^^^\n",
            "W0424 10:03:40.398000 21172 site-packages\\torch\\_dynamo\\convert_frame.py:1280]   File \"c:\\Users\\paul-\\anaconda3\\envs\\py311\\Lib\\site-packages\\torch\\_dynamo\\bytecode_transformation.py\", line 1422, in transform_code_object\n",
            "W0424 10:03:40.398000 21172 site-packages\\torch\\_dynamo\\convert_frame.py:1280]     transformations(instructions, code_options)\n",
            "W0424 10:03:40.398000 21172 site-packages\\torch\\_dynamo\\convert_frame.py:1280]   File \"c:\\Users\\paul-\\anaconda3\\envs\\py311\\Lib\\site-packages\\torch\\_dynamo\\convert_frame.py\", line 257, in _fn\n",
            "W0424 10:03:40.398000 21172 site-packages\\torch\\_dynamo\\convert_frame.py:1280]     return fn(*args, **kwargs)\n",
            "W0424 10:03:40.398000 21172 site-packages\\torch\\_dynamo\\convert_frame.py:1280]            ^^^^^^^^^^^^^^^^^^^\n",
            "W0424 10:03:40.398000 21172 site-packages\\torch\\_dynamo\\convert_frame.py:1280]   File \"c:\\Users\\paul-\\anaconda3\\envs\\py311\\Lib\\site-packages\\torch\\_dynamo\\convert_frame.py\", line 715, in transform\n",
            "W0424 10:03:40.398000 21172 site-packages\\torch\\_dynamo\\convert_frame.py:1280]     tracer.run()\n",
            "W0424 10:03:40.398000 21172 site-packages\\torch\\_dynamo\\convert_frame.py:1280]   File \"c:\\Users\\paul-\\anaconda3\\envs\\py311\\Lib\\site-packages\\torch\\_dynamo\\symbolic_convert.py\", line 3500, in run\n",
            "W0424 10:03:40.398000 21172 site-packages\\torch\\_dynamo\\convert_frame.py:1280]     super().run()\n",
            "W0424 10:03:40.398000 21172 site-packages\\torch\\_dynamo\\convert_frame.py:1280]   File \"c:\\Users\\paul-\\anaconda3\\envs\\py311\\Lib\\site-packages\\torch\\_dynamo\\symbolic_convert.py\", line 1337, in run\n",
            "W0424 10:03:40.398000 21172 site-packages\\torch\\_dynamo\\convert_frame.py:1280]     while self.step():\n",
            "W0424 10:03:40.398000 21172 site-packages\\torch\\_dynamo\\convert_frame.py:1280]           ^^^^^^^^^^^\n",
            "W0424 10:03:40.398000 21172 site-packages\\torch\\_dynamo\\convert_frame.py:1280]   File \"c:\\Users\\paul-\\anaconda3\\envs\\py311\\Lib\\site-packages\\torch\\_dynamo\\symbolic_convert.py\", line 1246, in step\n",
            "W0424 10:03:40.398000 21172 site-packages\\torch\\_dynamo\\convert_frame.py:1280]     self.dispatch_table[inst.opcode](self, inst)\n",
            "W0424 10:03:40.398000 21172 site-packages\\torch\\_dynamo\\convert_frame.py:1280]   File \"c:\\Users\\paul-\\anaconda3\\envs\\py311\\Lib\\site-packages\\torch\\_dynamo\\symbolic_convert.py\", line 3701, in RETURN_VALUE\n",
            "W0424 10:03:40.398000 21172 site-packages\\torch\\_dynamo\\convert_frame.py:1280]     self._return(inst)\n",
            "W0424 10:03:40.398000 21172 site-packages\\torch\\_dynamo\\convert_frame.py:1280]   File \"c:\\Users\\paul-\\anaconda3\\envs\\py311\\Lib\\site-packages\\torch\\_dynamo\\symbolic_convert.py\", line 3686, in _return\n",
            "W0424 10:03:40.398000 21172 site-packages\\torch\\_dynamo\\convert_frame.py:1280]     self.output.compile_subgraph(\n",
            "W0424 10:03:40.398000 21172 site-packages\\torch\\_dynamo\\convert_frame.py:1280]   File \"c:\\Users\\paul-\\anaconda3\\envs\\py311\\Lib\\site-packages\\torch\\_dynamo\\output_graph.py\", line 1144, in compile_subgraph\n",
            "W0424 10:03:40.398000 21172 site-packages\\torch\\_dynamo\\convert_frame.py:1280]     self.compile_and_call_fx_graph(\n",
            "W0424 10:03:40.398000 21172 site-packages\\torch\\_dynamo\\convert_frame.py:1280]   File \"c:\\Users\\paul-\\anaconda3\\envs\\py311\\Lib\\site-packages\\torch\\_dynamo\\output_graph.py\", line 1437, in compile_and_call_fx_graph\n",
            "W0424 10:03:40.398000 21172 site-packages\\torch\\_dynamo\\convert_frame.py:1280]     compiled_fn = self.call_user_compiler(gm)\n",
            "W0424 10:03:40.398000 21172 site-packages\\torch\\_dynamo\\convert_frame.py:1280]                   ^^^^^^^^^^^^^^^^^^^^^^^^^^^\n",
            "W0424 10:03:40.398000 21172 site-packages\\torch\\_dynamo\\convert_frame.py:1280]   File \"c:\\Users\\paul-\\anaconda3\\envs\\py311\\Lib\\site-packages\\torch\\_dynamo\\output_graph.py\", line 1487, in call_user_compiler\n",
            "W0424 10:03:40.398000 21172 site-packages\\torch\\_dynamo\\convert_frame.py:1280]     return self._call_user_compiler(gm)\n",
            "W0424 10:03:40.398000 21172 site-packages\\torch\\_dynamo\\convert_frame.py:1280]            ^^^^^^^^^^^^^^^^^^^^^^^^^^^^\n",
            "W0424 10:03:40.398000 21172 site-packages\\torch\\_dynamo\\convert_frame.py:1280]   File \"c:\\Users\\paul-\\anaconda3\\envs\\py311\\Lib\\site-packages\\torch\\_dynamo\\output_graph.py\", line 1519, in _call_user_compiler\n",
            "W0424 10:03:40.398000 21172 site-packages\\torch\\_dynamo\\convert_frame.py:1280]     compiled_fn = compiler_fn(gm, self.example_inputs())\n",
            "W0424 10:03:40.398000 21172 site-packages\\torch\\_dynamo\\convert_frame.py:1280]                   ^^^^^^^^^^^^^^^^^^^^^^^^^^^^^^^^^^^^^^\n",
            "W0424 10:03:40.398000 21172 site-packages\\torch\\_dynamo\\convert_frame.py:1280]   File \"c:\\Users\\paul-\\anaconda3\\envs\\py311\\Lib\\site-packages\\torch\\_dynamo\\repro\\after_dynamo.py\", line 150, in __call__\n",
            "W0424 10:03:40.398000 21172 site-packages\\torch\\_dynamo\\convert_frame.py:1280]     compiled_gm = compiler_fn(gm, example_inputs)\n",
            "W0424 10:03:40.398000 21172 site-packages\\torch\\_dynamo\\convert_frame.py:1280]                   ^^^^^^^^^^^^^^^^^^^^^^^^^^^^^^^\n",
            "W0424 10:03:40.398000 21172 site-packages\\torch\\_dynamo\\convert_frame.py:1280]   File \"c:\\Users\\paul-\\anaconda3\\envs\\py311\\Lib\\site-packages\\torch\\__init__.py\", line 2347, in __call__\n",
            "W0424 10:03:40.398000 21172 site-packages\\torch\\_dynamo\\convert_frame.py:1280]     return compile_fx(model_, inputs_, config_patches=self.config)\n",
            "W0424 10:03:40.398000 21172 site-packages\\torch\\_dynamo\\convert_frame.py:1280]            ^^^^^^^^^^^^^^^^^^^^^^^^^^^^^^^^^^^^^^^^^^^^^^^^^^^^^^^\n",
            "W0424 10:03:40.398000 21172 site-packages\\torch\\_dynamo\\convert_frame.py:1280]   File \"c:\\Users\\paul-\\anaconda3\\envs\\py311\\Lib\\site-packages\\torch\\_inductor\\compile_fx.py\", line 2101, in compile_fx\n",
            "W0424 10:03:40.398000 21172 site-packages\\torch\\_dynamo\\convert_frame.py:1280]     raise e.remove_dynamo_frames() from None  # see TORCHDYNAMO_VERBOSE=1\n",
            "W0424 10:03:40.398000 21172 site-packages\\torch\\_dynamo\\convert_frame.py:1280]     ^^^^^^^^^^^^^^^^^^^^^^^^^^^^^^^^^^^^^^^^\n",
            "W0424 10:03:40.398000 21172 site-packages\\torch\\_dynamo\\convert_frame.py:1280]   File \"c:\\Users\\paul-\\anaconda3\\envs\\py311\\Lib\\site-packages\\torch\\_inductor\\compile_fx.py\", line 760, in _compile_fx_inner\n",
            "W0424 10:03:40.398000 21172 site-packages\\torch\\_dynamo\\convert_frame.py:1280]     raise InductorError(e, currentframe()).with_traceback(\n",
            "W0424 10:03:40.398000 21172 site-packages\\torch\\_dynamo\\convert_frame.py:1280]   File \"c:\\Users\\paul-\\anaconda3\\envs\\py311\\Lib\\site-packages\\torch\\_inductor\\compile_fx.py\", line 745, in _compile_fx_inner\n",
            "W0424 10:03:40.398000 21172 site-packages\\torch\\_dynamo\\convert_frame.py:1280]     mb_compiled_graph = fx_codegen_and_compile(\n",
            "W0424 10:03:40.398000 21172 site-packages\\torch\\_dynamo\\convert_frame.py:1280]                         ^^^^^^^^^^^^^^^^^^^^^^^\n",
            "W0424 10:03:40.398000 21172 site-packages\\torch\\_dynamo\\convert_frame.py:1280]   File \"c:\\Users\\paul-\\anaconda3\\envs\\py311\\Lib\\site-packages\\torch\\_inductor\\compile_fx.py\", line 1295, in fx_codegen_and_compile\n",
            "W0424 10:03:40.398000 21172 site-packages\\torch\\_dynamo\\convert_frame.py:1280]     return scheme.codegen_and_compile(gm, example_inputs, inputs_to_check, graph_kwargs)\n",
            "W0424 10:03:40.398000 21172 site-packages\\torch\\_dynamo\\convert_frame.py:1280]            ^^^^^^^^^^^^^^^^^^^^^^^^^^^^^^^^^^^^^^^^^^^^^^^^^^^^^^^^^^^^^^^^^^^^^^^^^^^^^\n",
            "W0424 10:03:40.398000 21172 site-packages\\torch\\_dynamo\\convert_frame.py:1280]   File \"c:\\Users\\paul-\\anaconda3\\envs\\py311\\Lib\\site-packages\\torch\\_inductor\\compile_fx.py\", line 1197, in codegen_and_compile\n",
            "W0424 10:03:40.398000 21172 site-packages\\torch\\_dynamo\\convert_frame.py:1280]     compiled_fn = graph.compile_to_module().call\n",
            "W0424 10:03:40.398000 21172 site-packages\\torch\\_dynamo\\convert_frame.py:1280]                   ^^^^^^^^^^^^^^^^^^^^^^^^^\n",
            "W0424 10:03:40.398000 21172 site-packages\\torch\\_dynamo\\convert_frame.py:1280]   File \"c:\\Users\\paul-\\anaconda3\\envs\\py311\\Lib\\site-packages\\torch\\_inductor\\graph.py\", line 2083, in compile_to_module\n",
            "W0424 10:03:40.398000 21172 site-packages\\torch\\_dynamo\\convert_frame.py:1280]     return self._compile_to_module()\n",
            "W0424 10:03:40.398000 21172 site-packages\\torch\\_dynamo\\convert_frame.py:1280]            ^^^^^^^^^^^^^^^^^^^^^^^^^\n",
            "W0424 10:03:40.398000 21172 site-packages\\torch\\_dynamo\\convert_frame.py:1280]   File \"c:\\Users\\paul-\\anaconda3\\envs\\py311\\Lib\\site-packages\\torch\\_inductor\\graph.py\", line 2091, in _compile_to_module\n",
            "W0424 10:03:40.398000 21172 site-packages\\torch\\_dynamo\\convert_frame.py:1280]     self.codegen_with_cpp_wrapper() if self.cpp_wrapper else self.codegen()\n",
            "W0424 10:03:40.398000 21172 site-packages\\torch\\_dynamo\\convert_frame.py:1280]                                                              ^^^^^^^^^^^^^^\n",
            "W0424 10:03:40.398000 21172 site-packages\\torch\\_dynamo\\convert_frame.py:1280]   File \"c:\\Users\\paul-\\anaconda3\\envs\\py311\\Lib\\site-packages\\torch\\_inductor\\graph.py\", line 2002, in codegen\n",
            "W0424 10:03:40.398000 21172 site-packages\\torch\\_dynamo\\convert_frame.py:1280]     self.scheduler.codegen()\n",
            "W0424 10:03:40.398000 21172 site-packages\\torch\\_dynamo\\convert_frame.py:1280]   File \"c:\\Users\\paul-\\anaconda3\\envs\\py311\\Lib\\site-packages\\torch\\_inductor\\scheduler.py\", line 4135, in codegen\n",
            "W0424 10:03:40.398000 21172 site-packages\\torch\\_dynamo\\convert_frame.py:1280]     else self._codegen(self.nodes)\n",
            "W0424 10:03:40.398000 21172 site-packages\\torch\\_dynamo\\convert_frame.py:1280]          ^^^^^^^^^^^^^^^^^^^^^^^^^\n",
            "W0424 10:03:40.398000 21172 site-packages\\torch\\_dynamo\\convert_frame.py:1280]   File \"c:\\Users\\paul-\\anaconda3\\envs\\py311\\Lib\\site-packages\\torch\\_inductor\\scheduler.py\", line 4264, in _codegen\n",
            "W0424 10:03:40.398000 21172 site-packages\\torch\\_dynamo\\convert_frame.py:1280]     self.get_backend(device).codegen_node(node)\n",
            "W0424 10:03:40.398000 21172 site-packages\\torch\\_dynamo\\convert_frame.py:1280]   File \"c:\\Users\\paul-\\anaconda3\\envs\\py311\\Lib\\site-packages\\torch\\_inductor\\codegen\\cpp.py\", line 4986, in codegen_node\n",
            "W0424 10:03:40.398000 21172 site-packages\\torch\\_dynamo\\convert_frame.py:1280]     cpp_kernel_proxy = CppKernelProxy(kernel_group)\n",
            "W0424 10:03:40.398000 21172 site-packages\\torch\\_dynamo\\convert_frame.py:1280]                        ^^^^^^^^^^^^^^^^^^^^^^^^^^^^\n",
            "W0424 10:03:40.398000 21172 site-packages\\torch\\_dynamo\\convert_frame.py:1280]   File \"c:\\Users\\paul-\\anaconda3\\envs\\py311\\Lib\\site-packages\\torch\\_inductor\\codegen\\cpp.py\", line 3734, in __init__\n",
            "W0424 10:03:40.398000 21172 site-packages\\torch\\_dynamo\\convert_frame.py:1280]     self.picked_vec_isa: cpu_vec_isa.VecISA = cpu_vec_isa.pick_vec_isa()\n",
            "W0424 10:03:40.398000 21172 site-packages\\torch\\_dynamo\\convert_frame.py:1280]                                               ^^^^^^^^^^^^^^^^^^^^^^^^^^\n",
            "W0424 10:03:40.398000 21172 site-packages\\torch\\_dynamo\\convert_frame.py:1280]   File \"c:\\Users\\paul-\\anaconda3\\envs\\py311\\Lib\\site-packages\\torch\\_inductor\\cpu_vec_isa.py\", line 418, in pick_vec_isa\n",
            "W0424 10:03:40.398000 21172 site-packages\\torch\\_dynamo\\convert_frame.py:1280]     _valid_vec_isa_list: list[VecISA] = valid_vec_isa_list()\n",
            "W0424 10:03:40.398000 21172 site-packages\\torch\\_dynamo\\convert_frame.py:1280]                                         ^^^^^^^^^^^^^^^^^^^^\n",
            "W0424 10:03:40.398000 21172 site-packages\\torch\\_dynamo\\convert_frame.py:1280]   File \"c:\\Users\\paul-\\anaconda3\\envs\\py311\\Lib\\site-packages\\torch\\_inductor\\cpu_vec_isa.py\", line 405, in valid_vec_isa_list\n",
            "W0424 10:03:40.398000 21172 site-packages\\torch\\_dynamo\\convert_frame.py:1280]     isa_list.extend(\n",
            "W0424 10:03:40.398000 21172 site-packages\\torch\\_dynamo\\convert_frame.py:1280]   File \"c:\\Users\\paul-\\anaconda3\\envs\\py311\\Lib\\site-packages\\torch\\_inductor\\cpu_vec_isa.py\", line 405, in <genexpr>\n",
            "W0424 10:03:40.398000 21172 site-packages\\torch\\_dynamo\\convert_frame.py:1280]     isa_list.extend(\n",
            "W0424 10:03:40.398000 21172 site-packages\\torch\\_dynamo\\convert_frame.py:1280]                    ^\n",
            "W0424 10:03:40.398000 21172 site-packages\\torch\\_dynamo\\convert_frame.py:1280]   File \"c:\\Users\\paul-\\anaconda3\\envs\\py311\\Lib\\site-packages\\torch\\_inductor\\cpu_vec_isa.py\", line 142, in __bool__\n",
            "W0424 10:03:40.398000 21172 site-packages\\torch\\_dynamo\\convert_frame.py:1280]     return self.__bool__impl(config.cpp.vec_isa_ok)\n",
            "W0424 10:03:40.398000 21172 site-packages\\torch\\_dynamo\\convert_frame.py:1280]            ^^^^^^^^^^^^^^^^^^^^^^^^^^^^^^^^^^^^^^^^\n",
            "W0424 10:03:40.398000 21172 site-packages\\torch\\_dynamo\\convert_frame.py:1280]   File \"c:\\Users\\paul-\\anaconda3\\envs\\py311\\Lib\\site-packages\\torch\\_inductor\\cpu_vec_isa.py\", line 152, in __bool__impl\n",
            "W0424 10:03:40.398000 21172 site-packages\\torch\\_dynamo\\convert_frame.py:1280]     return self.check_build(VecISA._avx_code)\n",
            "W0424 10:03:40.398000 21172 site-packages\\torch\\_dynamo\\convert_frame.py:1280]            ^^^^^^^^^^^^^^^^^^^^^^^^^^^^^^^^^^\n",
            "W0424 10:03:40.398000 21172 site-packages\\torch\\_dynamo\\convert_frame.py:1280]   File \"c:\\Users\\paul-\\anaconda3\\envs\\py311\\Lib\\site-packages\\torch\\_inductor\\cpu_vec_isa.py\", line 102, in check_build\n",
            "W0424 10:03:40.398000 21172 site-packages\\torch\\_dynamo\\convert_frame.py:1280]     extra=_get_isa_dry_compile_fingerprint(self._arch_flags),\n",
            "W0424 10:03:40.398000 21172 site-packages\\torch\\_dynamo\\convert_frame.py:1280]           ^^^^^^^^^^^^^^^^^^^^^^^^^^^^^^^^^^^^^^^^^^^^^^^^^^\n",
            "W0424 10:03:40.398000 21172 site-packages\\torch\\_dynamo\\convert_frame.py:1280]   File \"c:\\Users\\paul-\\anaconda3\\envs\\py311\\Lib\\site-packages\\torch\\_inductor\\cpu_vec_isa.py\", line 28, in _get_isa_dry_compile_fingerprint\n",
            "W0424 10:03:40.398000 21172 site-packages\\torch\\_dynamo\\convert_frame.py:1280]     compiler_info = get_compiler_version_info(get_cpp_compiler())\n",
            "W0424 10:03:40.398000 21172 site-packages\\torch\\_dynamo\\convert_frame.py:1280]                                               ^^^^^^^^^^^^^^^^^^\n",
            "W0424 10:03:40.398000 21172 site-packages\\torch\\_dynamo\\convert_frame.py:1280]   File \"c:\\Users\\paul-\\anaconda3\\envs\\py311\\Lib\\site-packages\\torch\\_inductor\\cpp_builder.py\", line 148, in get_cpp_compiler\n",
            "W0424 10:03:40.398000 21172 site-packages\\torch\\_dynamo\\convert_frame.py:1280]     check_compiler_exist_windows(compiler)\n",
            "W0424 10:03:40.398000 21172 site-packages\\torch\\_dynamo\\convert_frame.py:1280]   File \"c:\\Users\\paul-\\anaconda3\\envs\\py311\\Lib\\site-packages\\torch\\_inductor\\cpp_builder.py\", line 139, in check_compiler_exist_windows\n",
            "W0424 10:03:40.398000 21172 site-packages\\torch\\_dynamo\\convert_frame.py:1280]     raise RuntimeError(f\"Compiler: {compiler} is not found.\") from exc\n",
            "W0424 10:03:40.398000 21172 site-packages\\torch\\_dynamo\\convert_frame.py:1280] torch._inductor.exc.InductorError: RuntimeError: Compiler: cl is not found.\n",
            "W0424 10:03:40.398000 21172 site-packages\\torch\\_dynamo\\convert_frame.py:1280] \n",
            "W0424 10:03:40.398000 21172 site-packages\\torch\\_dynamo\\convert_frame.py:1280] Set TORCHDYNAMO_VERBOSE=1 for the internal stack trace (please do this especially if you're reporting a bug to PyTorch). For even more developer context, set TORCH_LOGS=\"+dynamo\"\n",
            "W0424 10:03:40.398000 21172 site-packages\\torch\\_dynamo\\convert_frame.py:1280] \n",
            "W0424 10:03:40.398000 21172 site-packages\\torch\\_dynamo\\convert_frame.py:1280] Traceback (most recent call last):\n",
            "W0424 10:03:40.398000 21172 site-packages\\torch\\_dynamo\\convert_frame.py:1280]   File \"c:\\Users\\paul-\\anaconda3\\envs\\py311\\Lib\\site-packages\\torch\\_dynamo\\convert_frame.py\", line 1213, in __call__\n",
            "W0424 10:03:40.398000 21172 site-packages\\torch\\_dynamo\\convert_frame.py:1280]     result = self._inner_convert(\n",
            "W0424 10:03:40.398000 21172 site-packages\\torch\\_dynamo\\convert_frame.py:1280]              ^^^^^^^^^^^^^^^^^^^^\n",
            "W0424 10:03:40.398000 21172 site-packages\\torch\\_dynamo\\convert_frame.py:1280]   File \"c:\\Users\\paul-\\anaconda3\\envs\\py311\\Lib\\site-packages\\torch\\_dynamo\\convert_frame.py\", line 598, in __call__\n",
            "W0424 10:03:40.398000 21172 site-packages\\torch\\_dynamo\\convert_frame.py:1280]     return _compile(\n",
            "W0424 10:03:40.398000 21172 site-packages\\torch\\_dynamo\\convert_frame.py:1280]            ^^^^^^^^^\n",
            "W0424 10:03:40.398000 21172 site-packages\\torch\\_dynamo\\convert_frame.py:1280]   File \"c:\\Users\\paul-\\anaconda3\\envs\\py311\\Lib\\site-packages\\torch\\_dynamo\\convert_frame.py\", line 1059, in _compile\n",
            "W0424 10:03:40.398000 21172 site-packages\\torch\\_dynamo\\convert_frame.py:1280]     guarded_code = compile_inner(code, one_graph, hooks, transform)\n",
            "W0424 10:03:40.398000 21172 site-packages\\torch\\_dynamo\\convert_frame.py:1280]                    ^^^^^^^^^^^^^^^^^^^^^^^^^^^^^^^^^^^^^^^^^^^^^^^^\n",
            "W0424 10:03:40.398000 21172 site-packages\\torch\\_dynamo\\convert_frame.py:1280]   File \"c:\\Users\\paul-\\anaconda3\\envs\\py311\\Lib\\site-packages\\torch\\_utils_internal.py\", line 97, in wrapper_function\n",
            "W0424 10:03:40.398000 21172 site-packages\\torch\\_dynamo\\convert_frame.py:1280]     return function(*args, **kwargs)\n",
            "W0424 10:03:40.398000 21172 site-packages\\torch\\_dynamo\\convert_frame.py:1280]            ^^^^^^^^^^^^^^^^^^^^^^^^^\n",
            "W0424 10:03:40.398000 21172 site-packages\\torch\\_dynamo\\convert_frame.py:1280]   File \"c:\\Users\\paul-\\anaconda3\\envs\\py311\\Lib\\site-packages\\torch\\_dynamo\\convert_frame.py\", line 761, in compile_inner\n",
            "W0424 10:03:40.398000 21172 site-packages\\torch\\_dynamo\\convert_frame.py:1280]     return _compile_inner(code, one_graph, hooks, transform)\n",
            "W0424 10:03:40.398000 21172 site-packages\\torch\\_dynamo\\convert_frame.py:1280]            ^^^^^^^^^^^^^^^^^^^^^^^^^^^^^^^^^^^^^^^^^^^^^^^^^\n",
            "W0424 10:03:40.398000 21172 site-packages\\torch\\_dynamo\\convert_frame.py:1280]   File \"c:\\Users\\paul-\\anaconda3\\envs\\py311\\Lib\\site-packages\\torch\\_dynamo\\convert_frame.py\", line 797, in _compile_inner\n",
            "W0424 10:03:40.398000 21172 site-packages\\torch\\_dynamo\\convert_frame.py:1280]     out_code = transform_code_object(code, transform)\n",
            "W0424 10:03:40.398000 21172 site-packages\\torch\\_dynamo\\convert_frame.py:1280]                ^^^^^^^^^^^^^^^^^^^^^^^^^^^^^^^^^^^^^^\n",
            "W0424 10:03:40.398000 21172 site-packages\\torch\\_dynamo\\convert_frame.py:1280]   File \"c:\\Users\\paul-\\anaconda3\\envs\\py311\\Lib\\site-packages\\torch\\_dynamo\\bytecode_transformation.py\", line 1422, in transform_code_object\n",
            "W0424 10:03:40.398000 21172 site-packages\\torch\\_dynamo\\convert_frame.py:1280]     transformations(instructions, code_options)\n",
            "W0424 10:03:40.398000 21172 site-packages\\torch\\_dynamo\\convert_frame.py:1280]   File \"c:\\Users\\paul-\\anaconda3\\envs\\py311\\Lib\\site-packages\\torch\\_dynamo\\convert_frame.py\", line 257, in _fn\n",
            "W0424 10:03:40.398000 21172 site-packages\\torch\\_dynamo\\convert_frame.py:1280]     return fn(*args, **kwargs)\n",
            "W0424 10:03:40.398000 21172 site-packages\\torch\\_dynamo\\convert_frame.py:1280]            ^^^^^^^^^^^^^^^^^^^\n",
            "W0424 10:03:40.398000 21172 site-packages\\torch\\_dynamo\\convert_frame.py:1280]   File \"c:\\Users\\paul-\\anaconda3\\envs\\py311\\Lib\\site-packages\\torch\\_dynamo\\convert_frame.py\", line 715, in transform\n",
            "W0424 10:03:40.398000 21172 site-packages\\torch\\_dynamo\\convert_frame.py:1280]     tracer.run()\n",
            "W0424 10:03:40.398000 21172 site-packages\\torch\\_dynamo\\convert_frame.py:1280]   File \"c:\\Users\\paul-\\anaconda3\\envs\\py311\\Lib\\site-packages\\torch\\_dynamo\\symbolic_convert.py\", line 3500, in run\n",
            "W0424 10:03:40.398000 21172 site-packages\\torch\\_dynamo\\convert_frame.py:1280]     super().run()\n",
            "W0424 10:03:40.398000 21172 site-packages\\torch\\_dynamo\\convert_frame.py:1280]   File \"c:\\Users\\paul-\\anaconda3\\envs\\py311\\Lib\\site-packages\\torch\\_dynamo\\symbolic_convert.py\", line 1337, in run\n",
            "W0424 10:03:40.398000 21172 site-packages\\torch\\_dynamo\\convert_frame.py:1280]     while self.step():\n",
            "W0424 10:03:40.398000 21172 site-packages\\torch\\_dynamo\\convert_frame.py:1280]           ^^^^^^^^^^^\n",
            "W0424 10:03:40.398000 21172 site-packages\\torch\\_dynamo\\convert_frame.py:1280]   File \"c:\\Users\\paul-\\anaconda3\\envs\\py311\\Lib\\site-packages\\torch\\_dynamo\\symbolic_convert.py\", line 1246, in step\n",
            "W0424 10:03:40.398000 21172 site-packages\\torch\\_dynamo\\convert_frame.py:1280]     self.dispatch_table[inst.opcode](self, inst)\n",
            "W0424 10:03:40.398000 21172 site-packages\\torch\\_dynamo\\convert_frame.py:1280]   File \"c:\\Users\\paul-\\anaconda3\\envs\\py311\\Lib\\site-packages\\torch\\_dynamo\\symbolic_convert.py\", line 3701, in RETURN_VALUE\n",
            "W0424 10:03:40.398000 21172 site-packages\\torch\\_dynamo\\convert_frame.py:1280]     self._return(inst)\n",
            "W0424 10:03:40.398000 21172 site-packages\\torch\\_dynamo\\convert_frame.py:1280]   File \"c:\\Users\\paul-\\anaconda3\\envs\\py311\\Lib\\site-packages\\torch\\_dynamo\\symbolic_convert.py\", line 3686, in _return\n",
            "W0424 10:03:40.398000 21172 site-packages\\torch\\_dynamo\\convert_frame.py:1280]     self.output.compile_subgraph(\n",
            "W0424 10:03:40.398000 21172 site-packages\\torch\\_dynamo\\convert_frame.py:1280]   File \"c:\\Users\\paul-\\anaconda3\\envs\\py311\\Lib\\site-packages\\torch\\_dynamo\\output_graph.py\", line 1144, in compile_subgraph\n",
            "W0424 10:03:40.398000 21172 site-packages\\torch\\_dynamo\\convert_frame.py:1280]     self.compile_and_call_fx_graph(\n",
            "W0424 10:03:40.398000 21172 site-packages\\torch\\_dynamo\\convert_frame.py:1280]   File \"c:\\Users\\paul-\\anaconda3\\envs\\py311\\Lib\\site-packages\\torch\\_dynamo\\output_graph.py\", line 1437, in compile_and_call_fx_graph\n",
            "W0424 10:03:40.398000 21172 site-packages\\torch\\_dynamo\\convert_frame.py:1280]     compiled_fn = self.call_user_compiler(gm)\n",
            "W0424 10:03:40.398000 21172 site-packages\\torch\\_dynamo\\convert_frame.py:1280]                   ^^^^^^^^^^^^^^^^^^^^^^^^^^^\n",
            "W0424 10:03:40.398000 21172 site-packages\\torch\\_dynamo\\convert_frame.py:1280]   File \"c:\\Users\\paul-\\anaconda3\\envs\\py311\\Lib\\site-packages\\torch\\_dynamo\\output_graph.py\", line 1487, in call_user_compiler\n",
            "W0424 10:03:40.398000 21172 site-packages\\torch\\_dynamo\\convert_frame.py:1280]     return self._call_user_compiler(gm)\n",
            "W0424 10:03:40.398000 21172 site-packages\\torch\\_dynamo\\convert_frame.py:1280]            ^^^^^^^^^^^^^^^^^^^^^^^^^^^^\n",
            "W0424 10:03:40.398000 21172 site-packages\\torch\\_dynamo\\convert_frame.py:1280]   File \"c:\\Users\\paul-\\anaconda3\\envs\\py311\\Lib\\site-packages\\torch\\_dynamo\\output_graph.py\", line 1519, in _call_user_compiler\n",
            "W0424 10:03:40.398000 21172 site-packages\\torch\\_dynamo\\convert_frame.py:1280]     compiled_fn = compiler_fn(gm, self.example_inputs())\n",
            "W0424 10:03:40.398000 21172 site-packages\\torch\\_dynamo\\convert_frame.py:1280]                   ^^^^^^^^^^^^^^^^^^^^^^^^^^^^^^^^^^^^^^\n",
            "W0424 10:03:40.398000 21172 site-packages\\torch\\_dynamo\\convert_frame.py:1280]   File \"c:\\Users\\paul-\\anaconda3\\envs\\py311\\Lib\\site-packages\\torch\\_dynamo\\repro\\after_dynamo.py\", line 150, in __call__\n",
            "W0424 10:03:40.398000 21172 site-packages\\torch\\_dynamo\\convert_frame.py:1280]     compiled_gm = compiler_fn(gm, example_inputs)\n",
            "W0424 10:03:40.398000 21172 site-packages\\torch\\_dynamo\\convert_frame.py:1280]                   ^^^^^^^^^^^^^^^^^^^^^^^^^^^^^^^\n",
            "W0424 10:03:40.398000 21172 site-packages\\torch\\_dynamo\\convert_frame.py:1280]   File \"c:\\Users\\paul-\\anaconda3\\envs\\py311\\Lib\\site-packages\\torch\\__init__.py\", line 2347, in __call__\n",
            "W0424 10:03:40.398000 21172 site-packages\\torch\\_dynamo\\convert_frame.py:1280]     return compile_fx(model_, inputs_, config_patches=self.config)\n",
            "W0424 10:03:40.398000 21172 site-packages\\torch\\_dynamo\\convert_frame.py:1280]            ^^^^^^^^^^^^^^^^^^^^^^^^^^^^^^^^^^^^^^^^^^^^^^^^^^^^^^^\n",
            "W0424 10:03:40.398000 21172 site-packages\\torch\\_dynamo\\convert_frame.py:1280]   File \"c:\\Users\\paul-\\anaconda3\\envs\\py311\\Lib\\site-packages\\torch\\_inductor\\compile_fx.py\", line 2101, in compile_fx\n",
            "W0424 10:03:40.398000 21172 site-packages\\torch\\_dynamo\\convert_frame.py:1280]     raise e.remove_dynamo_frames() from None  # see TORCHDYNAMO_VERBOSE=1\n",
            "W0424 10:03:40.398000 21172 site-packages\\torch\\_dynamo\\convert_frame.py:1280]     ^^^^^^^^^^^^^^^^^^^^^^^^^^^^^^^^^^^^^^^^\n",
            "W0424 10:03:40.398000 21172 site-packages\\torch\\_dynamo\\convert_frame.py:1280]   File \"c:\\Users\\paul-\\anaconda3\\envs\\py311\\Lib\\site-packages\\torch\\_inductor\\compile_fx.py\", line 760, in _compile_fx_inner\n",
            "W0424 10:03:40.398000 21172 site-packages\\torch\\_dynamo\\convert_frame.py:1280]     raise InductorError(e, currentframe()).with_traceback(\n",
            "W0424 10:03:40.398000 21172 site-packages\\torch\\_dynamo\\convert_frame.py:1280]   File \"c:\\Users\\paul-\\anaconda3\\envs\\py311\\Lib\\site-packages\\torch\\_inductor\\compile_fx.py\", line 745, in _compile_fx_inner\n",
            "W0424 10:03:40.398000 21172 site-packages\\torch\\_dynamo\\convert_frame.py:1280]     mb_compiled_graph = fx_codegen_and_compile(\n",
            "W0424 10:03:40.398000 21172 site-packages\\torch\\_dynamo\\convert_frame.py:1280]                         ^^^^^^^^^^^^^^^^^^^^^^^\n",
            "W0424 10:03:40.398000 21172 site-packages\\torch\\_dynamo\\convert_frame.py:1280]   File \"c:\\Users\\paul-\\anaconda3\\envs\\py311\\Lib\\site-packages\\torch\\_inductor\\compile_fx.py\", line 1295, in fx_codegen_and_compile\n",
            "W0424 10:03:40.398000 21172 site-packages\\torch\\_dynamo\\convert_frame.py:1280]     return scheme.codegen_and_compile(gm, example_inputs, inputs_to_check, graph_kwargs)\n",
            "W0424 10:03:40.398000 21172 site-packages\\torch\\_dynamo\\convert_frame.py:1280]            ^^^^^^^^^^^^^^^^^^^^^^^^^^^^^^^^^^^^^^^^^^^^^^^^^^^^^^^^^^^^^^^^^^^^^^^^^^^^^\n",
            "W0424 10:03:40.398000 21172 site-packages\\torch\\_dynamo\\convert_frame.py:1280]   File \"c:\\Users\\paul-\\anaconda3\\envs\\py311\\Lib\\site-packages\\torch\\_inductor\\compile_fx.py\", line 1197, in codegen_and_compile\n",
            "W0424 10:03:40.398000 21172 site-packages\\torch\\_dynamo\\convert_frame.py:1280]     compiled_fn = graph.compile_to_module().call\n",
            "W0424 10:03:40.398000 21172 site-packages\\torch\\_dynamo\\convert_frame.py:1280]                   ^^^^^^^^^^^^^^^^^^^^^^^^^\n",
            "W0424 10:03:40.398000 21172 site-packages\\torch\\_dynamo\\convert_frame.py:1280]   File \"c:\\Users\\paul-\\anaconda3\\envs\\py311\\Lib\\site-packages\\torch\\_inductor\\graph.py\", line 2083, in compile_to_module\n",
            "W0424 10:03:40.398000 21172 site-packages\\torch\\_dynamo\\convert_frame.py:1280]     return self._compile_to_module()\n",
            "W0424 10:03:40.398000 21172 site-packages\\torch\\_dynamo\\convert_frame.py:1280]            ^^^^^^^^^^^^^^^^^^^^^^^^^\n",
            "W0424 10:03:40.398000 21172 site-packages\\torch\\_dynamo\\convert_frame.py:1280]   File \"c:\\Users\\paul-\\anaconda3\\envs\\py311\\Lib\\site-packages\\torch\\_inductor\\graph.py\", line 2091, in _compile_to_module\n",
            "W0424 10:03:40.398000 21172 site-packages\\torch\\_dynamo\\convert_frame.py:1280]     self.codegen_with_cpp_wrapper() if self.cpp_wrapper else self.codegen()\n",
            "W0424 10:03:40.398000 21172 site-packages\\torch\\_dynamo\\convert_frame.py:1280]                                                              ^^^^^^^^^^^^^^\n",
            "W0424 10:03:40.398000 21172 site-packages\\torch\\_dynamo\\convert_frame.py:1280]   File \"c:\\Users\\paul-\\anaconda3\\envs\\py311\\Lib\\site-packages\\torch\\_inductor\\graph.py\", line 2002, in codegen\n",
            "W0424 10:03:40.398000 21172 site-packages\\torch\\_dynamo\\convert_frame.py:1280]     self.scheduler.codegen()\n",
            "W0424 10:03:40.398000 21172 site-packages\\torch\\_dynamo\\convert_frame.py:1280]   File \"c:\\Users\\paul-\\anaconda3\\envs\\py311\\Lib\\site-packages\\torch\\_inductor\\scheduler.py\", line 4135, in codegen\n",
            "W0424 10:03:40.398000 21172 site-packages\\torch\\_dynamo\\convert_frame.py:1280]     else self._codegen(self.nodes)\n",
            "W0424 10:03:40.398000 21172 site-packages\\torch\\_dynamo\\convert_frame.py:1280]          ^^^^^^^^^^^^^^^^^^^^^^^^^\n",
            "W0424 10:03:40.398000 21172 site-packages\\torch\\_dynamo\\convert_frame.py:1280]   File \"c:\\Users\\paul-\\anaconda3\\envs\\py311\\Lib\\site-packages\\torch\\_inductor\\scheduler.py\", line 4264, in _codegen\n",
            "W0424 10:03:40.398000 21172 site-packages\\torch\\_dynamo\\convert_frame.py:1280]     self.get_backend(device).codegen_node(node)\n",
            "W0424 10:03:40.398000 21172 site-packages\\torch\\_dynamo\\convert_frame.py:1280]   File \"c:\\Users\\paul-\\anaconda3\\envs\\py311\\Lib\\site-packages\\torch\\_inductor\\codegen\\cpp.py\", line 4986, in codegen_node\n",
            "W0424 10:03:40.398000 21172 site-packages\\torch\\_dynamo\\convert_frame.py:1280]     cpp_kernel_proxy = CppKernelProxy(kernel_group)\n",
            "W0424 10:03:40.398000 21172 site-packages\\torch\\_dynamo\\convert_frame.py:1280]                        ^^^^^^^^^^^^^^^^^^^^^^^^^^^^\n",
            "W0424 10:03:40.398000 21172 site-packages\\torch\\_dynamo\\convert_frame.py:1280]   File \"c:\\Users\\paul-\\anaconda3\\envs\\py311\\Lib\\site-packages\\torch\\_inductor\\codegen\\cpp.py\", line 3734, in __init__\n",
            "W0424 10:03:40.398000 21172 site-packages\\torch\\_dynamo\\convert_frame.py:1280]     self.picked_vec_isa: cpu_vec_isa.VecISA = cpu_vec_isa.pick_vec_isa()\n",
            "W0424 10:03:40.398000 21172 site-packages\\torch\\_dynamo\\convert_frame.py:1280]                                               ^^^^^^^^^^^^^^^^^^^^^^^^^^\n",
            "W0424 10:03:40.398000 21172 site-packages\\torch\\_dynamo\\convert_frame.py:1280]   File \"c:\\Users\\paul-\\anaconda3\\envs\\py311\\Lib\\site-packages\\torch\\_inductor\\cpu_vec_isa.py\", line 418, in pick_vec_isa\n",
            "W0424 10:03:40.398000 21172 site-packages\\torch\\_dynamo\\convert_frame.py:1280]     _valid_vec_isa_list: list[VecISA] = valid_vec_isa_list()\n",
            "W0424 10:03:40.398000 21172 site-packages\\torch\\_dynamo\\convert_frame.py:1280]                                         ^^^^^^^^^^^^^^^^^^^^\n",
            "W0424 10:03:40.398000 21172 site-packages\\torch\\_dynamo\\convert_frame.py:1280]   File \"c:\\Users\\paul-\\anaconda3\\envs\\py311\\Lib\\site-packages\\torch\\_inductor\\cpu_vec_isa.py\", line 405, in valid_vec_isa_list\n",
            "W0424 10:03:40.398000 21172 site-packages\\torch\\_dynamo\\convert_frame.py:1280]     isa_list.extend(\n",
            "W0424 10:03:40.398000 21172 site-packages\\torch\\_dynamo\\convert_frame.py:1280]   File \"c:\\Users\\paul-\\anaconda3\\envs\\py311\\Lib\\site-packages\\torch\\_inductor\\cpu_vec_isa.py\", line 405, in <genexpr>\n",
            "W0424 10:03:40.398000 21172 site-packages\\torch\\_dynamo\\convert_frame.py:1280]     isa_list.extend(\n",
            "W0424 10:03:40.398000 21172 site-packages\\torch\\_dynamo\\convert_frame.py:1280]                    ^\n",
            "W0424 10:03:40.398000 21172 site-packages\\torch\\_dynamo\\convert_frame.py:1280]   File \"c:\\Users\\paul-\\anaconda3\\envs\\py311\\Lib\\site-packages\\torch\\_inductor\\cpu_vec_isa.py\", line 142, in __bool__\n",
            "W0424 10:03:40.398000 21172 site-packages\\torch\\_dynamo\\convert_frame.py:1280]     return self.__bool__impl(config.cpp.vec_isa_ok)\n",
            "W0424 10:03:40.398000 21172 site-packages\\torch\\_dynamo\\convert_frame.py:1280]            ^^^^^^^^^^^^^^^^^^^^^^^^^^^^^^^^^^^^^^^^\n",
            "W0424 10:03:40.398000 21172 site-packages\\torch\\_dynamo\\convert_frame.py:1280]   File \"c:\\Users\\paul-\\anaconda3\\envs\\py311\\Lib\\site-packages\\torch\\_inductor\\cpu_vec_isa.py\", line 152, in __bool__impl\n",
            "W0424 10:03:40.398000 21172 site-packages\\torch\\_dynamo\\convert_frame.py:1280]     return self.check_build(VecISA._avx_code)\n",
            "W0424 10:03:40.398000 21172 site-packages\\torch\\_dynamo\\convert_frame.py:1280]            ^^^^^^^^^^^^^^^^^^^^^^^^^^^^^^^^^^\n",
            "W0424 10:03:40.398000 21172 site-packages\\torch\\_dynamo\\convert_frame.py:1280]   File \"c:\\Users\\paul-\\anaconda3\\envs\\py311\\Lib\\site-packages\\torch\\_inductor\\cpu_vec_isa.py\", line 102, in check_build\n",
            "W0424 10:03:40.398000 21172 site-packages\\torch\\_dynamo\\convert_frame.py:1280]     extra=_get_isa_dry_compile_fingerprint(self._arch_flags),\n",
            "W0424 10:03:40.398000 21172 site-packages\\torch\\_dynamo\\convert_frame.py:1280]           ^^^^^^^^^^^^^^^^^^^^^^^^^^^^^^^^^^^^^^^^^^^^^^^^^^\n",
            "W0424 10:03:40.398000 21172 site-packages\\torch\\_dynamo\\convert_frame.py:1280]   File \"c:\\Users\\paul-\\anaconda3\\envs\\py311\\Lib\\site-packages\\torch\\_inductor\\cpu_vec_isa.py\", line 28, in _get_isa_dry_compile_fingerprint\n",
            "W0424 10:03:40.398000 21172 site-packages\\torch\\_dynamo\\convert_frame.py:1280]     compiler_info = get_compiler_version_info(get_cpp_compiler())\n",
            "W0424 10:03:40.398000 21172 site-packages\\torch\\_dynamo\\convert_frame.py:1280]                                               ^^^^^^^^^^^^^^^^^^\n",
            "W0424 10:03:40.398000 21172 site-packages\\torch\\_dynamo\\convert_frame.py:1280]   File \"c:\\Users\\paul-\\anaconda3\\envs\\py311\\Lib\\site-packages\\torch\\_inductor\\cpp_builder.py\", line 148, in get_cpp_compiler\n",
            "W0424 10:03:40.398000 21172 site-packages\\torch\\_dynamo\\convert_frame.py:1280]     check_compiler_exist_windows(compiler)\n",
            "W0424 10:03:40.398000 21172 site-packages\\torch\\_dynamo\\convert_frame.py:1280]   File \"c:\\Users\\paul-\\anaconda3\\envs\\py311\\Lib\\site-packages\\torch\\_inductor\\cpp_builder.py\", line 139, in check_compiler_exist_windows\n",
            "W0424 10:03:40.398000 21172 site-packages\\torch\\_dynamo\\convert_frame.py:1280]     raise RuntimeError(f\"Compiler: {compiler} is not found.\") from exc\n",
            "W0424 10:03:40.398000 21172 site-packages\\torch\\_dynamo\\convert_frame.py:1280] torch._inductor.exc.InductorError: RuntimeError: Compiler: cl is not found.\n",
            "W0424 10:03:40.398000 21172 site-packages\\torch\\_dynamo\\convert_frame.py:1280] \n",
            "W0424 10:03:40.398000 21172 site-packages\\torch\\_dynamo\\convert_frame.py:1280] Set TORCHDYNAMO_VERBOSE=1 for the internal stack trace (please do this especially if you're reporting a bug to PyTorch). For even more developer context, set TORCH_LOGS=\"+dynamo\"\n",
            "W0424 10:03:40.398000 21172 site-packages\\torch\\_dynamo\\convert_frame.py:1280] \n",
            "W0424 10:03:40.688000 21172 site-packages\\torch\\_dynamo\\convert_frame.py:1280] WON'T CONVERT feed_forward_chunk c:\\Users\\paul-\\anaconda3\\envs\\py311\\Lib\\site-packages\\transformers\\models\\bert\\modeling_bert.py line 638 \n",
            "W0424 10:03:40.688000 21172 site-packages\\torch\\_dynamo\\convert_frame.py:1280] due to: \n",
            "W0424 10:03:40.688000 21172 site-packages\\torch\\_dynamo\\convert_frame.py:1280] Traceback (most recent call last):\n",
            "W0424 10:03:40.688000 21172 site-packages\\torch\\_dynamo\\convert_frame.py:1280]   File \"c:\\Users\\paul-\\anaconda3\\envs\\py311\\Lib\\site-packages\\torch\\_dynamo\\convert_frame.py\", line 1213, in __call__\n",
            "W0424 10:03:40.688000 21172 site-packages\\torch\\_dynamo\\convert_frame.py:1280]     result = self._inner_convert(\n",
            "W0424 10:03:40.688000 21172 site-packages\\torch\\_dynamo\\convert_frame.py:1280]              ^^^^^^^^^^^^^^^^^^^^\n",
            "W0424 10:03:40.688000 21172 site-packages\\torch\\_dynamo\\convert_frame.py:1280]   File \"c:\\Users\\paul-\\anaconda3\\envs\\py311\\Lib\\site-packages\\torch\\_dynamo\\convert_frame.py\", line 598, in __call__\n",
            "W0424 10:03:40.688000 21172 site-packages\\torch\\_dynamo\\convert_frame.py:1280]     return _compile(\n",
            "W0424 10:03:40.688000 21172 site-packages\\torch\\_dynamo\\convert_frame.py:1280]            ^^^^^^^^^\n",
            "W0424 10:03:40.688000 21172 site-packages\\torch\\_dynamo\\convert_frame.py:1280]   File \"c:\\Users\\paul-\\anaconda3\\envs\\py311\\Lib\\site-packages\\torch\\_dynamo\\convert_frame.py\", line 1059, in _compile\n",
            "W0424 10:03:40.688000 21172 site-packages\\torch\\_dynamo\\convert_frame.py:1280]     guarded_code = compile_inner(code, one_graph, hooks, transform)\n",
            "W0424 10:03:40.688000 21172 site-packages\\torch\\_dynamo\\convert_frame.py:1280]                    ^^^^^^^^^^^^^^^^^^^^^^^^^^^^^^^^^^^^^^^^^^^^^^^^\n",
            "W0424 10:03:40.688000 21172 site-packages\\torch\\_dynamo\\convert_frame.py:1280]   File \"c:\\Users\\paul-\\anaconda3\\envs\\py311\\Lib\\site-packages\\torch\\_utils_internal.py\", line 97, in wrapper_function\n",
            "W0424 10:03:40.688000 21172 site-packages\\torch\\_dynamo\\convert_frame.py:1280]     return function(*args, **kwargs)\n",
            "W0424 10:03:40.688000 21172 site-packages\\torch\\_dynamo\\convert_frame.py:1280]            ^^^^^^^^^^^^^^^^^^^^^^^^^\n",
            "W0424 10:03:40.688000 21172 site-packages\\torch\\_dynamo\\convert_frame.py:1280]   File \"c:\\Users\\paul-\\anaconda3\\envs\\py311\\Lib\\site-packages\\torch\\_dynamo\\convert_frame.py\", line 761, in compile_inner\n",
            "W0424 10:03:40.688000 21172 site-packages\\torch\\_dynamo\\convert_frame.py:1280]     return _compile_inner(code, one_graph, hooks, transform)\n",
            "W0424 10:03:40.688000 21172 site-packages\\torch\\_dynamo\\convert_frame.py:1280]            ^^^^^^^^^^^^^^^^^^^^^^^^^^^^^^^^^^^^^^^^^^^^^^^^^\n",
            "W0424 10:03:40.688000 21172 site-packages\\torch\\_dynamo\\convert_frame.py:1280]   File \"c:\\Users\\paul-\\anaconda3\\envs\\py311\\Lib\\site-packages\\torch\\_dynamo\\convert_frame.py\", line 797, in _compile_inner\n",
            "W0424 10:03:40.688000 21172 site-packages\\torch\\_dynamo\\convert_frame.py:1280]     out_code = transform_code_object(code, transform)\n",
            "W0424 10:03:40.688000 21172 site-packages\\torch\\_dynamo\\convert_frame.py:1280]                ^^^^^^^^^^^^^^^^^^^^^^^^^^^^^^^^^^^^^^\n",
            "W0424 10:03:40.688000 21172 site-packages\\torch\\_dynamo\\convert_frame.py:1280]   File \"c:\\Users\\paul-\\anaconda3\\envs\\py311\\Lib\\site-packages\\torch\\_dynamo\\bytecode_transformation.py\", line 1422, in transform_code_object\n",
            "W0424 10:03:40.688000 21172 site-packages\\torch\\_dynamo\\convert_frame.py:1280]     transformations(instructions, code_options)\n",
            "W0424 10:03:40.688000 21172 site-packages\\torch\\_dynamo\\convert_frame.py:1280]   File \"c:\\Users\\paul-\\anaconda3\\envs\\py311\\Lib\\site-packages\\torch\\_dynamo\\convert_frame.py\", line 257, in _fn\n",
            "W0424 10:03:40.688000 21172 site-packages\\torch\\_dynamo\\convert_frame.py:1280]     return fn(*args, **kwargs)\n",
            "W0424 10:03:40.688000 21172 site-packages\\torch\\_dynamo\\convert_frame.py:1280]            ^^^^^^^^^^^^^^^^^^^\n",
            "W0424 10:03:40.688000 21172 site-packages\\torch\\_dynamo\\convert_frame.py:1280]   File \"c:\\Users\\paul-\\anaconda3\\envs\\py311\\Lib\\site-packages\\torch\\_dynamo\\convert_frame.py\", line 715, in transform\n",
            "W0424 10:03:40.688000 21172 site-packages\\torch\\_dynamo\\convert_frame.py:1280]     tracer.run()\n",
            "W0424 10:03:40.688000 21172 site-packages\\torch\\_dynamo\\convert_frame.py:1280]   File \"c:\\Users\\paul-\\anaconda3\\envs\\py311\\Lib\\site-packages\\torch\\_dynamo\\symbolic_convert.py\", line 3500, in run\n",
            "W0424 10:03:40.688000 21172 site-packages\\torch\\_dynamo\\convert_frame.py:1280]     super().run()\n",
            "W0424 10:03:40.688000 21172 site-packages\\torch\\_dynamo\\convert_frame.py:1280]   File \"c:\\Users\\paul-\\anaconda3\\envs\\py311\\Lib\\site-packages\\torch\\_dynamo\\symbolic_convert.py\", line 1337, in run\n",
            "W0424 10:03:40.688000 21172 site-packages\\torch\\_dynamo\\convert_frame.py:1280]     while self.step():\n",
            "W0424 10:03:40.688000 21172 site-packages\\torch\\_dynamo\\convert_frame.py:1280]           ^^^^^^^^^^^\n",
            "W0424 10:03:40.688000 21172 site-packages\\torch\\_dynamo\\convert_frame.py:1280]   File \"c:\\Users\\paul-\\anaconda3\\envs\\py311\\Lib\\site-packages\\torch\\_dynamo\\symbolic_convert.py\", line 1246, in step\n",
            "W0424 10:03:40.688000 21172 site-packages\\torch\\_dynamo\\convert_frame.py:1280]     self.dispatch_table[inst.opcode](self, inst)\n",
            "W0424 10:03:40.688000 21172 site-packages\\torch\\_dynamo\\convert_frame.py:1280]   File \"c:\\Users\\paul-\\anaconda3\\envs\\py311\\Lib\\site-packages\\torch\\_dynamo\\symbolic_convert.py\", line 3701, in RETURN_VALUE\n",
            "W0424 10:03:40.688000 21172 site-packages\\torch\\_dynamo\\convert_frame.py:1280]     self._return(inst)\n",
            "W0424 10:03:40.688000 21172 site-packages\\torch\\_dynamo\\convert_frame.py:1280]   File \"c:\\Users\\paul-\\anaconda3\\envs\\py311\\Lib\\site-packages\\torch\\_dynamo\\symbolic_convert.py\", line 3686, in _return\n",
            "W0424 10:03:40.688000 21172 site-packages\\torch\\_dynamo\\convert_frame.py:1280]     self.output.compile_subgraph(\n",
            "W0424 10:03:40.688000 21172 site-packages\\torch\\_dynamo\\convert_frame.py:1280]   File \"c:\\Users\\paul-\\anaconda3\\envs\\py311\\Lib\\site-packages\\torch\\_dynamo\\output_graph.py\", line 1144, in compile_subgraph\n",
            "W0424 10:03:40.688000 21172 site-packages\\torch\\_dynamo\\convert_frame.py:1280]     self.compile_and_call_fx_graph(\n",
            "W0424 10:03:40.688000 21172 site-packages\\torch\\_dynamo\\convert_frame.py:1280]   File \"c:\\Users\\paul-\\anaconda3\\envs\\py311\\Lib\\site-packages\\torch\\_dynamo\\output_graph.py\", line 1437, in compile_and_call_fx_graph\n",
            "W0424 10:03:40.688000 21172 site-packages\\torch\\_dynamo\\convert_frame.py:1280]     compiled_fn = self.call_user_compiler(gm)\n",
            "W0424 10:03:40.688000 21172 site-packages\\torch\\_dynamo\\convert_frame.py:1280]                   ^^^^^^^^^^^^^^^^^^^^^^^^^^^\n",
            "W0424 10:03:40.688000 21172 site-packages\\torch\\_dynamo\\convert_frame.py:1280]   File \"c:\\Users\\paul-\\anaconda3\\envs\\py311\\Lib\\site-packages\\torch\\_dynamo\\output_graph.py\", line 1487, in call_user_compiler\n",
            "W0424 10:03:40.688000 21172 site-packages\\torch\\_dynamo\\convert_frame.py:1280]     return self._call_user_compiler(gm)\n",
            "W0424 10:03:40.688000 21172 site-packages\\torch\\_dynamo\\convert_frame.py:1280]            ^^^^^^^^^^^^^^^^^^^^^^^^^^^^\n",
            "W0424 10:03:40.688000 21172 site-packages\\torch\\_dynamo\\convert_frame.py:1280]   File \"c:\\Users\\paul-\\anaconda3\\envs\\py311\\Lib\\site-packages\\torch\\_dynamo\\output_graph.py\", line 1519, in _call_user_compiler\n",
            "W0424 10:03:40.688000 21172 site-packages\\torch\\_dynamo\\convert_frame.py:1280]     compiled_fn = compiler_fn(gm, self.example_inputs())\n",
            "W0424 10:03:40.688000 21172 site-packages\\torch\\_dynamo\\convert_frame.py:1280]                   ^^^^^^^^^^^^^^^^^^^^^^^^^^^^^^^^^^^^^^\n",
            "W0424 10:03:40.688000 21172 site-packages\\torch\\_dynamo\\convert_frame.py:1280]   File \"c:\\Users\\paul-\\anaconda3\\envs\\py311\\Lib\\site-packages\\torch\\_dynamo\\repro\\after_dynamo.py\", line 150, in __call__\n",
            "W0424 10:03:40.688000 21172 site-packages\\torch\\_dynamo\\convert_frame.py:1280]     compiled_gm = compiler_fn(gm, example_inputs)\n",
            "W0424 10:03:40.688000 21172 site-packages\\torch\\_dynamo\\convert_frame.py:1280]                   ^^^^^^^^^^^^^^^^^^^^^^^^^^^^^^^\n",
            "W0424 10:03:40.688000 21172 site-packages\\torch\\_dynamo\\convert_frame.py:1280]   File \"c:\\Users\\paul-\\anaconda3\\envs\\py311\\Lib\\site-packages\\torch\\__init__.py\", line 2347, in __call__\n",
            "W0424 10:03:40.688000 21172 site-packages\\torch\\_dynamo\\convert_frame.py:1280]     return compile_fx(model_, inputs_, config_patches=self.config)\n",
            "W0424 10:03:40.688000 21172 site-packages\\torch\\_dynamo\\convert_frame.py:1280]            ^^^^^^^^^^^^^^^^^^^^^^^^^^^^^^^^^^^^^^^^^^^^^^^^^^^^^^^\n",
            "W0424 10:03:40.688000 21172 site-packages\\torch\\_dynamo\\convert_frame.py:1280]   File \"c:\\Users\\paul-\\anaconda3\\envs\\py311\\Lib\\site-packages\\torch\\_inductor\\compile_fx.py\", line 2101, in compile_fx\n",
            "W0424 10:03:40.688000 21172 site-packages\\torch\\_dynamo\\convert_frame.py:1280]     raise e.remove_dynamo_frames() from None  # see TORCHDYNAMO_VERBOSE=1\n",
            "W0424 10:03:40.688000 21172 site-packages\\torch\\_dynamo\\convert_frame.py:1280]     ^^^^^^^^^^^^^^^^^^^^^^^^^^^^^^^^^^^^^^^^\n",
            "W0424 10:03:40.688000 21172 site-packages\\torch\\_dynamo\\convert_frame.py:1280]   File \"c:\\Users\\paul-\\anaconda3\\envs\\py311\\Lib\\site-packages\\torch\\_inductor\\compile_fx.py\", line 760, in _compile_fx_inner\n",
            "W0424 10:03:40.688000 21172 site-packages\\torch\\_dynamo\\convert_frame.py:1280]     raise InductorError(e, currentframe()).with_traceback(\n",
            "W0424 10:03:40.688000 21172 site-packages\\torch\\_dynamo\\convert_frame.py:1280]   File \"c:\\Users\\paul-\\anaconda3\\envs\\py311\\Lib\\site-packages\\torch\\_inductor\\compile_fx.py\", line 745, in _compile_fx_inner\n",
            "W0424 10:03:40.688000 21172 site-packages\\torch\\_dynamo\\convert_frame.py:1280]     mb_compiled_graph = fx_codegen_and_compile(\n",
            "W0424 10:03:40.688000 21172 site-packages\\torch\\_dynamo\\convert_frame.py:1280]                         ^^^^^^^^^^^^^^^^^^^^^^^\n",
            "W0424 10:03:40.688000 21172 site-packages\\torch\\_dynamo\\convert_frame.py:1280]   File \"c:\\Users\\paul-\\anaconda3\\envs\\py311\\Lib\\site-packages\\torch\\_inductor\\compile_fx.py\", line 1295, in fx_codegen_and_compile\n",
            "W0424 10:03:40.688000 21172 site-packages\\torch\\_dynamo\\convert_frame.py:1280]     return scheme.codegen_and_compile(gm, example_inputs, inputs_to_check, graph_kwargs)\n",
            "W0424 10:03:40.688000 21172 site-packages\\torch\\_dynamo\\convert_frame.py:1280]            ^^^^^^^^^^^^^^^^^^^^^^^^^^^^^^^^^^^^^^^^^^^^^^^^^^^^^^^^^^^^^^^^^^^^^^^^^^^^^\n",
            "W0424 10:03:40.688000 21172 site-packages\\torch\\_dynamo\\convert_frame.py:1280]   File \"c:\\Users\\paul-\\anaconda3\\envs\\py311\\Lib\\site-packages\\torch\\_inductor\\compile_fx.py\", line 1197, in codegen_and_compile\n",
            "W0424 10:03:40.688000 21172 site-packages\\torch\\_dynamo\\convert_frame.py:1280]     compiled_fn = graph.compile_to_module().call\n",
            "W0424 10:03:40.688000 21172 site-packages\\torch\\_dynamo\\convert_frame.py:1280]                   ^^^^^^^^^^^^^^^^^^^^^^^^^\n",
            "W0424 10:03:40.688000 21172 site-packages\\torch\\_dynamo\\convert_frame.py:1280]   File \"c:\\Users\\paul-\\anaconda3\\envs\\py311\\Lib\\site-packages\\torch\\_inductor\\graph.py\", line 2083, in compile_to_module\n",
            "W0424 10:03:40.688000 21172 site-packages\\torch\\_dynamo\\convert_frame.py:1280]     return self._compile_to_module()\n",
            "W0424 10:03:40.688000 21172 site-packages\\torch\\_dynamo\\convert_frame.py:1280]            ^^^^^^^^^^^^^^^^^^^^^^^^^\n",
            "W0424 10:03:40.688000 21172 site-packages\\torch\\_dynamo\\convert_frame.py:1280]   File \"c:\\Users\\paul-\\anaconda3\\envs\\py311\\Lib\\site-packages\\torch\\_inductor\\graph.py\", line 2091, in _compile_to_module\n",
            "W0424 10:03:40.688000 21172 site-packages\\torch\\_dynamo\\convert_frame.py:1280]     self.codegen_with_cpp_wrapper() if self.cpp_wrapper else self.codegen()\n",
            "W0424 10:03:40.688000 21172 site-packages\\torch\\_dynamo\\convert_frame.py:1280]                                                              ^^^^^^^^^^^^^^\n",
            "W0424 10:03:40.688000 21172 site-packages\\torch\\_dynamo\\convert_frame.py:1280]   File \"c:\\Users\\paul-\\anaconda3\\envs\\py311\\Lib\\site-packages\\torch\\_inductor\\graph.py\", line 2002, in codegen\n",
            "W0424 10:03:40.688000 21172 site-packages\\torch\\_dynamo\\convert_frame.py:1280]     self.scheduler.codegen()\n",
            "W0424 10:03:40.688000 21172 site-packages\\torch\\_dynamo\\convert_frame.py:1280]   File \"c:\\Users\\paul-\\anaconda3\\envs\\py311\\Lib\\site-packages\\torch\\_inductor\\scheduler.py\", line 4135, in codegen\n",
            "W0424 10:03:40.688000 21172 site-packages\\torch\\_dynamo\\convert_frame.py:1280]     else self._codegen(self.nodes)\n",
            "W0424 10:03:40.688000 21172 site-packages\\torch\\_dynamo\\convert_frame.py:1280]          ^^^^^^^^^^^^^^^^^^^^^^^^^\n",
            "W0424 10:03:40.688000 21172 site-packages\\torch\\_dynamo\\convert_frame.py:1280]   File \"c:\\Users\\paul-\\anaconda3\\envs\\py311\\Lib\\site-packages\\torch\\_inductor\\scheduler.py\", line 4264, in _codegen\n",
            "W0424 10:03:40.688000 21172 site-packages\\torch\\_dynamo\\convert_frame.py:1280]     self.get_backend(device).codegen_node(node)\n",
            "W0424 10:03:40.688000 21172 site-packages\\torch\\_dynamo\\convert_frame.py:1280]   File \"c:\\Users\\paul-\\anaconda3\\envs\\py311\\Lib\\site-packages\\torch\\_inductor\\codegen\\cpp.py\", line 4986, in codegen_node\n",
            "W0424 10:03:40.688000 21172 site-packages\\torch\\_dynamo\\convert_frame.py:1280]     cpp_kernel_proxy = CppKernelProxy(kernel_group)\n",
            "W0424 10:03:40.688000 21172 site-packages\\torch\\_dynamo\\convert_frame.py:1280]                        ^^^^^^^^^^^^^^^^^^^^^^^^^^^^\n",
            "W0424 10:03:40.688000 21172 site-packages\\torch\\_dynamo\\convert_frame.py:1280]   File \"c:\\Users\\paul-\\anaconda3\\envs\\py311\\Lib\\site-packages\\torch\\_inductor\\codegen\\cpp.py\", line 3734, in __init__\n",
            "W0424 10:03:40.688000 21172 site-packages\\torch\\_dynamo\\convert_frame.py:1280]     self.picked_vec_isa: cpu_vec_isa.VecISA = cpu_vec_isa.pick_vec_isa()\n",
            "W0424 10:03:40.688000 21172 site-packages\\torch\\_dynamo\\convert_frame.py:1280]                                               ^^^^^^^^^^^^^^^^^^^^^^^^^^\n",
            "W0424 10:03:40.688000 21172 site-packages\\torch\\_dynamo\\convert_frame.py:1280]   File \"c:\\Users\\paul-\\anaconda3\\envs\\py311\\Lib\\site-packages\\torch\\_inductor\\cpu_vec_isa.py\", line 418, in pick_vec_isa\n",
            "W0424 10:03:40.688000 21172 site-packages\\torch\\_dynamo\\convert_frame.py:1280]     _valid_vec_isa_list: list[VecISA] = valid_vec_isa_list()\n",
            "W0424 10:03:40.688000 21172 site-packages\\torch\\_dynamo\\convert_frame.py:1280]                                         ^^^^^^^^^^^^^^^^^^^^\n",
            "W0424 10:03:40.688000 21172 site-packages\\torch\\_dynamo\\convert_frame.py:1280]   File \"c:\\Users\\paul-\\anaconda3\\envs\\py311\\Lib\\site-packages\\torch\\_inductor\\cpu_vec_isa.py\", line 405, in valid_vec_isa_list\n",
            "W0424 10:03:40.688000 21172 site-packages\\torch\\_dynamo\\convert_frame.py:1280]     isa_list.extend(\n",
            "W0424 10:03:40.688000 21172 site-packages\\torch\\_dynamo\\convert_frame.py:1280]   File \"c:\\Users\\paul-\\anaconda3\\envs\\py311\\Lib\\site-packages\\torch\\_inductor\\cpu_vec_isa.py\", line 405, in <genexpr>\n",
            "W0424 10:03:40.688000 21172 site-packages\\torch\\_dynamo\\convert_frame.py:1280]     isa_list.extend(\n",
            "W0424 10:03:40.688000 21172 site-packages\\torch\\_dynamo\\convert_frame.py:1280]                    ^\n",
            "W0424 10:03:40.688000 21172 site-packages\\torch\\_dynamo\\convert_frame.py:1280]   File \"c:\\Users\\paul-\\anaconda3\\envs\\py311\\Lib\\site-packages\\torch\\_inductor\\cpu_vec_isa.py\", line 142, in __bool__\n",
            "W0424 10:03:40.688000 21172 site-packages\\torch\\_dynamo\\convert_frame.py:1280]     return self.__bool__impl(config.cpp.vec_isa_ok)\n",
            "W0424 10:03:40.688000 21172 site-packages\\torch\\_dynamo\\convert_frame.py:1280]            ^^^^^^^^^^^^^^^^^^^^^^^^^^^^^^^^^^^^^^^^\n",
            "W0424 10:03:40.688000 21172 site-packages\\torch\\_dynamo\\convert_frame.py:1280]   File \"c:\\Users\\paul-\\anaconda3\\envs\\py311\\Lib\\site-packages\\torch\\_inductor\\cpu_vec_isa.py\", line 152, in __bool__impl\n",
            "W0424 10:03:40.688000 21172 site-packages\\torch\\_dynamo\\convert_frame.py:1280]     return self.check_build(VecISA._avx_code)\n",
            "W0424 10:03:40.688000 21172 site-packages\\torch\\_dynamo\\convert_frame.py:1280]            ^^^^^^^^^^^^^^^^^^^^^^^^^^^^^^^^^^\n",
            "W0424 10:03:40.688000 21172 site-packages\\torch\\_dynamo\\convert_frame.py:1280]   File \"c:\\Users\\paul-\\anaconda3\\envs\\py311\\Lib\\site-packages\\torch\\_inductor\\cpu_vec_isa.py\", line 102, in check_build\n",
            "W0424 10:03:40.688000 21172 site-packages\\torch\\_dynamo\\convert_frame.py:1280]     extra=_get_isa_dry_compile_fingerprint(self._arch_flags),\n",
            "W0424 10:03:40.688000 21172 site-packages\\torch\\_dynamo\\convert_frame.py:1280]           ^^^^^^^^^^^^^^^^^^^^^^^^^^^^^^^^^^^^^^^^^^^^^^^^^^\n",
            "W0424 10:03:40.688000 21172 site-packages\\torch\\_dynamo\\convert_frame.py:1280]   File \"c:\\Users\\paul-\\anaconda3\\envs\\py311\\Lib\\site-packages\\torch\\_inductor\\cpu_vec_isa.py\", line 28, in _get_isa_dry_compile_fingerprint\n",
            "W0424 10:03:40.688000 21172 site-packages\\torch\\_dynamo\\convert_frame.py:1280]     compiler_info = get_compiler_version_info(get_cpp_compiler())\n",
            "W0424 10:03:40.688000 21172 site-packages\\torch\\_dynamo\\convert_frame.py:1280]                                               ^^^^^^^^^^^^^^^^^^\n",
            "W0424 10:03:40.688000 21172 site-packages\\torch\\_dynamo\\convert_frame.py:1280]   File \"c:\\Users\\paul-\\anaconda3\\envs\\py311\\Lib\\site-packages\\torch\\_inductor\\cpp_builder.py\", line 148, in get_cpp_compiler\n",
            "W0424 10:03:40.688000 21172 site-packages\\torch\\_dynamo\\convert_frame.py:1280]     check_compiler_exist_windows(compiler)\n",
            "W0424 10:03:40.688000 21172 site-packages\\torch\\_dynamo\\convert_frame.py:1280]   File \"c:\\Users\\paul-\\anaconda3\\envs\\py311\\Lib\\site-packages\\torch\\_inductor\\cpp_builder.py\", line 139, in check_compiler_exist_windows\n",
            "W0424 10:03:40.688000 21172 site-packages\\torch\\_dynamo\\convert_frame.py:1280]     raise RuntimeError(f\"Compiler: {compiler} is not found.\") from exc\n",
            "W0424 10:03:40.688000 21172 site-packages\\torch\\_dynamo\\convert_frame.py:1280] torch._inductor.exc.InductorError: RuntimeError: Compiler: cl is not found.\n",
            "W0424 10:03:40.688000 21172 site-packages\\torch\\_dynamo\\convert_frame.py:1280] \n",
            "W0424 10:03:40.688000 21172 site-packages\\torch\\_dynamo\\convert_frame.py:1280] Set TORCHDYNAMO_VERBOSE=1 for the internal stack trace (please do this especially if you're reporting a bug to PyTorch). For even more developer context, set TORCH_LOGS=\"+dynamo\"\n",
            "W0424 10:03:40.688000 21172 site-packages\\torch\\_dynamo\\convert_frame.py:1280] \n",
            "W0424 10:03:40.688000 21172 site-packages\\torch\\_dynamo\\convert_frame.py:1280] Traceback (most recent call last):\n",
            "W0424 10:03:40.688000 21172 site-packages\\torch\\_dynamo\\convert_frame.py:1280]   File \"c:\\Users\\paul-\\anaconda3\\envs\\py311\\Lib\\site-packages\\torch\\_dynamo\\convert_frame.py\", line 1213, in __call__\n",
            "W0424 10:03:40.688000 21172 site-packages\\torch\\_dynamo\\convert_frame.py:1280]     result = self._inner_convert(\n",
            "W0424 10:03:40.688000 21172 site-packages\\torch\\_dynamo\\convert_frame.py:1280]              ^^^^^^^^^^^^^^^^^^^^\n",
            "W0424 10:03:40.688000 21172 site-packages\\torch\\_dynamo\\convert_frame.py:1280]   File \"c:\\Users\\paul-\\anaconda3\\envs\\py311\\Lib\\site-packages\\torch\\_dynamo\\convert_frame.py\", line 598, in __call__\n",
            "W0424 10:03:40.688000 21172 site-packages\\torch\\_dynamo\\convert_frame.py:1280]     return _compile(\n",
            "W0424 10:03:40.688000 21172 site-packages\\torch\\_dynamo\\convert_frame.py:1280]            ^^^^^^^^^\n",
            "W0424 10:03:40.688000 21172 site-packages\\torch\\_dynamo\\convert_frame.py:1280]   File \"c:\\Users\\paul-\\anaconda3\\envs\\py311\\Lib\\site-packages\\torch\\_dynamo\\convert_frame.py\", line 1059, in _compile\n",
            "W0424 10:03:40.688000 21172 site-packages\\torch\\_dynamo\\convert_frame.py:1280]     guarded_code = compile_inner(code, one_graph, hooks, transform)\n",
            "W0424 10:03:40.688000 21172 site-packages\\torch\\_dynamo\\convert_frame.py:1280]                    ^^^^^^^^^^^^^^^^^^^^^^^^^^^^^^^^^^^^^^^^^^^^^^^^\n",
            "W0424 10:03:40.688000 21172 site-packages\\torch\\_dynamo\\convert_frame.py:1280]   File \"c:\\Users\\paul-\\anaconda3\\envs\\py311\\Lib\\site-packages\\torch\\_utils_internal.py\", line 97, in wrapper_function\n",
            "W0424 10:03:40.688000 21172 site-packages\\torch\\_dynamo\\convert_frame.py:1280]     return function(*args, **kwargs)\n",
            "W0424 10:03:40.688000 21172 site-packages\\torch\\_dynamo\\convert_frame.py:1280]            ^^^^^^^^^^^^^^^^^^^^^^^^^\n",
            "W0424 10:03:40.688000 21172 site-packages\\torch\\_dynamo\\convert_frame.py:1280]   File \"c:\\Users\\paul-\\anaconda3\\envs\\py311\\Lib\\site-packages\\torch\\_dynamo\\convert_frame.py\", line 761, in compile_inner\n",
            "W0424 10:03:40.688000 21172 site-packages\\torch\\_dynamo\\convert_frame.py:1280]     return _compile_inner(code, one_graph, hooks, transform)\n",
            "W0424 10:03:40.688000 21172 site-packages\\torch\\_dynamo\\convert_frame.py:1280]            ^^^^^^^^^^^^^^^^^^^^^^^^^^^^^^^^^^^^^^^^^^^^^^^^^\n",
            "W0424 10:03:40.688000 21172 site-packages\\torch\\_dynamo\\convert_frame.py:1280]   File \"c:\\Users\\paul-\\anaconda3\\envs\\py311\\Lib\\site-packages\\torch\\_dynamo\\convert_frame.py\", line 797, in _compile_inner\n",
            "W0424 10:03:40.688000 21172 site-packages\\torch\\_dynamo\\convert_frame.py:1280]     out_code = transform_code_object(code, transform)\n",
            "W0424 10:03:40.688000 21172 site-packages\\torch\\_dynamo\\convert_frame.py:1280]                ^^^^^^^^^^^^^^^^^^^^^^^^^^^^^^^^^^^^^^\n",
            "W0424 10:03:40.688000 21172 site-packages\\torch\\_dynamo\\convert_frame.py:1280]   File \"c:\\Users\\paul-\\anaconda3\\envs\\py311\\Lib\\site-packages\\torch\\_dynamo\\bytecode_transformation.py\", line 1422, in transform_code_object\n",
            "W0424 10:03:40.688000 21172 site-packages\\torch\\_dynamo\\convert_frame.py:1280]     transformations(instructions, code_options)\n",
            "W0424 10:03:40.688000 21172 site-packages\\torch\\_dynamo\\convert_frame.py:1280]   File \"c:\\Users\\paul-\\anaconda3\\envs\\py311\\Lib\\site-packages\\torch\\_dynamo\\convert_frame.py\", line 257, in _fn\n",
            "W0424 10:03:40.688000 21172 site-packages\\torch\\_dynamo\\convert_frame.py:1280]     return fn(*args, **kwargs)\n",
            "W0424 10:03:40.688000 21172 site-packages\\torch\\_dynamo\\convert_frame.py:1280]            ^^^^^^^^^^^^^^^^^^^\n",
            "W0424 10:03:40.688000 21172 site-packages\\torch\\_dynamo\\convert_frame.py:1280]   File \"c:\\Users\\paul-\\anaconda3\\envs\\py311\\Lib\\site-packages\\torch\\_dynamo\\convert_frame.py\", line 715, in transform\n",
            "W0424 10:03:40.688000 21172 site-packages\\torch\\_dynamo\\convert_frame.py:1280]     tracer.run()\n",
            "W0424 10:03:40.688000 21172 site-packages\\torch\\_dynamo\\convert_frame.py:1280]   File \"c:\\Users\\paul-\\anaconda3\\envs\\py311\\Lib\\site-packages\\torch\\_dynamo\\symbolic_convert.py\", line 3500, in run\n",
            "W0424 10:03:40.688000 21172 site-packages\\torch\\_dynamo\\convert_frame.py:1280]     super().run()\n",
            "W0424 10:03:40.688000 21172 site-packages\\torch\\_dynamo\\convert_frame.py:1280]   File \"c:\\Users\\paul-\\anaconda3\\envs\\py311\\Lib\\site-packages\\torch\\_dynamo\\symbolic_convert.py\", line 1337, in run\n",
            "W0424 10:03:40.688000 21172 site-packages\\torch\\_dynamo\\convert_frame.py:1280]     while self.step():\n",
            "W0424 10:03:40.688000 21172 site-packages\\torch\\_dynamo\\convert_frame.py:1280]           ^^^^^^^^^^^\n",
            "W0424 10:03:40.688000 21172 site-packages\\torch\\_dynamo\\convert_frame.py:1280]   File \"c:\\Users\\paul-\\anaconda3\\envs\\py311\\Lib\\site-packages\\torch\\_dynamo\\symbolic_convert.py\", line 1246, in step\n",
            "W0424 10:03:40.688000 21172 site-packages\\torch\\_dynamo\\convert_frame.py:1280]     self.dispatch_table[inst.opcode](self, inst)\n",
            "W0424 10:03:40.688000 21172 site-packages\\torch\\_dynamo\\convert_frame.py:1280]   File \"c:\\Users\\paul-\\anaconda3\\envs\\py311\\Lib\\site-packages\\torch\\_dynamo\\symbolic_convert.py\", line 3701, in RETURN_VALUE\n",
            "W0424 10:03:40.688000 21172 site-packages\\torch\\_dynamo\\convert_frame.py:1280]     self._return(inst)\n",
            "W0424 10:03:40.688000 21172 site-packages\\torch\\_dynamo\\convert_frame.py:1280]   File \"c:\\Users\\paul-\\anaconda3\\envs\\py311\\Lib\\site-packages\\torch\\_dynamo\\symbolic_convert.py\", line 3686, in _return\n",
            "W0424 10:03:40.688000 21172 site-packages\\torch\\_dynamo\\convert_frame.py:1280]     self.output.compile_subgraph(\n",
            "W0424 10:03:40.688000 21172 site-packages\\torch\\_dynamo\\convert_frame.py:1280]   File \"c:\\Users\\paul-\\anaconda3\\envs\\py311\\Lib\\site-packages\\torch\\_dynamo\\output_graph.py\", line 1144, in compile_subgraph\n",
            "W0424 10:03:40.688000 21172 site-packages\\torch\\_dynamo\\convert_frame.py:1280]     self.compile_and_call_fx_graph(\n",
            "W0424 10:03:40.688000 21172 site-packages\\torch\\_dynamo\\convert_frame.py:1280]   File \"c:\\Users\\paul-\\anaconda3\\envs\\py311\\Lib\\site-packages\\torch\\_dynamo\\output_graph.py\", line 1437, in compile_and_call_fx_graph\n",
            "W0424 10:03:40.688000 21172 site-packages\\torch\\_dynamo\\convert_frame.py:1280]     compiled_fn = self.call_user_compiler(gm)\n",
            "W0424 10:03:40.688000 21172 site-packages\\torch\\_dynamo\\convert_frame.py:1280]                   ^^^^^^^^^^^^^^^^^^^^^^^^^^^\n",
            "W0424 10:03:40.688000 21172 site-packages\\torch\\_dynamo\\convert_frame.py:1280]   File \"c:\\Users\\paul-\\anaconda3\\envs\\py311\\Lib\\site-packages\\torch\\_dynamo\\output_graph.py\", line 1487, in call_user_compiler\n",
            "W0424 10:03:40.688000 21172 site-packages\\torch\\_dynamo\\convert_frame.py:1280]     return self._call_user_compiler(gm)\n",
            "W0424 10:03:40.688000 21172 site-packages\\torch\\_dynamo\\convert_frame.py:1280]            ^^^^^^^^^^^^^^^^^^^^^^^^^^^^\n",
            "W0424 10:03:40.688000 21172 site-packages\\torch\\_dynamo\\convert_frame.py:1280]   File \"c:\\Users\\paul-\\anaconda3\\envs\\py311\\Lib\\site-packages\\torch\\_dynamo\\output_graph.py\", line 1519, in _call_user_compiler\n",
            "W0424 10:03:40.688000 21172 site-packages\\torch\\_dynamo\\convert_frame.py:1280]     compiled_fn = compiler_fn(gm, self.example_inputs())\n",
            "W0424 10:03:40.688000 21172 site-packages\\torch\\_dynamo\\convert_frame.py:1280]                   ^^^^^^^^^^^^^^^^^^^^^^^^^^^^^^^^^^^^^^\n",
            "W0424 10:03:40.688000 21172 site-packages\\torch\\_dynamo\\convert_frame.py:1280]   File \"c:\\Users\\paul-\\anaconda3\\envs\\py311\\Lib\\site-packages\\torch\\_dynamo\\repro\\after_dynamo.py\", line 150, in __call__\n",
            "W0424 10:03:40.688000 21172 site-packages\\torch\\_dynamo\\convert_frame.py:1280]     compiled_gm = compiler_fn(gm, example_inputs)\n",
            "W0424 10:03:40.688000 21172 site-packages\\torch\\_dynamo\\convert_frame.py:1280]                   ^^^^^^^^^^^^^^^^^^^^^^^^^^^^^^^\n",
            "W0424 10:03:40.688000 21172 site-packages\\torch\\_dynamo\\convert_frame.py:1280]   File \"c:\\Users\\paul-\\anaconda3\\envs\\py311\\Lib\\site-packages\\torch\\__init__.py\", line 2347, in __call__\n",
            "W0424 10:03:40.688000 21172 site-packages\\torch\\_dynamo\\convert_frame.py:1280]     return compile_fx(model_, inputs_, config_patches=self.config)\n",
            "W0424 10:03:40.688000 21172 site-packages\\torch\\_dynamo\\convert_frame.py:1280]            ^^^^^^^^^^^^^^^^^^^^^^^^^^^^^^^^^^^^^^^^^^^^^^^^^^^^^^^\n",
            "W0424 10:03:40.688000 21172 site-packages\\torch\\_dynamo\\convert_frame.py:1280]   File \"c:\\Users\\paul-\\anaconda3\\envs\\py311\\Lib\\site-packages\\torch\\_inductor\\compile_fx.py\", line 2101, in compile_fx\n",
            "W0424 10:03:40.688000 21172 site-packages\\torch\\_dynamo\\convert_frame.py:1280]     raise e.remove_dynamo_frames() from None  # see TORCHDYNAMO_VERBOSE=1\n",
            "W0424 10:03:40.688000 21172 site-packages\\torch\\_dynamo\\convert_frame.py:1280]     ^^^^^^^^^^^^^^^^^^^^^^^^^^^^^^^^^^^^^^^^\n",
            "W0424 10:03:40.688000 21172 site-packages\\torch\\_dynamo\\convert_frame.py:1280]   File \"c:\\Users\\paul-\\anaconda3\\envs\\py311\\Lib\\site-packages\\torch\\_inductor\\compile_fx.py\", line 760, in _compile_fx_inner\n",
            "W0424 10:03:40.688000 21172 site-packages\\torch\\_dynamo\\convert_frame.py:1280]     raise InductorError(e, currentframe()).with_traceback(\n",
            "W0424 10:03:40.688000 21172 site-packages\\torch\\_dynamo\\convert_frame.py:1280]   File \"c:\\Users\\paul-\\anaconda3\\envs\\py311\\Lib\\site-packages\\torch\\_inductor\\compile_fx.py\", line 745, in _compile_fx_inner\n",
            "W0424 10:03:40.688000 21172 site-packages\\torch\\_dynamo\\convert_frame.py:1280]     mb_compiled_graph = fx_codegen_and_compile(\n",
            "W0424 10:03:40.688000 21172 site-packages\\torch\\_dynamo\\convert_frame.py:1280]                         ^^^^^^^^^^^^^^^^^^^^^^^\n",
            "W0424 10:03:40.688000 21172 site-packages\\torch\\_dynamo\\convert_frame.py:1280]   File \"c:\\Users\\paul-\\anaconda3\\envs\\py311\\Lib\\site-packages\\torch\\_inductor\\compile_fx.py\", line 1295, in fx_codegen_and_compile\n",
            "W0424 10:03:40.688000 21172 site-packages\\torch\\_dynamo\\convert_frame.py:1280]     return scheme.codegen_and_compile(gm, example_inputs, inputs_to_check, graph_kwargs)\n",
            "W0424 10:03:40.688000 21172 site-packages\\torch\\_dynamo\\convert_frame.py:1280]            ^^^^^^^^^^^^^^^^^^^^^^^^^^^^^^^^^^^^^^^^^^^^^^^^^^^^^^^^^^^^^^^^^^^^^^^^^^^^^\n",
            "W0424 10:03:40.688000 21172 site-packages\\torch\\_dynamo\\convert_frame.py:1280]   File \"c:\\Users\\paul-\\anaconda3\\envs\\py311\\Lib\\site-packages\\torch\\_inductor\\compile_fx.py\", line 1197, in codegen_and_compile\n",
            "W0424 10:03:40.688000 21172 site-packages\\torch\\_dynamo\\convert_frame.py:1280]     compiled_fn = graph.compile_to_module().call\n",
            "W0424 10:03:40.688000 21172 site-packages\\torch\\_dynamo\\convert_frame.py:1280]                   ^^^^^^^^^^^^^^^^^^^^^^^^^\n",
            "W0424 10:03:40.688000 21172 site-packages\\torch\\_dynamo\\convert_frame.py:1280]   File \"c:\\Users\\paul-\\anaconda3\\envs\\py311\\Lib\\site-packages\\torch\\_inductor\\graph.py\", line 2083, in compile_to_module\n",
            "W0424 10:03:40.688000 21172 site-packages\\torch\\_dynamo\\convert_frame.py:1280]     return self._compile_to_module()\n",
            "W0424 10:03:40.688000 21172 site-packages\\torch\\_dynamo\\convert_frame.py:1280]            ^^^^^^^^^^^^^^^^^^^^^^^^^\n",
            "W0424 10:03:40.688000 21172 site-packages\\torch\\_dynamo\\convert_frame.py:1280]   File \"c:\\Users\\paul-\\anaconda3\\envs\\py311\\Lib\\site-packages\\torch\\_inductor\\graph.py\", line 2091, in _compile_to_module\n",
            "W0424 10:03:40.688000 21172 site-packages\\torch\\_dynamo\\convert_frame.py:1280]     self.codegen_with_cpp_wrapper() if self.cpp_wrapper else self.codegen()\n",
            "W0424 10:03:40.688000 21172 site-packages\\torch\\_dynamo\\convert_frame.py:1280]                                                              ^^^^^^^^^^^^^^\n",
            "W0424 10:03:40.688000 21172 site-packages\\torch\\_dynamo\\convert_frame.py:1280]   File \"c:\\Users\\paul-\\anaconda3\\envs\\py311\\Lib\\site-packages\\torch\\_inductor\\graph.py\", line 2002, in codegen\n",
            "W0424 10:03:40.688000 21172 site-packages\\torch\\_dynamo\\convert_frame.py:1280]     self.scheduler.codegen()\n",
            "W0424 10:03:40.688000 21172 site-packages\\torch\\_dynamo\\convert_frame.py:1280]   File \"c:\\Users\\paul-\\anaconda3\\envs\\py311\\Lib\\site-packages\\torch\\_inductor\\scheduler.py\", line 4135, in codegen\n",
            "W0424 10:03:40.688000 21172 site-packages\\torch\\_dynamo\\convert_frame.py:1280]     else self._codegen(self.nodes)\n",
            "W0424 10:03:40.688000 21172 site-packages\\torch\\_dynamo\\convert_frame.py:1280]          ^^^^^^^^^^^^^^^^^^^^^^^^^\n",
            "W0424 10:03:40.688000 21172 site-packages\\torch\\_dynamo\\convert_frame.py:1280]   File \"c:\\Users\\paul-\\anaconda3\\envs\\py311\\Lib\\site-packages\\torch\\_inductor\\scheduler.py\", line 4264, in _codegen\n",
            "W0424 10:03:40.688000 21172 site-packages\\torch\\_dynamo\\convert_frame.py:1280]     self.get_backend(device).codegen_node(node)\n",
            "W0424 10:03:40.688000 21172 site-packages\\torch\\_dynamo\\convert_frame.py:1280]   File \"c:\\Users\\paul-\\anaconda3\\envs\\py311\\Lib\\site-packages\\torch\\_inductor\\codegen\\cpp.py\", line 4986, in codegen_node\n",
            "W0424 10:03:40.688000 21172 site-packages\\torch\\_dynamo\\convert_frame.py:1280]     cpp_kernel_proxy = CppKernelProxy(kernel_group)\n",
            "W0424 10:03:40.688000 21172 site-packages\\torch\\_dynamo\\convert_frame.py:1280]                        ^^^^^^^^^^^^^^^^^^^^^^^^^^^^\n",
            "W0424 10:03:40.688000 21172 site-packages\\torch\\_dynamo\\convert_frame.py:1280]   File \"c:\\Users\\paul-\\anaconda3\\envs\\py311\\Lib\\site-packages\\torch\\_inductor\\codegen\\cpp.py\", line 3734, in __init__\n",
            "W0424 10:03:40.688000 21172 site-packages\\torch\\_dynamo\\convert_frame.py:1280]     self.picked_vec_isa: cpu_vec_isa.VecISA = cpu_vec_isa.pick_vec_isa()\n",
            "W0424 10:03:40.688000 21172 site-packages\\torch\\_dynamo\\convert_frame.py:1280]                                               ^^^^^^^^^^^^^^^^^^^^^^^^^^\n",
            "W0424 10:03:40.688000 21172 site-packages\\torch\\_dynamo\\convert_frame.py:1280]   File \"c:\\Users\\paul-\\anaconda3\\envs\\py311\\Lib\\site-packages\\torch\\_inductor\\cpu_vec_isa.py\", line 418, in pick_vec_isa\n",
            "W0424 10:03:40.688000 21172 site-packages\\torch\\_dynamo\\convert_frame.py:1280]     _valid_vec_isa_list: list[VecISA] = valid_vec_isa_list()\n",
            "W0424 10:03:40.688000 21172 site-packages\\torch\\_dynamo\\convert_frame.py:1280]                                         ^^^^^^^^^^^^^^^^^^^^\n",
            "W0424 10:03:40.688000 21172 site-packages\\torch\\_dynamo\\convert_frame.py:1280]   File \"c:\\Users\\paul-\\anaconda3\\envs\\py311\\Lib\\site-packages\\torch\\_inductor\\cpu_vec_isa.py\", line 405, in valid_vec_isa_list\n",
            "W0424 10:03:40.688000 21172 site-packages\\torch\\_dynamo\\convert_frame.py:1280]     isa_list.extend(\n",
            "W0424 10:03:40.688000 21172 site-packages\\torch\\_dynamo\\convert_frame.py:1280]   File \"c:\\Users\\paul-\\anaconda3\\envs\\py311\\Lib\\site-packages\\torch\\_inductor\\cpu_vec_isa.py\", line 405, in <genexpr>\n",
            "W0424 10:03:40.688000 21172 site-packages\\torch\\_dynamo\\convert_frame.py:1280]     isa_list.extend(\n",
            "W0424 10:03:40.688000 21172 site-packages\\torch\\_dynamo\\convert_frame.py:1280]                    ^\n",
            "W0424 10:03:40.688000 21172 site-packages\\torch\\_dynamo\\convert_frame.py:1280]   File \"c:\\Users\\paul-\\anaconda3\\envs\\py311\\Lib\\site-packages\\torch\\_inductor\\cpu_vec_isa.py\", line 142, in __bool__\n",
            "W0424 10:03:40.688000 21172 site-packages\\torch\\_dynamo\\convert_frame.py:1280]     return self.__bool__impl(config.cpp.vec_isa_ok)\n",
            "W0424 10:03:40.688000 21172 site-packages\\torch\\_dynamo\\convert_frame.py:1280]            ^^^^^^^^^^^^^^^^^^^^^^^^^^^^^^^^^^^^^^^^\n",
            "W0424 10:03:40.688000 21172 site-packages\\torch\\_dynamo\\convert_frame.py:1280]   File \"c:\\Users\\paul-\\anaconda3\\envs\\py311\\Lib\\site-packages\\torch\\_inductor\\cpu_vec_isa.py\", line 152, in __bool__impl\n",
            "W0424 10:03:40.688000 21172 site-packages\\torch\\_dynamo\\convert_frame.py:1280]     return self.check_build(VecISA._avx_code)\n",
            "W0424 10:03:40.688000 21172 site-packages\\torch\\_dynamo\\convert_frame.py:1280]            ^^^^^^^^^^^^^^^^^^^^^^^^^^^^^^^^^^\n",
            "W0424 10:03:40.688000 21172 site-packages\\torch\\_dynamo\\convert_frame.py:1280]   File \"c:\\Users\\paul-\\anaconda3\\envs\\py311\\Lib\\site-packages\\torch\\_inductor\\cpu_vec_isa.py\", line 102, in check_build\n",
            "W0424 10:03:40.688000 21172 site-packages\\torch\\_dynamo\\convert_frame.py:1280]     extra=_get_isa_dry_compile_fingerprint(self._arch_flags),\n",
            "W0424 10:03:40.688000 21172 site-packages\\torch\\_dynamo\\convert_frame.py:1280]           ^^^^^^^^^^^^^^^^^^^^^^^^^^^^^^^^^^^^^^^^^^^^^^^^^^\n",
            "W0424 10:03:40.688000 21172 site-packages\\torch\\_dynamo\\convert_frame.py:1280]   File \"c:\\Users\\paul-\\anaconda3\\envs\\py311\\Lib\\site-packages\\torch\\_inductor\\cpu_vec_isa.py\", line 28, in _get_isa_dry_compile_fingerprint\n",
            "W0424 10:03:40.688000 21172 site-packages\\torch\\_dynamo\\convert_frame.py:1280]     compiler_info = get_compiler_version_info(get_cpp_compiler())\n",
            "W0424 10:03:40.688000 21172 site-packages\\torch\\_dynamo\\convert_frame.py:1280]                                               ^^^^^^^^^^^^^^^^^^\n",
            "W0424 10:03:40.688000 21172 site-packages\\torch\\_dynamo\\convert_frame.py:1280]   File \"c:\\Users\\paul-\\anaconda3\\envs\\py311\\Lib\\site-packages\\torch\\_inductor\\cpp_builder.py\", line 148, in get_cpp_compiler\n",
            "W0424 10:03:40.688000 21172 site-packages\\torch\\_dynamo\\convert_frame.py:1280]     check_compiler_exist_windows(compiler)\n",
            "W0424 10:03:40.688000 21172 site-packages\\torch\\_dynamo\\convert_frame.py:1280]   File \"c:\\Users\\paul-\\anaconda3\\envs\\py311\\Lib\\site-packages\\torch\\_inductor\\cpp_builder.py\", line 139, in check_compiler_exist_windows\n",
            "W0424 10:03:40.688000 21172 site-packages\\torch\\_dynamo\\convert_frame.py:1280]     raise RuntimeError(f\"Compiler: {compiler} is not found.\") from exc\n",
            "W0424 10:03:40.688000 21172 site-packages\\torch\\_dynamo\\convert_frame.py:1280] torch._inductor.exc.InductorError: RuntimeError: Compiler: cl is not found.\n",
            "W0424 10:03:40.688000 21172 site-packages\\torch\\_dynamo\\convert_frame.py:1280] \n",
            "W0424 10:03:40.688000 21172 site-packages\\torch\\_dynamo\\convert_frame.py:1280] Set TORCHDYNAMO_VERBOSE=1 for the internal stack trace (please do this especially if you're reporting a bug to PyTorch). For even more developer context, set TORCH_LOGS=\"+dynamo\"\n",
            "W0424 10:03:40.688000 21172 site-packages\\torch\\_dynamo\\convert_frame.py:1280] \n",
            "W0424 10:03:40.807000 21172 site-packages\\torch\\_dynamo\\convert_frame.py:1280] WON'T CONVERT forward c:\\Users\\paul-\\anaconda3\\envs\\py311\\Lib\\site-packages\\transformers\\models\\bert\\modeling_bert.py line 538 \n",
            "W0424 10:03:40.807000 21172 site-packages\\torch\\_dynamo\\convert_frame.py:1280] due to: \n",
            "W0424 10:03:40.807000 21172 site-packages\\torch\\_dynamo\\convert_frame.py:1280] Traceback (most recent call last):\n",
            "W0424 10:03:40.807000 21172 site-packages\\torch\\_dynamo\\convert_frame.py:1280]   File \"c:\\Users\\paul-\\anaconda3\\envs\\py311\\Lib\\site-packages\\torch\\_dynamo\\convert_frame.py\", line 1213, in __call__\n",
            "W0424 10:03:40.807000 21172 site-packages\\torch\\_dynamo\\convert_frame.py:1280]     result = self._inner_convert(\n",
            "W0424 10:03:40.807000 21172 site-packages\\torch\\_dynamo\\convert_frame.py:1280]              ^^^^^^^^^^^^^^^^^^^^\n",
            "W0424 10:03:40.807000 21172 site-packages\\torch\\_dynamo\\convert_frame.py:1280]   File \"c:\\Users\\paul-\\anaconda3\\envs\\py311\\Lib\\site-packages\\torch\\_dynamo\\convert_frame.py\", line 598, in __call__\n",
            "W0424 10:03:40.807000 21172 site-packages\\torch\\_dynamo\\convert_frame.py:1280]     return _compile(\n",
            "W0424 10:03:40.807000 21172 site-packages\\torch\\_dynamo\\convert_frame.py:1280]            ^^^^^^^^^\n",
            "W0424 10:03:40.807000 21172 site-packages\\torch\\_dynamo\\convert_frame.py:1280]   File \"c:\\Users\\paul-\\anaconda3\\envs\\py311\\Lib\\site-packages\\torch\\_dynamo\\convert_frame.py\", line 1059, in _compile\n",
            "W0424 10:03:40.807000 21172 site-packages\\torch\\_dynamo\\convert_frame.py:1280]     guarded_code = compile_inner(code, one_graph, hooks, transform)\n",
            "W0424 10:03:40.807000 21172 site-packages\\torch\\_dynamo\\convert_frame.py:1280]                    ^^^^^^^^^^^^^^^^^^^^^^^^^^^^^^^^^^^^^^^^^^^^^^^^\n",
            "W0424 10:03:40.807000 21172 site-packages\\torch\\_dynamo\\convert_frame.py:1280]   File \"c:\\Users\\paul-\\anaconda3\\envs\\py311\\Lib\\site-packages\\torch\\_utils_internal.py\", line 97, in wrapper_function\n",
            "W0424 10:03:40.807000 21172 site-packages\\torch\\_dynamo\\convert_frame.py:1280]     return function(*args, **kwargs)\n",
            "W0424 10:03:40.807000 21172 site-packages\\torch\\_dynamo\\convert_frame.py:1280]            ^^^^^^^^^^^^^^^^^^^^^^^^^\n",
            "W0424 10:03:40.807000 21172 site-packages\\torch\\_dynamo\\convert_frame.py:1280]   File \"c:\\Users\\paul-\\anaconda3\\envs\\py311\\Lib\\site-packages\\torch\\_dynamo\\convert_frame.py\", line 761, in compile_inner\n",
            "W0424 10:03:40.807000 21172 site-packages\\torch\\_dynamo\\convert_frame.py:1280]     return _compile_inner(code, one_graph, hooks, transform)\n",
            "W0424 10:03:40.807000 21172 site-packages\\torch\\_dynamo\\convert_frame.py:1280]            ^^^^^^^^^^^^^^^^^^^^^^^^^^^^^^^^^^^^^^^^^^^^^^^^^\n",
            "W0424 10:03:40.807000 21172 site-packages\\torch\\_dynamo\\convert_frame.py:1280]   File \"c:\\Users\\paul-\\anaconda3\\envs\\py311\\Lib\\site-packages\\torch\\_dynamo\\convert_frame.py\", line 797, in _compile_inner\n",
            "W0424 10:03:40.807000 21172 site-packages\\torch\\_dynamo\\convert_frame.py:1280]     out_code = transform_code_object(code, transform)\n",
            "W0424 10:03:40.807000 21172 site-packages\\torch\\_dynamo\\convert_frame.py:1280]                ^^^^^^^^^^^^^^^^^^^^^^^^^^^^^^^^^^^^^^\n",
            "W0424 10:03:40.807000 21172 site-packages\\torch\\_dynamo\\convert_frame.py:1280]   File \"c:\\Users\\paul-\\anaconda3\\envs\\py311\\Lib\\site-packages\\torch\\_dynamo\\bytecode_transformation.py\", line 1422, in transform_code_object\n",
            "W0424 10:03:40.807000 21172 site-packages\\torch\\_dynamo\\convert_frame.py:1280]     transformations(instructions, code_options)\n",
            "W0424 10:03:40.807000 21172 site-packages\\torch\\_dynamo\\convert_frame.py:1280]   File \"c:\\Users\\paul-\\anaconda3\\envs\\py311\\Lib\\site-packages\\torch\\_dynamo\\convert_frame.py\", line 257, in _fn\n",
            "W0424 10:03:40.807000 21172 site-packages\\torch\\_dynamo\\convert_frame.py:1280]     return fn(*args, **kwargs)\n",
            "W0424 10:03:40.807000 21172 site-packages\\torch\\_dynamo\\convert_frame.py:1280]            ^^^^^^^^^^^^^^^^^^^\n",
            "W0424 10:03:40.807000 21172 site-packages\\torch\\_dynamo\\convert_frame.py:1280]   File \"c:\\Users\\paul-\\anaconda3\\envs\\py311\\Lib\\site-packages\\torch\\_dynamo\\convert_frame.py\", line 715, in transform\n",
            "W0424 10:03:40.807000 21172 site-packages\\torch\\_dynamo\\convert_frame.py:1280]     tracer.run()\n",
            "W0424 10:03:40.807000 21172 site-packages\\torch\\_dynamo\\convert_frame.py:1280]   File \"c:\\Users\\paul-\\anaconda3\\envs\\py311\\Lib\\site-packages\\torch\\_dynamo\\symbolic_convert.py\", line 3500, in run\n",
            "W0424 10:03:40.807000 21172 site-packages\\torch\\_dynamo\\convert_frame.py:1280]     super().run()\n",
            "W0424 10:03:40.807000 21172 site-packages\\torch\\_dynamo\\convert_frame.py:1280]   File \"c:\\Users\\paul-\\anaconda3\\envs\\py311\\Lib\\site-packages\\torch\\_dynamo\\symbolic_convert.py\", line 1337, in run\n",
            "W0424 10:03:40.807000 21172 site-packages\\torch\\_dynamo\\convert_frame.py:1280]     while self.step():\n",
            "W0424 10:03:40.807000 21172 site-packages\\torch\\_dynamo\\convert_frame.py:1280]           ^^^^^^^^^^^\n",
            "W0424 10:03:40.807000 21172 site-packages\\torch\\_dynamo\\convert_frame.py:1280]   File \"c:\\Users\\paul-\\anaconda3\\envs\\py311\\Lib\\site-packages\\torch\\_dynamo\\symbolic_convert.py\", line 1246, in step\n",
            "W0424 10:03:40.807000 21172 site-packages\\torch\\_dynamo\\convert_frame.py:1280]     self.dispatch_table[inst.opcode](self, inst)\n",
            "W0424 10:03:40.807000 21172 site-packages\\torch\\_dynamo\\convert_frame.py:1280]   File \"c:\\Users\\paul-\\anaconda3\\envs\\py311\\Lib\\site-packages\\torch\\_dynamo\\symbolic_convert.py\", line 3701, in RETURN_VALUE\n",
            "W0424 10:03:40.807000 21172 site-packages\\torch\\_dynamo\\convert_frame.py:1280]     self._return(inst)\n",
            "W0424 10:03:40.807000 21172 site-packages\\torch\\_dynamo\\convert_frame.py:1280]   File \"c:\\Users\\paul-\\anaconda3\\envs\\py311\\Lib\\site-packages\\torch\\_dynamo\\symbolic_convert.py\", line 3686, in _return\n",
            "W0424 10:03:40.807000 21172 site-packages\\torch\\_dynamo\\convert_frame.py:1280]     self.output.compile_subgraph(\n",
            "W0424 10:03:40.807000 21172 site-packages\\torch\\_dynamo\\convert_frame.py:1280]   File \"c:\\Users\\paul-\\anaconda3\\envs\\py311\\Lib\\site-packages\\torch\\_dynamo\\output_graph.py\", line 1144, in compile_subgraph\n",
            "W0424 10:03:40.807000 21172 site-packages\\torch\\_dynamo\\convert_frame.py:1280]     self.compile_and_call_fx_graph(\n",
            "W0424 10:03:40.807000 21172 site-packages\\torch\\_dynamo\\convert_frame.py:1280]   File \"c:\\Users\\paul-\\anaconda3\\envs\\py311\\Lib\\site-packages\\torch\\_dynamo\\output_graph.py\", line 1437, in compile_and_call_fx_graph\n",
            "W0424 10:03:40.807000 21172 site-packages\\torch\\_dynamo\\convert_frame.py:1280]     compiled_fn = self.call_user_compiler(gm)\n",
            "W0424 10:03:40.807000 21172 site-packages\\torch\\_dynamo\\convert_frame.py:1280]                   ^^^^^^^^^^^^^^^^^^^^^^^^^^^\n",
            "W0424 10:03:40.807000 21172 site-packages\\torch\\_dynamo\\convert_frame.py:1280]   File \"c:\\Users\\paul-\\anaconda3\\envs\\py311\\Lib\\site-packages\\torch\\_dynamo\\output_graph.py\", line 1487, in call_user_compiler\n",
            "W0424 10:03:40.807000 21172 site-packages\\torch\\_dynamo\\convert_frame.py:1280]     return self._call_user_compiler(gm)\n",
            "W0424 10:03:40.807000 21172 site-packages\\torch\\_dynamo\\convert_frame.py:1280]            ^^^^^^^^^^^^^^^^^^^^^^^^^^^^\n",
            "W0424 10:03:40.807000 21172 site-packages\\torch\\_dynamo\\convert_frame.py:1280]   File \"c:\\Users\\paul-\\anaconda3\\envs\\py311\\Lib\\site-packages\\torch\\_dynamo\\output_graph.py\", line 1519, in _call_user_compiler\n",
            "W0424 10:03:40.807000 21172 site-packages\\torch\\_dynamo\\convert_frame.py:1280]     compiled_fn = compiler_fn(gm, self.example_inputs())\n",
            "W0424 10:03:40.807000 21172 site-packages\\torch\\_dynamo\\convert_frame.py:1280]                   ^^^^^^^^^^^^^^^^^^^^^^^^^^^^^^^^^^^^^^\n",
            "W0424 10:03:40.807000 21172 site-packages\\torch\\_dynamo\\convert_frame.py:1280]   File \"c:\\Users\\paul-\\anaconda3\\envs\\py311\\Lib\\site-packages\\torch\\_dynamo\\repro\\after_dynamo.py\", line 150, in __call__\n",
            "W0424 10:03:40.807000 21172 site-packages\\torch\\_dynamo\\convert_frame.py:1280]     compiled_gm = compiler_fn(gm, example_inputs)\n",
            "W0424 10:03:40.807000 21172 site-packages\\torch\\_dynamo\\convert_frame.py:1280]                   ^^^^^^^^^^^^^^^^^^^^^^^^^^^^^^^\n",
            "W0424 10:03:40.807000 21172 site-packages\\torch\\_dynamo\\convert_frame.py:1280]   File \"c:\\Users\\paul-\\anaconda3\\envs\\py311\\Lib\\site-packages\\torch\\__init__.py\", line 2347, in __call__\n",
            "W0424 10:03:40.807000 21172 site-packages\\torch\\_dynamo\\convert_frame.py:1280]     return compile_fx(model_, inputs_, config_patches=self.config)\n",
            "W0424 10:03:40.807000 21172 site-packages\\torch\\_dynamo\\convert_frame.py:1280]            ^^^^^^^^^^^^^^^^^^^^^^^^^^^^^^^^^^^^^^^^^^^^^^^^^^^^^^^\n",
            "W0424 10:03:40.807000 21172 site-packages\\torch\\_dynamo\\convert_frame.py:1280]   File \"c:\\Users\\paul-\\anaconda3\\envs\\py311\\Lib\\site-packages\\torch\\_inductor\\compile_fx.py\", line 2101, in compile_fx\n",
            "W0424 10:03:40.807000 21172 site-packages\\torch\\_dynamo\\convert_frame.py:1280]     raise e.remove_dynamo_frames() from None  # see TORCHDYNAMO_VERBOSE=1\n",
            "W0424 10:03:40.807000 21172 site-packages\\torch\\_dynamo\\convert_frame.py:1280]     ^^^^^^^^^^^^^^^^^^^^^^^^^^^^^^^^^^^^^^^^\n",
            "W0424 10:03:40.807000 21172 site-packages\\torch\\_dynamo\\convert_frame.py:1280]   File \"c:\\Users\\paul-\\anaconda3\\envs\\py311\\Lib\\site-packages\\torch\\_inductor\\compile_fx.py\", line 760, in _compile_fx_inner\n",
            "W0424 10:03:40.807000 21172 site-packages\\torch\\_dynamo\\convert_frame.py:1280]     raise InductorError(e, currentframe()).with_traceback(\n",
            "W0424 10:03:40.807000 21172 site-packages\\torch\\_dynamo\\convert_frame.py:1280]   File \"c:\\Users\\paul-\\anaconda3\\envs\\py311\\Lib\\site-packages\\torch\\_inductor\\compile_fx.py\", line 745, in _compile_fx_inner\n",
            "W0424 10:03:40.807000 21172 site-packages\\torch\\_dynamo\\convert_frame.py:1280]     mb_compiled_graph = fx_codegen_and_compile(\n",
            "W0424 10:03:40.807000 21172 site-packages\\torch\\_dynamo\\convert_frame.py:1280]                         ^^^^^^^^^^^^^^^^^^^^^^^\n",
            "W0424 10:03:40.807000 21172 site-packages\\torch\\_dynamo\\convert_frame.py:1280]   File \"c:\\Users\\paul-\\anaconda3\\envs\\py311\\Lib\\site-packages\\torch\\_inductor\\compile_fx.py\", line 1295, in fx_codegen_and_compile\n",
            "W0424 10:03:40.807000 21172 site-packages\\torch\\_dynamo\\convert_frame.py:1280]     return scheme.codegen_and_compile(gm, example_inputs, inputs_to_check, graph_kwargs)\n",
            "W0424 10:03:40.807000 21172 site-packages\\torch\\_dynamo\\convert_frame.py:1280]            ^^^^^^^^^^^^^^^^^^^^^^^^^^^^^^^^^^^^^^^^^^^^^^^^^^^^^^^^^^^^^^^^^^^^^^^^^^^^^\n",
            "W0424 10:03:40.807000 21172 site-packages\\torch\\_dynamo\\convert_frame.py:1280]   File \"c:\\Users\\paul-\\anaconda3\\envs\\py311\\Lib\\site-packages\\torch\\_inductor\\compile_fx.py\", line 1197, in codegen_and_compile\n",
            "W0424 10:03:40.807000 21172 site-packages\\torch\\_dynamo\\convert_frame.py:1280]     compiled_fn = graph.compile_to_module().call\n",
            "W0424 10:03:40.807000 21172 site-packages\\torch\\_dynamo\\convert_frame.py:1280]                   ^^^^^^^^^^^^^^^^^^^^^^^^^\n",
            "W0424 10:03:40.807000 21172 site-packages\\torch\\_dynamo\\convert_frame.py:1280]   File \"c:\\Users\\paul-\\anaconda3\\envs\\py311\\Lib\\site-packages\\torch\\_inductor\\graph.py\", line 2083, in compile_to_module\n",
            "W0424 10:03:40.807000 21172 site-packages\\torch\\_dynamo\\convert_frame.py:1280]     return self._compile_to_module()\n",
            "W0424 10:03:40.807000 21172 site-packages\\torch\\_dynamo\\convert_frame.py:1280]            ^^^^^^^^^^^^^^^^^^^^^^^^^\n",
            "W0424 10:03:40.807000 21172 site-packages\\torch\\_dynamo\\convert_frame.py:1280]   File \"c:\\Users\\paul-\\anaconda3\\envs\\py311\\Lib\\site-packages\\torch\\_inductor\\graph.py\", line 2091, in _compile_to_module\n",
            "W0424 10:03:40.807000 21172 site-packages\\torch\\_dynamo\\convert_frame.py:1280]     self.codegen_with_cpp_wrapper() if self.cpp_wrapper else self.codegen()\n",
            "W0424 10:03:40.807000 21172 site-packages\\torch\\_dynamo\\convert_frame.py:1280]                                                              ^^^^^^^^^^^^^^\n",
            "W0424 10:03:40.807000 21172 site-packages\\torch\\_dynamo\\convert_frame.py:1280]   File \"c:\\Users\\paul-\\anaconda3\\envs\\py311\\Lib\\site-packages\\torch\\_inductor\\graph.py\", line 2002, in codegen\n",
            "W0424 10:03:40.807000 21172 site-packages\\torch\\_dynamo\\convert_frame.py:1280]     self.scheduler.codegen()\n",
            "W0424 10:03:40.807000 21172 site-packages\\torch\\_dynamo\\convert_frame.py:1280]   File \"c:\\Users\\paul-\\anaconda3\\envs\\py311\\Lib\\site-packages\\torch\\_inductor\\scheduler.py\", line 4135, in codegen\n",
            "W0424 10:03:40.807000 21172 site-packages\\torch\\_dynamo\\convert_frame.py:1280]     else self._codegen(self.nodes)\n",
            "W0424 10:03:40.807000 21172 site-packages\\torch\\_dynamo\\convert_frame.py:1280]          ^^^^^^^^^^^^^^^^^^^^^^^^^\n",
            "W0424 10:03:40.807000 21172 site-packages\\torch\\_dynamo\\convert_frame.py:1280]   File \"c:\\Users\\paul-\\anaconda3\\envs\\py311\\Lib\\site-packages\\torch\\_inductor\\scheduler.py\", line 4264, in _codegen\n",
            "W0424 10:03:40.807000 21172 site-packages\\torch\\_dynamo\\convert_frame.py:1280]     self.get_backend(device).codegen_node(node)\n",
            "W0424 10:03:40.807000 21172 site-packages\\torch\\_dynamo\\convert_frame.py:1280]   File \"c:\\Users\\paul-\\anaconda3\\envs\\py311\\Lib\\site-packages\\torch\\_inductor\\codegen\\cpp.py\", line 4986, in codegen_node\n",
            "W0424 10:03:40.807000 21172 site-packages\\torch\\_dynamo\\convert_frame.py:1280]     cpp_kernel_proxy = CppKernelProxy(kernel_group)\n",
            "W0424 10:03:40.807000 21172 site-packages\\torch\\_dynamo\\convert_frame.py:1280]                        ^^^^^^^^^^^^^^^^^^^^^^^^^^^^\n",
            "W0424 10:03:40.807000 21172 site-packages\\torch\\_dynamo\\convert_frame.py:1280]   File \"c:\\Users\\paul-\\anaconda3\\envs\\py311\\Lib\\site-packages\\torch\\_inductor\\codegen\\cpp.py\", line 3734, in __init__\n",
            "W0424 10:03:40.807000 21172 site-packages\\torch\\_dynamo\\convert_frame.py:1280]     self.picked_vec_isa: cpu_vec_isa.VecISA = cpu_vec_isa.pick_vec_isa()\n",
            "W0424 10:03:40.807000 21172 site-packages\\torch\\_dynamo\\convert_frame.py:1280]                                               ^^^^^^^^^^^^^^^^^^^^^^^^^^\n",
            "W0424 10:03:40.807000 21172 site-packages\\torch\\_dynamo\\convert_frame.py:1280]   File \"c:\\Users\\paul-\\anaconda3\\envs\\py311\\Lib\\site-packages\\torch\\_inductor\\cpu_vec_isa.py\", line 418, in pick_vec_isa\n",
            "W0424 10:03:40.807000 21172 site-packages\\torch\\_dynamo\\convert_frame.py:1280]     _valid_vec_isa_list: list[VecISA] = valid_vec_isa_list()\n",
            "W0424 10:03:40.807000 21172 site-packages\\torch\\_dynamo\\convert_frame.py:1280]                                         ^^^^^^^^^^^^^^^^^^^^\n",
            "W0424 10:03:40.807000 21172 site-packages\\torch\\_dynamo\\convert_frame.py:1280]   File \"c:\\Users\\paul-\\anaconda3\\envs\\py311\\Lib\\site-packages\\torch\\_inductor\\cpu_vec_isa.py\", line 405, in valid_vec_isa_list\n",
            "W0424 10:03:40.807000 21172 site-packages\\torch\\_dynamo\\convert_frame.py:1280]     isa_list.extend(\n",
            "W0424 10:03:40.807000 21172 site-packages\\torch\\_dynamo\\convert_frame.py:1280]   File \"c:\\Users\\paul-\\anaconda3\\envs\\py311\\Lib\\site-packages\\torch\\_inductor\\cpu_vec_isa.py\", line 405, in <genexpr>\n",
            "W0424 10:03:40.807000 21172 site-packages\\torch\\_dynamo\\convert_frame.py:1280]     isa_list.extend(\n",
            "W0424 10:03:40.807000 21172 site-packages\\torch\\_dynamo\\convert_frame.py:1280]                    ^\n",
            "W0424 10:03:40.807000 21172 site-packages\\torch\\_dynamo\\convert_frame.py:1280]   File \"c:\\Users\\paul-\\anaconda3\\envs\\py311\\Lib\\site-packages\\torch\\_inductor\\cpu_vec_isa.py\", line 142, in __bool__\n",
            "W0424 10:03:40.807000 21172 site-packages\\torch\\_dynamo\\convert_frame.py:1280]     return self.__bool__impl(config.cpp.vec_isa_ok)\n",
            "W0424 10:03:40.807000 21172 site-packages\\torch\\_dynamo\\convert_frame.py:1280]            ^^^^^^^^^^^^^^^^^^^^^^^^^^^^^^^^^^^^^^^^\n",
            "W0424 10:03:40.807000 21172 site-packages\\torch\\_dynamo\\convert_frame.py:1280]   File \"c:\\Users\\paul-\\anaconda3\\envs\\py311\\Lib\\site-packages\\torch\\_inductor\\cpu_vec_isa.py\", line 152, in __bool__impl\n",
            "W0424 10:03:40.807000 21172 site-packages\\torch\\_dynamo\\convert_frame.py:1280]     return self.check_build(VecISA._avx_code)\n",
            "W0424 10:03:40.807000 21172 site-packages\\torch\\_dynamo\\convert_frame.py:1280]            ^^^^^^^^^^^^^^^^^^^^^^^^^^^^^^^^^^\n",
            "W0424 10:03:40.807000 21172 site-packages\\torch\\_dynamo\\convert_frame.py:1280]   File \"c:\\Users\\paul-\\anaconda3\\envs\\py311\\Lib\\site-packages\\torch\\_inductor\\cpu_vec_isa.py\", line 102, in check_build\n",
            "W0424 10:03:40.807000 21172 site-packages\\torch\\_dynamo\\convert_frame.py:1280]     extra=_get_isa_dry_compile_fingerprint(self._arch_flags),\n",
            "W0424 10:03:40.807000 21172 site-packages\\torch\\_dynamo\\convert_frame.py:1280]           ^^^^^^^^^^^^^^^^^^^^^^^^^^^^^^^^^^^^^^^^^^^^^^^^^^\n",
            "W0424 10:03:40.807000 21172 site-packages\\torch\\_dynamo\\convert_frame.py:1280]   File \"c:\\Users\\paul-\\anaconda3\\envs\\py311\\Lib\\site-packages\\torch\\_inductor\\cpu_vec_isa.py\", line 28, in _get_isa_dry_compile_fingerprint\n",
            "W0424 10:03:40.807000 21172 site-packages\\torch\\_dynamo\\convert_frame.py:1280]     compiler_info = get_compiler_version_info(get_cpp_compiler())\n",
            "W0424 10:03:40.807000 21172 site-packages\\torch\\_dynamo\\convert_frame.py:1280]                                               ^^^^^^^^^^^^^^^^^^\n",
            "W0424 10:03:40.807000 21172 site-packages\\torch\\_dynamo\\convert_frame.py:1280]   File \"c:\\Users\\paul-\\anaconda3\\envs\\py311\\Lib\\site-packages\\torch\\_inductor\\cpp_builder.py\", line 148, in get_cpp_compiler\n",
            "W0424 10:03:40.807000 21172 site-packages\\torch\\_dynamo\\convert_frame.py:1280]     check_compiler_exist_windows(compiler)\n",
            "W0424 10:03:40.807000 21172 site-packages\\torch\\_dynamo\\convert_frame.py:1280]   File \"c:\\Users\\paul-\\anaconda3\\envs\\py311\\Lib\\site-packages\\torch\\_inductor\\cpp_builder.py\", line 139, in check_compiler_exist_windows\n",
            "W0424 10:03:40.807000 21172 site-packages\\torch\\_dynamo\\convert_frame.py:1280]     raise RuntimeError(f\"Compiler: {compiler} is not found.\") from exc\n",
            "W0424 10:03:40.807000 21172 site-packages\\torch\\_dynamo\\convert_frame.py:1280] torch._inductor.exc.InductorError: RuntimeError: Compiler: cl is not found.\n",
            "W0424 10:03:40.807000 21172 site-packages\\torch\\_dynamo\\convert_frame.py:1280] \n",
            "W0424 10:03:40.807000 21172 site-packages\\torch\\_dynamo\\convert_frame.py:1280] Set TORCHDYNAMO_VERBOSE=1 for the internal stack trace (please do this especially if you're reporting a bug to PyTorch). For even more developer context, set TORCH_LOGS=\"+dynamo\"\n",
            "W0424 10:03:40.807000 21172 site-packages\\torch\\_dynamo\\convert_frame.py:1280] \n",
            "W0424 10:03:40.807000 21172 site-packages\\torch\\_dynamo\\convert_frame.py:1280] Traceback (most recent call last):\n",
            "W0424 10:03:40.807000 21172 site-packages\\torch\\_dynamo\\convert_frame.py:1280]   File \"c:\\Users\\paul-\\anaconda3\\envs\\py311\\Lib\\site-packages\\torch\\_dynamo\\convert_frame.py\", line 1213, in __call__\n",
            "W0424 10:03:40.807000 21172 site-packages\\torch\\_dynamo\\convert_frame.py:1280]     result = self._inner_convert(\n",
            "W0424 10:03:40.807000 21172 site-packages\\torch\\_dynamo\\convert_frame.py:1280]              ^^^^^^^^^^^^^^^^^^^^\n",
            "W0424 10:03:40.807000 21172 site-packages\\torch\\_dynamo\\convert_frame.py:1280]   File \"c:\\Users\\paul-\\anaconda3\\envs\\py311\\Lib\\site-packages\\torch\\_dynamo\\convert_frame.py\", line 598, in __call__\n",
            "W0424 10:03:40.807000 21172 site-packages\\torch\\_dynamo\\convert_frame.py:1280]     return _compile(\n",
            "W0424 10:03:40.807000 21172 site-packages\\torch\\_dynamo\\convert_frame.py:1280]            ^^^^^^^^^\n",
            "W0424 10:03:40.807000 21172 site-packages\\torch\\_dynamo\\convert_frame.py:1280]   File \"c:\\Users\\paul-\\anaconda3\\envs\\py311\\Lib\\site-packages\\torch\\_dynamo\\convert_frame.py\", line 1059, in _compile\n",
            "W0424 10:03:40.807000 21172 site-packages\\torch\\_dynamo\\convert_frame.py:1280]     guarded_code = compile_inner(code, one_graph, hooks, transform)\n",
            "W0424 10:03:40.807000 21172 site-packages\\torch\\_dynamo\\convert_frame.py:1280]                    ^^^^^^^^^^^^^^^^^^^^^^^^^^^^^^^^^^^^^^^^^^^^^^^^\n",
            "W0424 10:03:40.807000 21172 site-packages\\torch\\_dynamo\\convert_frame.py:1280]   File \"c:\\Users\\paul-\\anaconda3\\envs\\py311\\Lib\\site-packages\\torch\\_utils_internal.py\", line 97, in wrapper_function\n",
            "W0424 10:03:40.807000 21172 site-packages\\torch\\_dynamo\\convert_frame.py:1280]     return function(*args, **kwargs)\n",
            "W0424 10:03:40.807000 21172 site-packages\\torch\\_dynamo\\convert_frame.py:1280]            ^^^^^^^^^^^^^^^^^^^^^^^^^\n",
            "W0424 10:03:40.807000 21172 site-packages\\torch\\_dynamo\\convert_frame.py:1280]   File \"c:\\Users\\paul-\\anaconda3\\envs\\py311\\Lib\\site-packages\\torch\\_dynamo\\convert_frame.py\", line 761, in compile_inner\n",
            "W0424 10:03:40.807000 21172 site-packages\\torch\\_dynamo\\convert_frame.py:1280]     return _compile_inner(code, one_graph, hooks, transform)\n",
            "W0424 10:03:40.807000 21172 site-packages\\torch\\_dynamo\\convert_frame.py:1280]            ^^^^^^^^^^^^^^^^^^^^^^^^^^^^^^^^^^^^^^^^^^^^^^^^^\n",
            "W0424 10:03:40.807000 21172 site-packages\\torch\\_dynamo\\convert_frame.py:1280]   File \"c:\\Users\\paul-\\anaconda3\\envs\\py311\\Lib\\site-packages\\torch\\_dynamo\\convert_frame.py\", line 797, in _compile_inner\n",
            "W0424 10:03:40.807000 21172 site-packages\\torch\\_dynamo\\convert_frame.py:1280]     out_code = transform_code_object(code, transform)\n",
            "W0424 10:03:40.807000 21172 site-packages\\torch\\_dynamo\\convert_frame.py:1280]                ^^^^^^^^^^^^^^^^^^^^^^^^^^^^^^^^^^^^^^\n",
            "W0424 10:03:40.807000 21172 site-packages\\torch\\_dynamo\\convert_frame.py:1280]   File \"c:\\Users\\paul-\\anaconda3\\envs\\py311\\Lib\\site-packages\\torch\\_dynamo\\bytecode_transformation.py\", line 1422, in transform_code_object\n",
            "W0424 10:03:40.807000 21172 site-packages\\torch\\_dynamo\\convert_frame.py:1280]     transformations(instructions, code_options)\n",
            "W0424 10:03:40.807000 21172 site-packages\\torch\\_dynamo\\convert_frame.py:1280]   File \"c:\\Users\\paul-\\anaconda3\\envs\\py311\\Lib\\site-packages\\torch\\_dynamo\\convert_frame.py\", line 257, in _fn\n",
            "W0424 10:03:40.807000 21172 site-packages\\torch\\_dynamo\\convert_frame.py:1280]     return fn(*args, **kwargs)\n",
            "W0424 10:03:40.807000 21172 site-packages\\torch\\_dynamo\\convert_frame.py:1280]            ^^^^^^^^^^^^^^^^^^^\n",
            "W0424 10:03:40.807000 21172 site-packages\\torch\\_dynamo\\convert_frame.py:1280]   File \"c:\\Users\\paul-\\anaconda3\\envs\\py311\\Lib\\site-packages\\torch\\_dynamo\\convert_frame.py\", line 715, in transform\n",
            "W0424 10:03:40.807000 21172 site-packages\\torch\\_dynamo\\convert_frame.py:1280]     tracer.run()\n",
            "W0424 10:03:40.807000 21172 site-packages\\torch\\_dynamo\\convert_frame.py:1280]   File \"c:\\Users\\paul-\\anaconda3\\envs\\py311\\Lib\\site-packages\\torch\\_dynamo\\symbolic_convert.py\", line 3500, in run\n",
            "W0424 10:03:40.807000 21172 site-packages\\torch\\_dynamo\\convert_frame.py:1280]     super().run()\n",
            "W0424 10:03:40.807000 21172 site-packages\\torch\\_dynamo\\convert_frame.py:1280]   File \"c:\\Users\\paul-\\anaconda3\\envs\\py311\\Lib\\site-packages\\torch\\_dynamo\\symbolic_convert.py\", line 1337, in run\n",
            "W0424 10:03:40.807000 21172 site-packages\\torch\\_dynamo\\convert_frame.py:1280]     while self.step():\n",
            "W0424 10:03:40.807000 21172 site-packages\\torch\\_dynamo\\convert_frame.py:1280]           ^^^^^^^^^^^\n",
            "W0424 10:03:40.807000 21172 site-packages\\torch\\_dynamo\\convert_frame.py:1280]   File \"c:\\Users\\paul-\\anaconda3\\envs\\py311\\Lib\\site-packages\\torch\\_dynamo\\symbolic_convert.py\", line 1246, in step\n",
            "W0424 10:03:40.807000 21172 site-packages\\torch\\_dynamo\\convert_frame.py:1280]     self.dispatch_table[inst.opcode](self, inst)\n",
            "W0424 10:03:40.807000 21172 site-packages\\torch\\_dynamo\\convert_frame.py:1280]   File \"c:\\Users\\paul-\\anaconda3\\envs\\py311\\Lib\\site-packages\\torch\\_dynamo\\symbolic_convert.py\", line 3701, in RETURN_VALUE\n",
            "W0424 10:03:40.807000 21172 site-packages\\torch\\_dynamo\\convert_frame.py:1280]     self._return(inst)\n",
            "W0424 10:03:40.807000 21172 site-packages\\torch\\_dynamo\\convert_frame.py:1280]   File \"c:\\Users\\paul-\\anaconda3\\envs\\py311\\Lib\\site-packages\\torch\\_dynamo\\symbolic_convert.py\", line 3686, in _return\n",
            "W0424 10:03:40.807000 21172 site-packages\\torch\\_dynamo\\convert_frame.py:1280]     self.output.compile_subgraph(\n",
            "W0424 10:03:40.807000 21172 site-packages\\torch\\_dynamo\\convert_frame.py:1280]   File \"c:\\Users\\paul-\\anaconda3\\envs\\py311\\Lib\\site-packages\\torch\\_dynamo\\output_graph.py\", line 1144, in compile_subgraph\n",
            "W0424 10:03:40.807000 21172 site-packages\\torch\\_dynamo\\convert_frame.py:1280]     self.compile_and_call_fx_graph(\n",
            "W0424 10:03:40.807000 21172 site-packages\\torch\\_dynamo\\convert_frame.py:1280]   File \"c:\\Users\\paul-\\anaconda3\\envs\\py311\\Lib\\site-packages\\torch\\_dynamo\\output_graph.py\", line 1437, in compile_and_call_fx_graph\n",
            "W0424 10:03:40.807000 21172 site-packages\\torch\\_dynamo\\convert_frame.py:1280]     compiled_fn = self.call_user_compiler(gm)\n",
            "W0424 10:03:40.807000 21172 site-packages\\torch\\_dynamo\\convert_frame.py:1280]                   ^^^^^^^^^^^^^^^^^^^^^^^^^^^\n",
            "W0424 10:03:40.807000 21172 site-packages\\torch\\_dynamo\\convert_frame.py:1280]   File \"c:\\Users\\paul-\\anaconda3\\envs\\py311\\Lib\\site-packages\\torch\\_dynamo\\output_graph.py\", line 1487, in call_user_compiler\n",
            "W0424 10:03:40.807000 21172 site-packages\\torch\\_dynamo\\convert_frame.py:1280]     return self._call_user_compiler(gm)\n",
            "W0424 10:03:40.807000 21172 site-packages\\torch\\_dynamo\\convert_frame.py:1280]            ^^^^^^^^^^^^^^^^^^^^^^^^^^^^\n",
            "W0424 10:03:40.807000 21172 site-packages\\torch\\_dynamo\\convert_frame.py:1280]   File \"c:\\Users\\paul-\\anaconda3\\envs\\py311\\Lib\\site-packages\\torch\\_dynamo\\output_graph.py\", line 1519, in _call_user_compiler\n",
            "W0424 10:03:40.807000 21172 site-packages\\torch\\_dynamo\\convert_frame.py:1280]     compiled_fn = compiler_fn(gm, self.example_inputs())\n",
            "W0424 10:03:40.807000 21172 site-packages\\torch\\_dynamo\\convert_frame.py:1280]                   ^^^^^^^^^^^^^^^^^^^^^^^^^^^^^^^^^^^^^^\n",
            "W0424 10:03:40.807000 21172 site-packages\\torch\\_dynamo\\convert_frame.py:1280]   File \"c:\\Users\\paul-\\anaconda3\\envs\\py311\\Lib\\site-packages\\torch\\_dynamo\\repro\\after_dynamo.py\", line 150, in __call__\n",
            "W0424 10:03:40.807000 21172 site-packages\\torch\\_dynamo\\convert_frame.py:1280]     compiled_gm = compiler_fn(gm, example_inputs)\n",
            "W0424 10:03:40.807000 21172 site-packages\\torch\\_dynamo\\convert_frame.py:1280]                   ^^^^^^^^^^^^^^^^^^^^^^^^^^^^^^^\n",
            "W0424 10:03:40.807000 21172 site-packages\\torch\\_dynamo\\convert_frame.py:1280]   File \"c:\\Users\\paul-\\anaconda3\\envs\\py311\\Lib\\site-packages\\torch\\__init__.py\", line 2347, in __call__\n",
            "W0424 10:03:40.807000 21172 site-packages\\torch\\_dynamo\\convert_frame.py:1280]     return compile_fx(model_, inputs_, config_patches=self.config)\n",
            "W0424 10:03:40.807000 21172 site-packages\\torch\\_dynamo\\convert_frame.py:1280]            ^^^^^^^^^^^^^^^^^^^^^^^^^^^^^^^^^^^^^^^^^^^^^^^^^^^^^^^\n",
            "W0424 10:03:40.807000 21172 site-packages\\torch\\_dynamo\\convert_frame.py:1280]   File \"c:\\Users\\paul-\\anaconda3\\envs\\py311\\Lib\\site-packages\\torch\\_inductor\\compile_fx.py\", line 2101, in compile_fx\n",
            "W0424 10:03:40.807000 21172 site-packages\\torch\\_dynamo\\convert_frame.py:1280]     raise e.remove_dynamo_frames() from None  # see TORCHDYNAMO_VERBOSE=1\n",
            "W0424 10:03:40.807000 21172 site-packages\\torch\\_dynamo\\convert_frame.py:1280]     ^^^^^^^^^^^^^^^^^^^^^^^^^^^^^^^^^^^^^^^^\n",
            "W0424 10:03:40.807000 21172 site-packages\\torch\\_dynamo\\convert_frame.py:1280]   File \"c:\\Users\\paul-\\anaconda3\\envs\\py311\\Lib\\site-packages\\torch\\_inductor\\compile_fx.py\", line 760, in _compile_fx_inner\n",
            "W0424 10:03:40.807000 21172 site-packages\\torch\\_dynamo\\convert_frame.py:1280]     raise InductorError(e, currentframe()).with_traceback(\n",
            "W0424 10:03:40.807000 21172 site-packages\\torch\\_dynamo\\convert_frame.py:1280]   File \"c:\\Users\\paul-\\anaconda3\\envs\\py311\\Lib\\site-packages\\torch\\_inductor\\compile_fx.py\", line 745, in _compile_fx_inner\n",
            "W0424 10:03:40.807000 21172 site-packages\\torch\\_dynamo\\convert_frame.py:1280]     mb_compiled_graph = fx_codegen_and_compile(\n",
            "W0424 10:03:40.807000 21172 site-packages\\torch\\_dynamo\\convert_frame.py:1280]                         ^^^^^^^^^^^^^^^^^^^^^^^\n",
            "W0424 10:03:40.807000 21172 site-packages\\torch\\_dynamo\\convert_frame.py:1280]   File \"c:\\Users\\paul-\\anaconda3\\envs\\py311\\Lib\\site-packages\\torch\\_inductor\\compile_fx.py\", line 1295, in fx_codegen_and_compile\n",
            "W0424 10:03:40.807000 21172 site-packages\\torch\\_dynamo\\convert_frame.py:1280]     return scheme.codegen_and_compile(gm, example_inputs, inputs_to_check, graph_kwargs)\n",
            "W0424 10:03:40.807000 21172 site-packages\\torch\\_dynamo\\convert_frame.py:1280]            ^^^^^^^^^^^^^^^^^^^^^^^^^^^^^^^^^^^^^^^^^^^^^^^^^^^^^^^^^^^^^^^^^^^^^^^^^^^^^\n",
            "W0424 10:03:40.807000 21172 site-packages\\torch\\_dynamo\\convert_frame.py:1280]   File \"c:\\Users\\paul-\\anaconda3\\envs\\py311\\Lib\\site-packages\\torch\\_inductor\\compile_fx.py\", line 1197, in codegen_and_compile\n",
            "W0424 10:03:40.807000 21172 site-packages\\torch\\_dynamo\\convert_frame.py:1280]     compiled_fn = graph.compile_to_module().call\n",
            "W0424 10:03:40.807000 21172 site-packages\\torch\\_dynamo\\convert_frame.py:1280]                   ^^^^^^^^^^^^^^^^^^^^^^^^^\n",
            "W0424 10:03:40.807000 21172 site-packages\\torch\\_dynamo\\convert_frame.py:1280]   File \"c:\\Users\\paul-\\anaconda3\\envs\\py311\\Lib\\site-packages\\torch\\_inductor\\graph.py\", line 2083, in compile_to_module\n",
            "W0424 10:03:40.807000 21172 site-packages\\torch\\_dynamo\\convert_frame.py:1280]     return self._compile_to_module()\n",
            "W0424 10:03:40.807000 21172 site-packages\\torch\\_dynamo\\convert_frame.py:1280]            ^^^^^^^^^^^^^^^^^^^^^^^^^\n",
            "W0424 10:03:40.807000 21172 site-packages\\torch\\_dynamo\\convert_frame.py:1280]   File \"c:\\Users\\paul-\\anaconda3\\envs\\py311\\Lib\\site-packages\\torch\\_inductor\\graph.py\", line 2091, in _compile_to_module\n",
            "W0424 10:03:40.807000 21172 site-packages\\torch\\_dynamo\\convert_frame.py:1280]     self.codegen_with_cpp_wrapper() if self.cpp_wrapper else self.codegen()\n",
            "W0424 10:03:40.807000 21172 site-packages\\torch\\_dynamo\\convert_frame.py:1280]                                                              ^^^^^^^^^^^^^^\n",
            "W0424 10:03:40.807000 21172 site-packages\\torch\\_dynamo\\convert_frame.py:1280]   File \"c:\\Users\\paul-\\anaconda3\\envs\\py311\\Lib\\site-packages\\torch\\_inductor\\graph.py\", line 2002, in codegen\n",
            "W0424 10:03:40.807000 21172 site-packages\\torch\\_dynamo\\convert_frame.py:1280]     self.scheduler.codegen()\n",
            "W0424 10:03:40.807000 21172 site-packages\\torch\\_dynamo\\convert_frame.py:1280]   File \"c:\\Users\\paul-\\anaconda3\\envs\\py311\\Lib\\site-packages\\torch\\_inductor\\scheduler.py\", line 4135, in codegen\n",
            "W0424 10:03:40.807000 21172 site-packages\\torch\\_dynamo\\convert_frame.py:1280]     else self._codegen(self.nodes)\n",
            "W0424 10:03:40.807000 21172 site-packages\\torch\\_dynamo\\convert_frame.py:1280]          ^^^^^^^^^^^^^^^^^^^^^^^^^\n",
            "W0424 10:03:40.807000 21172 site-packages\\torch\\_dynamo\\convert_frame.py:1280]   File \"c:\\Users\\paul-\\anaconda3\\envs\\py311\\Lib\\site-packages\\torch\\_inductor\\scheduler.py\", line 4264, in _codegen\n",
            "W0424 10:03:40.807000 21172 site-packages\\torch\\_dynamo\\convert_frame.py:1280]     self.get_backend(device).codegen_node(node)\n",
            "W0424 10:03:40.807000 21172 site-packages\\torch\\_dynamo\\convert_frame.py:1280]   File \"c:\\Users\\paul-\\anaconda3\\envs\\py311\\Lib\\site-packages\\torch\\_inductor\\codegen\\cpp.py\", line 4986, in codegen_node\n",
            "W0424 10:03:40.807000 21172 site-packages\\torch\\_dynamo\\convert_frame.py:1280]     cpp_kernel_proxy = CppKernelProxy(kernel_group)\n",
            "W0424 10:03:40.807000 21172 site-packages\\torch\\_dynamo\\convert_frame.py:1280]                        ^^^^^^^^^^^^^^^^^^^^^^^^^^^^\n",
            "W0424 10:03:40.807000 21172 site-packages\\torch\\_dynamo\\convert_frame.py:1280]   File \"c:\\Users\\paul-\\anaconda3\\envs\\py311\\Lib\\site-packages\\torch\\_inductor\\codegen\\cpp.py\", line 3734, in __init__\n",
            "W0424 10:03:40.807000 21172 site-packages\\torch\\_dynamo\\convert_frame.py:1280]     self.picked_vec_isa: cpu_vec_isa.VecISA = cpu_vec_isa.pick_vec_isa()\n",
            "W0424 10:03:40.807000 21172 site-packages\\torch\\_dynamo\\convert_frame.py:1280]                                               ^^^^^^^^^^^^^^^^^^^^^^^^^^\n",
            "W0424 10:03:40.807000 21172 site-packages\\torch\\_dynamo\\convert_frame.py:1280]   File \"c:\\Users\\paul-\\anaconda3\\envs\\py311\\Lib\\site-packages\\torch\\_inductor\\cpu_vec_isa.py\", line 418, in pick_vec_isa\n",
            "W0424 10:03:40.807000 21172 site-packages\\torch\\_dynamo\\convert_frame.py:1280]     _valid_vec_isa_list: list[VecISA] = valid_vec_isa_list()\n",
            "W0424 10:03:40.807000 21172 site-packages\\torch\\_dynamo\\convert_frame.py:1280]                                         ^^^^^^^^^^^^^^^^^^^^\n",
            "W0424 10:03:40.807000 21172 site-packages\\torch\\_dynamo\\convert_frame.py:1280]   File \"c:\\Users\\paul-\\anaconda3\\envs\\py311\\Lib\\site-packages\\torch\\_inductor\\cpu_vec_isa.py\", line 405, in valid_vec_isa_list\n",
            "W0424 10:03:40.807000 21172 site-packages\\torch\\_dynamo\\convert_frame.py:1280]     isa_list.extend(\n",
            "W0424 10:03:40.807000 21172 site-packages\\torch\\_dynamo\\convert_frame.py:1280]   File \"c:\\Users\\paul-\\anaconda3\\envs\\py311\\Lib\\site-packages\\torch\\_inductor\\cpu_vec_isa.py\", line 405, in <genexpr>\n",
            "W0424 10:03:40.807000 21172 site-packages\\torch\\_dynamo\\convert_frame.py:1280]     isa_list.extend(\n",
            "W0424 10:03:40.807000 21172 site-packages\\torch\\_dynamo\\convert_frame.py:1280]                    ^\n",
            "W0424 10:03:40.807000 21172 site-packages\\torch\\_dynamo\\convert_frame.py:1280]   File \"c:\\Users\\paul-\\anaconda3\\envs\\py311\\Lib\\site-packages\\torch\\_inductor\\cpu_vec_isa.py\", line 142, in __bool__\n",
            "W0424 10:03:40.807000 21172 site-packages\\torch\\_dynamo\\convert_frame.py:1280]     return self.__bool__impl(config.cpp.vec_isa_ok)\n",
            "W0424 10:03:40.807000 21172 site-packages\\torch\\_dynamo\\convert_frame.py:1280]            ^^^^^^^^^^^^^^^^^^^^^^^^^^^^^^^^^^^^^^^^\n",
            "W0424 10:03:40.807000 21172 site-packages\\torch\\_dynamo\\convert_frame.py:1280]   File \"c:\\Users\\paul-\\anaconda3\\envs\\py311\\Lib\\site-packages\\torch\\_inductor\\cpu_vec_isa.py\", line 152, in __bool__impl\n",
            "W0424 10:03:40.807000 21172 site-packages\\torch\\_dynamo\\convert_frame.py:1280]     return self.check_build(VecISA._avx_code)\n",
            "W0424 10:03:40.807000 21172 site-packages\\torch\\_dynamo\\convert_frame.py:1280]            ^^^^^^^^^^^^^^^^^^^^^^^^^^^^^^^^^^\n",
            "W0424 10:03:40.807000 21172 site-packages\\torch\\_dynamo\\convert_frame.py:1280]   File \"c:\\Users\\paul-\\anaconda3\\envs\\py311\\Lib\\site-packages\\torch\\_inductor\\cpu_vec_isa.py\", line 102, in check_build\n",
            "W0424 10:03:40.807000 21172 site-packages\\torch\\_dynamo\\convert_frame.py:1280]     extra=_get_isa_dry_compile_fingerprint(self._arch_flags),\n",
            "W0424 10:03:40.807000 21172 site-packages\\torch\\_dynamo\\convert_frame.py:1280]           ^^^^^^^^^^^^^^^^^^^^^^^^^^^^^^^^^^^^^^^^^^^^^^^^^^\n",
            "W0424 10:03:40.807000 21172 site-packages\\torch\\_dynamo\\convert_frame.py:1280]   File \"c:\\Users\\paul-\\anaconda3\\envs\\py311\\Lib\\site-packages\\torch\\_inductor\\cpu_vec_isa.py\", line 28, in _get_isa_dry_compile_fingerprint\n",
            "W0424 10:03:40.807000 21172 site-packages\\torch\\_dynamo\\convert_frame.py:1280]     compiler_info = get_compiler_version_info(get_cpp_compiler())\n",
            "W0424 10:03:40.807000 21172 site-packages\\torch\\_dynamo\\convert_frame.py:1280]                                               ^^^^^^^^^^^^^^^^^^\n",
            "W0424 10:03:40.807000 21172 site-packages\\torch\\_dynamo\\convert_frame.py:1280]   File \"c:\\Users\\paul-\\anaconda3\\envs\\py311\\Lib\\site-packages\\torch\\_inductor\\cpp_builder.py\", line 148, in get_cpp_compiler\n",
            "W0424 10:03:40.807000 21172 site-packages\\torch\\_dynamo\\convert_frame.py:1280]     check_compiler_exist_windows(compiler)\n",
            "W0424 10:03:40.807000 21172 site-packages\\torch\\_dynamo\\convert_frame.py:1280]   File \"c:\\Users\\paul-\\anaconda3\\envs\\py311\\Lib\\site-packages\\torch\\_inductor\\cpp_builder.py\", line 139, in check_compiler_exist_windows\n",
            "W0424 10:03:40.807000 21172 site-packages\\torch\\_dynamo\\convert_frame.py:1280]     raise RuntimeError(f\"Compiler: {compiler} is not found.\") from exc\n",
            "W0424 10:03:40.807000 21172 site-packages\\torch\\_dynamo\\convert_frame.py:1280] torch._inductor.exc.InductorError: RuntimeError: Compiler: cl is not found.\n",
            "W0424 10:03:40.807000 21172 site-packages\\torch\\_dynamo\\convert_frame.py:1280] \n",
            "W0424 10:03:40.807000 21172 site-packages\\torch\\_dynamo\\convert_frame.py:1280] Set TORCHDYNAMO_VERBOSE=1 for the internal stack trace (please do this especially if you're reporting a bug to PyTorch). For even more developer context, set TORCH_LOGS=\"+dynamo\"\n",
            "W0424 10:03:40.807000 21172 site-packages\\torch\\_dynamo\\convert_frame.py:1280] \n",
            "W0424 10:03:40.934000 21172 site-packages\\torch\\_dynamo\\convert_frame.py:1280] WON'T CONVERT forward c:\\Users\\paul-\\anaconda3\\envs\\py311\\Lib\\site-packages\\transformers\\activations.py line 77 \n",
            "W0424 10:03:40.934000 21172 site-packages\\torch\\_dynamo\\convert_frame.py:1280] due to: \n",
            "W0424 10:03:40.934000 21172 site-packages\\torch\\_dynamo\\convert_frame.py:1280] Traceback (most recent call last):\n",
            "W0424 10:03:40.934000 21172 site-packages\\torch\\_dynamo\\convert_frame.py:1280]   File \"c:\\Users\\paul-\\anaconda3\\envs\\py311\\Lib\\site-packages\\torch\\_dynamo\\convert_frame.py\", line 1213, in __call__\n",
            "W0424 10:03:40.934000 21172 site-packages\\torch\\_dynamo\\convert_frame.py:1280]     result = self._inner_convert(\n",
            "W0424 10:03:40.934000 21172 site-packages\\torch\\_dynamo\\convert_frame.py:1280]              ^^^^^^^^^^^^^^^^^^^^\n",
            "W0424 10:03:40.934000 21172 site-packages\\torch\\_dynamo\\convert_frame.py:1280]   File \"c:\\Users\\paul-\\anaconda3\\envs\\py311\\Lib\\site-packages\\torch\\_dynamo\\convert_frame.py\", line 598, in __call__\n",
            "W0424 10:03:40.934000 21172 site-packages\\torch\\_dynamo\\convert_frame.py:1280]     return _compile(\n",
            "W0424 10:03:40.934000 21172 site-packages\\torch\\_dynamo\\convert_frame.py:1280]            ^^^^^^^^^\n",
            "W0424 10:03:40.934000 21172 site-packages\\torch\\_dynamo\\convert_frame.py:1280]   File \"c:\\Users\\paul-\\anaconda3\\envs\\py311\\Lib\\site-packages\\torch\\_dynamo\\convert_frame.py\", line 1059, in _compile\n",
            "W0424 10:03:40.934000 21172 site-packages\\torch\\_dynamo\\convert_frame.py:1280]     guarded_code = compile_inner(code, one_graph, hooks, transform)\n",
            "W0424 10:03:40.934000 21172 site-packages\\torch\\_dynamo\\convert_frame.py:1280]                    ^^^^^^^^^^^^^^^^^^^^^^^^^^^^^^^^^^^^^^^^^^^^^^^^\n",
            "W0424 10:03:40.934000 21172 site-packages\\torch\\_dynamo\\convert_frame.py:1280]   File \"c:\\Users\\paul-\\anaconda3\\envs\\py311\\Lib\\site-packages\\torch\\_utils_internal.py\", line 97, in wrapper_function\n",
            "W0424 10:03:40.934000 21172 site-packages\\torch\\_dynamo\\convert_frame.py:1280]     return function(*args, **kwargs)\n",
            "W0424 10:03:40.934000 21172 site-packages\\torch\\_dynamo\\convert_frame.py:1280]            ^^^^^^^^^^^^^^^^^^^^^^^^^\n",
            "W0424 10:03:40.934000 21172 site-packages\\torch\\_dynamo\\convert_frame.py:1280]   File \"c:\\Users\\paul-\\anaconda3\\envs\\py311\\Lib\\site-packages\\torch\\_dynamo\\convert_frame.py\", line 761, in compile_inner\n",
            "W0424 10:03:40.934000 21172 site-packages\\torch\\_dynamo\\convert_frame.py:1280]     return _compile_inner(code, one_graph, hooks, transform)\n",
            "W0424 10:03:40.934000 21172 site-packages\\torch\\_dynamo\\convert_frame.py:1280]            ^^^^^^^^^^^^^^^^^^^^^^^^^^^^^^^^^^^^^^^^^^^^^^^^^\n",
            "W0424 10:03:40.934000 21172 site-packages\\torch\\_dynamo\\convert_frame.py:1280]   File \"c:\\Users\\paul-\\anaconda3\\envs\\py311\\Lib\\site-packages\\torch\\_dynamo\\convert_frame.py\", line 797, in _compile_inner\n",
            "W0424 10:03:40.934000 21172 site-packages\\torch\\_dynamo\\convert_frame.py:1280]     out_code = transform_code_object(code, transform)\n",
            "W0424 10:03:40.934000 21172 site-packages\\torch\\_dynamo\\convert_frame.py:1280]                ^^^^^^^^^^^^^^^^^^^^^^^^^^^^^^^^^^^^^^\n",
            "W0424 10:03:40.934000 21172 site-packages\\torch\\_dynamo\\convert_frame.py:1280]   File \"c:\\Users\\paul-\\anaconda3\\envs\\py311\\Lib\\site-packages\\torch\\_dynamo\\bytecode_transformation.py\", line 1422, in transform_code_object\n",
            "W0424 10:03:40.934000 21172 site-packages\\torch\\_dynamo\\convert_frame.py:1280]     transformations(instructions, code_options)\n",
            "W0424 10:03:40.934000 21172 site-packages\\torch\\_dynamo\\convert_frame.py:1280]   File \"c:\\Users\\paul-\\anaconda3\\envs\\py311\\Lib\\site-packages\\torch\\_dynamo\\convert_frame.py\", line 257, in _fn\n",
            "W0424 10:03:40.934000 21172 site-packages\\torch\\_dynamo\\convert_frame.py:1280]     return fn(*args, **kwargs)\n",
            "W0424 10:03:40.934000 21172 site-packages\\torch\\_dynamo\\convert_frame.py:1280]            ^^^^^^^^^^^^^^^^^^^\n",
            "W0424 10:03:40.934000 21172 site-packages\\torch\\_dynamo\\convert_frame.py:1280]   File \"c:\\Users\\paul-\\anaconda3\\envs\\py311\\Lib\\site-packages\\torch\\_dynamo\\convert_frame.py\", line 715, in transform\n",
            "W0424 10:03:40.934000 21172 site-packages\\torch\\_dynamo\\convert_frame.py:1280]     tracer.run()\n",
            "W0424 10:03:40.934000 21172 site-packages\\torch\\_dynamo\\convert_frame.py:1280]   File \"c:\\Users\\paul-\\anaconda3\\envs\\py311\\Lib\\site-packages\\torch\\_dynamo\\symbolic_convert.py\", line 3500, in run\n",
            "W0424 10:03:40.934000 21172 site-packages\\torch\\_dynamo\\convert_frame.py:1280]     super().run()\n",
            "W0424 10:03:40.934000 21172 site-packages\\torch\\_dynamo\\convert_frame.py:1280]   File \"c:\\Users\\paul-\\anaconda3\\envs\\py311\\Lib\\site-packages\\torch\\_dynamo\\symbolic_convert.py\", line 1337, in run\n",
            "W0424 10:03:40.934000 21172 site-packages\\torch\\_dynamo\\convert_frame.py:1280]     while self.step():\n",
            "W0424 10:03:40.934000 21172 site-packages\\torch\\_dynamo\\convert_frame.py:1280]           ^^^^^^^^^^^\n",
            "W0424 10:03:40.934000 21172 site-packages\\torch\\_dynamo\\convert_frame.py:1280]   File \"c:\\Users\\paul-\\anaconda3\\envs\\py311\\Lib\\site-packages\\torch\\_dynamo\\symbolic_convert.py\", line 1246, in step\n",
            "W0424 10:03:40.934000 21172 site-packages\\torch\\_dynamo\\convert_frame.py:1280]     self.dispatch_table[inst.opcode](self, inst)\n",
            "W0424 10:03:40.934000 21172 site-packages\\torch\\_dynamo\\convert_frame.py:1280]   File \"c:\\Users\\paul-\\anaconda3\\envs\\py311\\Lib\\site-packages\\torch\\_dynamo\\symbolic_convert.py\", line 3701, in RETURN_VALUE\n",
            "W0424 10:03:40.934000 21172 site-packages\\torch\\_dynamo\\convert_frame.py:1280]     self._return(inst)\n",
            "W0424 10:03:40.934000 21172 site-packages\\torch\\_dynamo\\convert_frame.py:1280]   File \"c:\\Users\\paul-\\anaconda3\\envs\\py311\\Lib\\site-packages\\torch\\_dynamo\\symbolic_convert.py\", line 3686, in _return\n",
            "W0424 10:03:40.934000 21172 site-packages\\torch\\_dynamo\\convert_frame.py:1280]     self.output.compile_subgraph(\n",
            "W0424 10:03:40.934000 21172 site-packages\\torch\\_dynamo\\convert_frame.py:1280]   File \"c:\\Users\\paul-\\anaconda3\\envs\\py311\\Lib\\site-packages\\torch\\_dynamo\\output_graph.py\", line 1144, in compile_subgraph\n",
            "W0424 10:03:40.934000 21172 site-packages\\torch\\_dynamo\\convert_frame.py:1280]     self.compile_and_call_fx_graph(\n",
            "W0424 10:03:40.934000 21172 site-packages\\torch\\_dynamo\\convert_frame.py:1280]   File \"c:\\Users\\paul-\\anaconda3\\envs\\py311\\Lib\\site-packages\\torch\\_dynamo\\output_graph.py\", line 1437, in compile_and_call_fx_graph\n",
            "W0424 10:03:40.934000 21172 site-packages\\torch\\_dynamo\\convert_frame.py:1280]     compiled_fn = self.call_user_compiler(gm)\n",
            "W0424 10:03:40.934000 21172 site-packages\\torch\\_dynamo\\convert_frame.py:1280]                   ^^^^^^^^^^^^^^^^^^^^^^^^^^^\n",
            "W0424 10:03:40.934000 21172 site-packages\\torch\\_dynamo\\convert_frame.py:1280]   File \"c:\\Users\\paul-\\anaconda3\\envs\\py311\\Lib\\site-packages\\torch\\_dynamo\\output_graph.py\", line 1487, in call_user_compiler\n",
            "W0424 10:03:40.934000 21172 site-packages\\torch\\_dynamo\\convert_frame.py:1280]     return self._call_user_compiler(gm)\n",
            "W0424 10:03:40.934000 21172 site-packages\\torch\\_dynamo\\convert_frame.py:1280]            ^^^^^^^^^^^^^^^^^^^^^^^^^^^^\n",
            "W0424 10:03:40.934000 21172 site-packages\\torch\\_dynamo\\convert_frame.py:1280]   File \"c:\\Users\\paul-\\anaconda3\\envs\\py311\\Lib\\site-packages\\torch\\_dynamo\\output_graph.py\", line 1519, in _call_user_compiler\n",
            "W0424 10:03:40.934000 21172 site-packages\\torch\\_dynamo\\convert_frame.py:1280]     compiled_fn = compiler_fn(gm, self.example_inputs())\n",
            "W0424 10:03:40.934000 21172 site-packages\\torch\\_dynamo\\convert_frame.py:1280]                   ^^^^^^^^^^^^^^^^^^^^^^^^^^^^^^^^^^^^^^\n",
            "W0424 10:03:40.934000 21172 site-packages\\torch\\_dynamo\\convert_frame.py:1280]   File \"c:\\Users\\paul-\\anaconda3\\envs\\py311\\Lib\\site-packages\\torch\\_dynamo\\repro\\after_dynamo.py\", line 150, in __call__\n",
            "W0424 10:03:40.934000 21172 site-packages\\torch\\_dynamo\\convert_frame.py:1280]     compiled_gm = compiler_fn(gm, example_inputs)\n",
            "W0424 10:03:40.934000 21172 site-packages\\torch\\_dynamo\\convert_frame.py:1280]                   ^^^^^^^^^^^^^^^^^^^^^^^^^^^^^^^\n",
            "W0424 10:03:40.934000 21172 site-packages\\torch\\_dynamo\\convert_frame.py:1280]   File \"c:\\Users\\paul-\\anaconda3\\envs\\py311\\Lib\\site-packages\\torch\\__init__.py\", line 2347, in __call__\n",
            "W0424 10:03:40.934000 21172 site-packages\\torch\\_dynamo\\convert_frame.py:1280]     return compile_fx(model_, inputs_, config_patches=self.config)\n",
            "W0424 10:03:40.934000 21172 site-packages\\torch\\_dynamo\\convert_frame.py:1280]            ^^^^^^^^^^^^^^^^^^^^^^^^^^^^^^^^^^^^^^^^^^^^^^^^^^^^^^^\n",
            "W0424 10:03:40.934000 21172 site-packages\\torch\\_dynamo\\convert_frame.py:1280]   File \"c:\\Users\\paul-\\anaconda3\\envs\\py311\\Lib\\site-packages\\torch\\_inductor\\compile_fx.py\", line 2101, in compile_fx\n",
            "W0424 10:03:40.934000 21172 site-packages\\torch\\_dynamo\\convert_frame.py:1280]     raise e.remove_dynamo_frames() from None  # see TORCHDYNAMO_VERBOSE=1\n",
            "W0424 10:03:40.934000 21172 site-packages\\torch\\_dynamo\\convert_frame.py:1280]     ^^^^^^^^^^^^^^^^^^^^^^^^^^^^^^^^^^^^^^^^\n",
            "W0424 10:03:40.934000 21172 site-packages\\torch\\_dynamo\\convert_frame.py:1280]   File \"c:\\Users\\paul-\\anaconda3\\envs\\py311\\Lib\\site-packages\\torch\\_inductor\\compile_fx.py\", line 760, in _compile_fx_inner\n",
            "W0424 10:03:40.934000 21172 site-packages\\torch\\_dynamo\\convert_frame.py:1280]     raise InductorError(e, currentframe()).with_traceback(\n",
            "W0424 10:03:40.934000 21172 site-packages\\torch\\_dynamo\\convert_frame.py:1280]   File \"c:\\Users\\paul-\\anaconda3\\envs\\py311\\Lib\\site-packages\\torch\\_inductor\\compile_fx.py\", line 745, in _compile_fx_inner\n",
            "W0424 10:03:40.934000 21172 site-packages\\torch\\_dynamo\\convert_frame.py:1280]     mb_compiled_graph = fx_codegen_and_compile(\n",
            "W0424 10:03:40.934000 21172 site-packages\\torch\\_dynamo\\convert_frame.py:1280]                         ^^^^^^^^^^^^^^^^^^^^^^^\n",
            "W0424 10:03:40.934000 21172 site-packages\\torch\\_dynamo\\convert_frame.py:1280]   File \"c:\\Users\\paul-\\anaconda3\\envs\\py311\\Lib\\site-packages\\torch\\_inductor\\compile_fx.py\", line 1295, in fx_codegen_and_compile\n",
            "W0424 10:03:40.934000 21172 site-packages\\torch\\_dynamo\\convert_frame.py:1280]     return scheme.codegen_and_compile(gm, example_inputs, inputs_to_check, graph_kwargs)\n",
            "W0424 10:03:40.934000 21172 site-packages\\torch\\_dynamo\\convert_frame.py:1280]            ^^^^^^^^^^^^^^^^^^^^^^^^^^^^^^^^^^^^^^^^^^^^^^^^^^^^^^^^^^^^^^^^^^^^^^^^^^^^^\n",
            "W0424 10:03:40.934000 21172 site-packages\\torch\\_dynamo\\convert_frame.py:1280]   File \"c:\\Users\\paul-\\anaconda3\\envs\\py311\\Lib\\site-packages\\torch\\_inductor\\compile_fx.py\", line 1197, in codegen_and_compile\n",
            "W0424 10:03:40.934000 21172 site-packages\\torch\\_dynamo\\convert_frame.py:1280]     compiled_fn = graph.compile_to_module().call\n",
            "W0424 10:03:40.934000 21172 site-packages\\torch\\_dynamo\\convert_frame.py:1280]                   ^^^^^^^^^^^^^^^^^^^^^^^^^\n",
            "W0424 10:03:40.934000 21172 site-packages\\torch\\_dynamo\\convert_frame.py:1280]   File \"c:\\Users\\paul-\\anaconda3\\envs\\py311\\Lib\\site-packages\\torch\\_inductor\\graph.py\", line 2083, in compile_to_module\n",
            "W0424 10:03:40.934000 21172 site-packages\\torch\\_dynamo\\convert_frame.py:1280]     return self._compile_to_module()\n",
            "W0424 10:03:40.934000 21172 site-packages\\torch\\_dynamo\\convert_frame.py:1280]            ^^^^^^^^^^^^^^^^^^^^^^^^^\n",
            "W0424 10:03:40.934000 21172 site-packages\\torch\\_dynamo\\convert_frame.py:1280]   File \"c:\\Users\\paul-\\anaconda3\\envs\\py311\\Lib\\site-packages\\torch\\_inductor\\graph.py\", line 2091, in _compile_to_module\n",
            "W0424 10:03:40.934000 21172 site-packages\\torch\\_dynamo\\convert_frame.py:1280]     self.codegen_with_cpp_wrapper() if self.cpp_wrapper else self.codegen()\n",
            "W0424 10:03:40.934000 21172 site-packages\\torch\\_dynamo\\convert_frame.py:1280]                                                              ^^^^^^^^^^^^^^\n",
            "W0424 10:03:40.934000 21172 site-packages\\torch\\_dynamo\\convert_frame.py:1280]   File \"c:\\Users\\paul-\\anaconda3\\envs\\py311\\Lib\\site-packages\\torch\\_inductor\\graph.py\", line 2002, in codegen\n",
            "W0424 10:03:40.934000 21172 site-packages\\torch\\_dynamo\\convert_frame.py:1280]     self.scheduler.codegen()\n",
            "W0424 10:03:40.934000 21172 site-packages\\torch\\_dynamo\\convert_frame.py:1280]   File \"c:\\Users\\paul-\\anaconda3\\envs\\py311\\Lib\\site-packages\\torch\\_inductor\\scheduler.py\", line 4135, in codegen\n",
            "W0424 10:03:40.934000 21172 site-packages\\torch\\_dynamo\\convert_frame.py:1280]     else self._codegen(self.nodes)\n",
            "W0424 10:03:40.934000 21172 site-packages\\torch\\_dynamo\\convert_frame.py:1280]          ^^^^^^^^^^^^^^^^^^^^^^^^^\n",
            "W0424 10:03:40.934000 21172 site-packages\\torch\\_dynamo\\convert_frame.py:1280]   File \"c:\\Users\\paul-\\anaconda3\\envs\\py311\\Lib\\site-packages\\torch\\_inductor\\scheduler.py\", line 4264, in _codegen\n",
            "W0424 10:03:40.934000 21172 site-packages\\torch\\_dynamo\\convert_frame.py:1280]     self.get_backend(device).codegen_node(node)\n",
            "W0424 10:03:40.934000 21172 site-packages\\torch\\_dynamo\\convert_frame.py:1280]   File \"c:\\Users\\paul-\\anaconda3\\envs\\py311\\Lib\\site-packages\\torch\\_inductor\\codegen\\cpp.py\", line 4986, in codegen_node\n",
            "W0424 10:03:40.934000 21172 site-packages\\torch\\_dynamo\\convert_frame.py:1280]     cpp_kernel_proxy = CppKernelProxy(kernel_group)\n",
            "W0424 10:03:40.934000 21172 site-packages\\torch\\_dynamo\\convert_frame.py:1280]                        ^^^^^^^^^^^^^^^^^^^^^^^^^^^^\n",
            "W0424 10:03:40.934000 21172 site-packages\\torch\\_dynamo\\convert_frame.py:1280]   File \"c:\\Users\\paul-\\anaconda3\\envs\\py311\\Lib\\site-packages\\torch\\_inductor\\codegen\\cpp.py\", line 3734, in __init__\n",
            "W0424 10:03:40.934000 21172 site-packages\\torch\\_dynamo\\convert_frame.py:1280]     self.picked_vec_isa: cpu_vec_isa.VecISA = cpu_vec_isa.pick_vec_isa()\n",
            "W0424 10:03:40.934000 21172 site-packages\\torch\\_dynamo\\convert_frame.py:1280]                                               ^^^^^^^^^^^^^^^^^^^^^^^^^^\n",
            "W0424 10:03:40.934000 21172 site-packages\\torch\\_dynamo\\convert_frame.py:1280]   File \"c:\\Users\\paul-\\anaconda3\\envs\\py311\\Lib\\site-packages\\torch\\_inductor\\cpu_vec_isa.py\", line 418, in pick_vec_isa\n",
            "W0424 10:03:40.934000 21172 site-packages\\torch\\_dynamo\\convert_frame.py:1280]     _valid_vec_isa_list: list[VecISA] = valid_vec_isa_list()\n",
            "W0424 10:03:40.934000 21172 site-packages\\torch\\_dynamo\\convert_frame.py:1280]                                         ^^^^^^^^^^^^^^^^^^^^\n",
            "W0424 10:03:40.934000 21172 site-packages\\torch\\_dynamo\\convert_frame.py:1280]   File \"c:\\Users\\paul-\\anaconda3\\envs\\py311\\Lib\\site-packages\\torch\\_inductor\\cpu_vec_isa.py\", line 405, in valid_vec_isa_list\n",
            "W0424 10:03:40.934000 21172 site-packages\\torch\\_dynamo\\convert_frame.py:1280]     isa_list.extend(\n",
            "W0424 10:03:40.934000 21172 site-packages\\torch\\_dynamo\\convert_frame.py:1280]   File \"c:\\Users\\paul-\\anaconda3\\envs\\py311\\Lib\\site-packages\\torch\\_inductor\\cpu_vec_isa.py\", line 405, in <genexpr>\n",
            "W0424 10:03:40.934000 21172 site-packages\\torch\\_dynamo\\convert_frame.py:1280]     isa_list.extend(\n",
            "W0424 10:03:40.934000 21172 site-packages\\torch\\_dynamo\\convert_frame.py:1280]                    ^\n",
            "W0424 10:03:40.934000 21172 site-packages\\torch\\_dynamo\\convert_frame.py:1280]   File \"c:\\Users\\paul-\\anaconda3\\envs\\py311\\Lib\\site-packages\\torch\\_inductor\\cpu_vec_isa.py\", line 142, in __bool__\n",
            "W0424 10:03:40.934000 21172 site-packages\\torch\\_dynamo\\convert_frame.py:1280]     return self.__bool__impl(config.cpp.vec_isa_ok)\n",
            "W0424 10:03:40.934000 21172 site-packages\\torch\\_dynamo\\convert_frame.py:1280]            ^^^^^^^^^^^^^^^^^^^^^^^^^^^^^^^^^^^^^^^^\n",
            "W0424 10:03:40.934000 21172 site-packages\\torch\\_dynamo\\convert_frame.py:1280]   File \"c:\\Users\\paul-\\anaconda3\\envs\\py311\\Lib\\site-packages\\torch\\_inductor\\cpu_vec_isa.py\", line 152, in __bool__impl\n",
            "W0424 10:03:40.934000 21172 site-packages\\torch\\_dynamo\\convert_frame.py:1280]     return self.check_build(VecISA._avx_code)\n",
            "W0424 10:03:40.934000 21172 site-packages\\torch\\_dynamo\\convert_frame.py:1280]            ^^^^^^^^^^^^^^^^^^^^^^^^^^^^^^^^^^\n",
            "W0424 10:03:40.934000 21172 site-packages\\torch\\_dynamo\\convert_frame.py:1280]   File \"c:\\Users\\paul-\\anaconda3\\envs\\py311\\Lib\\site-packages\\torch\\_inductor\\cpu_vec_isa.py\", line 102, in check_build\n",
            "W0424 10:03:40.934000 21172 site-packages\\torch\\_dynamo\\convert_frame.py:1280]     extra=_get_isa_dry_compile_fingerprint(self._arch_flags),\n",
            "W0424 10:03:40.934000 21172 site-packages\\torch\\_dynamo\\convert_frame.py:1280]           ^^^^^^^^^^^^^^^^^^^^^^^^^^^^^^^^^^^^^^^^^^^^^^^^^^\n",
            "W0424 10:03:40.934000 21172 site-packages\\torch\\_dynamo\\convert_frame.py:1280]   File \"c:\\Users\\paul-\\anaconda3\\envs\\py311\\Lib\\site-packages\\torch\\_inductor\\cpu_vec_isa.py\", line 28, in _get_isa_dry_compile_fingerprint\n",
            "W0424 10:03:40.934000 21172 site-packages\\torch\\_dynamo\\convert_frame.py:1280]     compiler_info = get_compiler_version_info(get_cpp_compiler())\n",
            "W0424 10:03:40.934000 21172 site-packages\\torch\\_dynamo\\convert_frame.py:1280]                                               ^^^^^^^^^^^^^^^^^^\n",
            "W0424 10:03:40.934000 21172 site-packages\\torch\\_dynamo\\convert_frame.py:1280]   File \"c:\\Users\\paul-\\anaconda3\\envs\\py311\\Lib\\site-packages\\torch\\_inductor\\cpp_builder.py\", line 148, in get_cpp_compiler\n",
            "W0424 10:03:40.934000 21172 site-packages\\torch\\_dynamo\\convert_frame.py:1280]     check_compiler_exist_windows(compiler)\n",
            "W0424 10:03:40.934000 21172 site-packages\\torch\\_dynamo\\convert_frame.py:1280]   File \"c:\\Users\\paul-\\anaconda3\\envs\\py311\\Lib\\site-packages\\torch\\_inductor\\cpp_builder.py\", line 139, in check_compiler_exist_windows\n",
            "W0424 10:03:40.934000 21172 site-packages\\torch\\_dynamo\\convert_frame.py:1280]     raise RuntimeError(f\"Compiler: {compiler} is not found.\") from exc\n",
            "W0424 10:03:40.934000 21172 site-packages\\torch\\_dynamo\\convert_frame.py:1280] torch._inductor.exc.InductorError: RuntimeError: Compiler: cl is not found.\n",
            "W0424 10:03:40.934000 21172 site-packages\\torch\\_dynamo\\convert_frame.py:1280] \n",
            "W0424 10:03:40.934000 21172 site-packages\\torch\\_dynamo\\convert_frame.py:1280] Set TORCHDYNAMO_VERBOSE=1 for the internal stack trace (please do this especially if you're reporting a bug to PyTorch). For even more developer context, set TORCH_LOGS=\"+dynamo\"\n",
            "W0424 10:03:40.934000 21172 site-packages\\torch\\_dynamo\\convert_frame.py:1280] \n",
            "W0424 10:03:40.934000 21172 site-packages\\torch\\_dynamo\\convert_frame.py:1280] Traceback (most recent call last):\n",
            "W0424 10:03:40.934000 21172 site-packages\\torch\\_dynamo\\convert_frame.py:1280]   File \"c:\\Users\\paul-\\anaconda3\\envs\\py311\\Lib\\site-packages\\torch\\_dynamo\\convert_frame.py\", line 1213, in __call__\n",
            "W0424 10:03:40.934000 21172 site-packages\\torch\\_dynamo\\convert_frame.py:1280]     result = self._inner_convert(\n",
            "W0424 10:03:40.934000 21172 site-packages\\torch\\_dynamo\\convert_frame.py:1280]              ^^^^^^^^^^^^^^^^^^^^\n",
            "W0424 10:03:40.934000 21172 site-packages\\torch\\_dynamo\\convert_frame.py:1280]   File \"c:\\Users\\paul-\\anaconda3\\envs\\py311\\Lib\\site-packages\\torch\\_dynamo\\convert_frame.py\", line 598, in __call__\n",
            "W0424 10:03:40.934000 21172 site-packages\\torch\\_dynamo\\convert_frame.py:1280]     return _compile(\n",
            "W0424 10:03:40.934000 21172 site-packages\\torch\\_dynamo\\convert_frame.py:1280]            ^^^^^^^^^\n",
            "W0424 10:03:40.934000 21172 site-packages\\torch\\_dynamo\\convert_frame.py:1280]   File \"c:\\Users\\paul-\\anaconda3\\envs\\py311\\Lib\\site-packages\\torch\\_dynamo\\convert_frame.py\", line 1059, in _compile\n",
            "W0424 10:03:40.934000 21172 site-packages\\torch\\_dynamo\\convert_frame.py:1280]     guarded_code = compile_inner(code, one_graph, hooks, transform)\n",
            "W0424 10:03:40.934000 21172 site-packages\\torch\\_dynamo\\convert_frame.py:1280]                    ^^^^^^^^^^^^^^^^^^^^^^^^^^^^^^^^^^^^^^^^^^^^^^^^\n",
            "W0424 10:03:40.934000 21172 site-packages\\torch\\_dynamo\\convert_frame.py:1280]   File \"c:\\Users\\paul-\\anaconda3\\envs\\py311\\Lib\\site-packages\\torch\\_utils_internal.py\", line 97, in wrapper_function\n",
            "W0424 10:03:40.934000 21172 site-packages\\torch\\_dynamo\\convert_frame.py:1280]     return function(*args, **kwargs)\n",
            "W0424 10:03:40.934000 21172 site-packages\\torch\\_dynamo\\convert_frame.py:1280]            ^^^^^^^^^^^^^^^^^^^^^^^^^\n",
            "W0424 10:03:40.934000 21172 site-packages\\torch\\_dynamo\\convert_frame.py:1280]   File \"c:\\Users\\paul-\\anaconda3\\envs\\py311\\Lib\\site-packages\\torch\\_dynamo\\convert_frame.py\", line 761, in compile_inner\n",
            "W0424 10:03:40.934000 21172 site-packages\\torch\\_dynamo\\convert_frame.py:1280]     return _compile_inner(code, one_graph, hooks, transform)\n",
            "W0424 10:03:40.934000 21172 site-packages\\torch\\_dynamo\\convert_frame.py:1280]            ^^^^^^^^^^^^^^^^^^^^^^^^^^^^^^^^^^^^^^^^^^^^^^^^^\n",
            "W0424 10:03:40.934000 21172 site-packages\\torch\\_dynamo\\convert_frame.py:1280]   File \"c:\\Users\\paul-\\anaconda3\\envs\\py311\\Lib\\site-packages\\torch\\_dynamo\\convert_frame.py\", line 797, in _compile_inner\n",
            "W0424 10:03:40.934000 21172 site-packages\\torch\\_dynamo\\convert_frame.py:1280]     out_code = transform_code_object(code, transform)\n",
            "W0424 10:03:40.934000 21172 site-packages\\torch\\_dynamo\\convert_frame.py:1280]                ^^^^^^^^^^^^^^^^^^^^^^^^^^^^^^^^^^^^^^\n",
            "W0424 10:03:40.934000 21172 site-packages\\torch\\_dynamo\\convert_frame.py:1280]   File \"c:\\Users\\paul-\\anaconda3\\envs\\py311\\Lib\\site-packages\\torch\\_dynamo\\bytecode_transformation.py\", line 1422, in transform_code_object\n",
            "W0424 10:03:40.934000 21172 site-packages\\torch\\_dynamo\\convert_frame.py:1280]     transformations(instructions, code_options)\n",
            "W0424 10:03:40.934000 21172 site-packages\\torch\\_dynamo\\convert_frame.py:1280]   File \"c:\\Users\\paul-\\anaconda3\\envs\\py311\\Lib\\site-packages\\torch\\_dynamo\\convert_frame.py\", line 257, in _fn\n",
            "W0424 10:03:40.934000 21172 site-packages\\torch\\_dynamo\\convert_frame.py:1280]     return fn(*args, **kwargs)\n",
            "W0424 10:03:40.934000 21172 site-packages\\torch\\_dynamo\\convert_frame.py:1280]            ^^^^^^^^^^^^^^^^^^^\n",
            "W0424 10:03:40.934000 21172 site-packages\\torch\\_dynamo\\convert_frame.py:1280]   File \"c:\\Users\\paul-\\anaconda3\\envs\\py311\\Lib\\site-packages\\torch\\_dynamo\\convert_frame.py\", line 715, in transform\n",
            "W0424 10:03:40.934000 21172 site-packages\\torch\\_dynamo\\convert_frame.py:1280]     tracer.run()\n",
            "W0424 10:03:40.934000 21172 site-packages\\torch\\_dynamo\\convert_frame.py:1280]   File \"c:\\Users\\paul-\\anaconda3\\envs\\py311\\Lib\\site-packages\\torch\\_dynamo\\symbolic_convert.py\", line 3500, in run\n",
            "W0424 10:03:40.934000 21172 site-packages\\torch\\_dynamo\\convert_frame.py:1280]     super().run()\n",
            "W0424 10:03:40.934000 21172 site-packages\\torch\\_dynamo\\convert_frame.py:1280]   File \"c:\\Users\\paul-\\anaconda3\\envs\\py311\\Lib\\site-packages\\torch\\_dynamo\\symbolic_convert.py\", line 1337, in run\n",
            "W0424 10:03:40.934000 21172 site-packages\\torch\\_dynamo\\convert_frame.py:1280]     while self.step():\n",
            "W0424 10:03:40.934000 21172 site-packages\\torch\\_dynamo\\convert_frame.py:1280]           ^^^^^^^^^^^\n",
            "W0424 10:03:40.934000 21172 site-packages\\torch\\_dynamo\\convert_frame.py:1280]   File \"c:\\Users\\paul-\\anaconda3\\envs\\py311\\Lib\\site-packages\\torch\\_dynamo\\symbolic_convert.py\", line 1246, in step\n",
            "W0424 10:03:40.934000 21172 site-packages\\torch\\_dynamo\\convert_frame.py:1280]     self.dispatch_table[inst.opcode](self, inst)\n",
            "W0424 10:03:40.934000 21172 site-packages\\torch\\_dynamo\\convert_frame.py:1280]   File \"c:\\Users\\paul-\\anaconda3\\envs\\py311\\Lib\\site-packages\\torch\\_dynamo\\symbolic_convert.py\", line 3701, in RETURN_VALUE\n",
            "W0424 10:03:40.934000 21172 site-packages\\torch\\_dynamo\\convert_frame.py:1280]     self._return(inst)\n",
            "W0424 10:03:40.934000 21172 site-packages\\torch\\_dynamo\\convert_frame.py:1280]   File \"c:\\Users\\paul-\\anaconda3\\envs\\py311\\Lib\\site-packages\\torch\\_dynamo\\symbolic_convert.py\", line 3686, in _return\n",
            "W0424 10:03:40.934000 21172 site-packages\\torch\\_dynamo\\convert_frame.py:1280]     self.output.compile_subgraph(\n",
            "W0424 10:03:40.934000 21172 site-packages\\torch\\_dynamo\\convert_frame.py:1280]   File \"c:\\Users\\paul-\\anaconda3\\envs\\py311\\Lib\\site-packages\\torch\\_dynamo\\output_graph.py\", line 1144, in compile_subgraph\n",
            "W0424 10:03:40.934000 21172 site-packages\\torch\\_dynamo\\convert_frame.py:1280]     self.compile_and_call_fx_graph(\n",
            "W0424 10:03:40.934000 21172 site-packages\\torch\\_dynamo\\convert_frame.py:1280]   File \"c:\\Users\\paul-\\anaconda3\\envs\\py311\\Lib\\site-packages\\torch\\_dynamo\\output_graph.py\", line 1437, in compile_and_call_fx_graph\n",
            "W0424 10:03:40.934000 21172 site-packages\\torch\\_dynamo\\convert_frame.py:1280]     compiled_fn = self.call_user_compiler(gm)\n",
            "W0424 10:03:40.934000 21172 site-packages\\torch\\_dynamo\\convert_frame.py:1280]                   ^^^^^^^^^^^^^^^^^^^^^^^^^^^\n",
            "W0424 10:03:40.934000 21172 site-packages\\torch\\_dynamo\\convert_frame.py:1280]   File \"c:\\Users\\paul-\\anaconda3\\envs\\py311\\Lib\\site-packages\\torch\\_dynamo\\output_graph.py\", line 1487, in call_user_compiler\n",
            "W0424 10:03:40.934000 21172 site-packages\\torch\\_dynamo\\convert_frame.py:1280]     return self._call_user_compiler(gm)\n",
            "W0424 10:03:40.934000 21172 site-packages\\torch\\_dynamo\\convert_frame.py:1280]            ^^^^^^^^^^^^^^^^^^^^^^^^^^^^\n",
            "W0424 10:03:40.934000 21172 site-packages\\torch\\_dynamo\\convert_frame.py:1280]   File \"c:\\Users\\paul-\\anaconda3\\envs\\py311\\Lib\\site-packages\\torch\\_dynamo\\output_graph.py\", line 1519, in _call_user_compiler\n",
            "W0424 10:03:40.934000 21172 site-packages\\torch\\_dynamo\\convert_frame.py:1280]     compiled_fn = compiler_fn(gm, self.example_inputs())\n",
            "W0424 10:03:40.934000 21172 site-packages\\torch\\_dynamo\\convert_frame.py:1280]                   ^^^^^^^^^^^^^^^^^^^^^^^^^^^^^^^^^^^^^^\n",
            "W0424 10:03:40.934000 21172 site-packages\\torch\\_dynamo\\convert_frame.py:1280]   File \"c:\\Users\\paul-\\anaconda3\\envs\\py311\\Lib\\site-packages\\torch\\_dynamo\\repro\\after_dynamo.py\", line 150, in __call__\n",
            "W0424 10:03:40.934000 21172 site-packages\\torch\\_dynamo\\convert_frame.py:1280]     compiled_gm = compiler_fn(gm, example_inputs)\n",
            "W0424 10:03:40.934000 21172 site-packages\\torch\\_dynamo\\convert_frame.py:1280]                   ^^^^^^^^^^^^^^^^^^^^^^^^^^^^^^^\n",
            "W0424 10:03:40.934000 21172 site-packages\\torch\\_dynamo\\convert_frame.py:1280]   File \"c:\\Users\\paul-\\anaconda3\\envs\\py311\\Lib\\site-packages\\torch\\__init__.py\", line 2347, in __call__\n",
            "W0424 10:03:40.934000 21172 site-packages\\torch\\_dynamo\\convert_frame.py:1280]     return compile_fx(model_, inputs_, config_patches=self.config)\n",
            "W0424 10:03:40.934000 21172 site-packages\\torch\\_dynamo\\convert_frame.py:1280]            ^^^^^^^^^^^^^^^^^^^^^^^^^^^^^^^^^^^^^^^^^^^^^^^^^^^^^^^\n",
            "W0424 10:03:40.934000 21172 site-packages\\torch\\_dynamo\\convert_frame.py:1280]   File \"c:\\Users\\paul-\\anaconda3\\envs\\py311\\Lib\\site-packages\\torch\\_inductor\\compile_fx.py\", line 2101, in compile_fx\n",
            "W0424 10:03:40.934000 21172 site-packages\\torch\\_dynamo\\convert_frame.py:1280]     raise e.remove_dynamo_frames() from None  # see TORCHDYNAMO_VERBOSE=1\n",
            "W0424 10:03:40.934000 21172 site-packages\\torch\\_dynamo\\convert_frame.py:1280]     ^^^^^^^^^^^^^^^^^^^^^^^^^^^^^^^^^^^^^^^^\n",
            "W0424 10:03:40.934000 21172 site-packages\\torch\\_dynamo\\convert_frame.py:1280]   File \"c:\\Users\\paul-\\anaconda3\\envs\\py311\\Lib\\site-packages\\torch\\_inductor\\compile_fx.py\", line 760, in _compile_fx_inner\n",
            "W0424 10:03:40.934000 21172 site-packages\\torch\\_dynamo\\convert_frame.py:1280]     raise InductorError(e, currentframe()).with_traceback(\n",
            "W0424 10:03:40.934000 21172 site-packages\\torch\\_dynamo\\convert_frame.py:1280]   File \"c:\\Users\\paul-\\anaconda3\\envs\\py311\\Lib\\site-packages\\torch\\_inductor\\compile_fx.py\", line 745, in _compile_fx_inner\n",
            "W0424 10:03:40.934000 21172 site-packages\\torch\\_dynamo\\convert_frame.py:1280]     mb_compiled_graph = fx_codegen_and_compile(\n",
            "W0424 10:03:40.934000 21172 site-packages\\torch\\_dynamo\\convert_frame.py:1280]                         ^^^^^^^^^^^^^^^^^^^^^^^\n",
            "W0424 10:03:40.934000 21172 site-packages\\torch\\_dynamo\\convert_frame.py:1280]   File \"c:\\Users\\paul-\\anaconda3\\envs\\py311\\Lib\\site-packages\\torch\\_inductor\\compile_fx.py\", line 1295, in fx_codegen_and_compile\n",
            "W0424 10:03:40.934000 21172 site-packages\\torch\\_dynamo\\convert_frame.py:1280]     return scheme.codegen_and_compile(gm, example_inputs, inputs_to_check, graph_kwargs)\n",
            "W0424 10:03:40.934000 21172 site-packages\\torch\\_dynamo\\convert_frame.py:1280]            ^^^^^^^^^^^^^^^^^^^^^^^^^^^^^^^^^^^^^^^^^^^^^^^^^^^^^^^^^^^^^^^^^^^^^^^^^^^^^\n",
            "W0424 10:03:40.934000 21172 site-packages\\torch\\_dynamo\\convert_frame.py:1280]   File \"c:\\Users\\paul-\\anaconda3\\envs\\py311\\Lib\\site-packages\\torch\\_inductor\\compile_fx.py\", line 1197, in codegen_and_compile\n",
            "W0424 10:03:40.934000 21172 site-packages\\torch\\_dynamo\\convert_frame.py:1280]     compiled_fn = graph.compile_to_module().call\n",
            "W0424 10:03:40.934000 21172 site-packages\\torch\\_dynamo\\convert_frame.py:1280]                   ^^^^^^^^^^^^^^^^^^^^^^^^^\n",
            "W0424 10:03:40.934000 21172 site-packages\\torch\\_dynamo\\convert_frame.py:1280]   File \"c:\\Users\\paul-\\anaconda3\\envs\\py311\\Lib\\site-packages\\torch\\_inductor\\graph.py\", line 2083, in compile_to_module\n",
            "W0424 10:03:40.934000 21172 site-packages\\torch\\_dynamo\\convert_frame.py:1280]     return self._compile_to_module()\n",
            "W0424 10:03:40.934000 21172 site-packages\\torch\\_dynamo\\convert_frame.py:1280]            ^^^^^^^^^^^^^^^^^^^^^^^^^\n",
            "W0424 10:03:40.934000 21172 site-packages\\torch\\_dynamo\\convert_frame.py:1280]   File \"c:\\Users\\paul-\\anaconda3\\envs\\py311\\Lib\\site-packages\\torch\\_inductor\\graph.py\", line 2091, in _compile_to_module\n",
            "W0424 10:03:40.934000 21172 site-packages\\torch\\_dynamo\\convert_frame.py:1280]     self.codegen_with_cpp_wrapper() if self.cpp_wrapper else self.codegen()\n",
            "W0424 10:03:40.934000 21172 site-packages\\torch\\_dynamo\\convert_frame.py:1280]                                                              ^^^^^^^^^^^^^^\n",
            "W0424 10:03:40.934000 21172 site-packages\\torch\\_dynamo\\convert_frame.py:1280]   File \"c:\\Users\\paul-\\anaconda3\\envs\\py311\\Lib\\site-packages\\torch\\_inductor\\graph.py\", line 2002, in codegen\n",
            "W0424 10:03:40.934000 21172 site-packages\\torch\\_dynamo\\convert_frame.py:1280]     self.scheduler.codegen()\n",
            "W0424 10:03:40.934000 21172 site-packages\\torch\\_dynamo\\convert_frame.py:1280]   File \"c:\\Users\\paul-\\anaconda3\\envs\\py311\\Lib\\site-packages\\torch\\_inductor\\scheduler.py\", line 4135, in codegen\n",
            "W0424 10:03:40.934000 21172 site-packages\\torch\\_dynamo\\convert_frame.py:1280]     else self._codegen(self.nodes)\n",
            "W0424 10:03:40.934000 21172 site-packages\\torch\\_dynamo\\convert_frame.py:1280]          ^^^^^^^^^^^^^^^^^^^^^^^^^\n",
            "W0424 10:03:40.934000 21172 site-packages\\torch\\_dynamo\\convert_frame.py:1280]   File \"c:\\Users\\paul-\\anaconda3\\envs\\py311\\Lib\\site-packages\\torch\\_inductor\\scheduler.py\", line 4264, in _codegen\n",
            "W0424 10:03:40.934000 21172 site-packages\\torch\\_dynamo\\convert_frame.py:1280]     self.get_backend(device).codegen_node(node)\n",
            "W0424 10:03:40.934000 21172 site-packages\\torch\\_dynamo\\convert_frame.py:1280]   File \"c:\\Users\\paul-\\anaconda3\\envs\\py311\\Lib\\site-packages\\torch\\_inductor\\codegen\\cpp.py\", line 4986, in codegen_node\n",
            "W0424 10:03:40.934000 21172 site-packages\\torch\\_dynamo\\convert_frame.py:1280]     cpp_kernel_proxy = CppKernelProxy(kernel_group)\n",
            "W0424 10:03:40.934000 21172 site-packages\\torch\\_dynamo\\convert_frame.py:1280]                        ^^^^^^^^^^^^^^^^^^^^^^^^^^^^\n",
            "W0424 10:03:40.934000 21172 site-packages\\torch\\_dynamo\\convert_frame.py:1280]   File \"c:\\Users\\paul-\\anaconda3\\envs\\py311\\Lib\\site-packages\\torch\\_inductor\\codegen\\cpp.py\", line 3734, in __init__\n",
            "W0424 10:03:40.934000 21172 site-packages\\torch\\_dynamo\\convert_frame.py:1280]     self.picked_vec_isa: cpu_vec_isa.VecISA = cpu_vec_isa.pick_vec_isa()\n",
            "W0424 10:03:40.934000 21172 site-packages\\torch\\_dynamo\\convert_frame.py:1280]                                               ^^^^^^^^^^^^^^^^^^^^^^^^^^\n",
            "W0424 10:03:40.934000 21172 site-packages\\torch\\_dynamo\\convert_frame.py:1280]   File \"c:\\Users\\paul-\\anaconda3\\envs\\py311\\Lib\\site-packages\\torch\\_inductor\\cpu_vec_isa.py\", line 418, in pick_vec_isa\n",
            "W0424 10:03:40.934000 21172 site-packages\\torch\\_dynamo\\convert_frame.py:1280]     _valid_vec_isa_list: list[VecISA] = valid_vec_isa_list()\n",
            "W0424 10:03:40.934000 21172 site-packages\\torch\\_dynamo\\convert_frame.py:1280]                                         ^^^^^^^^^^^^^^^^^^^^\n",
            "W0424 10:03:40.934000 21172 site-packages\\torch\\_dynamo\\convert_frame.py:1280]   File \"c:\\Users\\paul-\\anaconda3\\envs\\py311\\Lib\\site-packages\\torch\\_inductor\\cpu_vec_isa.py\", line 405, in valid_vec_isa_list\n",
            "W0424 10:03:40.934000 21172 site-packages\\torch\\_dynamo\\convert_frame.py:1280]     isa_list.extend(\n",
            "W0424 10:03:40.934000 21172 site-packages\\torch\\_dynamo\\convert_frame.py:1280]   File \"c:\\Users\\paul-\\anaconda3\\envs\\py311\\Lib\\site-packages\\torch\\_inductor\\cpu_vec_isa.py\", line 405, in <genexpr>\n",
            "W0424 10:03:40.934000 21172 site-packages\\torch\\_dynamo\\convert_frame.py:1280]     isa_list.extend(\n",
            "W0424 10:03:40.934000 21172 site-packages\\torch\\_dynamo\\convert_frame.py:1280]                    ^\n",
            "W0424 10:03:40.934000 21172 site-packages\\torch\\_dynamo\\convert_frame.py:1280]   File \"c:\\Users\\paul-\\anaconda3\\envs\\py311\\Lib\\site-packages\\torch\\_inductor\\cpu_vec_isa.py\", line 142, in __bool__\n",
            "W0424 10:03:40.934000 21172 site-packages\\torch\\_dynamo\\convert_frame.py:1280]     return self.__bool__impl(config.cpp.vec_isa_ok)\n",
            "W0424 10:03:40.934000 21172 site-packages\\torch\\_dynamo\\convert_frame.py:1280]            ^^^^^^^^^^^^^^^^^^^^^^^^^^^^^^^^^^^^^^^^\n",
            "W0424 10:03:40.934000 21172 site-packages\\torch\\_dynamo\\convert_frame.py:1280]   File \"c:\\Users\\paul-\\anaconda3\\envs\\py311\\Lib\\site-packages\\torch\\_inductor\\cpu_vec_isa.py\", line 152, in __bool__impl\n",
            "W0424 10:03:40.934000 21172 site-packages\\torch\\_dynamo\\convert_frame.py:1280]     return self.check_build(VecISA._avx_code)\n",
            "W0424 10:03:40.934000 21172 site-packages\\torch\\_dynamo\\convert_frame.py:1280]            ^^^^^^^^^^^^^^^^^^^^^^^^^^^^^^^^^^\n",
            "W0424 10:03:40.934000 21172 site-packages\\torch\\_dynamo\\convert_frame.py:1280]   File \"c:\\Users\\paul-\\anaconda3\\envs\\py311\\Lib\\site-packages\\torch\\_inductor\\cpu_vec_isa.py\", line 102, in check_build\n",
            "W0424 10:03:40.934000 21172 site-packages\\torch\\_dynamo\\convert_frame.py:1280]     extra=_get_isa_dry_compile_fingerprint(self._arch_flags),\n",
            "W0424 10:03:40.934000 21172 site-packages\\torch\\_dynamo\\convert_frame.py:1280]           ^^^^^^^^^^^^^^^^^^^^^^^^^^^^^^^^^^^^^^^^^^^^^^^^^^\n",
            "W0424 10:03:40.934000 21172 site-packages\\torch\\_dynamo\\convert_frame.py:1280]   File \"c:\\Users\\paul-\\anaconda3\\envs\\py311\\Lib\\site-packages\\torch\\_inductor\\cpu_vec_isa.py\", line 28, in _get_isa_dry_compile_fingerprint\n",
            "W0424 10:03:40.934000 21172 site-packages\\torch\\_dynamo\\convert_frame.py:1280]     compiler_info = get_compiler_version_info(get_cpp_compiler())\n",
            "W0424 10:03:40.934000 21172 site-packages\\torch\\_dynamo\\convert_frame.py:1280]                                               ^^^^^^^^^^^^^^^^^^\n",
            "W0424 10:03:40.934000 21172 site-packages\\torch\\_dynamo\\convert_frame.py:1280]   File \"c:\\Users\\paul-\\anaconda3\\envs\\py311\\Lib\\site-packages\\torch\\_inductor\\cpp_builder.py\", line 148, in get_cpp_compiler\n",
            "W0424 10:03:40.934000 21172 site-packages\\torch\\_dynamo\\convert_frame.py:1280]     check_compiler_exist_windows(compiler)\n",
            "W0424 10:03:40.934000 21172 site-packages\\torch\\_dynamo\\convert_frame.py:1280]   File \"c:\\Users\\paul-\\anaconda3\\envs\\py311\\Lib\\site-packages\\torch\\_inductor\\cpp_builder.py\", line 139, in check_compiler_exist_windows\n",
            "W0424 10:03:40.934000 21172 site-packages\\torch\\_dynamo\\convert_frame.py:1280]     raise RuntimeError(f\"Compiler: {compiler} is not found.\") from exc\n",
            "W0424 10:03:40.934000 21172 site-packages\\torch\\_dynamo\\convert_frame.py:1280] torch._inductor.exc.InductorError: RuntimeError: Compiler: cl is not found.\n",
            "W0424 10:03:40.934000 21172 site-packages\\torch\\_dynamo\\convert_frame.py:1280] \n",
            "W0424 10:03:40.934000 21172 site-packages\\torch\\_dynamo\\convert_frame.py:1280] Set TORCHDYNAMO_VERBOSE=1 for the internal stack trace (please do this especially if you're reporting a bug to PyTorch). For even more developer context, set TORCH_LOGS=\"+dynamo\"\n",
            "W0424 10:03:40.934000 21172 site-packages\\torch\\_dynamo\\convert_frame.py:1280] \n",
            "W0424 10:03:41.158000 21172 site-packages\\torch\\_dynamo\\convert_frame.py:1280] WON'T CONVERT forward c:\\Users\\paul-\\anaconda3\\envs\\py311\\Lib\\site-packages\\transformers\\models\\bert\\modeling_bert.py line 551 \n",
            "W0424 10:03:41.158000 21172 site-packages\\torch\\_dynamo\\convert_frame.py:1280] due to: \n",
            "W0424 10:03:41.158000 21172 site-packages\\torch\\_dynamo\\convert_frame.py:1280] Traceback (most recent call last):\n",
            "W0424 10:03:41.158000 21172 site-packages\\torch\\_dynamo\\convert_frame.py:1280]   File \"c:\\Users\\paul-\\anaconda3\\envs\\py311\\Lib\\site-packages\\torch\\_dynamo\\convert_frame.py\", line 1213, in __call__\n",
            "W0424 10:03:41.158000 21172 site-packages\\torch\\_dynamo\\convert_frame.py:1280]     result = self._inner_convert(\n",
            "W0424 10:03:41.158000 21172 site-packages\\torch\\_dynamo\\convert_frame.py:1280]              ^^^^^^^^^^^^^^^^^^^^\n",
            "W0424 10:03:41.158000 21172 site-packages\\torch\\_dynamo\\convert_frame.py:1280]   File \"c:\\Users\\paul-\\anaconda3\\envs\\py311\\Lib\\site-packages\\torch\\_dynamo\\convert_frame.py\", line 598, in __call__\n",
            "W0424 10:03:41.158000 21172 site-packages\\torch\\_dynamo\\convert_frame.py:1280]     return _compile(\n",
            "W0424 10:03:41.158000 21172 site-packages\\torch\\_dynamo\\convert_frame.py:1280]            ^^^^^^^^^\n",
            "W0424 10:03:41.158000 21172 site-packages\\torch\\_dynamo\\convert_frame.py:1280]   File \"c:\\Users\\paul-\\anaconda3\\envs\\py311\\Lib\\site-packages\\torch\\_dynamo\\convert_frame.py\", line 1059, in _compile\n",
            "W0424 10:03:41.158000 21172 site-packages\\torch\\_dynamo\\convert_frame.py:1280]     guarded_code = compile_inner(code, one_graph, hooks, transform)\n",
            "W0424 10:03:41.158000 21172 site-packages\\torch\\_dynamo\\convert_frame.py:1280]                    ^^^^^^^^^^^^^^^^^^^^^^^^^^^^^^^^^^^^^^^^^^^^^^^^\n",
            "W0424 10:03:41.158000 21172 site-packages\\torch\\_dynamo\\convert_frame.py:1280]   File \"c:\\Users\\paul-\\anaconda3\\envs\\py311\\Lib\\site-packages\\torch\\_utils_internal.py\", line 97, in wrapper_function\n",
            "W0424 10:03:41.158000 21172 site-packages\\torch\\_dynamo\\convert_frame.py:1280]     return function(*args, **kwargs)\n",
            "W0424 10:03:41.158000 21172 site-packages\\torch\\_dynamo\\convert_frame.py:1280]            ^^^^^^^^^^^^^^^^^^^^^^^^^\n",
            "W0424 10:03:41.158000 21172 site-packages\\torch\\_dynamo\\convert_frame.py:1280]   File \"c:\\Users\\paul-\\anaconda3\\envs\\py311\\Lib\\site-packages\\torch\\_dynamo\\convert_frame.py\", line 761, in compile_inner\n",
            "W0424 10:03:41.158000 21172 site-packages\\torch\\_dynamo\\convert_frame.py:1280]     return _compile_inner(code, one_graph, hooks, transform)\n",
            "W0424 10:03:41.158000 21172 site-packages\\torch\\_dynamo\\convert_frame.py:1280]            ^^^^^^^^^^^^^^^^^^^^^^^^^^^^^^^^^^^^^^^^^^^^^^^^^\n",
            "W0424 10:03:41.158000 21172 site-packages\\torch\\_dynamo\\convert_frame.py:1280]   File \"c:\\Users\\paul-\\anaconda3\\envs\\py311\\Lib\\site-packages\\torch\\_dynamo\\convert_frame.py\", line 797, in _compile_inner\n",
            "W0424 10:03:41.158000 21172 site-packages\\torch\\_dynamo\\convert_frame.py:1280]     out_code = transform_code_object(code, transform)\n",
            "W0424 10:03:41.158000 21172 site-packages\\torch\\_dynamo\\convert_frame.py:1280]                ^^^^^^^^^^^^^^^^^^^^^^^^^^^^^^^^^^^^^^\n",
            "W0424 10:03:41.158000 21172 site-packages\\torch\\_dynamo\\convert_frame.py:1280]   File \"c:\\Users\\paul-\\anaconda3\\envs\\py311\\Lib\\site-packages\\torch\\_dynamo\\bytecode_transformation.py\", line 1422, in transform_code_object\n",
            "W0424 10:03:41.158000 21172 site-packages\\torch\\_dynamo\\convert_frame.py:1280]     transformations(instructions, code_options)\n",
            "W0424 10:03:41.158000 21172 site-packages\\torch\\_dynamo\\convert_frame.py:1280]   File \"c:\\Users\\paul-\\anaconda3\\envs\\py311\\Lib\\site-packages\\torch\\_dynamo\\convert_frame.py\", line 257, in _fn\n",
            "W0424 10:03:41.158000 21172 site-packages\\torch\\_dynamo\\convert_frame.py:1280]     return fn(*args, **kwargs)\n",
            "W0424 10:03:41.158000 21172 site-packages\\torch\\_dynamo\\convert_frame.py:1280]            ^^^^^^^^^^^^^^^^^^^\n",
            "W0424 10:03:41.158000 21172 site-packages\\torch\\_dynamo\\convert_frame.py:1280]   File \"c:\\Users\\paul-\\anaconda3\\envs\\py311\\Lib\\site-packages\\torch\\_dynamo\\convert_frame.py\", line 715, in transform\n",
            "W0424 10:03:41.158000 21172 site-packages\\torch\\_dynamo\\convert_frame.py:1280]     tracer.run()\n",
            "W0424 10:03:41.158000 21172 site-packages\\torch\\_dynamo\\convert_frame.py:1280]   File \"c:\\Users\\paul-\\anaconda3\\envs\\py311\\Lib\\site-packages\\torch\\_dynamo\\symbolic_convert.py\", line 3500, in run\n",
            "W0424 10:03:41.158000 21172 site-packages\\torch\\_dynamo\\convert_frame.py:1280]     super().run()\n",
            "W0424 10:03:41.158000 21172 site-packages\\torch\\_dynamo\\convert_frame.py:1280]   File \"c:\\Users\\paul-\\anaconda3\\envs\\py311\\Lib\\site-packages\\torch\\_dynamo\\symbolic_convert.py\", line 1337, in run\n",
            "W0424 10:03:41.158000 21172 site-packages\\torch\\_dynamo\\convert_frame.py:1280]     while self.step():\n",
            "W0424 10:03:41.158000 21172 site-packages\\torch\\_dynamo\\convert_frame.py:1280]           ^^^^^^^^^^^\n",
            "W0424 10:03:41.158000 21172 site-packages\\torch\\_dynamo\\convert_frame.py:1280]   File \"c:\\Users\\paul-\\anaconda3\\envs\\py311\\Lib\\site-packages\\torch\\_dynamo\\symbolic_convert.py\", line 1246, in step\n",
            "W0424 10:03:41.158000 21172 site-packages\\torch\\_dynamo\\convert_frame.py:1280]     self.dispatch_table[inst.opcode](self, inst)\n",
            "W0424 10:03:41.158000 21172 site-packages\\torch\\_dynamo\\convert_frame.py:1280]   File \"c:\\Users\\paul-\\anaconda3\\envs\\py311\\Lib\\site-packages\\torch\\_dynamo\\symbolic_convert.py\", line 3701, in RETURN_VALUE\n",
            "W0424 10:03:41.158000 21172 site-packages\\torch\\_dynamo\\convert_frame.py:1280]     self._return(inst)\n",
            "W0424 10:03:41.158000 21172 site-packages\\torch\\_dynamo\\convert_frame.py:1280]   File \"c:\\Users\\paul-\\anaconda3\\envs\\py311\\Lib\\site-packages\\torch\\_dynamo\\symbolic_convert.py\", line 3686, in _return\n",
            "W0424 10:03:41.158000 21172 site-packages\\torch\\_dynamo\\convert_frame.py:1280]     self.output.compile_subgraph(\n",
            "W0424 10:03:41.158000 21172 site-packages\\torch\\_dynamo\\convert_frame.py:1280]   File \"c:\\Users\\paul-\\anaconda3\\envs\\py311\\Lib\\site-packages\\torch\\_dynamo\\output_graph.py\", line 1144, in compile_subgraph\n",
            "W0424 10:03:41.158000 21172 site-packages\\torch\\_dynamo\\convert_frame.py:1280]     self.compile_and_call_fx_graph(\n",
            "W0424 10:03:41.158000 21172 site-packages\\torch\\_dynamo\\convert_frame.py:1280]   File \"c:\\Users\\paul-\\anaconda3\\envs\\py311\\Lib\\site-packages\\torch\\_dynamo\\output_graph.py\", line 1437, in compile_and_call_fx_graph\n",
            "W0424 10:03:41.158000 21172 site-packages\\torch\\_dynamo\\convert_frame.py:1280]     compiled_fn = self.call_user_compiler(gm)\n",
            "W0424 10:03:41.158000 21172 site-packages\\torch\\_dynamo\\convert_frame.py:1280]                   ^^^^^^^^^^^^^^^^^^^^^^^^^^^\n",
            "W0424 10:03:41.158000 21172 site-packages\\torch\\_dynamo\\convert_frame.py:1280]   File \"c:\\Users\\paul-\\anaconda3\\envs\\py311\\Lib\\site-packages\\torch\\_dynamo\\output_graph.py\", line 1487, in call_user_compiler\n",
            "W0424 10:03:41.158000 21172 site-packages\\torch\\_dynamo\\convert_frame.py:1280]     return self._call_user_compiler(gm)\n",
            "W0424 10:03:41.158000 21172 site-packages\\torch\\_dynamo\\convert_frame.py:1280]            ^^^^^^^^^^^^^^^^^^^^^^^^^^^^\n",
            "W0424 10:03:41.158000 21172 site-packages\\torch\\_dynamo\\convert_frame.py:1280]   File \"c:\\Users\\paul-\\anaconda3\\envs\\py311\\Lib\\site-packages\\torch\\_dynamo\\output_graph.py\", line 1519, in _call_user_compiler\n",
            "W0424 10:03:41.158000 21172 site-packages\\torch\\_dynamo\\convert_frame.py:1280]     compiled_fn = compiler_fn(gm, self.example_inputs())\n",
            "W0424 10:03:41.158000 21172 site-packages\\torch\\_dynamo\\convert_frame.py:1280]                   ^^^^^^^^^^^^^^^^^^^^^^^^^^^^^^^^^^^^^^\n",
            "W0424 10:03:41.158000 21172 site-packages\\torch\\_dynamo\\convert_frame.py:1280]   File \"c:\\Users\\paul-\\anaconda3\\envs\\py311\\Lib\\site-packages\\torch\\_dynamo\\repro\\after_dynamo.py\", line 150, in __call__\n",
            "W0424 10:03:41.158000 21172 site-packages\\torch\\_dynamo\\convert_frame.py:1280]     compiled_gm = compiler_fn(gm, example_inputs)\n",
            "W0424 10:03:41.158000 21172 site-packages\\torch\\_dynamo\\convert_frame.py:1280]                   ^^^^^^^^^^^^^^^^^^^^^^^^^^^^^^^\n",
            "W0424 10:03:41.158000 21172 site-packages\\torch\\_dynamo\\convert_frame.py:1280]   File \"c:\\Users\\paul-\\anaconda3\\envs\\py311\\Lib\\site-packages\\torch\\__init__.py\", line 2347, in __call__\n",
            "W0424 10:03:41.158000 21172 site-packages\\torch\\_dynamo\\convert_frame.py:1280]     return compile_fx(model_, inputs_, config_patches=self.config)\n",
            "W0424 10:03:41.158000 21172 site-packages\\torch\\_dynamo\\convert_frame.py:1280]            ^^^^^^^^^^^^^^^^^^^^^^^^^^^^^^^^^^^^^^^^^^^^^^^^^^^^^^^\n",
            "W0424 10:03:41.158000 21172 site-packages\\torch\\_dynamo\\convert_frame.py:1280]   File \"c:\\Users\\paul-\\anaconda3\\envs\\py311\\Lib\\site-packages\\torch\\_inductor\\compile_fx.py\", line 2101, in compile_fx\n",
            "W0424 10:03:41.158000 21172 site-packages\\torch\\_dynamo\\convert_frame.py:1280]     raise e.remove_dynamo_frames() from None  # see TORCHDYNAMO_VERBOSE=1\n",
            "W0424 10:03:41.158000 21172 site-packages\\torch\\_dynamo\\convert_frame.py:1280]     ^^^^^^^^^^^^^^^^^^^^^^^^^^^^^^^^^^^^^^^^\n",
            "W0424 10:03:41.158000 21172 site-packages\\torch\\_dynamo\\convert_frame.py:1280]   File \"c:\\Users\\paul-\\anaconda3\\envs\\py311\\Lib\\site-packages\\torch\\_inductor\\compile_fx.py\", line 760, in _compile_fx_inner\n",
            "W0424 10:03:41.158000 21172 site-packages\\torch\\_dynamo\\convert_frame.py:1280]     raise InductorError(e, currentframe()).with_traceback(\n",
            "W0424 10:03:41.158000 21172 site-packages\\torch\\_dynamo\\convert_frame.py:1280]   File \"c:\\Users\\paul-\\anaconda3\\envs\\py311\\Lib\\site-packages\\torch\\_inductor\\compile_fx.py\", line 745, in _compile_fx_inner\n",
            "W0424 10:03:41.158000 21172 site-packages\\torch\\_dynamo\\convert_frame.py:1280]     mb_compiled_graph = fx_codegen_and_compile(\n",
            "W0424 10:03:41.158000 21172 site-packages\\torch\\_dynamo\\convert_frame.py:1280]                         ^^^^^^^^^^^^^^^^^^^^^^^\n",
            "W0424 10:03:41.158000 21172 site-packages\\torch\\_dynamo\\convert_frame.py:1280]   File \"c:\\Users\\paul-\\anaconda3\\envs\\py311\\Lib\\site-packages\\torch\\_inductor\\compile_fx.py\", line 1295, in fx_codegen_and_compile\n",
            "W0424 10:03:41.158000 21172 site-packages\\torch\\_dynamo\\convert_frame.py:1280]     return scheme.codegen_and_compile(gm, example_inputs, inputs_to_check, graph_kwargs)\n",
            "W0424 10:03:41.158000 21172 site-packages\\torch\\_dynamo\\convert_frame.py:1280]            ^^^^^^^^^^^^^^^^^^^^^^^^^^^^^^^^^^^^^^^^^^^^^^^^^^^^^^^^^^^^^^^^^^^^^^^^^^^^^\n",
            "W0424 10:03:41.158000 21172 site-packages\\torch\\_dynamo\\convert_frame.py:1280]   File \"c:\\Users\\paul-\\anaconda3\\envs\\py311\\Lib\\site-packages\\torch\\_inductor\\compile_fx.py\", line 1197, in codegen_and_compile\n",
            "W0424 10:03:41.158000 21172 site-packages\\torch\\_dynamo\\convert_frame.py:1280]     compiled_fn = graph.compile_to_module().call\n",
            "W0424 10:03:41.158000 21172 site-packages\\torch\\_dynamo\\convert_frame.py:1280]                   ^^^^^^^^^^^^^^^^^^^^^^^^^\n",
            "W0424 10:03:41.158000 21172 site-packages\\torch\\_dynamo\\convert_frame.py:1280]   File \"c:\\Users\\paul-\\anaconda3\\envs\\py311\\Lib\\site-packages\\torch\\_inductor\\graph.py\", line 2083, in compile_to_module\n",
            "W0424 10:03:41.158000 21172 site-packages\\torch\\_dynamo\\convert_frame.py:1280]     return self._compile_to_module()\n",
            "W0424 10:03:41.158000 21172 site-packages\\torch\\_dynamo\\convert_frame.py:1280]            ^^^^^^^^^^^^^^^^^^^^^^^^^\n",
            "W0424 10:03:41.158000 21172 site-packages\\torch\\_dynamo\\convert_frame.py:1280]   File \"c:\\Users\\paul-\\anaconda3\\envs\\py311\\Lib\\site-packages\\torch\\_inductor\\graph.py\", line 2091, in _compile_to_module\n",
            "W0424 10:03:41.158000 21172 site-packages\\torch\\_dynamo\\convert_frame.py:1280]     self.codegen_with_cpp_wrapper() if self.cpp_wrapper else self.codegen()\n",
            "W0424 10:03:41.158000 21172 site-packages\\torch\\_dynamo\\convert_frame.py:1280]                                                              ^^^^^^^^^^^^^^\n",
            "W0424 10:03:41.158000 21172 site-packages\\torch\\_dynamo\\convert_frame.py:1280]   File \"c:\\Users\\paul-\\anaconda3\\envs\\py311\\Lib\\site-packages\\torch\\_inductor\\graph.py\", line 2002, in codegen\n",
            "W0424 10:03:41.158000 21172 site-packages\\torch\\_dynamo\\convert_frame.py:1280]     self.scheduler.codegen()\n",
            "W0424 10:03:41.158000 21172 site-packages\\torch\\_dynamo\\convert_frame.py:1280]   File \"c:\\Users\\paul-\\anaconda3\\envs\\py311\\Lib\\site-packages\\torch\\_inductor\\scheduler.py\", line 4135, in codegen\n",
            "W0424 10:03:41.158000 21172 site-packages\\torch\\_dynamo\\convert_frame.py:1280]     else self._codegen(self.nodes)\n",
            "W0424 10:03:41.158000 21172 site-packages\\torch\\_dynamo\\convert_frame.py:1280]          ^^^^^^^^^^^^^^^^^^^^^^^^^\n",
            "W0424 10:03:41.158000 21172 site-packages\\torch\\_dynamo\\convert_frame.py:1280]   File \"c:\\Users\\paul-\\anaconda3\\envs\\py311\\Lib\\site-packages\\torch\\_inductor\\scheduler.py\", line 4264, in _codegen\n",
            "W0424 10:03:41.158000 21172 site-packages\\torch\\_dynamo\\convert_frame.py:1280]     self.get_backend(device).codegen_node(node)\n",
            "W0424 10:03:41.158000 21172 site-packages\\torch\\_dynamo\\convert_frame.py:1280]   File \"c:\\Users\\paul-\\anaconda3\\envs\\py311\\Lib\\site-packages\\torch\\_inductor\\codegen\\cpp.py\", line 4986, in codegen_node\n",
            "W0424 10:03:41.158000 21172 site-packages\\torch\\_dynamo\\convert_frame.py:1280]     cpp_kernel_proxy = CppKernelProxy(kernel_group)\n",
            "W0424 10:03:41.158000 21172 site-packages\\torch\\_dynamo\\convert_frame.py:1280]                        ^^^^^^^^^^^^^^^^^^^^^^^^^^^^\n",
            "W0424 10:03:41.158000 21172 site-packages\\torch\\_dynamo\\convert_frame.py:1280]   File \"c:\\Users\\paul-\\anaconda3\\envs\\py311\\Lib\\site-packages\\torch\\_inductor\\codegen\\cpp.py\", line 3734, in __init__\n",
            "W0424 10:03:41.158000 21172 site-packages\\torch\\_dynamo\\convert_frame.py:1280]     self.picked_vec_isa: cpu_vec_isa.VecISA = cpu_vec_isa.pick_vec_isa()\n",
            "W0424 10:03:41.158000 21172 site-packages\\torch\\_dynamo\\convert_frame.py:1280]                                               ^^^^^^^^^^^^^^^^^^^^^^^^^^\n",
            "W0424 10:03:41.158000 21172 site-packages\\torch\\_dynamo\\convert_frame.py:1280]   File \"c:\\Users\\paul-\\anaconda3\\envs\\py311\\Lib\\site-packages\\torch\\_inductor\\cpu_vec_isa.py\", line 418, in pick_vec_isa\n",
            "W0424 10:03:41.158000 21172 site-packages\\torch\\_dynamo\\convert_frame.py:1280]     _valid_vec_isa_list: list[VecISA] = valid_vec_isa_list()\n",
            "W0424 10:03:41.158000 21172 site-packages\\torch\\_dynamo\\convert_frame.py:1280]                                         ^^^^^^^^^^^^^^^^^^^^\n",
            "W0424 10:03:41.158000 21172 site-packages\\torch\\_dynamo\\convert_frame.py:1280]   File \"c:\\Users\\paul-\\anaconda3\\envs\\py311\\Lib\\site-packages\\torch\\_inductor\\cpu_vec_isa.py\", line 405, in valid_vec_isa_list\n",
            "W0424 10:03:41.158000 21172 site-packages\\torch\\_dynamo\\convert_frame.py:1280]     isa_list.extend(\n",
            "W0424 10:03:41.158000 21172 site-packages\\torch\\_dynamo\\convert_frame.py:1280]   File \"c:\\Users\\paul-\\anaconda3\\envs\\py311\\Lib\\site-packages\\torch\\_inductor\\cpu_vec_isa.py\", line 405, in <genexpr>\n",
            "W0424 10:03:41.158000 21172 site-packages\\torch\\_dynamo\\convert_frame.py:1280]     isa_list.extend(\n",
            "W0424 10:03:41.158000 21172 site-packages\\torch\\_dynamo\\convert_frame.py:1280]                    ^\n",
            "W0424 10:03:41.158000 21172 site-packages\\torch\\_dynamo\\convert_frame.py:1280]   File \"c:\\Users\\paul-\\anaconda3\\envs\\py311\\Lib\\site-packages\\torch\\_inductor\\cpu_vec_isa.py\", line 142, in __bool__\n",
            "W0424 10:03:41.158000 21172 site-packages\\torch\\_dynamo\\convert_frame.py:1280]     return self.__bool__impl(config.cpp.vec_isa_ok)\n",
            "W0424 10:03:41.158000 21172 site-packages\\torch\\_dynamo\\convert_frame.py:1280]            ^^^^^^^^^^^^^^^^^^^^^^^^^^^^^^^^^^^^^^^^\n",
            "W0424 10:03:41.158000 21172 site-packages\\torch\\_dynamo\\convert_frame.py:1280]   File \"c:\\Users\\paul-\\anaconda3\\envs\\py311\\Lib\\site-packages\\torch\\_inductor\\cpu_vec_isa.py\", line 152, in __bool__impl\n",
            "W0424 10:03:41.158000 21172 site-packages\\torch\\_dynamo\\convert_frame.py:1280]     return self.check_build(VecISA._avx_code)\n",
            "W0424 10:03:41.158000 21172 site-packages\\torch\\_dynamo\\convert_frame.py:1280]            ^^^^^^^^^^^^^^^^^^^^^^^^^^^^^^^^^^\n",
            "W0424 10:03:41.158000 21172 site-packages\\torch\\_dynamo\\convert_frame.py:1280]   File \"c:\\Users\\paul-\\anaconda3\\envs\\py311\\Lib\\site-packages\\torch\\_inductor\\cpu_vec_isa.py\", line 102, in check_build\n",
            "W0424 10:03:41.158000 21172 site-packages\\torch\\_dynamo\\convert_frame.py:1280]     extra=_get_isa_dry_compile_fingerprint(self._arch_flags),\n",
            "W0424 10:03:41.158000 21172 site-packages\\torch\\_dynamo\\convert_frame.py:1280]           ^^^^^^^^^^^^^^^^^^^^^^^^^^^^^^^^^^^^^^^^^^^^^^^^^^\n",
            "W0424 10:03:41.158000 21172 site-packages\\torch\\_dynamo\\convert_frame.py:1280]   File \"c:\\Users\\paul-\\anaconda3\\envs\\py311\\Lib\\site-packages\\torch\\_inductor\\cpu_vec_isa.py\", line 28, in _get_isa_dry_compile_fingerprint\n",
            "W0424 10:03:41.158000 21172 site-packages\\torch\\_dynamo\\convert_frame.py:1280]     compiler_info = get_compiler_version_info(get_cpp_compiler())\n",
            "W0424 10:03:41.158000 21172 site-packages\\torch\\_dynamo\\convert_frame.py:1280]                                               ^^^^^^^^^^^^^^^^^^\n",
            "W0424 10:03:41.158000 21172 site-packages\\torch\\_dynamo\\convert_frame.py:1280]   File \"c:\\Users\\paul-\\anaconda3\\envs\\py311\\Lib\\site-packages\\torch\\_inductor\\cpp_builder.py\", line 148, in get_cpp_compiler\n",
            "W0424 10:03:41.158000 21172 site-packages\\torch\\_dynamo\\convert_frame.py:1280]     check_compiler_exist_windows(compiler)\n",
            "W0424 10:03:41.158000 21172 site-packages\\torch\\_dynamo\\convert_frame.py:1280]   File \"c:\\Users\\paul-\\anaconda3\\envs\\py311\\Lib\\site-packages\\torch\\_inductor\\cpp_builder.py\", line 139, in check_compiler_exist_windows\n",
            "W0424 10:03:41.158000 21172 site-packages\\torch\\_dynamo\\convert_frame.py:1280]     raise RuntimeError(f\"Compiler: {compiler} is not found.\") from exc\n",
            "W0424 10:03:41.158000 21172 site-packages\\torch\\_dynamo\\convert_frame.py:1280] torch._inductor.exc.InductorError: RuntimeError: Compiler: cl is not found.\n",
            "W0424 10:03:41.158000 21172 site-packages\\torch\\_dynamo\\convert_frame.py:1280] \n",
            "W0424 10:03:41.158000 21172 site-packages\\torch\\_dynamo\\convert_frame.py:1280] Set TORCHDYNAMO_VERBOSE=1 for the internal stack trace (please do this especially if you're reporting a bug to PyTorch). For even more developer context, set TORCH_LOGS=\"+dynamo\"\n",
            "W0424 10:03:41.158000 21172 site-packages\\torch\\_dynamo\\convert_frame.py:1280] \n",
            "W0424 10:03:41.158000 21172 site-packages\\torch\\_dynamo\\convert_frame.py:1280] Traceback (most recent call last):\n",
            "W0424 10:03:41.158000 21172 site-packages\\torch\\_dynamo\\convert_frame.py:1280]   File \"c:\\Users\\paul-\\anaconda3\\envs\\py311\\Lib\\site-packages\\torch\\_dynamo\\convert_frame.py\", line 1213, in __call__\n",
            "W0424 10:03:41.158000 21172 site-packages\\torch\\_dynamo\\convert_frame.py:1280]     result = self._inner_convert(\n",
            "W0424 10:03:41.158000 21172 site-packages\\torch\\_dynamo\\convert_frame.py:1280]              ^^^^^^^^^^^^^^^^^^^^\n",
            "W0424 10:03:41.158000 21172 site-packages\\torch\\_dynamo\\convert_frame.py:1280]   File \"c:\\Users\\paul-\\anaconda3\\envs\\py311\\Lib\\site-packages\\torch\\_dynamo\\convert_frame.py\", line 598, in __call__\n",
            "W0424 10:03:41.158000 21172 site-packages\\torch\\_dynamo\\convert_frame.py:1280]     return _compile(\n",
            "W0424 10:03:41.158000 21172 site-packages\\torch\\_dynamo\\convert_frame.py:1280]            ^^^^^^^^^\n",
            "W0424 10:03:41.158000 21172 site-packages\\torch\\_dynamo\\convert_frame.py:1280]   File \"c:\\Users\\paul-\\anaconda3\\envs\\py311\\Lib\\site-packages\\torch\\_dynamo\\convert_frame.py\", line 1059, in _compile\n",
            "W0424 10:03:41.158000 21172 site-packages\\torch\\_dynamo\\convert_frame.py:1280]     guarded_code = compile_inner(code, one_graph, hooks, transform)\n",
            "W0424 10:03:41.158000 21172 site-packages\\torch\\_dynamo\\convert_frame.py:1280]                    ^^^^^^^^^^^^^^^^^^^^^^^^^^^^^^^^^^^^^^^^^^^^^^^^\n",
            "W0424 10:03:41.158000 21172 site-packages\\torch\\_dynamo\\convert_frame.py:1280]   File \"c:\\Users\\paul-\\anaconda3\\envs\\py311\\Lib\\site-packages\\torch\\_utils_internal.py\", line 97, in wrapper_function\n",
            "W0424 10:03:41.158000 21172 site-packages\\torch\\_dynamo\\convert_frame.py:1280]     return function(*args, **kwargs)\n",
            "W0424 10:03:41.158000 21172 site-packages\\torch\\_dynamo\\convert_frame.py:1280]            ^^^^^^^^^^^^^^^^^^^^^^^^^\n",
            "W0424 10:03:41.158000 21172 site-packages\\torch\\_dynamo\\convert_frame.py:1280]   File \"c:\\Users\\paul-\\anaconda3\\envs\\py311\\Lib\\site-packages\\torch\\_dynamo\\convert_frame.py\", line 761, in compile_inner\n",
            "W0424 10:03:41.158000 21172 site-packages\\torch\\_dynamo\\convert_frame.py:1280]     return _compile_inner(code, one_graph, hooks, transform)\n",
            "W0424 10:03:41.158000 21172 site-packages\\torch\\_dynamo\\convert_frame.py:1280]            ^^^^^^^^^^^^^^^^^^^^^^^^^^^^^^^^^^^^^^^^^^^^^^^^^\n",
            "W0424 10:03:41.158000 21172 site-packages\\torch\\_dynamo\\convert_frame.py:1280]   File \"c:\\Users\\paul-\\anaconda3\\envs\\py311\\Lib\\site-packages\\torch\\_dynamo\\convert_frame.py\", line 797, in _compile_inner\n",
            "W0424 10:03:41.158000 21172 site-packages\\torch\\_dynamo\\convert_frame.py:1280]     out_code = transform_code_object(code, transform)\n",
            "W0424 10:03:41.158000 21172 site-packages\\torch\\_dynamo\\convert_frame.py:1280]                ^^^^^^^^^^^^^^^^^^^^^^^^^^^^^^^^^^^^^^\n",
            "W0424 10:03:41.158000 21172 site-packages\\torch\\_dynamo\\convert_frame.py:1280]   File \"c:\\Users\\paul-\\anaconda3\\envs\\py311\\Lib\\site-packages\\torch\\_dynamo\\bytecode_transformation.py\", line 1422, in transform_code_object\n",
            "W0424 10:03:41.158000 21172 site-packages\\torch\\_dynamo\\convert_frame.py:1280]     transformations(instructions, code_options)\n",
            "W0424 10:03:41.158000 21172 site-packages\\torch\\_dynamo\\convert_frame.py:1280]   File \"c:\\Users\\paul-\\anaconda3\\envs\\py311\\Lib\\site-packages\\torch\\_dynamo\\convert_frame.py\", line 257, in _fn\n",
            "W0424 10:03:41.158000 21172 site-packages\\torch\\_dynamo\\convert_frame.py:1280]     return fn(*args, **kwargs)\n",
            "W0424 10:03:41.158000 21172 site-packages\\torch\\_dynamo\\convert_frame.py:1280]            ^^^^^^^^^^^^^^^^^^^\n",
            "W0424 10:03:41.158000 21172 site-packages\\torch\\_dynamo\\convert_frame.py:1280]   File \"c:\\Users\\paul-\\anaconda3\\envs\\py311\\Lib\\site-packages\\torch\\_dynamo\\convert_frame.py\", line 715, in transform\n",
            "W0424 10:03:41.158000 21172 site-packages\\torch\\_dynamo\\convert_frame.py:1280]     tracer.run()\n",
            "W0424 10:03:41.158000 21172 site-packages\\torch\\_dynamo\\convert_frame.py:1280]   File \"c:\\Users\\paul-\\anaconda3\\envs\\py311\\Lib\\site-packages\\torch\\_dynamo\\symbolic_convert.py\", line 3500, in run\n",
            "W0424 10:03:41.158000 21172 site-packages\\torch\\_dynamo\\convert_frame.py:1280]     super().run()\n",
            "W0424 10:03:41.158000 21172 site-packages\\torch\\_dynamo\\convert_frame.py:1280]   File \"c:\\Users\\paul-\\anaconda3\\envs\\py311\\Lib\\site-packages\\torch\\_dynamo\\symbolic_convert.py\", line 1337, in run\n",
            "W0424 10:03:41.158000 21172 site-packages\\torch\\_dynamo\\convert_frame.py:1280]     while self.step():\n",
            "W0424 10:03:41.158000 21172 site-packages\\torch\\_dynamo\\convert_frame.py:1280]           ^^^^^^^^^^^\n",
            "W0424 10:03:41.158000 21172 site-packages\\torch\\_dynamo\\convert_frame.py:1280]   File \"c:\\Users\\paul-\\anaconda3\\envs\\py311\\Lib\\site-packages\\torch\\_dynamo\\symbolic_convert.py\", line 1246, in step\n",
            "W0424 10:03:41.158000 21172 site-packages\\torch\\_dynamo\\convert_frame.py:1280]     self.dispatch_table[inst.opcode](self, inst)\n",
            "W0424 10:03:41.158000 21172 site-packages\\torch\\_dynamo\\convert_frame.py:1280]   File \"c:\\Users\\paul-\\anaconda3\\envs\\py311\\Lib\\site-packages\\torch\\_dynamo\\symbolic_convert.py\", line 3701, in RETURN_VALUE\n",
            "W0424 10:03:41.158000 21172 site-packages\\torch\\_dynamo\\convert_frame.py:1280]     self._return(inst)\n",
            "W0424 10:03:41.158000 21172 site-packages\\torch\\_dynamo\\convert_frame.py:1280]   File \"c:\\Users\\paul-\\anaconda3\\envs\\py311\\Lib\\site-packages\\torch\\_dynamo\\symbolic_convert.py\", line 3686, in _return\n",
            "W0424 10:03:41.158000 21172 site-packages\\torch\\_dynamo\\convert_frame.py:1280]     self.output.compile_subgraph(\n",
            "W0424 10:03:41.158000 21172 site-packages\\torch\\_dynamo\\convert_frame.py:1280]   File \"c:\\Users\\paul-\\anaconda3\\envs\\py311\\Lib\\site-packages\\torch\\_dynamo\\output_graph.py\", line 1144, in compile_subgraph\n",
            "W0424 10:03:41.158000 21172 site-packages\\torch\\_dynamo\\convert_frame.py:1280]     self.compile_and_call_fx_graph(\n",
            "W0424 10:03:41.158000 21172 site-packages\\torch\\_dynamo\\convert_frame.py:1280]   File \"c:\\Users\\paul-\\anaconda3\\envs\\py311\\Lib\\site-packages\\torch\\_dynamo\\output_graph.py\", line 1437, in compile_and_call_fx_graph\n",
            "W0424 10:03:41.158000 21172 site-packages\\torch\\_dynamo\\convert_frame.py:1280]     compiled_fn = self.call_user_compiler(gm)\n",
            "W0424 10:03:41.158000 21172 site-packages\\torch\\_dynamo\\convert_frame.py:1280]                   ^^^^^^^^^^^^^^^^^^^^^^^^^^^\n",
            "W0424 10:03:41.158000 21172 site-packages\\torch\\_dynamo\\convert_frame.py:1280]   File \"c:\\Users\\paul-\\anaconda3\\envs\\py311\\Lib\\site-packages\\torch\\_dynamo\\output_graph.py\", line 1487, in call_user_compiler\n",
            "W0424 10:03:41.158000 21172 site-packages\\torch\\_dynamo\\convert_frame.py:1280]     return self._call_user_compiler(gm)\n",
            "W0424 10:03:41.158000 21172 site-packages\\torch\\_dynamo\\convert_frame.py:1280]            ^^^^^^^^^^^^^^^^^^^^^^^^^^^^\n",
            "W0424 10:03:41.158000 21172 site-packages\\torch\\_dynamo\\convert_frame.py:1280]   File \"c:\\Users\\paul-\\anaconda3\\envs\\py311\\Lib\\site-packages\\torch\\_dynamo\\output_graph.py\", line 1519, in _call_user_compiler\n",
            "W0424 10:03:41.158000 21172 site-packages\\torch\\_dynamo\\convert_frame.py:1280]     compiled_fn = compiler_fn(gm, self.example_inputs())\n",
            "W0424 10:03:41.158000 21172 site-packages\\torch\\_dynamo\\convert_frame.py:1280]                   ^^^^^^^^^^^^^^^^^^^^^^^^^^^^^^^^^^^^^^\n",
            "W0424 10:03:41.158000 21172 site-packages\\torch\\_dynamo\\convert_frame.py:1280]   File \"c:\\Users\\paul-\\anaconda3\\envs\\py311\\Lib\\site-packages\\torch\\_dynamo\\repro\\after_dynamo.py\", line 150, in __call__\n",
            "W0424 10:03:41.158000 21172 site-packages\\torch\\_dynamo\\convert_frame.py:1280]     compiled_gm = compiler_fn(gm, example_inputs)\n",
            "W0424 10:03:41.158000 21172 site-packages\\torch\\_dynamo\\convert_frame.py:1280]                   ^^^^^^^^^^^^^^^^^^^^^^^^^^^^^^^\n",
            "W0424 10:03:41.158000 21172 site-packages\\torch\\_dynamo\\convert_frame.py:1280]   File \"c:\\Users\\paul-\\anaconda3\\envs\\py311\\Lib\\site-packages\\torch\\__init__.py\", line 2347, in __call__\n",
            "W0424 10:03:41.158000 21172 site-packages\\torch\\_dynamo\\convert_frame.py:1280]     return compile_fx(model_, inputs_, config_patches=self.config)\n",
            "W0424 10:03:41.158000 21172 site-packages\\torch\\_dynamo\\convert_frame.py:1280]            ^^^^^^^^^^^^^^^^^^^^^^^^^^^^^^^^^^^^^^^^^^^^^^^^^^^^^^^\n",
            "W0424 10:03:41.158000 21172 site-packages\\torch\\_dynamo\\convert_frame.py:1280]   File \"c:\\Users\\paul-\\anaconda3\\envs\\py311\\Lib\\site-packages\\torch\\_inductor\\compile_fx.py\", line 2101, in compile_fx\n",
            "W0424 10:03:41.158000 21172 site-packages\\torch\\_dynamo\\convert_frame.py:1280]     raise e.remove_dynamo_frames() from None  # see TORCHDYNAMO_VERBOSE=1\n",
            "W0424 10:03:41.158000 21172 site-packages\\torch\\_dynamo\\convert_frame.py:1280]     ^^^^^^^^^^^^^^^^^^^^^^^^^^^^^^^^^^^^^^^^\n",
            "W0424 10:03:41.158000 21172 site-packages\\torch\\_dynamo\\convert_frame.py:1280]   File \"c:\\Users\\paul-\\anaconda3\\envs\\py311\\Lib\\site-packages\\torch\\_inductor\\compile_fx.py\", line 760, in _compile_fx_inner\n",
            "W0424 10:03:41.158000 21172 site-packages\\torch\\_dynamo\\convert_frame.py:1280]     raise InductorError(e, currentframe()).with_traceback(\n",
            "W0424 10:03:41.158000 21172 site-packages\\torch\\_dynamo\\convert_frame.py:1280]   File \"c:\\Users\\paul-\\anaconda3\\envs\\py311\\Lib\\site-packages\\torch\\_inductor\\compile_fx.py\", line 745, in _compile_fx_inner\n",
            "W0424 10:03:41.158000 21172 site-packages\\torch\\_dynamo\\convert_frame.py:1280]     mb_compiled_graph = fx_codegen_and_compile(\n",
            "W0424 10:03:41.158000 21172 site-packages\\torch\\_dynamo\\convert_frame.py:1280]                         ^^^^^^^^^^^^^^^^^^^^^^^\n",
            "W0424 10:03:41.158000 21172 site-packages\\torch\\_dynamo\\convert_frame.py:1280]   File \"c:\\Users\\paul-\\anaconda3\\envs\\py311\\Lib\\site-packages\\torch\\_inductor\\compile_fx.py\", line 1295, in fx_codegen_and_compile\n",
            "W0424 10:03:41.158000 21172 site-packages\\torch\\_dynamo\\convert_frame.py:1280]     return scheme.codegen_and_compile(gm, example_inputs, inputs_to_check, graph_kwargs)\n",
            "W0424 10:03:41.158000 21172 site-packages\\torch\\_dynamo\\convert_frame.py:1280]            ^^^^^^^^^^^^^^^^^^^^^^^^^^^^^^^^^^^^^^^^^^^^^^^^^^^^^^^^^^^^^^^^^^^^^^^^^^^^^\n",
            "W0424 10:03:41.158000 21172 site-packages\\torch\\_dynamo\\convert_frame.py:1280]   File \"c:\\Users\\paul-\\anaconda3\\envs\\py311\\Lib\\site-packages\\torch\\_inductor\\compile_fx.py\", line 1197, in codegen_and_compile\n",
            "W0424 10:03:41.158000 21172 site-packages\\torch\\_dynamo\\convert_frame.py:1280]     compiled_fn = graph.compile_to_module().call\n",
            "W0424 10:03:41.158000 21172 site-packages\\torch\\_dynamo\\convert_frame.py:1280]                   ^^^^^^^^^^^^^^^^^^^^^^^^^\n",
            "W0424 10:03:41.158000 21172 site-packages\\torch\\_dynamo\\convert_frame.py:1280]   File \"c:\\Users\\paul-\\anaconda3\\envs\\py311\\Lib\\site-packages\\torch\\_inductor\\graph.py\", line 2083, in compile_to_module\n",
            "W0424 10:03:41.158000 21172 site-packages\\torch\\_dynamo\\convert_frame.py:1280]     return self._compile_to_module()\n",
            "W0424 10:03:41.158000 21172 site-packages\\torch\\_dynamo\\convert_frame.py:1280]            ^^^^^^^^^^^^^^^^^^^^^^^^^\n",
            "W0424 10:03:41.158000 21172 site-packages\\torch\\_dynamo\\convert_frame.py:1280]   File \"c:\\Users\\paul-\\anaconda3\\envs\\py311\\Lib\\site-packages\\torch\\_inductor\\graph.py\", line 2091, in _compile_to_module\n",
            "W0424 10:03:41.158000 21172 site-packages\\torch\\_dynamo\\convert_frame.py:1280]     self.codegen_with_cpp_wrapper() if self.cpp_wrapper else self.codegen()\n",
            "W0424 10:03:41.158000 21172 site-packages\\torch\\_dynamo\\convert_frame.py:1280]                                                              ^^^^^^^^^^^^^^\n",
            "W0424 10:03:41.158000 21172 site-packages\\torch\\_dynamo\\convert_frame.py:1280]   File \"c:\\Users\\paul-\\anaconda3\\envs\\py311\\Lib\\site-packages\\torch\\_inductor\\graph.py\", line 2002, in codegen\n",
            "W0424 10:03:41.158000 21172 site-packages\\torch\\_dynamo\\convert_frame.py:1280]     self.scheduler.codegen()\n",
            "W0424 10:03:41.158000 21172 site-packages\\torch\\_dynamo\\convert_frame.py:1280]   File \"c:\\Users\\paul-\\anaconda3\\envs\\py311\\Lib\\site-packages\\torch\\_inductor\\scheduler.py\", line 4135, in codegen\n",
            "W0424 10:03:41.158000 21172 site-packages\\torch\\_dynamo\\convert_frame.py:1280]     else self._codegen(self.nodes)\n",
            "W0424 10:03:41.158000 21172 site-packages\\torch\\_dynamo\\convert_frame.py:1280]          ^^^^^^^^^^^^^^^^^^^^^^^^^\n",
            "W0424 10:03:41.158000 21172 site-packages\\torch\\_dynamo\\convert_frame.py:1280]   File \"c:\\Users\\paul-\\anaconda3\\envs\\py311\\Lib\\site-packages\\torch\\_inductor\\scheduler.py\", line 4264, in _codegen\n",
            "W0424 10:03:41.158000 21172 site-packages\\torch\\_dynamo\\convert_frame.py:1280]     self.get_backend(device).codegen_node(node)\n",
            "W0424 10:03:41.158000 21172 site-packages\\torch\\_dynamo\\convert_frame.py:1280]   File \"c:\\Users\\paul-\\anaconda3\\envs\\py311\\Lib\\site-packages\\torch\\_inductor\\codegen\\cpp.py\", line 4986, in codegen_node\n",
            "W0424 10:03:41.158000 21172 site-packages\\torch\\_dynamo\\convert_frame.py:1280]     cpp_kernel_proxy = CppKernelProxy(kernel_group)\n",
            "W0424 10:03:41.158000 21172 site-packages\\torch\\_dynamo\\convert_frame.py:1280]                        ^^^^^^^^^^^^^^^^^^^^^^^^^^^^\n",
            "W0424 10:03:41.158000 21172 site-packages\\torch\\_dynamo\\convert_frame.py:1280]   File \"c:\\Users\\paul-\\anaconda3\\envs\\py311\\Lib\\site-packages\\torch\\_inductor\\codegen\\cpp.py\", line 3734, in __init__\n",
            "W0424 10:03:41.158000 21172 site-packages\\torch\\_dynamo\\convert_frame.py:1280]     self.picked_vec_isa: cpu_vec_isa.VecISA = cpu_vec_isa.pick_vec_isa()\n",
            "W0424 10:03:41.158000 21172 site-packages\\torch\\_dynamo\\convert_frame.py:1280]                                               ^^^^^^^^^^^^^^^^^^^^^^^^^^\n",
            "W0424 10:03:41.158000 21172 site-packages\\torch\\_dynamo\\convert_frame.py:1280]   File \"c:\\Users\\paul-\\anaconda3\\envs\\py311\\Lib\\site-packages\\torch\\_inductor\\cpu_vec_isa.py\", line 418, in pick_vec_isa\n",
            "W0424 10:03:41.158000 21172 site-packages\\torch\\_dynamo\\convert_frame.py:1280]     _valid_vec_isa_list: list[VecISA] = valid_vec_isa_list()\n",
            "W0424 10:03:41.158000 21172 site-packages\\torch\\_dynamo\\convert_frame.py:1280]                                         ^^^^^^^^^^^^^^^^^^^^\n",
            "W0424 10:03:41.158000 21172 site-packages\\torch\\_dynamo\\convert_frame.py:1280]   File \"c:\\Users\\paul-\\anaconda3\\envs\\py311\\Lib\\site-packages\\torch\\_inductor\\cpu_vec_isa.py\", line 405, in valid_vec_isa_list\n",
            "W0424 10:03:41.158000 21172 site-packages\\torch\\_dynamo\\convert_frame.py:1280]     isa_list.extend(\n",
            "W0424 10:03:41.158000 21172 site-packages\\torch\\_dynamo\\convert_frame.py:1280]   File \"c:\\Users\\paul-\\anaconda3\\envs\\py311\\Lib\\site-packages\\torch\\_inductor\\cpu_vec_isa.py\", line 405, in <genexpr>\n",
            "W0424 10:03:41.158000 21172 site-packages\\torch\\_dynamo\\convert_frame.py:1280]     isa_list.extend(\n",
            "W0424 10:03:41.158000 21172 site-packages\\torch\\_dynamo\\convert_frame.py:1280]                    ^\n",
            "W0424 10:03:41.158000 21172 site-packages\\torch\\_dynamo\\convert_frame.py:1280]   File \"c:\\Users\\paul-\\anaconda3\\envs\\py311\\Lib\\site-packages\\torch\\_inductor\\cpu_vec_isa.py\", line 142, in __bool__\n",
            "W0424 10:03:41.158000 21172 site-packages\\torch\\_dynamo\\convert_frame.py:1280]     return self.__bool__impl(config.cpp.vec_isa_ok)\n",
            "W0424 10:03:41.158000 21172 site-packages\\torch\\_dynamo\\convert_frame.py:1280]            ^^^^^^^^^^^^^^^^^^^^^^^^^^^^^^^^^^^^^^^^\n",
            "W0424 10:03:41.158000 21172 site-packages\\torch\\_dynamo\\convert_frame.py:1280]   File \"c:\\Users\\paul-\\anaconda3\\envs\\py311\\Lib\\site-packages\\torch\\_inductor\\cpu_vec_isa.py\", line 152, in __bool__impl\n",
            "W0424 10:03:41.158000 21172 site-packages\\torch\\_dynamo\\convert_frame.py:1280]     return self.check_build(VecISA._avx_code)\n",
            "W0424 10:03:41.158000 21172 site-packages\\torch\\_dynamo\\convert_frame.py:1280]            ^^^^^^^^^^^^^^^^^^^^^^^^^^^^^^^^^^\n",
            "W0424 10:03:41.158000 21172 site-packages\\torch\\_dynamo\\convert_frame.py:1280]   File \"c:\\Users\\paul-\\anaconda3\\envs\\py311\\Lib\\site-packages\\torch\\_inductor\\cpu_vec_isa.py\", line 102, in check_build\n",
            "W0424 10:03:41.158000 21172 site-packages\\torch\\_dynamo\\convert_frame.py:1280]     extra=_get_isa_dry_compile_fingerprint(self._arch_flags),\n",
            "W0424 10:03:41.158000 21172 site-packages\\torch\\_dynamo\\convert_frame.py:1280]           ^^^^^^^^^^^^^^^^^^^^^^^^^^^^^^^^^^^^^^^^^^^^^^^^^^\n",
            "W0424 10:03:41.158000 21172 site-packages\\torch\\_dynamo\\convert_frame.py:1280]   File \"c:\\Users\\paul-\\anaconda3\\envs\\py311\\Lib\\site-packages\\torch\\_inductor\\cpu_vec_isa.py\", line 28, in _get_isa_dry_compile_fingerprint\n",
            "W0424 10:03:41.158000 21172 site-packages\\torch\\_dynamo\\convert_frame.py:1280]     compiler_info = get_compiler_version_info(get_cpp_compiler())\n",
            "W0424 10:03:41.158000 21172 site-packages\\torch\\_dynamo\\convert_frame.py:1280]                                               ^^^^^^^^^^^^^^^^^^\n",
            "W0424 10:03:41.158000 21172 site-packages\\torch\\_dynamo\\convert_frame.py:1280]   File \"c:\\Users\\paul-\\anaconda3\\envs\\py311\\Lib\\site-packages\\torch\\_inductor\\cpp_builder.py\", line 148, in get_cpp_compiler\n",
            "W0424 10:03:41.158000 21172 site-packages\\torch\\_dynamo\\convert_frame.py:1280]     check_compiler_exist_windows(compiler)\n",
            "W0424 10:03:41.158000 21172 site-packages\\torch\\_dynamo\\convert_frame.py:1280]   File \"c:\\Users\\paul-\\anaconda3\\envs\\py311\\Lib\\site-packages\\torch\\_inductor\\cpp_builder.py\", line 139, in check_compiler_exist_windows\n",
            "W0424 10:03:41.158000 21172 site-packages\\torch\\_dynamo\\convert_frame.py:1280]     raise RuntimeError(f\"Compiler: {compiler} is not found.\") from exc\n",
            "W0424 10:03:41.158000 21172 site-packages\\torch\\_dynamo\\convert_frame.py:1280] torch._inductor.exc.InductorError: RuntimeError: Compiler: cl is not found.\n",
            "W0424 10:03:41.158000 21172 site-packages\\torch\\_dynamo\\convert_frame.py:1280] \n",
            "W0424 10:03:41.158000 21172 site-packages\\torch\\_dynamo\\convert_frame.py:1280] Set TORCHDYNAMO_VERBOSE=1 for the internal stack trace (please do this especially if you're reporting a bug to PyTorch). For even more developer context, set TORCH_LOGS=\"+dynamo\"\n",
            "W0424 10:03:41.158000 21172 site-packages\\torch\\_dynamo\\convert_frame.py:1280] \n",
            "W0424 10:03:51.244000 21172 site-packages\\torch\\_dynamo\\convert_frame.py:1280] WON'T CONVERT forward c:\\Users\\paul-\\anaconda3\\envs\\py311\\Lib\\site-packages\\transformers\\models\\bert\\modeling_bert.py line 743 \n",
            "W0424 10:03:51.244000 21172 site-packages\\torch\\_dynamo\\convert_frame.py:1280] due to: \n",
            "W0424 10:03:51.244000 21172 site-packages\\torch\\_dynamo\\convert_frame.py:1280] Traceback (most recent call last):\n",
            "W0424 10:03:51.244000 21172 site-packages\\torch\\_dynamo\\convert_frame.py:1280]   File \"c:\\Users\\paul-\\anaconda3\\envs\\py311\\Lib\\site-packages\\torch\\_dynamo\\convert_frame.py\", line 1213, in __call__\n",
            "W0424 10:03:51.244000 21172 site-packages\\torch\\_dynamo\\convert_frame.py:1280]     result = self._inner_convert(\n",
            "W0424 10:03:51.244000 21172 site-packages\\torch\\_dynamo\\convert_frame.py:1280]              ^^^^^^^^^^^^^^^^^^^^\n",
            "W0424 10:03:51.244000 21172 site-packages\\torch\\_dynamo\\convert_frame.py:1280]   File \"c:\\Users\\paul-\\anaconda3\\envs\\py311\\Lib\\site-packages\\torch\\_dynamo\\convert_frame.py\", line 598, in __call__\n",
            "W0424 10:03:51.244000 21172 site-packages\\torch\\_dynamo\\convert_frame.py:1280]     return _compile(\n",
            "W0424 10:03:51.244000 21172 site-packages\\torch\\_dynamo\\convert_frame.py:1280]            ^^^^^^^^^\n",
            "W0424 10:03:51.244000 21172 site-packages\\torch\\_dynamo\\convert_frame.py:1280]   File \"c:\\Users\\paul-\\anaconda3\\envs\\py311\\Lib\\site-packages\\torch\\_dynamo\\convert_frame.py\", line 1059, in _compile\n",
            "W0424 10:03:51.244000 21172 site-packages\\torch\\_dynamo\\convert_frame.py:1280]     guarded_code = compile_inner(code, one_graph, hooks, transform)\n",
            "W0424 10:03:51.244000 21172 site-packages\\torch\\_dynamo\\convert_frame.py:1280]                    ^^^^^^^^^^^^^^^^^^^^^^^^^^^^^^^^^^^^^^^^^^^^^^^^\n",
            "W0424 10:03:51.244000 21172 site-packages\\torch\\_dynamo\\convert_frame.py:1280]   File \"c:\\Users\\paul-\\anaconda3\\envs\\py311\\Lib\\site-packages\\torch\\_utils_internal.py\", line 97, in wrapper_function\n",
            "W0424 10:03:51.244000 21172 site-packages\\torch\\_dynamo\\convert_frame.py:1280]     return function(*args, **kwargs)\n",
            "W0424 10:03:51.244000 21172 site-packages\\torch\\_dynamo\\convert_frame.py:1280]            ^^^^^^^^^^^^^^^^^^^^^^^^^\n",
            "W0424 10:03:51.244000 21172 site-packages\\torch\\_dynamo\\convert_frame.py:1280]   File \"c:\\Users\\paul-\\anaconda3\\envs\\py311\\Lib\\site-packages\\torch\\_dynamo\\convert_frame.py\", line 761, in compile_inner\n",
            "W0424 10:03:51.244000 21172 site-packages\\torch\\_dynamo\\convert_frame.py:1280]     return _compile_inner(code, one_graph, hooks, transform)\n",
            "W0424 10:03:51.244000 21172 site-packages\\torch\\_dynamo\\convert_frame.py:1280]            ^^^^^^^^^^^^^^^^^^^^^^^^^^^^^^^^^^^^^^^^^^^^^^^^^\n",
            "W0424 10:03:51.244000 21172 site-packages\\torch\\_dynamo\\convert_frame.py:1280]   File \"c:\\Users\\paul-\\anaconda3\\envs\\py311\\Lib\\site-packages\\torch\\_dynamo\\convert_frame.py\", line 797, in _compile_inner\n",
            "W0424 10:03:51.244000 21172 site-packages\\torch\\_dynamo\\convert_frame.py:1280]     out_code = transform_code_object(code, transform)\n",
            "W0424 10:03:51.244000 21172 site-packages\\torch\\_dynamo\\convert_frame.py:1280]                ^^^^^^^^^^^^^^^^^^^^^^^^^^^^^^^^^^^^^^\n",
            "W0424 10:03:51.244000 21172 site-packages\\torch\\_dynamo\\convert_frame.py:1280]   File \"c:\\Users\\paul-\\anaconda3\\envs\\py311\\Lib\\site-packages\\torch\\_dynamo\\bytecode_transformation.py\", line 1422, in transform_code_object\n",
            "W0424 10:03:51.244000 21172 site-packages\\torch\\_dynamo\\convert_frame.py:1280]     transformations(instructions, code_options)\n",
            "W0424 10:03:51.244000 21172 site-packages\\torch\\_dynamo\\convert_frame.py:1280]   File \"c:\\Users\\paul-\\anaconda3\\envs\\py311\\Lib\\site-packages\\torch\\_dynamo\\convert_frame.py\", line 257, in _fn\n",
            "W0424 10:03:51.244000 21172 site-packages\\torch\\_dynamo\\convert_frame.py:1280]     return fn(*args, **kwargs)\n",
            "W0424 10:03:51.244000 21172 site-packages\\torch\\_dynamo\\convert_frame.py:1280]            ^^^^^^^^^^^^^^^^^^^\n",
            "W0424 10:03:51.244000 21172 site-packages\\torch\\_dynamo\\convert_frame.py:1280]   File \"c:\\Users\\paul-\\anaconda3\\envs\\py311\\Lib\\site-packages\\torch\\_dynamo\\convert_frame.py\", line 715, in transform\n",
            "W0424 10:03:51.244000 21172 site-packages\\torch\\_dynamo\\convert_frame.py:1280]     tracer.run()\n",
            "W0424 10:03:51.244000 21172 site-packages\\torch\\_dynamo\\convert_frame.py:1280]   File \"c:\\Users\\paul-\\anaconda3\\envs\\py311\\Lib\\site-packages\\torch\\_dynamo\\symbolic_convert.py\", line 3500, in run\n",
            "W0424 10:03:51.244000 21172 site-packages\\torch\\_dynamo\\convert_frame.py:1280]     super().run()\n",
            "W0424 10:03:51.244000 21172 site-packages\\torch\\_dynamo\\convert_frame.py:1280]   File \"c:\\Users\\paul-\\anaconda3\\envs\\py311\\Lib\\site-packages\\torch\\_dynamo\\symbolic_convert.py\", line 1337, in run\n",
            "W0424 10:03:51.244000 21172 site-packages\\torch\\_dynamo\\convert_frame.py:1280]     while self.step():\n",
            "W0424 10:03:51.244000 21172 site-packages\\torch\\_dynamo\\convert_frame.py:1280]           ^^^^^^^^^^^\n",
            "W0424 10:03:51.244000 21172 site-packages\\torch\\_dynamo\\convert_frame.py:1280]   File \"c:\\Users\\paul-\\anaconda3\\envs\\py311\\Lib\\site-packages\\torch\\_dynamo\\symbolic_convert.py\", line 1246, in step\n",
            "W0424 10:03:51.244000 21172 site-packages\\torch\\_dynamo\\convert_frame.py:1280]     self.dispatch_table[inst.opcode](self, inst)\n",
            "W0424 10:03:51.244000 21172 site-packages\\torch\\_dynamo\\convert_frame.py:1280]   File \"c:\\Users\\paul-\\anaconda3\\envs\\py311\\Lib\\site-packages\\torch\\_dynamo\\symbolic_convert.py\", line 3701, in RETURN_VALUE\n",
            "W0424 10:03:51.244000 21172 site-packages\\torch\\_dynamo\\convert_frame.py:1280]     self._return(inst)\n",
            "W0424 10:03:51.244000 21172 site-packages\\torch\\_dynamo\\convert_frame.py:1280]   File \"c:\\Users\\paul-\\anaconda3\\envs\\py311\\Lib\\site-packages\\torch\\_dynamo\\symbolic_convert.py\", line 3686, in _return\n",
            "W0424 10:03:51.244000 21172 site-packages\\torch\\_dynamo\\convert_frame.py:1280]     self.output.compile_subgraph(\n",
            "W0424 10:03:51.244000 21172 site-packages\\torch\\_dynamo\\convert_frame.py:1280]   File \"c:\\Users\\paul-\\anaconda3\\envs\\py311\\Lib\\site-packages\\torch\\_dynamo\\output_graph.py\", line 1144, in compile_subgraph\n",
            "W0424 10:03:51.244000 21172 site-packages\\torch\\_dynamo\\convert_frame.py:1280]     self.compile_and_call_fx_graph(\n",
            "W0424 10:03:51.244000 21172 site-packages\\torch\\_dynamo\\convert_frame.py:1280]   File \"c:\\Users\\paul-\\anaconda3\\envs\\py311\\Lib\\site-packages\\torch\\_dynamo\\output_graph.py\", line 1437, in compile_and_call_fx_graph\n",
            "W0424 10:03:51.244000 21172 site-packages\\torch\\_dynamo\\convert_frame.py:1280]     compiled_fn = self.call_user_compiler(gm)\n",
            "W0424 10:03:51.244000 21172 site-packages\\torch\\_dynamo\\convert_frame.py:1280]                   ^^^^^^^^^^^^^^^^^^^^^^^^^^^\n",
            "W0424 10:03:51.244000 21172 site-packages\\torch\\_dynamo\\convert_frame.py:1280]   File \"c:\\Users\\paul-\\anaconda3\\envs\\py311\\Lib\\site-packages\\torch\\_dynamo\\output_graph.py\", line 1487, in call_user_compiler\n",
            "W0424 10:03:51.244000 21172 site-packages\\torch\\_dynamo\\convert_frame.py:1280]     return self._call_user_compiler(gm)\n",
            "W0424 10:03:51.244000 21172 site-packages\\torch\\_dynamo\\convert_frame.py:1280]            ^^^^^^^^^^^^^^^^^^^^^^^^^^^^\n",
            "W0424 10:03:51.244000 21172 site-packages\\torch\\_dynamo\\convert_frame.py:1280]   File \"c:\\Users\\paul-\\anaconda3\\envs\\py311\\Lib\\site-packages\\torch\\_dynamo\\output_graph.py\", line 1519, in _call_user_compiler\n",
            "W0424 10:03:51.244000 21172 site-packages\\torch\\_dynamo\\convert_frame.py:1280]     compiled_fn = compiler_fn(gm, self.example_inputs())\n",
            "W0424 10:03:51.244000 21172 site-packages\\torch\\_dynamo\\convert_frame.py:1280]                   ^^^^^^^^^^^^^^^^^^^^^^^^^^^^^^^^^^^^^^\n",
            "W0424 10:03:51.244000 21172 site-packages\\torch\\_dynamo\\convert_frame.py:1280]   File \"c:\\Users\\paul-\\anaconda3\\envs\\py311\\Lib\\site-packages\\torch\\_dynamo\\repro\\after_dynamo.py\", line 150, in __call__\n",
            "W0424 10:03:51.244000 21172 site-packages\\torch\\_dynamo\\convert_frame.py:1280]     compiled_gm = compiler_fn(gm, example_inputs)\n",
            "W0424 10:03:51.244000 21172 site-packages\\torch\\_dynamo\\convert_frame.py:1280]                   ^^^^^^^^^^^^^^^^^^^^^^^^^^^^^^^\n",
            "W0424 10:03:51.244000 21172 site-packages\\torch\\_dynamo\\convert_frame.py:1280]   File \"c:\\Users\\paul-\\anaconda3\\envs\\py311\\Lib\\site-packages\\torch\\__init__.py\", line 2347, in __call__\n",
            "W0424 10:03:51.244000 21172 site-packages\\torch\\_dynamo\\convert_frame.py:1280]     return compile_fx(model_, inputs_, config_patches=self.config)\n",
            "W0424 10:03:51.244000 21172 site-packages\\torch\\_dynamo\\convert_frame.py:1280]            ^^^^^^^^^^^^^^^^^^^^^^^^^^^^^^^^^^^^^^^^^^^^^^^^^^^^^^^\n",
            "W0424 10:03:51.244000 21172 site-packages\\torch\\_dynamo\\convert_frame.py:1280]   File \"c:\\Users\\paul-\\anaconda3\\envs\\py311\\Lib\\site-packages\\torch\\_inductor\\compile_fx.py\", line 2101, in compile_fx\n",
            "W0424 10:03:51.244000 21172 site-packages\\torch\\_dynamo\\convert_frame.py:1280]     raise e.remove_dynamo_frames() from None  # see TORCHDYNAMO_VERBOSE=1\n",
            "W0424 10:03:51.244000 21172 site-packages\\torch\\_dynamo\\convert_frame.py:1280]     ^^^^^^^^^^^^^^^^^^^^^^^^^^^^^^^^^^^^^^^^\n",
            "W0424 10:03:51.244000 21172 site-packages\\torch\\_dynamo\\convert_frame.py:1280]   File \"c:\\Users\\paul-\\anaconda3\\envs\\py311\\Lib\\site-packages\\torch\\_inductor\\compile_fx.py\", line 760, in _compile_fx_inner\n",
            "W0424 10:03:51.244000 21172 site-packages\\torch\\_dynamo\\convert_frame.py:1280]     raise InductorError(e, currentframe()).with_traceback(\n",
            "W0424 10:03:51.244000 21172 site-packages\\torch\\_dynamo\\convert_frame.py:1280]   File \"c:\\Users\\paul-\\anaconda3\\envs\\py311\\Lib\\site-packages\\torch\\_inductor\\compile_fx.py\", line 745, in _compile_fx_inner\n",
            "W0424 10:03:51.244000 21172 site-packages\\torch\\_dynamo\\convert_frame.py:1280]     mb_compiled_graph = fx_codegen_and_compile(\n",
            "W0424 10:03:51.244000 21172 site-packages\\torch\\_dynamo\\convert_frame.py:1280]                         ^^^^^^^^^^^^^^^^^^^^^^^\n",
            "W0424 10:03:51.244000 21172 site-packages\\torch\\_dynamo\\convert_frame.py:1280]   File \"c:\\Users\\paul-\\anaconda3\\envs\\py311\\Lib\\site-packages\\torch\\_inductor\\compile_fx.py\", line 1295, in fx_codegen_and_compile\n",
            "W0424 10:03:51.244000 21172 site-packages\\torch\\_dynamo\\convert_frame.py:1280]     return scheme.codegen_and_compile(gm, example_inputs, inputs_to_check, graph_kwargs)\n",
            "W0424 10:03:51.244000 21172 site-packages\\torch\\_dynamo\\convert_frame.py:1280]            ^^^^^^^^^^^^^^^^^^^^^^^^^^^^^^^^^^^^^^^^^^^^^^^^^^^^^^^^^^^^^^^^^^^^^^^^^^^^^\n",
            "W0424 10:03:51.244000 21172 site-packages\\torch\\_dynamo\\convert_frame.py:1280]   File \"c:\\Users\\paul-\\anaconda3\\envs\\py311\\Lib\\site-packages\\torch\\_inductor\\compile_fx.py\", line 1197, in codegen_and_compile\n",
            "W0424 10:03:51.244000 21172 site-packages\\torch\\_dynamo\\convert_frame.py:1280]     compiled_fn = graph.compile_to_module().call\n",
            "W0424 10:03:51.244000 21172 site-packages\\torch\\_dynamo\\convert_frame.py:1280]                   ^^^^^^^^^^^^^^^^^^^^^^^^^\n",
            "W0424 10:03:51.244000 21172 site-packages\\torch\\_dynamo\\convert_frame.py:1280]   File \"c:\\Users\\paul-\\anaconda3\\envs\\py311\\Lib\\site-packages\\torch\\_inductor\\graph.py\", line 2083, in compile_to_module\n",
            "W0424 10:03:51.244000 21172 site-packages\\torch\\_dynamo\\convert_frame.py:1280]     return self._compile_to_module()\n",
            "W0424 10:03:51.244000 21172 site-packages\\torch\\_dynamo\\convert_frame.py:1280]            ^^^^^^^^^^^^^^^^^^^^^^^^^\n",
            "W0424 10:03:51.244000 21172 site-packages\\torch\\_dynamo\\convert_frame.py:1280]   File \"c:\\Users\\paul-\\anaconda3\\envs\\py311\\Lib\\site-packages\\torch\\_inductor\\graph.py\", line 2091, in _compile_to_module\n",
            "W0424 10:03:51.244000 21172 site-packages\\torch\\_dynamo\\convert_frame.py:1280]     self.codegen_with_cpp_wrapper() if self.cpp_wrapper else self.codegen()\n",
            "W0424 10:03:51.244000 21172 site-packages\\torch\\_dynamo\\convert_frame.py:1280]                                                              ^^^^^^^^^^^^^^\n",
            "W0424 10:03:51.244000 21172 site-packages\\torch\\_dynamo\\convert_frame.py:1280]   File \"c:\\Users\\paul-\\anaconda3\\envs\\py311\\Lib\\site-packages\\torch\\_inductor\\graph.py\", line 2002, in codegen\n",
            "W0424 10:03:51.244000 21172 site-packages\\torch\\_dynamo\\convert_frame.py:1280]     self.scheduler.codegen()\n",
            "W0424 10:03:51.244000 21172 site-packages\\torch\\_dynamo\\convert_frame.py:1280]   File \"c:\\Users\\paul-\\anaconda3\\envs\\py311\\Lib\\site-packages\\torch\\_inductor\\scheduler.py\", line 4135, in codegen\n",
            "W0424 10:03:51.244000 21172 site-packages\\torch\\_dynamo\\convert_frame.py:1280]     else self._codegen(self.nodes)\n",
            "W0424 10:03:51.244000 21172 site-packages\\torch\\_dynamo\\convert_frame.py:1280]          ^^^^^^^^^^^^^^^^^^^^^^^^^\n",
            "W0424 10:03:51.244000 21172 site-packages\\torch\\_dynamo\\convert_frame.py:1280]   File \"c:\\Users\\paul-\\anaconda3\\envs\\py311\\Lib\\site-packages\\torch\\_inductor\\scheduler.py\", line 4264, in _codegen\n",
            "W0424 10:03:51.244000 21172 site-packages\\torch\\_dynamo\\convert_frame.py:1280]     self.get_backend(device).codegen_node(node)\n",
            "W0424 10:03:51.244000 21172 site-packages\\torch\\_dynamo\\convert_frame.py:1280]   File \"c:\\Users\\paul-\\anaconda3\\envs\\py311\\Lib\\site-packages\\torch\\_inductor\\codegen\\cpp.py\", line 4986, in codegen_node\n",
            "W0424 10:03:51.244000 21172 site-packages\\torch\\_dynamo\\convert_frame.py:1280]     cpp_kernel_proxy = CppKernelProxy(kernel_group)\n",
            "W0424 10:03:51.244000 21172 site-packages\\torch\\_dynamo\\convert_frame.py:1280]                        ^^^^^^^^^^^^^^^^^^^^^^^^^^^^\n",
            "W0424 10:03:51.244000 21172 site-packages\\torch\\_dynamo\\convert_frame.py:1280]   File \"c:\\Users\\paul-\\anaconda3\\envs\\py311\\Lib\\site-packages\\torch\\_inductor\\codegen\\cpp.py\", line 3734, in __init__\n",
            "W0424 10:03:51.244000 21172 site-packages\\torch\\_dynamo\\convert_frame.py:1280]     self.picked_vec_isa: cpu_vec_isa.VecISA = cpu_vec_isa.pick_vec_isa()\n",
            "W0424 10:03:51.244000 21172 site-packages\\torch\\_dynamo\\convert_frame.py:1280]                                               ^^^^^^^^^^^^^^^^^^^^^^^^^^\n",
            "W0424 10:03:51.244000 21172 site-packages\\torch\\_dynamo\\convert_frame.py:1280]   File \"c:\\Users\\paul-\\anaconda3\\envs\\py311\\Lib\\site-packages\\torch\\_inductor\\cpu_vec_isa.py\", line 418, in pick_vec_isa\n",
            "W0424 10:03:51.244000 21172 site-packages\\torch\\_dynamo\\convert_frame.py:1280]     _valid_vec_isa_list: list[VecISA] = valid_vec_isa_list()\n",
            "W0424 10:03:51.244000 21172 site-packages\\torch\\_dynamo\\convert_frame.py:1280]                                         ^^^^^^^^^^^^^^^^^^^^\n",
            "W0424 10:03:51.244000 21172 site-packages\\torch\\_dynamo\\convert_frame.py:1280]   File \"c:\\Users\\paul-\\anaconda3\\envs\\py311\\Lib\\site-packages\\torch\\_inductor\\cpu_vec_isa.py\", line 405, in valid_vec_isa_list\n",
            "W0424 10:03:51.244000 21172 site-packages\\torch\\_dynamo\\convert_frame.py:1280]     isa_list.extend(\n",
            "W0424 10:03:51.244000 21172 site-packages\\torch\\_dynamo\\convert_frame.py:1280]   File \"c:\\Users\\paul-\\anaconda3\\envs\\py311\\Lib\\site-packages\\torch\\_inductor\\cpu_vec_isa.py\", line 405, in <genexpr>\n",
            "W0424 10:03:51.244000 21172 site-packages\\torch\\_dynamo\\convert_frame.py:1280]     isa_list.extend(\n",
            "W0424 10:03:51.244000 21172 site-packages\\torch\\_dynamo\\convert_frame.py:1280]                    ^\n",
            "W0424 10:03:51.244000 21172 site-packages\\torch\\_dynamo\\convert_frame.py:1280]   File \"c:\\Users\\paul-\\anaconda3\\envs\\py311\\Lib\\site-packages\\torch\\_inductor\\cpu_vec_isa.py\", line 142, in __bool__\n",
            "W0424 10:03:51.244000 21172 site-packages\\torch\\_dynamo\\convert_frame.py:1280]     return self.__bool__impl(config.cpp.vec_isa_ok)\n",
            "W0424 10:03:51.244000 21172 site-packages\\torch\\_dynamo\\convert_frame.py:1280]            ^^^^^^^^^^^^^^^^^^^^^^^^^^^^^^^^^^^^^^^^\n",
            "W0424 10:03:51.244000 21172 site-packages\\torch\\_dynamo\\convert_frame.py:1280]   File \"c:\\Users\\paul-\\anaconda3\\envs\\py311\\Lib\\site-packages\\torch\\_inductor\\cpu_vec_isa.py\", line 152, in __bool__impl\n",
            "W0424 10:03:51.244000 21172 site-packages\\torch\\_dynamo\\convert_frame.py:1280]     return self.check_build(VecISA._avx_code)\n",
            "W0424 10:03:51.244000 21172 site-packages\\torch\\_dynamo\\convert_frame.py:1280]            ^^^^^^^^^^^^^^^^^^^^^^^^^^^^^^^^^^\n",
            "W0424 10:03:51.244000 21172 site-packages\\torch\\_dynamo\\convert_frame.py:1280]   File \"c:\\Users\\paul-\\anaconda3\\envs\\py311\\Lib\\site-packages\\torch\\_inductor\\cpu_vec_isa.py\", line 102, in check_build\n",
            "W0424 10:03:51.244000 21172 site-packages\\torch\\_dynamo\\convert_frame.py:1280]     extra=_get_isa_dry_compile_fingerprint(self._arch_flags),\n",
            "W0424 10:03:51.244000 21172 site-packages\\torch\\_dynamo\\convert_frame.py:1280]           ^^^^^^^^^^^^^^^^^^^^^^^^^^^^^^^^^^^^^^^^^^^^^^^^^^\n",
            "W0424 10:03:51.244000 21172 site-packages\\torch\\_dynamo\\convert_frame.py:1280]   File \"c:\\Users\\paul-\\anaconda3\\envs\\py311\\Lib\\site-packages\\torch\\_inductor\\cpu_vec_isa.py\", line 28, in _get_isa_dry_compile_fingerprint\n",
            "W0424 10:03:51.244000 21172 site-packages\\torch\\_dynamo\\convert_frame.py:1280]     compiler_info = get_compiler_version_info(get_cpp_compiler())\n",
            "W0424 10:03:51.244000 21172 site-packages\\torch\\_dynamo\\convert_frame.py:1280]                                               ^^^^^^^^^^^^^^^^^^\n",
            "W0424 10:03:51.244000 21172 site-packages\\torch\\_dynamo\\convert_frame.py:1280]   File \"c:\\Users\\paul-\\anaconda3\\envs\\py311\\Lib\\site-packages\\torch\\_inductor\\cpp_builder.py\", line 148, in get_cpp_compiler\n",
            "W0424 10:03:51.244000 21172 site-packages\\torch\\_dynamo\\convert_frame.py:1280]     check_compiler_exist_windows(compiler)\n",
            "W0424 10:03:51.244000 21172 site-packages\\torch\\_dynamo\\convert_frame.py:1280]   File \"c:\\Users\\paul-\\anaconda3\\envs\\py311\\Lib\\site-packages\\torch\\_inductor\\cpp_builder.py\", line 139, in check_compiler_exist_windows\n",
            "W0424 10:03:51.244000 21172 site-packages\\torch\\_dynamo\\convert_frame.py:1280]     raise RuntimeError(f\"Compiler: {compiler} is not found.\") from exc\n",
            "W0424 10:03:51.244000 21172 site-packages\\torch\\_dynamo\\convert_frame.py:1280] torch._inductor.exc.InductorError: RuntimeError: Compiler: cl is not found.\n",
            "W0424 10:03:51.244000 21172 site-packages\\torch\\_dynamo\\convert_frame.py:1280] \n",
            "W0424 10:03:51.244000 21172 site-packages\\torch\\_dynamo\\convert_frame.py:1280] Set TORCHDYNAMO_VERBOSE=1 for the internal stack trace (please do this especially if you're reporting a bug to PyTorch). For even more developer context, set TORCH_LOGS=\"+dynamo\"\n",
            "W0424 10:03:51.244000 21172 site-packages\\torch\\_dynamo\\convert_frame.py:1280] \n",
            "W0424 10:03:51.244000 21172 site-packages\\torch\\_dynamo\\convert_frame.py:1280] Traceback (most recent call last):\n",
            "W0424 10:03:51.244000 21172 site-packages\\torch\\_dynamo\\convert_frame.py:1280]   File \"c:\\Users\\paul-\\anaconda3\\envs\\py311\\Lib\\site-packages\\torch\\_dynamo\\convert_frame.py\", line 1213, in __call__\n",
            "W0424 10:03:51.244000 21172 site-packages\\torch\\_dynamo\\convert_frame.py:1280]     result = self._inner_convert(\n",
            "W0424 10:03:51.244000 21172 site-packages\\torch\\_dynamo\\convert_frame.py:1280]              ^^^^^^^^^^^^^^^^^^^^\n",
            "W0424 10:03:51.244000 21172 site-packages\\torch\\_dynamo\\convert_frame.py:1280]   File \"c:\\Users\\paul-\\anaconda3\\envs\\py311\\Lib\\site-packages\\torch\\_dynamo\\convert_frame.py\", line 598, in __call__\n",
            "W0424 10:03:51.244000 21172 site-packages\\torch\\_dynamo\\convert_frame.py:1280]     return _compile(\n",
            "W0424 10:03:51.244000 21172 site-packages\\torch\\_dynamo\\convert_frame.py:1280]            ^^^^^^^^^\n",
            "W0424 10:03:51.244000 21172 site-packages\\torch\\_dynamo\\convert_frame.py:1280]   File \"c:\\Users\\paul-\\anaconda3\\envs\\py311\\Lib\\site-packages\\torch\\_dynamo\\convert_frame.py\", line 1059, in _compile\n",
            "W0424 10:03:51.244000 21172 site-packages\\torch\\_dynamo\\convert_frame.py:1280]     guarded_code = compile_inner(code, one_graph, hooks, transform)\n",
            "W0424 10:03:51.244000 21172 site-packages\\torch\\_dynamo\\convert_frame.py:1280]                    ^^^^^^^^^^^^^^^^^^^^^^^^^^^^^^^^^^^^^^^^^^^^^^^^\n",
            "W0424 10:03:51.244000 21172 site-packages\\torch\\_dynamo\\convert_frame.py:1280]   File \"c:\\Users\\paul-\\anaconda3\\envs\\py311\\Lib\\site-packages\\torch\\_utils_internal.py\", line 97, in wrapper_function\n",
            "W0424 10:03:51.244000 21172 site-packages\\torch\\_dynamo\\convert_frame.py:1280]     return function(*args, **kwargs)\n",
            "W0424 10:03:51.244000 21172 site-packages\\torch\\_dynamo\\convert_frame.py:1280]            ^^^^^^^^^^^^^^^^^^^^^^^^^\n",
            "W0424 10:03:51.244000 21172 site-packages\\torch\\_dynamo\\convert_frame.py:1280]   File \"c:\\Users\\paul-\\anaconda3\\envs\\py311\\Lib\\site-packages\\torch\\_dynamo\\convert_frame.py\", line 761, in compile_inner\n",
            "W0424 10:03:51.244000 21172 site-packages\\torch\\_dynamo\\convert_frame.py:1280]     return _compile_inner(code, one_graph, hooks, transform)\n",
            "W0424 10:03:51.244000 21172 site-packages\\torch\\_dynamo\\convert_frame.py:1280]            ^^^^^^^^^^^^^^^^^^^^^^^^^^^^^^^^^^^^^^^^^^^^^^^^^\n",
            "W0424 10:03:51.244000 21172 site-packages\\torch\\_dynamo\\convert_frame.py:1280]   File \"c:\\Users\\paul-\\anaconda3\\envs\\py311\\Lib\\site-packages\\torch\\_dynamo\\convert_frame.py\", line 797, in _compile_inner\n",
            "W0424 10:03:51.244000 21172 site-packages\\torch\\_dynamo\\convert_frame.py:1280]     out_code = transform_code_object(code, transform)\n",
            "W0424 10:03:51.244000 21172 site-packages\\torch\\_dynamo\\convert_frame.py:1280]                ^^^^^^^^^^^^^^^^^^^^^^^^^^^^^^^^^^^^^^\n",
            "W0424 10:03:51.244000 21172 site-packages\\torch\\_dynamo\\convert_frame.py:1280]   File \"c:\\Users\\paul-\\anaconda3\\envs\\py311\\Lib\\site-packages\\torch\\_dynamo\\bytecode_transformation.py\", line 1422, in transform_code_object\n",
            "W0424 10:03:51.244000 21172 site-packages\\torch\\_dynamo\\convert_frame.py:1280]     transformations(instructions, code_options)\n",
            "W0424 10:03:51.244000 21172 site-packages\\torch\\_dynamo\\convert_frame.py:1280]   File \"c:\\Users\\paul-\\anaconda3\\envs\\py311\\Lib\\site-packages\\torch\\_dynamo\\convert_frame.py\", line 257, in _fn\n",
            "W0424 10:03:51.244000 21172 site-packages\\torch\\_dynamo\\convert_frame.py:1280]     return fn(*args, **kwargs)\n",
            "W0424 10:03:51.244000 21172 site-packages\\torch\\_dynamo\\convert_frame.py:1280]            ^^^^^^^^^^^^^^^^^^^\n",
            "W0424 10:03:51.244000 21172 site-packages\\torch\\_dynamo\\convert_frame.py:1280]   File \"c:\\Users\\paul-\\anaconda3\\envs\\py311\\Lib\\site-packages\\torch\\_dynamo\\convert_frame.py\", line 715, in transform\n",
            "W0424 10:03:51.244000 21172 site-packages\\torch\\_dynamo\\convert_frame.py:1280]     tracer.run()\n",
            "W0424 10:03:51.244000 21172 site-packages\\torch\\_dynamo\\convert_frame.py:1280]   File \"c:\\Users\\paul-\\anaconda3\\envs\\py311\\Lib\\site-packages\\torch\\_dynamo\\symbolic_convert.py\", line 3500, in run\n",
            "W0424 10:03:51.244000 21172 site-packages\\torch\\_dynamo\\convert_frame.py:1280]     super().run()\n",
            "W0424 10:03:51.244000 21172 site-packages\\torch\\_dynamo\\convert_frame.py:1280]   File \"c:\\Users\\paul-\\anaconda3\\envs\\py311\\Lib\\site-packages\\torch\\_dynamo\\symbolic_convert.py\", line 1337, in run\n",
            "W0424 10:03:51.244000 21172 site-packages\\torch\\_dynamo\\convert_frame.py:1280]     while self.step():\n",
            "W0424 10:03:51.244000 21172 site-packages\\torch\\_dynamo\\convert_frame.py:1280]           ^^^^^^^^^^^\n",
            "W0424 10:03:51.244000 21172 site-packages\\torch\\_dynamo\\convert_frame.py:1280]   File \"c:\\Users\\paul-\\anaconda3\\envs\\py311\\Lib\\site-packages\\torch\\_dynamo\\symbolic_convert.py\", line 1246, in step\n",
            "W0424 10:03:51.244000 21172 site-packages\\torch\\_dynamo\\convert_frame.py:1280]     self.dispatch_table[inst.opcode](self, inst)\n",
            "W0424 10:03:51.244000 21172 site-packages\\torch\\_dynamo\\convert_frame.py:1280]   File \"c:\\Users\\paul-\\anaconda3\\envs\\py311\\Lib\\site-packages\\torch\\_dynamo\\symbolic_convert.py\", line 3701, in RETURN_VALUE\n",
            "W0424 10:03:51.244000 21172 site-packages\\torch\\_dynamo\\convert_frame.py:1280]     self._return(inst)\n",
            "W0424 10:03:51.244000 21172 site-packages\\torch\\_dynamo\\convert_frame.py:1280]   File \"c:\\Users\\paul-\\anaconda3\\envs\\py311\\Lib\\site-packages\\torch\\_dynamo\\symbolic_convert.py\", line 3686, in _return\n",
            "W0424 10:03:51.244000 21172 site-packages\\torch\\_dynamo\\convert_frame.py:1280]     self.output.compile_subgraph(\n",
            "W0424 10:03:51.244000 21172 site-packages\\torch\\_dynamo\\convert_frame.py:1280]   File \"c:\\Users\\paul-\\anaconda3\\envs\\py311\\Lib\\site-packages\\torch\\_dynamo\\output_graph.py\", line 1144, in compile_subgraph\n",
            "W0424 10:03:51.244000 21172 site-packages\\torch\\_dynamo\\convert_frame.py:1280]     self.compile_and_call_fx_graph(\n",
            "W0424 10:03:51.244000 21172 site-packages\\torch\\_dynamo\\convert_frame.py:1280]   File \"c:\\Users\\paul-\\anaconda3\\envs\\py311\\Lib\\site-packages\\torch\\_dynamo\\output_graph.py\", line 1437, in compile_and_call_fx_graph\n",
            "W0424 10:03:51.244000 21172 site-packages\\torch\\_dynamo\\convert_frame.py:1280]     compiled_fn = self.call_user_compiler(gm)\n",
            "W0424 10:03:51.244000 21172 site-packages\\torch\\_dynamo\\convert_frame.py:1280]                   ^^^^^^^^^^^^^^^^^^^^^^^^^^^\n",
            "W0424 10:03:51.244000 21172 site-packages\\torch\\_dynamo\\convert_frame.py:1280]   File \"c:\\Users\\paul-\\anaconda3\\envs\\py311\\Lib\\site-packages\\torch\\_dynamo\\output_graph.py\", line 1487, in call_user_compiler\n",
            "W0424 10:03:51.244000 21172 site-packages\\torch\\_dynamo\\convert_frame.py:1280]     return self._call_user_compiler(gm)\n",
            "W0424 10:03:51.244000 21172 site-packages\\torch\\_dynamo\\convert_frame.py:1280]            ^^^^^^^^^^^^^^^^^^^^^^^^^^^^\n",
            "W0424 10:03:51.244000 21172 site-packages\\torch\\_dynamo\\convert_frame.py:1280]   File \"c:\\Users\\paul-\\anaconda3\\envs\\py311\\Lib\\site-packages\\torch\\_dynamo\\output_graph.py\", line 1519, in _call_user_compiler\n",
            "W0424 10:03:51.244000 21172 site-packages\\torch\\_dynamo\\convert_frame.py:1280]     compiled_fn = compiler_fn(gm, self.example_inputs())\n",
            "W0424 10:03:51.244000 21172 site-packages\\torch\\_dynamo\\convert_frame.py:1280]                   ^^^^^^^^^^^^^^^^^^^^^^^^^^^^^^^^^^^^^^\n",
            "W0424 10:03:51.244000 21172 site-packages\\torch\\_dynamo\\convert_frame.py:1280]   File \"c:\\Users\\paul-\\anaconda3\\envs\\py311\\Lib\\site-packages\\torch\\_dynamo\\repro\\after_dynamo.py\", line 150, in __call__\n",
            "W0424 10:03:51.244000 21172 site-packages\\torch\\_dynamo\\convert_frame.py:1280]     compiled_gm = compiler_fn(gm, example_inputs)\n",
            "W0424 10:03:51.244000 21172 site-packages\\torch\\_dynamo\\convert_frame.py:1280]                   ^^^^^^^^^^^^^^^^^^^^^^^^^^^^^^^\n",
            "W0424 10:03:51.244000 21172 site-packages\\torch\\_dynamo\\convert_frame.py:1280]   File \"c:\\Users\\paul-\\anaconda3\\envs\\py311\\Lib\\site-packages\\torch\\__init__.py\", line 2347, in __call__\n",
            "W0424 10:03:51.244000 21172 site-packages\\torch\\_dynamo\\convert_frame.py:1280]     return compile_fx(model_, inputs_, config_patches=self.config)\n",
            "W0424 10:03:51.244000 21172 site-packages\\torch\\_dynamo\\convert_frame.py:1280]            ^^^^^^^^^^^^^^^^^^^^^^^^^^^^^^^^^^^^^^^^^^^^^^^^^^^^^^^\n",
            "W0424 10:03:51.244000 21172 site-packages\\torch\\_dynamo\\convert_frame.py:1280]   File \"c:\\Users\\paul-\\anaconda3\\envs\\py311\\Lib\\site-packages\\torch\\_inductor\\compile_fx.py\", line 2101, in compile_fx\n",
            "W0424 10:03:51.244000 21172 site-packages\\torch\\_dynamo\\convert_frame.py:1280]     raise e.remove_dynamo_frames() from None  # see TORCHDYNAMO_VERBOSE=1\n",
            "W0424 10:03:51.244000 21172 site-packages\\torch\\_dynamo\\convert_frame.py:1280]     ^^^^^^^^^^^^^^^^^^^^^^^^^^^^^^^^^^^^^^^^\n",
            "W0424 10:03:51.244000 21172 site-packages\\torch\\_dynamo\\convert_frame.py:1280]   File \"c:\\Users\\paul-\\anaconda3\\envs\\py311\\Lib\\site-packages\\torch\\_inductor\\compile_fx.py\", line 760, in _compile_fx_inner\n",
            "W0424 10:03:51.244000 21172 site-packages\\torch\\_dynamo\\convert_frame.py:1280]     raise InductorError(e, currentframe()).with_traceback(\n",
            "W0424 10:03:51.244000 21172 site-packages\\torch\\_dynamo\\convert_frame.py:1280]   File \"c:\\Users\\paul-\\anaconda3\\envs\\py311\\Lib\\site-packages\\torch\\_inductor\\compile_fx.py\", line 745, in _compile_fx_inner\n",
            "W0424 10:03:51.244000 21172 site-packages\\torch\\_dynamo\\convert_frame.py:1280]     mb_compiled_graph = fx_codegen_and_compile(\n",
            "W0424 10:03:51.244000 21172 site-packages\\torch\\_dynamo\\convert_frame.py:1280]                         ^^^^^^^^^^^^^^^^^^^^^^^\n",
            "W0424 10:03:51.244000 21172 site-packages\\torch\\_dynamo\\convert_frame.py:1280]   File \"c:\\Users\\paul-\\anaconda3\\envs\\py311\\Lib\\site-packages\\torch\\_inductor\\compile_fx.py\", line 1295, in fx_codegen_and_compile\n",
            "W0424 10:03:51.244000 21172 site-packages\\torch\\_dynamo\\convert_frame.py:1280]     return scheme.codegen_and_compile(gm, example_inputs, inputs_to_check, graph_kwargs)\n",
            "W0424 10:03:51.244000 21172 site-packages\\torch\\_dynamo\\convert_frame.py:1280]            ^^^^^^^^^^^^^^^^^^^^^^^^^^^^^^^^^^^^^^^^^^^^^^^^^^^^^^^^^^^^^^^^^^^^^^^^^^^^^\n",
            "W0424 10:03:51.244000 21172 site-packages\\torch\\_dynamo\\convert_frame.py:1280]   File \"c:\\Users\\paul-\\anaconda3\\envs\\py311\\Lib\\site-packages\\torch\\_inductor\\compile_fx.py\", line 1197, in codegen_and_compile\n",
            "W0424 10:03:51.244000 21172 site-packages\\torch\\_dynamo\\convert_frame.py:1280]     compiled_fn = graph.compile_to_module().call\n",
            "W0424 10:03:51.244000 21172 site-packages\\torch\\_dynamo\\convert_frame.py:1280]                   ^^^^^^^^^^^^^^^^^^^^^^^^^\n",
            "W0424 10:03:51.244000 21172 site-packages\\torch\\_dynamo\\convert_frame.py:1280]   File \"c:\\Users\\paul-\\anaconda3\\envs\\py311\\Lib\\site-packages\\torch\\_inductor\\graph.py\", line 2083, in compile_to_module\n",
            "W0424 10:03:51.244000 21172 site-packages\\torch\\_dynamo\\convert_frame.py:1280]     return self._compile_to_module()\n",
            "W0424 10:03:51.244000 21172 site-packages\\torch\\_dynamo\\convert_frame.py:1280]            ^^^^^^^^^^^^^^^^^^^^^^^^^\n",
            "W0424 10:03:51.244000 21172 site-packages\\torch\\_dynamo\\convert_frame.py:1280]   File \"c:\\Users\\paul-\\anaconda3\\envs\\py311\\Lib\\site-packages\\torch\\_inductor\\graph.py\", line 2091, in _compile_to_module\n",
            "W0424 10:03:51.244000 21172 site-packages\\torch\\_dynamo\\convert_frame.py:1280]     self.codegen_with_cpp_wrapper() if self.cpp_wrapper else self.codegen()\n",
            "W0424 10:03:51.244000 21172 site-packages\\torch\\_dynamo\\convert_frame.py:1280]                                                              ^^^^^^^^^^^^^^\n",
            "W0424 10:03:51.244000 21172 site-packages\\torch\\_dynamo\\convert_frame.py:1280]   File \"c:\\Users\\paul-\\anaconda3\\envs\\py311\\Lib\\site-packages\\torch\\_inductor\\graph.py\", line 2002, in codegen\n",
            "W0424 10:03:51.244000 21172 site-packages\\torch\\_dynamo\\convert_frame.py:1280]     self.scheduler.codegen()\n",
            "W0424 10:03:51.244000 21172 site-packages\\torch\\_dynamo\\convert_frame.py:1280]   File \"c:\\Users\\paul-\\anaconda3\\envs\\py311\\Lib\\site-packages\\torch\\_inductor\\scheduler.py\", line 4135, in codegen\n",
            "W0424 10:03:51.244000 21172 site-packages\\torch\\_dynamo\\convert_frame.py:1280]     else self._codegen(self.nodes)\n",
            "W0424 10:03:51.244000 21172 site-packages\\torch\\_dynamo\\convert_frame.py:1280]          ^^^^^^^^^^^^^^^^^^^^^^^^^\n",
            "W0424 10:03:51.244000 21172 site-packages\\torch\\_dynamo\\convert_frame.py:1280]   File \"c:\\Users\\paul-\\anaconda3\\envs\\py311\\Lib\\site-packages\\torch\\_inductor\\scheduler.py\", line 4264, in _codegen\n",
            "W0424 10:03:51.244000 21172 site-packages\\torch\\_dynamo\\convert_frame.py:1280]     self.get_backend(device).codegen_node(node)\n",
            "W0424 10:03:51.244000 21172 site-packages\\torch\\_dynamo\\convert_frame.py:1280]   File \"c:\\Users\\paul-\\anaconda3\\envs\\py311\\Lib\\site-packages\\torch\\_inductor\\codegen\\cpp.py\", line 4986, in codegen_node\n",
            "W0424 10:03:51.244000 21172 site-packages\\torch\\_dynamo\\convert_frame.py:1280]     cpp_kernel_proxy = CppKernelProxy(kernel_group)\n",
            "W0424 10:03:51.244000 21172 site-packages\\torch\\_dynamo\\convert_frame.py:1280]                        ^^^^^^^^^^^^^^^^^^^^^^^^^^^^\n",
            "W0424 10:03:51.244000 21172 site-packages\\torch\\_dynamo\\convert_frame.py:1280]   File \"c:\\Users\\paul-\\anaconda3\\envs\\py311\\Lib\\site-packages\\torch\\_inductor\\codegen\\cpp.py\", line 3734, in __init__\n",
            "W0424 10:03:51.244000 21172 site-packages\\torch\\_dynamo\\convert_frame.py:1280]     self.picked_vec_isa: cpu_vec_isa.VecISA = cpu_vec_isa.pick_vec_isa()\n",
            "W0424 10:03:51.244000 21172 site-packages\\torch\\_dynamo\\convert_frame.py:1280]                                               ^^^^^^^^^^^^^^^^^^^^^^^^^^\n",
            "W0424 10:03:51.244000 21172 site-packages\\torch\\_dynamo\\convert_frame.py:1280]   File \"c:\\Users\\paul-\\anaconda3\\envs\\py311\\Lib\\site-packages\\torch\\_inductor\\cpu_vec_isa.py\", line 418, in pick_vec_isa\n",
            "W0424 10:03:51.244000 21172 site-packages\\torch\\_dynamo\\convert_frame.py:1280]     _valid_vec_isa_list: list[VecISA] = valid_vec_isa_list()\n",
            "W0424 10:03:51.244000 21172 site-packages\\torch\\_dynamo\\convert_frame.py:1280]                                         ^^^^^^^^^^^^^^^^^^^^\n",
            "W0424 10:03:51.244000 21172 site-packages\\torch\\_dynamo\\convert_frame.py:1280]   File \"c:\\Users\\paul-\\anaconda3\\envs\\py311\\Lib\\site-packages\\torch\\_inductor\\cpu_vec_isa.py\", line 405, in valid_vec_isa_list\n",
            "W0424 10:03:51.244000 21172 site-packages\\torch\\_dynamo\\convert_frame.py:1280]     isa_list.extend(\n",
            "W0424 10:03:51.244000 21172 site-packages\\torch\\_dynamo\\convert_frame.py:1280]   File \"c:\\Users\\paul-\\anaconda3\\envs\\py311\\Lib\\site-packages\\torch\\_inductor\\cpu_vec_isa.py\", line 405, in <genexpr>\n",
            "W0424 10:03:51.244000 21172 site-packages\\torch\\_dynamo\\convert_frame.py:1280]     isa_list.extend(\n",
            "W0424 10:03:51.244000 21172 site-packages\\torch\\_dynamo\\convert_frame.py:1280]                    ^\n",
            "W0424 10:03:51.244000 21172 site-packages\\torch\\_dynamo\\convert_frame.py:1280]   File \"c:\\Users\\paul-\\anaconda3\\envs\\py311\\Lib\\site-packages\\torch\\_inductor\\cpu_vec_isa.py\", line 142, in __bool__\n",
            "W0424 10:03:51.244000 21172 site-packages\\torch\\_dynamo\\convert_frame.py:1280]     return self.__bool__impl(config.cpp.vec_isa_ok)\n",
            "W0424 10:03:51.244000 21172 site-packages\\torch\\_dynamo\\convert_frame.py:1280]            ^^^^^^^^^^^^^^^^^^^^^^^^^^^^^^^^^^^^^^^^\n",
            "W0424 10:03:51.244000 21172 site-packages\\torch\\_dynamo\\convert_frame.py:1280]   File \"c:\\Users\\paul-\\anaconda3\\envs\\py311\\Lib\\site-packages\\torch\\_inductor\\cpu_vec_isa.py\", line 152, in __bool__impl\n",
            "W0424 10:03:51.244000 21172 site-packages\\torch\\_dynamo\\convert_frame.py:1280]     return self.check_build(VecISA._avx_code)\n",
            "W0424 10:03:51.244000 21172 site-packages\\torch\\_dynamo\\convert_frame.py:1280]            ^^^^^^^^^^^^^^^^^^^^^^^^^^^^^^^^^^\n",
            "W0424 10:03:51.244000 21172 site-packages\\torch\\_dynamo\\convert_frame.py:1280]   File \"c:\\Users\\paul-\\anaconda3\\envs\\py311\\Lib\\site-packages\\torch\\_inductor\\cpu_vec_isa.py\", line 102, in check_build\n",
            "W0424 10:03:51.244000 21172 site-packages\\torch\\_dynamo\\convert_frame.py:1280]     extra=_get_isa_dry_compile_fingerprint(self._arch_flags),\n",
            "W0424 10:03:51.244000 21172 site-packages\\torch\\_dynamo\\convert_frame.py:1280]           ^^^^^^^^^^^^^^^^^^^^^^^^^^^^^^^^^^^^^^^^^^^^^^^^^^\n",
            "W0424 10:03:51.244000 21172 site-packages\\torch\\_dynamo\\convert_frame.py:1280]   File \"c:\\Users\\paul-\\anaconda3\\envs\\py311\\Lib\\site-packages\\torch\\_inductor\\cpu_vec_isa.py\", line 28, in _get_isa_dry_compile_fingerprint\n",
            "W0424 10:03:51.244000 21172 site-packages\\torch\\_dynamo\\convert_frame.py:1280]     compiler_info = get_compiler_version_info(get_cpp_compiler())\n",
            "W0424 10:03:51.244000 21172 site-packages\\torch\\_dynamo\\convert_frame.py:1280]                                               ^^^^^^^^^^^^^^^^^^\n",
            "W0424 10:03:51.244000 21172 site-packages\\torch\\_dynamo\\convert_frame.py:1280]   File \"c:\\Users\\paul-\\anaconda3\\envs\\py311\\Lib\\site-packages\\torch\\_inductor\\cpp_builder.py\", line 148, in get_cpp_compiler\n",
            "W0424 10:03:51.244000 21172 site-packages\\torch\\_dynamo\\convert_frame.py:1280]     check_compiler_exist_windows(compiler)\n",
            "W0424 10:03:51.244000 21172 site-packages\\torch\\_dynamo\\convert_frame.py:1280]   File \"c:\\Users\\paul-\\anaconda3\\envs\\py311\\Lib\\site-packages\\torch\\_inductor\\cpp_builder.py\", line 139, in check_compiler_exist_windows\n",
            "W0424 10:03:51.244000 21172 site-packages\\torch\\_dynamo\\convert_frame.py:1280]     raise RuntimeError(f\"Compiler: {compiler} is not found.\") from exc\n",
            "W0424 10:03:51.244000 21172 site-packages\\torch\\_dynamo\\convert_frame.py:1280] torch._inductor.exc.InductorError: RuntimeError: Compiler: cl is not found.\n",
            "W0424 10:03:51.244000 21172 site-packages\\torch\\_dynamo\\convert_frame.py:1280] \n",
            "W0424 10:03:51.244000 21172 site-packages\\torch\\_dynamo\\convert_frame.py:1280] Set TORCHDYNAMO_VERBOSE=1 for the internal stack trace (please do this especially if you're reporting a bug to PyTorch). For even more developer context, set TORCH_LOGS=\"+dynamo\"\n",
            "W0424 10:03:51.244000 21172 site-packages\\torch\\_dynamo\\convert_frame.py:1280] \n"
          ]
        },
        {
          "ename": "KeyboardInterrupt",
          "evalue": "",
          "output_type": "error",
          "traceback": [
            "\u001b[31m---------------------------------------------------------------------------\u001b[39m",
            "\u001b[31mKeyboardInterrupt\u001b[39m                         Traceback (most recent call last)",
            "\u001b[36mCell\u001b[39m\u001b[36m \u001b[39m\u001b[32mIn[54]\u001b[39m\u001b[32m, line 1\u001b[39m\n\u001b[32m----> \u001b[39m\u001b[32m1\u001b[39m \u001b[43mtrainer\u001b[49m\u001b[43m.\u001b[49m\u001b[43mtrain\u001b[49m\u001b[43m(\u001b[49m\u001b[43m)\u001b[49m\n",
            "\u001b[36mFile \u001b[39m\u001b[32mc:\\Users\\paul-\\anaconda3\\envs\\py311\\Lib\\site-packages\\transformers\\trainer.py:2245\u001b[39m, in \u001b[36mTrainer.train\u001b[39m\u001b[34m(self, resume_from_checkpoint, trial, ignore_keys_for_eval, **kwargs)\u001b[39m\n\u001b[32m   2243\u001b[39m         hf_hub_utils.enable_progress_bars()\n\u001b[32m   2244\u001b[39m \u001b[38;5;28;01melse\u001b[39;00m:\n\u001b[32m-> \u001b[39m\u001b[32m2245\u001b[39m     \u001b[38;5;28;01mreturn\u001b[39;00m \u001b[43minner_training_loop\u001b[49m\u001b[43m(\u001b[49m\n\u001b[32m   2246\u001b[39m \u001b[43m        \u001b[49m\u001b[43margs\u001b[49m\u001b[43m=\u001b[49m\u001b[43margs\u001b[49m\u001b[43m,\u001b[49m\n\u001b[32m   2247\u001b[39m \u001b[43m        \u001b[49m\u001b[43mresume_from_checkpoint\u001b[49m\u001b[43m=\u001b[49m\u001b[43mresume_from_checkpoint\u001b[49m\u001b[43m,\u001b[49m\n\u001b[32m   2248\u001b[39m \u001b[43m        \u001b[49m\u001b[43mtrial\u001b[49m\u001b[43m=\u001b[49m\u001b[43mtrial\u001b[49m\u001b[43m,\u001b[49m\n\u001b[32m   2249\u001b[39m \u001b[43m        \u001b[49m\u001b[43mignore_keys_for_eval\u001b[49m\u001b[43m=\u001b[49m\u001b[43mignore_keys_for_eval\u001b[49m\u001b[43m,\u001b[49m\n\u001b[32m   2250\u001b[39m \u001b[43m    \u001b[49m\u001b[43m)\u001b[49m\n",
            "\u001b[36mFile \u001b[39m\u001b[32mc:\\Users\\paul-\\anaconda3\\envs\\py311\\Lib\\site-packages\\transformers\\trainer.py:2560\u001b[39m, in \u001b[36mTrainer._inner_training_loop\u001b[39m\u001b[34m(self, batch_size, args, resume_from_checkpoint, trial, ignore_keys_for_eval)\u001b[39m\n\u001b[32m   2553\u001b[39m context = (\n\u001b[32m   2554\u001b[39m     functools.partial(\u001b[38;5;28mself\u001b[39m.accelerator.no_sync, model=model)\n\u001b[32m   2555\u001b[39m     \u001b[38;5;28;01mif\u001b[39;00m i != \u001b[38;5;28mlen\u001b[39m(batch_samples) - \u001b[32m1\u001b[39m\n\u001b[32m   2556\u001b[39m     \u001b[38;5;129;01mand\u001b[39;00m \u001b[38;5;28mself\u001b[39m.accelerator.distributed_type != DistributedType.DEEPSPEED\n\u001b[32m   2557\u001b[39m     \u001b[38;5;28;01melse\u001b[39;00m contextlib.nullcontext\n\u001b[32m   2558\u001b[39m )\n\u001b[32m   2559\u001b[39m \u001b[38;5;28;01mwith\u001b[39;00m context():\n\u001b[32m-> \u001b[39m\u001b[32m2560\u001b[39m     tr_loss_step = \u001b[38;5;28;43mself\u001b[39;49m\u001b[43m.\u001b[49m\u001b[43mtraining_step\u001b[49m\u001b[43m(\u001b[49m\u001b[43mmodel\u001b[49m\u001b[43m,\u001b[49m\u001b[43m \u001b[49m\u001b[43minputs\u001b[49m\u001b[43m,\u001b[49m\u001b[43m \u001b[49m\u001b[43mnum_items_in_batch\u001b[49m\u001b[43m)\u001b[49m\n\u001b[32m   2562\u001b[39m \u001b[38;5;28;01mif\u001b[39;00m (\n\u001b[32m   2563\u001b[39m     args.logging_nan_inf_filter\n\u001b[32m   2564\u001b[39m     \u001b[38;5;129;01mand\u001b[39;00m \u001b[38;5;129;01mnot\u001b[39;00m is_torch_xla_available()\n\u001b[32m   2565\u001b[39m     \u001b[38;5;129;01mand\u001b[39;00m (torch.isnan(tr_loss_step) \u001b[38;5;129;01mor\u001b[39;00m torch.isinf(tr_loss_step))\n\u001b[32m   2566\u001b[39m ):\n\u001b[32m   2567\u001b[39m     \u001b[38;5;66;03m# if loss is nan or inf simply add the average of previous logged losses\u001b[39;00m\n\u001b[32m   2568\u001b[39m     tr_loss = tr_loss + tr_loss / (\u001b[32m1\u001b[39m + \u001b[38;5;28mself\u001b[39m.state.global_step - \u001b[38;5;28mself\u001b[39m._globalstep_last_logged)\n",
            "\u001b[36mFile \u001b[39m\u001b[32mc:\\Users\\paul-\\anaconda3\\envs\\py311\\Lib\\site-packages\\transformers\\trainer.py:3782\u001b[39m, in \u001b[36mTrainer.training_step\u001b[39m\u001b[34m(***failed resolving arguments***)\u001b[39m\n\u001b[32m   3779\u001b[39m \u001b[38;5;28;01mif\u001b[39;00m \u001b[38;5;28mself\u001b[39m.accelerator.distributed_type == DistributedType.DEEPSPEED:\n\u001b[32m   3780\u001b[39m     kwargs[\u001b[33m\"\u001b[39m\u001b[33mscale_wrt_gas\u001b[39m\u001b[33m\"\u001b[39m] = \u001b[38;5;28;01mFalse\u001b[39;00m\n\u001b[32m-> \u001b[39m\u001b[32m3782\u001b[39m \u001b[38;5;28;43mself\u001b[39;49m\u001b[43m.\u001b[49m\u001b[43maccelerator\u001b[49m\u001b[43m.\u001b[49m\u001b[43mbackward\u001b[49m\u001b[43m(\u001b[49m\u001b[43mloss\u001b[49m\u001b[43m,\u001b[49m\u001b[43m \u001b[49m\u001b[43m*\u001b[49m\u001b[43m*\u001b[49m\u001b[43mkwargs\u001b[49m\u001b[43m)\u001b[49m\n\u001b[32m   3784\u001b[39m \u001b[38;5;28;01mreturn\u001b[39;00m loss.detach()\n",
            "\u001b[36mFile \u001b[39m\u001b[32mc:\\Users\\paul-\\anaconda3\\envs\\py311\\Lib\\site-packages\\accelerate\\accelerator.py:2454\u001b[39m, in \u001b[36mAccelerator.backward\u001b[39m\u001b[34m(self, loss, **kwargs)\u001b[39m\n\u001b[32m   2452\u001b[39m     \u001b[38;5;28mself\u001b[39m.lomo_backward(loss, learning_rate)\n\u001b[32m   2453\u001b[39m \u001b[38;5;28;01melse\u001b[39;00m:\n\u001b[32m-> \u001b[39m\u001b[32m2454\u001b[39m     \u001b[43mloss\u001b[49m\u001b[43m.\u001b[49m\u001b[43mbackward\u001b[49m\u001b[43m(\u001b[49m\u001b[43m*\u001b[49m\u001b[43m*\u001b[49m\u001b[43mkwargs\u001b[49m\u001b[43m)\u001b[49m\n",
            "\u001b[36mFile \u001b[39m\u001b[32mc:\\Users\\paul-\\anaconda3\\envs\\py311\\Lib\\site-packages\\torch\\_tensor.py:648\u001b[39m, in \u001b[36mTensor.backward\u001b[39m\u001b[34m(self, gradient, retain_graph, create_graph, inputs)\u001b[39m\n\u001b[32m    638\u001b[39m \u001b[38;5;28;01mif\u001b[39;00m has_torch_function_unary(\u001b[38;5;28mself\u001b[39m):\n\u001b[32m    639\u001b[39m     \u001b[38;5;28;01mreturn\u001b[39;00m handle_torch_function(\n\u001b[32m    640\u001b[39m         Tensor.backward,\n\u001b[32m    641\u001b[39m         (\u001b[38;5;28mself\u001b[39m,),\n\u001b[32m   (...)\u001b[39m\u001b[32m    646\u001b[39m         inputs=inputs,\n\u001b[32m    647\u001b[39m     )\n\u001b[32m--> \u001b[39m\u001b[32m648\u001b[39m \u001b[43mtorch\u001b[49m\u001b[43m.\u001b[49m\u001b[43mautograd\u001b[49m\u001b[43m.\u001b[49m\u001b[43mbackward\u001b[49m\u001b[43m(\u001b[49m\n\u001b[32m    649\u001b[39m \u001b[43m    \u001b[49m\u001b[38;5;28;43mself\u001b[39;49m\u001b[43m,\u001b[49m\u001b[43m \u001b[49m\u001b[43mgradient\u001b[49m\u001b[43m,\u001b[49m\u001b[43m \u001b[49m\u001b[43mretain_graph\u001b[49m\u001b[43m,\u001b[49m\u001b[43m \u001b[49m\u001b[43mcreate_graph\u001b[49m\u001b[43m,\u001b[49m\u001b[43m \u001b[49m\u001b[43minputs\u001b[49m\u001b[43m=\u001b[49m\u001b[43minputs\u001b[49m\n\u001b[32m    650\u001b[39m \u001b[43m\u001b[49m\u001b[43m)\u001b[49m\n",
            "\u001b[36mFile \u001b[39m\u001b[32mc:\\Users\\paul-\\anaconda3\\envs\\py311\\Lib\\site-packages\\torch\\autograd\\__init__.py:353\u001b[39m, in \u001b[36mbackward\u001b[39m\u001b[34m(tensors, grad_tensors, retain_graph, create_graph, grad_variables, inputs)\u001b[39m\n\u001b[32m    348\u001b[39m     retain_graph = create_graph\n\u001b[32m    350\u001b[39m \u001b[38;5;66;03m# The reason we repeat the same comment below is that\u001b[39;00m\n\u001b[32m    351\u001b[39m \u001b[38;5;66;03m# some Python versions print out the first line of a multi-line function\u001b[39;00m\n\u001b[32m    352\u001b[39m \u001b[38;5;66;03m# calls in the traceback and some print out the last line\u001b[39;00m\n\u001b[32m--> \u001b[39m\u001b[32m353\u001b[39m \u001b[43m_engine_run_backward\u001b[49m\u001b[43m(\u001b[49m\n\u001b[32m    354\u001b[39m \u001b[43m    \u001b[49m\u001b[43mtensors\u001b[49m\u001b[43m,\u001b[49m\n\u001b[32m    355\u001b[39m \u001b[43m    \u001b[49m\u001b[43mgrad_tensors_\u001b[49m\u001b[43m,\u001b[49m\n\u001b[32m    356\u001b[39m \u001b[43m    \u001b[49m\u001b[43mretain_graph\u001b[49m\u001b[43m,\u001b[49m\n\u001b[32m    357\u001b[39m \u001b[43m    \u001b[49m\u001b[43mcreate_graph\u001b[49m\u001b[43m,\u001b[49m\n\u001b[32m    358\u001b[39m \u001b[43m    \u001b[49m\u001b[43minputs\u001b[49m\u001b[43m,\u001b[49m\n\u001b[32m    359\u001b[39m \u001b[43m    \u001b[49m\u001b[43mallow_unreachable\u001b[49m\u001b[43m=\u001b[49m\u001b[38;5;28;43;01mTrue\u001b[39;49;00m\u001b[43m,\u001b[49m\n\u001b[32m    360\u001b[39m \u001b[43m    \u001b[49m\u001b[43maccumulate_grad\u001b[49m\u001b[43m=\u001b[49m\u001b[38;5;28;43;01mTrue\u001b[39;49;00m\u001b[43m,\u001b[49m\n\u001b[32m    361\u001b[39m \u001b[43m\u001b[49m\u001b[43m)\u001b[49m\n",
            "\u001b[36mFile \u001b[39m\u001b[32mc:\\Users\\paul-\\anaconda3\\envs\\py311\\Lib\\site-packages\\torch\\autograd\\graph.py:824\u001b[39m, in \u001b[36m_engine_run_backward\u001b[39m\u001b[34m(t_outputs, *args, **kwargs)\u001b[39m\n\u001b[32m    822\u001b[39m     unregister_hooks = _register_logging_hooks_on_whole_graph(t_outputs)\n\u001b[32m    823\u001b[39m \u001b[38;5;28;01mtry\u001b[39;00m:\n\u001b[32m--> \u001b[39m\u001b[32m824\u001b[39m     \u001b[38;5;28;01mreturn\u001b[39;00m \u001b[43mVariable\u001b[49m\u001b[43m.\u001b[49m\u001b[43m_execution_engine\u001b[49m\u001b[43m.\u001b[49m\u001b[43mrun_backward\u001b[49m\u001b[43m(\u001b[49m\u001b[43m  \u001b[49m\u001b[38;5;66;43;03m# Calls into the C++ engine to run the backward pass\u001b[39;49;00m\n\u001b[32m    825\u001b[39m \u001b[43m        \u001b[49m\u001b[43mt_outputs\u001b[49m\u001b[43m,\u001b[49m\u001b[43m \u001b[49m\u001b[43m*\u001b[49m\u001b[43margs\u001b[49m\u001b[43m,\u001b[49m\u001b[43m \u001b[49m\u001b[43m*\u001b[49m\u001b[43m*\u001b[49m\u001b[43mkwargs\u001b[49m\n\u001b[32m    826\u001b[39m \u001b[43m    \u001b[49m\u001b[43m)\u001b[49m  \u001b[38;5;66;03m# Calls into the C++ engine to run the backward pass\u001b[39;00m\n\u001b[32m    827\u001b[39m \u001b[38;5;28;01mfinally\u001b[39;00m:\n\u001b[32m    828\u001b[39m     \u001b[38;5;28;01mif\u001b[39;00m attach_logging_hooks:\n",
            "\u001b[31mKeyboardInterrupt\u001b[39m: "
          ]
        }
      ],
      "source": [
        "trainer.train()"
      ]
    },
    {
      "cell_type": "code",
      "execution_count": null,
      "metadata": {
        "id": "NzjW-Ml0rrsQ"
      },
      "outputs": [],
      "source": [
        "\n",
        "\n",
        "\n",
        "\n"
      ]
    },
    {
      "cell_type": "code",
      "execution_count": null,
      "metadata": {
        "id": "P-gsg6TCrrv1"
      },
      "outputs": [],
      "source": [
        "q=[trainer.evaluate(eval_dataset=df) for df in [train_dataset, val_dataset, test_dataset]]\n",
        "pd.DataFrame(q, index=[\"train\",\"val\",\"test\"]).iloc[:,:5]"
      ]
    },
    {
      "cell_type": "code",
      "execution_count": null,
      "metadata": {
        "id": "awpKuF_mrrzN"
      },
      "outputs": [],
      "source": [
        " # Evaluate the model\n",
        "results = trainer.evaluate()\n"
      ]
    },
    {
      "cell_type": "code",
      "execution_count": null,
      "metadata": {
        "id": "Yd47lg5irr2k"
      },
      "outputs": [],
      "source": [
        "print(results)"
      ]
    },
    {
      "cell_type": "code",
      "execution_count": null,
      "metadata": {
        "id": "6Uq7lXDVrr6O"
      },
      "outputs": [],
      "source": [
        "val_predictions = trainer.predict(val_dataset)\n",
        "val_predicted_labels = val_predictions.predictions.argmax(axis=1)\n"
      ]
    },
    {
      "cell_type": "code",
      "execution_count": null,
      "metadata": {
        "id": "eDFDz1xKrr-G"
      },
      "outputs": [],
      "source": [
        "val_predicted_labels = val_predictions.predictions.argmax(axis=1)"
      ]
    },
    {
      "cell_type": "code",
      "execution_count": null,
      "metadata": {
        "id": "vyJi0Y-XrsBN"
      },
      "outputs": [],
      "source": [
        "print(classification_report(val_labels, val_predicted_labels))"
      ]
    },
    {
      "cell_type": "code",
      "execution_count": null,
      "metadata": {
        "id": "Znmj6q_lEwjC"
      },
      "outputs": [],
      "source": [
        "test_predictions = trainer.predict(test_dataset)\n",
        "test_predicted_labels = test_predictions.predictions.argmax(axis=1)"
      ]
    },
    {
      "cell_type": "code",
      "execution_count": null,
      "metadata": {
        "id": "JJPiaIW8rsEN"
      },
      "outputs": [],
      "source": [
        "print(classification_report(test_labels, test_predicted_labels))"
      ]
    },
    {
      "cell_type": "code",
      "execution_count": null,
      "metadata": {
        "id": "pP9QvodtrsI2"
      },
      "outputs": [],
      "source": [
        "cf_matrixbrt = confusion_matrix(test_predicted_labels,test_labels)\n",
        "cf_matrixbrt"
      ]
    },
    {
      "cell_type": "code",
      "execution_count": null,
      "metadata": {
        "id": "gzBtmdgWrsLo"
      },
      "outputs": [],
      "source": [
        "sns.set(font_scale=1.4)#for label size\n",
        "sns.heatmap(cf_matrixbrt, cmap=\"Blues\",  annot=True, annot_kws={\"size\": 12}  , cbar=True, fmt='g' )\n",
        "# Set the axis labels and title\n",
        "plt.xlabel('Predicted Label')\n",
        "plt.ylabel('True Label')"
      ]
    },
    {
      "cell_type": "code",
      "execution_count": null,
      "metadata": {
        "id": "BxEBoG-r29Z8"
      },
      "outputs": [],
      "source": [
        "sns.heatmap(cf_matrixbrt , annot=True, annot_kws={\"size\": 12} , cmap='Blues', cbar=True, fmt='g' )\n",
        "# Set the axis labels and title\n",
        "plt.xlabel('Predicted Label')\n",
        "plt.ylabel('True Label')"
      ]
    },
    {
      "cell_type": "code",
      "execution_count": null,
      "metadata": {
        "id": "tyKFXlFW29n6"
      },
      "outputs": [],
      "source": [
        "# Predictions\n",
        "y_test_predict = trainer.predict(test_dataset)\n",
        "# Take a look at the predictions\n",
        "y_test_predict"
      ]
    },
    {
      "cell_type": "code",
      "execution_count": null,
      "metadata": {
        "id": "VZ4No3vq29q-"
      },
      "outputs": [],
      "source": [
        "# Predicted logits\n",
        "y_test_logits = y_test_predict.predictions\n",
        "# First 5 predicted probabilities\n",
        "y_test_logits[:5]"
      ]
    },
    {
      "cell_type": "code",
      "execution_count": null,
      "metadata": {
        "id": "qpbwwpeN29uT"
      },
      "outputs": [],
      "source": [
        "# Predicted probabilities\n",
        "y_test_probabilities = tf.nn.softmax(y_test_logits)\n",
        "# First 5 predicted logits\n",
        "y_test_probabilities[:5]"
      ]
    },
    {
      "cell_type": "code",
      "execution_count": null,
      "metadata": {
        "id": "FAc6Uw7Ax3gw"
      },
      "outputs": [],
      "source": [
        "# Define the path where you want to save the file\n",
        "file_path = '/content/drive/My Drive/test_predicted_labels.npy'\n",
        "# Save the numpy array to the file\n",
        "np.save(file_path, test_predicted_labels)\n",
        "print(f'Saved test_predicted_labels to {file_path}')"
      ]
    },
    {
      "cell_type": "code",
      "execution_count": null,
      "metadata": {
        "id": "4puyZdjQx3ne"
      },
      "outputs": [],
      "source": []
    },
    {
      "cell_type": "code",
      "execution_count": null,
      "metadata": {
        "id": "1Ou1cgG0x3sa"
      },
      "outputs": [],
      "source": []
    },
    {
      "cell_type": "code",
      "execution_count": null,
      "metadata": {
        "id": "cImYd9Mv1azO"
      },
      "outputs": [],
      "source": [
        "\n",
        "metrics = [\"accuracy\", \"precision\", \"recall\", \"f1-score\"] # define metrics\n",
        "models = [   \"BERT + TF-IDF\"  ] # define models\n",
        "results = [] # initialize results list\n",
        "for y_pred in [  test_predicted_labels       ]: # iterate over predictions\n",
        "  result = [] # initialize result list for each model\n",
        "  for metric in metrics: # iterate over metrics\n",
        "    if metric == \"accuracy\":\n",
        "      score = accuracy_score(y_test, y_pred) # calculate accuracy\n",
        "    elif metric == \"precision\":\n",
        "      score = precision_score(y_test, y_pred, average=\"weighted\") # calculate macro-averaged precision\n",
        "    elif metric == \"recall\":\n",
        "      score = recall_score(y_test, y_pred, average=\"weighted\") # calculate macro-averaged recall\n",
        "    elif metric == \"f1-score\":\n",
        "      score = f1_score(y_test, y_pred, average=\"weighted\") # calculate macro-averaged F1-score\n",
        "    result.append(score) # add score to result list\n",
        "  results.append(result) # add result list to results list\n",
        "\n",
        "# Create table with results\n",
        "table = pd.DataFrame(results, index=models, columns=metrics) # create dataframe with results\n",
        "print(table) # print table\n"
      ]
    },
    {
      "cell_type": "code",
      "execution_count": null,
      "metadata": {
        "id": "zDdl7PdqyJYo"
      },
      "outputs": [],
      "source": [
        "metrics = [\"accuracy\", \"precision\", \"recall\", \"f1-score\"] # Define metrics\n",
        "models = [\"BERT + TF-IDF\"] # Define models\n",
        "results = [] # Initialize results list\n",
        "\n",
        "# Iterate over predictions\n",
        "for y_pred in [test_predicted_labels]:\n",
        "    result = [] # Initialize result list for each model\n",
        "    for metric in metrics: # Iterate over metrics\n",
        "        if metric == \"accuracy\":\n",
        "            score = accuracy_score(y_test, y_pred) # Calculate accuracy\n",
        "        elif metric == \"precision\":\n",
        "            score = precision_score(y_test, y_pred, average=\"weighted\") # Calculate macro-averaged precision\n",
        "        elif metric == \"recall\":\n",
        "            score = recall_score(y_test, y_pred, average=\"weighted\") # Calculate macro-averaged recall\n",
        "        elif metric == \"f1-score\":\n",
        "            score = f1_score(y_test, y_pred, average=\"weighted\") # Calculate macro-averaged F1-score\n",
        "        result.append(score) # Add score to result list\n",
        "    results.append(result) # Add result list to results list\n",
        "\n",
        "# Create table with results\n",
        "table = pd.DataFrame(results, index=models, columns=metrics) # Create dataframe with results\n",
        "print(table) # Print table\n"
      ]
    },
    {
      "cell_type": "code",
      "execution_count": null,
      "metadata": {
        "id": "GNyrVtGsx01O"
      },
      "outputs": [],
      "source": []
    },
    {
      "cell_type": "code",
      "execution_count": null,
      "metadata": {
        "id": "EhGDcuDTx065"
      },
      "outputs": [],
      "source": [
        "from keras.models import Sequential\n",
        "from keras.layers import Embedding, LSTM, Dense, Bidirectional\n",
        "from keras.metrics import Precision, Recall"
      ]
    },
    {
      "cell_type": "code",
      "execution_count": null,
      "metadata": {
        "id": "PxIpBo679hMi"
      },
      "outputs": [],
      "source": []
    },
    {
      "cell_type": "markdown",
      "metadata": {
        "id": "HfAeTeMXgi_r"
      },
      "source": [
        "# **BERT TFIDF + LSTM**"
      ]
    },
    {
      "cell_type": "code",
      "execution_count": null,
      "metadata": {
        "id": "cE33lv7h9hSi"
      },
      "outputs": [],
      "source": [
        "model = AutoModelForSequenceClassification.from_pretrained('bert-base-uncased', num_labels=NUM_LABELS, id2label=id2label, label2id=label2id)\n",
        "device = torch.device('cuda' if torch.cuda.is_available() else 'cpu')\n",
        "model = model.to(device)\n",
        "model.train()\n",
        "\n",
        "tokenizer = AutoTokenizer.from_pretrained('bert-base-uncased', max_length=1024)\n",
        "\n",
        "train_encodings = tokenizer(list(X_train), truncation=True, padding=True)\n",
        "val_encodings = tokenizer(list(X_val), truncation=True, padding=True)\n",
        "test_encodings = tokenizer(list(X_test), truncation=True, padding=True)\n",
        "\n",
        "# TF-IDF Preparation\n",
        "tfidf_vectorizer = TfidfVectorizer()\n",
        "X_train_tfidf = tfidf_vectorizer.fit_transform(X_train)\n",
        "X_val_tfidf = tfidf_vectorizer.transform(X_val)\n",
        "X_test_tfidf = tfidf_vectorizer.transform(X_test)\n",
        "\n",
        "# LSTM Model Preparation\n",
        "MAX_VOCAB_SIZE = 10000\n",
        "MAX_SEQUENCE_LENGTH = 100\n",
        "\n",
        "tokenizer_lstm = Tokenizer(num_words=MAX_VOCAB_SIZE)\n",
        "tokenizer_lstm.fit_on_texts(X_train)\n",
        "\n",
        "X_train_seq = pad_sequences(tokenizer_lstm.texts_to_sequences(X_train), maxlen=MAX_SEQUENCE_LENGTH)\n",
        "X_val_seq = pad_sequences(tokenizer_lstm.texts_to_sequences(X_val), maxlen=MAX_SEQUENCE_LENGTH)\n",
        "X_test_seq = pad_sequences(tokenizer_lstm.texts_to_sequences(X_test), maxlen=MAX_SEQUENCE_LENGTH)\n",
        "\n",
        "lstm_model = Sequential([\n",
        "    Embedding(MAX_VOCAB_SIZE, 128, input_length=MAX_SEQUENCE_LENGTH),\n",
        "    LSTM(64),\n",
        "    Dense(NUM_LABELS, activation='softmax')\n",
        "])\n",
        "lstm_model.compile(optimizer='adam', loss='sparse_categorical_crossentropy', metrics=['accuracy'])\n",
        "\n",
        "\n",
        "class CustomDataset(Dataset):\n",
        "    def __init__(self, encodings, labels, tfidf_weights=None):\n",
        "        self.encodings = encodings\n",
        "        self.labels = labels\n",
        "        self.tfidf_weights = tfidf_weights\n",
        "\n",
        "    def __getitem__(self, idx):\n",
        "        item = {key: torch.tensor(val[idx]) for key, val in self.encodings.items()}\n",
        "        # Access labels using the index from encodings to ensure alignment\n",
        "        item['labels'] = torch.tensor(self.labels.iloc[idx])\n",
        "        if self.tfidf_weights is not None:\n",
        "            item['tfidf_weights'] = torch.tensor(self.tfidf_weights[idx].toarray()).float()\n",
        "        return item\n",
        "\n",
        "    def __len__(self):\n",
        "        return len(self.encodings['input_ids'])\n",
        "\n",
        "train_dataset = CustomDataset(train_encodings, y_train, X_train_tfidf)\n",
        "val_dataset = CustomDataset(val_encodings, y_val, X_val_tfidf)\n",
        "test_dataset = CustomDataset(test_encodings, y_test, X_test_tfidf)\n",
        "\n",
        "# Trainer with Weighted Loss\n",
        "class WeightedLossTrainer(Trainer):\n",
        "    def compute_loss(self, model, inputs, return_outputs=False):\n",
        "        outputs = model(**inputs)\n",
        "        logits = outputs.get(\"logits\")\n",
        "        labels = inputs.get(\"labels\")\n",
        "        loss_fct = nn.CrossEntropyLoss(weight=weights, reduction='none')\n",
        "        loss = loss_fct(logits.view(-1, self.model.config.num_labels), labels.view(-1))\n",
        "        if \"tfidf_weights\" in inputs:\n",
        "            tfidf_weights = inputs.pop(\"tfidf_weights\")\n",
        "            tfidf_weights = tfidf_weights.view(-1, 1).expand(-1, self.model.config.num_labels).contiguous()\n",
        "            loss = loss * tfidf_weights\n",
        "        return (loss.mean(), outputs) if return_outputs else loss.mean()\n",
        "\n",
        "# Compute Metrics\n",
        "def compute_metrics(pred):\n",
        "    labels = pred.label_ids\n",
        "    preds = pred.predictions.argmax(-1)\n",
        "    precision, recall, f1, _ = precision_recall_fscore_support(labels, preds, average='weighted')\n",
        "    acc = accuracy_score(labels, preds)\n",
        "    return {\n",
        "        'accuracy': acc,\n",
        "        'f1-score': f1,\n",
        "        'precision': precision,\n",
        "        'recall': recall\n",
        "    }\n",
        "\n",
        "# Training Arguments\n",
        "training_args = TrainingArguments(\n",
        "    output_dir='./multi-class-logs',\n",
        "    do_train=True,\n",
        "    do_eval=True,\n",
        "    num_train_epochs=7,\n",
        "    learning_rate=5e-5,\n",
        "    torch_compile=True,\n",
        "    per_device_train_batch_size=8,\n",
        "    per_device_eval_batch_size=16,\n",
        "    warmup_steps=200,\n",
        "    weight_decay=0.01,\n",
        "    logging_strategy='steps',\n",
        "    logging_dir='./multi-class-logs',\n",
        "    logging_steps=500,\n",
        "    evaluation_strategy=\"steps\",\n",
        "    eval_steps=500,\n",
        "    save_strategy=\"steps\",\n",
        "    load_best_model_at_end=True,\n",
        "    fp16=True,\n",
        "    optim=\"adamw_torch_fused\"\n",
        ")\n",
        "\n",
        "# Initialize Trainer\n",
        "trainerl = WeightedLossTrainer(\n",
        "    model=model,\n",
        "    args=training_args,\n",
        "    train_dataset=train_dataset,\n",
        "    eval_dataset=val_dataset,\n",
        "    compute_metrics=compute_metrics\n",
        ")\n",
        "\n",
        "# Train the model\n",
        "trainerl.train()\n",
        "\n",
        "\n"
      ]
    },
    {
      "cell_type": "code",
      "execution_count": null,
      "metadata": {
        "id": "_fHC6uEGErPF"
      },
      "outputs": [],
      "source": [
        "\n",
        "# Train LSTM model\n",
        "lstm_model.fit(X_train_seq, y_train, validation_data=(X_val_seq, y_val), epochs=7, batch_size=64)\n"
      ]
    },
    {
      "cell_type": "code",
      "execution_count": null,
      "metadata": {
        "id": "XXrx7OOKnVm_"
      },
      "outputs": [],
      "source": [
        "\n",
        "# Train LSTM model\n",
        "lstm_model.fit(X_train_seq, y_train, validation_data=(X_val_seq, y_val), epochs=7, batch_size=64)\n"
      ]
    },
    {
      "cell_type": "code",
      "execution_count": null,
      "metadata": {
        "id": "GkHnialGnV5B"
      },
      "outputs": [],
      "source": []
    },
    {
      "cell_type": "code",
      "execution_count": null,
      "metadata": {
        "id": "6rWorurHnV78"
      },
      "outputs": [],
      "source": []
    },
    {
      "cell_type": "code",
      "execution_count": null,
      "metadata": {
        "id": "senD8NFUt3Bq"
      },
      "outputs": [],
      "source": [
        "# Evaluate the model on the validation dataset\n",
        "eval_results = trainerl.evaluate()\n",
        "\n",
        "# Print the evaluation metrics\n",
        "accuracy = eval_results['eval_accuracy']\n",
        "precision = eval_results['eval_precision']\n",
        "recall = eval_results['eval_recall']\n",
        "f1 = eval_results['eval_f1-score']\n",
        "\n",
        "print(f'Accuracy: {accuracy}')\n",
        "print(f'Precision: {precision}')\n",
        "print(f'Recall: {recall}')\n",
        "print(f'F1-Score: {f1}')"
      ]
    },
    {
      "cell_type": "code",
      "execution_count": null,
      "metadata": {
        "id": "C-ZNBta-t3MZ"
      },
      "outputs": [],
      "source": [
        "\n",
        "# Evaluate the model on the test dataset\n",
        "test_results = trainerl.predict(test_dataset)\n",
        "\n",
        "# Extract metrics\n",
        "accuracy = test_results.metrics['test_accuracy']\n",
        "precision = test_results.metrics['test_precision']\n",
        "recall = test_results.metrics['test_recall']\n",
        "f1 = test_results.metrics['test_f1-score']\n",
        "\n",
        "# Print the evaluation metrics\n",
        "print(f'Accuracy: {accuracy}')\n",
        "print(f'Precision: {precision}')\n",
        "print(f'Recall: {recall}')\n",
        "print(f'F1-Score: {f1}')"
      ]
    },
    {
      "cell_type": "code",
      "execution_count": null,
      "metadata": {
        "id": "h3hSzPBTT1qC"
      },
      "outputs": [],
      "source": [
        "import numpy as np\n",
        "import matplotlib.pyplot as plt\n",
        "from sklearn.metrics import confusion_matrix, ConfusionMatrixDisplay"
      ]
    },
    {
      "cell_type": "code",
      "execution_count": null,
      "metadata": {
        "id": "98UOdEPr9Lhj"
      },
      "outputs": [],
      "source": [
        "# Evaluate the model on the test dataset\n",
        "test_results = trainerl.predict(test_dataset)\n",
        "\n",
        "# Extract true labels and predicted labels\n",
        "y_true = test_results.label_ids\n",
        "y_pred = np.argmax(test_results.predictions, axis=1)\n",
        "\n",
        "# Calculate confusion matrix\n",
        "cm = confusion_matrix(y_true, y_pred)\n",
        "\n",
        "# Display the confusion matrix as an array\n",
        "print('Confusion Matrix as an Array:')\n",
        "print(cm)\n",
        "\n",
        "disp = ConfusionMatrixDisplay(confusion_matrix=cm)\n",
        "disp.plot(cmap=plt.cm.Blues)\n",
        "plt.title('Confusion Matrix')\n",
        "plt.show()\n",
        "\n",
        "accuracy = test_results.metrics['test_accuracy']\n",
        "precision = test_results.metrics['test_precision']\n",
        "recall = test_results.metrics['test_recall']\n",
        "f1 = test_results.metrics['test_f1-score']\n",
        "\n"
      ]
    },
    {
      "cell_type": "code",
      "execution_count": null,
      "metadata": {
        "id": "X40kMW0e9Llq"
      },
      "outputs": [],
      "source": [
        "\n",
        "disp = ConfusionMatrixDisplay(confusion_matrix=cm)\n",
        "disp.plot(cmap=plt.cm.Blues)\n",
        "plt.title('Confusion Matrix')\n",
        "plt.show()\n"
      ]
    },
    {
      "cell_type": "code",
      "execution_count": null,
      "metadata": {
        "id": "2zA6gBlI9Loz"
      },
      "outputs": [],
      "source": [
        "\n",
        "accuracy = test_results.metrics['test_accuracy']\n",
        "precision = test_results.metrics['test_precision']\n",
        "recall = test_results.metrics['test_recall']\n",
        "f1 = test_results.metrics['test_f1-score']\n",
        "\n"
      ]
    },
    {
      "cell_type": "code",
      "execution_count": null,
      "metadata": {
        "id": "UbOXOszx9Lrx"
      },
      "outputs": [],
      "source": [
        "\n",
        "print(f'Accuracy: {accuracy}')\n",
        "print(f'Precision: {precision}')\n",
        "print(f'Recall: {recall}')\n",
        "print(f'F1-Score: {f1}')"
      ]
    },
    {
      "cell_type": "code",
      "execution_count": null,
      "metadata": {
        "id": "BR0cJrt79MMJ"
      },
      "outputs": [],
      "source": []
    },
    {
      "cell_type": "code",
      "execution_count": null,
      "metadata": {
        "id": "_tWv4hX9t3Ps"
      },
      "outputs": [],
      "source": [
        "import numpy as np\n",
        "from sklearn.metrics import accuracy_score, precision_score, recall_score, f1_score"
      ]
    },
    {
      "cell_type": "markdown",
      "metadata": {
        "id": "oL8wm8x8uYbE"
      },
      "source": [
        "LSTM Part"
      ]
    },
    {
      "cell_type": "code",
      "execution_count": null,
      "metadata": {
        "id": "jDXcR455uOIY"
      },
      "outputs": [],
      "source": [
        "y_pred = lstm_model.predict(X_test_seq)\n",
        "y_pred_classes = np.argmax(y_pred, axis=1)\n",
        "accuracy = accuracy_score(y_test, y_pred_classes)\n",
        "precision = precision_score(y_test, y_pred_classes, average='weighted')\n",
        "recall = recall_score(y_test, y_pred_classes, average='weighted')\n",
        "f1 = f1_score(y_test, y_pred_classes, average='weighted')\n",
        "print(f'Accuracy: {accuracy}')\n",
        "print(f'Precision: {precision}')\n",
        "print(f'Recall: {recall}')\n",
        "print(f'F1-Score: {f1}')"
      ]
    },
    {
      "cell_type": "code",
      "execution_count": null,
      "metadata": {
        "id": "5wQ10U3SuOLx"
      },
      "outputs": [],
      "source": [
        "print(f'Accuracy: {accuracy}')\n",
        "print(f'Precision: {precision}')\n",
        "print(f'Recall: {recall}')\n",
        "print(f'F1-Score: {f1}')\n",
        "\n",
        "conf_matrix = confusion_matrix(y_test, y_pred_classes)\n",
        "print(\"Confusion Matrix:\")\n",
        "print(conf_matrix)"
      ]
    },
    {
      "cell_type": "code",
      "execution_count": null,
      "metadata": {
        "id": "CvBtXBPe9pXD"
      },
      "outputs": [],
      "source": [
        "plt.figure(figsize=(10, 7))\n",
        "sns.heatmap(conf_matrix, annot=True, fmt='d', cmap='Blues')\n",
        "plt.xlabel('Predicted Labels')\n",
        "plt.ylabel('True Labels')\n",
        "plt.title('Confusion Matrix')\n",
        "plt.show()"
      ]
    },
    {
      "cell_type": "code",
      "execution_count": null,
      "metadata": {
        "id": "lBl6itT09pa2"
      },
      "outputs": [],
      "source": []
    },
    {
      "cell_type": "code",
      "execution_count": null,
      "metadata": {
        "id": "x2mDhzTY9peU"
      },
      "outputs": [],
      "source": []
    },
    {
      "cell_type": "code",
      "execution_count": null,
      "metadata": {
        "id": "60GJ3CoN9phf"
      },
      "outputs": [],
      "source": []
    },
    {
      "cell_type": "code",
      "execution_count": null,
      "metadata": {
        "id": "m1obnhHw9pk8"
      },
      "outputs": [],
      "source": []
    },
    {
      "cell_type": "code",
      "execution_count": null,
      "metadata": {
        "id": "YXdmKEyf9poR"
      },
      "outputs": [],
      "source": []
    },
    {
      "cell_type": "code",
      "execution_count": null,
      "metadata": {
        "id": "2xNNA2fv9prf"
      },
      "outputs": [],
      "source": []
    },
    {
      "cell_type": "code",
      "execution_count": null,
      "metadata": {
        "id": "Oc1MFhcZ9pvD"
      },
      "outputs": [],
      "source": []
    },
    {
      "cell_type": "code",
      "execution_count": null,
      "metadata": {
        "id": "gOyowW3-uOPD"
      },
      "outputs": [],
      "source": [
        "# Evaluate the model on the validation dataset\n",
        "eval_results = trainerl.evaluate()\n",
        "\n",
        "# Print the evaluation metrics\n",
        "accuracy = eval_results['eval_accuracy']\n",
        "precision = eval_results['eval_precision']\n",
        "recall = eval_results['eval_recall']\n",
        "f1 = eval_results['eval_f1-score']\n",
        "\n",
        "print(f'Accuracy: {accuracy}')\n",
        "print(f'Precision: {precision}')\n",
        "print(f'Recall: {recall}')\n",
        "print(f'F1-Score: {f1}')\n",
        "\n",
        "\n",
        "\n",
        "# Evaluate the model on the test dataset\n",
        "test_results = trainerl.predict(test_dataset)\n",
        "\n",
        "# Extract metrics\n",
        "accuracy = test_results.metrics['test_accuracy']\n",
        "precision = test_results.metrics['test_precision']\n",
        "recall = test_results.metrics['test_recall']\n",
        "f1 = test_results.metrics['test_f1-score']\n",
        "\n",
        "# Print the evaluation metrics\n",
        "print(f'Accuracy: {accuracy}')\n",
        "print(f'Precision: {precision}')\n",
        "print(f'Recall: {recall}')\n",
        "print(f'F1-Score: {f1}')"
      ]
    },
    {
      "cell_type": "code",
      "execution_count": null,
      "metadata": {
        "id": "3EW0cKukt3S4"
      },
      "outputs": [],
      "source": []
    },
    {
      "cell_type": "code",
      "execution_count": null,
      "metadata": {
        "id": "i9q9xkMt9hWi"
      },
      "outputs": [],
      "source": [
        "# Predictions and Voting Ensemble\n",
        "bert_preds = trainerl.predict(test_dataset).predictions.argmax(-1)\n",
        "tfidf_preds = trainerl.predict(test_dataset).predictions.argmax(-1)\n",
        "lstm_preds = lstm_model.predict(X_test_seq).argmax(axis=1)\n",
        "\n",
        "final_preds = []\n",
        "for bert, tfidf, lstm in zip(bert_preds, tfidf_preds, lstm_preds):\n",
        "    votes = [bert, tfidf, lstm]\n",
        "    final_preds.append(max(set(votes), key=votes.count))\n",
        "\n",
        "# Evaluation\n",
        "accuracy = accuracy_score(y_test, final_preds)\n",
        "precision, recall, f1, _ = precision_recall_fscore_support(y_test, final_preds, average='weighted')\n",
        "\n",
        "print(f'Accuracy: {accuracy}')\n",
        "print(f'Precision: {precision}')\n",
        "print(f'Recall: {recall}')\n",
        "print(f'F1-Score: {f1}')"
      ]
    },
    {
      "cell_type": "code",
      "execution_count": null,
      "metadata": {
        "id": "qtBNnWikcr3n"
      },
      "outputs": [],
      "source": []
    },
    {
      "cell_type": "code",
      "execution_count": null,
      "metadata": {
        "id": "RS8XgKhU8ca-"
      },
      "outputs": [],
      "source": [
        "\n",
        "# Confusion Matrix\n",
        "cm = confusion_matrix(y_test, final_preds)\n",
        "\n",
        "# Plotting Confusion Matrix\n",
        "plt.figure(figsize=(10, 7))\n",
        "sns.heatmap(cm, annot=True, fmt='d', cmap='Blues')\n",
        "plt.xlabel('Predicted')\n",
        "plt.ylabel('Actual')\n",
        "plt.title('Confusion Matrix')\n",
        "plt.show()"
      ]
    },
    {
      "cell_type": "code",
      "execution_count": null,
      "metadata": {
        "id": "4xeW4bks8cd-"
      },
      "outputs": [],
      "source": [
        "# Confusion matrix as array\n",
        "conf_matrix = confusion_matrix(y_test, final_preds)\n",
        "print(\"Confusion Matrix (as array):\")\n",
        "print(conf_matrix)"
      ]
    },
    {
      "cell_type": "code",
      "execution_count": null,
      "metadata": {
        "id": "EwcorEQG8cg7"
      },
      "outputs": [],
      "source": [
        "# Confusion matrix as image\n",
        "plt.figure(figsize=(10, 7))\n",
        "sns.heatmap(conf_matrix, annot=True, fmt='d', cmap='Blues', xticklabels=np.unique(y_test), yticklabels=np.unique(y_test))\n",
        "plt.xlabel('Predicted')\n",
        "plt.ylabel('Actual')\n",
        "plt.title('Confusion Matrix')\n",
        "plt.show()"
      ]
    },
    {
      "cell_type": "code",
      "execution_count": null,
      "metadata": {
        "id": "_QDjLlXM8ckr"
      },
      "outputs": [],
      "source": []
    },
    {
      "cell_type": "code",
      "execution_count": null,
      "metadata": {
        "id": "oSsQBZ6DWTY9"
      },
      "outputs": [],
      "source": [
        "\n",
        "metrics = [\"accuracy\", \"precision\", \"recall\", \"f1-score\"]\n",
        "models = [\"BERT + TF-IDF + LSTM   \"]\n",
        "results = []\n",
        "\n",
        "for y_pred in [final_preds]:\n",
        "    result = []\n",
        "    for metric in metrics:\n",
        "        if metric == \"accuracy\":\n",
        "            score = accuracy_score(y_test, y_pred)\n",
        "        elif metric == \"precision\":\n",
        "            score = precision_score(y_test, y_pred, average=\"weighted\")\n",
        "        elif metric == \"recall\":\n",
        "            score = recall_score(y_test, y_pred, average=\"weighted\")\n",
        "        elif metric == \"f1-score\":\n",
        "            score = f1_score(y_test, y_pred, average=\"weighted\")\n",
        "        result.append(score)\n",
        "    results.append(result)\n",
        "\n",
        "# Create table with results\n",
        "table = pd.DataFrame(results, index=models, columns=metrics)\n",
        "print(table)"
      ]
    },
    {
      "cell_type": "code",
      "execution_count": null,
      "metadata": {
        "id": "eVho7jaosBAi"
      },
      "outputs": [],
      "source": []
    },
    {
      "cell_type": "code",
      "execution_count": null,
      "metadata": {
        "id": "78D1erpwsBD_"
      },
      "outputs": [],
      "source": []
    },
    {
      "cell_type": "code",
      "execution_count": null,
      "metadata": {
        "id": "u-isVXUUsBHA"
      },
      "outputs": [],
      "source": []
    },
    {
      "cell_type": "code",
      "execution_count": null,
      "metadata": {
        "id": "kcggZUwBsBJ6"
      },
      "outputs": [],
      "source": []
    },
    {
      "cell_type": "code",
      "execution_count": null,
      "metadata": {
        "id": "WTDdcJpLsBNA"
      },
      "outputs": [],
      "source": []
    },
    {
      "cell_type": "code",
      "execution_count": null,
      "metadata": {
        "id": "QbyLFqN4WTgo"
      },
      "outputs": [],
      "source": []
    },
    {
      "cell_type": "code",
      "execution_count": null,
      "metadata": {
        "id": "x7jqvILycsQm"
      },
      "outputs": [],
      "source": []
    },
    {
      "cell_type": "markdown",
      "metadata": {
        "id": "O4wvRuD0hOM4"
      },
      "source": [
        "\n",
        "# **BERT + TFIDF + LSTM+lightGBM**"
      ]
    },
    {
      "cell_type": "code",
      "execution_count": null,
      "metadata": {
        "id": "UyZScZdVcskz"
      },
      "outputs": [],
      "source": [
        "# LightGBM Model Training\n",
        "lgbm = LGBMClassifier()\n",
        "lgbm.fit(X_train_tfidf, y_train)\n",
        "\n",
        "# Predictions from BERT and LightGBM\n",
        "bert_predictions = trainer.predict(test_dataset).predictions.argmax(-1)\n",
        "lgbm_predictions = lgbm.predict(X_test_tfidf)\n",
        "\n",
        "#y_pred = lstm_model.predict(X_test_seq)\n",
        "#y_pred_classes = np.argmax(y_pred, axis=1)\n",
        "#lstm_preds = lstm_model.predict(X_test_seq).argmax(axis=1)\n",
        "\n",
        "\n",
        "# Combining Predictions\n",
        "final_predictions = (bert_predictions + lstm_preds + lgbm_predictions  ) // 3\n",
        "\n",
        "# Evaluation\n",
        "accuracy = accuracy_score(y_test, final_predictions)\n",
        "precision, recall, f1, _ = precision_recall_fscore_support(y_test, final_predictions, average='weighted')\n"
      ]
    },
    {
      "cell_type": "code",
      "execution_count": null,
      "metadata": {
        "id": "h2xXqFu5voWD"
      },
      "outputs": [],
      "source": [
        "print(f\"Accuracy: {accuracy}\")\n",
        "print(f\"Precision: {precision}\")\n",
        "print(f\"Recall: {recall}\")\n",
        "print(f\"F1-Score: {f1}\")"
      ]
    },
    {
      "cell_type": "code",
      "execution_count": null,
      "metadata": {
        "id": "o6wyWa09cs3A"
      },
      "outputs": [],
      "source": [
        "# Confusion Matrix\n",
        "conf_matrix = confusion_matrix(y_test, final_predictions)\n",
        "plt.figure(figsize=(10, 7))\n",
        "sns.heatmap(conf_matrix, annot=True, fmt='d', cmap='Blues', xticklabels=labels, yticklabels=labels)\n",
        "plt.xlabel('Predicted')\n",
        "plt.ylabel('True')\n",
        "plt.title('Confusion Matrix')\n",
        "plt.show()"
      ]
    },
    {
      "cell_type": "code",
      "execution_count": null,
      "metadata": {
        "id": "rUdr7E0a-E_u"
      },
      "outputs": [],
      "source": []
    },
    {
      "cell_type": "code",
      "execution_count": null,
      "metadata": {
        "id": "N51QZmZV-FEO"
      },
      "outputs": [],
      "source": [
        "# Create confusion matrix as an array\n",
        "conf_matrix = confusion_matrix(y_test, final_predictions)\n",
        "print(\"Confusion Matrix as an array:\")\n",
        "print(conf_matrix)\n",
        "\n"
      ]
    },
    {
      "cell_type": "code",
      "execution_count": null,
      "metadata": {
        "id": "F2bK_Gjv-FL7"
      },
      "outputs": [],
      "source": [
        "plt.figure(figsize=(10, 7))\n",
        "sns.heatmap(conf_matrix, annot=True, fmt='d', cmap='Blues', xticklabels=labels, yticklabels=labels)\n",
        "plt.xlabel('Predicted')\n",
        "plt.ylabel('True')\n",
        "plt.title('Confusion Matrix')\n",
        "plt.show()"
      ]
    },
    {
      "cell_type": "code",
      "execution_count": null,
      "metadata": {
        "id": "tkSTDRE6ctJz"
      },
      "outputs": [],
      "source": [
        "\n",
        "metrics = [\"accuracy\", \"precision\", \"recall\", \"f1-score\"]\n",
        "models = [\"BERT + TF-IDF + LSTM + LightGBM  \"]\n",
        "results = []\n",
        "\n",
        "for y_pred in [final_predictions]:\n",
        "    result = []\n",
        "    for metric in metrics:\n",
        "        if metric == \"accuracy\":\n",
        "            score = accuracy_score(y_test, y_pred)\n",
        "        elif metric == \"precision\":\n",
        "            score = precision_score(y_test, y_pred, average=\"weighted\")\n",
        "        elif metric == \"recall\":\n",
        "            score = recall_score(y_test, y_pred, average=\"weighted\")\n",
        "        elif metric == \"f1-score\":\n",
        "            score = f1_score(y_test, y_pred, average=\"weighted\")\n",
        "        result.append(score)\n",
        "    results.append(result)\n",
        "\n",
        "# Create table with results\n",
        "table = pd.DataFrame(results, index=models, columns=metrics)\n",
        "print(table)"
      ]
    },
    {
      "cell_type": "code",
      "execution_count": null,
      "metadata": {
        "id": "isrBB5IM9hcR"
      },
      "outputs": [],
      "source": []
    },
    {
      "cell_type": "code",
      "execution_count": null,
      "metadata": {
        "id": "KLg8vV4G9hij"
      },
      "outputs": [],
      "source": []
    },
    {
      "cell_type": "code",
      "execution_count": null,
      "metadata": {
        "id": "lrVnwxNc_204"
      },
      "outputs": [],
      "source": []
    },
    {
      "cell_type": "code",
      "execution_count": null,
      "metadata": {
        "id": "QFq0yIK2EFub"
      },
      "outputs": [],
      "source": [
        "# Predictions and Voting Ensemble\n",
        "bert_preds = trainerl.predict(test_dataset).predictions.argmax(-1)\n",
        "tfidf_preds = trainerl.predict(test_dataset).predictions.argmax(-1)\n",
        "lstm_preds = lstm_model.predict(X_test_seq).argmax(axis=1)\n",
        "lgbm_preds = lgbm.predict(X_test_tfidf)\n",
        "\n",
        "final_preds = []\n",
        "for bert, tfidf, lstm ,lgbm_preds in zip(bert_preds, tfidf_preds, lstm_preds, lgbm_preds):\n",
        "    votes = [bert, tfidf, lstm, lgbm_preds]\n",
        "    final_preds.append(max(set(votes), key=votes.count))\n",
        "\n",
        "# Evaluation\n",
        "accuracy = accuracy_score(y_test, final_preds)\n",
        "precision, recall, f1, _ = precision_recall_fscore_support(y_test, final_preds, average='weighted')\n",
        "\n",
        "print(f'Accuracy: {accuracy}')\n",
        "print(f'Precision: {precision}')\n",
        "print(f'Recall: {recall}')\n",
        "print(f'F1-Score: {f1}')"
      ]
    },
    {
      "cell_type": "code",
      "execution_count": null,
      "metadata": {
        "id": "nYPp2wb-HaJB"
      },
      "outputs": [],
      "source": [
        "metrics = [\"accuracy\", \"precision\", \"recall\", \"f1-score\"]\n",
        "models = [\"BERT + TF-IDF + LSTM + LightGBM  \"]\n",
        "results = []\n",
        "\n",
        "for y_pred in [final_preds]:\n",
        "    result = []\n",
        "    for metric in metrics:\n",
        "        if metric == \"accuracy\":\n",
        "            score = accuracy_score(y_test, y_pred)\n",
        "        elif metric == \"precision\":\n",
        "            score = precision_score(y_test, y_pred, average=\"weighted\")\n",
        "        elif metric == \"recall\":\n",
        "            score = recall_score(y_test, y_pred, average=\"weighted\")\n",
        "        elif metric == \"f1-score\":\n",
        "            score = f1_score(y_test, y_pred, average=\"weighted\")\n",
        "        result.append(score)\n",
        "    results.append(result)\n",
        "\n",
        "# Create table with results\n",
        "table = pd.DataFrame(results, index=models, columns=metrics)\n",
        "print(table)"
      ]
    },
    {
      "cell_type": "code",
      "execution_count": null,
      "metadata": {
        "id": "ZDNtP7YpHbSx"
      },
      "outputs": [],
      "source": []
    },
    {
      "cell_type": "code",
      "execution_count": null,
      "metadata": {
        "id": "xdRsjq32EF-a"
      },
      "outputs": [],
      "source": [
        "\n",
        "# Confusion Matrix\n",
        "conf_matrixs = confusion_matrix(y_test, final_preds)\n",
        "\n",
        "# Plotting Confusion Matrix\n",
        "plt.figure(figsize=(10, 7))\n",
        "sns.heatmap(conf_matrixs, annot=True, fmt='d', cmap='Blues')\n",
        "plt.xlabel('Predicted')\n",
        "plt.ylabel('Actual')\n",
        "plt.title('Confusion Matrix')\n",
        "plt.show()\n",
        "\n",
        "\n"
      ]
    },
    {
      "cell_type": "code",
      "execution_count": null,
      "metadata": {
        "id": "lVfifWSSEGMr"
      },
      "outputs": [],
      "source": [
        "# Confusion matrix as array\n",
        "conf_matrix = confusion_matrix(y_test, final_preds)\n",
        "print(\"Confusion Matrix (as array):\")\n",
        "print(conf_matrixs)"
      ]
    },
    {
      "cell_type": "code",
      "execution_count": null,
      "metadata": {
        "id": "-XEHcwJLEGcg"
      },
      "outputs": [],
      "source": []
    },
    {
      "cell_type": "code",
      "execution_count": null,
      "metadata": {
        "id": "EuzBukR_EGr6"
      },
      "outputs": [],
      "source": []
    },
    {
      "cell_type": "code",
      "execution_count": null,
      "metadata": {
        "id": "jDGSWJyfEG68"
      },
      "outputs": [],
      "source": []
    },
    {
      "cell_type": "code",
      "execution_count": null,
      "metadata": {
        "id": "5wfbbIR0EHMc"
      },
      "outputs": [],
      "source": []
    },
    {
      "cell_type": "code",
      "execution_count": null,
      "metadata": {
        "id": "hwH4KvKtEHc9"
      },
      "outputs": [],
      "source": []
    },
    {
      "cell_type": "code",
      "execution_count": null,
      "metadata": {
        "id": "38rGHRZgCNE_"
      },
      "outputs": [],
      "source": []
    },
    {
      "cell_type": "code",
      "execution_count": null,
      "metadata": {
        "id": "lZ-udAN0CNWd"
      },
      "outputs": [],
      "source": []
    },
    {
      "cell_type": "code",
      "execution_count": null,
      "metadata": {
        "id": "t0X0pX1kCNsJ"
      },
      "outputs": [],
      "source": []
    },
    {
      "cell_type": "code",
      "execution_count": null,
      "metadata": {
        "id": "lX4XymsJCOAb"
      },
      "outputs": [],
      "source": []
    },
    {
      "cell_type": "code",
      "execution_count": null,
      "metadata": {
        "id": "GcNruwOOW3t1"
      },
      "outputs": [],
      "source": []
    },
    {
      "cell_type": "code",
      "execution_count": null,
      "metadata": {
        "id": "CFvBD7vscdxL"
      },
      "outputs": [],
      "source": []
    },
    {
      "cell_type": "code",
      "execution_count": null,
      "metadata": {
        "id": "FYdsth4mcd4w"
      },
      "outputs": [],
      "source": []
    },
    {
      "cell_type": "code",
      "execution_count": null,
      "metadata": {
        "id": "x6KDUURTcd9Z"
      },
      "outputs": [],
      "source": []
    },
    {
      "cell_type": "code",
      "execution_count": null,
      "metadata": {
        "id": "dDORTFxZW3z_"
      },
      "outputs": [],
      "source": [
        "import joblib\n",
        "from google.colab import drive\n",
        "drive.mount('/content/drive')\n",
        "import numpy as np  # Import NumPy library import numpy as np  # Import NumPy library\n",
        "import torch # Import PyTorch\n",
        "\n",
        "# Load the datasets from Google Drive\n",
        "X_train = joblib.load('/content/drive/My Drive/X_train.pkl')\n",
        "X_test = joblib.load('/content/drive/My Drive/X_test.pkl')\n",
        "y_train = joblib.load('/content/drive/My Drive/y_train.pkl')\n",
        "y_test = joblib.load('/content/drive/My Drive/y_test.pkl')\n",
        "X_val = joblib.load('/content/drive/My Drive/X_val.pkl')\n",
        "y_val = joblib.load('/content/drive/My Drive/y_val.pkl')\n",
        "# Define paths\n",
        "model_save_path = '/content/drive/My Drive/model.pth'\n",
        "variables_save_path = '/content/drive/My Drive/model_variables.pth'\n",
        "\n",
        "train_texts   =   list(X_train)\n",
        "train_labels  =   list(y_train)\n",
        "test_texts    =   list(X_test)\n",
        "test_labels   =   list(y_test)\n",
        "val_texts     =   list(X_val)\n",
        "val_labels    =   list(y_val)\n",
        "\n",
        "# Define paths\n",
        "model_save_path = '/content/drive/My Drive/model.pth'\n",
        "variables_save_path = '/content/drive/My Drive/model_variables.pth'\n",
        "# Save class weights to a file in Google Drive\n",
        "weights_path = '/content/drive/My Drive/class_weights.npy'\n",
        "\n",
        "# Load variables\n",
        "loaded_variables = torch.load(variables_save_path)\n",
        "NUM_LABELS = loaded_variables['num_labels']\n",
        "id2label = loaded_variables['id2label']\n",
        "label2id = loaded_variables['label2id']"
      ]
    },
    {
      "cell_type": "code",
      "execution_count": null,
      "metadata": {
        "id": "6sQAuyQfVc07"
      },
      "outputs": [],
      "source": []
    },
    {
      "cell_type": "code",
      "execution_count": null,
      "metadata": {
        "id": "5Kpw2FaicOhl"
      },
      "outputs": [],
      "source": []
    },
    {
      "cell_type": "code",
      "execution_count": null,
      "metadata": {
        "id": "6aQanuqKcOoN"
      },
      "outputs": [],
      "source": []
    },
    {
      "cell_type": "code",
      "execution_count": null,
      "metadata": {
        "id": "roLUztP_cOuA"
      },
      "outputs": [],
      "source": []
    },
    {
      "cell_type": "code",
      "execution_count": null,
      "metadata": {
        "id": "yN2UmYvIcOzg"
      },
      "outputs": [],
      "source": []
    },
    {
      "cell_type": "code",
      "execution_count": null,
      "metadata": {
        "id": "-YoGA2VOkr60"
      },
      "outputs": [],
      "source": []
    },
    {
      "cell_type": "code",
      "execution_count": null,
      "metadata": {
        "id": "wylQ9gWxksCI"
      },
      "outputs": [],
      "source": []
    },
    {
      "cell_type": "code",
      "execution_count": null,
      "metadata": {
        "id": "ODJJRd5GQgO-"
      },
      "outputs": [],
      "source": []
    },
    {
      "cell_type": "raw",
      "metadata": {
        "id": "MA2XuwdY7WQJ"
      },
      "source": [
        "# **Basaline Models **"
      ]
    },
    {
      "cell_type": "markdown",
      "metadata": {
        "id": "Ho-y6hK67SWw"
      },
      "source": [
        "#**Other Models**"
      ]
    },
    {
      "cell_type": "markdown",
      "metadata": {
        "id": "hdpvhgJsx0Qi"
      },
      "source": [
        "After dividing the dataset, the subsequent stages involve feature manipulation. Initially, we'll change our textual documents into a matrix that counts tokens using CountVectorizer. Subsequently, we'll convert the count matrix into a normalized tf-idf representation using the tf-idf transformer. Following this, we will proceed to train various classifiers from the Scikit-Learn library."
      ]
    },
    {
      "cell_type": "code",
      "execution_count": null,
      "metadata": {
        "id": "6sACPsnpBl22"
      },
      "outputs": [],
      "source": []
    },
    {
      "cell_type": "markdown",
      "metadata": {
        "id": "ue1yXqlu_-jp"
      },
      "source": [
        "#  Naive Bayes Classifier for Multinomial Models"
      ]
    },
    {
      "cell_type": "code",
      "execution_count": null,
      "metadata": {
        "id": "XltvpdxRBl22"
      },
      "outputs": [],
      "source": [
        "#  Naive Bayes Classifier for Multinomial Models\n",
        "#To make the vectorizer => transformer => classifier easier to work with, we will use Pipeline class in Scilkit-Learn that behaves like a compound classifier."
      ]
    },
    {
      "cell_type": "code",
      "execution_count": null,
      "metadata": {
        "id": "4NWBPqkNBl22"
      },
      "outputs": [],
      "source": [
        "nb = Pipeline([('vect', CountVectorizer()),\n",
        "               ('tfidf', TfidfTransformer()),\n",
        "               ('clf', MultinomialNB()),\n",
        "              ])"
      ]
    },
    {
      "cell_type": "code",
      "execution_count": null,
      "metadata": {
        "id": "Q4uA_EGXlyIH"
      },
      "outputs": [],
      "source": [
        "nb.fit(X_train, y_train)"
      ]
    },
    {
      "cell_type": "code",
      "execution_count": null,
      "metadata": {
        "id": "iJqFwIw_CJt7"
      },
      "outputs": [],
      "source": [
        "%%time\n",
        "from sklearn.metrics import classification_report\n",
        "y_prednb = nb.predict(X_test)"
      ]
    },
    {
      "cell_type": "code",
      "execution_count": null,
      "metadata": {
        "id": "v5z_BJs3CJxG"
      },
      "outputs": [],
      "source": [
        "print(classification_report(y_test, y_prednb))"
      ]
    },
    {
      "cell_type": "code",
      "execution_count": null,
      "metadata": {
        "id": "Dggf4JRTCJz7"
      },
      "outputs": [],
      "source": [
        "cf_matrixnb = confusion_matrix(y_prednb,test_labels)\n",
        "cf_matrixnb"
      ]
    },
    {
      "cell_type": "code",
      "execution_count": null,
      "metadata": {
        "id": "mgfSdNxeCJ3Q"
      },
      "outputs": [],
      "source": [
        "sns.set(font_scale=1.4)#for label size\n",
        "sns.heatmap(cf_matrixnb, cmap=\"Blues\",  annot=True, annot_kws={\"size\": 12}  , cbar=True, fmt='g' )\n",
        "# Set the axis labels and title\n",
        "plt.xlabel('Predicted Label')\n",
        "plt.ylabel('True Label')\n"
      ]
    },
    {
      "cell_type": "code",
      "execution_count": null,
      "metadata": {
        "id": "yN0swA8HyzdM"
      },
      "outputs": [],
      "source": [
        "# Make predictions on the test set\n",
        "y_prednb = nb.predict(X_test)\n",
        "\n",
        "# Compute the metrics\n",
        "accuracy = accuracy_score(y_test, y_pred)\n",
        "precision, recall, f1, _ = precision_recall_fscore_support(y_test, y_prednb, average='weighted')\n",
        "\n",
        "# Print the evaluation metrics\n",
        "print(f'Accuracy: {accuracy}')\n",
        "print(f'Precision: {precision}')\n",
        "print(f'Recall: {recall}')\n",
        "print(f'F1-Score: {f1}')"
      ]
    },
    {
      "cell_type": "code",
      "execution_count": null,
      "metadata": {
        "id": "kJ-W8tj4yzrk"
      },
      "outputs": [],
      "source": [
        "# Define the path where you want to save the file\n",
        "file_path = '/content/drive/My Drive/y_prednb.npy'\n",
        "# Save the numpy array to the file\n",
        "np.save(file_path, y_prednb)\n",
        "print(f'Saved  predicted_labels to {file_path}')"
      ]
    },
    {
      "cell_type": "code",
      "execution_count": null,
      "metadata": {
        "id": "aVq7mlTWy8v-"
      },
      "outputs": [],
      "source": []
    },
    {
      "cell_type": "code",
      "execution_count": null,
      "metadata": {
        "id": "TN0iN_OQuMhO"
      },
      "outputs": [],
      "source": [
        "metrics = [\"accuracy\", \"precision\", \"recall\", \"f1-score\"] # define metrics\n",
        "models = [   \"Naive Bayes  \"  ] # define models\n",
        "results = [] # initialize results list\n",
        "for y_pred in [   y_prednb      ]: # iterate over predictions\n",
        "  result = [] # initialize result list for each model\n",
        "  for metric in metrics: # iterate over metrics\n",
        "    if metric == \"accuracy\":\n",
        "      score = accuracy_score(y_test, y_pred) # calculate accuracy\n",
        "    elif metric == \"precision\":\n",
        "      score = precision_score(y_test, y_pred, average=\"weighted\") #\n",
        "    elif metric == \"recall\":\n",
        "      score = recall_score(y_test, y_pred, average=\"weighted\") #\n",
        "    elif metric == \"f1-score\":\n",
        "      score = f1_score(y_test, y_pred, average=\"weighted\") #\n",
        "    result.append(score) # add score to result list\n",
        "  results.append(result) # add result list to results list\n",
        "\n",
        "# Create table with results\n",
        "table = pd.DataFrame(results, index=models, columns=metrics) # create dataframe with results\n",
        "print(table) # print table\n"
      ]
    },
    {
      "cell_type": "code",
      "execution_count": null,
      "metadata": {
        "id": "BIcn3fscuMm2"
      },
      "outputs": [],
      "source": []
    },
    {
      "cell_type": "code",
      "execution_count": null,
      "metadata": {
        "id": "Mfh5hyxc-9_a"
      },
      "outputs": [],
      "source": [
        "\n"
      ]
    },
    {
      "cell_type": "code",
      "execution_count": null,
      "metadata": {
        "id": "AyiBOecERSCG"
      },
      "outputs": [],
      "source": []
    },
    {
      "cell_type": "code",
      "execution_count": null,
      "metadata": {
        "id": "Zh39f0rmCKEy"
      },
      "outputs": [],
      "source": []
    },
    {
      "cell_type": "markdown",
      "metadata": {
        "id": "11keM5O6AEql"
      },
      "source": [
        "#**Linear Support Vector Machine**"
      ]
    },
    {
      "cell_type": "code",
      "execution_count": null,
      "metadata": {
        "id": "sJP5BdwyCKIr"
      },
      "outputs": [],
      "source": [
        "###   Linear Support Vector Machine\n",
        "##   Linear Support Vector Machine is widely regarded as one of the best text classification algorithms.\n",
        "#To make the vectorizer => transformer => classifier easier to work with, we will use Pipeline class in Scilkit-Learn that behaves like a compound classifier."
      ]
    },
    {
      "cell_type": "code",
      "execution_count": null,
      "metadata": {
        "id": "W-XUzuyxCKOs"
      },
      "outputs": [],
      "source": [
        "from sklearn.linear_model import SGDClassifier"
      ]
    },
    {
      "cell_type": "code",
      "execution_count": null,
      "metadata": {
        "id": "8DTHXo7ilyMI"
      },
      "outputs": [],
      "source": [
        "sgd = Pipeline([('vect', CountVectorizer()),\n",
        "                ('tfidf', TfidfTransformer()),\n",
        "                ('clf', SGDClassifier(loss='hinge', penalty='l2',alpha=1e-3, random_state=42, max_iter=5, tol=None)),\n",
        "               ])"
      ]
    },
    {
      "cell_type": "code",
      "execution_count": null,
      "metadata": {
        "id": "LbXKgVVYv4t8"
      },
      "outputs": [],
      "source": [
        "sgd.fit(X_train, y_train)\n",
        "#%%time\n",
        "y_predlsvm = sgd.predict(X_test)\n",
        "print('accuracy %s' % accuracy_score(y_predlsvm, y_test))"
      ]
    },
    {
      "cell_type": "code",
      "execution_count": null,
      "metadata": {
        "id": "0B3LthgjC_0D"
      },
      "outputs": [],
      "source": [
        "print(classification_report(y_test, y_predlsvm))"
      ]
    },
    {
      "cell_type": "code",
      "execution_count": null,
      "metadata": {
        "id": "7SHwxMBJC_3_"
      },
      "outputs": [],
      "source": [
        "cf_matrixsvm = confusion_matrix(y_predlsvm,test_labels)\n",
        "cf_matrixsvm"
      ]
    },
    {
      "cell_type": "code",
      "execution_count": null,
      "metadata": {
        "id": "Q2adaQfsU6Jg"
      },
      "outputs": [],
      "source": [
        "sns.set(font_scale=1.4)#for label size\n",
        "sns.heatmap(cf_matrixsvm, cmap=\"Blues\",  annot=True, annot_kws={\"size\": 12}  , cbar=True, fmt='g' )\n",
        "# Set the axis labels and title\n",
        "plt.xlabel('Predicted Label')\n",
        "plt.ylabel('True Label')\n"
      ]
    },
    {
      "cell_type": "code",
      "execution_count": null,
      "metadata": {
        "id": "0VuJOeZvy_dR"
      },
      "outputs": [],
      "source": [
        "# Define the path where you want to save the file\n",
        "file_path = '/content/drive/My Drive/y_predlsvm.npy'\n",
        "# Save the numpy array to the file\n",
        "np.save(file_path, y_predlsvm )\n",
        "print(f'Saved  predicted_labels to {file_path}')"
      ]
    },
    {
      "cell_type": "code",
      "execution_count": null,
      "metadata": {
        "id": "6picYGUIx53s"
      },
      "outputs": [],
      "source": [
        "# Make predictions on the test set\n",
        "y_predlsvm = sgd.predict(X_test)\n",
        "\n",
        "# Compute the metrics\n",
        "accuracy = accuracy_score(y_test, y_pred)\n",
        "precision, recall, f1, _ = precision_recall_fscore_support(y_test, y_predlsvm, average='weighted')\n",
        "\n",
        "# Print the evaluation metrics\n",
        "print(f'Accuracy: {accuracy}')\n",
        "print(f'Precision: {precision}')\n",
        "print(f'Recall: {recall}')\n",
        "print(f'F1-Score: {f1}')"
      ]
    },
    {
      "cell_type": "code",
      "execution_count": null,
      "metadata": {
        "id": "Qhrv310JU6NG"
      },
      "outputs": [],
      "source": [
        "metrics = [\"accuracy\", \"precision\", \"recall\", \"f1-score\"] # define metrics\n",
        "models = [   \"Linear Support Vector Machine\"  ] # define models\n",
        "results = [] # initialize results list\n",
        "for y_pred in [  y_predlsvm      ]: # iterate over predictions\n",
        "  result = [] # initialize result list for each model\n",
        "  for metric in metrics: # iterate over metrics\n",
        "    if metric == \"accuracy\":\n",
        "      score = accuracy_score(y_test, y_pred) # calculate accuracy\n",
        "    elif metric == \"precision\":\n",
        "      score = precision_score(y_test, y_pred, average=\"weighted\") # calculate macro-averaged precision\n",
        "    elif metric == \"recall\":\n",
        "      score = recall_score(y_test, y_pred, average=\"weighted\") # calculate macro-averaged recall\n",
        "    elif metric == \"f1-score\":\n",
        "      score = f1_score(y_test, y_pred, average=\"weighted\") # calculate macro-averaged F1-score\n",
        "    result.append(score) # add score to result list\n",
        "  results.append(result) # add result list to results list\n",
        "\n",
        "# Create table with results\n",
        "table = pd.DataFrame(results, index=models, columns=metrics) # create dataframe with results\n",
        "print(table) # print table\n"
      ]
    },
    {
      "cell_type": "code",
      "execution_count": null,
      "metadata": {
        "id": "xYpshBrFuEXX"
      },
      "outputs": [],
      "source": []
    },
    {
      "cell_type": "code",
      "execution_count": null,
      "metadata": {
        "id": "BMKerl7cuEbF"
      },
      "outputs": [],
      "source": []
    },
    {
      "cell_type": "code",
      "execution_count": null,
      "metadata": {
        "id": "QW7l5N7wU6QI"
      },
      "outputs": [],
      "source": []
    },
    {
      "cell_type": "markdown",
      "metadata": {
        "id": "8U52ysNZAprT"
      },
      "source": [
        "#**RandomForest**"
      ]
    },
    {
      "cell_type": "code",
      "execution_count": null,
      "metadata": {
        "id": "ERFtEduDxBuL"
      },
      "outputs": [],
      "source": [
        "#To make the vectorizer => transformer => classifier easier to work with, we will use Pipeline class in Scilkit-Learn that behaves like a compound classifier."
      ]
    },
    {
      "cell_type": "code",
      "execution_count": null,
      "metadata": {
        "id": "QT1Xu-MYkur4"
      },
      "outputs": [],
      "source": [
        "RandomForest = Pipeline([('vect', CountVectorizer()),\n",
        "                ('tfidf', TfidfTransformer()),\n",
        "                ('clf', RandomForestClassifier())\n",
        "               ])"
      ]
    },
    {
      "cell_type": "code",
      "execution_count": null,
      "metadata": {
        "id": "1p9fH9ynos6s"
      },
      "outputs": [],
      "source": [
        "RandomForest.fit(X_train, y_train)"
      ]
    },
    {
      "cell_type": "code",
      "execution_count": null,
      "metadata": {
        "id": "TSjL9jjYos-G"
      },
      "outputs": [],
      "source": [
        "y_predrf = RandomForest.predict(X_test)\n",
        "\n",
        "print('accuracy %s' % accuracy_score(y_predrf, y_test))"
      ]
    },
    {
      "cell_type": "code",
      "execution_count": null,
      "metadata": {
        "id": "mzRxRtdkotBn"
      },
      "outputs": [],
      "source": [
        "print(classification_report(y_test, y_predrf))"
      ]
    },
    {
      "cell_type": "code",
      "execution_count": null,
      "metadata": {
        "id": "Eslj4kYwotEs"
      },
      "outputs": [],
      "source": [
        "cf_matrixrf = confusion_matrix(y_predrf,test_labels)\n",
        "cf_matrixrf"
      ]
    },
    {
      "cell_type": "code",
      "execution_count": null,
      "metadata": {
        "id": "PTKj23-axQnf"
      },
      "outputs": [],
      "source": [
        "sns.set(font_scale=1.4)#for label size\n",
        "sns.heatmap(cf_matrixrf, cmap=\"Blues\",  annot=True, annot_kws={\"size\": 12}  , cbar=True, fmt='g' )\n",
        "# Set the axis labels and title\n",
        "plt.xlabel('Predicted Label')\n",
        "plt.ylabel('True Label')"
      ]
    },
    {
      "cell_type": "code",
      "execution_count": null,
      "metadata": {
        "id": "jRxIV-3-zTQY"
      },
      "outputs": [],
      "source": [
        "# Define the path where you want to save the file\n",
        "file_path = '/content/drive/My Drive/y_predrf.npy'\n",
        "# Save the numpy array to the file\n",
        "np.save(file_path, y_predrf )\n",
        "print(f'Saved  predicted_labels to {file_path}')"
      ]
    },
    {
      "cell_type": "code",
      "execution_count": null,
      "metadata": {
        "id": "r2pXWPRKzLQB"
      },
      "outputs": [],
      "source": [
        "# Make predictions on the test set\n",
        "y_predrf = RandomForest.predict(X_test)\n",
        "\n",
        "# Compute the metrics\n",
        "accuracy = accuracy_score(y_test, y_pred)\n",
        "precision, recall, f1, _ = precision_recall_fscore_support(y_test, y_predrf , average='weighted')\n",
        "\n",
        "# Print the evaluation metrics\n",
        "print(f'Accuracy: {accuracy}')\n",
        "print(f'Precision: {precision}')\n",
        "print(f'Recall: {recall}')\n",
        "print(f'F1-Score: {f1}')"
      ]
    },
    {
      "cell_type": "code",
      "execution_count": null,
      "metadata": {
        "id": "Ff799eKS8cNH"
      },
      "outputs": [],
      "source": [
        "metrics = [\"accuracy\", \"precision\", \"recall\", \"f1-score\"] # define metrics\n",
        "models = [   \"Randon Forest \"  ] # define models\n",
        "results = [] # initialize results list\n",
        "for y_pred in [  y_predrf      ]: # iterate over predictions\n",
        "  result = [] # initialize result list for each model\n",
        "  for metric in metrics: # iterate over metrics\n",
        "    if metric == \"accuracy\":\n",
        "      score = accuracy_score(y_test, y_pred) # calculate accuracy\n",
        "    elif metric == \"precision\":\n",
        "      score = precision_score(y_test, y_pred, average=\"weighted\") #\n",
        "    elif metric == \"recall\":\n",
        "      score = recall_score(y_test, y_pred, average=\"weighted\") #\n",
        "    elif metric == \"f1-score\":\n",
        "      score = f1_score(y_test, y_pred, average=\"weighted\") #\n",
        "    result.append(score) # add score to result list\n",
        "  results.append(result) # add result list to results list\n",
        "\n",
        "# Create table with results\n",
        "table = pd.DataFrame(results, index=models, columns=metrics) # create dataframe with results\n",
        "print(table) # print table\n"
      ]
    },
    {
      "cell_type": "code",
      "execution_count": null,
      "metadata": {
        "id": "1do7vCekt6Fh"
      },
      "outputs": [],
      "source": []
    },
    {
      "cell_type": "code",
      "execution_count": null,
      "metadata": {
        "id": "_-a7kcjmt6I8"
      },
      "outputs": [],
      "source": [
        "\n",
        "\n"
      ]
    },
    {
      "cell_type": "code",
      "execution_count": null,
      "metadata": {
        "id": "2z_PyBAXu9RF"
      },
      "outputs": [],
      "source": []
    },
    {
      "cell_type": "markdown",
      "metadata": {
        "id": "rOmeC_D5vA7j"
      },
      "source": [
        "#**Decision Tree**"
      ]
    },
    {
      "cell_type": "code",
      "execution_count": null,
      "metadata": {
        "id": "1EGcJL0Ou9Tm"
      },
      "outputs": [],
      "source": [
        "# training a DescisionTreeClassifier\n",
        "from sklearn.tree import DecisionTreeClassifier"
      ]
    },
    {
      "cell_type": "code",
      "execution_count": null,
      "metadata": {
        "id": "HixG-zWru9WW"
      },
      "outputs": [],
      "source": [
        "dtree_model = Pipeline([('vect', CountVectorizer()),\n",
        "               ('tfidf', TfidfTransformer()),\n",
        "               ('clf',  DecisionTreeClassifier()),\n",
        "              ])"
      ]
    },
    {
      "cell_type": "code",
      "execution_count": null,
      "metadata": {
        "id": "bJDT2q9Vu9Ze"
      },
      "outputs": [],
      "source": [
        "dtree_model.fit(X_train, y_train)"
      ]
    },
    {
      "cell_type": "code",
      "execution_count": null,
      "metadata": {
        "id": "9YgNZqunu9cg"
      },
      "outputs": [],
      "source": [
        "y_preddt = dtree_model.predict(X_test)\n",
        "\n",
        "print('accuracy %s' % accuracy_score(y_preddt, y_test))"
      ]
    },
    {
      "cell_type": "code",
      "execution_count": null,
      "metadata": {
        "id": "9wRlCqXau9gE"
      },
      "outputs": [],
      "source": [
        "print(classification_report(y_test, y_preddt))"
      ]
    },
    {
      "cell_type": "code",
      "execution_count": null,
      "metadata": {
        "id": "oMP2Wb1ev45R"
      },
      "outputs": [],
      "source": [
        "dtcf_matrix = confusion_matrix(y_preddt,test_labels)\n",
        "dtcf_matrix"
      ]
    },
    {
      "cell_type": "code",
      "execution_count": null,
      "metadata": {
        "id": "qkCHBq5M0u6Z"
      },
      "outputs": [],
      "source": [
        "sns.set(font_scale=1.4)#for label size\n",
        "sns.heatmap(dtcf_matrix, cmap=\"Blues\",  annot=True, annot_kws={\"size\": 12}  , cbar=True, fmt='g' )\n",
        "# Set the axis labels and title\n",
        "plt.xlabel('Predicted Label')\n",
        "plt.ylabel('True Label')"
      ]
    },
    {
      "cell_type": "code",
      "execution_count": null,
      "metadata": {
        "id": "EQhYq21h0u6Z"
      },
      "outputs": [],
      "source": []
    },
    {
      "cell_type": "code",
      "execution_count": null,
      "metadata": {
        "id": "yEdrcsw30RRB"
      },
      "outputs": [],
      "source": [
        "# Make predictions on the test set\n",
        "y_preddt = dtree_model.predict(X_test)\n",
        "\n",
        "# Compute the metrics\n",
        "accuracy = accuracy_score(y_test, y_pred)\n",
        "precision, recall, f1, _ = precision_recall_fscore_support(y_test,y_preddt , average='weighted')\n",
        "\n",
        "# Print the evaluation metrics\n",
        "print(f'Accuracy: {accuracy}')\n",
        "print(f'Precision: {precision}')\n",
        "print(f'Recall: {recall}')\n",
        "print(f'F1-Score: {f1}')"
      ]
    },
    {
      "cell_type": "code",
      "execution_count": null,
      "metadata": {
        "id": "ItPN6zqR0RYa"
      },
      "outputs": [],
      "source": [
        "metrics = [\"accuracy\", \"precision\", \"recall\", \"f1-score\"] # define metrics\n",
        "models = [   \" Decision Tree\"  ] # define models\n",
        "results = [] # initialize results list\n",
        "for y_pred in [  y_preddt     ]: # iterate over predictions\n",
        "  result = [] # initialize result list for each model\n",
        "  for metric in metrics: # iterate over metrics\n",
        "    if metric == \"accuracy\":\n",
        "      score = accuracy_score(y_test, y_pred) # calculate accuracy\n",
        "    elif metric == \"precision\":\n",
        "      score = precision_score(y_test, y_pred, average=\"weighted\") #\n",
        "    elif metric == \"recall\":\n",
        "      score = recall_score(y_test, y_pred, average=\"weighted\") #\n",
        "    elif metric == \"f1-score\":\n",
        "      score = f1_score(y_test, y_pred, average=\"weighted\") #\n",
        "    result.append(score) # add score to result list\n",
        "  results.append(result) # add result list to results list\n",
        "\n",
        "# Create table with results\n",
        "table = pd.DataFrame(results, index=models, columns=metrics) # create dataframe with results\n",
        "print(table) # print table\n"
      ]
    },
    {
      "cell_type": "code",
      "execution_count": null,
      "metadata": {
        "id": "waM9pZSe0RgW"
      },
      "outputs": [],
      "source": []
    },
    {
      "cell_type": "code",
      "execution_count": null,
      "metadata": {
        "id": "XnqKEelchEjh"
      },
      "outputs": [],
      "source": []
    },
    {
      "cell_type": "code",
      "execution_count": null,
      "metadata": {
        "id": "Sd8Ng3pv0JGM"
      },
      "outputs": [],
      "source": []
    },
    {
      "cell_type": "code",
      "execution_count": null,
      "metadata": {
        "id": "iQEeyvJU0JNl"
      },
      "outputs": [],
      "source": []
    },
    {
      "cell_type": "markdown",
      "metadata": {
        "id": "CQ10u8Ql0KOI"
      },
      "source": [
        "#**KNN**"
      ]
    },
    {
      "cell_type": "code",
      "execution_count": null,
      "metadata": {
        "id": "opeZvELJ0JUi"
      },
      "outputs": [],
      "source": []
    },
    {
      "cell_type": "code",
      "execution_count": null,
      "metadata": {
        "id": "mGWyvQhEhEm0"
      },
      "outputs": [],
      "source": [
        "# training a KNN classifier\n",
        "from sklearn.neighbors import KNeighborsClassifier\n"
      ]
    },
    {
      "cell_type": "code",
      "execution_count": null,
      "metadata": {
        "id": "_dFEEbtvhywD"
      },
      "outputs": [],
      "source": [
        "knn = Pipeline([('vect', CountVectorizer()),\n",
        "               ('tfidf', TfidfTransformer()),\n",
        "               ('clf',  KNeighborsClassifier(n_neighbors = 7)),\n",
        "              ])"
      ]
    },
    {
      "cell_type": "code",
      "execution_count": null,
      "metadata": {
        "id": "JrEN9LQLiK__"
      },
      "outputs": [],
      "source": [
        "knn.fit(X_train, y_train)"
      ]
    },
    {
      "cell_type": "code",
      "execution_count": null,
      "metadata": {
        "id": "3WLLnKyWhErF"
      },
      "outputs": [],
      "source": [
        "# accuracy on X_test\n",
        "accuracy = knn.score(X_test, y_test)\n"
      ]
    },
    {
      "cell_type": "code",
      "execution_count": null,
      "metadata": {
        "id": "rirq-nYgjB7U"
      },
      "outputs": [],
      "source": [
        "y_predknn = knn.predict(X_test)\n",
        "\n",
        "print('accuracy %s' % accuracy_score(y_predknn, y_test))"
      ]
    },
    {
      "cell_type": "code",
      "execution_count": null,
      "metadata": {
        "id": "9ZnouxrEhEzJ"
      },
      "outputs": [],
      "source": [
        "# creating a confusion matrix\n",
        "knn_predictions = knn.predict(X_test)\n"
      ]
    },
    {
      "cell_type": "code",
      "execution_count": null,
      "metadata": {
        "id": "4neDjEe1mBLW"
      },
      "outputs": [],
      "source": [
        "cmknn = confusion_matrix(y_test, knn_predictions)"
      ]
    },
    {
      "cell_type": "code",
      "execution_count": null,
      "metadata": {
        "id": "8_Etwu_hhE3d"
      },
      "outputs": [],
      "source": [
        "print(classification_report(y_test, knn_predictions))"
      ]
    },
    {
      "cell_type": "code",
      "execution_count": null,
      "metadata": {
        "id": "Yezi-rHIhE6E"
      },
      "outputs": [],
      "source": [
        "cmknn"
      ]
    },
    {
      "cell_type": "code",
      "execution_count": null,
      "metadata": {
        "id": "N2avwi9DhFAV"
      },
      "outputs": [],
      "source": [
        "knncf_matrix = confusion_matrix(y_predknn,test_labels)\n",
        "knncf_matrix"
      ]
    },
    {
      "cell_type": "code",
      "execution_count": null,
      "metadata": {
        "id": "aimUc-3z0u6c"
      },
      "outputs": [],
      "source": [
        "sns.set(font_scale=1.4)#for label size\n",
        "sns.heatmap(knncf_matrix, cmap=\"Blues\",  annot=True, annot_kws={\"size\": 12}  , cbar=True, fmt='g' )\n",
        "# Set the axis labels and title\n",
        "plt.xlabel('Predicted Label')\n",
        "plt.ylabel('True Label')"
      ]
    },
    {
      "cell_type": "code",
      "execution_count": null,
      "metadata": {
        "id": "OfVJz1v2zbvR"
      },
      "outputs": [],
      "source": [
        "# Define the path where you want to save the file\n",
        "file_path = '/content/drive/My Drive/y_preddt.npy'\n",
        "# Save the numpy array to the file\n",
        "np.save(file_path, y_preddt )\n",
        "print(f'Saved  predicted_labels to {file_path}')"
      ]
    },
    {
      "cell_type": "code",
      "execution_count": null,
      "metadata": {
        "id": "zHEdywIR0BaC"
      },
      "outputs": [],
      "source": [
        "\n",
        "# Compute the metrics\n",
        "accuracy = accuracy_score(y_test, y_pred)\n",
        "precision, recall, f1, _ = precision_recall_fscore_support(y_test, knn_predictions , average='weighted')\n",
        "\n",
        "# Print the evaluation metrics\n",
        "print(f'Accuracy: {accuracy}')\n",
        "print(f'Precision: {precision}')\n",
        "print(f'Recall: {recall}')\n",
        "print(f'F1-Score: {f1}')"
      ]
    },
    {
      "cell_type": "code",
      "execution_count": null,
      "metadata": {
        "id": "SNOKz8Hh0u6c"
      },
      "outputs": [],
      "source": [
        "metrics = [\"accuracy\", \"precision\", \"recall\", \"f1-score\"] # define metrics\n",
        "models = [   \"K-Nearest Neighbor \"  ] # define models\n",
        "results = [] # initialize results list\n",
        "for y_pred in [  knn_predictions       ]: # iterate over predictions\n",
        "  result = [] # initialize result list for each model\n",
        "  for metric in metrics: # iterate over metrics\n",
        "    if metric == \"accuracy\":\n",
        "      score = accuracy_score(y_test, y_pred) # calculate accuracy\n",
        "    elif metric == \"precision\":\n",
        "      score = precision_score(y_test, y_pred, average=\"weighted\") #\n",
        "    elif metric == \"recall\":\n",
        "      score = recall_score(y_test, y_pred, average=\"weighted\") #\n",
        "    elif metric == \"f1-score\":\n",
        "      score = f1_score(y_test, y_pred, average=\"weighted\") #\n",
        "    result.append(score) # add score to result list\n",
        "  results.append(result) # add result list to results list\n",
        "\n",
        "# Create table with results\n",
        "table = pd.DataFrame(results, index=models, columns=metrics) # create dataframe with results\n",
        "print(table) # print table\n"
      ]
    },
    {
      "cell_type": "code",
      "execution_count": null,
      "metadata": {
        "id": "c10ab5ostqop"
      },
      "outputs": [],
      "source": []
    },
    {
      "cell_type": "code",
      "execution_count": null,
      "metadata": {
        "id": "vDB2xEZytqsG"
      },
      "outputs": [],
      "source": []
    },
    {
      "cell_type": "code",
      "execution_count": null,
      "metadata": {
        "id": "QjD25ttVtqvL"
      },
      "outputs": [],
      "source": []
    },
    {
      "cell_type": "code",
      "execution_count": null,
      "metadata": {
        "id": "BHOzWlylWHYZ"
      },
      "outputs": [],
      "source": []
    },
    {
      "cell_type": "code",
      "execution_count": null,
      "metadata": {
        "id": "cBfPz2AZWHcC"
      },
      "outputs": [],
      "source": []
    },
    {
      "cell_type": "code",
      "execution_count": null,
      "metadata": {
        "id": "WqRZjuS9WHf-"
      },
      "outputs": [],
      "source": []
    },
    {
      "cell_type": "markdown",
      "metadata": {
        "id": "v5vg16i0rBG6"
      },
      "source": [
        "#**Vanilla BERT**"
      ]
    },
    {
      "cell_type": "code",
      "execution_count": null,
      "metadata": {
        "id": "dvgXbiQBWHjp"
      },
      "outputs": [],
      "source": [
        "import torch\n",
        "import numpy as np\n",
        "import pandas as pd\n",
        "import matplotlib.pyplot as plt\n",
        "import seaborn as sns\n",
        "import re\n",
        "import string\n",
        "import nltk\n",
        "import warnings\n",
        "import tensorflow as tf\n",
        "import keras\n",
        "from keras import layers\n",
        "from keras.preprocessing.text import Tokenizer\n",
        "from keras.models import Sequential\n",
        "from keras.layers import Dense, Embedding, LSTM, Bidirectional\n",
        "#from nltk.stem import WordNetLemmatizer, PorterStemmer\n",
        "#from nltk.corpus import stopwords\n",
        "#from nltk.tokenize import word_tokenize\n",
        "#from langdetect import detect, LangDetectException\n",
        "#import contractions\n",
        "from sklearn.metrics import accuracy_score, precision_score, recall_score, f1_score, confusion_matrix, classification_report, roc_curve, roc_auc_score, precision_recall_fscore_support\n",
        "from sklearn.model_selection import train_test_split, GridSearchCV, cross_val_score\n",
        "from sklearn.datasets import make_classification, load_digits\n",
        "from sklearn.svm import SVC\n",
        "from sklearn.ensemble import RandomForestClassifier, StackingClassifier\n",
        "from sklearn.tree import DecisionTreeClassifier\n",
        "from sklearn.linear_model import LogisticRegression\n",
        "from sklearn.naive_bayes import MultinomialNB\n",
        "from sklearn.pipeline import Pipeline, make_pipeline\n",
        "from sklearn.feature_extraction.text import CountVectorizer, TfidfTransformer\n",
        "from sklearn.preprocessing import LabelEncoder\n",
        "from sklearn.utils import class_weight\n",
        "from transformers import (BertTokenizer, BertForSequenceClassification, DistilBertTokenizer, DistilBertForSequenceClassification,\n",
        "                          RobertaTokenizer, RobertaForSequenceClassification, AutoTokenizer, AutoModelForSequenceClassification,\n",
        "                          TrainingArguments, Trainer, DataCollatorWithPadding, EarlyStoppingCallback, AdamW, get_linear_schedule_with_warmup)\n",
        "from torch.utils.data import Dataset, DataLoader\n",
        "from torch import nn\n",
        "from scipy.stats import mode\n",
        "import lightgbm as lgb\n",
        "from google.colab import drive\n",
        "from transformers import logging\n",
        "\n",
        "logging.set_verbosity_error()\n",
        "\n",
        "# Set style for plots\n",
        "sns.set_style(\"whitegrid\")\n",
        "sns.despine()\n",
        "plt.rc(\"figure\", autolayout=True)\n",
        "plt.rc(\"axes\", labelweight=\"bold\", labelsize=\"large\", titleweight=\"bold\", titlepad=10)\n",
        "\n",
        "# Define stop words for text cleaning\n",
        "stop_words = set(stopwords.words('english'))\n",
        "# Initialize lemmatizer for text cleaning\n",
        "lemmatizer = WordNetLemmatizer()\n",
        "\n",
        "warnings.filterwarnings('ignore')\n",
        "%matplotlib inline\n",
        "\n",
        "from google.colab import drive\n",
        "import torch\n",
        "from transformers import AutoModelForSequenceClassification\n",
        "from sklearn.metrics import accuracy_score, precision_recall_fscore_support\n",
        "from sklearn.preprocessing import LabelEncoder\n",
        "from keras.preprocessing.text import Tokenizer\n",
        "from keras.preprocessing.sequence import pad_sequences\n",
        "from sklearn.model_selection import train_test_split\n",
        "import pandas as pd\n",
        "from transformers import AutoTokenizer, AutoModelForSequenceClassification\n",
        "import torch\n",
        "from torch.utils.data import Dataset  # Import the Dataset class"
      ]
    },
    {
      "cell_type": "code",
      "execution_count": null,
      "metadata": {
        "id": "LsAxEZ8rWHpD"
      },
      "outputs": [],
      "source": [
        "pip install gdown\n"
      ]
    },
    {
      "cell_type": "code",
      "execution_count": null,
      "metadata": {
        "id": "qc_N50mjWH-f"
      },
      "outputs": [],
      "source": [
        "from google.colab import drive\n",
        "drive.mount('/content/drive')\n"
      ]
    },
    {
      "cell_type": "code",
      "execution_count": null,
      "metadata": {
        "id": "qj-Lhl6aWIHJ"
      },
      "outputs": [],
      "source": [
        "import joblib\n",
        "\n",
        "# Load the datasets from Google Drive\n",
        "X_train = joblib.load('/content/drive/My Drive/X_train.pkl')\n",
        "X_test = joblib.load('/content/drive/My Drive/X_test.pkl')\n",
        "y_train = joblib.load('/content/drive/My Drive/y_train.pkl')\n",
        "y_test = joblib.load('/content/drive/My Drive/y_test.pkl')\n",
        "X_val = joblib.load('/content/drive/My Drive/X_val.pkl')\n",
        "y_val = joblib.load('/content/drive/My Drive/y_val.pkl')\n",
        "# Define paths\n",
        "model_save_path = '/content/drive/My Drive/model.pth'\n",
        "variables_save_path = '/content/drive/My Drive/model_variables.pth'\n"
      ]
    },
    {
      "cell_type": "code",
      "execution_count": null,
      "metadata": {
        "id": "OtAb2gUuWILH"
      },
      "outputs": [],
      "source": [
        "X_train"
      ]
    },
    {
      "cell_type": "code",
      "execution_count": null,
      "metadata": {
        "id": "ALc7YcqkWIOG"
      },
      "outputs": [],
      "source": [
        "train_texts   =   list(X_train)\n",
        "train_labels  =   list(y_train)\n",
        "test_texts    =   list(X_test)\n",
        "test_labels   =   list(y_test)\n",
        "val_texts     =   list(X_val)\n",
        "val_labels    =   list(y_val)"
      ]
    },
    {
      "cell_type": "code",
      "execution_count": null,
      "metadata": {
        "id": "77dwze3vrZgY"
      },
      "outputs": [],
      "source": [
        "variables_save_path"
      ]
    },
    {
      "cell_type": "code",
      "execution_count": null,
      "metadata": {
        "id": "Y3Jo51dBrZje"
      },
      "outputs": [],
      "source": [
        "\n",
        "import numpy as np  # Import NumPy library import numpy as np  # Import NumPy library\n",
        "import torch # Import PyTorch\n",
        "# Define paths\n",
        "model_save_path = '/content/drive/My Drive/model.pth'\n",
        "variables_save_path = '/content/drive/My Drive/model_variables.pth'\n",
        "# Save class weights to a file in Google Drive\n",
        "weights_path = '/content/drive/My Drive/class_weights.npy'\n",
        "\n",
        "\n",
        "# Load variables\n",
        "loaded_variables = torch.load(variables_save_path)\n",
        "NUM_LABELS = loaded_variables['num_labels']\n",
        "id2label = loaded_variables['id2label']\n",
        "label2id = loaded_variables['label2id']\n",
        "\n",
        "# Load the model\n",
        "model = AutoModelForSequenceClassification.from_pretrained('bert-base-uncased', num_labels=NUM_LABELS, id2label=id2label, label2id=label2id)\n",
        "device = torch.device('cuda' if torch.cuda.is_available() else 'cpu')\n",
        "model.load_state_dict(torch.load(model_save_path))\n",
        "model.to(device)"
      ]
    },
    {
      "cell_type": "code",
      "execution_count": null,
      "metadata": {
        "id": "Ngp1qt0lUWx_"
      },
      "outputs": [],
      "source": [
        "NUM_LABELS"
      ]
    },
    {
      "cell_type": "code",
      "execution_count": null,
      "metadata": {
        "id": "3iqVvEqIUW1c"
      },
      "outputs": [],
      "source": []
    },
    {
      "cell_type": "code",
      "execution_count": null,
      "metadata": {
        "id": "-n3GPckVrZm5"
      },
      "outputs": [],
      "source": [
        "# Load class weights from the file in Google Drive\n",
        "loaded_class_weights = np.load(weights_path)\n",
        "print(\"Loaded Class Weights:\", loaded_class_weights)\n",
        "\n",
        "# Convert to tensor and move to device\n",
        "weights = torch.tensor(loaded_class_weights, dtype=torch.float).to(device)\n",
        "print(\"Weights tensor:\", weights)\n",
        "\n",
        "tokenizer =  AutoTokenizer.from_pretrained('bert-base-uncased', max_length=1024)\n",
        "weights = torch.tensor(weights, dtype=torch.float).to(device)\n",
        "\n",
        "train_encodings = tokenizer(train_texts, truncation=True, padding=True)\n",
        "val_encodings  = tokenizer(val_texts, truncation=True, padding=True)\n",
        "test_encodings = tokenizer(test_texts, truncation=True, padding=True)\n",
        "\n",
        "\n",
        "class DataLoader(Dataset):\n",
        "\n",
        "    def __init__(self, encodings, labels):\n",
        "        \"\"\"\n",
        "        Initializes the DataLoader class with encodings and labels.\n",
        "\n",
        "        Args:\n",
        "            encodings (dict): A dictionary containing tokenized input text data\n",
        "                              (e.g., 'input_ids', 'token_type_ids', 'attention_mask').\n",
        "            labels (list): A list of integer labels for the input text data.\n",
        "        \"\"\"\n",
        "        self.encodings = encodings\n",
        "        self.labels = labels\n",
        "\n",
        "    def __getitem__(self, idx):\n",
        "        \"\"\"\n",
        "        Returns a dictionary containing tokenized data and the corresponding label for a given index.\n",
        "\n",
        "        Args:\n",
        "            idx (int): The index of the data item to retrieve.\n",
        "\n",
        "        Returns:\n",
        "            item (dict): A dictionary containing the tokenized data and the corresponding label.\n",
        "        \"\"\"\n",
        "        # Retrieve tokenized data for the given index\n",
        "        item = {key: torch.tensor(val[idx]) for key, val in self.encodings.items()}\n",
        "        # Add the label for the given index to the item dictionary\n",
        "        item['labels'] = torch.tensor(self.labels[idx])\n",
        "        return item\n",
        "\n",
        "    def __len__(self):\n",
        "        \"\"\"\n",
        "        Returns the number of data items in the dataset.\n",
        "\n",
        "        Returns:\n",
        "            (int): The number of data items in the dataset.\n",
        "        \"\"\"\n",
        "        return len(self.labels)\n",
        "\n",
        "train_dataloader  =    DataLoader(train_encodings, train_labels)\n",
        "val_dataloader    =    DataLoader(val_encodings, val_labels)\n",
        "test_dataset      =    DataLoader(test_encodings, test_labels)\n",
        "\n",
        "\n",
        "from transformers import Trainer\n",
        "class WeightedLossTrainer(Trainer):\n",
        "  def compute_loss(self, model, inputs, return_outputs=False):\n",
        "    outputs = model(**inputs)\n",
        "    logits = outputs.get(\"logits\")\n",
        "    labels = inputs.get(\"labels\")\n",
        "    ###loss_func = nn.CrossEntropyLoss(weight=class_weights)\n",
        "    loss_func = nn.CrossEntropyLoss(weight=weights )\n",
        "    loss = loss_func(logits, labels)\n",
        "    return (loss, outputs) if return_outputs else loss\n",
        "\n",
        "def compute_metrics(pred):\n",
        "    # Extract true labels from the input object\n",
        "    labels = pred.label_ids\n",
        "    # Obtain predicted class labels by finding the column index with the maximum probability\n",
        "    preds = pred.predictions.argmax(-1)\n",
        "    # Compute macro precision, recall, and F1 score using sklearn's precision_recall_fscore_support function\n",
        "    #  precision, recall, f1, _ = precision_recall_fscore_support(labels, preds, average='macro')\n",
        "    precision, recall, f1, _ = precision_recall_fscore_support(labels, preds, average='weighted')\n",
        "    # Calculate the accuracy score using sklearn's accuracy_score function\n",
        "    acc = accuracy_score(labels, preds)\n",
        "    # Return the computed metrics as a dictionary\n",
        "    return {\n",
        "        'accuracy': acc,\n",
        "        'f1-score': f1,\n",
        "        'precision': precision,\n",
        "        'recall': recall\n",
        "    }\n",
        "\n",
        "\n",
        "training_args = TrainingArguments(\n",
        "    # The output directory where the model predictions and checkpoints will be written\n",
        "    #    output_dir='./TTC4900Model',\n",
        "    output_dir='./multi-class-logs' ,\n",
        "    do_train=True,\n",
        "    do_eval=True,\n",
        "    #  The number of epochs, defaults to 3.0\n",
        "    num_train_epochs= 7,\n",
        "    learning_rate=5e-5,\n",
        "#    bf16=True,             # bfloat16 training\n",
        "\t  torch_compile=True,    # optimizations    per_device_train_batch_size=8,   #Was 16\n",
        "    per_device_eval_batch_size=16,    ### Was 32\n",
        "    # Number of steps used for a linear warmup\n",
        "    warmup_steps=200, # was 100\n",
        "    weight_decay=0.01,\n",
        "    logging_strategy='steps',\n",
        "   # TensorBoard log directory\n",
        "    logging_dir='./multi-class-logs',\n",
        "    logging_steps=500,   ##   was 50\n",
        "    evaluation_strategy=\"steps\",\n",
        "    eval_steps=500,      ## was 50\n",
        "    save_strategy=\"steps\",\n",
        "    fp16=True,\n",
        "    load_best_model_at_end=True ,\n",
        "    optim=\"adamw_torch_fused\"  # improved optimizer\n",
        "\n",
        ")\n",
        "\n",
        "\n",
        "trainer = WeightedLossTrainer(\n",
        "    # the pre-trained model that will be fine-tuned\n",
        "    model=model,\n",
        "    # training arguments that we defined above\n",
        "    args=training_args,\n",
        "    train_dataset=train_dataloader,\n",
        "    eval_dataset=val_dataloader,\n",
        "    compute_metrics= compute_metrics\n",
        ")\n",
        "\n"
      ]
    },
    {
      "cell_type": "code",
      "execution_count": null,
      "metadata": {
        "id": "zh3LW1WcrZpz"
      },
      "outputs": [],
      "source": [
        "trainer.train()"
      ]
    },
    {
      "cell_type": "code",
      "execution_count": null,
      "metadata": {
        "id": "PI3SF41yrZtO"
      },
      "outputs": [],
      "source": [
        "qbrt =[trainer.evaluate(eval_dataset=df) for df in [train_dataloader, val_dataloader, test_dataset]]\n",
        "pd.DataFrame(qbrt, index=[\"train\",\"val\",\"test\"]).iloc[:,:5]"
      ]
    },
    {
      "cell_type": "code",
      "execution_count": null,
      "metadata": {
        "id": "UgoLvbvirZwi"
      },
      "outputs": [],
      "source": [
        " # Evaluate the model\n",
        "resultsbrt= trainer.evaluate()"
      ]
    },
    {
      "cell_type": "code",
      "execution_count": null,
      "metadata": {
        "id": "fXHd7w1-ofow"
      },
      "outputs": [],
      "source": [
        " # Evaluate the model\n",
        "resultsbrt= trainer.evaluate()"
      ]
    },
    {
      "cell_type": "code",
      "execution_count": null,
      "metadata": {
        "id": "AdbYG3IOrZzs"
      },
      "outputs": [],
      "source": [
        "val_predictionsbrt = trainer.predict(val_dataloader)\n",
        "val_predicted_labelsbrt = val_predictionsbrt.predictions.argmax(axis=1)"
      ]
    },
    {
      "cell_type": "code",
      "execution_count": null,
      "metadata": {
        "id": "bhFlhhhMoj8S"
      },
      "outputs": [],
      "source": [
        "val_predictionsbrt = trainer.predict(val_dataloader)\n",
        "val_predicted_labelsbrt = val_predictionsbrt.predictions.argmax(axis=1)"
      ]
    },
    {
      "cell_type": "code",
      "execution_count": null,
      "metadata": {
        "id": "gB2emN56rZ2p"
      },
      "outputs": [],
      "source": [
        "print(classification_report(val_labels, val_predicted_labelsbrt))"
      ]
    },
    {
      "cell_type": "code",
      "execution_count": null,
      "metadata": {
        "id": "h3axEL9Ui-KF"
      },
      "outputs": [],
      "source": [
        "print(classification_report(val_labels, val_predicted_labelsbrt))"
      ]
    },
    {
      "cell_type": "code",
      "execution_count": null,
      "metadata": {
        "id": "Ni_Pc6vGrZ52"
      },
      "outputs": [],
      "source": [
        "test_predictionsbrt = trainer.predict(test_dataset)\n",
        "test_predicted_labelsbrt = test_predictionsbrt.predictions.argmax(axis=1)"
      ]
    },
    {
      "cell_type": "code",
      "execution_count": null,
      "metadata": {
        "id": "48012ddljBtn"
      },
      "outputs": [],
      "source": [
        "test_predictionsbrt = trainer.predict(test_dataset)\n",
        "test_predicted_labelsbrt = test_predictionsbrt.predictions.argmax(axis=1)"
      ]
    },
    {
      "cell_type": "code",
      "execution_count": null,
      "metadata": {
        "id": "PfCXo7BYrZ8g"
      },
      "outputs": [],
      "source": [
        "print(classification_report(test_labels, test_predicted_labelsbrt))"
      ]
    },
    {
      "cell_type": "code",
      "execution_count": null,
      "metadata": {
        "id": "xBP-V88KrZ_w"
      },
      "outputs": [],
      "source": [
        "cf_matrixbrtbrt = confusion_matrix(test_predicted_labelsbrt,test_labels)\n",
        "cf_matrixbrtbrt"
      ]
    },
    {
      "cell_type": "code",
      "execution_count": null,
      "metadata": {
        "id": "EchjzROYjFrS"
      },
      "outputs": [],
      "source": [
        "cf_matrixbrtbrt = confusion_matrix(test_predicted_labelsbrt,test_labels)\n",
        "cf_matrixbrtbrt"
      ]
    },
    {
      "cell_type": "code",
      "execution_count": null,
      "metadata": {
        "id": "Dyv-MUwGszTL"
      },
      "outputs": [],
      "source": [
        "sns.set(font_scale=1.4)#for label size\n",
        "sns.heatmap(cf_matrixbrtbrt, cmap=\"Blues\",  annot=True, annot_kws={\"size\": 12}  , cbar=True, fmt='g' )\n",
        "# Set the axis labels and title\n",
        "plt.xlabel('Predicted Label')\n",
        "plt.ylabel('True Label')\n"
      ]
    },
    {
      "cell_type": "code",
      "execution_count": null,
      "metadata": {
        "id": "BZL995EIjN5T"
      },
      "outputs": [],
      "source": [
        "sns.set(font_scale=1.4)#for label size\n",
        "sns.heatmap(cf_matrixbrtbrt, cmap=\"Blues\",  annot=True, annot_kws={\"size\": 12}  , cbar=True, fmt='g' )\n",
        "# Set the axis labels and title\n",
        "plt.xlabel('Predicted Label')\n",
        "plt.ylabel('True Label')\n"
      ]
    },
    {
      "cell_type": "code",
      "execution_count": null,
      "metadata": {
        "id": "_ZWffKwKszWp"
      },
      "outputs": [],
      "source": [
        "# Predictions\n",
        "y_test_predictbrt = trainer.predict(test_dataset)\n",
        "# Take a look at the predictions\n",
        "y_test_predictbrt"
      ]
    },
    {
      "cell_type": "code",
      "execution_count": null,
      "metadata": {
        "id": "uD3HC6ipszZv"
      },
      "outputs": [],
      "source": [
        "# Predicted logits\n",
        "y_test_logitsbrt  = y_test_predictbrt.predictions\n",
        "# First 5 predicted probabilities\n",
        "y_test_logitsbrt[:5]"
      ]
    },
    {
      "cell_type": "code",
      "execution_count": null,
      "metadata": {
        "id": "EqipvOswoqVF"
      },
      "outputs": [],
      "source": [
        "# Predicted logits\n",
        "y_test_logitsbrt  = y_test_predictbrt.predictions\n",
        "# First 5 predicted probabilities\n",
        "y_test_logitsbrt[:5]"
      ]
    },
    {
      "cell_type": "code",
      "execution_count": null,
      "metadata": {
        "id": "-RcC0opjs73h"
      },
      "outputs": [],
      "source": []
    },
    {
      "cell_type": "code",
      "execution_count": null,
      "metadata": {
        "id": "QOhNIdOKs76r"
      },
      "outputs": [],
      "source": [
        "# Predicted probabilities\n",
        "y_test_probabilitiesbrt = tf.nn.softmax(y_test_logitsbrt)\n",
        "# First 5 predicted logits\n",
        "#y_test_probabilities[:5]"
      ]
    },
    {
      "cell_type": "code",
      "execution_count": null,
      "metadata": {
        "id": "KzFUroYSjYWs"
      },
      "outputs": [],
      "source": [
        "# Predicted probabilities\n",
        "y_test_probabilitiesbrt = tf.nn.softmax(y_test_logitsbrt)\n",
        "# First 5 predicted logits\n",
        "#y_test_probabilities[:5]"
      ]
    },
    {
      "cell_type": "code",
      "execution_count": null,
      "metadata": {
        "id": "5OxilLvpzopi"
      },
      "outputs": [],
      "source": [
        "# Define the path where you want to save the file\n",
        "file_path = '/content/drive/My Drive/test_predicted_labelsbrt.npy'\n",
        "# Save the numpy array to the file\n",
        "np.save(file_path, test_predicted_labelsbrt)\n",
        "print(f'Saved  predicted_labels to {file_path}')"
      ]
    },
    {
      "cell_type": "code",
      "execution_count": null,
      "metadata": {
        "id": "kiAZsC-XzoyP"
      },
      "outputs": [],
      "source": []
    },
    {
      "cell_type": "code",
      "execution_count": null,
      "metadata": {
        "id": "zSijY4rlszcp"
      },
      "outputs": [],
      "source": [
        "metrics = [\"accuracy\", \"precision\", \"recall\", \"f1-score\"] # define metrics\n",
        "models = [   \"BERT\"  ] # define models\n",
        "results = [] # initialize results list\n",
        "for y_pred in [  test_predicted_labelsbrt      ]: # iterate over predictions\n",
        "  result = [] # initialize result list for each model\n",
        "  for metric in metrics: # iterate over metrics\n",
        "    if metric == \"accuracy\":\n",
        "      score = accuracy_score(y_test, y_pred) # calculate accuracy\n",
        "    elif metric == \"precision\":\n",
        "      score = precision_score(y_test, y_pred, average=\"weighted\") #\n",
        "    elif metric == \"recall\":\n",
        "      score = recall_score(y_test, y_pred, average=\"weighted\") #\n",
        "    elif metric == \"f1-score\":\n",
        "      score = f1_score(y_test, y_pred, average=\"weighted\") #\n",
        "    result.append(score) # add score to result list\n",
        "  results.append(result) # add result list to results list\n",
        "\n",
        "# Create table with results\n",
        "table = pd.DataFrame(results, index=models, columns=metrics) # create dataframe with results\n",
        "print(table) # print table\n"
      ]
    },
    {
      "cell_type": "code",
      "execution_count": null,
      "metadata": {
        "id": "PznoCXz5raC9"
      },
      "outputs": [],
      "source": [
        "metrics = [\"accuracy\", \"precision\", \"recall\", \"f1-score\"] # define metrics\n",
        "models = [   \"BERT\"  ] # define models\n",
        "results = [] # initialize results list\n",
        "for y_pred in [  test_predicted_labelsbrt      ]: # iterate over predictions\n",
        "  result = [] # initialize result list for each model\n",
        "  for metric in metrics: # iterate over metrics\n",
        "    if metric == \"accuracy\":\n",
        "      score = accuracy_score(y_test, y_pred) # calculate accuracy\n",
        "    elif metric == \"precision\":\n",
        "      score = precision_score(y_test, y_pred, average=\"weighted\") #\n",
        "    elif metric == \"recall\":\n",
        "      score = recall_score(y_test, y_pred, average=\"weighted\") #\n",
        "    elif metric == \"f1-score\":\n",
        "      score = f1_score(y_test, y_pred, average=\"weighted\") #\n",
        "    result.append(score) # add score to result list\n",
        "  results.append(result) # add result list to results list\n",
        "\n",
        "# Create table with results\n",
        "table = pd.DataFrame(results, index=models, columns=metrics) # create dataframe with results\n",
        "print(table) # print table\n"
      ]
    },
    {
      "cell_type": "code",
      "execution_count": null,
      "metadata": {
        "id": "-1F9HIrUgNJO"
      },
      "outputs": [],
      "source": []
    },
    {
      "cell_type": "code",
      "execution_count": null,
      "metadata": {
        "id": "3nvViXlQgNJO"
      },
      "outputs": [],
      "source": []
    },
    {
      "cell_type": "code",
      "execution_count": null,
      "metadata": {
        "id": "NhxLV1p-IVtw"
      },
      "outputs": [],
      "source": []
    },
    {
      "cell_type": "code",
      "execution_count": null,
      "metadata": {
        "id": "wVkuyB_cMv9s"
      },
      "outputs": [],
      "source": []
    },
    {
      "cell_type": "code",
      "execution_count": null,
      "metadata": {
        "id": "D__506NiMwFa"
      },
      "outputs": [],
      "source": []
    },
    {
      "cell_type": "code",
      "execution_count": null,
      "metadata": {
        "id": "Ns_RYOdFd48x"
      },
      "outputs": [],
      "source": []
    },
    {
      "cell_type": "code",
      "execution_count": null,
      "metadata": {
        "id": "5oISgfL_wOm4"
      },
      "outputs": [],
      "source": []
    },
    {
      "cell_type": "code",
      "execution_count": null,
      "metadata": {
        "id": "IoSjnu0irIE-"
      },
      "outputs": [],
      "source": []
    },
    {
      "cell_type": "code",
      "execution_count": null,
      "metadata": {
        "id": "9KewMrWMrEBI"
      },
      "outputs": [],
      "source": []
    },
    {
      "cell_type": "code",
      "execution_count": null,
      "metadata": {
        "id": "PZN7xJWZrEE2"
      },
      "outputs": [],
      "source": []
    },
    {
      "cell_type": "code",
      "execution_count": null,
      "metadata": {
        "id": "icGEFOmWrEH6"
      },
      "outputs": [],
      "source": []
    },
    {
      "cell_type": "code",
      "execution_count": null,
      "metadata": {
        "id": "lJNAykeZrELN"
      },
      "outputs": [],
      "source": []
    },
    {
      "cell_type": "code",
      "execution_count": null,
      "metadata": {
        "id": "-Oyk4ZjgrEOO"
      },
      "outputs": [],
      "source": []
    },
    {
      "cell_type": "code",
      "execution_count": null,
      "metadata": {
        "id": "OQmBKr7rrESQ"
      },
      "outputs": [],
      "source": []
    },
    {
      "cell_type": "code",
      "execution_count": null,
      "metadata": {
        "id": "_RRPSiGqrEWc"
      },
      "outputs": [],
      "source": []
    },
    {
      "cell_type": "code",
      "execution_count": null,
      "metadata": {
        "id": "bzz7povfrEaf"
      },
      "outputs": [],
      "source": []
    },
    {
      "cell_type": "code",
      "execution_count": null,
      "metadata": {
        "id": "9NCbdo_0rEdz"
      },
      "outputs": [],
      "source": []
    },
    {
      "cell_type": "code",
      "execution_count": null,
      "metadata": {
        "id": "OyyEWjUurEhc"
      },
      "outputs": [],
      "source": []
    },
    {
      "cell_type": "code",
      "execution_count": null,
      "metadata": {
        "id": "iMCYd9fprElM"
      },
      "outputs": [],
      "source": []
    },
    {
      "cell_type": "code",
      "execution_count": null,
      "metadata": {
        "id": "5oiLU6wOrEpL"
      },
      "outputs": [],
      "source": []
    },
    {
      "cell_type": "code",
      "execution_count": null,
      "metadata": {
        "id": "DQ6ocd_krEtS"
      },
      "outputs": [],
      "source": []
    },
    {
      "cell_type": "code",
      "execution_count": null,
      "metadata": {
        "id": "B8fn-maBrEwj"
      },
      "outputs": [],
      "source": []
    },
    {
      "cell_type": "code",
      "execution_count": null,
      "metadata": {
        "id": "QewVlMbSrE0J"
      },
      "outputs": [],
      "source": []
    },
    {
      "cell_type": "code",
      "execution_count": null,
      "metadata": {
        "id": "RxVmtU_zrE4F"
      },
      "outputs": [],
      "source": []
    },
    {
      "cell_type": "code",
      "execution_count": null,
      "metadata": {
        "id": "7NTEo2ixrE7h"
      },
      "outputs": [],
      "source": []
    },
    {
      "cell_type": "code",
      "execution_count": null,
      "metadata": {
        "id": "5a-9oZVxrFAC"
      },
      "outputs": [],
      "source": []
    },
    {
      "cell_type": "code",
      "execution_count": null,
      "metadata": {
        "id": "crW92FRdrFE2"
      },
      "outputs": [],
      "source": []
    },
    {
      "cell_type": "code",
      "execution_count": null,
      "metadata": {
        "id": "yAUdILhHrFIV"
      },
      "outputs": [],
      "source": []
    },
    {
      "cell_type": "code",
      "execution_count": null,
      "metadata": {
        "id": "9ViiamoirFL4"
      },
      "outputs": [],
      "source": []
    },
    {
      "cell_type": "code",
      "execution_count": null,
      "metadata": {
        "id": "9eN0FYeprFQA"
      },
      "outputs": [],
      "source": []
    },
    {
      "cell_type": "code",
      "execution_count": null,
      "metadata": {
        "id": "xAJqNozTrFS7"
      },
      "outputs": [],
      "source": []
    },
    {
      "cell_type": "code",
      "execution_count": null,
      "metadata": {
        "id": "UPIEbdFPrFWP"
      },
      "outputs": [],
      "source": []
    },
    {
      "cell_type": "code",
      "execution_count": null,
      "metadata": {
        "id": "FiwKNMXtrFZn"
      },
      "outputs": [],
      "source": []
    },
    {
      "cell_type": "code",
      "execution_count": null,
      "metadata": {
        "id": "n8vSjEEurFc7"
      },
      "outputs": [],
      "source": []
    },
    {
      "cell_type": "code",
      "execution_count": null,
      "metadata": {
        "id": "GtZUA4XdrFgl"
      },
      "outputs": [],
      "source": []
    },
    {
      "cell_type": "code",
      "execution_count": null,
      "metadata": {
        "id": "toAaUTH9rFk1"
      },
      "outputs": [],
      "source": []
    },
    {
      "cell_type": "code",
      "execution_count": null,
      "metadata": {
        "id": "KJ2kARgalpJi"
      },
      "outputs": [],
      "source": []
    },
    {
      "cell_type": "code",
      "execution_count": null,
      "metadata": {
        "id": "0pmHF9KDlpMv"
      },
      "outputs": [],
      "source": []
    },
    {
      "cell_type": "code",
      "execution_count": null,
      "metadata": {
        "id": "irBLDO1ilA3Q"
      },
      "outputs": [],
      "source": []
    },
    {
      "cell_type": "code",
      "execution_count": null,
      "metadata": {
        "id": "4JgWkPpKlA56"
      },
      "outputs": [],
      "source": []
    },
    {
      "cell_type": "code",
      "execution_count": null,
      "metadata": {
        "id": "TXS6ys9Akq00"
      },
      "outputs": [],
      "source": []
    },
    {
      "cell_type": "code",
      "execution_count": null,
      "metadata": {
        "id": "oUdcR-Sukq33"
      },
      "outputs": [],
      "source": []
    },
    {
      "cell_type": "code",
      "execution_count": null,
      "metadata": {
        "id": "O14oI9ezkq6t"
      },
      "outputs": [],
      "source": []
    },
    {
      "cell_type": "code",
      "execution_count": null,
      "metadata": {
        "id": "vcbh8GCmgNJh"
      },
      "outputs": [],
      "source": []
    },
    {
      "cell_type": "code",
      "execution_count": null,
      "metadata": {
        "id": "ZlBrrNsbgNJi"
      },
      "outputs": [],
      "source": []
    },
    {
      "cell_type": "code",
      "execution_count": null,
      "metadata": {
        "id": "uX1NXgOqgNJi"
      },
      "outputs": [],
      "source": []
    },
    {
      "cell_type": "code",
      "execution_count": null,
      "metadata": {
        "id": "zkucUlNagNJi"
      },
      "outputs": [],
      "source": []
    },
    {
      "cell_type": "code",
      "execution_count": null,
      "metadata": {
        "id": "Ft4u7cBcgNJj"
      },
      "outputs": [],
      "source": []
    },
    {
      "cell_type": "code",
      "execution_count": null,
      "metadata": {
        "id": "qVPXDdVvgNJj"
      },
      "outputs": [],
      "source": []
    },
    {
      "cell_type": "code",
      "execution_count": null,
      "metadata": {
        "id": "NInW-jeLgNJj"
      },
      "outputs": [],
      "source": []
    },
    {
      "cell_type": "code",
      "execution_count": null,
      "metadata": {
        "id": "VLpq538JgNJk"
      },
      "outputs": [],
      "source": []
    },
    {
      "cell_type": "code",
      "execution_count": null,
      "metadata": {
        "id": "sRU4Q-emgNJk"
      },
      "outputs": [],
      "source": []
    },
    {
      "cell_type": "code",
      "execution_count": null,
      "metadata": {
        "id": "Wn850tecgNJk"
      },
      "outputs": [],
      "source": []
    },
    {
      "cell_type": "code",
      "execution_count": null,
      "metadata": {
        "id": "gpWu2WjrgNJk"
      },
      "outputs": [],
      "source": []
    },
    {
      "cell_type": "code",
      "execution_count": null,
      "metadata": {
        "id": "Gerq3iY9gNJk"
      },
      "outputs": [],
      "source": []
    },
    {
      "cell_type": "code",
      "execution_count": null,
      "metadata": {
        "id": "5M2NHErDgNJk"
      },
      "outputs": [],
      "source": []
    },
    {
      "cell_type": "code",
      "execution_count": null,
      "metadata": {
        "id": "NpiOV9q2gNJk"
      },
      "outputs": [],
      "source": []
    },
    {
      "cell_type": "code",
      "execution_count": null,
      "metadata": {
        "id": "YLiQL0FWgNJl"
      },
      "outputs": [],
      "source": []
    },
    {
      "cell_type": "code",
      "execution_count": null,
      "metadata": {
        "id": "gRFN3KjhgNJl"
      },
      "outputs": [],
      "source": []
    },
    {
      "cell_type": "code",
      "execution_count": null,
      "metadata": {
        "id": "2i66a9NOgNJl"
      },
      "outputs": [],
      "source": []
    },
    {
      "cell_type": "code",
      "execution_count": null,
      "metadata": {
        "id": "k1Ouq3q8gNJm"
      },
      "outputs": [],
      "source": []
    },
    {
      "cell_type": "code",
      "execution_count": null,
      "metadata": {
        "id": "bkJ0QTJSgNJm"
      },
      "outputs": [],
      "source": []
    },
    {
      "cell_type": "code",
      "execution_count": null,
      "metadata": {
        "id": "RuF_cpR5gNJm"
      },
      "outputs": [],
      "source": []
    },
    {
      "cell_type": "code",
      "execution_count": null,
      "metadata": {
        "id": "qlOz2rxcgNJm"
      },
      "outputs": [],
      "source": []
    },
    {
      "cell_type": "code",
      "execution_count": null,
      "metadata": {
        "id": "AY95aG3TgNJm"
      },
      "outputs": [],
      "source": []
    },
    {
      "cell_type": "code",
      "execution_count": null,
      "metadata": {
        "id": "SwCCn-SDgNJm"
      },
      "outputs": [],
      "source": []
    },
    {
      "cell_type": "code",
      "execution_count": null,
      "metadata": {
        "id": "NQp2Uxx7gNJm"
      },
      "outputs": [],
      "source": []
    },
    {
      "cell_type": "code",
      "execution_count": null,
      "metadata": {
        "id": "LClMkr7AgNJn"
      },
      "outputs": [],
      "source": []
    },
    {
      "cell_type": "code",
      "execution_count": null,
      "metadata": {
        "id": "HCsJeCA6gNJn"
      },
      "outputs": [],
      "source": []
    },
    {
      "cell_type": "code",
      "execution_count": null,
      "metadata": {
        "id": "FBptPBpIgNJn"
      },
      "outputs": [],
      "source": []
    },
    {
      "cell_type": "code",
      "execution_count": null,
      "metadata": {
        "id": "AdnnBWA7gNJn"
      },
      "outputs": [],
      "source": []
    },
    {
      "cell_type": "code",
      "execution_count": null,
      "metadata": {
        "id": "2N8fwYrggNJn"
      },
      "outputs": [],
      "source": []
    },
    {
      "cell_type": "code",
      "execution_count": null,
      "metadata": {
        "id": "gHdis-u8gNJn"
      },
      "outputs": [],
      "source": []
    },
    {
      "cell_type": "code",
      "execution_count": null,
      "metadata": {
        "id": "Iblc7TNngNJn"
      },
      "outputs": [],
      "source": []
    },
    {
      "cell_type": "code",
      "execution_count": null,
      "metadata": {
        "id": "YcpVbQlvgNJn"
      },
      "outputs": [],
      "source": []
    },
    {
      "cell_type": "code",
      "execution_count": null,
      "metadata": {
        "id": "_cppmr3IgNJn"
      },
      "outputs": [],
      "source": []
    },
    {
      "cell_type": "code",
      "execution_count": null,
      "metadata": {
        "id": "EpYECqG2gNJo"
      },
      "outputs": [],
      "source": []
    },
    {
      "cell_type": "code",
      "execution_count": null,
      "metadata": {
        "id": "RYx1ERe8gNJo"
      },
      "outputs": [],
      "source": []
    },
    {
      "cell_type": "code",
      "execution_count": null,
      "metadata": {
        "id": "Hanxo98rgNJo"
      },
      "outputs": [],
      "source": []
    },
    {
      "cell_type": "code",
      "execution_count": null,
      "metadata": {
        "id": "kZlRR87cgNJo"
      },
      "outputs": [],
      "source": []
    },
    {
      "cell_type": "code",
      "execution_count": null,
      "metadata": {
        "id": "sJdmalDVgNJo"
      },
      "outputs": [],
      "source": []
    },
    {
      "cell_type": "code",
      "execution_count": null,
      "metadata": {
        "id": "dns1KAkFgNJo"
      },
      "outputs": [],
      "source": []
    },
    {
      "cell_type": "code",
      "execution_count": null,
      "metadata": {
        "id": "R71yOnMxgNJo"
      },
      "outputs": [],
      "source": []
    },
    {
      "cell_type": "code",
      "execution_count": null,
      "metadata": {
        "id": "odLerJvFgNJo"
      },
      "outputs": [],
      "source": []
    },
    {
      "cell_type": "code",
      "execution_count": null,
      "metadata": {
        "id": "FTagHUlwgNJp"
      },
      "outputs": [],
      "source": []
    },
    {
      "cell_type": "code",
      "execution_count": null,
      "metadata": {
        "id": "RY6nI58SgNJp"
      },
      "outputs": [],
      "source": []
    },
    {
      "cell_type": "code",
      "execution_count": null,
      "metadata": {
        "id": "CeV1p5THgNJq"
      },
      "outputs": [],
      "source": []
    },
    {
      "cell_type": "code",
      "execution_count": null,
      "metadata": {
        "id": "NgXh82pQgNJq"
      },
      "outputs": [],
      "source": []
    },
    {
      "cell_type": "code",
      "execution_count": null,
      "metadata": {
        "id": "HrMgxdWygNJq"
      },
      "outputs": [],
      "source": []
    },
    {
      "cell_type": "code",
      "execution_count": null,
      "metadata": {
        "id": "1z68GDiqgNJr"
      },
      "outputs": [],
      "source": []
    },
    {
      "cell_type": "code",
      "execution_count": null,
      "metadata": {
        "id": "gMImtsuqgNJr"
      },
      "outputs": [],
      "source": []
    },
    {
      "cell_type": "code",
      "execution_count": null,
      "metadata": {
        "id": "5fwypj4fgNJr"
      },
      "outputs": [],
      "source": []
    },
    {
      "cell_type": "code",
      "execution_count": null,
      "metadata": {
        "id": "fTgCJ385gNJr"
      },
      "outputs": [],
      "source": []
    },
    {
      "cell_type": "code",
      "execution_count": null,
      "metadata": {
        "id": "AmduFFMWgNJr"
      },
      "outputs": [],
      "source": []
    },
    {
      "cell_type": "code",
      "execution_count": null,
      "metadata": {
        "id": "Z2vADMPvgNJr"
      },
      "outputs": [],
      "source": []
    },
    {
      "cell_type": "code",
      "execution_count": null,
      "metadata": {
        "id": "PtxDUFyFgNJr"
      },
      "outputs": [],
      "source": []
    },
    {
      "cell_type": "code",
      "execution_count": null,
      "metadata": {
        "id": "yVgpbQnNgNJr"
      },
      "outputs": [],
      "source": []
    }
  ],
  "metadata": {
    "accelerator": "GPU",
    "colab": {
      "gpuType": "T4",
      "machine_shape": "hm",
      "provenance": []
    },
    "kaggle": {
      "accelerator": "none",
      "dataSources": [],
      "isGpuEnabled": false,
      "isInternetEnabled": true,
      "language": "python",
      "sourceType": "notebook"
    },
    "kernelspec": {
      "display_name": "py311",
      "language": "python",
      "name": "python3"
    },
    "language_info": {
      "codemirror_mode": {
        "name": "ipython",
        "version": 3
      },
      "file_extension": ".py",
      "mimetype": "text/x-python",
      "name": "python",
      "nbconvert_exporter": "python",
      "pygments_lexer": "ipython3",
      "version": "3.11.11"
    }
  },
  "nbformat": 4,
  "nbformat_minor": 0
}
