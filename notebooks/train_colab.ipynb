{
 "cells": [
  {
   "cell_type": "markdown",
   "metadata": {},
   "source": [
    "# Run Training Step in Colab\n",
    "\n",
    "This notebook imports artifacts from a local pipeline run and executes the training step in Colab."
   ]
  },
  {
   "cell_type": "code",
   "execution_count": 2,
   "metadata": {},
   "outputs": [
    {
     "name": "stdout",
     "output_type": "stream",
     "text": [
      "1.26.4\n"
     ]
    }
   ],
   "source": [
    "import numpy\n",
    "print(numpy.__version__)"
   ]
  },
  {
   "cell_type": "code",
   "execution_count": null,
   "metadata": {},
   "outputs": [],
   "source": [
    "# Mount Google Drive\n",
    "from google.colab import drive\n",
    "drive.mount('/content/drive')"
   ]
  },
  {
   "cell_type": "code",
   "execution_count": null,
   "metadata": {},
   "outputs": [],
   "source": [
    "# Install ZenML and required packages\n",
    "!pip install zenml transformers torch pandas scikit-learn"
   ]
  },
  {
   "cell_type": "code",
   "execution_count": null,
   "metadata": {},
   "outputs": [],
   "source": [
    "# Clone your repository\n",
    "!git clone https://github.com/mlworkflow/class_llm.git\n",
    "%cd class_llm"
   ]
  },
  {
   "cell_type": "code",
   "execution_count": null,
   "metadata": {},
   "outputs": [],
   "source": [
    "# Initialize ZenML and set up the stack\n",
    "!zenml init\n",
    "!zenml project register class_llm --set\n",
    "\n",
    "# Connect to the same stack used locally\n",
    "# Update the paths to match your Google Drive setup\n",
    "!zenml artifact-store register gdrive_artifact_store --flavor=local --path=/content/drive/MyDrive/zenml/artifacts\n",
    "!zenml integration install mlflow -y\n",
    "!zenml experiment-tracker register mlflow_experiment_tracker --flavor=mlflow\n",
    "!zenml stack register colab_stack --artifact-store=gdrive_artifact_store --orchestrator=default  -e mlflow_experiment_tracker --set"
   ]
  },
  {
   "cell_type": "code",
   "execution_count": null,
   "metadata": {},
   "outputs": [],
   "source": [
    "# Run the Colab pipeline\n",
    "import sys\n",
    "from pathlib import Path\n",
    "sys.path.append('.')\n",
    "\n",
    "from pipeline.training_short4colab import colab_pipeline\n",
    "\n",
    "# Replace with your actual run ID from the local pipeline\n",
    "LOCAL_PIPELINE_RUN_ID = \"2d9418be-cdac-4994-9f81-b76100695e9f\"\n",
    "\n",
    "# Run the pipeline\n",
    "run = colab_pipeline(run_id=LOCAL_PIPELINE_RUN_ID)"
   ]
  }
 ],
 "metadata": {
  "kernelspec": {
   "display_name": "py311",
   "language": "python",
   "name": "python3"
  },
  "language_info": {
   "codemirror_mode": {
    "name": "ipython",
    "version": 3
   },
   "file_extension": ".py",
   "mimetype": "text/x-python",
   "name": "python",
   "nbconvert_exporter": "python",
   "pygments_lexer": "ipython3",
   "version": "3.11.11"
  }
 },
 "nbformat": 4,
 "nbformat_minor": 2
}
